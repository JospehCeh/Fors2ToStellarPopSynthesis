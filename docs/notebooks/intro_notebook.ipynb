{
 "cells": [
  {
   "cell_type": "markdown",
   "id": "accepting-editor",
   "metadata": {
    "cell_marker": "\"\"\""
   },
   "source": [
    "# Introducing Jupyter Notebooks"
   ]
  },
  {
   "cell_type": "markdown",
   "id": "4bd6f9a0-2083-422a-aa08-6a532f998465",
   "metadata": {},
   "source": [
    "## Filters module"
   ]
  },
  {
   "cell_type": "markdown",
   "id": "f836346c-5465-4943-adb9-30e39612dc1b",
   "metadata": {},
   "source": [
    "-[test filters](filters/ViewFilters.ipynb)"
   ]
  },
  {
   "cell_type": "code",
   "execution_count": null,
   "id": "ffffb335-3381-4505-9216-370fc04ddb08",
   "metadata": {},
   "outputs": [],
   "source": []
  }
 ],
 "metadata": {
  "jupytext": {
   "cell_markers": "\"\"\""
  },
  "kernelspec": {
   "display_name": "Python 3 (ipykernel)",
   "language": "python",
   "name": "python3"
  },
  "language_info": {
   "codemirror_mode": {
    "name": "ipython",
    "version": 3
   },
   "file_extension": ".py",
   "mimetype": "text/x-python",
   "name": "python",
   "nbconvert_exporter": "python",
   "pygments_lexer": "ipython3",
   "version": "3.10.13"
  }
 },
 "nbformat": 4,
 "nbformat_minor": 5
}
