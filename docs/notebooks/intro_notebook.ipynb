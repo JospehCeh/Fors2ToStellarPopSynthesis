{
 "cells": [
  {
   "cell_type": "markdown",
   "id": "accepting-editor",
   "metadata": {
    "cell_marker": "\"\"\""
   },
   "source": [
    "# Introducing Jupyter Notebooks"
   ]
  },
  {
   "cell_type": "markdown",
   "id": "4bd6f9a0-2083-422a-aa08-6a532f998465",
   "metadata": {},
   "source": [
    "## Filters module"
   ]
  },
  {
   "cell_type": "markdown",
   "id": "f836346c-5465-4943-adb9-30e39612dc1b",
   "metadata": {},
   "source": [
    "- [Test filters for Galex, SDSS-KIDS and VISTA](filters/ViewFilters.ipynb)"
   ]
  },
  {
   "cell_type": "markdown",
   "id": "48008ac0-6faa-40d2-9b7d-cff2bf4a1685",
   "metadata": {},
   "source": [
    "## Fors2 and Starlight IO interfaces Module"
   ]
  },
  {
   "cell_type": "markdown",
   "id": "398cc34d-bf39-447b-832d-f2289d72443a",
   "metadata": {},
   "source": [
    "- [Test IO interfaces for Fors2 and StarLight data files](fors2starlightio/test_fors2starlightio.ipynb)\n",
    "\n",
    "- [View Fors2 Spectrum Notebooks](fors2starlightio/ViewAllFors2OneSpec_noscaling.ipynb)\n",
    "- [View All Fors2 Spectra rescaled Notebooks](fors2starlightio/ViewAllFors2OneSpec_rescaling.ipynb)"
   ]
  },
  {
   "cell_type": "markdown",
   "id": "85a65ff9-3727-48f6-adef-a2497652bd84",
   "metadata": {},
   "source": [
    "## Parameters Module "
   ]
  },
  {
   "cell_type": "markdown",
   "id": "54c425f5-fb99-4930-9a90-06f6cb1c3347",
   "metadata": {},
   "source": [
    "- [Test parameters module](parameters/test_parameters.ipynb)"
   ]
  },
  {
   "cell_type": "markdown",
   "id": "e32bb99c-2bb9-476a-a9c9-ec6f3cb506fa",
   "metadata": {},
   "source": [
    "## Fit spectra"
   ]
  },
  {
   "cell_type": "markdown",
   "id": "dc0261a8-bf2a-4c16-9f9f-8f120477fdea",
   "metadata": {},
   "source": [
    "\n",
    "- [Fit single spectrum with all functions inside nb](fitters/FitFors2OneSpec.ipynb)\n",
    "- [Fit single spectrum with all functions inside fors2 lib](fitters/FitFors2OneSpecShort.ipynb)\n",
    "- [Fit many Spectra Notebooks](fitters/FitFors2ManySpecLoop.ipynb)"
   ]
  },
  {
   "cell_type": "markdown",
   "id": "8ecbee86-43aa-41ba-8796-ace13f79967a",
   "metadata": {},
   "source": [
    "## Merge Fit results into a single files"
   ]
  },
  {
   "cell_type": "markdown",
   "id": "91bc10d2-6ff8-4b39-9193-fdc764a3aec4",
   "metadata": {},
   "source": [
    "- [Merge all fitted results in a dataframe in  a csv file](fitters/MergeFitParams.ipynb)"
   ]
  },
  {
   "cell_type": "code",
   "execution_count": null,
   "id": "ff433765-0192-4a07-91e2-dc6f635b4e25",
   "metadata": {},
   "outputs": [],
   "source": []
  }
 ],
 "metadata": {
  "jupytext": {
   "cell_markers": "\"\"\""
  },
  "kernelspec": {
   "display_name": "Python 3 (ipykernel)",
   "language": "python",
   "name": "python3"
  },
  "language_info": {
   "codemirror_mode": {
    "name": "ipython",
    "version": 3
   },
   "file_extension": ".py",
   "mimetype": "text/x-python",
   "name": "python",
   "nbconvert_exporter": "python",
   "pygments_lexer": "ipython3",
   "version": "3.10.13"
  }
 },
 "nbformat": 4,
 "nbformat_minor": 5
}
