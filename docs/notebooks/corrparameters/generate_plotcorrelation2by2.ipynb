{
 "cells": [
  {
   "cell_type": "markdown",
   "id": "661a0254-d1ce-452e-af01-3e5143dac398",
   "metadata": {},
   "source": [
    "# Generate quickly a large number of parameters thus spectra, compoting D4000 and plot correlation of D4000 with varying parameter"
   ]
  },
  {
   "cell_type": "markdown",
   "id": "ae1e5e1e-8c8f-41b3-b02c-388399f98b2f",
   "metadata": {},
   "source": [
    "\n",
    "\n",
    "- Author Sylvie Dagoret-Campagne\n",
    "- Afflilation : IJCLab/IN2P3/CNRS\n",
    "- Organisation : LSST-DESC\n",
    "- creation date : 2023-12-09\n",
    "- last update : 2023-12-10"
   ]
  },
  {
   "cell_type": "markdown",
   "id": "c7d6258e-39da-41ba-bde3-4fa2a24a8e9f",
   "metadata": {},
   "source": [
    "\n",
    "| computer | processor | kernel              |    date     |\n",
    "| --- | --- | --- | --- |\n",
    "| CC       | CPU       | conda_jax0325_py310 | 2023-11-10  |\n",
    "| macbookpro | CPU | conda_jaxcpu_dsps_py310 | 2023-11-10  | \n",
    "\n",
    "\n",
    "libraries \n",
    "=========\n",
    "\n",
    "jax\n",
    "---\n",
    "\n",
    "- jaxlib-0.3.25+cuda11.cudnn82\n",
    "- jaxopt\n",
    "- optax\n",
    "- corner\n",
    "- arviz\n",
    "- numpyro\n",
    "- graphviz\n",
    "\n",
    "sps\n",
    "---\n",
    "\n",
    "- fsps\n",
    "- prospect\n",
    "- dsps\n",
    "- diffstar\n",
    "- diffmah\n",
    "\n",
    "\n",
    "\n",
    "(conda_jax0325_py310) \n",
    "`/pbs/throng/lsst/users/dagoret/desc/StellarPopulationSynthesis>pip list | grep` \n",
    "\n",
    "| lib | version |\n",
    "|--- | --- | \n",
    "|jax  |                         0.4.20 |\n",
    "|jaxlib |                       0.4.20 |\n",
    "|jaxopt  |                      0.8.2 |\n",
    "\n"
   ]
  },
  {
   "cell_type": "markdown",
   "id": "7376715d-2b8d-4db3-99f0-8191a84a7a8f",
   "metadata": {},
   "source": [
    "## examples\n",
    "\n",
    "- jaxcosmo : https://github.com/DifferentiableUniverseInitiative/jax-cosmo-paper/blob/master/notebooks/VectorizedNumPyro.ipynb\n",
    "- on atmosphere : https://github.com/sylvielsstfr/FitDiffAtmo/blob/main/docs/notebooks/fitdiffatmo/test_numpyro_orderedict_diffatmemul_5params_P_pwv_oz_tau_beta.ipynb"
   ]
  },
  {
   "cell_type": "markdown",
   "id": "52f82817-2f0a-438d-b2dd-e98deda88853",
   "metadata": {},
   "source": [
    "## Import"
   ]
  },
  {
   "cell_type": "markdown",
   "id": "c65534cb-1b8d-459e-9b7c-00e28a347c93",
   "metadata": {},
   "source": [
    "### import external packages"
   ]
  },
  {
   "cell_type": "code",
   "execution_count": null,
   "id": "230608b3-78da-46d1-95e6-3ea0430fe0bb",
   "metadata": {},
   "outputs": [],
   "source": [
    "import h5py\n",
    "import pandas as pd\n",
    "import numpy as np\n",
    "import os\n",
    "import re\n",
    "import pickle \n",
    "import matplotlib as mpl\n",
    "import matplotlib.pyplot as plt\n",
    "%matplotlib inline\n",
    "import matplotlib.colors as colors\n",
    "import matplotlib.cm as cmx\n",
    "\n",
    "from mpl_toolkits.axes_grid1.inset_locator import inset_axes, zoomed_inset_axes\n",
    "\n",
    "#import seaborn as sns\n",
    "#sns.set_theme(style='white')\n",
    "import collections\n",
    "from collections import OrderedDict\n",
    "import re\n",
    "import matplotlib.gridspec as gridspec\n",
    "from sklearn.gaussian_process import GaussianProcessRegressor, kernels\n",
    "import itertools"
   ]
  },
  {
   "cell_type": "code",
   "execution_count": null,
   "id": "f43bc2a4-7ade-48ed-b8ff-9695651cbb6c",
   "metadata": {},
   "outputs": [],
   "source": [
    "import jax\n",
    "import jax.numpy as jnp\n",
    "from jax import vmap\n",
    "import jaxopt\n",
    "import optax\n",
    "jax.config.update(\"jax_enable_x64\", True)\n",
    "from interpax import interp1d\n",
    "\n",
    "from jax.lax import fori_loop\n",
    "from jax.lax import select,cond\n",
    "from jax.lax import concatenate"
   ]
  },
  {
   "cell_type": "code",
   "execution_count": null,
   "id": "fc9a9ab4-e679-460c-8991-87dca282b82c",
   "metadata": {},
   "outputs": [],
   "source": [
    "import numpyro\n",
    "from numpyro import optim\n",
    "from numpyro.diagnostics import print_summary\n",
    "import numpyro.distributions as dist\n",
    "from numpyro.distributions import constraints\n",
    "from numpyro.infer import MCMC, HMC, NUTS, SVI, Trace_ELBO\n",
    "from numpyro.infer.autoguide import AutoBNAFNormal, AutoMultivariateNormal\n",
    "from numpyro.infer.reparam import NeuTraReparam\n",
    "from numpyro.handlers import seed, trace, condition\n",
    "\n",
    "import corner\n",
    "import arviz as az\n",
    "import arviz.labels as azl"
   ]
  },
  {
   "cell_type": "code",
   "execution_count": null,
   "id": "fbde4d4d-c47a-4124-a1c9-60e81ecd165a",
   "metadata": {},
   "outputs": [],
   "source": [
    "from dsps.cosmology import age_at_z, DEFAULT_COSMOLOGY"
   ]
  },
  {
   "cell_type": "markdown",
   "id": "88cc2b50-5edb-41bb-be36-74822ae3628c",
   "metadata": {},
   "source": [
    "### import internal packages"
   ]
  },
  {
   "cell_type": "code",
   "execution_count": null,
   "id": "fe70e703-79e0-4cd6-8be4-067f072f7aab",
   "metadata": {},
   "outputs": [],
   "source": [
    "from fors2tostellarpopsynthesis.parameters  import SSPParametersFit,paramslist_to_dict"
   ]
  },
  {
   "cell_type": "code",
   "execution_count": null,
   "id": "1bbeeb61-05a9-478d-b300-cc3ccf59f06b",
   "metadata": {},
   "outputs": [],
   "source": [
    "from fors2tostellarpopsynthesis.fitters.fitter_jaxopt import (SSP_DATA,mean_spectrum,mean_mags,mean_sfr,ssp_spectrum_fromparam)"
   ]
  },
  {
   "cell_type": "code",
   "execution_count": null,
   "id": "5b587c81-4485-46ed-915c-a5e06e038dc8",
   "metadata": {},
   "outputs": [],
   "source": [
    "from fors2tostellarpopsynthesis.fitters.fitter_numpyro import(PARAM_SIMLAW_NODUST,PARAM_SIMLAW_WITHDUST,\n",
    "                            PARAM_NAMES,PARAM_VAL,PARAM_MIN,PARAM_MAX,PARAM_SIGMA)\n",
    "\n",
    "from fors2tostellarpopsynthesis.fitters.fitter_numpyro import(galaxymodel_nodust_av,galaxymodel_nodust,galaxymodel_withdust_av,galaxymodel_withdust)"
   ]
  },
  {
   "cell_type": "code",
   "execution_count": null,
   "id": "24a2f50a-ccde-4918-8381-20babbd32605",
   "metadata": {},
   "outputs": [],
   "source": [
    "from fors2tostellarpopsynthesis.fitters.fitter_util import plot_params_kde,calc_ratio"
   ]
  },
  {
   "cell_type": "code",
   "execution_count": null,
   "id": "0465cd4f-fd8b-4552-9d07-9cc95d4060ff",
   "metadata": {},
   "outputs": [],
   "source": [
    "from fors2tostellarpopsynthesis.fors2starlightio import flux_norm"
   ]
  },
  {
   "cell_type": "markdown",
   "id": "98c8a995-a7d4-44b6-b17b-b1affe9dca9b",
   "metadata": {},
   "source": [
    "## Configuration"
   ]
  },
  {
   "cell_type": "code",
   "execution_count": null,
   "id": "06436270-84f4-4893-ab8c-00d414ae30a6",
   "metadata": {},
   "outputs": [],
   "source": [
    "Lyman_lines = [1220., 1030. ,973.,950., 938., 930.]\n",
    "Balmer_lines = [6562.791,4861.351,4340.4721,4101.740,3970.072,3889.0641,3835.3971]\n",
    "Paschen_lines = [8750., 12820., 10938.0,10050., 9546.2, 9229.7,9015.3, 8862.89,8750.46,8665.02]\n",
    "Brackett_lines = [40522.79, 26258.71, 21661.178, 19440., 18179.21]\n",
    "Pfund_lines = [ 74599.0, 46537.8, 37405.76 , 32969.8, 30400.]\n",
    "all_Hydrogen_lines = [ Lyman_lines, Balmer_lines, Paschen_lines, Brackett_lines, Pfund_lines]\n",
    "Color_lines = [\"purple\", \"blue\", \"green\", \"red\",\"grey\"]\n",
    "Balmer_thres = 3645.6\n",
    "Lyman_thres = 911.267\n",
    "Paschen_thres = 8200.\n",
    "Brackett_thres = 14580.\n",
    "Pfund_lines = 22800.\n",
    "all_Hydrogen_thres = [Lyman_thres , Balmer_thres, Paschen_thres, Brackett_thres, Pfund_lines]"
   ]
  },
  {
   "cell_type": "markdown",
   "id": "b3d5815b-0262-4c64-b840-47b8da2b84b1",
   "metadata": {},
   "source": [
    "- D4000\n",
    "Hereafter the 4000 angstrom break is defined as the ratio between the average flux density in ergs−1cm−2Hz−1 between 4050 and 4250 angstrom and that between 3750 and 3950 angstrom (Bruzual 1983)."
   ]
  },
  {
   "cell_type": "code",
   "execution_count": null,
   "id": "f6b741eb-9d85-45b9-9c64-eddec27f4434",
   "metadata": {},
   "outputs": [],
   "source": [
    "D4000_red = [4050.,4250] \n",
    "D4000_blue = [3750.,3950.]\n",
    "\n",
    "W_BALMER = [Balmer_thres, Balmer_lines[0]]\n",
    "W_LYMAN = [Lyman_thres, Lyman_lines[0]]"
   ]
  },
  {
   "cell_type": "code",
   "execution_count": null,
   "id": "cd502395-39c9-48e4-8718-45cc4cce3c11",
   "metadata": {},
   "outputs": [],
   "source": [
    "def plot_hydrogen_lines(ax):\n",
    "    nth = len(all_Hydrogen_thres)\n",
    "    for idx,group_lines in enumerate(all_Hydrogen_lines):\n",
    "        # select on Lyman and Balmer\n",
    "        if idx<2:\n",
    "            color = Color_lines[idx]\n",
    "            for wl_line in group_lines:\n",
    "                ax.axvline(wl_line,color=color)\n",
    "            if idx< nth:\n",
    "                ax.axvline(all_Hydrogen_thres[idx],color=color,linestyle=\":\")\n",
    "    ax.axvspan(W_LYMAN[0],W_LYMAN[1],facecolor='green', alpha=0.2)\n",
    "    ax.axvspan(W_BALMER[0],W_BALMER[1],facecolor='yellow', alpha=0.2)"
   ]
  },
  {
   "cell_type": "code",
   "execution_count": null,
   "id": "98975648-6a5d-48ef-8822-4c4637a6a15a",
   "metadata": {},
   "outputs": [],
   "source": [
    "wl0 = 3645.6"
   ]
  },
  {
   "cell_type": "code",
   "execution_count": null,
   "id": "f14b7126-7aa8-426e-99f5-c65dbdee0427",
   "metadata": {},
   "outputs": [],
   "source": [
    "#sns.color_palette(\"hls\", 100)"
   ]
  },
  {
   "cell_type": "markdown",
   "id": "2b81247d-02a8-4437-a07c-29cf54286fdf",
   "metadata": {},
   "source": [
    "### matplotlib configuration"
   ]
  },
  {
   "cell_type": "code",
   "execution_count": null,
   "id": "96dbd3a3-cfc2-4077-a7f4-729896bb64e5",
   "metadata": {},
   "outputs": [],
   "source": [
    "plt.rcParams[\"figure.figsize\"] = (12,12)\n",
    "plt.rcParams[\"axes.labelsize\"] = 'xx-large'\n",
    "plt.rcParams['axes.titlesize'] = 'xx-large'\n",
    "plt.rcParams['xtick.labelsize']= 'xx-large'\n",
    "plt.rcParams['ytick.labelsize']= 'xx-large'\n",
    "plt.rcParams['legend.fontsize']=  8\n",
    "plt.rcParams['font.size'] = 8"
   ]
  },
  {
   "cell_type": "markdown",
   "id": "eeda3399-e8a9-42a5-856a-26cb98ebb971",
   "metadata": {},
   "source": [
    "## Fit parameters"
   ]
  },
  {
   "cell_type": "code",
   "execution_count": null,
   "id": "10addade-ef1d-4b84-9208-d6f9782efa1b",
   "metadata": {},
   "outputs": [],
   "source": [
    "p = SSPParametersFit()"
   ]
  },
  {
   "cell_type": "code",
   "execution_count": null,
   "id": "dadf61ca-9bc5-4c7a-9204-cf216e13ad4e",
   "metadata": {},
   "outputs": [],
   "source": [
    "PARAM_NAMES = p.PARAM_NAMES_FLAT"
   ]
  },
  {
   "cell_type": "code",
   "execution_count": null,
   "id": "143eed8c-e4f9-4f63-af7e-751eb9e771d0",
   "metadata": {},
   "outputs": [],
   "source": [
    "Z_MIN = 0.1\n",
    "Z_MAX = 5.0\n",
    "NZ = 100\n",
    "all_redshifts = np.logspace(np.log10(Z_MIN),np.log10(Z_MAX),NZ)\n",
    "NZ = len(all_redshifts)"
   ]
  },
  {
   "cell_type": "code",
   "execution_count": null,
   "id": "e8201496-8901-4c95-9788-f62bd6021f1d",
   "metadata": {},
   "outputs": [],
   "source": [
    "bwr_map = plt.get_cmap('bwr')\n",
    "reversed_map = bwr_map.reversed() \n",
    "#cNorm = colors.Normalize(vmin=np.log10(all_fractions).min(), vmax=np.log10(all_fractions).max())\n",
    "#scalarMap = cmx.ScalarMappable(norm=cNorm, cmap=reversed_map)\n",
    "#all_colors = scalarMap.to_rgba(np.log10(all_fractions), alpha=1)\n",
    "cNorm = colors.Normalize(vmin=np.log10(Z_MIN), vmax=np.log10(Z_MAX))\n",
    "scalarMap = cmx.ScalarMappable(norm=cNorm, cmap=bwr_map)\n",
    "all_colors = scalarMap.to_rgba(np.log10(all_redshifts), alpha=1)"
   ]
  },
  {
   "cell_type": "code",
   "execution_count": null,
   "id": "41c62bda-d3aa-4627-9a94-3138e75d3afa",
   "metadata": {},
   "outputs": [],
   "source": [
    "#bwr_map"
   ]
  },
  {
   "cell_type": "code",
   "execution_count": null,
   "id": "488c7880-05cd-4c42-9fa8-54851fe3cde7",
   "metadata": {},
   "outputs": [],
   "source": [
    "D4000MIN = 1.0\n",
    "D4000MAX = 2.0\n",
    "BLMIN = 0.8\n",
    "BLMAX = 4."
   ]
  },
  {
   "cell_type": "code",
   "execution_count": null,
   "id": "2522ba0d-a733-4c13-bf8e-5f55b1745882",
   "metadata": {},
   "outputs": [],
   "source": [
    "fig = plt.figure(figsize=(10,5))\n",
    "\n",
    "ax = fig.add_subplot()\n",
    "\n",
    "ax.set_xscale('log')\n",
    "ax.set_yscale('log')\n",
    "\n",
    "all_d4000 = np.zeros(NZ)\n",
    "all_dBL = np.zeros(NZ)\n",
    "for idx,z_obs in enumerate(all_redshifts): \n",
    "    wlsall,spec_rest,spec_rest_att = ssp_spectrum_fromparam(p.DICT_PARAMS_true,z_obs)\n",
    "    \n",
    "\n",
    "    #norm_y_nodust = flux_norm(x,y_nodust,wlcenter=wl0)\n",
    "    #norm_y_dust = flux_norm(x,y_dust,wlcenter=wl0)\n",
    "\n",
    "    all_d4000[idx] = calc_ratio(wlsall,spec_rest)\n",
    "    all_dBL[idx] = calc_ratio(wlsall,spec_rest,W_LYMAN ,W_BALMER )  \n",
    "    label = f\"z={z_obs:.2f}\"\n",
    "    ax.plot(wlsall,spec_rest,alpha=0.5,lw=2,color=all_colors[idx],label=label)\n",
    "ax.set_ylabel(\"DSPS SED $F_\\\\nu$\")\n",
    "ax.set_xlabel(\"$\\\\lambda (\\AA)$\")\n",
    "ax.set_xlim(1e2,1e5)\n",
    "plot_hydrogen_lines(ax)\n",
    "title = f\"$F_\\\\nu(\\lambda)$ by varying redshift\"\n",
    "ax.set_title(title)\n",
    "#ax.legend(loc=\"upper right\")\n",
    "cbar=fig.colorbar(scalarMap , ax=ax)\n",
    "cbar.ax.set_ylabel('$\\log_{10} (z)$')\n",
    "\n",
    "left, bottom, width, height = [0.16, 0.66, 0.15, 0.2]\n",
    "ax2 = fig.add_axes([left, bottom, width, height])\n",
    "ax2.hist(all_d4000,bins=20,range=(D4000MIN,D4000MAX),facecolor=\"g\",alpha=0.2)\n",
    "ax2.set_xlabel(\"D4000\",fontsize=8)\n",
    "\n",
    "left, bottom, width, height = [0.16, 0.2, 0.15, 0.2]\n",
    "ax3 = fig.add_axes([left, bottom, width, height])\n",
    "ax3.hist(np.log10(all_dBL),bins=20,range=(BLMIN,BLMAX),facecolor=\"g\",alpha=0.2)\n",
    "ax3.set_xlabel(\"Balmer/Lyman\",fontsize=8)"
   ]
  },
  {
   "cell_type": "code",
   "execution_count": null,
   "id": "8f1f30e9-ac19-4457-bb65-79b23bcd3344",
   "metadata": {},
   "outputs": [],
   "source": [
    "fig = plt.figure(figsize=(10,5))\n",
    "\n",
    "ax = fig.add_subplot()\n",
    "\n",
    "ax.set_xscale('log')\n",
    "ax.set_yscale('log')\n",
    "\n",
    "inset_ax = inset_axes(ax,\n",
    "                    width=\"30%\", # width = 30% of parent_bbox\n",
    "                    height=\"30%\", # height : 1 inch\n",
    "                    loc=4,borderpad=3)\n",
    "inset_ax.set_title(\"Star Formation History\",fontsize=10)\n",
    "inset_ax.set_xlabel(r'${\\rm cosmic\\ time\\ [Gyr]}$',fontsize=8)\n",
    "inset_ax.set_ylabel(r'${\\rm SFR\\ [M_{\\odot}/yr]}$',fontsize=8)\n",
    "\n",
    "all_d4000 = np.zeros(NZ)\n",
    "all_dBL = np.zeros(NZ)\n",
    "for idx,z_obs in enumerate(all_redshifts): \n",
    "    wlsall,spec_rest,spec_rest_att = ssp_spectrum_fromparam(p.DICT_PARAMS_true,z_obs)\n",
    "    tarr,sfh_gal = mean_sfr(p.DICT_PARAMS_true,z_obs)\n",
    "\n",
    "    x = wlsall\n",
    "    y_nodust = spec_rest\n",
    "    y_dust = spec_rest_att \n",
    "    norm_y_nodust = flux_norm(x,y_nodust,wlcenter=wl0)\n",
    "    norm_y_dust = flux_norm(x,y_dust,wlcenter=wl0)\n",
    "\n",
    "    all_d4000[idx] = calc_ratio(wlsall,spec_rest)\n",
    "    all_dBL[idx] = calc_ratio(wlsall,spec_rest,W_LYMAN ,W_BALMER )  \n",
    "\n",
    "    y_nodust/= norm_y_nodust\n",
    "    y_dust/= norm_y_dust\n",
    "    \n",
    "    label = f\"z={z_obs:.2f}\"\n",
    "    ax.plot(x,y_nodust,alpha=0.5,lw=2,color=all_colors[idx],label=label)\n",
    "    inset_ax.plot(tarr,sfh_gal,color=all_colors[idx]) \n",
    "\n",
    "\n",
    "ax.set_ylabel(\"DSPS SED $F_\\\\nu$\")\n",
    "ax.set_xlabel(\"$\\\\lambda (\\AA)$\")\n",
    "ax.set_xlim(1e2,1e5)\n",
    "plot_hydrogen_lines(ax)\n",
    "title = f\"Recaled $F_\\\\nu(\\lambda)$ by varying redshift\"\n",
    "ax.set_title(title)\n",
    "#ax.legend(loc=\"upper right\")\n",
    "cbar=fig.colorbar(scalarMap , ax=ax)\n",
    "cbar.ax.set_ylabel('$\\log_{10} (z)$')\n",
    "\n",
    "left, bottom, width, height = [0.16, 0.66, 0.15, 0.2]\n",
    "ax2 = fig.add_axes([left, bottom, width, height])\n",
    "ax2.hist(all_d4000,bins=20,range=(D4000MIN,D4000MAX),facecolor=\"g\",alpha=0.2)\n",
    "ax2.set_xlabel(\"D4000\",fontsize=8)\n",
    "\n",
    "#left, bottom, width, height = [0.16, 0.15, 0.15, 0.2]\n",
    "#ax3 = fig.add_axes([left, bottom, width, height])\n",
    "#ax3.hist(np.log10(all_dBL),bins=20,range=(BLMIN,BLMAX),facecolor=\"g\",alpha=0.2)\n",
    "#ax3.set_xlabel(\"Balmer/Lyman\",fontsize=8)\n",
    "\n",
    "# boundaries zmin/zmax\n",
    "zmax = 10.\n",
    "wlsall,spec_rest,spec_rest_att = ssp_spectrum_fromparam(p.DICT_PARAMS_true,zmax)\n",
    "d4000_zmax = calc_ratio(wlsall,spec_rest)\n",
    "dBL_zmax = calc_ratio(wlsall,spec_rest,W_LYMAN ,W_BALMER )  \n",
    "x = wlsall\n",
    "y_nodust = spec_rest\n",
    "y_dust = spec_rest_att \n",
    "\n",
    "norm_y_nodust = flux_norm(x,y_nodust,wlcenter=wl0)\n",
    "norm_y_dust = flux_norm(x,y_dust,wlcenter=wl0)\n",
    "\n",
    "y_nodust/= norm_y_nodust\n",
    "y_dust/= norm_y_dust\n",
    "label = f\"z={zmax}\"\n",
    "#ax.plot(x,y_nodust,alpha=0.5,lw=2,color=\"k\",label=label)\n",
    "\n",
    "# boundaries next\n",
    "zmin = 0.\n",
    "wlsall,spec_rest,spec_rest_att = ssp_spectrum_fromparam(p.DICT_PARAMS_true,zmin)\n",
    "d4000_zmin = calc_ratio(wlsall,spec_rest)\n",
    "dBL_zmin = calc_ratio(wlsall,spec_rest,W_LYMAN ,W_BALMER )  \n",
    "x = wlsall\n",
    "y_nodust = spec_rest\n",
    "y_dust = spec_rest_att \n",
    "\n",
    "norm_y_nodust = flux_norm(x,y_nodust,wlcenter=wl0)\n",
    "norm_y_dust = flux_norm(x,y_dust,wlcenter=wl0)\n",
    "y_nodust/= norm_y_nodust\n",
    "y_dust/= norm_y_dust\n",
    "label = f\"z={zmin}\"\n",
    "#ax.plot(x,y_nodust,alpha=0.5,lw=2,color=\"k\",label=label)\n",
    "\n",
    "\n"
   ]
  },
  {
   "cell_type": "code",
   "execution_count": null,
   "id": "f5b4df80-58b9-4077-9c21-761536afa96e",
   "metadata": {},
   "outputs": [],
   "source": [
    "#_, (ax1,ax2) = plt.subplots(2, 1,figsize=(10,10))"
   ]
  },
  {
   "cell_type": "code",
   "execution_count": null,
   "id": "b676edb8-5a67-42ee-b021-a069b640dda0",
   "metadata": {},
   "outputs": [],
   "source": [
    "fig = plt.figure(figsize=(10,4))\n",
    "\n",
    "ax = fig.add_subplot(121)\n",
    "ax.scatter(all_redshifts,all_d4000,color=all_colors)\n",
    "ax.set_xlabel(\"redshift\")\n",
    "ax.set_ylabel(\"D4000\")\n",
    "ax.grid()\n",
    "\n",
    "ax = fig.add_subplot(122)\n",
    "ax.scatter(all_redshifts,np.log10(all_dBL),color=all_colors)\n",
    "ax.set_xlabel(\"redshift\")\n",
    "ax.set_ylabel(\"log10(Balmer/Lyman)\")\n",
    "ax.grid()\n",
    "plt.suptitle(\"dependence of color D4000 wrt redshift\",fontsize=16)"
   ]
  },
  {
   "cell_type": "code",
   "execution_count": null,
   "id": "af65649c-e2b3-4be0-93ec-6ebd2ee060d6",
   "metadata": {},
   "outputs": [],
   "source": [
    "D4000MIN = 1.0\n",
    "D4000MAX = 2.0\n",
    "BLMIN = 0.8\n",
    "BLMAX = 4."
   ]
  },
  {
   "cell_type": "markdown",
   "id": "c32c0fbd-323f-4f22-a830-737aba63ed07",
   "metadata": {},
   "source": [
    "### Set No Dust"
   ]
  },
  {
   "cell_type": "code",
   "execution_count": null,
   "id": "01d27771-0304-4c22-b615-ecf022837445",
   "metadata": {},
   "outputs": [],
   "source": [
    "p.INIT_PARAMS = p.INIT_PARAMS.at[-4].set(0.)\n",
    "p.INIT_PARAMS = p.INIT_PARAMS.at[-3].set(0.)\n",
    "p.INIT_PARAMS = p.INIT_PARAMS.at[-2].set(0.)\n",
    "p.INIT_PARAMS = p.INIT_PARAMS.at[-1].set(1.)"
   ]
  },
  {
   "cell_type": "code",
   "execution_count": null,
   "id": "d0ce2838-7574-4437-83f4-a441c7023f53",
   "metadata": {},
   "outputs": [],
   "source": [
    "# increase the range of the DSPS parameters\n",
    "FLAG_INCREASE_RANGE_MAH = True\n",
    "if FLAG_INCREASE_RANGE_MAH:\n",
    "    # MAH_lgmO\n",
    "    p.PARAMS_MIN = p.PARAMS_MIN.at[0].set(8)\n",
    "    p.PARAMS_MAX = p.PARAMS_MAX.at[1].set(15)\n",
    "    # MAH_logtc\n",
    "    p.PARAMS_MIN = p.PARAMS_MIN.at[1].set(0.01)\n",
    "    p.PARAMS_MAX = p.PARAMS_MAX.at[1].set(0.15)\n",
    "    # MAH_early_index\n",
    "    p.PARAMS_MIN = p.PARAMS_MIN.at[2].set(0.1)\n",
    "    p.PARAMS_MAX = p.PARAMS_MAX.at[2].set(10.)\n",
    "    # MAH_late_index\n",
    "    p.PARAMS_MIN = p.PARAMS_MIN.at[3].set(0.1)\n",
    "    p.PARAMS_MAX = p.PARAMS_MAX.at[3].set(10.)\n",
    "\n",
    "FLAG_INCREASE_RANGE_MS = True\n",
    "if FLAG_INCREASE_RANGE_MS:\n",
    "    # MS_lgmcrit  12\n",
    "    p.PARAMS_MIN = p.PARAMS_MIN.at[4].set(9.)\n",
    "    p.PARAMS_MAX = p.PARAMS_MAX.at[4].set(13.)\n",
    "    # MS_lgy_at_mcrit : -1\n",
    "    p.PARAMS_MIN = p.PARAMS_MIN.at[5].set(-2.)\n",
    "    p.PARAMS_MAX = p.PARAMS_MAX.at[5].set(-0.7)\n",
    "    #MS_indx_lo : 1\n",
    "    p.PARAMS_MIN = p.PARAMS_MIN.at[6].set(0.7)\n",
    "    p.PARAMS_MAX = p.PARAMS_MAX.at[6].set(2.)\n",
    "    #MS_indx_hi : -1\n",
    "    p.PARAMS_MIN = p.PARAMS_MIN.at[7].set(-2.)\n",
    "    p.PARAMS_MAX = p.PARAMS_MAX.at[7].set(-0.7)\n",
    "    #MS_tau_dep : 2\n",
    "    p.PARAMS_MIN = p.PARAMS_MIN.at[8].set(0.7)\n",
    "    p.PARAMS_MAX = p.PARAMS_MAX.at[8].set(3.)\n",
    "\n",
    "FLAG_INCREASE_RANGE_Q = True\n",
    "if FLAG_INCREASE_RANGE_Q:\n",
    "    #'Q_lg_qt', 1.0),\n",
    "    p.PARAMS_MIN = p.PARAMS_MIN.at[9].set(0.5)\n",
    "    p.PARAMS_MAX = p.PARAMS_MAX.at[9].set(2.)\n",
    "    #('Q_qlglgdt', -0.50725),\n",
    "    p.PARAMS_MIN = p.PARAMS_MIN.at[10].set(-2.)\n",
    "    p.PARAMS_MAX = p.PARAMS_MAX.at[10].set(-0.2)\n",
    "    # ('Q_lg_drop', -1.01773),\n",
    "    p.PARAMS_MIN = p.PARAMS_MIN.at[11].set(-2.)\n",
    "    p.PARAMS_MAX = p.PARAMS_MAX.at[11].set(-0.5)\n",
    "    #('Q_lg_rejuv', -0.212307),\n",
    "    p.PARAMS_MIN = p.PARAMS_MIN.at[12].set(-2.)\n",
    "    p.PARAMS_MAX = p.PARAMS_MAX.at[12].set(-0.1)\n"
   ]
  },
  {
   "cell_type": "code",
   "execution_count": null,
   "id": "df5b671a-4381-45a4-b9c9-0c4ad3b79192",
   "metadata": {},
   "outputs": [],
   "source": [
    "p.DICT_PARAMS_true"
   ]
  },
  {
   "cell_type": "code",
   "execution_count": null,
   "id": "511a100b-de3c-42e8-939f-2dd29d7d98fc",
   "metadata": {},
   "outputs": [],
   "source": [
    "wlsall,spec_rest,spec_rest_att = ssp_spectrum_fromparam(p.DICT_PARAMS_true,0)"
   ]
  },
  {
   "cell_type": "markdown",
   "id": "9045f9ec-1fde-419d-a5d7-fc5d828e85b6",
   "metadata": {},
   "source": [
    "## Read MCMC without dust"
   ]
  },
  {
   "cell_type": "code",
   "execution_count": null,
   "id": "afb3ea08-d7e6-40ed-9530-c757533370a1",
   "metadata": {},
   "outputs": [],
   "source": [
    "PARAM_NAMES"
   ]
  },
  {
   "cell_type": "code",
   "execution_count": null,
   "id": "cb433508-80d0-47d2-8da4-500e3c151d19",
   "metadata": {},
   "outputs": [],
   "source": [
    "PARAM_NODUST = np.array(['MAH_lgmO', 'MAH_logtc', 'MAH_early_index', 'MAH_late_index',\n",
    "       'MS_lgmcrit', 'MS_lgy_at_mcrit', 'MS_indx_lo', 'MS_indx_hi',\n",
    "       'MS_tau_dep', 'Q_lg_qt', 'Q_qlglgdt', 'Q_lg_drop', 'Q_lg_rejuv'])"
   ]
  },
  {
   "cell_type": "code",
   "execution_count": null,
   "id": "33be999c-5cf5-4b42-94a1-8c6a71c20c66",
   "metadata": {},
   "outputs": [],
   "source": [
    "PARAM_NODUST_DICT_NAMES = OrderedDict()\n",
    "for name in PARAM_NODUST:\n",
    "    PARAM_NODUST_DICT_NAMES[name] = f\"{name}\"   "
   ]
  },
  {
   "cell_type": "markdown",
   "id": "3ffd8222-36e2-464d-85a8-45c6549292e1",
   "metadata": {},
   "source": [
    "## Choose a parameter"
   ]
  },
  {
   "cell_type": "code",
   "execution_count": null,
   "id": "e9240925-543e-4c37-bab8-d054c165ddc2",
   "metadata": {},
   "outputs": [],
   "source": [
    "Z_OBS = 0.1\n",
    "T_OBS = age_at_z(Z_OBS, *DEFAULT_COSMOLOGY) # age of the universe in Gyr at z_obs, we cant see for t> t_obs\n",
    "T_OBS = T_OBS[0]"
   ]
  },
  {
   "cell_type": "code",
   "execution_count": null,
   "id": "10247f74-7a55-45fa-87a8-28439c6cc1e5",
   "metadata": {},
   "outputs": [],
   "source": [
    "selected_param_name = 'MAH_lgmO'"
   ]
  },
  {
   "cell_type": "code",
   "execution_count": null,
   "id": "9615f610-055a-4cb0-be49-de510c4b9ab0",
   "metadata": {},
   "outputs": [],
   "source": [
    "NSIM = 500"
   ]
  },
  {
   "cell_type": "code",
   "execution_count": null,
   "id": "b1fb7a22-1b15-4cba-890e-69655ae39216",
   "metadata": {},
   "outputs": [],
   "source": [
    "selected_param_idx = np.where(PARAM_NODUST == selected_param_name)[0][0]"
   ]
  },
  {
   "cell_type": "code",
   "execution_count": null,
   "id": "3b554c95-de8b-4438-82f6-b54570c990d8",
   "metadata": {},
   "outputs": [],
   "source": [
    "key = jax.random.PRNGKey(42)"
   ]
  },
  {
   "cell_type": "code",
   "execution_count": null,
   "id": "7c3640ee-999a-4ed7-9cce-ea4f3ea16ec7",
   "metadata": {},
   "outputs": [],
   "source": [
    "new_key, subkey = jax.random.split(key)"
   ]
  },
  {
   "cell_type": "markdown",
   "id": "f1cf6bbe-927f-42df-8af6-e8024563277c",
   "metadata": {},
   "source": [
    "### Simulate the selected parameter values"
   ]
  },
  {
   "cell_type": "code",
   "execution_count": null,
   "id": "7cac32c7-491c-4de3-ba9a-3eb34268b50c",
   "metadata": {},
   "outputs": [],
   "source": [
    "simulated_val = jax.random.uniform(subkey,shape=(NSIM,),minval = p.PARAMS_MIN[selected_param_idx],maxval = p.PARAMS_MAX[selected_param_idx])"
   ]
  },
  {
   "cell_type": "markdown",
   "id": "25b867ff-0cbb-434c-b732-269c44f78bde",
   "metadata": {},
   "source": [
    "### Extract other parameter values and stack them vertically"
   ]
  },
  {
   "cell_type": "code",
   "execution_count": null,
   "id": "c3b14af8-aeaf-4984-935b-82c279a0fc67",
   "metadata": {},
   "outputs": [],
   "source": [
    "other_param_val_left = p.INIT_PARAMS[:selected_param_idx]\n",
    "other_param_val_right = p.INIT_PARAMS[selected_param_idx+1:]\n",
    "other_param_val = jnp.hstack((other_param_val_left,other_param_val_right))\n",
    "other_param_val_arr = jnp.tile(other_param_val,NSIM).reshape(NSIM,-1)"
   ]
  },
  {
   "cell_type": "markdown",
   "id": "89e195e4-d705-4271-9d68-354b1826de41",
   "metadata": {},
   "source": [
    "### Insert a new column with the simulated values"
   ]
  },
  {
   "cell_type": "code",
   "execution_count": null,
   "id": "2b9ee539-65e3-4091-b72e-065874f81adf",
   "metadata": {},
   "outputs": [],
   "source": [
    "#jax.numpy.hstack((simulated_val,other_param_val_arr))\n",
    "new_param_sim_arr = jax.numpy.insert(other_param_val_arr, selected_param_idx , simulated_val, axis = 1)"
   ]
  },
  {
   "cell_type": "code",
   "execution_count": null,
   "id": "fb2a0663-eac5-4f4b-984f-7e6358f4633f",
   "metadata": {},
   "outputs": [],
   "source": [
    "#jax.tree_map(lambda x: x*2, list_of_lists)) "
   ]
  },
  {
   "cell_type": "code",
   "execution_count": null,
   "id": "07eb1530-0863-4144-a663-8ee4a654e716",
   "metadata": {},
   "outputs": [],
   "source": [
    "# Working and elegant, need absolutely a list of ...\n",
    "list_of_dicts_params = jax.tree_map( lambda x: paramslist_to_dict(x,PARAM_NAMES),list(new_param_sim_arr))"
   ]
  },
  {
   "cell_type": "code",
   "execution_count": null,
   "id": "452ab9ba-3124-414f-8a40-84386388b8a6",
   "metadata": {},
   "outputs": [],
   "source": [
    "# comprehension working but not elegant\n",
    "#list_of_dicts_params = [ paramslist_to_dict(new_param_sim_arr[idx,:],PARAM_NAMES) for idx in  range(new_param_sim_arr.shape[0])]"
   ]
  },
  {
   "cell_type": "code",
   "execution_count": null,
   "id": "08d59db5-bd1f-425a-b43d-0e93908a4649",
   "metadata": {},
   "outputs": [],
   "source": [
    "wlsall,spec_rest,spec_rest_att = ssp_spectrum_fromparam(list_of_dicts_params[1],Z_OBS)"
   ]
  },
  {
   "cell_type": "code",
   "execution_count": null,
   "id": "72704ba0-db7c-4d11-9c44-40ecc011f672",
   "metadata": {},
   "outputs": [],
   "source": [
    "bwr_map = plt.get_cmap('bwr')\n",
    "reversed_map = bwr_map.reversed() \n",
    "#cNorm = colors.Normalize(vmin=np.log10(all_fractions).min(), vmax=np.log10(all_fractions).max())\n",
    "#scalarMap = cmx.ScalarMappable(norm=cNorm, cmap=reversed_map)\n",
    "#all_colors = scalarMap.to_rgba(np.log10(all_fractions), alpha=1)\n",
    "cNorm = colors.Normalize(vmin=D4000MIN, vmax=D4000MAX)\n",
    "scalarMap = cmx.ScalarMappable(norm=cNorm, cmap=bwr_map)\n",
    "#all_colors = scalarMap.to_rgba(np.log10(all_redshifts), alpha=1)"
   ]
  },
  {
   "cell_type": "markdown",
   "id": "1f874879-cea6-4111-9406-23fe53687e72",
   "metadata": {},
   "source": [
    "## Plot renormalized Spectra and SFR"
   ]
  },
  {
   "cell_type": "code",
   "execution_count": null,
   "id": "ed808a32-4ed1-4720-b1c5-c277bc6c7281",
   "metadata": {},
   "outputs": [],
   "source": [
    "fig = plt.figure(figsize=(10,5))\n",
    "\n",
    "ax = fig.add_subplot()\n",
    "\n",
    "ax.set_xscale('log')\n",
    "ax.set_yscale('log')\n",
    "\n",
    "left, bottom, width, height = [0.45, 0.2, 0.3, 0.3]\n",
    "ax4 = fig.add_axes([left, bottom, width, height])\n",
    "ax4.set_title(\"Star Formation History\",fontsize=10)\n",
    "ax4.set_xlabel(r'${\\rm cosmic\\ time\\ [Gyr]}$',fontsize=8)\n",
    "ax4.set_ylabel(r'${\\rm SFR\\ [M_{\\odot}/yr]}$',fontsize=8)\n",
    "ax4.axvspan(T_OBS,13.8,color=\"grey\",alpha=0.5)\n",
    "\n",
    "\n",
    "all_d4000 = np.zeros(NSIM)\n",
    "all_dBL = np.zeros(NSIM)\n",
    "for idx in range(NSIM):\n",
    "    wlsall,spec_rest,spec_rest_att = ssp_spectrum_fromparam(list_of_dicts_params[idx],Z_OBS)\n",
    "    tarr,sfh_gal = mean_sfr(list_of_dicts_params[idx],Z_OBS)\n",
    "    \n",
    "    d4000 = calc_ratio(wlsall,spec_rest)\n",
    "    all_d4000[idx] = d4000\n",
    "    dBL = calc_ratio(wlsall,spec_rest,W_LYMAN ,W_BALMER ) \n",
    "    all_dBL[idx] =  dBL\n",
    "\n",
    "    x = wlsall\n",
    "    y_nodust = spec_rest\n",
    "    y_dust = spec_rest_att \n",
    "    norm_y_nodust = flux_norm(x,y_nodust,wlcenter=wl0)\n",
    "    norm_y_dust = flux_norm(x,y_dust,wlcenter=wl0)\n",
    "    y_nodust/= norm_y_nodust\n",
    "    y_dust/= norm_y_dust\n",
    "    \n",
    "    col = scalarMap.to_rgba(d4000, alpha=1)\n",
    "    \n",
    "    ax.plot(x,y_nodust,alpha=0.5,lw=2,color=col)\n",
    "    ax4.plot(tarr,sfh_gal,color=col)\n",
    "\n",
    "cbar=fig.colorbar(scalarMap , ax=ax)\n",
    "cbar.ax.set_ylabel('D4000')\n",
    "\n",
    "ax.set_ylabel(\"DSPS SED $F_\\\\nu$\")\n",
    "ax.set_xlabel(\"$\\\\lambda (\\AA)$\")\n",
    "ax.set_xlim(1e2,1e5)\n",
    "plot_hydrogen_lines(ax)\n",
    "title = f\"$F_\\\\nu(\\lambda)$ by varying parameter {selected_param_name} at redshift {Z_OBS:.2f}\"\n",
    "ax.set_title(title)\n",
    "\n",
    "left, bottom, width, height = [0.15, 0.66, 0.15, 0.2]\n",
    "ax2 = fig.add_axes([left, bottom, width, height])\n",
    "ax2.hist(all_d4000,bins=20,range=(D4000MIN,D4000MAX),facecolor=\"g\",alpha=0.2)\n",
    "ax2.set_xlabel(\"D4000\",fontsize=8)\n",
    "\n",
    "left, bottom, width, height = [0.15, 0.2, 0.15, 0.2]\n",
    "ax3 = fig.add_axes([left, bottom, width, height])\n",
    "ax3.hist(np.log10(all_dBL),bins=20,range=(BLMIN,BLMAX),facecolor=\"g\",alpha=0.2)\n",
    "ax3.set_xlabel(\"Balmer/Lyman\",fontsize=8)"
   ]
  },
  {
   "cell_type": "markdown",
   "id": "1879ead1-8267-4e1d-9e0c-278ba324a979",
   "metadata": {},
   "source": [
    "## Loop on parameters"
   ]
  },
  {
   "cell_type": "code",
   "execution_count": null,
   "id": "286958fb-e9fc-4da5-8c23-2e065c0d9139",
   "metadata": {},
   "outputs": [],
   "source": [
    "Z_OBS = 0.1\n",
    "NSIM = 100\n",
    "T_OBS = age_at_z(Z_OBS, *DEFAULT_COSMOLOGY) # age of the universe in Gyr at z_obs, we cant see for t> t_obs\n",
    "T_OBS = T_OBS[0]"
   ]
  },
  {
   "cell_type": "code",
   "execution_count": null,
   "id": "b53affc7-3c2f-482a-bea6-b81e6c8e9c71",
   "metadata": {},
   "outputs": [],
   "source": [
    "for selected_param_name in PARAM_NODUST:\n",
    "    \n",
    "    selected_param_idx = np.where(PARAM_NODUST == selected_param_name)[0][0]\n",
    "    key = jax.random.PRNGKey(42)\n",
    "    new_key, subkey = jax.random.split(key)\n",
    "    simulated_val = jax.random.uniform(subkey,shape=(NSIM,),minval = p.PARAMS_MIN[selected_param_idx],maxval = p.PARAMS_MAX[selected_param_idx])\n",
    "    \n",
    "    other_param_val_left = p.INIT_PARAMS[:selected_param_idx]\n",
    "    other_param_val_right = p.INIT_PARAMS[selected_param_idx+1:]\n",
    "    other_param_val = jnp.hstack((other_param_val_left,other_param_val_right))\n",
    "    other_param_val_arr = jnp.tile(other_param_val,NSIM).reshape(NSIM,-1)\n",
    "\n",
    "    new_param_sim_arr = jax.numpy.insert(other_param_val_arr, selected_param_idx , simulated_val, axis = 1)\n",
    "\n",
    "    list_of_dicts_params = [ paramslist_to_dict(new_param_sim_arr[idx,:],PARAM_NAMES) for idx in  range(new_param_sim_arr.shape[0])]\n",
    "\n",
    "    #-----------------------------------------------------------------------\n",
    "    # Fig 1\n",
    "    #-----------------------------------------------------------------------\n",
    "    fig = plt.figure(figsize=(10,5))\n",
    "    ax = fig.add_subplot()\n",
    "    ax.set_xscale('log')\n",
    "    ax.set_yscale('log')\n",
    "\n",
    "    left, bottom, width, height = [0.42, 0.2, 0.3, 0.3]\n",
    "    ax4 = fig.add_axes([left, bottom, width, height])\n",
    "    ax4.set_title(\"Star Formation History\",fontsize=10)\n",
    "    ax4.set_xlabel(r'${\\rm cosmic\\ time\\ [Gyr]}$',fontsize=8)\n",
    "    ax4.set_ylabel(r'${\\rm SFR\\ [M_{\\odot}/yr]}$',fontsize=8)\n",
    "    ax4.axvspan(T_OBS,13.8,color=\"grey\",alpha=0.5)\n",
    "\n",
    "\n",
    "    all_d4000 = np.zeros(NSIM)\n",
    "    all_dBL = np.zeros(NSIM)\n",
    "    # loop on simulations\n",
    "    for idx in range(NSIM):\n",
    "        wlsall,spec_rest,spec_rest_att = ssp_spectrum_fromparam(list_of_dicts_params[idx],Z_OBS)\n",
    "        tarr,sfh_gal = mean_sfr(list_of_dicts_params[idx],Z_OBS)\n",
    "        \n",
    "        d4000 = calc_ratio(wlsall,spec_rest)\n",
    "        all_d4000[idx] = d4000\n",
    "        dBL = calc_ratio(wlsall,spec_rest,W_LYMAN ,W_BALMER ) \n",
    "        all_dBL[idx] =  dBL\n",
    "\n",
    "        x = wlsall\n",
    "        y_nodust = spec_rest\n",
    "        y_dust = spec_rest_att \n",
    "        norm_y_nodust = flux_norm(x,y_nodust,wlcenter=wl0)\n",
    "        norm_y_dust = flux_norm(x,y_dust,wlcenter=wl0)\n",
    "        y_nodust/= norm_y_nodust\n",
    "        y_dust/= norm_y_dust\n",
    "    \n",
    "        col = scalarMap.to_rgba(d4000, alpha=1)\n",
    "    \n",
    "        ax.plot(x,y_nodust,alpha=0.5,lw=2,color=col)\n",
    "        ax4.plot(tarr,sfh_gal,color=col)\n",
    "\n",
    "    cbar=fig.colorbar(scalarMap , ax=ax)\n",
    "    cbar.ax.set_ylabel('D4000')\n",
    "\n",
    "    ax.set_ylabel(\"DSPS SED $F_\\\\nu$\")\n",
    "    ax.set_xlabel(\"$\\\\lambda (\\AA)$\")\n",
    "    ax.set_xlim(1e2,1e5)\n",
    "    plot_hydrogen_lines(ax)\n",
    "    title = f\"$F_\\\\nu(\\lambda)$ by varying parameter {selected_param_name} at redshift {Z_OBS:.2f}\"\n",
    "    ax.set_title(title)\n",
    "\n",
    "    left, bottom, width, height = [0.15, 0.66, 0.15, 0.2]\n",
    "    ax2 = fig.add_axes([left, bottom, width, height])\n",
    "    ax2.hist(all_d4000,bins=20,range=(D4000MIN,D4000MAX),facecolor=\"g\",alpha=0.2)\n",
    "    ax2.set_xlabel(\"D4000\",fontsize=8)\n",
    "\n",
    "    left, bottom, width, height = [0.15, 0.2, 0.15, 0.2]\n",
    "    #ax3 = fig.add_axes([left, bottom, width, height])\n",
    "    #ax3.hist(np.log10(all_dBL),bins=20,range=(BLMIN,BLMAX),facecolor=\"g\",alpha=0.2)\n",
    "    #ax3.set_xlabel(\"Balmer/Lyman\",fontsize=8)\n",
    "    plt.show()\n",
    "\n",
    "    #-----------------------------------------------------------------------\n",
    "    small_dict = OrderedDict()\n",
    "    small_dict[selected_param_name]= simulated_val\n",
    "    small_dict[\"d4000\"] = all_d4000 \n",
    "\n",
    "   \n",
    "   \n",
    "    nparams = len(small_dict)\n",
    "    par_names = [ selected_param_name,\"d4000\"]\n",
    "\n",
    "    try:\n",
    "        fig = plt.figure(figsize=(5,5))\n",
    "        ax = fig.add_subplot()\n",
    "\n",
    "        ax=az.plot_pair(\n",
    "        small_dict,\n",
    "        kind=\"kde\",\n",
    "        marginal_kwargs={\"plot_kwargs\": {\"lw\":3, \"c\":\"blue\", \"ls\":\"-\"}},\n",
    "        kde_kwargs={\n",
    "            \"hdi_probs\": [0.3, 0.68, 0.9],  # Plot 30%, 68% and 90% HDI contours\n",
    "            \"contour_kwargs\":{\"colors\":None, \"cmap\":\"Blues\", \"linewidths\":3,\n",
    "                              \"linestyles\":\"-\"},\n",
    "            \"contourf_kwargs\":{\"alpha\":0.5},\n",
    "        },\n",
    "        point_estimate_kwargs={\"lw\": 3, \"c\": \"b\"},ax=ax,\n",
    "        #marginals=True, textsize=50, point_estimate='median',\n",
    "        );\n",
    "    except Exception as inst:\n",
    "        print(type(inst))    # the exception type\n",
    "        print(inst.args)     # arguments stored in .args\n",
    "        print(inst)  \n",
    "    \n",
    "    \n",
    "\n",
    "    \n"
   ]
  },
  {
   "cell_type": "code",
   "execution_count": null,
   "id": "991df45c-6d46-459a-8d35-9cd501444600",
   "metadata": {},
   "outputs": [],
   "source": []
  }
 ],
 "metadata": {
  "kernelspec": {
   "display_name": "conda_jaxcpu_dsps_py310",
   "language": "python",
   "name": "conda_jaxcpu_dsps_py310"
  },
  "language_info": {
   "codemirror_mode": {
    "name": "ipython",
    "version": 3
   },
   "file_extension": ".py",
   "mimetype": "text/x-python",
   "name": "python",
   "nbconvert_exporter": "python",
   "pygments_lexer": "ipython3",
   "version": "3.10.13"
  }
 },
 "nbformat": 4,
 "nbformat_minor": 5
}
