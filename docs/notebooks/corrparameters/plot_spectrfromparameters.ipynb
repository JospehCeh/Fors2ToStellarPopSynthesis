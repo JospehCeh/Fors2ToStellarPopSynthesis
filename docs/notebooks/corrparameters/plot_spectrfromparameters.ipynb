{
 "cells": [
  {
   "cell_type": "markdown",
   "id": "661a0254-d1ce-452e-af01-3e5143dac398",
   "metadata": {},
   "source": [
    "# plot Spectra from the SSP Parameters"
   ]
  },
  {
   "cell_type": "markdown",
   "id": "ae1e5e1e-8c8f-41b3-b02c-388399f98b2f",
   "metadata": {},
   "source": [
    "Generate simulation data to study the correlation between the parameters using `fors2tostellarpopsynthesis`package\n",
    "\n",
    "- Author Sylvie Dagoret-Campagne\n",
    "- Afflilation : IJCLab/IN2P3/CNRS\n",
    "- Organisation : LSST-DESC\n",
    "- creation date : 2023-12-05\n",
    "- last update : 2023-12-08"
   ]
  },
  {
   "cell_type": "markdown",
   "id": "c7d6258e-39da-41ba-bde3-4fa2a24a8e9f",
   "metadata": {},
   "source": [
    "\n",
    "| computer | processor | kernel              |    date     |\n",
    "| --- | --- | --- | --- |\n",
    "| CC       | CPU       | conda_jax0325_py310 | 2023-11-10  |\n",
    "| macbookpro | CPU | conda_jaxcpu_dsps_py310 | 2023-11-10  | \n",
    "\n",
    "\n",
    "libraries \n",
    "=========\n",
    "\n",
    "jax\n",
    "---\n",
    "\n",
    "- jaxlib-0.3.25+cuda11.cudnn82\n",
    "- jaxopt\n",
    "- optax\n",
    "- corner\n",
    "- arviz\n",
    "- numpyro\n",
    "- graphviz\n",
    "\n",
    "sps\n",
    "---\n",
    "\n",
    "- fsps\n",
    "- prospect\n",
    "- dsps\n",
    "- diffstar\n",
    "- diffmah\n",
    "\n",
    "\n",
    "\n",
    "(conda_jax0325_py310) \n",
    "`/pbs/throng/lsst/users/dagoret/desc/StellarPopulationSynthesis>pip list | grep` \n",
    "\n",
    "| lib | version |\n",
    "|--- | --- | \n",
    "|jax  |                         0.4.20 |\n",
    "|jaxlib |                       0.4.20 |\n",
    "|jaxopt  |                      0.8.2 |\n",
    "\n"
   ]
  },
  {
   "cell_type": "markdown",
   "id": "7376715d-2b8d-4db3-99f0-8191a84a7a8f",
   "metadata": {},
   "source": [
    "## examples\n",
    "\n",
    "- jaxcosmo : https://github.com/DifferentiableUniverseInitiative/jax-cosmo-paper/blob/master/notebooks/VectorizedNumPyro.ipynb\n",
    "- on atmosphere : https://github.com/sylvielsstfr/FitDiffAtmo/blob/main/docs/notebooks/fitdiffatmo/test_numpyro_orderedict_diffatmemul_5params_P_pwv_oz_tau_beta.ipynb"
   ]
  },
  {
   "cell_type": "markdown",
   "id": "52f82817-2f0a-438d-b2dd-e98deda88853",
   "metadata": {},
   "source": [
    "## Import"
   ]
  },
  {
   "cell_type": "markdown",
   "id": "c65534cb-1b8d-459e-9b7c-00e28a347c93",
   "metadata": {},
   "source": [
    "### import external packages"
   ]
  },
  {
   "cell_type": "code",
   "execution_count": null,
   "id": "230608b3-78da-46d1-95e6-3ea0430fe0bb",
   "metadata": {},
   "outputs": [],
   "source": [
    "import h5py\n",
    "import pandas as pd\n",
    "import numpy as np\n",
    "import os\n",
    "import re\n",
    "import pickle \n",
    "import matplotlib as mpl\n",
    "import matplotlib.pyplot as plt\n",
    "%matplotlib inline\n",
    "import matplotlib.colors as colors\n",
    "import matplotlib.cm as cmx\n",
    "#import seaborn as sns\n",
    "#sns.set_theme(style='white')\n",
    "import collections\n",
    "from collections import OrderedDict\n",
    "import re\n",
    "import matplotlib.gridspec as gridspec\n",
    "from sklearn.gaussian_process import GaussianProcessRegressor, kernels\n",
    "import itertools"
   ]
  },
  {
   "cell_type": "code",
   "execution_count": null,
   "id": "f43bc2a4-7ade-48ed-b8ff-9695651cbb6c",
   "metadata": {},
   "outputs": [],
   "source": [
    "import jax\n",
    "import jax.numpy as jnp\n",
    "from jax import vmap\n",
    "import jaxopt\n",
    "import optax\n",
    "jax.config.update(\"jax_enable_x64\", True)\n",
    "from interpax import interp1d\n",
    "\n",
    "from jax.lax import fori_loop\n",
    "from jax.lax import select,cond\n",
    "from jax.lax import concatenate"
   ]
  },
  {
   "cell_type": "code",
   "execution_count": null,
   "id": "fc9a9ab4-e679-460c-8991-87dca282b82c",
   "metadata": {},
   "outputs": [],
   "source": [
    "import numpyro\n",
    "from numpyro import optim\n",
    "from numpyro.diagnostics import print_summary\n",
    "import numpyro.distributions as dist\n",
    "from numpyro.distributions import constraints\n",
    "from numpyro.infer import MCMC, HMC, NUTS, SVI, Trace_ELBO\n",
    "from numpyro.infer.autoguide import AutoBNAFNormal, AutoMultivariateNormal\n",
    "from numpyro.infer.reparam import NeuTraReparam\n",
    "from numpyro.handlers import seed, trace, condition\n",
    "\n",
    "\n",
    "import corner\n",
    "import arviz as az"
   ]
  },
  {
   "cell_type": "code",
   "execution_count": null,
   "id": "63745218-182a-4402-bc95-ac31f393477c",
   "metadata": {},
   "outputs": [],
   "source": [
    "import pickle"
   ]
  },
  {
   "cell_type": "markdown",
   "id": "88cc2b50-5edb-41bb-be36-74822ae3628c",
   "metadata": {},
   "source": [
    "### import internal packages"
   ]
  },
  {
   "cell_type": "code",
   "execution_count": null,
   "id": "fe70e703-79e0-4cd6-8be4-067f072f7aab",
   "metadata": {},
   "outputs": [],
   "source": [
    "from fors2tostellarpopsynthesis.parameters  import SSPParametersFit,paramslist_to_dict"
   ]
  },
  {
   "cell_type": "code",
   "execution_count": null,
   "id": "1bbeeb61-05a9-478d-b300-cc3ccf59f06b",
   "metadata": {},
   "outputs": [],
   "source": [
    "from fors2tostellarpopsynthesis.fitters.fitter_jaxopt import (SSP_DATA,mean_spectrum,mean_mags,mean_sfr,ssp_spectrum_fromparam)"
   ]
  },
  {
   "cell_type": "code",
   "execution_count": null,
   "id": "5b587c81-4485-46ed-915c-a5e06e038dc8",
   "metadata": {},
   "outputs": [],
   "source": [
    "from fors2tostellarpopsynthesis.fitters.fitter_numpyro import(PARAM_SIMLAW_NODUST,PARAM_SIMLAW_WITHDUST,\n",
    "                            PARAM_NAMES,PARAM_VAL,PARAM_MIN,PARAM_MAX,PARAM_SIGMA)\n",
    "\n",
    "from fors2tostellarpopsynthesis.fitters.fitter_numpyro import(galaxymodel_nodust_av,galaxymodel_nodust,galaxymodel_withdust_av,galaxymodel_withdust)"
   ]
  },
  {
   "cell_type": "code",
   "execution_count": null,
   "id": "24a2f50a-ccde-4918-8381-20babbd32605",
   "metadata": {},
   "outputs": [],
   "source": [
    "from fors2tostellarpopsynthesis.fitters.fitter_util import plot_params_kde,calc_ratio"
   ]
  },
  {
   "cell_type": "markdown",
   "id": "98c8a995-a7d4-44b6-b17b-b1affe9dca9b",
   "metadata": {},
   "source": [
    "## Configuration"
   ]
  },
  {
   "cell_type": "code",
   "execution_count": null,
   "id": "06436270-84f4-4893-ab8c-00d414ae30a6",
   "metadata": {},
   "outputs": [],
   "source": [
    "Lyman_lines = [1220., 1030. ,973.,950., 938., 930.]\n",
    "Balmer_lines = [6562.791,4861.351,4340.4721,4101.740,3970.072,3889.0641,3835.3971]\n",
    "Paschen_lines = [8750., 12820., 10938.0,10050., 9546.2, 9229.7,9015.3, 8862.89,8750.46,8665.02]\n",
    "Brackett_lines = [40522.79, 26258.71, 21661.178, 19440., 18179.21]\n",
    "Pfund_lines = [ 74599.0, 46537.8, 37405.76 , 32969.8, 30400.]\n",
    "all_Hydrogen_lines = [ Lyman_lines, Balmer_lines, Paschen_lines, Brackett_lines, Pfund_lines]\n",
    "Color_lines = [\"purple\", \"blue\", \"green\", \"red\",\"grey\"]\n",
    "Balmer_thres = 3645.6\n",
    "Lyman_thres = 911.267\n",
    "Paschen_thres = 8200.\n",
    "Brackett_thres = 14580.\n",
    "Pfund_lines = 22800.\n",
    "all_Hydrogen_thres = [Lyman_thres , Balmer_thres, Paschen_thres, Brackett_thres, Pfund_lines]"
   ]
  },
  {
   "cell_type": "markdown",
   "id": "b3d5815b-0262-4c64-b840-47b8da2b84b1",
   "metadata": {},
   "source": [
    "- D4000\n",
    "Hereafter the 4000 angstrom break is defined as the ratio between the average flux density in ergs−1cm−2Hz−1 between 4050 and 4250 angstrom and that between 3750 and 3950 angstrom (Bruzual 1983)."
   ]
  },
  {
   "cell_type": "code",
   "execution_count": null,
   "id": "f6b741eb-9d85-45b9-9c64-eddec27f4434",
   "metadata": {},
   "outputs": [],
   "source": [
    "D4000_red = [4050.,4250] \n",
    "D4000_blue = [3750.,3950.]\n",
    "\n",
    "W_BALMER = [Balmer_thres, Balmer_lines[0]]\n",
    "W_LYMAN = [Lyman_thres, Lyman_lines[0]]"
   ]
  },
  {
   "cell_type": "code",
   "execution_count": null,
   "id": "cd502395-39c9-48e4-8718-45cc4cce3c11",
   "metadata": {},
   "outputs": [],
   "source": [
    "def plot_hydrogen_lines(ax):\n",
    "    nth = len(all_Hydrogen_thres)\n",
    "    for idx,group_lines in enumerate(all_Hydrogen_lines):\n",
    "        color = Color_lines[idx]\n",
    "        for wl_line in group_lines:\n",
    "            ax.axvline(wl_line,color=color)\n",
    "        if idx< nth:\n",
    "            ax.axvline(all_Hydrogen_thres[idx],color=color,linestyle=\":\")\n",
    "    ax.axvspan(W_LYMAN[0],W_LYMAN[1],facecolor='blue', alpha=0.5)\n",
    "    ax.axvspan(W_BALMER[0],W_BALMER[1],facecolor='red', alpha=0.5)"
   ]
  },
  {
   "cell_type": "code",
   "execution_count": null,
   "id": "f14b7126-7aa8-426e-99f5-c65dbdee0427",
   "metadata": {},
   "outputs": [],
   "source": [
    "#sns.color_palette(\"hls\", 100)"
   ]
  },
  {
   "cell_type": "markdown",
   "id": "2b81247d-02a8-4437-a07c-29cf54286fdf",
   "metadata": {},
   "source": [
    "### matplotlib configuration"
   ]
  },
  {
   "cell_type": "code",
   "execution_count": null,
   "id": "96dbd3a3-cfc2-4077-a7f4-729896bb64e5",
   "metadata": {},
   "outputs": [],
   "source": [
    "plt.rcParams[\"figure.figsize\"] = (12,12)\n",
    "plt.rcParams[\"axes.labelsize\"] = 'xx-large'\n",
    "plt.rcParams['axes.titlesize'] = 'xx-large'\n",
    "plt.rcParams['xtick.labelsize']= 'xx-large'\n",
    "plt.rcParams['ytick.labelsize']= 'xx-large'\n",
    "plt.rcParams['legend.fontsize']=  10\n",
    "plt.rcParams['font.size'] = 10"
   ]
  },
  {
   "cell_type": "markdown",
   "id": "eeda3399-e8a9-42a5-856a-26cb98ebb971",
   "metadata": {},
   "source": [
    "## Fit parameters"
   ]
  },
  {
   "cell_type": "code",
   "execution_count": null,
   "id": "10addade-ef1d-4b84-9208-d6f9782efa1b",
   "metadata": {},
   "outputs": [],
   "source": [
    "p = SSPParametersFit()"
   ]
  },
  {
   "cell_type": "code",
   "execution_count": null,
   "id": "dadf61ca-9bc5-4c7a-9204-cf216e13ad4e",
   "metadata": {},
   "outputs": [],
   "source": [
    "PARAM_NAMES = p.PARAM_NAMES_FLAT\n",
    "PARAM_NAMES"
   ]
  },
  {
   "cell_type": "code",
   "execution_count": null,
   "id": "01d27771-0304-4c22-b615-ecf022837445",
   "metadata": {},
   "outputs": [],
   "source": [
    "p.INIT_PARAMS = p.INIT_PARAMS.at[-4].set(0.)\n",
    "p.INIT_PARAMS = p.INIT_PARAMS.at[-3].set(0.)\n",
    "p.INIT_PARAMS = p.INIT_PARAMS.at[-2].set(0.)\n",
    "p.INIT_PARAMS = p.INIT_PARAMS.at[-1].set(1.)"
   ]
  },
  {
   "cell_type": "code",
   "execution_count": null,
   "id": "511a100b-de3c-42e8-939f-2dd29d7d98fc",
   "metadata": {},
   "outputs": [],
   "source": [
    "wlsall,spec_rest,spec_rest_att = ssp_spectrum_fromparam(p.DICT_PARAMS_true,0)"
   ]
  },
  {
   "cell_type": "markdown",
   "id": "9045f9ec-1fde-419d-a5d7-fc5d828e85b6",
   "metadata": {},
   "source": [
    "## Read MCMC without dust"
   ]
  },
  {
   "cell_type": "code",
   "execution_count": null,
   "id": "afb3ea08-d7e6-40ed-9530-c757533370a1",
   "metadata": {},
   "outputs": [],
   "source": [
    "PARAM_NAMES"
   ]
  },
  {
   "cell_type": "code",
   "execution_count": null,
   "id": "cb433508-80d0-47d2-8da4-500e3c151d19",
   "metadata": {},
   "outputs": [],
   "source": [
    "PARAM_NODUST = ['MAH_lgmO', 'MAH_logtc', 'MAH_early_index', 'MAH_late_index',\n",
    "       'MS_lgmcrit', 'MS_lgy_at_mcrit', 'MS_indx_lo', 'MS_indx_hi',\n",
    "       'MS_tau_dep', 'Q_lg_qt', 'Q_qlglgdt', 'Q_lg_drop', 'Q_lg_rejuv']"
   ]
  },
  {
   "cell_type": "code",
   "execution_count": null,
   "id": "33be999c-5cf5-4b42-94a1-8c6a71c20c66",
   "metadata": {},
   "outputs": [],
   "source": [
    "#PARAM_NODUST_DICT = OrderedDict()\n",
    "#for name in PARAM_NODUST:\n",
    "#    PARAM_NODUST_DICT[name] = f\"{name}\"   "
   ]
  },
  {
   "cell_type": "markdown",
   "id": "f9f34b21-8d4b-4906-b796-0355e4cc1e84",
   "metadata": {},
   "source": [
    "### Output file for MCMC without dust"
   ]
  },
  {
   "cell_type": "code",
   "execution_count": null,
   "id": "229c24d5-49c5-4ea3-93c9-f8236839d4bd",
   "metadata": {},
   "outputs": [],
   "source": [
    "filein_pickle = f\"datamcmcparams/DSPS_nodust_mcmc_params_wide.pickle\"\n",
    "filein_csv = f\"datamcmcparams/DSPS_nodust_mcmc_params_wide.csv\"\n",
    "filein_hdf = f\"datamcmcparams/DSPS_nodust_mcmc_params_wide.hdf\""
   ]
  },
  {
   "cell_type": "code",
   "execution_count": null,
   "id": "8c46694d-7935-4600-a5ef-ff5504eec4aa",
   "metadata": {},
   "outputs": [],
   "source": [
    "with h5py.File(filein_hdf, 'r') as f:\n",
    "    keys = list(f.keys())\n",
    "    print(keys)"
   ]
  },
  {
   "cell_type": "code",
   "execution_count": null,
   "id": "ee4fdf04-3454-4160-a021-26abfb1220fb",
   "metadata": {},
   "outputs": [],
   "source": [
    "df_info = pd.read_hdf(filein_hdf,key=\"info\")\n",
    "df = pd.read_hdf(filein_hdf,key=\"dsps_mcmc_nodust\")"
   ]
  },
  {
   "cell_type": "code",
   "execution_count": null,
   "id": "e0858c17-506d-49c2-a5d6-17e26ff3d5cb",
   "metadata": {},
   "outputs": [],
   "source": [
    "z_obs = df_info['z_obs']"
   ]
  },
  {
   "cell_type": "code",
   "execution_count": null,
   "id": "62fa2976-558f-434d-854f-3a511d419736",
   "metadata": {},
   "outputs": [],
   "source": [
    "df"
   ]
  },
  {
   "cell_type": "code",
   "execution_count": null,
   "id": "2af46ddb-2030-4fa8-9ff6-46ff36200028",
   "metadata": {},
   "outputs": [],
   "source": [
    "all_paramdicts = []\n",
    "for idx,row in df.iterrows():\n",
    "    values = [ row[name] for name in PARAM_NODUST ]\n",
    "    values.append(0.) # AV\n",
    "    values.append(0.) # UVBUMP\n",
    "    values.append(0.) # PLAW\n",
    "    values.append(1.) # SCALEF\n",
    "    d = paramslist_to_dict(values,PARAM_NAMES)\n",
    "    all_paramdicts.append(d)"
   ]
  },
  {
   "cell_type": "code",
   "execution_count": null,
   "id": "9c8e7fa8-e4d6-4cc8-afc8-4365a3546f8d",
   "metadata": {},
   "outputs": [],
   "source": [
    "len(all_paramdicts)"
   ]
  },
  {
   "cell_type": "code",
   "execution_count": null,
   "id": "5abf4fe6-a3cc-4ab1-ba00-6b15635ac368",
   "metadata": {},
   "outputs": [],
   "source": [
    "#sns.color_palette(\"hls\", 100)\n",
    "#sns.set(color_codes=True)\n",
    "#sns.set_style(\"whitegrid\")\n",
    "fig = plt.figure(figsize=(10,5))\n",
    "\n",
    "ax = fig.add_subplot()\n",
    "\n",
    "ax.set_xscale('log')\n",
    "ax.set_yscale('log')\n",
    "all_D4000 = []\n",
    "all_DBalmerLyman = []\n",
    "for idx,d in enumerate(all_paramdicts):\n",
    "    if idx%20 == 0:\n",
    "        wlsall,spec_rest,spec_rest_att = ssp_spectrum_fromparam(d,z_obs)\n",
    "        d4000 = calc_ratio(wlsall,spec_rest)\n",
    "        dBL = calc_ratio(wlsall,spec_rest,W_LYMAN ,W_BALMER )\n",
    "        all_D4000.append(d4000) \n",
    "        all_DBalmerLyman.append(dBL)\n",
    "        ax.plot(wlsall,spec_rest,alpha=0.5)\n",
    "ax.set_ylabel(\"DSPS SED $F_\\\\nu$\")\n",
    "ax.set_xlim(1e2,1e6)\n",
    "plot_hydrogen_lines(ax)"
   ]
  },
  {
   "cell_type": "code",
   "execution_count": null,
   "id": "721a8446-0a61-433d-9ff9-65f0b098dd48",
   "metadata": {},
   "outputs": [],
   "source": [
    "fig = plt.figure(figsize=(16,5))\n",
    "axs = fig.subplots(1,3)\n",
    "\n",
    "for idx, ax in enumerate(np.ravel(axs)):\n",
    "    if idx==0:\n",
    "        ax.hist(all_D4000,bins=50,facecolor=\"b\")\n",
    "        ax.set_xlabel(\"D4000\")\n",
    "    elif idx==1:\n",
    "        ax.hist(np.log10(all_DBalmerLyman),bins=50,facecolor=\"b\")\n",
    "        ax.set_xlabel(\"Balmer/Lyman\")\n",
    "    elif idx==2:\n",
    "        ax.scatter(all_D4000,np.log10(all_DBalmerLyman),marker='o',alpha=0.5,facecolor=\"b\")\n",
    "        ax.set_xlabel(\"D4000\")\n",
    "        ax.set_ylabel(\"Balmer/Lyman\")\n",
    "#ax.set_title(\"D4000\")\n",
    "#ax.set_xlabel(\"D4000\")\n",
    "plt.suptitle(\"Indicator for red color\")\n",
    "plt.tight_layout()"
   ]
  },
  {
   "cell_type": "code",
   "execution_count": null,
   "id": "ff90306a-8b28-49ea-86c9-14d8c0af89a5",
   "metadata": {},
   "outputs": [],
   "source": [
    "#sns.color_palette(\"hls\", 100)\n",
    "#sns.set(color_codes=True)\n",
    "#sns.set_style(\"whitegrid\")\n",
    "fig = plt.figure(figsize=(10,5))\n",
    "\n",
    "ax = fig.add_subplot()\n",
    "\n",
    "ax.set_xscale('log')\n",
    "ax.set_yscale('log')\n",
    "\n",
    "for idx,d in enumerate(all_paramdicts):\n",
    "    if idx%50 == 0:\n",
    "        wlsall,spec_rest,spec_rest_att = ssp_spectrum_fromparam(d,z_obs)\n",
    "        ax.plot(wlsall,1e-2*spec_rest/wlsall**2,alpha=0.5)\n",
    "ax.set_ylabel(\"DSPS SED $F_\\\\lambda$\")\n",
    "ax.set_xlim(1e2,1e5)\n",
    "ax.set_ylim(1e-20,1e-14)\n",
    "plot_hydrogen_lines(ax)"
   ]
  },
  {
   "cell_type": "code",
   "execution_count": null,
   "id": "df595f39-df61-4fdf-ac51-be22d7cc8653",
   "metadata": {},
   "outputs": [],
   "source": [
    "xmin = np.log10(100.)\n",
    "xmax = np.log10(1e5)\n",
    "\n",
    "#ymin = np.log10(y.min())\n",
    "ymin = -13.\n",
    "#ymax = np.log10(y.max())\n",
    "ymax = -5.\n",
    "\n",
    "xbins = np.logspace(xmin, xmax, 200) # <- make a range from 10**xmin to 10**xmax\n",
    "ybins = np.logspace(ymin, ymax, 200) # <- make a range from 10**ymin to 10**ymax\n",
    "\n",
    "\n",
    "\n",
    "all_wlsall = jnp.array(np.empty(shape = 0))\n",
    "all_spec = jnp.array(np.empty(shape = 0))\n",
    "for idx,d in enumerate(all_paramdicts):\n",
    "    if idx%10 == 0:\n",
    "        wlsall,spec_rest,spec_rest_att = ssp_spectrum_fromparam(d,z_obs)\n",
    "        yinterp = interp1d(xbins,wlsall,spec_rest)\n",
    "        \n",
    "        all_wlsall = jnp.concatenate((all_wlsall,xbins))\n",
    "        all_spec = jnp.concatenate((all_spec, yinterp))\n"
   ]
  },
  {
   "cell_type": "code",
   "execution_count": null,
   "id": "1668bfe7-0888-4994-b629-15be143fccf4",
   "metadata": {},
   "outputs": [],
   "source": [
    "x = all_wlsall\n",
    "y  = all_spec\n",
    "\n",
    "fig, ax = plt.subplots(nrows=1, ncols=1, figsize=(10, 5))\n",
    "ax.scatter(x, y,color='r',alpha=0.01)\n",
    "\n",
    "ax.set_xscale(\"log\")               # <- Activate log scale on X axis\n",
    "ax.set_yscale(\"log\")               # <- Activate log scale on Y axis\n",
    "\n",
    "ax.set_xlim(xmin=xbins[0])\n",
    "ax.set_xlim(xmax=xbins[-1])\n",
    "ax.set_ylim(ymin=ybins[0])\n",
    "ax.set_ylim(ymax=ybins[-1])\n",
    "plot_hydrogen_lines(ax)"
   ]
  },
  {
   "cell_type": "code",
   "execution_count": null,
   "id": "1ec29857-7aa8-4332-9bfd-69ebf38120f0",
   "metadata": {},
   "outputs": [],
   "source": [
    "x = all_wlsall\n",
    "y = all_spec\n",
    "\n",
    "counts, _, _ = np.histogram2d(x, y, bins=(xbins, ybins))\n",
    "\n",
    "fig, ax = plt.subplots(nrows=1, ncols=1, figsize=(10, 5))\n",
    "\n",
    "pcm = ax.pcolormesh(xbins, ybins, np.log10(counts),cmap='RdBu_r')\n",
    "plt.colorbar(pcm)\n",
    "\n",
    "ax.set_xscale(\"log\")               # <- Activate log scale on X axis\n",
    "ax.set_yscale(\"log\")               # <- Activate log scale on Y axis\n",
    "\n",
    "ax.set_xlim(xmin=xbins[0])\n",
    "ax.set_xlim(xmax=xbins[-1])\n",
    "ax.set_ylim(ymin=ybins[0])\n",
    "ax.set_ylim(ymax=ybins[-1])\n",
    "plot_hydrogen_lines(ax)"
   ]
  },
  {
   "cell_type": "code",
   "execution_count": null,
   "id": "88ccdc27-9e1f-4efd-8b8e-0807e84d5aa9",
   "metadata": {},
   "outputs": [],
   "source": []
  }
 ],
 "metadata": {
  "kernelspec": {
   "display_name": "conda_jaxcpu_dsps_py310",
   "language": "python",
   "name": "conda_jaxcpu_dsps_py310"
  },
  "language_info": {
   "codemirror_mode": {
    "name": "ipython",
    "version": 3
   },
   "file_extension": ".py",
   "mimetype": "text/x-python",
   "name": "python",
   "nbconvert_exporter": "python",
   "pygments_lexer": "ipython3",
   "version": "3.10.13"
  }
 },
 "nbformat": 4,
 "nbformat_minor": 5
}
