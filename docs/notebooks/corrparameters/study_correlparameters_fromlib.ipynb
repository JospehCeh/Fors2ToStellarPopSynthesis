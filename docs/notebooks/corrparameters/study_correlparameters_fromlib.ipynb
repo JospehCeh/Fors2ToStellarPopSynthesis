{
 "cells": [
  {
   "cell_type": "markdown",
   "id": "661a0254-d1ce-452e-af01-3e5143dac398",
   "metadata": {},
   "source": [
    "# Study the correlation between the SSP Parameters"
   ]
  },
  {
   "cell_type": "markdown",
   "id": "ae1e5e1e-8c8f-41b3-b02c-388399f98b2f",
   "metadata": {},
   "source": [
    "Generate simulation data to study the correlation between the parameters using `fors2tostellarpopsynthesis`package\n",
    "\n",
    "- Author Sylvie Dagoret-Campagne\n",
    "- Afflilation : IJCLab/IN2P3/CNRS\n",
    "- Organisation : LSST-DESC\n",
    "- creation date : 2023-12-05\n",
    "- last update : 2023-12-06"
   ]
  },
  {
   "cell_type": "markdown",
   "id": "c7d6258e-39da-41ba-bde3-4fa2a24a8e9f",
   "metadata": {},
   "source": [
    "\n",
    "| computer | processor | kernel              |    date     |\n",
    "| --- | --- | --- | --- |\n",
    "| CC       | CPU       | conda_jax0325_py310 | 2023-11-10  |\n",
    "| macbookpro | CPU | conda_jaxcpu_dsps_py310 | 2023-11-10  | \n",
    "\n",
    "\n",
    "libraries \n",
    "=========\n",
    "\n",
    "jax\n",
    "---\n",
    "\n",
    "- jaxlib-0.3.25+cuda11.cudnn82\n",
    "- jaxopt\n",
    "- optax\n",
    "- corner\n",
    "- arviz\n",
    "- numpyro\n",
    "- graphviz\n",
    "\n",
    "sps\n",
    "---\n",
    "\n",
    "- fsps\n",
    "- prospect\n",
    "- dsps\n",
    "- diffstar\n",
    "- diffmah\n",
    "\n",
    "\n",
    "\n",
    "(conda_jax0325_py310) \n",
    "`/pbs/throng/lsst/users/dagoret/desc/StellarPopulationSynthesis>pip list | grep` \n",
    "\n",
    "| lib | version |\n",
    "|--- | --- | \n",
    "|jax  |                         0.4.20 |\n",
    "|jaxlib |                       0.4.20 |\n",
    "|jaxopt  |                      0.8.2 |\n",
    "\n"
   ]
  },
  {
   "cell_type": "markdown",
   "id": "7376715d-2b8d-4db3-99f0-8191a84a7a8f",
   "metadata": {},
   "source": [
    "## examples\n",
    "\n",
    "- jaxcosmo : https://github.com/DifferentiableUniverseInitiative/jax-cosmo-paper/blob/master/notebooks/VectorizedNumPyro.ipynb\n",
    "- on atmosphere : https://github.com/sylvielsstfr/FitDiffAtmo/blob/main/docs/notebooks/fitdiffatmo/test_numpyro_orderedict_diffatmemul_5params_P_pwv_oz_tau_beta.ipynb"
   ]
  },
  {
   "cell_type": "markdown",
   "id": "52f82817-2f0a-438d-b2dd-e98deda88853",
   "metadata": {},
   "source": [
    "## Import"
   ]
  },
  {
   "cell_type": "markdown",
   "id": "c65534cb-1b8d-459e-9b7c-00e28a347c93",
   "metadata": {},
   "source": [
    "### import external packages"
   ]
  },
  {
   "cell_type": "code",
   "execution_count": null,
   "id": "230608b3-78da-46d1-95e6-3ea0430fe0bb",
   "metadata": {},
   "outputs": [],
   "source": [
    "import h5py\n",
    "import pandas as pd\n",
    "import numpy as np\n",
    "import os\n",
    "import re\n",
    "import pickle \n",
    "import matplotlib as mpl\n",
    "import matplotlib.pyplot as plt\n",
    "%matplotlib inline\n",
    "import matplotlib.colors as colors\n",
    "import matplotlib.cm as cmx\n",
    "import collections\n",
    "from collections import OrderedDict\n",
    "import re\n",
    "import matplotlib.gridspec as gridspec\n",
    "from sklearn.gaussian_process import GaussianProcessRegressor, kernels\n",
    "import copy"
   ]
  },
  {
   "cell_type": "code",
   "execution_count": null,
   "id": "f43bc2a4-7ade-48ed-b8ff-9695651cbb6c",
   "metadata": {},
   "outputs": [],
   "source": [
    "import jax\n",
    "import jax.numpy as jnp\n",
    "from jax import vmap\n",
    "import jaxopt\n",
    "import optax\n",
    "jax.config.update(\"jax_enable_x64\", True)\n",
    "from interpax import interp1d\n",
    "\n",
    "from jax.lax import fori_loop\n",
    "from jax.lax import select,cond\n",
    "from jax.lax import concatenate"
   ]
  },
  {
   "cell_type": "code",
   "execution_count": null,
   "id": "fc9a9ab4-e679-460c-8991-87dca282b82c",
   "metadata": {},
   "outputs": [],
   "source": [
    "import numpyro\n",
    "from numpyro import optim\n",
    "from numpyro.diagnostics import print_summary\n",
    "import numpyro.distributions as dist\n",
    "from numpyro.distributions import constraints\n",
    "from numpyro.infer import MCMC, HMC, NUTS, SVI, Trace_ELBO\n",
    "from numpyro.infer.autoguide import AutoBNAFNormal, AutoMultivariateNormal\n",
    "from numpyro.infer.reparam import NeuTraReparam\n",
    "from numpyro.handlers import seed, trace, condition\n",
    "\n",
    "\n",
    "import corner\n",
    "import arviz as az"
   ]
  },
  {
   "cell_type": "markdown",
   "id": "88cc2b50-5edb-41bb-be36-74822ae3628c",
   "metadata": {},
   "source": [
    "### import internal packages"
   ]
  },
  {
   "cell_type": "code",
   "execution_count": null,
   "id": "fe70e703-79e0-4cd6-8be4-067f072f7aab",
   "metadata": {},
   "outputs": [],
   "source": [
    "from fors2tostellarpopsynthesis.parameters  import SSPParametersFit,paramslist_to_dict"
   ]
  },
  {
   "cell_type": "code",
   "execution_count": null,
   "id": "1bbeeb61-05a9-478d-b300-cc3ccf59f06b",
   "metadata": {},
   "outputs": [],
   "source": [
    "from fors2tostellarpopsynthesis.fitters.fitter_jaxopt import (SSP_DATA,mean_spectrum,mean_mags,mean_sfr,ssp_spectrum_fromparam)"
   ]
  },
  {
   "cell_type": "code",
   "execution_count": null,
   "id": "5b587c81-4485-46ed-915c-a5e06e038dc8",
   "metadata": {},
   "outputs": [],
   "source": [
    "from fors2tostellarpopsynthesis.fitters.fitter_numpyro import(PARAM_SIMLAW_NODUST,PARAM_SIMLAW_WITHDUST,\n",
    "                            PARAM_NAMES,PARAM_VAL,PARAM_MIN,PARAM_MAX,PARAM_SIGMA)\n",
    "\n",
    "from fors2tostellarpopsynthesis.fitters.fitter_numpyro import(galaxymodel_nodust_av,galaxymodel_nodust,galaxymodel_withdust_av,galaxymodel_withdust)"
   ]
  },
  {
   "cell_type": "code",
   "execution_count": null,
   "id": "24a2f50a-ccde-4918-8381-20babbd32605",
   "metadata": {},
   "outputs": [],
   "source": [
    "from fors2tostellarpopsynthesis.fitters.fitter_util import plot_params_kde"
   ]
  },
  {
   "cell_type": "markdown",
   "id": "98c8a995-a7d4-44b6-b17b-b1affe9dca9b",
   "metadata": {},
   "source": [
    "## Configuration"
   ]
  },
  {
   "cell_type": "markdown",
   "id": "2b81247d-02a8-4437-a07c-29cf54286fdf",
   "metadata": {},
   "source": [
    "### matplotlib configuration"
   ]
  },
  {
   "cell_type": "code",
   "execution_count": null,
   "id": "96dbd3a3-cfc2-4077-a7f4-729896bb64e5",
   "metadata": {},
   "outputs": [],
   "source": [
    "plt.rcParams[\"figure.figsize\"] = (12,6)\n",
    "plt.rcParams[\"axes.labelsize\"] = 'xx-large'\n",
    "plt.rcParams['axes.titlesize'] = 'xx-large'\n",
    "plt.rcParams['xtick.labelsize']= 'xx-large'\n",
    "plt.rcParams['ytick.labelsize']= 'xx-large'\n",
    "plt.rcParams['legend.fontsize']=  12\n",
    "plt.rcParams['font.size'] = 12"
   ]
  },
  {
   "cell_type": "markdown",
   "id": "3e73135b-12be-439e-8bfd-27b88b74cfbe",
   "metadata": {},
   "source": [
    "### Steering MCMC"
   ]
  },
  {
   "cell_type": "code",
   "execution_count": null,
   "id": "696bafd2-28c6-49fe-9d60-c9c4a8eef38b",
   "metadata": {},
   "outputs": [],
   "source": [
    "## Steering MCMC\n",
    "#NUM_SAMPLES = 5_000\n",
    "#N_CHAINS    = 4\n",
    "#NUM_WARMUP  = 1_000\n",
    "NUM_SAMPLES = 1_000\n",
    "N_CHAINS    = 4\n",
    "NUM_WARMUP  = 500\n",
    "df_mcmc = pd.Series({\"num_samples\":NUM_SAMPLES, \"n_chains\":N_CHAINS, \"num_warmup\":NUM_WARMUP})\n"
   ]
  },
  {
   "cell_type": "code",
   "execution_count": null,
   "id": "aa68dce4-5232-4bba-8803-688eebef0282",
   "metadata": {},
   "outputs": [],
   "source": [
    "print(\"=========== Start MCMC  ============= :\")\n",
    "df_mcmc"
   ]
  },
  {
   "cell_type": "markdown",
   "id": "8b048a10-d1d4-4cd8-9d59-17de3bb5b1b9",
   "metadata": {},
   "source": [
    "### Selection on what to simulate and output"
   ]
  },
  {
   "cell_type": "code",
   "execution_count": null,
   "id": "6a8e1958-758c-4abc-86b9-1d08e2c0a539",
   "metadata": {},
   "outputs": [],
   "source": [
    "FLAG_NODUST = True\n",
    "FLAG_DUST = True\n",
    "\n",
    "## Defining MCMC output files\n",
    "\n",
    "#fileout_nodust_pickle = f\"DSPS_nodust_mcmc_params_{N_CHAINS}_{NUM_WARMUP}_{NUM_SAMPLES}.pickle\"\n",
    "#fileout_nodust_csv = f\"DSPS_nodust_mcmc_params_{N_CHAINS}_{NUM_WARMUP}_{NUM_SAMPLES}.csv\"\n",
    "fileout_nodust_hdf = f\"DSPS_nodust_mcmc_params_{N_CHAINS}_{NUM_WARMUP}_{NUM_SAMPLES}.hdf\"\n",
    "\n",
    "#fileout_dust_pickle = f\"DSPS_dust_mcmc_params_{N_CHAINS}_{NUM_WARMUP}_{NUM_SAMPLES}.pickle\"\n",
    "#fileout_dust_csv = f\"DSPS_dust_mcmc_params_{N_CHAINS}_{NUM_WARMUP}_{NUM_SAMPLES}.csv\"\n",
    "fileout_dust_hdf = f\"DSPS_dust_mcmc_params_{N_CHAINS}_{NUM_WARMUP}_{NUM_SAMPLES}.hdf\""
   ]
  },
  {
   "cell_type": "markdown",
   "id": "e88d08c7-e9cd-4e77-b36d-d8f956fcc8e8",
   "metadata": {},
   "source": [
    "### Observation"
   ]
  },
  {
   "cell_type": "code",
   "execution_count": null,
   "id": "97ed1efc-a3e8-4d34-8591-d25eb676f85e",
   "metadata": {},
   "outputs": [],
   "source": [
    "# Select observation\n",
    "# - choose the redshift of the observation\n",
    "# - choose the relative error on flux at all wavelength. Here choose 10%\n",
    "# - choose the absolute error. This value will be overwritten \n",
    "#   after recalculating the absolute error for each wavelength (provided an an array)\n",
    "Z_OBS = 0.5\n",
    "SIGMAREL_OBS = 0.1\n",
    "SIGMA_OBS = 1e-11\n",
    "\n",
    "df_info = pd.Series({\"z_obs\":Z_OBS,\"sigmarel_obs\":SIGMAREL_OBS})"
   ]
  },
  {
   "cell_type": "code",
   "execution_count": null,
   "id": "2f042140-3044-4ffb-a220-a738efbe1c40",
   "metadata": {},
   "outputs": [],
   "source": [
    "print(\"=========== Start Observations  ============= :\")\n",
    "df_info"
   ]
  },
  {
   "cell_type": "markdown",
   "id": "eeda3399-e8a9-42a5-856a-26cb98ebb971",
   "metadata": {},
   "source": [
    "## Fit parameters"
   ]
  },
  {
   "cell_type": "code",
   "execution_count": null,
   "id": "10addade-ef1d-4b84-9208-d6f9782efa1b",
   "metadata": {},
   "outputs": [],
   "source": [
    "p = SSPParametersFit()"
   ]
  },
  {
   "cell_type": "code",
   "execution_count": null,
   "id": "2651a47b-ae31-4d3b-917d-902c861d242d",
   "metadata": {},
   "outputs": [],
   "source": [
    "# select parameter true values and change it wrt default value\n",
    "dict_sel_params_true = copy.deepcopy(p.DICT_PARAMS_true)\n",
    "dict_sel_params_true['MAH_lgmO'] = 10.0\n",
    "dict_sel_params_true['MAH_logtc'] = 0.8\n",
    "dict_sel_params_true['MAH_early_index'] = 3.0\n",
    "dict_sel_params_true['MAH_late_index'] = 0.5\n",
    "dict_sel_params_true['AV'] = 0.5\n",
    "dict_sel_params_true['UV_BUMP'] = 2.5\n",
    "dict_sel_params_true['PLAW_SLOPE'] = -0.1\n",
    "\n",
    "list_sel_params_true = list(dict_sel_params_true.values())\n",
    "\n",
    "df_params = pd.DataFrame({\"name\":PARAM_NAMES,\n",
    "                          \"min\": PARAM_MIN,\n",
    "                          \"val\": PARAM_VAL,\n",
    "                          \"max\": PARAM_MAX,\n",
    "                          \"sig\":PARAM_SIGMA,\n",
    "                          \"true\":list_sel_params_true})\n",
    "\n",
    "df_params  = df_params.round(decimals=3)\n",
    "\n"
   ]
  },
  {
   "cell_type": "code",
   "execution_count": null,
   "id": "4842f16f-5560-443d-96fa-c1a389ecaf3e",
   "metadata": {},
   "outputs": [],
   "source": [
    "print(\"=========== DSPS Parameters to fit ============= :\")\n",
    "df_params"
   ]
  },
  {
   "cell_type": "markdown",
   "id": "ba927f00-d9e4-4b48-9206-c9ec030fd0a3",
   "metadata": {},
   "source": [
    "## True value spectra"
   ]
  },
  {
   "cell_type": "code",
   "execution_count": null,
   "id": "511a100b-de3c-42e8-939f-2dd29d7d98fc",
   "metadata": {},
   "outputs": [],
   "source": [
    "# generate spectrum from true selected values\n",
    "# - it provide the wlsamm wavelength array\n",
    "# - it provide the suposedly measured spectrum from true parameter\n",
    "wlsall,spec_rest_noatt_true,spec_rest_att_true = ssp_spectrum_fromparam(dict_sel_params_true,Z_OBS)"
   ]
  },
  {
   "cell_type": "code",
   "execution_count": null,
   "id": "5ee2f431-6093-4137-a405-f3490065961d",
   "metadata": {},
   "outputs": [],
   "source": [
    "# The problem is the above is that the parameters are drawn randomly\n",
    "# Thus redefine the errors properly \n",
    "sigmanodust_obs_true = SIGMAREL_OBS*spec_rest_noatt_true\n",
    "sigmadust_obs_true = SIGMAREL_OBS*spec_rest_att_true"
   ]
  },
  {
   "cell_type": "code",
   "execution_count": null,
   "id": "f2fa7ac2-30bb-4c3e-9c1b-543dc1df40fc",
   "metadata": {},
   "outputs": [],
   "source": [
    "fig = plt.figure(figsize=(10,6))\n",
    "gs = fig.add_gridspec(2, 1,height_ratios=[3.,1.5])\n",
    "ax1 = fig.add_subplot(gs[0])\n",
    "ax2 = fig.add_subplot(gs[1])\n",
    "\n",
    "ax1.set_xscale('log')\n",
    "ax1.set_yscale('log')\n",
    "ax1.plot(wlsall,spec_rest_noatt_true,linewidth=2,color=\"k\" ,label=\"True spec no dust\")\n",
    "ax1.plot(wlsall,spec_rest_att_true, linewidth=2 ,color='r', label=\"True spec with dust\")\n",
    "\n",
    "ax1.errorbar(wlsall,spec_rest_noatt_true,yerr=sigmanodust_obs_true,fmt='o',ms=0.5 ,linewidth=2, capsize=0, c='k', label=\"no dust\")\n",
    "ax1.errorbar(wlsall,spec_rest_att_true,yerr=sigmadust_obs_true, fmt='o', ms=0.5,linewidth=2, capsize=0, c='r', label=\"with dust\")\n",
    "ax1.set_xlabel(\"$\\lambda$ (nm)\")\n",
    "ax1.set_ylabel(\"DSPS SED \")\n",
    "ax1.legend()\n",
    "\n",
    "ymax = jnp.max(spec_rest_noatt_true)*2.\n",
    "ymin = ymax/1e6\n",
    "ax1.set_ylim(ymin,ymax)\n",
    "ax1.set_xlim(1e2,1e6)\n",
    "ax1.grid();\n",
    "ax1.set_title(\"True spectra\")\n",
    "\n",
    "#error\n",
    "ax2.set_yscale('log')\n",
    "ax2.set_xscale('log')\n",
    "\n",
    "ax2.plot(wlsall,sigmanodust_obs_true,'k-')\n",
    "ax2.plot(wlsall,sigmadust_obs_true,'r-')\n",
    "ax2.set_xlabel(\"$\\lambda$ (nm)\")\n",
    "ax2.set_ylabel(\"DSPS SED error\")\n",
    "\n",
    "\n",
    "ymax = jnp.max(sigmanodust_obs_true)*5.\n",
    "ymin = ymax/1e6\n",
    "ax2.set_ylim(ymin,ymax)\n",
    "ax2.set_xlim(1e2,1e6)\n",
    "ax2.grid();\n",
    "\n",
    "plt.tight_layout()"
   ]
  },
  {
   "cell_type": "markdown",
   "id": "d5f45e86-a6f9-4f0c-a953-71d20efeff98",
   "metadata": {},
   "source": [
    "## calculate the array of errors on the spectrum by using the average models in numpyro"
   ]
  },
  {
   "cell_type": "code",
   "execution_count": null,
   "id": "7ed34ac7-cda9-44ad-bd9c-03334b081e49",
   "metadata": {},
   "outputs": [],
   "source": [
    "# calculate the array of errors on the spectrum by using the average models in numpyro\n",
    "# the goal is to obtain \n",
    "# - sigmanodust_obs to replace sigma_obs\n",
    "# - sigmadust_obs to replace sigma_obs\n",
    "with seed(rng_seed=42):\n",
    "    spec_nodust,sigmanodust_obs = galaxymodel_nodust_av(wlsall,Fobs=None,\n",
    "                       initparamval = PARAM_VAL, minparamval = PARAM_MIN,maxparamval = PARAM_MAX,\n",
    "                       sigmaparamval = PARAM_SIGMA,paramnames = PARAM_NAMES,z_obs= Z_OBS, sigmarel = SIGMAREL_OBS)\n"
   ]
  },
  {
   "cell_type": "code",
   "execution_count": null,
   "id": "69395cab-8dba-4e69-a372-68cb5d00254f",
   "metadata": {},
   "outputs": [],
   "source": [
    "with seed(rng_seed=42):\n",
    "    spec_withdust,sigmadust_obs = galaxymodel_withdust_av(wlsall,Fobs=None,\n",
    "                       initparamval = PARAM_VAL, minparamval = PARAM_MIN,maxparamval = PARAM_MAX,\n",
    "                       sigmaparamval = PARAM_SIGMA,paramnames = PARAM_NAMES,z_obs= Z_OBS, sigmarel = SIGMAREL_OBS)\n"
   ]
  },
  {
   "cell_type": "code",
   "execution_count": null,
   "id": "b70bdca4-de48-4f08-b470-d28e546d4fdb",
   "metadata": {},
   "outputs": [],
   "source": [
    "fig = plt.figure(figsize=(10,5))\n",
    "gs = fig.add_gridspec(2, 1,height_ratios=[3.,1.])\n",
    "ax1 = fig.add_subplot(gs[0])\n",
    "ax2 = fig.add_subplot(gs[1])\n",
    "\n",
    "ax1.set_xscale('log')\n",
    "ax1.set_yscale('log')\n",
    "ax1.plot(wlsall,spec_nodust,linewidth=2,color=\"k\" ,label=\"sim spec no dust\")\n",
    "ax1.plot(wlsall,spec_withdust, linewidth=2 ,color='r', label=\"sim spec with dust\")\n",
    "\n",
    "ax1.errorbar(wlsall,spec_nodust,yerr=sigmanodust_obs,fmt='o',ms=0.5 ,linewidth=2, capsize=0, c='k', label=\"no dust\")\n",
    "ax1.errorbar(wlsall,spec_withdust,yerr=sigmadust_obs, fmt='o', ms=0.5,linewidth=2, capsize=0, c='r', label=\"with dust\")\n",
    "ax1.set_xlabel(\"$\\lambda$ (nm)\")\n",
    "ax1.set_ylabel(\"DSPS SED \")\n",
    "ax1.set_title(\"Sim spectra\")\n",
    "ax1.legend()\n",
    "\n",
    "ymax = jnp.max(spec_nodust)*2.\n",
    "ymin = ymax/1e6\n",
    "ax1.set_ylim(ymin,ymax)\n",
    "ax1.set_xlim(1e2,1e6)\n",
    "ax1.grid();\n",
    "\n",
    "#error\n",
    "ax2.set_yscale('log')\n",
    "ax2.set_xscale('log')\n",
    "ymax = jnp.max(sigmanodust_obs)*5.\n",
    "ymin = ymax/1e6\n",
    "ax2.plot(wlsall,sigmanodust_obs,'k-')\n",
    "ax2.plot(wlsall,sigmadust_obs,'r-')\n",
    "ax2.set_xlabel(\"$\\lambda$ (nm)\")\n",
    "ax2.set_ylabel(\"DSPS SED error\")\n",
    "\n",
    "ax2.set_ylim(ymin,ymax)\n",
    "ax2.set_xlim(1e2,1e6)\n",
    "ax2.grid();\n",
    "\n",
    "plt.tight_layout()"
   ]
  },
  {
   "cell_type": "markdown",
   "id": "57eb1faf-ebf6-422d-af53-ef5d25d79679",
   "metadata": {},
   "source": [
    "## Bayesian modelling"
   ]
  },
  {
   "cell_type": "code",
   "execution_count": null,
   "id": "723fe63c-044d-455e-b639-61c163bbe01e",
   "metadata": {},
   "outputs": [],
   "source": [
    "condlist_fix = jnp.where(PARAM_SIMLAW_NODUST == \"fixed\",True,False)\n",
    "condlist_fix"
   ]
  },
  {
   "cell_type": "code",
   "execution_count": null,
   "id": "954c09ba-04bf-4c14-bcb7-6c28f1a76fe5",
   "metadata": {},
   "outputs": [],
   "source": [
    "condlist_uniform = jnp.where(PARAM_SIMLAW_NODUST == \"uniform\",True,False)\n",
    "condlist_uniform"
   ]
  },
  {
   "cell_type": "code",
   "execution_count": null,
   "id": "9e5b57b4-9298-4a45-8756-80771f2b2487",
   "metadata": {},
   "outputs": [],
   "source": [
    "numpyro.render_model(galaxymodel_nodust, model_args=(jnp.array([0.]),jnp.array([1.]),\n",
    "                                                     PARAM_VAL, \n",
    "                                                     PARAM_MIN,\n",
    "                                                     PARAM_MAX,\n",
    "                                                     PARAM_SIGMA, \n",
    "                                                     PARAM_NAMES,\n",
    "                                                     Z_OBS,sigmanodust_obs),render_distributions=True)"
   ]
  },
  {
   "cell_type": "code",
   "execution_count": null,
   "id": "d7dc7698-5769-48b3-bfd4-8b5e1d322fb2",
   "metadata": {},
   "outputs": [],
   "source": [
    "numpyro.render_model(galaxymodel_withdust, model_args=(jnp.array([0.]),jnp.array([1.]),\n",
    "                                                     PARAM_VAL, \n",
    "                                                     PARAM_MIN,\n",
    "                                                     PARAM_MAX,\n",
    "                                                     PARAM_SIGMA, \n",
    "                                                     PARAM_NAMES,\n",
    "                                                     Z_OBS,sigmadust_obs),render_distributions=True)"
   ]
  },
  {
   "cell_type": "code",
   "execution_count": null,
   "id": "7237a81f-5dfe-42e6-94eb-c082851a33ef",
   "metadata": {},
   "outputs": [],
   "source": [
    "# So, let's generate the data at the fiducial parameters\n",
    "fiducial_model = condition(galaxymodel_nodust, dict_sel_params_true)\n",
    "# Run the conditionned model (if not conditionned the priors are executed)\n",
    "trace_data_nodust = trace(seed(fiducial_model, jax.random.PRNGKey(42))).get_trace(wlsall,\n",
    "                       initparamval = PARAM_VAL,                                                           \n",
    "                       minparamval = PARAM_MIN,\n",
    "                       maxparamval = PARAM_MAX,\n",
    "                       sigmaparamval = PARAM_SIGMA,\n",
    "                       paramnames = PARAM_NAMES,\n",
    "                       z_obs = Z_OBS,\n",
    "                       sigma = sigmanodust_obs_true)"
   ]
  },
  {
   "cell_type": "code",
   "execution_count": null,
   "id": "f0d6fc49-8d5a-4ee3-a9b9-4a9b90016058",
   "metadata": {},
   "outputs": [],
   "source": [
    "spec_nodust = trace_data_nodust['F'][\"value\"]"
   ]
  },
  {
   "cell_type": "code",
   "execution_count": null,
   "id": "7c99c5b7-9d8d-44cb-b5e0-ee71c3c07634",
   "metadata": {},
   "outputs": [],
   "source": [
    "# So, let's generate the data at the fiducial parameters\n",
    "fiducial_model = condition(galaxymodel_withdust, dict_sel_params_true)\n",
    "# Run the conditionned model (if not conditionned the priors are executed)\n",
    "trace_data_withdust = trace(seed(fiducial_model, jax.random.PRNGKey(42))).get_trace(wlsall,\n",
    "                       initparamval = PARAM_VAL,                                                             \n",
    "                       minparamval = PARAM_MIN,\n",
    "                       maxparamval = PARAM_MAX,\n",
    "                       sigmaparamval = PARAM_SIGMA,\n",
    "                       paramnames = PARAM_NAMES,\n",
    "                       z_obs = Z_OBS,\n",
    "                       sigma = sigmadust_obs_true)"
   ]
  },
  {
   "cell_type": "code",
   "execution_count": null,
   "id": "2b2918a1-3bfb-40d7-bf1c-f35a6e5fc253",
   "metadata": {},
   "outputs": [],
   "source": [
    "#trace_data_withdust"
   ]
  },
  {
   "cell_type": "code",
   "execution_count": null,
   "id": "762d261e-7158-4ea9-89fc-cef3d59e90e2",
   "metadata": {},
   "outputs": [],
   "source": [
    "spec_withdust = trace_data_withdust['F'][\"value\"]"
   ]
  },
  {
   "cell_type": "code",
   "execution_count": null,
   "id": "16f5c36a-c720-4cf4-80a8-40c7fd4c70b1",
   "metadata": {},
   "outputs": [],
   "source": [
    "fig,ax = plt.subplots(1,1,figsize=(10,4))\n",
    "ax.errorbar(wlsall,spec_nodust,yerr=sigmanodust_obs_true,fmt='o',ms=0.5 ,linewidth=2, capsize=0, c='k', label=\"no dust\")\n",
    "ax.errorbar(wlsall,spec_withdust,yerr=sigmadust_obs_true, fmt='o', ms=0.5,linewidth=2, capsize=0, c='r', label=\"with dust\")\n",
    "ax.set_xlabel(\"$\\lambda$ (nm)\")\n",
    "ax.set_ylabel(\"DSPS spectrum\")\n",
    "ax.legend()\n",
    "ax.set_yscale('log')\n",
    "ax.set_xscale('log')\n",
    "ymax = jnp.max(spec_nodust)\n",
    "ymin = ymax/1e6\n",
    "ax.set_ylim(ymin,ymax)\n",
    "ax.set_xlim(1e2,1e6)\n",
    "\n",
    "ax.grid();\n",
    "ax.set_title(\"simulated spectrum\")"
   ]
  },
  {
   "cell_type": "markdown",
   "id": "9045f9ec-1fde-419d-a5d7-fc5d828e85b6",
   "metadata": {},
   "source": [
    "## MCMC without dust"
   ]
  },
  {
   "cell_type": "markdown",
   "id": "8efe3aeb-d845-49a7-ad6a-f504a5754649",
   "metadata": {},
   "source": [
    "### Run MCMC"
   ]
  },
  {
   "cell_type": "code",
   "execution_count": null,
   "id": "eaba15d1-d248-4364-9b7d-ca52b9d9531e",
   "metadata": {},
   "outputs": [],
   "source": [
    "if FLAG_NODUST:\n",
    "    print(f\"===========  MCMC simulation : No Dust , num_samples = {NUM_SAMPLES}, n_chains = {N_CHAINS}, num_warmup = {NUM_WARMUP} ========\")\n",
    "    print(f\" >>> output file {fileout_nodust_hdf}\")\n",
    "\n",
    "    # Run NUTS.\n",
    "    rng_key = jax.random.PRNGKey(42)\n",
    "    rng_key, rng_key0, rng_key1, rng_key2 = jax.random.split(rng_key, 4)\n",
    "\n",
    "\n",
    "    kernel = NUTS(galaxymodel_nodust, dense_mass=True, target_accept_prob=0.9,init_strategy=numpyro.infer.init_to_median())\n",
    "\n",
    "    \n",
    "    mcmc = MCMC(kernel, num_warmup= NUM_WARMUP, num_samples=NUM_SAMPLES,  \n",
    "            num_chains=N_CHAINS,\n",
    "            chain_method='vectorized',\n",
    "            progress_bar=True)\n",
    "    # see https://forum.pyro.ai/t/cannot-find-valid-initial-parameters-when-using-nuts-for-simple-gaussian-mixture-model-in-numpyro/2181/2\n",
    "    with numpyro.validation_enabled():\n",
    "        mcmc.run(rng_key, wlsin=wlsall, Fobs = spec_rest_noatt_true, \n",
    "                       initparamval = PARAM_VAL,\n",
    "                       minparamval = PARAM_MIN,\n",
    "                       maxparamval = PARAM_MAX,\n",
    "                       sigmaparamval = PARAM_SIGMA,\n",
    "                       paramnames = PARAM_NAMES,\n",
    "                       z_obs = Z_OBS,\n",
    "                       sigma = sigmanodust_obs_true)\n",
    "                       #extra_fields=('potential_energy',))\n",
    "        mcmc.print_summary()\n",
    "        samples_nuts = mcmc.get_samples()"
   ]
  },
  {
   "cell_type": "markdown",
   "id": "37ea4d7e-d63b-4745-8ff3-f4a49bac1d98",
   "metadata": {},
   "source": [
    "### Results of MCMC no dust"
   ]
  },
  {
   "cell_type": "code",
   "execution_count": null,
   "id": "707f89a9-1076-4b98-b6f2-70ffdb6b4755",
   "metadata": {},
   "outputs": [],
   "source": [
    "if FLAG_NODUST:\n",
    "    az.ess(samples_nuts, relative=True)  # efficacité relative"
   ]
  },
  {
   "cell_type": "code",
   "execution_count": null,
   "id": "b75766a3-fdd1-4671-93f1-305c652f72b9",
   "metadata": {},
   "outputs": [],
   "source": [
    "if FLAG_NODUST:\n",
    "    data = az.from_numpyro(mcmc)\n",
    "    az.plot_trace(data, compact=True);"
   ]
  },
  {
   "cell_type": "code",
   "execution_count": null,
   "id": "5c551a48-8754-42c3-a1ea-3b16ed12aadd",
   "metadata": {},
   "outputs": [],
   "source": [
    "if FLAG_NODUST:\n",
    "    data"
   ]
  },
  {
   "cell_type": "markdown",
   "id": "75ebe2ef-42de-40fb-9e33-804e8ebc15d8",
   "metadata": {},
   "source": [
    "### Pandas dataframe"
   ]
  },
  {
   "cell_type": "code",
   "execution_count": null,
   "id": "d4db8e45-d48d-402b-aeb4-960470c1478a",
   "metadata": {},
   "outputs": [],
   "source": [
    "if FLAG_NODUST:\n",
    "    df_nodust = pd.DataFrame(samples_nuts) "
   ]
  },
  {
   "cell_type": "code",
   "execution_count": null,
   "id": "771bca27-85c5-444a-8267-2609a24540b0",
   "metadata": {},
   "outputs": [],
   "source": [
    "#df_nodust"
   ]
  },
  {
   "cell_type": "code",
   "execution_count": null,
   "id": "598b69f0-69dc-4347-b1cd-b5c90196b7b7",
   "metadata": {},
   "outputs": [],
   "source": [
    "if FLAG_NODUST:\n",
    "    #with open(fileout_pickle, 'wb') as handle:\n",
    "    #    pickle.dump(samples_nuts, handle, protocol=pickle.HIGHEST_PROTOCOL)\n",
    "    #df_nodust.to_csv(fileout_csv)\n",
    "\n",
    "    df_nodust.to_hdf(fileout_nodust_hdf, key=\"dsps_mcmc_nodust\",mode='a', complevel=9) \n",
    "    df_info.to_hdf(fileout_nodust_hdf,key=\"obs\",mode='a')\n",
    "    df_params.to_hdf(fileout_nodust_hdf,key=\"params\",mode='a')\n",
    "    df_mcmc.to_hdf(fileout_nodust_hdf,key=\"mcmc\",mode='a')"
   ]
  },
  {
   "cell_type": "markdown",
   "id": "b8c106f5-4af7-4708-91e9-4ca6807d2512",
   "metadata": {},
   "source": [
    "## MCMC With DUST"
   ]
  },
  {
   "cell_type": "markdown",
   "id": "0a8a7ccb-c2d0-41b1-90ea-c83963d259d9",
   "metadata": {},
   "source": [
    "### run MCMC with Dust"
   ]
  },
  {
   "cell_type": "code",
   "execution_count": null,
   "id": "76a4ef1e-9ef1-4a89-9c89-f1db4f856a8d",
   "metadata": {},
   "outputs": [],
   "source": [
    "if FLAG_DUST:\n",
    "    print(f\"===========  MCMC simulation : With Dust , num_samples = {NUM_SAMPLES}, n_chains = {N_CHAINS}, num_warmup = {NUM_WARMUP} ========\")\n",
    "    print(f\" >>> output file {fileout_dust_hdf}\")\n",
    "    # Run NUTS.\n",
    "    rng_key = jax.random.PRNGKey(42)\n",
    "    rng_key, rng_key0, rng_key1, rng_key2 = jax.random.split(rng_key, 4)\n",
    "\n",
    "\n",
    "    kernel = NUTS(galaxymodel_withdust, dense_mass=True, target_accept_prob=0.9,\n",
    "              init_strategy=numpyro.infer.init_to_median())\n",
    "    \n",
    "    mcmc = MCMC(kernel, num_warmup=NUM_WARMUP, num_samples=NUM_SAMPLES,  \n",
    "            num_chains=N_CHAINS,\n",
    "            chain_method='vectorized',\n",
    "            progress_bar=True)\n",
    "\n",
    "    # see https://forum.pyro.ai/t/cannot-find-valid-initial-parameters-when-using-nuts-for-simple-gaussian-mixture-model-in-numpyro/2181/2\n",
    "    with numpyro.validation_enabled():\n",
    "        mcmc.run(rng_key, wlsin=wlsall, Fobs=spec_rest_att_true, \n",
    "                       initparamval = PARAM_VAL,\n",
    "                       minparamval = PARAM_MIN,\n",
    "                       maxparamval = PARAM_MAX,\n",
    "                       sigmaparamval = PARAM_SIGMA,\n",
    "                       paramnames = PARAM_NAMES,\n",
    "                       z_obs = Z_OBS,\n",
    "                       sigma = sigmadust_obs_true)\n",
    "                       #extra_fields=('potential_energy',))\n",
    "        mcmc.print_summary()\n",
    "        samples_nuts = mcmc.get_samples()"
   ]
  },
  {
   "cell_type": "markdown",
   "id": "04c06c79-d377-4f19-bed6-87004993d85e",
   "metadata": {},
   "source": [
    "### results of MCMC with DUST"
   ]
  },
  {
   "cell_type": "code",
   "execution_count": null,
   "id": "a9147a00-48c7-4035-9a17-e02ed949cc86",
   "metadata": {},
   "outputs": [],
   "source": [
    "if FLAG_DUST:\n",
    "    az.ess(samples_nuts, relative=True)  # efficacité relative"
   ]
  },
  {
   "cell_type": "code",
   "execution_count": null,
   "id": "9e16fdd0-7732-4b7d-92cb-2ed908929061",
   "metadata": {},
   "outputs": [],
   "source": [
    "if FLAG_DUST:\n",
    "    data = az.from_numpyro(mcmc)\n",
    "    az.plot_trace(data, compact=True);\n",
    "    plt.tight_layout()"
   ]
  },
  {
   "cell_type": "markdown",
   "id": "c77dc1aa-a43d-4980-85b1-d3253d2a5ace",
   "metadata": {},
   "source": [
    "### pandas dataframe with dust"
   ]
  },
  {
   "cell_type": "code",
   "execution_count": null,
   "id": "d794364b-2897-4103-b155-f1730cdfcac3",
   "metadata": {},
   "outputs": [],
   "source": [
    "if FLAG_DUST:\n",
    "    df_dust = pd.DataFrame(samples_nuts) "
   ]
  },
  {
   "cell_type": "code",
   "execution_count": null,
   "id": "f2db6081-74b5-43f2-9ba9-29f598ed5d30",
   "metadata": {},
   "outputs": [],
   "source": [
    "#df_dust"
   ]
  },
  {
   "cell_type": "code",
   "execution_count": null,
   "id": "aecdbd78-8696-4e61-a3ee-3e05ae4117d8",
   "metadata": {},
   "outputs": [],
   "source": [
    "if FLAG_DUST:\n",
    "    \n",
    "    #with open(fileout_pickle, 'wb') as handle:\n",
    "    #    pickle.dump(samples_nuts, handle, protocol=pickle.HIGHEST_PROTOCOL)\n",
    "    #df_dust.to_csv(fileout_csv)\n",
    "    df_dust = pd.DataFrame(samples_nuts)\n",
    "    df_dust.to_hdf(fileout_dust_hdf, key=\"dsps_mcmc_dust\",mode='a', complevel=9)\n",
    "    df_info.to_hdf(fileout_dust_hdf,key=\"obs\",mode='a')\n",
    "    df_params.to_hdf(fileout_dust_hdf,key=\"params\",mode='a')\n",
    "    df_mcmc.to_hdf(fileout_dust_hdf,key=\"mcmc\",mode='a')\n",
    "    \n"
   ]
  },
  {
   "cell_type": "code",
   "execution_count": null,
   "id": "33220ea3-3d02-4f89-9d64-90c241597d84",
   "metadata": {},
   "outputs": [],
   "source": [
    "data"
   ]
  },
  {
   "cell_type": "code",
   "execution_count": null,
   "id": "0c2b2942-ae07-457c-a99c-26b6f1c948c6",
   "metadata": {},
   "outputs": [],
   "source": [
    "mcmc.print_summary()"
   ]
  },
  {
   "cell_type": "code",
   "execution_count": null,
   "id": "a7d2a26b-a67d-44e8-a29f-7e98f1fcba07",
   "metadata": {},
   "outputs": [],
   "source": [
    "df_dust.describe()"
   ]
  },
  {
   "cell_type": "code",
   "execution_count": null,
   "id": "fac8af36-2553-44f3-8b52-309f1fd85f4c",
   "metadata": {},
   "outputs": [],
   "source": []
  }
 ],
 "metadata": {
  "kernelspec": {
   "display_name": "conda_jaxcpu_dsps_py310",
   "language": "python",
   "name": "conda_jaxcpu_dsps_py310"
  },
  "language_info": {
   "codemirror_mode": {
    "name": "ipython",
    "version": 3
   },
   "file_extension": ".py",
   "mimetype": "text/x-python",
   "name": "python",
   "nbconvert_exporter": "python",
   "pygments_lexer": "ipython3",
   "version": "3.10.13"
  }
 },
 "nbformat": 4,
 "nbformat_minor": 5
}
