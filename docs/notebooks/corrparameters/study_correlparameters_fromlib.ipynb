{
 "cells": [
  {
   "cell_type": "markdown",
   "id": "661a0254-d1ce-452e-af01-3e5143dac398",
   "metadata": {},
   "source": [
    "# Study the correlation between the SSP Parameters"
   ]
  },
  {
   "cell_type": "markdown",
   "id": "ae1e5e1e-8c8f-41b3-b02c-388399f98b2f",
   "metadata": {},
   "source": [
    "Study the correlation between the parameters using `fors2tostellarpopsynthesis`package\n",
    "\n",
    "- Author Sylvie Dagoret-Campagne\n",
    "- Afflilation : IJCLab/IN2P3/CNRS\n",
    "- Organisation : LSST-DESC\n",
    "- creation date : 2023-12-05\n",
    "- last update : 2023-12-05"
   ]
  },
  {
   "cell_type": "markdown",
   "id": "c7d6258e-39da-41ba-bde3-4fa2a24a8e9f",
   "metadata": {},
   "source": [
    "\n",
    "| computer | processor | kernel              |    date     |\n",
    "| --- | --- | --- | --- |\n",
    "| CC       | CPU       | conda_jax0325_py310 | 2023-11-10  |\n",
    "| macbookpro | CPU | conda_jaxcpu_dsps_py310 | 2023-11-10  | \n",
    "\n",
    "\n",
    "libraries \n",
    "=========\n",
    "\n",
    "jax\n",
    "---\n",
    "\n",
    "- jaxlib-0.3.25+cuda11.cudnn82\n",
    "- jaxopt\n",
    "- optax\n",
    "- corner\n",
    "- arviz\n",
    "- numpyro\n",
    "- graphviz\n",
    "\n",
    "sps\n",
    "---\n",
    "\n",
    "- fsps\n",
    "- prospect\n",
    "- dsps\n",
    "- diffstar\n",
    "- diffmah\n",
    "\n",
    "\n",
    "\n",
    "(conda_jax0325_py310) \n",
    "`/pbs/throng/lsst/users/dagoret/desc/StellarPopulationSynthesis>pip list | grep` \n",
    "\n",
    "| lib | version |\n",
    "|--- | --- | \n",
    "|jax  |                         0.4.20 |\n",
    "|jaxlib |                       0.4.20 |\n",
    "|jaxopt  |                      0.8.2 |\n",
    "\n"
   ]
  },
  {
   "cell_type": "markdown",
   "id": "7376715d-2b8d-4db3-99f0-8191a84a7a8f",
   "metadata": {},
   "source": [
    "## examples\n",
    "\n",
    "- jaxcosmo : https://github.com/DifferentiableUniverseInitiative/jax-cosmo-paper/blob/master/notebooks/VectorizedNumPyro.ipynb\n",
    "- on atmosphere : https://github.com/sylvielsstfr/FitDiffAtmo/blob/main/docs/notebooks/fitdiffatmo/test_numpyro_orderedict_diffatmemul_5params_P_pwv_oz_tau_beta.ipynb"
   ]
  },
  {
   "cell_type": "markdown",
   "id": "52f82817-2f0a-438d-b2dd-e98deda88853",
   "metadata": {},
   "source": [
    "## Import"
   ]
  },
  {
   "cell_type": "markdown",
   "id": "c65534cb-1b8d-459e-9b7c-00e28a347c93",
   "metadata": {},
   "source": [
    "### import external packages"
   ]
  },
  {
   "cell_type": "code",
   "execution_count": null,
   "id": "230608b3-78da-46d1-95e6-3ea0430fe0bb",
   "metadata": {},
   "outputs": [],
   "source": [
    "import h5py\n",
    "import pandas as pd\n",
    "import numpy as np\n",
    "import os\n",
    "import re\n",
    "import pickle \n",
    "import matplotlib as mpl\n",
    "import matplotlib.pyplot as plt\n",
    "%matplotlib inline\n",
    "import matplotlib.colors as colors\n",
    "import matplotlib.cm as cmx\n",
    "import collections\n",
    "from collections import OrderedDict\n",
    "import re\n",
    "import matplotlib.gridspec as gridspec\n",
    "from sklearn.gaussian_process import GaussianProcessRegressor, kernels"
   ]
  },
  {
   "cell_type": "code",
   "execution_count": null,
   "id": "f43bc2a4-7ade-48ed-b8ff-9695651cbb6c",
   "metadata": {},
   "outputs": [],
   "source": [
    "import jax\n",
    "import jax.numpy as jnp\n",
    "from jax import vmap\n",
    "import jaxopt\n",
    "import optax\n",
    "jax.config.update(\"jax_enable_x64\", True)\n",
    "from interpax import interp1d\n",
    "\n",
    "from jax.lax import fori_loop\n",
    "from jax.lax import select,cond\n",
    "from jax.lax import concatenate"
   ]
  },
  {
   "cell_type": "code",
   "execution_count": null,
   "id": "fc9a9ab4-e679-460c-8991-87dca282b82c",
   "metadata": {},
   "outputs": [],
   "source": [
    "import numpyro\n",
    "from numpyro import optim\n",
    "from numpyro.diagnostics import print_summary\n",
    "import numpyro.distributions as dist\n",
    "from numpyro.distributions import constraints\n",
    "from numpyro.infer import MCMC, HMC, NUTS, SVI, Trace_ELBO\n",
    "from numpyro.infer.autoguide import AutoBNAFNormal, AutoMultivariateNormal\n",
    "from numpyro.infer.reparam import NeuTraReparam\n",
    "from numpyro.handlers import seed, trace, condition\n",
    "\n",
    "\n",
    "import corner\n",
    "import arviz as az"
   ]
  },
  {
   "cell_type": "markdown",
   "id": "88cc2b50-5edb-41bb-be36-74822ae3628c",
   "metadata": {},
   "source": [
    "### import internal packages"
   ]
  },
  {
   "cell_type": "code",
   "execution_count": null,
   "id": "fe70e703-79e0-4cd6-8be4-067f072f7aab",
   "metadata": {},
   "outputs": [],
   "source": [
    "from fors2tostellarpopsynthesis.parameters  import SSPParametersFit,paramslist_to_dict"
   ]
  },
  {
   "cell_type": "code",
   "execution_count": null,
   "id": "1bbeeb61-05a9-478d-b300-cc3ccf59f06b",
   "metadata": {},
   "outputs": [],
   "source": [
    "from fors2tostellarpopsynthesis.fitters.fitter_jaxopt import (SSP_DATA,mean_spectrum,mean_mags,mean_sfr,ssp_spectrum_fromparam)"
   ]
  },
  {
   "cell_type": "code",
   "execution_count": null,
   "id": "5b587c81-4485-46ed-915c-a5e06e038dc8",
   "metadata": {},
   "outputs": [],
   "source": [
    "from fors2tostellarpopsynthesis.fitters.fitter_numpyro import(PARAM_SIMLAW_NODUST,PARAM_SIMLAW_WITHDUST,\n",
    "                            PARAM_NAMES,PARAM_VAL,PARAM_MIN,PARAM_MAX,PARAM_SIGMA)\n",
    "\n",
    "from fors2tostellarpopsynthesis.fitters.fitter_numpyro import(galaxymodel_nodust_av,galaxymodel_nodust,galaxymodel_withdust_av,galaxymodel_withdust)"
   ]
  },
  {
   "cell_type": "markdown",
   "id": "98c8a995-a7d4-44b6-b17b-b1affe9dca9b",
   "metadata": {},
   "source": [
    "## Configuration"
   ]
  },
  {
   "cell_type": "markdown",
   "id": "2b81247d-02a8-4437-a07c-29cf54286fdf",
   "metadata": {},
   "source": [
    "### matplotlib configuration"
   ]
  },
  {
   "cell_type": "code",
   "execution_count": null,
   "id": "96dbd3a3-cfc2-4077-a7f4-729896bb64e5",
   "metadata": {},
   "outputs": [],
   "source": [
    "plt.rcParams[\"figure.figsize\"] = (12,6)\n",
    "plt.rcParams[\"axes.labelsize\"] = 'xx-large'\n",
    "plt.rcParams['axes.titlesize'] = 'xx-large'\n",
    "plt.rcParams['xtick.labelsize']= 'xx-large'\n",
    "plt.rcParams['ytick.labelsize']= 'xx-large'\n",
    "plt.rcParams['legend.fontsize']=  16\n",
    "plt.rcParams['font.size'] = 15"
   ]
  },
  {
   "cell_type": "markdown",
   "id": "eeda3399-e8a9-42a5-856a-26cb98ebb971",
   "metadata": {},
   "source": [
    "## Fit parameters"
   ]
  },
  {
   "cell_type": "code",
   "execution_count": null,
   "id": "10addade-ef1d-4b84-9208-d6f9782efa1b",
   "metadata": {},
   "outputs": [],
   "source": [
    "p = SSPParametersFit()"
   ]
  },
  {
   "cell_type": "code",
   "execution_count": null,
   "id": "01d27771-0304-4c22-b615-ecf022837445",
   "metadata": {},
   "outputs": [],
   "source": [
    "p.INIT_PARAMS = p.INIT_PARAMS.at[-4].set(0.)\n",
    "p.INIT_PARAMS = p.INIT_PARAMS.at[-3].set(0.)\n",
    "p.INIT_PARAMS = p.INIT_PARAMS.at[-2].set(0.)\n",
    "p.INIT_PARAMS = p.INIT_PARAMS.at[-1].set(1.)"
   ]
  },
  {
   "cell_type": "code",
   "execution_count": null,
   "id": "511a100b-de3c-42e8-939f-2dd29d7d98fc",
   "metadata": {},
   "outputs": [],
   "source": [
    "wlsall,spec_rest,spec_rest_att = ssp_spectrum_fromparam(p.DICT_PARAMS_true,0)"
   ]
  },
  {
   "cell_type": "code",
   "execution_count": null,
   "id": "ddbddc4c-50b6-4fc6-958d-0cccd2384f7e",
   "metadata": {},
   "outputs": [],
   "source": [
    "print(PARAM_SIMLAW_NODUST)  \n",
    "print(PARAM_SIMLAW_WITHDUST) \n",
    "print(PARAM_NAMES)\n",
    "print(PARAM_VAL)\n",
    "print(PARAM_MIN) \n",
    "print(PARAM_MAX)\n",
    "print(PARAM_SIGMA)"
   ]
  },
  {
   "cell_type": "code",
   "execution_count": null,
   "id": "60236e4c-b88c-42a6-b32e-c40c5cd4d139",
   "metadata": {},
   "outputs": [],
   "source": [
    "z_obs = 0.5\n",
    "sigmarel_obs = 0.1\n",
    "sigma_obs = 1e-11"
   ]
  },
  {
   "cell_type": "markdown",
   "id": "57eb1faf-ebf6-422d-af53-ef5d25d79679",
   "metadata": {},
   "source": [
    "## Bayesian modelling"
   ]
  },
  {
   "cell_type": "code",
   "execution_count": null,
   "id": "723fe63c-044d-455e-b639-61c163bbe01e",
   "metadata": {},
   "outputs": [],
   "source": [
    "condlist_fix = jnp.where(PARAM_SIMLAW_NODUST == \"fixed\",True,False)\n",
    "condlist_fix"
   ]
  },
  {
   "cell_type": "code",
   "execution_count": null,
   "id": "954c09ba-04bf-4c14-bcb7-6c28f1a76fe5",
   "metadata": {},
   "outputs": [],
   "source": [
    "condlist_uniform = jnp.where(PARAM_SIMLAW_NODUST == \"uniform\",True,False)\n",
    "condlist_uniform"
   ]
  },
  {
   "cell_type": "code",
   "execution_count": null,
   "id": "9e5b57b4-9298-4a45-8756-80771f2b2487",
   "metadata": {},
   "outputs": [],
   "source": [
    "numpyro.render_model(galaxymodel_nodust, model_args=(jnp.array([0.]),jnp.array([1.]),\n",
    "                                                     PARAM_VAL, \n",
    "                                                     PARAM_MIN,\n",
    "                                                     PARAM_MAX,\n",
    "                                                     PARAM_SIGMA, \n",
    "                                                     PARAM_NAMES,\n",
    "                                                     z_obs,sigma_obs),render_distributions=True)"
   ]
  },
  {
   "cell_type": "code",
   "execution_count": null,
   "id": "d7dc7698-5769-48b3-bfd4-8b5e1d322fb2",
   "metadata": {},
   "outputs": [],
   "source": [
    "numpyro.render_model(galaxymodel_withdust, model_args=(jnp.array([0.]),jnp.array([1.]),\n",
    "                                                     PARAM_VAL, \n",
    "                                                     PARAM_MIN,\n",
    "                                                     PARAM_MAX,\n",
    "                                                     PARAM_SIGMA, \n",
    "                                                     PARAM_NAMES,\n",
    "                                                     z_obs,sigma_obs),render_distributions=True)"
   ]
  },
  {
   "cell_type": "code",
   "execution_count": null,
   "id": "66524b04-2965-47d6-9185-5c934cc592c4",
   "metadata": {},
   "outputs": [],
   "source": [
    "assert False"
   ]
  },
  {
   "cell_type": "code",
   "execution_count": null,
   "id": "7237a81f-5dfe-42e6-94eb-c082851a33ef",
   "metadata": {},
   "outputs": [],
   "source": [
    "\n",
    "# So, let's generate the data at the fiducial parameters\n",
    "fiducial_model = condition(galaxymodel_nodust, p.DICT_PARAMS_true)\n",
    "# Run the conditionned model (if not conditionned the priors are executed)\n",
    "trace_data_nodust = trace(seed(fiducial_model, jax.random.PRNGKey(42))).get_trace(wlsall,\n",
    "                       minparamval = PARAM_MIN,\n",
    "                       maxparamval = PARAM_MAX,\n",
    "                       sigmaparamval = PARAM_SIGMA,\n",
    "                       paramnames = PARAM_NAMES,\n",
    "                       z_obs = z_obs,\n",
    "                       sigma = sigma_obs)"
   ]
  },
  {
   "cell_type": "code",
   "execution_count": null,
   "id": "f0d6fc49-8d5a-4ee3-a9b9-4a9b90016058",
   "metadata": {},
   "outputs": [],
   "source": [
    "spec_nodust = trace_data_nodust['F'][\"value\"]"
   ]
  },
  {
   "cell_type": "code",
   "execution_count": null,
   "id": "7c99c5b7-9d8d-44cb-b5e0-ee71c3c07634",
   "metadata": {},
   "outputs": [],
   "source": [
    "# So, let's generate the data at the fiducial parameters\n",
    "fiducial_model = condition(galaxymodel_withdust, p.DICT_PARAMS_true)\n",
    "# Run the conditionned model (if not conditionned the priors are executed)\n",
    "trace_data_withdust = trace(seed(fiducial_model, jax.random.PRNGKey(42))).get_trace(wlsall,\n",
    "                       minparamval = PARAM_MIN,\n",
    "                       maxparamval = PARAM_MAX,\n",
    "                       sigmaparamval = PARAM_SIGMA,\n",
    "                       paramnames = PARAM_NAMES,\n",
    "                       z_obs = z_obs,\n",
    "                       sigma = sigma_obs)"
   ]
  },
  {
   "cell_type": "code",
   "execution_count": null,
   "id": "762d261e-7158-4ea9-89fc-cef3d59e90e2",
   "metadata": {},
   "outputs": [],
   "source": [
    "spec_withdust = trace_data_withdust['F'][\"value\"]"
   ]
  },
  {
   "cell_type": "code",
   "execution_count": null,
   "id": "16f5c36a-c720-4cf4-80a8-40c7fd4c70b1",
   "metadata": {},
   "outputs": [],
   "source": [
    "fig,ax = plt.subplots(1,1,figsize=(10,3))\n",
    "ax.errorbar(wlsall,spec_nodust,yerr=sigma_obs,fmt='o',ms=0.5 ,linewidth=2, capsize=0, c='k', label=\"no dust\")\n",
    "ax.errorbar(wlsall,spec_withdust,yerr=sigma_obs, fmt='o', ms=0.5,linewidth=2, capsize=0, c='r', label=\"with dust\")\n",
    "ax.set_xlabel(\"$\\lambda$ (nm)\")\n",
    "ax.set_ylabel(\"DSPS spectrim\")\n",
    "ax.legend()\n",
    "ax.set_yscale('log')\n",
    "ax.set_ylim(1e-11,1e-5)\n",
    "ax.set_xlim(1e2,1e6)\n",
    "ax.set_xscale('log')\n",
    "ax.grid();\n"
   ]
  },
  {
   "cell_type": "code",
   "execution_count": null,
   "id": "eaba15d1-d248-4364-9b7d-ca52b9d9531e",
   "metadata": {},
   "outputs": [],
   "source": [
    "# Run NUTS.\n",
    "rng_key = jax.random.PRNGKey(42)\n",
    "rng_key, rng_key0, rng_key1, rng_key2 = jax.random.split(rng_key, 4)\n",
    "\n",
    "\n",
    "kernel = NUTS(galaxymodel_nodust, dense_mass=True, target_accept_prob=0.9,\n",
    "              init_strategy=numpyro.infer.init_to_median())\n",
    "num_samples = 5_000\n",
    "n_chains = 4\n",
    "mcmc = MCMC(kernel, num_warmup=1_000, num_samples=num_samples,  \n",
    "            num_chains=n_chains,\n",
    "            chain_method='vectorized',\n",
    "            progress_bar=True)\n",
    "mcmc.run(rng_key, wlsin=wlsall, Fobs=spec_nodust,\n",
    "                       minparamval = PARAM_MIN,\n",
    "                       maxparamval = PARAM_MAX,\n",
    "                       sigmaparamval = PARAM_SIGMA,\n",
    "                       paramnames = PARAM_NAMES,\n",
    "                       z_obs = z_obs,\n",
    "                       sigma = sigma_obs,\n",
    "                       extra_fields=('potential_energy',))\n",
    "mcmc.print_summary()\n",
    "samples_nuts = mcmc.get_samples()"
   ]
  },
  {
   "cell_type": "code",
   "execution_count": null,
   "id": "707f89a9-1076-4b98-b6f2-70ffdb6b4755",
   "metadata": {},
   "outputs": [],
   "source": [
    "az.ess(samples_nuts, relative=True)  # efficacité relative"
   ]
  },
  {
   "cell_type": "code",
   "execution_count": null,
   "id": "e99cf1ea-b2c9-44a9-a82e-ecb68edf18dd",
   "metadata": {},
   "outputs": [],
   "source": []
  },
  {
   "cell_type": "code",
   "execution_count": null,
   "id": "b75766a3-fdd1-4671-93f1-305c652f72b9",
   "metadata": {},
   "outputs": [],
   "source": [
    "data = az.from_numpyro(mcmc)\n",
    "az.plot_trace(data, compact=True);\n"
   ]
  }
 ],
 "metadata": {
  "kernelspec": {
   "display_name": "conda_jaxcpu_dsps_py310",
   "language": "python",
   "name": "conda_jaxcpu_dsps_py310"
  },
  "language_info": {
   "codemirror_mode": {
    "name": "ipython",
    "version": 3
   },
   "file_extension": ".py",
   "mimetype": "text/x-python",
   "name": "python",
   "nbconvert_exporter": "python",
   "pygments_lexer": "ipython3",
   "version": "3.10.13"
  }
 },
 "nbformat": 4,
 "nbformat_minor": 5
}
