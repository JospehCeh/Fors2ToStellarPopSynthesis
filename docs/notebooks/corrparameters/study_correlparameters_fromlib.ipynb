{
 "cells": [
  {
   "cell_type": "markdown",
   "id": "661a0254-d1ce-452e-af01-3e5143dac398",
   "metadata": {},
   "source": [
    "# Study the correlation between the SSP Parameters"
   ]
  },
  {
   "cell_type": "markdown",
   "id": "ae1e5e1e-8c8f-41b3-b02c-388399f98b2f",
   "metadata": {},
   "source": [
    "Generate simulation data to study the correlation between the parameters using `fors2tostellarpopsynthesis`package\n",
    "\n",
    "- Author Sylvie Dagoret-Campagne\n",
    "- Afflilation : IJCLab/IN2P3/CNRS\n",
    "- Organisation : LSST-DESC\n",
    "- creation date : 2023-12-05\n",
    "- last update : 2023-12-05"
   ]
  },
  {
   "cell_type": "markdown",
   "id": "c7d6258e-39da-41ba-bde3-4fa2a24a8e9f",
   "metadata": {},
   "source": [
    "\n",
    "| computer | processor | kernel              |    date     |\n",
    "| --- | --- | --- | --- |\n",
    "| CC       | CPU       | conda_jax0325_py310 | 2023-11-10  |\n",
    "| macbookpro | CPU | conda_jaxcpu_dsps_py310 | 2023-11-10  | \n",
    "\n",
    "\n",
    "libraries \n",
    "=========\n",
    "\n",
    "jax\n",
    "---\n",
    "\n",
    "- jaxlib-0.3.25+cuda11.cudnn82\n",
    "- jaxopt\n",
    "- optax\n",
    "- corner\n",
    "- arviz\n",
    "- numpyro\n",
    "- graphviz\n",
    "\n",
    "sps\n",
    "---\n",
    "\n",
    "- fsps\n",
    "- prospect\n",
    "- dsps\n",
    "- diffstar\n",
    "- diffmah\n",
    "\n",
    "\n",
    "\n",
    "(conda_jax0325_py310) \n",
    "`/pbs/throng/lsst/users/dagoret/desc/StellarPopulationSynthesis>pip list | grep` \n",
    "\n",
    "| lib | version |\n",
    "|--- | --- | \n",
    "|jax  |                         0.4.20 |\n",
    "|jaxlib |                       0.4.20 |\n",
    "|jaxopt  |                      0.8.2 |\n",
    "\n"
   ]
  },
  {
   "cell_type": "markdown",
   "id": "7376715d-2b8d-4db3-99f0-8191a84a7a8f",
   "metadata": {},
   "source": [
    "## examples\n",
    "\n",
    "- jaxcosmo : https://github.com/DifferentiableUniverseInitiative/jax-cosmo-paper/blob/master/notebooks/VectorizedNumPyro.ipynb\n",
    "- on atmosphere : https://github.com/sylvielsstfr/FitDiffAtmo/blob/main/docs/notebooks/fitdiffatmo/test_numpyro_orderedict_diffatmemul_5params_P_pwv_oz_tau_beta.ipynb"
   ]
  },
  {
   "cell_type": "markdown",
   "id": "52f82817-2f0a-438d-b2dd-e98deda88853",
   "metadata": {},
   "source": [
    "## Import"
   ]
  },
  {
   "cell_type": "markdown",
   "id": "c65534cb-1b8d-459e-9b7c-00e28a347c93",
   "metadata": {},
   "source": [
    "### import external packages"
   ]
  },
  {
   "cell_type": "code",
   "execution_count": null,
   "id": "230608b3-78da-46d1-95e6-3ea0430fe0bb",
   "metadata": {},
   "outputs": [],
   "source": [
    "import h5py\n",
    "import pandas as pd\n",
    "import numpy as np\n",
    "import os\n",
    "import re\n",
    "import pickle \n",
    "import matplotlib as mpl\n",
    "import matplotlib.pyplot as plt\n",
    "%matplotlib inline\n",
    "import matplotlib.colors as colors\n",
    "import matplotlib.cm as cmx\n",
    "import collections\n",
    "from collections import OrderedDict\n",
    "import re\n",
    "import matplotlib.gridspec as gridspec\n",
    "from sklearn.gaussian_process import GaussianProcessRegressor, kernels"
   ]
  },
  {
   "cell_type": "code",
   "execution_count": null,
   "id": "f43bc2a4-7ade-48ed-b8ff-9695651cbb6c",
   "metadata": {},
   "outputs": [],
   "source": [
    "import jax\n",
    "import jax.numpy as jnp\n",
    "from jax import vmap\n",
    "import jaxopt\n",
    "import optax\n",
    "jax.config.update(\"jax_enable_x64\", True)\n",
    "from interpax import interp1d\n",
    "\n",
    "from jax.lax import fori_loop\n",
    "from jax.lax import select,cond\n",
    "from jax.lax import concatenate"
   ]
  },
  {
   "cell_type": "code",
   "execution_count": null,
   "id": "fc9a9ab4-e679-460c-8991-87dca282b82c",
   "metadata": {},
   "outputs": [],
   "source": [
    "import numpyro\n",
    "from numpyro import optim\n",
    "from numpyro.diagnostics import print_summary\n",
    "import numpyro.distributions as dist\n",
    "from numpyro.distributions import constraints\n",
    "from numpyro.infer import MCMC, HMC, NUTS, SVI, Trace_ELBO\n",
    "from numpyro.infer.autoguide import AutoBNAFNormal, AutoMultivariateNormal\n",
    "from numpyro.infer.reparam import NeuTraReparam\n",
    "from numpyro.handlers import seed, trace, condition\n",
    "\n",
    "\n",
    "import corner\n",
    "import arviz as az"
   ]
  },
  {
   "cell_type": "code",
   "execution_count": null,
   "id": "63745218-182a-4402-bc95-ac31f393477c",
   "metadata": {},
   "outputs": [],
   "source": [
    "import pickle"
   ]
  },
  {
   "cell_type": "markdown",
   "id": "88cc2b50-5edb-41bb-be36-74822ae3628c",
   "metadata": {},
   "source": [
    "### import internal packages"
   ]
  },
  {
   "cell_type": "code",
   "execution_count": null,
   "id": "fe70e703-79e0-4cd6-8be4-067f072f7aab",
   "metadata": {},
   "outputs": [],
   "source": [
    "from fors2tostellarpopsynthesis.parameters  import SSPParametersFit,paramslist_to_dict"
   ]
  },
  {
   "cell_type": "code",
   "execution_count": null,
   "id": "1bbeeb61-05a9-478d-b300-cc3ccf59f06b",
   "metadata": {},
   "outputs": [],
   "source": [
    "from fors2tostellarpopsynthesis.fitters.fitter_jaxopt import (SSP_DATA,mean_spectrum,mean_mags,mean_sfr,ssp_spectrum_fromparam)"
   ]
  },
  {
   "cell_type": "code",
   "execution_count": null,
   "id": "5b587c81-4485-46ed-915c-a5e06e038dc8",
   "metadata": {},
   "outputs": [],
   "source": [
    "from fors2tostellarpopsynthesis.fitters.fitter_numpyro import(PARAM_SIMLAW_NODUST,PARAM_SIMLAW_WITHDUST,\n",
    "                            PARAM_NAMES,PARAM_VAL,PARAM_MIN,PARAM_MAX,PARAM_SIGMA)\n",
    "\n",
    "from fors2tostellarpopsynthesis.fitters.fitter_numpyro import(galaxymodel_nodust_av,galaxymodel_nodust,galaxymodel_withdust_av,galaxymodel_withdust)"
   ]
  },
  {
   "cell_type": "code",
   "execution_count": null,
   "id": "24a2f50a-ccde-4918-8381-20babbd32605",
   "metadata": {},
   "outputs": [],
   "source": [
    "from fors2tostellarpopsynthesis.fitters.fitter_util import plot_params_kde"
   ]
  },
  {
   "cell_type": "markdown",
   "id": "98c8a995-a7d4-44b6-b17b-b1affe9dca9b",
   "metadata": {},
   "source": [
    "## Configuration"
   ]
  },
  {
   "cell_type": "markdown",
   "id": "2b81247d-02a8-4437-a07c-29cf54286fdf",
   "metadata": {},
   "source": [
    "### matplotlib configuration"
   ]
  },
  {
   "cell_type": "code",
   "execution_count": null,
   "id": "96dbd3a3-cfc2-4077-a7f4-729896bb64e5",
   "metadata": {},
   "outputs": [],
   "source": [
    "plt.rcParams[\"figure.figsize\"] = (12,6)\n",
    "plt.rcParams[\"axes.labelsize\"] = 'xx-large'\n",
    "plt.rcParams['axes.titlesize'] = 'xx-large'\n",
    "plt.rcParams['xtick.labelsize']= 'xx-large'\n",
    "plt.rcParams['ytick.labelsize']= 'xx-large'\n",
    "plt.rcParams['legend.fontsize']=  12\n",
    "plt.rcParams['font.size'] = 12"
   ]
  },
  {
   "cell_type": "markdown",
   "id": "eeda3399-e8a9-42a5-856a-26cb98ebb971",
   "metadata": {},
   "source": [
    "## Fit parameters"
   ]
  },
  {
   "cell_type": "code",
   "execution_count": null,
   "id": "10addade-ef1d-4b84-9208-d6f9782efa1b",
   "metadata": {},
   "outputs": [],
   "source": [
    "p = SSPParametersFit()"
   ]
  },
  {
   "cell_type": "code",
   "execution_count": null,
   "id": "01d27771-0304-4c22-b615-ecf022837445",
   "metadata": {},
   "outputs": [],
   "source": [
    "#p.INIT_PARAMS = p.INIT_PARAMS.at[-4].set(0.)\n",
    "#p.INIT_PARAMS = p.INIT_PARAMS.at[-3].set(0.)\n",
    "#p.INIT_PARAMS = p.INIT_PARAMS.at[-2].set(0.)\n",
    "#p.INIT_PARAMS = p.INIT_PARAMS.at[-1].set(1.)"
   ]
  },
  {
   "cell_type": "code",
   "execution_count": null,
   "id": "511a100b-de3c-42e8-939f-2dd29d7d98fc",
   "metadata": {},
   "outputs": [],
   "source": [
    "wlsall,spec_rest,spec_rest_att = ssp_spectrum_fromparam(p.DICT_PARAMS_true,0)"
   ]
  },
  {
   "cell_type": "code",
   "execution_count": null,
   "id": "f4708dc2-5f80-4659-8c5b-6bb0b410e9fd",
   "metadata": {},
   "outputs": [],
   "source": [
    "df_params = pd.DataFrame({\"name\":PARAM_NAMES,\"min\": PARAM_MIN,\"val\": PARAM_VAL,\"max\": PARAM_MAX,\"sig\":PARAM_SIGMA})"
   ]
  },
  {
   "cell_type": "code",
   "execution_count": null,
   "id": "48494e32-1b0a-443e-93c9-a8576185e184",
   "metadata": {},
   "outputs": [],
   "source": [
    "df_params  = df_params.round(decimals=2)\n",
    "df_params"
   ]
  },
  {
   "cell_type": "code",
   "execution_count": null,
   "id": "ddbddc4c-50b6-4fc6-958d-0cccd2384f7e",
   "metadata": {},
   "outputs": [],
   "source": [
    "print(PARAM_SIMLAW_NODUST)  \n",
    "print(PARAM_SIMLAW_WITHDUST) \n",
    "print(PARAM_NAMES)\n",
    "print(PARAM_VAL)\n",
    "print(PARAM_MIN) \n",
    "print(PARAM_MAX)\n",
    "print(PARAM_SIGMA)"
   ]
  },
  {
   "cell_type": "code",
   "execution_count": null,
   "id": "93713831-c3d3-4439-a5d2-a19c7ae6a2b7",
   "metadata": {},
   "outputs": [],
   "source": [
    "print((PARAM_VAL-PARAM_MIN)/PARAM_SIGMA)"
   ]
  },
  {
   "cell_type": "code",
   "execution_count": null,
   "id": "908d854d-f712-44da-b79b-535b01739857",
   "metadata": {},
   "outputs": [],
   "source": [
    "print((PARAM_MAX-PARAM_VAL)/PARAM_SIGMA)"
   ]
  },
  {
   "cell_type": "code",
   "execution_count": null,
   "id": "60236e4c-b88c-42a6-b32e-c40c5cd4d139",
   "metadata": {},
   "outputs": [],
   "source": [
    "z_obs = 0.5\n",
    "sigmarel_obs = 0.1\n",
    "sigma_obs = 1e-11"
   ]
  },
  {
   "cell_type": "code",
   "execution_count": null,
   "id": "a6a14a1f-9c8e-466c-8c55-c8534548c28e",
   "metadata": {},
   "outputs": [],
   "source": [
    "with seed(rng_seed=42):\n",
    "    spec_nodust,sigmanodust_obs = galaxymodel_nodust_av(wlsall,Fobs=None,\n",
    "                       initparamval = PARAM_VAL, minparamval = PARAM_MIN,maxparamval = PARAM_MAX,\n",
    "                       sigmaparamval = PARAM_SIGMA,paramnames = PARAM_NAMES,z_obs= z_obs, sigmarel = sigmarel_obs)"
   ]
  },
  {
   "cell_type": "code",
   "execution_count": null,
   "id": "6097eaf7-55a3-42cf-9fe9-294a8ef1b416",
   "metadata": {},
   "outputs": [],
   "source": [
    "with seed(rng_seed=42):\n",
    "    spec_withdust,sigmadust_obs = galaxymodel_withdust_av(wlsall,Fobs=None,\n",
    "                       initparamval = PARAM_VAL, minparamval = PARAM_MIN,maxparamval = PARAM_MAX,\n",
    "                       sigmaparamval = PARAM_SIGMA,paramnames = PARAM_NAMES,z_obs= z_obs, sigmarel = sigmarel_obs)"
   ]
  },
  {
   "cell_type": "code",
   "execution_count": null,
   "id": "b70bdca4-de48-4f08-b470-d28e546d4fdb",
   "metadata": {},
   "outputs": [],
   "source": [
    "fig = plt.figure(figsize=(10,5))\n",
    "gs = fig.add_gridspec(2, 1,height_ratios=[3.,1.])\n",
    "ax1 = fig.add_subplot(gs[0])\n",
    "ax2 = fig.add_subplot(gs[1])\n",
    "\n",
    "ax1.set_xscale('log')\n",
    "ax1.set_yscale('log')\n",
    "ax1.errorbar(wlsall,spec_nodust,yerr=sigmanodust_obs,fmt='o',ms=0.5 ,linewidth=2, capsize=0, c='k', label=\"no dust\")\n",
    "ax1.errorbar(wlsall,spec_withdust,yerr=sigmadust_obs, fmt='o', ms=0.5,linewidth=2, capsize=0, c='r', label=\"with dust\")\n",
    "ax1.set_xlabel(\"$\\lambda$ (nm)\")\n",
    "ax1.set_ylabel(\"DSPS SED \")\n",
    "ax1.legend()\n",
    "ymin = 1e-11\n",
    "ymax = jnp.max(spec_nodust)*2.\n",
    "ax1.set_ylim(ymin,ymax)\n",
    "ax1.set_xlim(1e2,1e6)\n",
    "ax1.grid();\n",
    "\n",
    "#error\n",
    "ax2.set_yscale('log')\n",
    "ax2.set_xscale('log')\n",
    "\n",
    "ax2.plot(wlsall,sigmanodust_obs,'k-')\n",
    "ax2.plot(wlsall,sigmadust_obs,'r-')\n",
    "ax2.set_xlabel(\"$\\lambda$ (nm)\")\n",
    "ax2.set_ylabel(\"DSPS SED error\")\n",
    "\n",
    "ymin = 1e-11\n",
    "ymax = jnp.max(sigmanodust_obs)*5.\n",
    "ax2.set_ylim(ymin,ymax)\n",
    "ax2.set_xlim(1e2,1e6)\n",
    "ax2.grid();\n",
    "\n",
    "plt.tight_layout()"
   ]
  },
  {
   "cell_type": "markdown",
   "id": "57eb1faf-ebf6-422d-af53-ef5d25d79679",
   "metadata": {},
   "source": [
    "## Bayesian modelling"
   ]
  },
  {
   "cell_type": "code",
   "execution_count": null,
   "id": "723fe63c-044d-455e-b639-61c163bbe01e",
   "metadata": {},
   "outputs": [],
   "source": [
    "condlist_fix = jnp.where(PARAM_SIMLAW_NODUST == \"fixed\",True,False)\n",
    "condlist_fix"
   ]
  },
  {
   "cell_type": "code",
   "execution_count": null,
   "id": "954c09ba-04bf-4c14-bcb7-6c28f1a76fe5",
   "metadata": {},
   "outputs": [],
   "source": [
    "condlist_uniform = jnp.where(PARAM_SIMLAW_NODUST == \"uniform\",True,False)\n",
    "condlist_uniform"
   ]
  },
  {
   "cell_type": "code",
   "execution_count": null,
   "id": "9e5b57b4-9298-4a45-8756-80771f2b2487",
   "metadata": {},
   "outputs": [],
   "source": [
    "numpyro.render_model(galaxymodel_nodust, model_args=(jnp.array([0.]),jnp.array([1.]),\n",
    "                                                     PARAM_VAL, \n",
    "                                                     PARAM_MIN,\n",
    "                                                     PARAM_MAX,\n",
    "                                                     PARAM_SIGMA, \n",
    "                                                     PARAM_NAMES,\n",
    "                                                     z_obs,sigmanodust_obs),render_distributions=True)"
   ]
  },
  {
   "cell_type": "code",
   "execution_count": null,
   "id": "d7dc7698-5769-48b3-bfd4-8b5e1d322fb2",
   "metadata": {},
   "outputs": [],
   "source": [
    "numpyro.render_model(galaxymodel_withdust, model_args=(jnp.array([0.]),jnp.array([1.]),\n",
    "                                                     PARAM_VAL, \n",
    "                                                     PARAM_MIN,\n",
    "                                                     PARAM_MAX,\n",
    "                                                     PARAM_SIGMA, \n",
    "                                                     PARAM_NAMES,\n",
    "                                                     z_obs,sigma_obs),render_distributions=True)"
   ]
  },
  {
   "cell_type": "code",
   "execution_count": null,
   "id": "7237a81f-5dfe-42e6-94eb-c082851a33ef",
   "metadata": {},
   "outputs": [],
   "source": [
    "# So, let's generate the data at the fiducial parameters\n",
    "fiducial_model = condition(galaxymodel_nodust, p.DICT_PARAMS_true)\n",
    "# Run the conditionned model (if not conditionned the priors are executed)\n",
    "trace_data_nodust = trace(seed(fiducial_model, jax.random.PRNGKey(42))).get_trace(wlsall,\n",
    "                       initparamval = PARAM_VAL,                                                           \n",
    "                       minparamval = PARAM_MIN,\n",
    "                       maxparamval = PARAM_MAX,\n",
    "                       sigmaparamval = PARAM_SIGMA,\n",
    "                       paramnames = PARAM_NAMES,\n",
    "                       z_obs = z_obs,\n",
    "                       sigma = sigmanodust_obs)"
   ]
  },
  {
   "cell_type": "code",
   "execution_count": null,
   "id": "f0d6fc49-8d5a-4ee3-a9b9-4a9b90016058",
   "metadata": {},
   "outputs": [],
   "source": [
    "spec_nodust = trace_data_nodust['F'][\"value\"]"
   ]
  },
  {
   "cell_type": "code",
   "execution_count": null,
   "id": "7c99c5b7-9d8d-44cb-b5e0-ee71c3c07634",
   "metadata": {},
   "outputs": [],
   "source": [
    "# So, let's generate the data at the fiducial parameters\n",
    "fiducial_model = condition(galaxymodel_withdust, p.DICT_PARAMS_true)\n",
    "# Run the conditionned model (if not conditionned the priors are executed)\n",
    "trace_data_withdust = trace(seed(fiducial_model, jax.random.PRNGKey(42))).get_trace(wlsall,\n",
    "                       initparamval = PARAM_VAL,                                                             \n",
    "                       minparamval = PARAM_MIN,\n",
    "                       maxparamval = PARAM_MAX,\n",
    "                       sigmaparamval = PARAM_SIGMA,\n",
    "                       paramnames = PARAM_NAMES,\n",
    "                       z_obs = z_obs,\n",
    "                       sigma = sigmadust_obs)"
   ]
  },
  {
   "cell_type": "code",
   "execution_count": null,
   "id": "2b2918a1-3bfb-40d7-bf1c-f35a6e5fc253",
   "metadata": {},
   "outputs": [],
   "source": [
    "#trace_data_withdust"
   ]
  },
  {
   "cell_type": "code",
   "execution_count": null,
   "id": "762d261e-7158-4ea9-89fc-cef3d59e90e2",
   "metadata": {},
   "outputs": [],
   "source": [
    "spec_withdust = trace_data_withdust['F'][\"value\"]"
   ]
  },
  {
   "cell_type": "code",
   "execution_count": null,
   "id": "16f5c36a-c720-4cf4-80a8-40c7fd4c70b1",
   "metadata": {},
   "outputs": [],
   "source": [
    "fig,ax = plt.subplots(1,1,figsize=(10,3))\n",
    "ax.errorbar(wlsall,spec_nodust,yerr=sigma_obs,fmt='o',ms=0.5 ,linewidth=2, capsize=0, c='k', label=\"no dust\")\n",
    "ax.errorbar(wlsall,spec_withdust,yerr=sigma_obs, fmt='o', ms=0.5,linewidth=2, capsize=0, c='r', label=\"with dust\")\n",
    "ax.set_xlabel(\"$\\lambda$ (nm)\")\n",
    "ax.set_ylabel(\"DSPS spectrim\")\n",
    "ax.legend()\n",
    "ax.set_yscale('log')\n",
    "ax.set_ylim(1e-11,1e-5)\n",
    "ax.set_xlim(1e2,1e6)\n",
    "ax.set_xscale('log')\n",
    "ax.grid();\n"
   ]
  },
  {
   "cell_type": "markdown",
   "id": "8cc6cdda-e164-4eac-98d4-a8d1eab0010b",
   "metadata": {},
   "source": [
    "## Info"
   ]
  },
  {
   "cell_type": "code",
   "execution_count": null,
   "id": "5f5a772d-6729-470a-bd6a-ddc5c4d69f33",
   "metadata": {},
   "outputs": [],
   "source": [
    "df_info = pd.Series({\"z_obs\":z_obs,\"sigmarel_obs\":sigmarel_obs})"
   ]
  },
  {
   "cell_type": "code",
   "execution_count": null,
   "id": "e02ced98-fabf-4d11-af8a-285b44c55d2d",
   "metadata": {},
   "outputs": [],
   "source": [
    "df_info"
   ]
  },
  {
   "cell_type": "markdown",
   "id": "9045f9ec-1fde-419d-a5d7-fc5d828e85b6",
   "metadata": {},
   "source": [
    "## MCMC without dust"
   ]
  },
  {
   "cell_type": "code",
   "execution_count": null,
   "id": "afb3ea08-d7e6-40ed-9530-c757533370a1",
   "metadata": {},
   "outputs": [],
   "source": [
    "FLAG_NODUST = True"
   ]
  },
  {
   "cell_type": "markdown",
   "id": "f9f34b21-8d4b-4906-b796-0355e4cc1e84",
   "metadata": {},
   "source": [
    "### Output file for MCMC without dust"
   ]
  },
  {
   "cell_type": "code",
   "execution_count": null,
   "id": "229c24d5-49c5-4ea3-93c9-f8236839d4bd",
   "metadata": {},
   "outputs": [],
   "source": [
    "fileout_pickle = f\"DSPS_nodust_mcmc_params_wide.pickle\"\n",
    "fileout_csv = f\"DSPS_nodust_mcmc_params_wide.csv\"\n",
    "fileout_hdf = f\"DSPS_nodust_mcmc_params_wide.hdf\""
   ]
  },
  {
   "cell_type": "markdown",
   "id": "8efe3aeb-d845-49a7-ad6a-f504a5754649",
   "metadata": {},
   "source": [
    "### Run MCMC"
   ]
  },
  {
   "cell_type": "code",
   "execution_count": null,
   "id": "eaba15d1-d248-4364-9b7d-ca52b9d9531e",
   "metadata": {},
   "outputs": [],
   "source": [
    "if FLAG_NODUST:\n",
    "\n",
    "    # Run NUTS.\n",
    "    rng_key = jax.random.PRNGKey(42)\n",
    "    rng_key, rng_key0, rng_key1, rng_key2 = jax.random.split(rng_key, 4)\n",
    "\n",
    "\n",
    "    kernel = NUTS(galaxymodel_nodust, dense_mass=True, target_accept_prob=0.9,init_strategy=numpyro.infer.init_to_median())\n",
    "\n",
    "    num_samples = 5_000\n",
    "    n_chains = 4\n",
    "    mcmc = MCMC(kernel, num_warmup=1_000, num_samples=num_samples,  \n",
    "            num_chains=n_chains,\n",
    "            chain_method='vectorized',\n",
    "            progress_bar=True)\n",
    "    # see https://forum.pyro.ai/t/cannot-find-valid-initial-parameters-when-using-nuts-for-simple-gaussian-mixture-model-in-numpyro/2181/2\n",
    "    with numpyro.validation_enabled():\n",
    "        mcmc.run(rng_key, wlsin=wlsall, Fobs=spec_nodust, initparamval = PARAM_VAL,\n",
    "                       minparamval = PARAM_MIN,\n",
    "                       maxparamval = PARAM_MAX,\n",
    "                       sigmaparamval = PARAM_SIGMA,\n",
    "                       paramnames = PARAM_NAMES,\n",
    "                       z_obs = z_obs,\n",
    "                       sigma = sigmanodust_obs,\n",
    "                       extra_fields=('potential_energy',))\n",
    "        mcmc.print_summary()\n",
    "        samples_nuts = mcmc.get_samples()"
   ]
  },
  {
   "cell_type": "markdown",
   "id": "37ea4d7e-d63b-4745-8ff3-f4a49bac1d98",
   "metadata": {},
   "source": [
    "### Results of MCMC no dust"
   ]
  },
  {
   "cell_type": "code",
   "execution_count": null,
   "id": "707f89a9-1076-4b98-b6f2-70ffdb6b4755",
   "metadata": {},
   "outputs": [],
   "source": [
    "if FLAG_NODUST:\n",
    "    az.ess(samples_nuts, relative=True)  # efficacité relative"
   ]
  },
  {
   "cell_type": "code",
   "execution_count": null,
   "id": "b75766a3-fdd1-4671-93f1-305c652f72b9",
   "metadata": {},
   "outputs": [],
   "source": [
    "if FLAG_NODUST:\n",
    "    data = az.from_numpyro(mcmc)\n",
    "    az.plot_trace(data, compact=True);"
   ]
  },
  {
   "cell_type": "code",
   "execution_count": null,
   "id": "5c551a48-8754-42c3-a1ea-3b16ed12aadd",
   "metadata": {},
   "outputs": [],
   "source": [
    "if FLAG_NODUST:\n",
    "    data"
   ]
  },
  {
   "cell_type": "markdown",
   "id": "75ebe2ef-42de-40fb-9e33-804e8ebc15d8",
   "metadata": {},
   "source": [
    "### Pandas dataframe"
   ]
  },
  {
   "cell_type": "code",
   "execution_count": null,
   "id": "d4db8e45-d48d-402b-aeb4-960470c1478a",
   "metadata": {},
   "outputs": [],
   "source": [
    "if FLAG_NODUST:\n",
    "    df_nodust = pd.DataFrame(samples_nuts) "
   ]
  },
  {
   "cell_type": "code",
   "execution_count": null,
   "id": "771bca27-85c5-444a-8267-2609a24540b0",
   "metadata": {},
   "outputs": [],
   "source": [
    "#df_nodust"
   ]
  },
  {
   "cell_type": "code",
   "execution_count": null,
   "id": "598b69f0-69dc-4347-b1cd-b5c90196b7b7",
   "metadata": {},
   "outputs": [],
   "source": [
    "if FLAG_NODUST:\n",
    "    with open(fileout_pickle, 'wb') as handle:\n",
    "        pickle.dump(samples_nuts, handle, protocol=pickle.HIGHEST_PROTOCOL)\n",
    "\n",
    "    df_nodust.to_csv(fileout_csv)\n",
    "\n",
    "    df_nodust.to_hdf(fileout_hdf, key=\"dsps_mcmc_nodust\",mode='a', complevel=9) \n",
    "    df_info.to_hdf(fileout_hdf,key=\"info\",mode='a')\n",
    "    df_params.to_hdf(fileout_hdf,key=\"params\",mode='a')"
   ]
  },
  {
   "cell_type": "markdown",
   "id": "b8c106f5-4af7-4708-91e9-4ca6807d2512",
   "metadata": {},
   "source": [
    "## MCMC With DUST"
   ]
  },
  {
   "cell_type": "code",
   "execution_count": null,
   "id": "b9659270-056a-451d-bc95-97633ab809ed",
   "metadata": {},
   "outputs": [],
   "source": [
    "FLAG_DUST = True"
   ]
  },
  {
   "cell_type": "markdown",
   "id": "c3cc8671-f976-4b22-be67-f584a9106be6",
   "metadata": {},
   "source": [
    "### output files"
   ]
  },
  {
   "cell_type": "code",
   "execution_count": null,
   "id": "a736a147-fb4a-4c5e-980f-ff0c4a10d5fe",
   "metadata": {},
   "outputs": [],
   "source": [
    "fileout_pickle = f\"DSPS_dust_mcmc_params_wide.pickle\"\n",
    "fileout_csv = f\"DSPS_dust_mcmc_params_wide.csv\"\n",
    "fileout_hdf = f\"DSPS_dust_mcmc_params_wide.hdf\""
   ]
  },
  {
   "cell_type": "markdown",
   "id": "0a8a7ccb-c2d0-41b1-90ea-c83963d259d9",
   "metadata": {},
   "source": [
    "### run MCMC with Dust"
   ]
  },
  {
   "cell_type": "code",
   "execution_count": null,
   "id": "76a4ef1e-9ef1-4a89-9c89-f1db4f856a8d",
   "metadata": {},
   "outputs": [],
   "source": [
    "if FLAG_DUST: \n",
    "    # Run NUTS.\n",
    "    rng_key = jax.random.PRNGKey(42)\n",
    "    rng_key, rng_key0, rng_key1, rng_key2 = jax.random.split(rng_key, 4)\n",
    "\n",
    "\n",
    "    kernel = NUTS(galaxymodel_withdust, dense_mass=True, target_accept_prob=0.9,\n",
    "              init_strategy=numpyro.infer.init_to_median())\n",
    "    \n",
    "    num_samples = 5_000\n",
    "    n_chains = 4\n",
    "    mcmc = MCMC(kernel, num_warmup=1_000, num_samples=num_samples,  \n",
    "            num_chains=n_chains,\n",
    "            chain_method='vectorized',\n",
    "            progress_bar=True)\n",
    "\n",
    "    # see https://forum.pyro.ai/t/cannot-find-valid-initial-parameters-when-using-nuts-for-simple-gaussian-mixture-model-in-numpyro/2181/2\n",
    "    with numpyro.validation_enabled():\n",
    "        mcmc.run(rng_key, wlsin=wlsall, Fobs=spec_withdust, initparamval = PARAM_VAL,\n",
    "                       minparamval = PARAM_MIN,\n",
    "                       maxparamval = PARAM_MAX,\n",
    "                       sigmaparamval = PARAM_SIGMA,\n",
    "                       paramnames = PARAM_NAMES,\n",
    "                       z_obs = z_obs,\n",
    "                       sigma = sigmadust_obs,\n",
    "                       extra_fields=('potential_energy',))\n",
    "        mcmc.print_summary()\n",
    "        samples_nuts = mcmc.get_samples()"
   ]
  },
  {
   "cell_type": "markdown",
   "id": "04c06c79-d377-4f19-bed6-87004993d85e",
   "metadata": {},
   "source": [
    "### results of MCMC with DUST"
   ]
  },
  {
   "cell_type": "code",
   "execution_count": null,
   "id": "a9147a00-48c7-4035-9a17-e02ed949cc86",
   "metadata": {},
   "outputs": [],
   "source": [
    "az.ess(samples_nuts, relative=True)  # efficacité relative"
   ]
  },
  {
   "cell_type": "code",
   "execution_count": null,
   "id": "9e16fdd0-7732-4b7d-92cb-2ed908929061",
   "metadata": {},
   "outputs": [],
   "source": [
    "data = az.from_numpyro(mcmc)\n",
    "az.plot_trace(data, compact=True);\n",
    "plt.tight_layout()"
   ]
  },
  {
   "cell_type": "markdown",
   "id": "c77dc1aa-a43d-4980-85b1-d3253d2a5ace",
   "metadata": {},
   "source": [
    "### pandas dataframe with dust"
   ]
  },
  {
   "cell_type": "code",
   "execution_count": null,
   "id": "d794364b-2897-4103-b155-f1730cdfcac3",
   "metadata": {},
   "outputs": [],
   "source": [
    "df_dust = pd.DataFrame(samples_nuts) "
   ]
  },
  {
   "cell_type": "code",
   "execution_count": null,
   "id": "f2db6081-74b5-43f2-9ba9-29f598ed5d30",
   "metadata": {},
   "outputs": [],
   "source": [
    "#df_dust"
   ]
  },
  {
   "cell_type": "code",
   "execution_count": null,
   "id": "aecdbd78-8696-4e61-a3ee-3e05ae4117d8",
   "metadata": {},
   "outputs": [],
   "source": [
    "with open(fileout_pickle, 'wb') as handle:\n",
    "    pickle.dump(samples_nuts, handle, protocol=pickle.HIGHEST_PROTOCOL)\n",
    "\n",
    "df_dust.to_csv(fileout_csv)\n",
    "df_dust.to_hdf(fileout_hdf, key=\"dsps_mcmc_dust\",mode='a', complevel=9) \n",
    "df_info.to_hdf(fileout_hdf,key=\"info\",mode='a')\n",
    "df_params.to_hdf(fileout_hdf,key=\"params\",mode='a')"
   ]
  }
 ],
 "metadata": {
  "kernelspec": {
   "display_name": "conda_jaxcpu_dsps_py310",
   "language": "python",
   "name": "conda_jaxcpu_dsps_py310"
  },
  "language_info": {
   "codemirror_mode": {
    "name": "ipython",
    "version": 3
   },
   "file_extension": ".py",
   "mimetype": "text/x-python",
   "name": "python",
   "nbconvert_exporter": "python",
   "pygments_lexer": "ipython3",
   "version": "3.10.13"
  }
 },
 "nbformat": 4,
 "nbformat_minor": 5
}
