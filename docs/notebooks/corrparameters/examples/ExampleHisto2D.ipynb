{
 "cells": [
  {
   "cell_type": "markdown",
   "id": "cc8e7468-e551-4fb2-9689-14b2216822df",
   "metadata": {},
   "source": [
    "# Example to fill a 2D Histo"
   ]
  },
  {
   "cell_type": "code",
   "execution_count": null,
   "id": "e202a100-c29a-4947-9596-36ea6915866b",
   "metadata": {},
   "outputs": [],
   "source": [
    "import numpy as np\n",
    "import matplotlib.pyplot as plt\n",
    "import seaborn as sns\n",
    "sns.set_theme(style='white')\n",
    "from matplotlib.colors import LogNorm"
   ]
  },
  {
   "cell_type": "markdown",
   "id": "ce004855-fb07-492d-9e09-bdaba27123db",
   "metadata": {},
   "source": [
    "## MAKE DATA "
   ]
  },
  {
   "cell_type": "code",
   "execution_count": null,
   "id": "4df510fc-474d-41b8-a387-efc2d6da3493",
   "metadata": {},
   "outputs": [],
   "source": [
    "# MAKE DATA ###################################################################\n",
    "x, y = np.random.exponential(size=(2, 100000))\n",
    "y = 10*y"
   ]
  },
  {
   "cell_type": "markdown",
   "id": "f2e8006b-25f5-43cb-a9cc-0edb1e4b8f6f",
   "metadata": {},
   "source": [
    "## Figure 1D"
   ]
  },
  {
   "cell_type": "code",
   "execution_count": null,
   "id": "436dc4ac-6029-4dcf-b0c1-57dbff37459c",
   "metadata": {},
   "outputs": [],
   "source": [
    "fig, axs = plt.subplots(nrows=2, ncols=2, figsize=(10, 8))\n",
    "ax1=axs[0,0]\n",
    "ax2=axs[0,1]\n",
    "ax3=axs[1,0]\n",
    "ax4=axs[1,1]\n",
    "ax1.hist(x,bins=50);\n",
    "ax1.set_xlabel('x')\n",
    "ax2.hist(y,bins=50);\n",
    "ax2.set_xlabel('y')\n",
    "ax3.hist(x,bins=50);\n",
    "ax3.set_xlabel('x')\n",
    "ax3.set_yscale('log')\n",
    "ax4.hist(y,bins=50);\n",
    "ax4.set_xlabel('y')\n",
    "ax4.set_yscale('log')"
   ]
  },
  {
   "cell_type": "markdown",
   "id": "e61c4376-be09-4c31-9d81-8f53b1716f79",
   "metadata": {},
   "source": [
    "## Histo 2D"
   ]
  },
  {
   "cell_type": "code",
   "execution_count": null,
   "id": "21277fe8-b9c5-4554-92c6-4a9ad6db19e3",
   "metadata": {},
   "outputs": [],
   "source": [
    "fig, (ax1, ax2, ax3) = plt.subplots(nrows=3, ncols=1, figsize=(14, 18))\n",
    "\n",
    "# AX1 #########################################################################\n",
    "\n",
    "H = ax1.hist2d(x, y, bins=50);\n",
    "fig.colorbar(H[3], ax=ax1)\n",
    "\n",
    "ax1.set_title(\"Normal scale\")\n",
    "\n",
    "# AX2 #########################################################################\n",
    "\n",
    "xmin = np.log10(x.min())\n",
    "xmax = np.log10(x.max())\n",
    "ymin = np.log10(y.min())\n",
    "ymax = np.log10(y.max())\n",
    "\n",
    "xbins = np.logspace(xmin, xmax, 50) # <- make a range from 10**xmin to 10**xmax\n",
    "ybins = np.logspace(ymin, ymax, 50) # <- make a range from 10**ymin to 10**ymax\n",
    "\n",
    "#print(xbins)\n",
    "#print(ybins)\n",
    "\n",
    "counts, _, _ = np.histogram2d(x, y, bins=(xbins, ybins));\n",
    "\n",
    "#print(counts)\n",
    "\n",
    "pcm = ax2.pcolormesh(xbins, ybins, counts)\n",
    "plt.colorbar(pcm)\n",
    "\n",
    "# AX3 #########################################################################\n",
    "\n",
    "pcm = ax3.pcolormesh(xbins, ybins, counts)\n",
    "plt.colorbar(pcm)\n",
    "\n",
    "ax3.set_xscale(\"log\")               # <- Activate log scale on X axis\n",
    "ax3.set_yscale(\"log\")               # <- Activate log scale on Y axis\n",
    "\n",
    "ax3.set_xlim(xmin=xbins[0])\n",
    "ax3.set_xlim(xmax=xbins[-1])\n",
    "ax3.set_ylim(ymin=ybins[0])\n",
    "ax3.set_ylim(ymax=ybins[-1])\n",
    "\n",
    "ax3.set_title(\"Log scale\")\n",
    "ax3.grid(color=\"w\")"
   ]
  },
  {
   "cell_type": "code",
   "execution_count": null,
   "id": "6d60ee79-6c5c-4146-9aa5-a4a1435270ba",
   "metadata": {},
   "outputs": [],
   "source": [
    "plt.imshow(H[0],origin=\"lower\",norm=LogNorm())\n",
    "plt.xlabel('x')\n",
    "plt.ylabel('y')"
   ]
  },
  {
   "cell_type": "code",
   "execution_count": null,
   "id": "56f2cb4d-d64a-4a98-8e8a-abff3db9f9a5",
   "metadata": {},
   "outputs": [],
   "source": []
  }
 ],
 "metadata": {
  "kernelspec": {
   "display_name": "conda_jaxcpu_dsps_py310",
   "language": "python",
   "name": "conda_jaxcpu_dsps_py310"
  },
  "language_info": {
   "codemirror_mode": {
    "name": "ipython",
    "version": 3
   },
   "file_extension": ".py",
   "mimetype": "text/x-python",
   "name": "python",
   "nbconvert_exporter": "python",
   "pygments_lexer": "ipython3",
   "version": "3.10.13"
  }
 },
 "nbformat": 4,
 "nbformat_minor": 5
}
