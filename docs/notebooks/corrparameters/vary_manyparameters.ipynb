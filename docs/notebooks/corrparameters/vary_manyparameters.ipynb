{
 "cells": [
  {
   "cell_type": "markdown",
   "id": "661a0254-d1ce-452e-af01-3e5143dac398",
   "metadata": {},
   "source": [
    "# Study the Spectrum and vary many parameters"
   ]
  },
  {
   "cell_type": "markdown",
   "id": "ae1e5e1e-8c8f-41b3-b02c-388399f98b2f",
   "metadata": {},
   "source": [
    "Study the correlation between the parameters using `fors2tostellarpopsynthesis`package\n",
    "\n",
    "- Author Sylvie Dagoret-Campagne\n",
    "- Afflilation : IJCLab/IN2P3/CNRS\n",
    "- Organisation : LSST-DESC\n",
    "- creation date : 2023-12-04\n",
    "- last update : 2023-12-04"
   ]
  },
  {
   "cell_type": "markdown",
   "id": "c7d6258e-39da-41ba-bde3-4fa2a24a8e9f",
   "metadata": {},
   "source": [
    "\n",
    "| computer | processor | kernel              |    date     |\n",
    "| --- | --- | --- | --- |\n",
    "| CC       | CPU       | conda_jax0325_py310 | 2023-11-10  |\n",
    "| macbookpro | CPU | conda_jaxcpu_dsps_py310 | 2023-11-10  | \n",
    "\n",
    "\n",
    "libraries \n",
    "=========\n",
    "\n",
    "jax\n",
    "---\n",
    "\n",
    "- jaxlib-0.3.25+cuda11.cudnn82\n",
    "- jaxopt\n",
    "- optax\n",
    "- corner\n",
    "- arviz\n",
    "- numpyro\n",
    "- graphviz\n",
    "\n",
    "sps\n",
    "---\n",
    "\n",
    "- fsps\n",
    "- prospect\n",
    "- dsps\n",
    "- diffstar\n",
    "- diffmah\n",
    "\n",
    "\n",
    "\n",
    "(conda_jax0325_py310) \n",
    "`/pbs/throng/lsst/users/dagoret/desc/StellarPopulationSynthesis>pip list | grep` \n",
    "\n",
    "| lib | version |\n",
    "|--- | --- | \n",
    "|jax  |                         0.4.20 |\n",
    "|jaxlib |                       0.4.20 |\n",
    "|jaxopt  |                      0.8.2 |\n",
    "\n"
   ]
  },
  {
   "cell_type": "markdown",
   "id": "52f82817-2f0a-438d-b2dd-e98deda88853",
   "metadata": {},
   "source": [
    "## Import"
   ]
  },
  {
   "cell_type": "markdown",
   "id": "c65534cb-1b8d-459e-9b7c-00e28a347c93",
   "metadata": {},
   "source": [
    "### import external packages"
   ]
  },
  {
   "cell_type": "code",
   "execution_count": null,
   "id": "230608b3-78da-46d1-95e6-3ea0430fe0bb",
   "metadata": {},
   "outputs": [],
   "source": [
    "import h5py\n",
    "import pandas as pd\n",
    "import numpy as np\n",
    "import os\n",
    "import re\n",
    "import pickle \n",
    "import matplotlib as mpl\n",
    "import matplotlib.pyplot as plt\n",
    "%matplotlib inline\n",
    "import matplotlib.colors as colors\n",
    "import matplotlib.cm as cmx\n",
    "import collections\n",
    "from collections import OrderedDict\n",
    "import re\n",
    "import matplotlib.gridspec as gridspec\n",
    "from sklearn.gaussian_process import GaussianProcessRegressor, kernels"
   ]
  },
  {
   "cell_type": "code",
   "execution_count": null,
   "id": "f43bc2a4-7ade-48ed-b8ff-9695651cbb6c",
   "metadata": {},
   "outputs": [],
   "source": [
    "import jax\n",
    "import jax.numpy as jnp\n",
    "from jax import vmap\n",
    "import jaxopt\n",
    "import optax\n",
    "\n",
    "from interpax import interp1d"
   ]
  },
  {
   "cell_type": "code",
   "execution_count": null,
   "id": "769436d3-f3a7-4aca-9ec6-ebebfe8c6a3f",
   "metadata": {},
   "outputs": [],
   "source": [
    "from jax import random"
   ]
  },
  {
   "cell_type": "code",
   "execution_count": null,
   "id": "fc9a9ab4-e679-460c-8991-87dca282b82c",
   "metadata": {},
   "outputs": [],
   "source": [
    "import numpyro\n",
    "from numpyro import optim\n",
    "from numpyro.diagnostics import print_summary\n",
    "import numpyro.distributions as dist\n",
    "from numpyro.distributions import constraints\n",
    "from numpyro.infer import MCMC, HMC, NUTS, SVI, Trace_ELBO\n",
    "from numpyro.infer.autoguide import AutoBNAFNormal, AutoMultivariateNormal\n",
    "from numpyro.infer.reparam import NeuTraReparam\n",
    "from numpyro.handlers import seed, trace, condition\n",
    "import corner\n",
    "import arviz as az"
   ]
  },
  {
   "cell_type": "markdown",
   "id": "88cc2b50-5edb-41bb-be36-74822ae3628c",
   "metadata": {},
   "source": [
    "### import internal packages"
   ]
  },
  {
   "cell_type": "code",
   "execution_count": null,
   "id": "fe70e703-79e0-4cd6-8be4-067f072f7aab",
   "metadata": {},
   "outputs": [],
   "source": [
    "from fors2tostellarpopsynthesis.parameters  import SSPParametersFit,paramslist_to_dict"
   ]
  },
  {
   "cell_type": "code",
   "execution_count": null,
   "id": "1bbeeb61-05a9-478d-b300-cc3ccf59f06b",
   "metadata": {},
   "outputs": [],
   "source": [
    "from fors2tostellarpopsynthesis.fitters.fitter_jaxopt import (lik_spec,lik_mag,lik_comb,\n",
    "get_infos_spec,get_infos_mag,get_infos_comb)\n",
    "\n",
    "from fors2tostellarpopsynthesis.fitters.fitter_jaxopt import (SSP_DATA,mean_spectrum,mean_mags,mean_sfr,ssp_spectrum_fromparam)"
   ]
  },
  {
   "cell_type": "markdown",
   "id": "98c8a995-a7d4-44b6-b17b-b1affe9dca9b",
   "metadata": {},
   "source": [
    "## Configuration"
   ]
  },
  {
   "cell_type": "markdown",
   "id": "18cb98c0-90c0-409c-a90f-3cecc6c3b715",
   "metadata": {},
   "source": [
    "### Jax"
   ]
  },
  {
   "cell_type": "code",
   "execution_count": null,
   "id": "5f2e23a8-38dd-4184-b3e9-016345e12ccf",
   "metadata": {},
   "outputs": [],
   "source": [
    "jax.config.update(\"jax_enable_x64\", True)\n",
    "key = random.PRNGKey(0)\n",
    "key"
   ]
  },
  {
   "cell_type": "markdown",
   "id": "2b81247d-02a8-4437-a07c-29cf54286fdf",
   "metadata": {},
   "source": [
    "### matplotlib configuration"
   ]
  },
  {
   "cell_type": "code",
   "execution_count": null,
   "id": "96dbd3a3-cfc2-4077-a7f4-729896bb64e5",
   "metadata": {},
   "outputs": [],
   "source": [
    "plt.rcParams[\"figure.figsize\"] = (12,6)\n",
    "plt.rcParams[\"axes.labelsize\"] = 'xx-large'\n",
    "plt.rcParams['axes.titlesize'] = 'xx-large'\n",
    "plt.rcParams['xtick.labelsize']= 'xx-large'\n",
    "plt.rcParams['ytick.labelsize']= 'xx-large'\n",
    "plt.rcParams['legend.fontsize']=  16\n",
    "plt.rcParams['font.size'] = 15"
   ]
  },
  {
   "cell_type": "markdown",
   "id": "eeda3399-e8a9-42a5-856a-26cb98ebb971",
   "metadata": {},
   "source": [
    "## Fit parameters"
   ]
  },
  {
   "cell_type": "code",
   "execution_count": null,
   "id": "25254687-4657-4810-9fd2-1f722c8135d2",
   "metadata": {},
   "outputs": [],
   "source": [
    "p = SSPParametersFit()"
   ]
  },
  {
   "cell_type": "code",
   "execution_count": null,
   "id": "81eaddde-2838-42c4-81d0-7c92993307de",
   "metadata": {},
   "outputs": [],
   "source": [
    "dir(p)"
   ]
  },
  {
   "cell_type": "code",
   "execution_count": null,
   "id": "21b64082-b083-46e6-af4d-d3cd496bad41",
   "metadata": {},
   "outputs": [],
   "source": [
    "p.DICT_PARAMS_true"
   ]
  },
  {
   "cell_type": "code",
   "execution_count": null,
   "id": "8aebd3f3-48bc-487c-800f-3a5ed246e51d",
   "metadata": {},
   "outputs": [],
   "source": [
    "p.INIT_PARAMS"
   ]
  },
  {
   "cell_type": "code",
   "execution_count": null,
   "id": "f0d70bb4-eebb-4c1a-a35c-c6bd10c9a84c",
   "metadata": {},
   "outputs": [],
   "source": [
    "p.PARAM_NAMES_FLAT"
   ]
  },
  {
   "cell_type": "code",
   "execution_count": null,
   "id": "9461585b-95be-4b05-afad-d0cac9dbf3d3",
   "metadata": {},
   "outputs": [],
   "source": [
    "p.PARAMS_MIN"
   ]
  },
  {
   "cell_type": "code",
   "execution_count": null,
   "id": "12d2b2c1-498e-4f56-bc9d-b7fd9b484d0b",
   "metadata": {},
   "outputs": [],
   "source": [
    "p.PARAMS_MAX"
   ]
  },
  {
   "cell_type": "code",
   "execution_count": null,
   "id": "1b2c7dac-0f1f-4934-b071-90fe7a3eadef",
   "metadata": {},
   "outputs": [],
   "source": [
    "wls,spec_rest,spec_rest_att = ssp_spectrum_fromparam(p.DICT_PARAMS_true,0)"
   ]
  },
  {
   "cell_type": "markdown",
   "id": "a5e55e27-e772-4666-b11d-301277e3037f",
   "metadata": {},
   "source": [
    "## Simulation of parameters"
   ]
  },
  {
   "cell_type": "markdown",
   "id": "d1ba8d35-5d51-4161-a542-615a3b0c59f4",
   "metadata": {},
   "source": [
    "### Selected parameters"
   ]
  },
  {
   "cell_type": "code",
   "execution_count": null,
   "id": "473a4cda-fef3-409f-986f-6e99e32b94d6",
   "metadata": {},
   "outputs": [],
   "source": [
    "param_to_simulate = ['MAH_logtc','MAH_early_index','MAH_late_index',\n",
    "                     'MS_lgmcrit','MS_lgy_at_mcrit','MS_indx_lo','MS_indx_hi','MS_tau_dep',\n",
    "                     'Q_lg_qt','Q_qlglgdt','Q_lg_drop','Q_lg_rejuv']"
   ]
  },
  {
   "cell_type": "code",
   "execution_count": null,
   "id": "59ccde1a-348f-41eb-8fd2-a35fd5fce0bc",
   "metadata": {},
   "outputs": [],
   "source": [
    "np_sim = len(param_to_simulate)\n",
    "np_sim"
   ]
  },
  {
   "cell_type": "markdown",
   "id": "b9dd673f-3cf0-4f45-84fc-1ead2dcd44f0",
   "metadata": {},
   "source": [
    "### No dust"
   ]
  },
  {
   "cell_type": "code",
   "execution_count": null,
   "id": "6ac40672-74f1-42b0-836c-235f3542195a",
   "metadata": {},
   "outputs": [],
   "source": [
    "p.INIT_PARAMS = p.INIT_PARAMS.at[-1].set(1.)\n",
    "p.INIT_PARAMS = p.INIT_PARAMS.at[-2].set(0.)\n",
    "p.INIT_PARAMS = p.INIT_PARAMS.at[-3].set(0.)\n",
    "p.INIT_PARAMS = p.INIT_PARAMS.at[-4].set(0.)"
   ]
  },
  {
   "cell_type": "markdown",
   "id": "d8ecf419-bd37-4e25-9ee0-239ecd30f337",
   "metadata": {},
   "source": [
    "### Change the range of parameters"
   ]
  },
  {
   "cell_type": "code",
   "execution_count": null,
   "id": "1a15b167-fa0c-41a1-ab63-6508183555d4",
   "metadata": {},
   "outputs": [],
   "source": [
    "FLAG_INCREASE_RANGE_MAH = False\n",
    "\n",
    "if FLAG_INCREASE_RANGE_MAH:\n",
    "    # MAH_logtc\n",
    "    p.PARAMS_MIN = p.PARAMS_MIN.at[1].set(0.01)\n",
    "    p.PARAMS_MAX = p.PARAMS_MAX.at[1].set(0.15)\n",
    "\n",
    "    # MAH_early_index\n",
    "    p.PARAMS_MIN = p.PARAMS_MIN.at[2].set(0.1)\n",
    "    p.PARAMS_MAX = p.PARAMS_MAX.at[2].set(10.)\n",
    "\n",
    "    # MAH_late_index\n",
    "    p.PARAMS_MIN = p.PARAMS_MIN.at[3].set(0.1)\n",
    "    p.PARAMS_MAX = p.PARAMS_MAX.at[3].set(10.)"
   ]
  },
  {
   "cell_type": "code",
   "execution_count": null,
   "id": "21814612-6e92-4c60-b8f9-81d69fdccc50",
   "metadata": {},
   "outputs": [],
   "source": [
    "FLAG_INCREASE_RANGE_MS = True\n",
    "\n",
    "if FLAG_INCREASE_RANGE_MS:\n",
    "    # MS_lgmcrit\n",
    "    p.PARAMS_MIN = p.PARAMS_MIN.at[4].set(9.)\n",
    "    p.PARAMS_MAX = p.PARAMS_MAX.at[4].set(16.)\n",
    "\n",
    "    # MS_lgy_at_mcrit\n",
    "    p.PARAMS_MIN = p.PARAMS_MIN.at[5].set(-5.)\n",
    "    p.PARAMS_MAX = p.PARAMS_MAX.at[5].set(-0.1)\n",
    "\n",
    "    #MS_indx_lo\n",
    "    p.PARAMS_MIN = p.PARAMS_MIN.at[6].set(0.1)\n",
    "    p.PARAMS_MAX = p.PARAMS_MAX.at[6].set(5.)\n",
    "\n",
    "    #MS_indx_hi\n",
    "    p.PARAMS_MIN = p.PARAMS_MIN.at[7].set(-5.)\n",
    "    p.PARAMS_MAX = p.PARAMS_MAX.at[7].set(-0.1)\n",
    "\n",
    "    #MS_tau_dep\n",
    "    p.PARAMS_MIN = p.PARAMS_MIN.at[8].set(0.1)\n",
    "    p.PARAMS_MAX = p.PARAMS_MAX.at[8].set(10.)"
   ]
  },
  {
   "cell_type": "code",
   "execution_count": null,
   "id": "cfab53d8-93ac-4c40-a37f-e3acb91279b7",
   "metadata": {},
   "outputs": [],
   "source": [
    "FLAG_INCREASE_RANGE_Q = True\n",
    "\n",
    "if FLAG_INCREASE_RANGE_Q:\n",
    "    #'Q_lg_qt', 1.0),\n",
    "    p.PARAMS_MIN = p.PARAMS_MIN.at[9].set(0.5)\n",
    "    p.PARAMS_MAX = p.PARAMS_MAX.at[9].set(3.)\n",
    "    #('Q_qlglgdt', -0.50725),\n",
    "    p.PARAMS_MIN = p.PARAMS_MIN.at[10].set(-3.)\n",
    "    p.PARAMS_MAX = p.PARAMS_MAX.at[10].set(-0.5)            \n",
    "\n",
    "    # ('Q_lg_drop', -1.01773),\n",
    "    p.PARAMS_MIN = p.PARAMS_MIN.at[11].set(-3.)\n",
    "    p.PARAMS_MAX = p.PARAMS_MAX.at[11].set(-0.5)                  \n",
    "\n",
    "    #('Q_lg_rejuv', -0.212307),\n",
    "    p.PARAMS_MIN = p.PARAMS_MIN.at[12].set(-5.)\n",
    "    p.PARAMS_MAX = p.PARAMS_MAX.at[12].set(-0.05)    "
   ]
  },
  {
   "cell_type": "markdown",
   "id": "0a5eaffb-4290-444d-9bf4-5a44ceffac2c",
   "metadata": {},
   "source": [
    "### number of simulations"
   ]
  },
  {
   "cell_type": "code",
   "execution_count": null,
   "id": "94a73fb1-bec5-42bf-80bd-3b1afea8c9c5",
   "metadata": {},
   "outputs": [],
   "source": [
    "n_gals = 100"
   ]
  },
  {
   "cell_type": "code",
   "execution_count": null,
   "id": "75afb086-5559-4620-bc6a-f3a703023d94",
   "metadata": {},
   "outputs": [],
   "source": [
    "all_sim_params = jnp.tile(p.INIT_PARAMS, n_gals)\n",
    "all_sim_params = all_sim_params.reshape((n_gals, -1))"
   ]
  },
  {
   "cell_type": "code",
   "execution_count": null,
   "id": "715438dc-2c63-43cf-a75f-6dd09dcb8f6f",
   "metadata": {},
   "outputs": [],
   "source": [
    "all_sim_params.shape"
   ]
  },
  {
   "cell_type": "markdown",
   "id": "9be62f35-4273-47b2-94f4-90f9da1964d1",
   "metadata": {},
   "source": [
    "### generate random values for each parameters"
   ]
  },
  {
   "cell_type": "code",
   "execution_count": null,
   "id": "86c3994e-2255-49c1-8f75-384334a8c5f5",
   "metadata": {},
   "outputs": [],
   "source": [
    "key, *params_subkeys = random.split(key, num=np_sim+1)"
   ]
  },
  {
   "cell_type": "code",
   "execution_count": null,
   "id": "61291852-6df0-4b9a-9b76-7804a329fa9a",
   "metadata": {},
   "outputs": [],
   "source": [
    "countsim =0\n",
    "for index,param_name in enumerate(p.PARAM_NAMES_FLAT):\n",
    "    if param_name in param_to_simulate:\n",
    "        subkey = params_subkeys[countsim]\n",
    "        param_simvalues = jax.random.uniform(subkey, shape=(n_gals,), minval=p.PARAMS_MIN[index], maxval=p.PARAMS_MAX[index])\n",
    "        all_sim_params = all_sim_params.at[:,index].set(param_simvalues)\n",
    "        countsim+=1\n",
    "        "
   ]
  },
  {
   "cell_type": "markdown",
   "id": "e532df47-d0e7-4639-92f3-c30dbb7d8cc8",
   "metadata": {},
   "source": [
    "## Simulation of spectra"
   ]
  },
  {
   "cell_type": "code",
   "execution_count": null,
   "id": "f288f079-dd7f-4498-9877-0885ffefd6e0",
   "metadata": {},
   "outputs": [],
   "source": [
    "z_obs = 0.5"
   ]
  },
  {
   "cell_type": "code",
   "execution_count": null,
   "id": "e685aa26-cf88-4834-a8ea-659cab661341",
   "metadata": {},
   "outputs": [],
   "source": [
    "fig, ax = plt.subplots(1, 1,figsize=(16,6))\n",
    "\n",
    "for igal in range(n_gals):\n",
    "    dict_params = paramslist_to_dict(all_sim_params[igal,:],p.PARAM_NAMES_FLAT)\n",
    "    tarr,sfh_gal = mean_sfr(dict_params,z_obs)\n",
    "    \n",
    "    ax.plot(tarr,sfh_gal )\n",
    "\n",
    "ax.set_yscale('log')\n",
    "ax.grid()\n",
    "ax.set_title(\"DSPS SFR\")"
   ]
  },
  {
   "cell_type": "code",
   "execution_count": null,
   "id": "eb75c577-f0d4-45c6-b7b4-c0f43af25b3a",
   "metadata": {},
   "outputs": [],
   "source": [
    "fig, ax = plt.subplots(1, 1)\n",
    "\n",
    "for igal in range(n_gals):\n",
    "    dict_params = paramslist_to_dict(all_sim_params[igal,:],p.PARAM_NAMES_FLAT)\n",
    "    wls,spec_rest,spec_rest_att = ssp_spectrum_fromparam(dict_params,z_obs)\n",
    "\n",
    "    indexes_spec = jnp.where(jnp.logical_and(wls>=1e2,wls<=1e5))[0]\n",
    "    \n",
    "    ax.plot(wls[indexes_spec],spec_rest[indexes_spec])\n",
    "ax.set_xscale('log')\n",
    "ax.set_yscale('log')\n",
    "ax.grid()\n",
    "ax.set_title(\"DSPS Spectrum $F_\\\\nu(\\\\lambda)$\")\n",
    "ax.set_xlabel(\"$\\\\lambda (\\AA)$\") \n",
    "ax.set_ylabel(\"$F_\\\\nu(\\\\lambda) - (AB\\, per \\,Hz)$\")"
   ]
  },
  {
   "cell_type": "code",
   "execution_count": null,
   "id": "22317f99-a76d-4115-9ed2-e6b6abb96062",
   "metadata": {},
   "outputs": [],
   "source": [
    "fig, ax = plt.subplots(1, 1)\n",
    "\n",
    "for igal in range(n_gals):\n",
    "    dict_params = paramslist_to_dict(all_sim_params[igal,:],p.PARAM_NAMES_FLAT)\n",
    "    wls,spec_rest,spec_rest_att = ssp_spectrum_fromparam(dict_params,z_obs)\n",
    "\n",
    "    indexes_spec = jnp.where(jnp.logical_and(wls>=1e2,wls<=1e5))[0]\n",
    "    \n",
    "    ax.plot(wls[indexes_spec],3e-2*spec_rest[indexes_spec]/wls[indexes_spec]**2)\n",
    "ax.set_xscale('log')\n",
    "ax.set_yscale('log')\n",
    "ax.grid()\n",
    "ax.set_title(\"DSPS Spectrum $F_\\\\lambda(\\\\lambda)$\")\n",
    "ax.set_xlabel(\"$\\\\lambda (\\AA)$\") \n",
    "ax.set_ylabel(\"$F_\\\\lambda(\\\\lambda) - (AB\\, per \\,\\AA)$\") "
   ]
  },
  {
   "cell_type": "code",
   "execution_count": null,
   "id": "63b34319-7a51-4ce5-83d2-b08b5d71c294",
   "metadata": {},
   "outputs": [],
   "source": []
  }
 ],
 "metadata": {
  "kernelspec": {
   "display_name": "conda_jaxcpu_dsps_py310",
   "language": "python",
   "name": "conda_jaxcpu_dsps_py310"
  },
  "language_info": {
   "codemirror_mode": {
    "name": "ipython",
    "version": 3
   },
   "file_extension": ".py",
   "mimetype": "text/x-python",
   "name": "python",
   "nbconvert_exporter": "python",
   "pygments_lexer": "ipython3",
   "version": "3.10.13"
  }
 },
 "nbformat": 4,
 "nbformat_minor": 5
}
