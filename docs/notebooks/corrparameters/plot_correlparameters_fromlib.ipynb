{
 "cells": [
  {
   "cell_type": "markdown",
   "id": "661a0254-d1ce-452e-af01-3e5143dac398",
   "metadata": {},
   "source": [
    "# plot the correlation between the SSP Parameters"
   ]
  },
  {
   "cell_type": "markdown",
   "id": "ae1e5e1e-8c8f-41b3-b02c-388399f98b2f",
   "metadata": {},
   "source": [
    "Generate simulation data to study the correlation between the parameters using `fors2tostellarpopsynthesis`package\n",
    "\n",
    "- Author Sylvie Dagoret-Campagne\n",
    "- Afflilation : IJCLab/IN2P3/CNRS\n",
    "- Organisation : LSST-DESC\n",
    "- creation date : 2023-12-05\n",
    "- last update : 2023-12-06"
   ]
  },
  {
   "cell_type": "markdown",
   "id": "c7d6258e-39da-41ba-bde3-4fa2a24a8e9f",
   "metadata": {},
   "source": [
    "\n",
    "| computer | processor | kernel              |    date     |\n",
    "| --- | --- | --- | --- |\n",
    "| CC       | CPU       | conda_jax0325_py310 | 2023-11-10  |\n",
    "| macbookpro | CPU | conda_jaxcpu_dsps_py310 | 2023-11-10  | \n",
    "\n",
    "\n",
    "libraries \n",
    "=========\n",
    "\n",
    "jax\n",
    "---\n",
    "\n",
    "- jaxlib-0.3.25+cuda11.cudnn82\n",
    "- jaxopt\n",
    "- optax\n",
    "- corner\n",
    "- arviz\n",
    "- numpyro\n",
    "- graphviz\n",
    "\n",
    "sps\n",
    "---\n",
    "\n",
    "- fsps\n",
    "- prospect\n",
    "- dsps\n",
    "- diffstar\n",
    "- diffmah\n",
    "\n",
    "\n",
    "\n",
    "(conda_jax0325_py310) \n",
    "`/pbs/throng/lsst/users/dagoret/desc/StellarPopulationSynthesis>pip list | grep` \n",
    "\n",
    "| lib | version |\n",
    "|--- | --- | \n",
    "|jax  |                         0.4.20 |\n",
    "|jaxlib |                       0.4.20 |\n",
    "|jaxopt  |                      0.8.2 |\n",
    "\n"
   ]
  },
  {
   "cell_type": "markdown",
   "id": "7376715d-2b8d-4db3-99f0-8191a84a7a8f",
   "metadata": {},
   "source": [
    "## examples\n",
    "\n",
    "- jaxcosmo : https://github.com/DifferentiableUniverseInitiative/jax-cosmo-paper/blob/master/notebooks/VectorizedNumPyro.ipynb\n",
    "- on atmosphere : https://github.com/sylvielsstfr/FitDiffAtmo/blob/main/docs/notebooks/fitdiffatmo/test_numpyro_orderedict_diffatmemul_5params_P_pwv_oz_tau_beta.ipynb"
   ]
  },
  {
   "cell_type": "markdown",
   "id": "52f82817-2f0a-438d-b2dd-e98deda88853",
   "metadata": {},
   "source": [
    "## Import"
   ]
  },
  {
   "cell_type": "markdown",
   "id": "c65534cb-1b8d-459e-9b7c-00e28a347c93",
   "metadata": {},
   "source": [
    "### import external packages"
   ]
  },
  {
   "cell_type": "code",
   "execution_count": null,
   "id": "230608b3-78da-46d1-95e6-3ea0430fe0bb",
   "metadata": {},
   "outputs": [],
   "source": [
    "import h5py\n",
    "import pandas as pd\n",
    "import numpy as np\n",
    "import os\n",
    "import re\n",
    "import pickle \n",
    "import matplotlib as mpl\n",
    "import matplotlib.pyplot as plt\n",
    "%matplotlib inline\n",
    "import matplotlib.colors as colors\n",
    "import matplotlib.cm as cmx\n",
    "import collections\n",
    "from collections import OrderedDict\n",
    "import re\n",
    "import matplotlib.gridspec as gridspec\n",
    "from sklearn.gaussian_process import GaussianProcessRegressor, kernels"
   ]
  },
  {
   "cell_type": "code",
   "execution_count": null,
   "id": "f43bc2a4-7ade-48ed-b8ff-9695651cbb6c",
   "metadata": {},
   "outputs": [],
   "source": [
    "import jax\n",
    "import jax.numpy as jnp\n",
    "from jax import vmap\n",
    "import jaxopt\n",
    "import optax\n",
    "jax.config.update(\"jax_enable_x64\", True)\n",
    "from interpax import interp1d\n",
    "\n",
    "from jax.lax import fori_loop\n",
    "from jax.lax import select,cond\n",
    "from jax.lax import concatenate"
   ]
  },
  {
   "cell_type": "code",
   "execution_count": null,
   "id": "fc9a9ab4-e679-460c-8991-87dca282b82c",
   "metadata": {},
   "outputs": [],
   "source": [
    "import numpyro\n",
    "from numpyro import optim\n",
    "from numpyro.diagnostics import print_summary\n",
    "import numpyro.distributions as dist\n",
    "from numpyro.distributions import constraints\n",
    "from numpyro.infer import MCMC, HMC, NUTS, SVI, Trace_ELBO\n",
    "from numpyro.infer.autoguide import AutoBNAFNormal, AutoMultivariateNormal\n",
    "from numpyro.infer.reparam import NeuTraReparam\n",
    "from numpyro.handlers import seed, trace, condition\n",
    "\n",
    "\n",
    "import corner\n",
    "import arviz as az"
   ]
  },
  {
   "cell_type": "code",
   "execution_count": null,
   "id": "63745218-182a-4402-bc95-ac31f393477c",
   "metadata": {},
   "outputs": [],
   "source": [
    "import pickle"
   ]
  },
  {
   "cell_type": "markdown",
   "id": "88cc2b50-5edb-41bb-be36-74822ae3628c",
   "metadata": {},
   "source": [
    "### import internal packages"
   ]
  },
  {
   "cell_type": "code",
   "execution_count": null,
   "id": "fe70e703-79e0-4cd6-8be4-067f072f7aab",
   "metadata": {},
   "outputs": [],
   "source": [
    "from fors2tostellarpopsynthesis.parameters  import SSPParametersFit,paramslist_to_dict"
   ]
  },
  {
   "cell_type": "code",
   "execution_count": null,
   "id": "1bbeeb61-05a9-478d-b300-cc3ccf59f06b",
   "metadata": {},
   "outputs": [],
   "source": [
    "from fors2tostellarpopsynthesis.fitters.fitter_jaxopt import (SSP_DATA,mean_spectrum,mean_mags,mean_sfr,ssp_spectrum_fromparam)"
   ]
  },
  {
   "cell_type": "code",
   "execution_count": null,
   "id": "5b587c81-4485-46ed-915c-a5e06e038dc8",
   "metadata": {},
   "outputs": [],
   "source": [
    "from fors2tostellarpopsynthesis.fitters.fitter_numpyro import(PARAM_SIMLAW_NODUST,PARAM_SIMLAW_WITHDUST,\n",
    "                            PARAM_NAMES,PARAM_VAL,PARAM_MIN,PARAM_MAX,PARAM_SIGMA)\n",
    "\n",
    "from fors2tostellarpopsynthesis.fitters.fitter_numpyro import(galaxymodel_nodust_av,galaxymodel_nodust,galaxymodel_withdust_av,galaxymodel_withdust)"
   ]
  },
  {
   "cell_type": "code",
   "execution_count": null,
   "id": "24a2f50a-ccde-4918-8381-20babbd32605",
   "metadata": {},
   "outputs": [],
   "source": [
    "from fors2tostellarpopsynthesis.fitters.fitter_util import plot_params_kde"
   ]
  },
  {
   "cell_type": "markdown",
   "id": "98c8a995-a7d4-44b6-b17b-b1affe9dca9b",
   "metadata": {},
   "source": [
    "## Configuration"
   ]
  },
  {
   "cell_type": "code",
   "execution_count": null,
   "id": "2b7efef5-e058-43e8-90ee-e0f063b0a24d",
   "metadata": {},
   "outputs": [],
   "source": [
    "Lyman_lines = [1220., 1030. ,973.,950., 938., 930.]\n",
    "Balmer_lines = [6562.791,4861.351,4340.4721,4101.740,3970.072,3889.0641,3835.3971]\n",
    "Paschen_lines = [8750., 12820., 10938.0,10050., 9546.2, 9229.7,9015.3, 8862.89,8750.46,8665.02]\n",
    "Brackett_lines = [40522.79, 26258.71, 21661.178, 19440., 18179.21]\n",
    "Pfund_lines = [ 74599.0, 46537.8, 37405.76 , 32969.8, 30400.]\n",
    "all_Hydrogen_lines = [ Lyman_lines, Balmer_lines, Paschen_lines, Brackett_lines, Pfund_lines]  "
   ]
  },
  {
   "cell_type": "markdown",
   "id": "2b81247d-02a8-4437-a07c-29cf54286fdf",
   "metadata": {},
   "source": [
    "### matplotlib configuration"
   ]
  },
  {
   "cell_type": "code",
   "execution_count": null,
   "id": "96dbd3a3-cfc2-4077-a7f4-729896bb64e5",
   "metadata": {},
   "outputs": [],
   "source": [
    "plt.rcParams[\"figure.figsize\"] = (12,12)\n",
    "plt.rcParams[\"axes.labelsize\"] = 'xx-large'\n",
    "plt.rcParams['axes.titlesize'] = 'xx-large'\n",
    "plt.rcParams['xtick.labelsize']= 'xx-large'\n",
    "plt.rcParams['ytick.labelsize']= 'xx-large'\n",
    "plt.rcParams['legend.fontsize']=  12\n",
    "plt.rcParams['font.size'] = 12"
   ]
  },
  {
   "cell_type": "markdown",
   "id": "eeda3399-e8a9-42a5-856a-26cb98ebb971",
   "metadata": {},
   "source": [
    "## Fit parameters"
   ]
  },
  {
   "cell_type": "code",
   "execution_count": null,
   "id": "10addade-ef1d-4b84-9208-d6f9782efa1b",
   "metadata": {},
   "outputs": [],
   "source": [
    "p = SSPParametersFit()"
   ]
  },
  {
   "cell_type": "code",
   "execution_count": null,
   "id": "01d27771-0304-4c22-b615-ecf022837445",
   "metadata": {},
   "outputs": [],
   "source": [
    "#p.INIT_PARAMS = p.INIT_PARAMS.at[-4].set(0.)\n",
    "#p.INIT_PARAMS = p.INIT_PARAMS.at[-3].set(0.)\n",
    "#p.INIT_PARAMS = p.INIT_PARAMS.at[-2].set(0.)\n",
    "#p.INIT_PARAMS = p.INIT_PARAMS.at[-1].set(1.)"
   ]
  },
  {
   "cell_type": "code",
   "execution_count": null,
   "id": "511a100b-de3c-42e8-939f-2dd29d7d98fc",
   "metadata": {},
   "outputs": [],
   "source": [
    "wlsall,spec_rest,spec_rest_att = ssp_spectrum_fromparam(p.DICT_PARAMS_true,0)"
   ]
  },
  {
   "cell_type": "code",
   "execution_count": null,
   "id": "ddbddc4c-50b6-4fc6-958d-0cccd2384f7e",
   "metadata": {},
   "outputs": [],
   "source": [
    "print(PARAM_SIMLAW_NODUST)  \n",
    "print(PARAM_SIMLAW_WITHDUST) \n",
    "print(PARAM_NAMES)\n",
    "print(PARAM_VAL)\n",
    "print(PARAM_MIN) \n",
    "print(PARAM_MAX)\n",
    "print(PARAM_SIGMA)"
   ]
  },
  {
   "cell_type": "code",
   "execution_count": null,
   "id": "60236e4c-b88c-42a6-b32e-c40c5cd4d139",
   "metadata": {},
   "outputs": [],
   "source": [
    "z_obs = 0.5\n",
    "sigmarel_obs = 0.1\n",
    "sigma_obs = 1e-11"
   ]
  },
  {
   "cell_type": "markdown",
   "id": "9045f9ec-1fde-419d-a5d7-fc5d828e85b6",
   "metadata": {},
   "source": [
    "## Read MCMC without dust"
   ]
  },
  {
   "cell_type": "code",
   "execution_count": null,
   "id": "afb3ea08-d7e6-40ed-9530-c757533370a1",
   "metadata": {},
   "outputs": [],
   "source": [
    "PARAM_NAMES"
   ]
  },
  {
   "cell_type": "code",
   "execution_count": null,
   "id": "08d92579-4b68-49b9-bcc1-7fba05fc1439",
   "metadata": {},
   "outputs": [],
   "source": [
    "PARAM_NODUST = np.setdiff1d(PARAM_NAMES,['AV', 'UV_BUMP', 'PLAW_SLOPE', 'SCALEF'])"
   ]
  },
  {
   "cell_type": "code",
   "execution_count": null,
   "id": "cb433508-80d0-47d2-8da4-500e3c151d19",
   "metadata": {},
   "outputs": [],
   "source": [
    "PARAM_NODUST = ['MAH_lgmO', 'MAH_logtc', 'MAH_early_index', 'MAH_late_index',\n",
    "       'MS_lgmcrit', 'MS_lgy_at_mcrit', 'MS_indx_lo', 'MS_indx_hi',\n",
    "       'MS_tau_dep', 'Q_lg_qt', 'Q_qlglgdt', 'Q_lg_drop', 'Q_lg_rejuv']"
   ]
  },
  {
   "cell_type": "code",
   "execution_count": null,
   "id": "33be999c-5cf5-4b42-94a1-8c6a71c20c66",
   "metadata": {},
   "outputs": [],
   "source": [
    "PARAM_NODUST_DICT = OrderedDict()\n",
    "for name in PARAM_NODUST:\n",
    "    PARAM_NODUST_DICT[name] = f\"{name}\"   "
   ]
  },
  {
   "cell_type": "markdown",
   "id": "f9f34b21-8d4b-4906-b796-0355e4cc1e84",
   "metadata": {},
   "source": [
    "### Output file for MCMC without dust"
   ]
  },
  {
   "cell_type": "code",
   "execution_count": null,
   "id": "3d309914-c6cd-4d44-81ff-e41368ce2cab",
   "metadata": {},
   "outputs": [],
   "source": [
    "!ls datamcmcparams/"
   ]
  },
  {
   "cell_type": "code",
   "execution_count": null,
   "id": "229c24d5-49c5-4ea3-93c9-f8236839d4bd",
   "metadata": {},
   "outputs": [],
   "source": [
    "#filein_hdf = f\"datamcmcparams/DSPS_nodust_mcmc_params_wide.hdf\"\n",
    "filein_hdf = f\"datamcmcparams/DSPS_nodust_mcmc_params_4_500_1000.hdf\""
   ]
  },
  {
   "cell_type": "code",
   "execution_count": null,
   "id": "8c46694d-7935-4600-a5ef-ff5504eec4aa",
   "metadata": {},
   "outputs": [],
   "source": [
    "with h5py.File(filein_hdf, 'r') as f:\n",
    "    keys = list(f.keys())\n",
    "    print(keys)"
   ]
  },
  {
   "cell_type": "code",
   "execution_count": null,
   "id": "ee4fdf04-3454-4160-a021-26abfb1220fb",
   "metadata": {},
   "outputs": [],
   "source": [
    "df_info = pd.read_hdf(filein_hdf,key=\"info\")\n",
    "df = pd.read_hdf(filein_hdf,key=\"dsps_mcmc_nodust\")"
   ]
  },
  {
   "cell_type": "code",
   "execution_count": null,
   "id": "e0858c17-506d-49c2-a5d6-17e26ff3d5cb",
   "metadata": {},
   "outputs": [],
   "source": [
    "df_info"
   ]
  },
  {
   "cell_type": "code",
   "execution_count": null,
   "id": "62fa2976-558f-434d-854f-3a511d419736",
   "metadata": {},
   "outputs": [],
   "source": [
    "df"
   ]
  },
  {
   "cell_type": "code",
   "execution_count": null,
   "id": "2af46ddb-2030-4fa8-9ff6-46ff36200028",
   "metadata": {},
   "outputs": [],
   "source": [
    "dict_params_nodust = df.to_dict('list')"
   ]
  },
  {
   "cell_type": "code",
   "execution_count": null,
   "id": "0e4b5831-ff6e-4670-87ae-e151fa5f6748",
   "metadata": {},
   "outputs": [],
   "source": [
    "reordered_samples = OrderedDict()\n",
    "for key in PARAM_NODUST:\n",
    "    reordered_samples[key] = dict_params_nodust[key]"
   ]
  },
  {
   "cell_type": "code",
   "execution_count": null,
   "id": "89225b28-be8b-4684-9959-40399fb06354",
   "metadata": {},
   "outputs": [],
   "source": [
    "#plot_params_kde(reordered_samples, pcut=[0.001,99.999], var_names=PARAM_NODUST)"
   ]
  },
  {
   "cell_type": "code",
   "execution_count": null,
   "id": "a5d8399c-8789-4617-baaa-642e730d85b7",
   "metadata": {},
   "outputs": [],
   "source": [
    "reordered_samples.keys()"
   ]
  },
  {
   "cell_type": "code",
   "execution_count": null,
   "id": "7c033f95-708d-40b9-acbc-fb05e4d6a425",
   "metadata": {},
   "outputs": [],
   "source": [
    "import arviz.labels as azl\n",
    "#'MAH_early_index', 'MAH_late_index', 'MAH_lgmO', 'MAH_logtc',\n",
    "#       'MS_indx_hi', 'MS_indx_lo', 'MS_lgmcrit', 'MS_lgy_at_mcrit',\n",
    "#       'MS_tau_dep', 'Q_lg_drop', 'Q_lg_qt', 'Q_lg_rejuv', 'Q_qlglgdt'\n",
    "labeller = azl.MapLabeller(var_name_map=PARAM_NODUST_DICT)\n"
   ]
  },
  {
   "cell_type": "code",
   "execution_count": null,
   "id": "6ea8a300-db48-4ff3-bb25-c5866d8348cb",
   "metadata": {},
   "outputs": [],
   "source": [
    "az.rcParams[\"plot.max_subplots\"] = 200 \n",
    "nparams = len(PARAM_NODUST)\n",
    "par_names = PARAM_NODUST\n",
    "par_true = p.DICT_PARAMS_true\n",
    "ax=az.plot_pair(\n",
    "        reordered_samples,\n",
    "        kind=\"kde\",\n",
    "        labeller=labeller,\n",
    "        marginal_kwargs={\"plot_kwargs\": {\"lw\":3, \"c\":\"blue\", \"ls\":\"-\"}},\n",
    "        kde_kwargs={\n",
    "            \"hdi_probs\": [0.3, 0.68, 0.9],  # Plot 30%, 68% and 90% HDI contours\n",
    "            \"contour_kwargs\":{\"colors\":None, \"cmap\":\"Blues\", \"linewidths\":3,\n",
    "                              \"linestyles\":\"-\"},\n",
    "            \"contourf_kwargs\":{\"alpha\":0.5},\n",
    "        },\n",
    "        point_estimate_kwargs={\"lw\": 3, \"c\": \"b\"},\n",
    "        marginals=True, textsize=50, point_estimate='median',\n",
    "    );\n",
    "\n",
    "# plot true parameter point\n",
    "for idy in range(nparams):\n",
    "    for idx in range(idy):\n",
    "        label_x = par_names[idx]\n",
    "        label_y = par_names[idy]\n",
    "        ax[idy,idx].scatter(par_true[label_x],par_true[label_y],c=\"r\",s=150,zorder=10)\n",
    "        \n",
    "\n",
    "for idx,name in enumerate(par_names):\n",
    "    ax[idx,idx].axvline(par_true[name],c='r',lw=3)\n",
    "    "
   ]
  },
  {
   "cell_type": "code",
   "execution_count": null,
   "id": "21cba7ae-0dec-42b0-9208-5bfc49cfd5a3",
   "metadata": {},
   "outputs": [],
   "source": [
    "#plot_params_kde(reordered_samples, pcut=[0.001,99.999],var_names=PARAM_NODUST)"
   ]
  },
  {
   "cell_type": "markdown",
   "id": "84768ecc-8930-47cb-921b-f40fb4047d8b",
   "metadata": {},
   "source": [
    "## Read MCMC with dust"
   ]
  },
  {
   "cell_type": "code",
   "execution_count": null,
   "id": "82be1293-ebab-4c5b-af2e-23907a413679",
   "metadata": {},
   "outputs": [],
   "source": [
    "PARAM_NAMES"
   ]
  },
  {
   "cell_type": "code",
   "execution_count": null,
   "id": "abb2a5a9-66b7-4685-bd84-2f4ebdb319d7",
   "metadata": {},
   "outputs": [],
   "source": [
    "PARAM_WITHDUST = ['MAH_lgmO', 'MAH_logtc', 'MAH_early_index', 'MAH_late_index',\n",
    "       'MS_lgmcrit', 'MS_lgy_at_mcrit', 'MS_indx_lo', 'MS_indx_hi',\n",
    "       'MS_tau_dep', 'Q_lg_qt', 'Q_qlglgdt', 'Q_lg_drop', 'Q_lg_rejuv',\n",
    "       'AV', 'UV_BUMP', 'PLAW_SLOPE']"
   ]
  },
  {
   "cell_type": "code",
   "execution_count": null,
   "id": "06f7857b-4e25-450a-8b37-b4bfb5976110",
   "metadata": {},
   "outputs": [],
   "source": [
    "PARAM_WITHDUST_DICT = OrderedDict()\n",
    "for name in PARAM_WITHDUST:\n",
    "    PARAM_WITHDUST_DICT[name] = f\"{name}\"  "
   ]
  },
  {
   "cell_type": "markdown",
   "id": "516d75ff-307c-4e18-ad60-c0e15c467054",
   "metadata": {},
   "source": [
    "### Output file for MCMC with dust"
   ]
  },
  {
   "cell_type": "code",
   "execution_count": null,
   "id": "3d1f8bf1-56c8-4009-b6fb-23b47b268296",
   "metadata": {},
   "outputs": [],
   "source": [
    "#filein_hdf = f\"datamcmcparams/DSPS_dust_mcmc_params.hdf\"\n",
    "filein_hdf = f\"datamcmcparams/DSPS_dust_mcmc_params_4_500_1000.hdf\""
   ]
  },
  {
   "cell_type": "code",
   "execution_count": null,
   "id": "e4572558-7bbf-43ba-b3d2-35a51dc93c6c",
   "metadata": {},
   "outputs": [],
   "source": [
    "!ls datamcmcparams/"
   ]
  },
  {
   "cell_type": "code",
   "execution_count": null,
   "id": "9afdf3db-8de2-43be-bbef-029c7134314c",
   "metadata": {},
   "outputs": [],
   "source": [
    "with h5py.File(filein_hdf, 'r') as f:\n",
    "    keys = list(f.keys())\n",
    "    print(keys)"
   ]
  },
  {
   "cell_type": "code",
   "execution_count": null,
   "id": "3cf8224a-203d-4ee7-8d69-d756d98647d2",
   "metadata": {},
   "outputs": [],
   "source": [
    "df_info = pd.read_hdf(filein_hdf,key=\"info\")\n",
    "df = pd.read_hdf(filein_hdf,key=\"dsps_mcmc_dust\")"
   ]
  },
  {
   "cell_type": "code",
   "execution_count": null,
   "id": "9482deaf-a29b-47ab-9c14-a1ff347468dd",
   "metadata": {},
   "outputs": [],
   "source": [
    "dict_params_withdust = df.to_dict('list')"
   ]
  },
  {
   "cell_type": "code",
   "execution_count": null,
   "id": "189a74c1-def9-4345-867e-638dad4d0bc6",
   "metadata": {},
   "outputs": [],
   "source": [
    "reordered_samples = OrderedDict()\n",
    "for key in PARAM_WITHDUST:\n",
    "    reordered_samples[key] = dict_params_withdust[key]"
   ]
  },
  {
   "cell_type": "code",
   "execution_count": null,
   "id": "4728fdc1-cbe2-4f94-a80a-2f9e3a5a3663",
   "metadata": {},
   "outputs": [],
   "source": [
    "labeller = azl.MapLabeller(var_name_map=PARAM_WITHDUST_DICT)"
   ]
  },
  {
   "cell_type": "code",
   "execution_count": null,
   "id": "85121995-31ab-4126-ae8e-828ef8f97e8b",
   "metadata": {},
   "outputs": [],
   "source": [
    "az.rcParams[\"plot.max_subplots\"] = 200 \n",
    "nparams = len(PARAM_WITHDUST)\n",
    "par_names = PARAM_WITHDUST\n",
    "par_true = p.DICT_PARAMS_true\n",
    "ax=az.plot_pair(\n",
    "        reordered_samples,\n",
    "        kind=\"kde\",\n",
    "        labeller=labeller,\n",
    "        marginal_kwargs={\"plot_kwargs\": {\"lw\":3, \"c\":\"blue\", \"ls\":\"-\"}},\n",
    "        kde_kwargs={\n",
    "            \"hdi_probs\": [0.3, 0.68, 0.9],  # Plot 30%, 68% and 90% HDI contours\n",
    "            \"contour_kwargs\":{\"colors\":None, \"cmap\":\"Blues\", \"linewidths\":3,\n",
    "                              \"linestyles\":\"-\"},\n",
    "            \"contourf_kwargs\":{\"alpha\":0.5},\n",
    "        },\n",
    "        point_estimate_kwargs={\"lw\": 3, \"c\": \"b\"},\n",
    "        marginals=True, textsize=50, point_estimate='median',\n",
    "    );\n",
    "\n",
    "# plot true parameter point\n",
    "for idy in range(nparams):\n",
    "    for idx in range(idy):\n",
    "        label_x = par_names[idx]\n",
    "        label_y = par_names[idy]\n",
    "        ax[idy,idx].scatter(par_true[label_x],par_true[label_y],c=\"r\",s=150,zorder=10)\n",
    "        \n",
    "\n",
    "for idx,name in enumerate(par_names):\n",
    "    ax[idx,idx].axvline(par_true[name],c='r',lw=3)\n",
    "    "
   ]
  },
  {
   "cell_type": "code",
   "execution_count": null,
   "id": "88ccdc27-9e1f-4efd-8b8e-0807e84d5aa9",
   "metadata": {},
   "outputs": [],
   "source": []
  }
 ],
 "metadata": {
  "kernelspec": {
   "display_name": "conda_jaxcpu_dsps_py310",
   "language": "python",
   "name": "conda_jaxcpu_dsps_py310"
  },
  "language_info": {
   "codemirror_mode": {
    "name": "ipython",
    "version": 3
   },
   "file_extension": ".py",
   "mimetype": "text/x-python",
   "name": "python",
   "nbconvert_exporter": "python",
   "pygments_lexer": "ipython3",
   "version": "3.10.13"
  }
 },
 "nbformat": 4,
 "nbformat_minor": 5
}
