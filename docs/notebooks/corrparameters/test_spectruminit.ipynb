{
 "cells": [
  {
   "cell_type": "markdown",
   "id": "ae79d794-565f-4b6c-bec1-9e25ac5d51e7",
   "metadata": {},
   "source": [
    "# test creating parameters true values"
   ]
  },
  {
   "cell_type": "code",
   "execution_count": null,
   "id": "6d884b52-55b8-41c0-8b47-5efbcb9b257c",
   "metadata": {},
   "outputs": [],
   "source": [
    "\n",
    "import h5py\n",
    "import pandas as pd\n",
    "import numpy as np\n",
    "import os\n",
    "import re\n",
    "import pickle \n",
    "import collections\n",
    "from collections import OrderedDict\n",
    "import copy\n",
    "\n",
    "import jax\n",
    "import jax.numpy as jnp\n",
    "from jax import vmap\n",
    "import jaxopt\n",
    "import optax\n",
    "\n",
    "from interpax import interp1d\n",
    "\n",
    "from jax.lax import fori_loop\n",
    "from jax.lax import select,cond\n",
    "from jax.lax import concatenate\n",
    "\n",
    "import numpyro\n",
    "from numpyro import optim\n",
    "from numpyro.diagnostics import print_summary\n",
    "import numpyro.distributions as dist\n",
    "from numpyro.distributions import constraints\n",
    "from numpyro.infer import MCMC, HMC, NUTS, SVI, Trace_ELBO\n",
    "from numpyro.infer.autoguide import AutoBNAFNormal, AutoMultivariateNormal\n",
    "from numpyro.infer.reparam import NeuTraReparam\n",
    "from numpyro.handlers import seed, trace, condition\n",
    "\n",
    "from fors2tostellarpopsynthesis.parameters  import SSPParametersFit,paramslist_to_dict\n",
    "from fors2tostellarpopsynthesis.fitters.fitter_jaxopt import (SSP_DATA,mean_spectrum,mean_mags,mean_sfr,ssp_spectrum_fromparam)\n",
    "from fors2tostellarpopsynthesis.fitters.fitter_numpyro import(PARAM_SIMLAW_NODUST,PARAM_SIMLAW_WITHDUST,\n",
    "                            PARAM_NAMES,PARAM_VAL,PARAM_MIN,PARAM_MAX,PARAM_SIGMA)\n",
    "\n",
    "from fors2tostellarpopsynthesis.fitters.fitter_numpyro import(galaxymodel_nodust_av,galaxymodel_nodust,galaxymodel_withdust_av,galaxymodel_withdust)\n",
    "\n",
    "\n"
   ]
  },
  {
   "cell_type": "code",
   "execution_count": null,
   "id": "5fbf1bc8-38d2-4d55-ba59-fc11d1a3dc2e",
   "metadata": {},
   "outputs": [],
   "source": [
    "import matplotlib.pyplot as plt\n",
    "%matplotlib inline"
   ]
  },
  {
   "cell_type": "code",
   "execution_count": null,
   "id": "8e633f27-f1ab-43ca-bece-7ccbda3b3fce",
   "metadata": {},
   "outputs": [],
   "source": [
    "# initialisation\n",
    "jax.config.update(\"jax_enable_x64\", True)\n",
    "\n",
    "\n",
    "# observation\n",
    "z_obs = 0.5\n",
    "\n",
    "# initialisation of parameters\n",
    "p = SSPParametersFit()\n"
   ]
  },
  {
   "cell_type": "code",
   "execution_count": null,
   "id": "c51b4c64-730c-4a11-b564-fa3df6df3dc8",
   "metadata": {},
   "outputs": [],
   "source": [
    "# select parameter true values and change it wrt default value\n",
    "dict_sel_params_true = copy.deepcopy(p.DICT_PARAMS_true)\n",
    "dict_sel_params_true['MAH_lgmO'] = 10.0\n",
    "dict_sel_params_true['MAH_logtc'] = 0.8\n",
    "dict_sel_params_true['MAH_early_index'] = 3.0\n",
    "dict_sel_params_true['MAH_late_index'] = 0.5\n",
    "dict_sel_params_true['AV'] = 0.5\n",
    "dict_sel_params_true['UV_BUMP'] = 2.5\n",
    "dict_sel_params_true['PLAW_SLOPE'] = -0.1\n",
    "\n",
    "list_sel_params_true = list(dict_sel_params_true.values())"
   ]
  },
  {
   "cell_type": "code",
   "execution_count": null,
   "id": "a34519f4-84b8-426a-920d-a643332b663e",
   "metadata": {},
   "outputs": [],
   "source": [
    "list_sel_params_true"
   ]
  },
  {
   "cell_type": "code",
   "execution_count": null,
   "id": "9a48aea7-3287-4fda-acc3-cc0e8cc7a291",
   "metadata": {},
   "outputs": [],
   "source": [
    "dict_sel_params_true"
   ]
  },
  {
   "cell_type": "code",
   "execution_count": null,
   "id": "bfe513eb-f53d-4e29-bf46-864464901fff",
   "metadata": {},
   "outputs": [],
   "source": [
    "df_params = pd.DataFrame({\"name\":PARAM_NAMES,\"min\": PARAM_MIN,\"val\": PARAM_VAL,\"max\": PARAM_MAX,\"sig\":PARAM_SIGMA,\"true\":list_sel_params_true})"
   ]
  },
  {
   "cell_type": "code",
   "execution_count": null,
   "id": "7468ebc7-27fb-44a4-830b-65dc3ca47e1a",
   "metadata": {},
   "outputs": [],
   "source": [
    "df_params  = df_params.round(decimals=3)\n",
    "df_params"
   ]
  },
  {
   "cell_type": "code",
   "execution_count": null,
   "id": "da5cf121-c15f-441c-a2b1-0285db5a6e9b",
   "metadata": {},
   "outputs": [],
   "source": [
    "# generate spectrum from true selected values\n",
    "wlsall,spec_rest_noatt,spec_rest_att = ssp_spectrum_fromparam(dict_sel_params_true,z_obs)\n"
   ]
  },
  {
   "cell_type": "code",
   "execution_count": null,
   "id": "3648e813-51c4-4c0f-aecd-c113afe891e4",
   "metadata": {},
   "outputs": [],
   "source": [
    "fig = plt.figure(figsize=(10,4))\n",
    "ax = fig.add_subplot()\n",
    "ax.set_xscale('log')\n",
    "ax.set_yscale('log')\n",
    "ax.plot(wlsall,spec_rest_noatt,linewidth=2,color=\"k\" ,label=\"no dust\")\n",
    "ax.plot(wlsall,spec_rest_att, linewidth=2 ,color='r', label=\"with dust\")\n",
    "ax.set_xlabel(\"$\\lambda$ (nm)\")\n",
    "ax.set_ylabel(\"DSPS SED true\")\n",
    "ax.legend()\n",
    "ymin = 1e-11\n",
    "ymax = jnp.max(spec_rest_noatt)*2.\n",
    "ymin = ymax/1e6\n",
    "ax.set_ylim(ymin,ymax)\n",
    "ax.set_xlim(1e2,1e6)\n",
    "ax.grid();\n",
    "\n"
   ]
  },
  {
   "cell_type": "code",
   "execution_count": null,
   "id": "80cb26ad-ae54-46c6-b6fb-176a7a2ff113",
   "metadata": {},
   "outputs": [],
   "source": []
  }
 ],
 "metadata": {
  "kernelspec": {
   "display_name": "conda_jaxcpu_dsps_py310",
   "language": "python",
   "name": "conda_jaxcpu_dsps_py310"
  },
  "language_info": {
   "codemirror_mode": {
    "name": "ipython",
    "version": 3
   },
   "file_extension": ".py",
   "mimetype": "text/x-python",
   "name": "python",
   "nbconvert_exporter": "python",
   "pygments_lexer": "ipython3",
   "version": "3.10.13"
  }
 },
 "nbformat": 4,
 "nbformat_minor": 5
}
