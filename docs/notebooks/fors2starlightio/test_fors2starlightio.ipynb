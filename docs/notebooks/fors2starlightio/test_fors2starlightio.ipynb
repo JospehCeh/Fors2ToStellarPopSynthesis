{
 "cells": [
  {
   "cell_type": "markdown",
   "id": "8d4f9c65-a4a1-4a8b-940a-832fc8a82268",
   "metadata": {},
   "source": [
    "# Test Fors2 and StarLightIO"
   ]
  },
  {
   "cell_type": "code",
   "execution_count": null,
   "id": "1fea7937-d49c-4d85-8854-ee02d3100165",
   "metadata": {},
   "outputs": [],
   "source": [
    "import matplotlib.pyplot as plt"
   ]
  },
  {
   "cell_type": "code",
   "execution_count": null,
   "id": "32949350-31af-4c67-b224-9c1ac0077d98",
   "metadata": {},
   "outputs": [],
   "source": [
    "from fors2tostellarpopsynthesis.fors2starlightio import FILENAME_FORS2PHOTOM,FILENAME_STARLIGHT\n",
    "from fors2tostellarpopsynthesis.fors2starlightio import _getPackageDir\n",
    "from fors2tostellarpopsynthesis.fors2starlightio import FULL_FILENAME_FORS2PHOTOM, FULL_FILENAME_STARLIGHT\n",
    "from fors2tostellarpopsynthesis.fors2starlightio import Fors2DataAcess, SLDataAcess\n",
    "from fors2tostellarpopsynthesis.fors2starlightio import convertflambda_to_fnu, flux_norm,ordered_keys"
   ]
  },
  {
   "cell_type": "code",
   "execution_count": null,
   "id": "b766b86a-5288-4dc1-8e1c-837a1afee569",
   "metadata": {},
   "outputs": [],
   "source": [
    "_getPackageDir()"
   ]
  },
  {
   "cell_type": "code",
   "execution_count": null,
   "id": "b206d906-8f14-4b51-9914-2a6688e2c337",
   "metadata": {},
   "outputs": [],
   "source": [
    "FILENAME_FORS2PHOTOM"
   ]
  },
  {
   "cell_type": "code",
   "execution_count": null,
   "id": "5534a5c7-76f3-4a79-9ad5-7f6d759f2596",
   "metadata": {},
   "outputs": [],
   "source": [
    "FILENAME_STARLIGHT"
   ]
  },
  {
   "cell_type": "code",
   "execution_count": null,
   "id": "e6cd11b5-ca1b-4dac-b283-0ae84296b131",
   "metadata": {},
   "outputs": [],
   "source": [
    "FULL_FILENAME_FORS2PHOTOM"
   ]
  },
  {
   "cell_type": "code",
   "execution_count": null,
   "id": "874de56b-6b1b-4cff-a54e-6f2593272192",
   "metadata": {},
   "outputs": [],
   "source": [
    "!ls /Users/dagoret/MacOSX/GitHub/LSST/Fors2ToStellarPopSynthesis/src/fors2tostellarpopsynthesis/fors2starlightio/data/FORS2spectraGalexKidsPhotom.h5"
   ]
  },
  {
   "cell_type": "code",
   "execution_count": null,
   "id": "c98a100e-4123-494e-a668-d36fd4cae285",
   "metadata": {},
   "outputs": [],
   "source": [
    "TAG = \"SPEC560\""
   ]
  },
  {
   "cell_type": "code",
   "execution_count": null,
   "id": "b72cd5a6-8be4-40b0-8e68-0aaaa0c331e2",
   "metadata": {},
   "outputs": [],
   "source": [
    "fors2 = Fors2DataAcess()"
   ]
  },
  {
   "cell_type": "code",
   "execution_count": null,
   "id": "6982f764-63cc-49b9-a019-39eca4e0cb49",
   "metadata": {},
   "outputs": [],
   "source": [
    "fors2.getattribdata_fromgroup(TAG)"
   ]
  },
  {
   "cell_type": "code",
   "execution_count": null,
   "id": "bd70019c-a0ab-48d8-abb8-fe091ed45bbf",
   "metadata": {},
   "outputs": [],
   "source": [
    "spec_f2 =fors2.getspectrum_fromgroup(TAG)"
   ]
  },
  {
   "cell_type": "code",
   "execution_count": null,
   "id": "eafe9976-b6d6-4bb3-a55a-e164d51c377b",
   "metadata": {},
   "outputs": [],
   "source": [
    "plt.plot(spec_f2['wl'],spec_f2['fl'])\n",
    "plt.xlim(0,1e4)"
   ]
  },
  {
   "cell_type": "code",
   "execution_count": null,
   "id": "9c30bdfa-be25-4b63-9949-82dca60f5d7e",
   "metadata": {},
   "outputs": [],
   "source": [
    "sl = SLDataAcess()"
   ]
  },
  {
   "cell_type": "code",
   "execution_count": null,
   "id": "5b0945ea-c8da-4fd9-b7d6-63cf09f5a1a8",
   "metadata": {},
   "outputs": [],
   "source": [
    "sl.getattribdata_fromgroup(TAG)"
   ]
  },
  {
   "cell_type": "code",
   "execution_count": null,
   "id": "98d4e490-0ebe-4c00-ac71-2ec8f2af2e05",
   "metadata": {},
   "outputs": [],
   "source": [
    "fors2.get_list_of_groupkeys()"
   ]
  },
  {
   "cell_type": "code",
   "execution_count": null,
   "id": "ac7d35c8-602c-4262-892a-91b191414bcd",
   "metadata": {},
   "outputs": [],
   "source": [
    "sl.get_list_of_groupkeys()"
   ]
  },
  {
   "cell_type": "code",
   "execution_count": null,
   "id": "e522cacb-bd37-4bbc-838b-2222ca5f77d6",
   "metadata": {},
   "outputs": [],
   "source": [
    "spec_sl =sl.getspectrum_fromgroup(TAG)"
   ]
  },
  {
   "cell_type": "code",
   "execution_count": null,
   "id": "3dcb9b6d-e08c-48fb-95d9-b7f2b7ae2f11",
   "metadata": {},
   "outputs": [],
   "source": [
    "plt.plot(spec_sl['wl'],spec_sl['fl'])\n",
    "plt.yscale('log')\n",
    "plt.ylim(1e-6,1e-4)\n",
    "plt.xlim(0,1e4)"
   ]
  },
  {
   "cell_type": "code",
   "execution_count": null,
   "id": "78fe967a-cd88-427e-b140-8e983a02431d",
   "metadata": {},
   "outputs": [],
   "source": []
  }
 ],
 "metadata": {
  "kernelspec": {
   "display_name": "conda_jaxcpu_dsps_py310",
   "language": "python",
   "name": "conda_jaxcpu_dsps_py310"
  },
  "language_info": {
   "codemirror_mode": {
    "name": "ipython",
    "version": 3
   },
   "file_extension": ".py",
   "mimetype": "text/x-python",
   "name": "python",
   "nbconvert_exporter": "python",
   "pygments_lexer": "ipython3",
   "version": "3.10.13"
  }
 },
 "nbformat": 4,
 "nbformat_minor": 5
}
