{
 "cells": [
  {
   "cell_type": "markdown",
   "id": "a688fc59-ac88-4641-9129-6264f8679cc1",
   "metadata": {},
   "source": [
    "# View all Fors2 spectra"
   ]
  },
  {
   "cell_type": "markdown",
   "id": "e49b0180-5793-49ae-87a0-e998bea32689",
   "metadata": {},
   "source": [
    "Implement this fit using this `fors2tostellarpopsynthesis`package\n",
    "\n",
    "- Author Sylvie Dagoret-Campagne\n",
    "- Afflilation : IJCLab/IN2P3/CNRS\n",
    "- Organisation : LSST-DESC\n",
    "- creation date : 2023-11-21\n",
    "- last update : 2023-11-21\n"
   ]
  },
  {
   "cell_type": "markdown",
   "id": "e7373f4c-496c-4116-b1d4-bb0bec0f59c4",
   "metadata": {},
   "source": [
    "## Import"
   ]
  },
  {
   "cell_type": "code",
   "execution_count": null,
   "id": "3081db6d-2b62-4701-9879-d638bd5db85f",
   "metadata": {},
   "outputs": [],
   "source": [
    "import h5py\n",
    "import pandas as pd\n",
    "import numpy as np\n",
    "import os\n",
    "import re\n",
    "from astropy.io import fits\n",
    "from astropy.table import Table\n",
    "import matplotlib as mpl\n",
    "import matplotlib.pyplot as plt\n",
    "%matplotlib inline\n",
    "import matplotlib.colors as colors\n",
    "import matplotlib.cm as cmx\n",
    "import collections\n",
    "from collections import OrderedDict\n",
    "import re\n",
    "import matplotlib.gridspec as gridspec\n",
    "from sklearn.gaussian_process import GaussianProcessRegressor, kernels"
   ]
  },
  {
   "cell_type": "code",
   "execution_count": null,
   "id": "e0a10a65-7027-48d4-8f38-5fd31c119dbe",
   "metadata": {},
   "outputs": [],
   "source": [
    "plt.rcParams[\"figure.figsize\"] = (12,6)\n",
    "plt.rcParams[\"axes.labelsize\"] = 'xx-large'\n",
    "plt.rcParams['axes.titlesize'] = 'xx-large'\n",
    "plt.rcParams['xtick.labelsize']= 'xx-large'\n",
    "plt.rcParams['ytick.labelsize']= 'xx-large'"
   ]
  },
  {
   "cell_type": "markdown",
   "id": "2f51644e-9599-4646-9ed9-f7fafa2d7962",
   "metadata": {},
   "source": [
    "### Fors2 and Starlight"
   ]
  },
  {
   "cell_type": "code",
   "execution_count": null,
   "id": "be610061-e204-4210-82aa-38edc32e2f6c",
   "metadata": {},
   "outputs": [],
   "source": [
    "from fors2tostellarpopsynthesis.fors2starlightio import Fors2DataAcess"
   ]
  },
  {
   "cell_type": "markdown",
   "id": "cc221d8f-cf90-42a9-b905-55392a399ca3",
   "metadata": {},
   "source": [
    "## Fors2 data"
   ]
  },
  {
   "cell_type": "code",
   "execution_count": null,
   "id": "6d608167-ed34-4581-aad5-1406a3f394b8",
   "metadata": {},
   "outputs": [],
   "source": [
    "fors2 = Fors2DataAcess()"
   ]
  },
  {
   "cell_type": "code",
   "execution_count": null,
   "id": "f09a6da3-9b62-425b-b193-e5a6a77a3dab",
   "metadata": {},
   "outputs": [],
   "source": [
    "fors2.plot_allspectra()"
   ]
  },
  {
   "cell_type": "code",
   "execution_count": null,
   "id": "21474d5c-2896-4226-87c7-5a152ebb7cbf",
   "metadata": {},
   "outputs": [],
   "source": [
    "fors2_tags = fors2.get_list_of_groupkeys()\n",
    "len(fors2_tags)"
   ]
  },
  {
   "cell_type": "code",
   "execution_count": null,
   "id": "c4d132c5-7aca-45e6-8b12-fe36b1cce598",
   "metadata": {},
   "outputs": [],
   "source": [
    "list_of_fors2_attributes = fors2.get_list_subgroup_keys()\n",
    "print(list_of_fors2_attributes)"
   ]
  },
  {
   "cell_type": "markdown",
   "id": "5ea709f2-3c83-4130-8961-d7705f1a07c2",
   "metadata": {},
   "source": [
    "## View all spectra"
   ]
  },
  {
   "cell_type": "code",
   "execution_count": null,
   "id": "25862956-0bdd-4216-aa0c-eb3ba363c886",
   "metadata": {},
   "outputs": [],
   "source": [
    "for specname in fors2_tags:\n",
    "    fors2.plot_spectro_photom_noscaling(specname)"
   ]
  },
  {
   "cell_type": "code",
   "execution_count": null,
   "id": "21f75e7c-3702-43b6-80bf-118947b57224",
   "metadata": {},
   "outputs": [],
   "source": []
  }
 ],
 "metadata": {
  "kernelspec": {
   "display_name": "conda_jaxcpu_dsps_py310",
   "language": "python",
   "name": "conda_jaxcpu_dsps_py310"
  },
  "language_info": {
   "codemirror_mode": {
    "name": "ipython",
    "version": 3
   },
   "file_extension": ".py",
   "mimetype": "text/x-python",
   "name": "python",
   "nbconvert_exporter": "python",
   "pygments_lexer": "ipython3",
   "version": "3.10.13"
  }
 },
 "nbformat": 4,
 "nbformat_minor": 5
}
