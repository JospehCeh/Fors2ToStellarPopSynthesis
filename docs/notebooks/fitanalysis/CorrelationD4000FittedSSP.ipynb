{
 "cells": [
  {
   "cell_type": "markdown",
   "id": "c8aade51-a22a-4778-9157-c94081d7d67f",
   "metadata": {},
   "source": [
    "# Understand correlation Red/blue wrt parameters"
   ]
  },
  {
   "cell_type": "markdown",
   "id": "6262461e-89cd-4623-88d6-6ef6cb50e0a1",
   "metadata": {},
   "source": [
    "- Author Sylvie Dagoret-Campagne\n",
    "- Afflilation : IJCLab/IN2P3/CNRS\n",
    "- Organisation : LSST-DESC\n",
    "- creation date : 2023-12-08\n",
    "- last update : 2023-12-10"
   ]
  },
  {
   "cell_type": "code",
   "execution_count": null,
   "id": "0549676e-2603-4376-8b68-92b7298af9d7",
   "metadata": {},
   "outputs": [],
   "source": [
    "import h5py\n",
    "import pandas as pd\n",
    "import numpy as np\n",
    "import os\n",
    "import re\n",
    "import pickle \n",
    "import matplotlib as mpl\n",
    "import matplotlib.pyplot as plt\n",
    "%matplotlib inline\n",
    "import matplotlib.colors as colors\n",
    "import matplotlib.cm as cmx\n",
    "import collections\n",
    "from collections import OrderedDict\n",
    "import re\n",
    "import matplotlib.gridspec as gridspec\n",
    "import arviz as az"
   ]
  },
  {
   "cell_type": "code",
   "execution_count": null,
   "id": "b6a415d2-0295-4ac2-9027-90ba99ff42c8",
   "metadata": {},
   "outputs": [],
   "source": [
    "plt.rcParams[\"figure.figsize\"] = (12,6)\n",
    "plt.rcParams[\"axes.labelsize\"] = 'xx-large'\n",
    "plt.rcParams['axes.titlesize'] = 'xx-large'\n",
    "plt.rcParams['xtick.labelsize']= 'xx-large'\n",
    "plt.rcParams['ytick.labelsize']= 'xx-large'\n",
    "plt.rcParams['legend.fontsize']=  16"
   ]
  },
  {
   "cell_type": "markdown",
   "id": "24c6c350-d3b3-421d-bab9-aa2a57e3caac",
   "metadata": {},
   "source": [
    "## imports"
   ]
  },
  {
   "cell_type": "markdown",
   "id": "af213937-9d0e-47dc-a11c-664beb36fb1a",
   "metadata": {},
   "source": [
    "### fitter jaxopt"
   ]
  },
  {
   "cell_type": "code",
   "execution_count": null,
   "id": "b2e6c192-0821-47df-996b-3b4d7088d89b",
   "metadata": {},
   "outputs": [],
   "source": [
    "from fors2tostellarpopsynthesis.fitters.fitter_jaxopt import (SSP_DATA,mean_spectrum,mean_mags,mean_sfr,ssp_spectrum_fromparam)"
   ]
  },
  {
   "cell_type": "code",
   "execution_count": null,
   "id": "93da83cb-6e27-41c1-bb09-3a0a1f6f55b3",
   "metadata": {},
   "outputs": [],
   "source": [
    "from dsps.cosmology import DEFAULT_COSMOLOGY, age_at_z"
   ]
  },
  {
   "cell_type": "code",
   "execution_count": null,
   "id": "a96fef65-79e9-4073-b35c-3bca72fb40df",
   "metadata": {},
   "outputs": [],
   "source": [
    "from fors2tostellarpopsynthesis.fitters.fitter_util import plot_params_kde,calc_ratio"
   ]
  },
  {
   "cell_type": "markdown",
   "id": "d3639f34-88e1-4ae9-abae-dd14b23ffb5b",
   "metadata": {},
   "source": [
    "### fors2starlightio"
   ]
  },
  {
   "cell_type": "code",
   "execution_count": null,
   "id": "79f16fa4-9881-4353-a54b-2d643fc67dae",
   "metadata": {
    "tags": []
   },
   "outputs": [],
   "source": [
    "from fors2tostellarpopsynthesis.fors2starlightio import  flux_norm"
   ]
  },
  {
   "cell_type": "markdown",
   "id": "0f63b79d-0541-4fef-a430-43aea4e436ec",
   "metadata": {},
   "source": [
    "### parameters"
   ]
  },
  {
   "cell_type": "code",
   "execution_count": null,
   "id": "d98be78c-8d94-4b76-ab52-405c64e1a991",
   "metadata": {},
   "outputs": [],
   "source": [
    "from fors2tostellarpopsynthesis.parameters import SSPParametersFit,paramslist_to_dict"
   ]
  },
  {
   "cell_type": "markdown",
   "id": "9ece6107-dcc5-4f42-a80f-0476ad0ef7d5",
   "metadata": {},
   "source": [
    "## Configuration"
   ]
  },
  {
   "cell_type": "markdown",
   "id": "36f72d4d-1cc8-4d78-8de3-34e934c17442",
   "metadata": {},
   "source": [
    "### Constants"
   ]
  },
  {
   "cell_type": "code",
   "execution_count": null,
   "id": "ba858f4f-f5bb-4fc1-a7da-8a6b038f7664",
   "metadata": {},
   "outputs": [],
   "source": [
    "Lyman_lines = [1220., 1030. ,973.,950., 938., 930.]\n",
    "Balmer_lines = [6562.791,4861.351,4340.4721,4101.740,3970.072,3889.0641,3835.3971]\n",
    "Paschen_lines = [8750., 12820., 10938.0,10050., 9546.2, 9229.7,9015.3, 8862.89,8750.46,8665.02]\n",
    "Brackett_lines = [40522.79, 26258.71, 21661.178, 19440., 18179.21]\n",
    "Pfund_lines = [ 74599.0, 46537.8, 37405.76 , 32969.8, 30400.]\n",
    "all_Hydrogen_lines = [ Lyman_lines, Balmer_lines, Paschen_lines, Brackett_lines, Pfund_lines]\n",
    "Color_lines = [\"purple\", \"blue\", \"green\", \"red\",\"grey\"]\n",
    "Balmer_thres = 3645.6\n",
    "Lyman_thres = 911.267\n",
    "Paschen_thres = 8200.\n",
    "Brackett_thres = 14580.\n",
    "Pfund_lines = 22800.\n",
    "all_Hydrogen_thres = [Lyman_thres , Balmer_thres, Paschen_thres, Brackett_thres, Pfund_lines]"
   ]
  },
  {
   "cell_type": "code",
   "execution_count": null,
   "id": "7eded101-ce0f-479d-9edb-4be0bb4ad0db",
   "metadata": {},
   "outputs": [],
   "source": [
    "wl0 = 3645.6"
   ]
  },
  {
   "cell_type": "code",
   "execution_count": null,
   "id": "bb629534-af39-4852-9869-5de06efd8f40",
   "metadata": {},
   "outputs": [],
   "source": [
    "D4000_red = [4050.,4250] \n",
    "D4000_blue = [3750.,3950.]\n",
    "W_BALMER = [Balmer_thres, Balmer_lines[0]]\n",
    "W_LYMAN = [Lyman_thres, Lyman_lines[0]]"
   ]
  },
  {
   "cell_type": "code",
   "execution_count": null,
   "id": "39c014ab-1601-491f-b004-739731152903",
   "metadata": {},
   "outputs": [],
   "source": [
    "def plot_hydrogen_lines(ax):\n",
    "    nth = len(all_Hydrogen_thres)\n",
    "    for idx,group_lines in enumerate(all_Hydrogen_lines):\n",
    "        color = Color_lines[idx]\n",
    "        for wl_line in group_lines:\n",
    "            ax.axvline(wl_line,color=color,lw=0.5)\n",
    "        if idx< nth:\n",
    "            ax.axvline(all_Hydrogen_thres[idx],color=color,linestyle=\":\")\n",
    "    ax.axvspan(W_LYMAN[0],W_LYMAN[1],facecolor='green', alpha=0.5)\n",
    "    ax.axvspan(W_BALMER[0],W_BALMER[1],facecolor='yellow', alpha=0.5)"
   ]
  },
  {
   "cell_type": "markdown",
   "id": "7b785a80-86f2-4f4b-8ea4-0c7a8e02d95b",
   "metadata": {},
   "source": [
    "### fitted params"
   ]
  },
  {
   "cell_type": "code",
   "execution_count": null,
   "id": "c7675917-f608-4d82-9f73-6a3467c3c94d",
   "metadata": {},
   "outputs": [],
   "source": [
    "input_path = \"fitssp_results\"\n",
    "input_file = \"fitssp_results.h5\""
   ]
  },
  {
   "cell_type": "code",
   "execution_count": null,
   "id": "0c85c38a-c9dc-430a-9634-6bf533b587d9",
   "metadata": {},
   "outputs": [],
   "source": [
    "fullname_input = os.path.join(input_path ,input_file) "
   ]
  },
  {
   "cell_type": "markdown",
   "id": "92610cca-994f-4c31-b8f6-39fc890561aa",
   "metadata": {},
   "source": [
    "### Functions"
   ]
  },
  {
   "cell_type": "code",
   "execution_count": null,
   "id": "6e452975-de94-4ed1-9878-22f12577df52",
   "metadata": {},
   "outputs": [],
   "source": [
    "def bluefraction(x,y,wlcut=wl0):\n",
    "\n",
    "    indexes_blue = np.where(x<wlcut)[0]\n",
    "    indexes_red =np.where(x>wlcut)[0]\n",
    "\n",
    "    integ_blue = np.trapz(y[indexes_blue],x[indexes_blue])\n",
    "    integ_red = np.trapz(y[indexes_red],x[indexes_red])\n",
    "\n",
    "    fraction_blue = integ_blue /(integ_blue+integ_red)\n",
    "    fraction_red= integ_red /(integ_blue+integ_red)\n",
    "\n",
    "    return fraction_blue"
   ]
  },
  {
   "cell_type": "markdown",
   "id": "4d81d428-6a35-43bf-b692-2bd88b84171d",
   "metadata": {},
   "source": [
    "## Read Dataframe "
   ]
  },
  {
   "cell_type": "code",
   "execution_count": null,
   "id": "7aa6dd0c-0391-48df-8e55-ecb18a520f4e",
   "metadata": {},
   "outputs": [],
   "source": [
    "df = pd.read_hdf(fullname_input)"
   ]
  },
  {
   "cell_type": "code",
   "execution_count": null,
   "id": "a6adb1fa-d2fb-4055-bb02-ed7c7d53e09e",
   "metadata": {},
   "outputs": [],
   "source": [
    "df"
   ]
  },
  {
   "cell_type": "code",
   "execution_count": null,
   "id": "28d1369f-d9b2-45c4-9a9f-d555953eeca9",
   "metadata": {},
   "outputs": [],
   "source": [
    "N = len(df)"
   ]
  },
  {
   "cell_type": "code",
   "execution_count": null,
   "id": "d16979d7-7c6f-4026-a7b4-f4f9949a66f9",
   "metadata": {},
   "outputs": [],
   "source": [
    "df"
   ]
  },
  {
   "cell_type": "code",
   "execution_count": null,
   "id": "8135d05d-6c65-482e-aa3c-d2e7015e4833",
   "metadata": {},
   "outputs": [],
   "source": [
    "# create colormap\n",
    "#cm = plt.cm.bwr(np.linspace(0, 1, N))"
   ]
  },
  {
   "cell_type": "markdown",
   "id": "8c3efb08-d16e-4c36-9ab7-1c1dd3bed9f2",
   "metadata": {},
   "source": [
    "## Decode fitted DSPS parameters and plot spectra"
   ]
  },
  {
   "cell_type": "code",
   "execution_count": null,
   "id": "315719ab-d660-488b-9c70-b493f0499589",
   "metadata": {},
   "outputs": [],
   "source": [
    "names_fitparams = list(df.columns[8:])"
   ]
  },
  {
   "cell_type": "code",
   "execution_count": null,
   "id": "2b3d14ee-5dd3-48c2-a516-91bb3813c205",
   "metadata": {},
   "outputs": [],
   "source": [
    "all_x = []\n",
    "all_y_nodust = []\n",
    "all_y_dust = []\n",
    "the_ymax= 1e-12\n",
    "all_fractions_blue = []\n",
    "all_BL = []\n",
    "all_D4000 = []\n",
    "\n",
    "\n",
    "\n",
    "# loop on fitted spectra\n",
    "for idx in range(N):\n",
    "\n",
    "    # SSP\n",
    "    row = df.iloc[idx]\n",
    "    z_obs = row[\"zobs\"]\n",
    "    specname = row[\"fors2name\"]\n",
    "    list_params = row[names_fitparams].values\n",
    "    dict_params = paramslist_to_dict(list_params,names_fitparams)\n",
    "    x,y_nodust,y_dust = ssp_spectrum_fromparam(dict_params,z_obs)\n",
    "\n",
    "    norm_y_nodust = flux_norm(x,y_nodust,wlcenter=wl0)\n",
    "    norm_y_dust = flux_norm(x,y_dust,wlcenter=wl0)\n",
    "\n",
    "    y_nodust /=  norm_y_nodust\n",
    "    y_dust /=  norm_y_dust\n",
    "    \n",
    "    fract_blue = bluefraction(x,y_nodust)\n",
    "    D4000 = calc_ratio(x,y_nodust)\n",
    "    DBL = calc_ratio(x,y_nodust,W_LYMAN ,W_BALMER )\n",
    "    \n",
    "    \n",
    "    all_x.append(x)\n",
    "    all_y_nodust.append(y_nodust) \n",
    "    all_y_dust.append(y_dust) \n",
    "    all_fractions_blue.append(fract_blue)\n",
    "    all_BL.append(DBL)\n",
    "    all_D4000.append(D4000)\n",
    "\n",
    "    ymax = y_nodust.max()\n",
    "    the_ymax = max(the_ymax,ymax)\n",
    "    \n",
    "\n",
    "ylim_max = the_ymax*2.\n",
    "ylim_min = ylim_max/1e7\n",
    "\n",
    "all_fractions_blue = np.array(all_fractions_blue)\n",
    "all_BL = np.array(all_BL)\n",
    "all_D4000 = np.array(all_D4000)"
   ]
  },
  {
   "cell_type": "code",
   "execution_count": null,
   "id": "0421e2fc-85ac-4ec1-9ac9-008e6efb7c80",
   "metadata": {},
   "outputs": [],
   "source": [
    "fig = plt.figure(figsize=(8,6))\n",
    "axs = fig.subplots(2,2)\n",
    "\n",
    "for idx, ax in enumerate(np.ravel(axs)):\n",
    "    if idx==0:\n",
    "        ax.hist(all_D4000,bins=50,density=True,facecolor=\"r\",label=\"DSPS\")\n",
    "        ax.set_xlabel(\"D4000\")\n",
    "        ax.legend()\n",
    "    elif idx==1:\n",
    "        ax.hist(np.log10(all_BL),bins=50,density=True,facecolor=\"r\")\n",
    "        ax.set_xlabel(\"Balmer/Lyman\")\n",
    "        ax.set_yscale('log')\n",
    "    elif idx==2:\n",
    "        ax.scatter(all_D4000,np.log10(all_BL),marker='o',alpha=0.3,facecolor=\"r\")\n",
    "        ax.set_xlabel(\"D4000\")\n",
    "        ax.set_ylabel(\"Balmer/Lyman\")\n",
    "    elif idx==3:\n",
    "        ax.hist(np.log10(all_fractions_blue),density=True,facecolor=\"r\",alpha=0.8)\n",
    "        ax.set_xlabel(\"Blue fraction\")\n",
    "#ax.set_title(\"D4000\")\n",
    "#ax.set_xlabel(\"D4000\")\n",
    "plt.tight_layout()"
   ]
  },
  {
   "cell_type": "code",
   "execution_count": null,
   "id": "b3353dda-c0dd-4598-b3b8-696f88733511",
   "metadata": {},
   "outputs": [],
   "source": [
    "bwr_map = plt.get_cmap('bwr')\n",
    "reversed_map = bwr_map.reversed() \n",
    "#cNorm = colors.Normalize(vmin=np.log10(all_fractions).min(), vmax=np.log10(all_fractions).max())\n",
    "#scalarMap = cmx.ScalarMappable(norm=cNorm, cmap=reversed_map)\n",
    "#all_colors = scalarMap.to_rgba(np.log10(all_fractions), alpha=1)\n",
    "cNorm = colors.Normalize(vmin=all_D4000.min(), vmax=all_D4000.max())\n",
    "scalarMap = cmx.ScalarMappable(norm=cNorm, cmap=bwr_map)\n",
    "all_colors = scalarMap.to_rgba(all_D4000, alpha=1)"
   ]
  },
  {
   "cell_type": "code",
   "execution_count": null,
   "id": "d65757c2-7119-472d-a180-5cfaabd0de36",
   "metadata": {},
   "outputs": [],
   "source": [
    "_, ax1 = plt.subplots(1, 1,figsize=(10,5))\n",
    "\n",
    "\n",
    "__= ax1.set_yscale('log') \n",
    "__= ax1.set_xscale('log') \n",
    "\n",
    "for idx in range(N):\n",
    "    ax1.plot(all_x[idx],all_y_nodust[idx],'-',color=all_colors[idx])\n",
    "\n",
    "\n",
    "__= ax1.set_xlim(100.,1e6)\n",
    "__= ax1.set_ylim(ylim_min ,ylim_max )\n",
    "\n",
    "ax1.set_xlabel(\"$\\lambda (\\\\AA)$\")\n",
    "ax1.set_ylabel(\"$L_\\\\nu(\\lambda)$ relative flux\")\n",
    "ax1.set_title(\"$f_\\\\nu(\\lambda)$ Fitted spectra\")\n",
    "ax1.grid()\n",
    "#ax1.axvline(wl0,color=\"k\")\n",
    "plot_hydrogen_lines(ax1)\n",
    "\n",
    "plt.tight_layout()"
   ]
  },
  {
   "cell_type": "code",
   "execution_count": null,
   "id": "a900080a-fd2f-4563-a33b-61ea1fb1265a",
   "metadata": {},
   "outputs": [],
   "source": [
    "_, ax1 = plt.subplots(1, 1,figsize=(10,5))\n",
    "__= ax1.set_yscale('log') \n",
    "__= ax1.set_xscale('log') \n",
    "\n",
    "for idx in range(N):\n",
    "    ax1.plot(all_x[idx],all_y_nodust[idx]/(all_x[idx]/wl0)**2,color=all_colors[idx])\n",
    "__= ax1.set_xlim(100.,1e5)\n",
    "#__= ax1.set_ylim(1e-12 ,1e-4 )\n",
    "__= ax1.set_ylim(1e-3 ,1e2 )\n",
    "\n",
    "#ax1.axvline(wl0,color=\"k\")\n",
    "ax1.set_xlabel(\"$\\lambda (\\\\AA)$\")\n",
    "ax1.set_ylabel(\"$L_\\\\lambda(\\lambda)$ relative flux\")\n",
    "ax1.set_title(\"$f_\\\\lambda(\\lambda)$ Fitted spectra\")\n",
    "plot_hydrogen_lines(ax1)\n",
    "ax1.grid()\n",
    "\n",
    "\n",
    "plt.tight_layout()"
   ]
  },
  {
   "cell_type": "markdown",
   "id": "1808b18b-3d1e-4801-86cc-c965352e3ade",
   "metadata": {},
   "source": [
    "## Correlation"
   ]
  },
  {
   "cell_type": "code",
   "execution_count": null,
   "id": "ee8f13ba-b1fb-4b8a-9431-72e3bb3fa607",
   "metadata": {
    "tags": []
   },
   "outputs": [],
   "source": [
    "names_fitparams"
   ]
  },
  {
   "cell_type": "code",
   "execution_count": null,
   "id": "6b69e8de-db4c-43de-b1a1-dbcaaf29b4db",
   "metadata": {
    "tags": []
   },
   "outputs": [],
   "source": [
    "for idx0,selected_paramname in enumerate(names_fitparams):\n",
    "\n",
    "    all_param_values = []\n",
    "    # loop on fitted spectra\n",
    "    for idx1 in range(N):\n",
    "\n",
    "        # SSP\n",
    "        row = df.iloc[idx1]\n",
    "        z_obs = row[\"zobs\"]\n",
    "        specname = row[\"fors2name\"]\n",
    "        param_value = row[selected_paramname]\n",
    "        all_param_values.append(param_value )\n",
    "     \n",
    "    all_param_values = np.array(all_param_values)\n",
    "    \n",
    "    dict_data = {'D4000':all_D4000,selected_paramname:all_param_values}\n",
    "    \n",
    "    try:\n",
    "        \n",
    "        _, ax = plt.subplots(1, 1,figsize=(3,3))\n",
    "        az.plot_pair(dict_data,var_names=['D4000', selected_paramname], kind='kde',ax=ax)\n",
    "        plt.show()\n",
    "    except Exception as inst:\n",
    "\n",
    "        print(type(inst))    # the exception type\n",
    "        print(inst.args)     # arguments stored in .args\n",
    "        print(inst)    \n",
    "    \n",
    "    \n",
    "    "
   ]
  },
  {
   "cell_type": "code",
   "execution_count": null,
   "id": "b6969928-11ea-431d-99fb-33012b972721",
   "metadata": {},
   "outputs": [],
   "source": []
  }
 ],
 "metadata": {
  "kernelspec": {
   "display_name": "conda_jaxcpu_dsps_py310",
   "language": "python",
   "name": "conda_jaxcpu_dsps_py310"
  },
  "language_info": {
   "codemirror_mode": {
    "name": "ipython",
    "version": 3
   },
   "file_extension": ".py",
   "mimetype": "text/x-python",
   "name": "python",
   "nbconvert_exporter": "python",
   "pygments_lexer": "ipython3",
   "version": "3.10.13"
  }
 },
 "nbformat": 4,
 "nbformat_minor": 5
}
