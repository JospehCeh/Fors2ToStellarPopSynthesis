{
 "cells": [
  {
   "cell_type": "markdown",
   "id": "c8aade51-a22a-4778-9157-c94081d7d67f",
   "metadata": {},
   "source": [
    "# View fitted spectra"
   ]
  },
  {
   "cell_type": "markdown",
   "id": "6262461e-89cd-4623-88d6-6ef6cb50e0a1",
   "metadata": {},
   "source": [
    "- Author Sylvie Dagoret-Campagne\n",
    "- Afflilation : IJCLab/IN2P3/CNRS\n",
    "- Organisation : LSST-DESC\n",
    "- creation date : 2023-11-27\n",
    "- \n",
    "- conda environmment on my laptop conda_jaxcpu_dsps_py310\n",
    "- \n",
    "- update : 2023-12-10 : View fitted spectra for run fit of november 27th 2023\n",
    "- last update : 2024-01-06 : View fitted spectra for run fit of January 6th 2024"
   ]
  },
  {
   "cell_type": "code",
   "execution_count": null,
   "id": "0549676e-2603-4376-8b68-92b7298af9d7",
   "metadata": {},
   "outputs": [],
   "source": [
    "import h5py\n",
    "import pandas as pd\n",
    "import numpy as np\n",
    "import os\n",
    "import re\n",
    "import pickle \n",
    "import matplotlib as mpl\n",
    "import matplotlib.pyplot as plt\n",
    "%matplotlib inline\n",
    "import matplotlib.colors as colors\n",
    "import matplotlib.cm as cmx\n",
    "import matplotlib.gridspec as gridspec\n",
    "from mpl_toolkits.axes_grid1.inset_locator import inset_axes\n",
    "import collections\n",
    "from collections import OrderedDict\n",
    "import re\n",
    "import matplotlib.gridspec as gridspec"
   ]
  },
  {
   "cell_type": "code",
   "execution_count": null,
   "id": "b6a415d2-0295-4ac2-9027-90ba99ff42c8",
   "metadata": {},
   "outputs": [],
   "source": [
    "plt.rcParams[\"figure.figsize\"] = (12,6)\n",
    "plt.rcParams[\"axes.labelsize\"] = 'xx-large'\n",
    "plt.rcParams['axes.titlesize'] = 'xx-large'\n",
    "plt.rcParams['xtick.labelsize']= 'xx-large'\n",
    "plt.rcParams['ytick.labelsize']= 'xx-large'\n",
    "plt.rcParams['legend.fontsize']=  16"
   ]
  },
  {
   "cell_type": "markdown",
   "id": "24c6c350-d3b3-421d-bab9-aa2a57e3caac",
   "metadata": {},
   "source": [
    "## imports"
   ]
  },
  {
   "cell_type": "markdown",
   "id": "af213937-9d0e-47dc-a11c-664beb36fb1a",
   "metadata": {},
   "source": [
    "### fitter jaxopt"
   ]
  },
  {
   "cell_type": "code",
   "execution_count": null,
   "id": "b2e6c192-0821-47df-996b-3b4d7088d89b",
   "metadata": {},
   "outputs": [],
   "source": [
    "from fors2tostellarpopsynthesis.fitters.fitter_jaxopt import (SSP_DATA,mean_spectrum,mean_mags,mean_sfr,ssp_spectrum_fromparam)"
   ]
  },
  {
   "cell_type": "code",
   "execution_count": null,
   "id": "93da83cb-6e27-41c1-bb09-3a0a1f6f55b3",
   "metadata": {},
   "outputs": [],
   "source": [
    "from dsps.cosmology import DEFAULT_COSMOLOGY, age_at_z"
   ]
  },
  {
   "cell_type": "markdown",
   "id": "1a69a3bc-b616-4a3c-b593-fbc15be73279",
   "metadata": {},
   "source": [
    "### fors2starlightio"
   ]
  },
  {
   "cell_type": "code",
   "execution_count": null,
   "id": "c85f0d14-377f-44d1-b0d6-e1c19e35167a",
   "metadata": {},
   "outputs": [],
   "source": [
    "from fors2tostellarpopsynthesis.fors2starlightio import flux_norm"
   ]
  },
  {
   "cell_type": "markdown",
   "id": "0f63b79d-0541-4fef-a430-43aea4e436ec",
   "metadata": {},
   "source": [
    "### parameters"
   ]
  },
  {
   "cell_type": "code",
   "execution_count": null,
   "id": "d98be78c-8d94-4b76-ab52-405c64e1a991",
   "metadata": {},
   "outputs": [],
   "source": [
    "from fors2tostellarpopsynthesis.parameters import SSPParametersFit,paramslist_to_dict"
   ]
  },
  {
   "cell_type": "code",
   "execution_count": null,
   "id": "e0f3953f-2032-4856-8bb5-9069623cadd1",
   "metadata": {},
   "outputs": [],
   "source": [
    "from sedpy import observate\n",
    "from fors2tostellarpopsynthesis.filters import FilterInfo"
   ]
  },
  {
   "cell_type": "markdown",
   "id": "9ece6107-dcc5-4f42-a80f-0476ad0ef7d5",
   "metadata": {},
   "source": [
    "## Configuration\n",
    "\n",
    "### fitted params"
   ]
  },
  {
   "cell_type": "code",
   "execution_count": null,
   "id": "1f56f67e-a22d-4607-b574-97554c90f756",
   "metadata": {},
   "outputs": [],
   "source": [
    "# current date\n",
    "date = \"2024-01-06\"\n",
    "# previous date\n",
    "#date = \"2023-11-27\""
   ]
  },
  {
   "cell_type": "code",
   "execution_count": null,
   "id": "c7675917-f608-4d82-9f73-6a3467c3c94d",
   "metadata": {},
   "outputs": [],
   "source": [
    "input_path = \"fitssp_results\"\n",
    "input_file = f\"fitssp_results_{date}.h5\""
   ]
  },
  {
   "cell_type": "code",
   "execution_count": null,
   "id": "0c85c38a-c9dc-430a-9634-6bf533b587d9",
   "metadata": {},
   "outputs": [],
   "source": [
    "fullname_input = os.path.join(input_path ,input_file) "
   ]
  },
  {
   "cell_type": "code",
   "execution_count": null,
   "id": "d0b8f127-bee3-464e-beb4-885a7f8b9e4b",
   "metadata": {},
   "outputs": [],
   "source": [
    "Lyman_lines = [1220., 1030. ,973.,950., 938., 930.]\n",
    "Balmer_lines = [6562.791,4861.351,4340.4721,4101.740,3970.072,3889.0641,3835.3971]\n",
    "Paschen_lines = [8750., 12820., 10938.0,10050., 9546.2, 9229.7,9015.3, 8862.89,8750.46,8665.02]\n",
    "Brackett_lines = [40522.79, 26258.71, 21661.178, 19440., 18179.21]\n",
    "Pfund_lines = [ 74599.0, 46537.8, 37405.76 , 32969.8, 30400.]\n",
    "all_Hydrogen_lines = [ Lyman_lines, Balmer_lines, Paschen_lines, Brackett_lines, Pfund_lines]\n",
    "Color_lines = [\"purple\", \"blue\", \"green\", \"red\",\"grey\"]\n",
    "Balmer_thres = 3645.6\n",
    "Lyman_thres = 911.267\n",
    "Paschen_thres = 8200.\n",
    "Brackett_thres = 14580.\n",
    "Pfund_lines = 22800.\n",
    "all_Hydrogen_thres = [Lyman_thres , Balmer_thres, Paschen_thres, Brackett_thres, Pfund_lines]"
   ]
  },
  {
   "cell_type": "code",
   "execution_count": null,
   "id": "1a34b708-b08b-4660-b662-080ac856836f",
   "metadata": {},
   "outputs": [],
   "source": [
    "wl0 = 3645.6"
   ]
  },
  {
   "cell_type": "code",
   "execution_count": null,
   "id": "808b9946-1a75-409e-85e8-aee4b14148f6",
   "metadata": {},
   "outputs": [],
   "source": [
    "D4000_red = [4050.,4250] \n",
    "D4000_blue = [3750.,3950.]\n",
    "W_BALMER = [Balmer_thres, Balmer_lines[0]]\n",
    "W_LYMAN = [Lyman_thres, Lyman_lines[0]]"
   ]
  },
  {
   "cell_type": "code",
   "execution_count": null,
   "id": "9323a277-86ec-4e6f-b92a-0ac68116ef65",
   "metadata": {},
   "outputs": [],
   "source": [
    "def plot_hydrogen_lines(ax):\n",
    "    nth = len(all_Hydrogen_thres)\n",
    "    for idx,group_lines in enumerate(all_Hydrogen_lines):\n",
    "        # select only Lyman and Balmer\n",
    "        if idx<2:\n",
    "            color = Color_lines[idx]\n",
    "            for wl_line in group_lines:\n",
    "                ax.axvline(wl_line,color=color,lw=0.5)\n",
    "            if idx< nth:\n",
    "                ax.axvline(all_Hydrogen_thres[idx],color=color,linestyle=\":\")\n",
    "    ax.axvspan(W_LYMAN[0],W_LYMAN[1],facecolor='green', alpha=0.5)\n",
    "    ax.axvspan(W_BALMER[0],W_BALMER[1],facecolor='yellow', alpha=0.5)"
   ]
  },
  {
   "cell_type": "markdown",
   "id": "4d81d428-6a35-43bf-b692-2bd88b84171d",
   "metadata": {},
   "source": [
    "## Read Dataframe "
   ]
  },
  {
   "cell_type": "code",
   "execution_count": null,
   "id": "7aa6dd0c-0391-48df-8e55-ecb18a520f4e",
   "metadata": {},
   "outputs": [],
   "source": [
    "df = pd.read_hdf(fullname_input)"
   ]
  },
  {
   "cell_type": "code",
   "execution_count": null,
   "id": "a6adb1fa-d2fb-4055-bb02-ed7c7d53e09e",
   "metadata": {},
   "outputs": [],
   "source": [
    "df"
   ]
  },
  {
   "cell_type": "code",
   "execution_count": null,
   "id": "28d1369f-d9b2-45c4-9a9f-d555953eeca9",
   "metadata": {},
   "outputs": [],
   "source": [
    "N = len(df)"
   ]
  },
  {
   "cell_type": "code",
   "execution_count": null,
   "id": "7d6f8d5b-128d-4aec-bb0d-d443605bd9b8",
   "metadata": {},
   "outputs": [],
   "source": [
    "#fig = plt.figure(figsize=(6,4))\n",
    "\n",
    "fig, ax = plt.subplots(1, figsize=(6, 4))\n",
    "df[\"zobs\"].plot(kind='hist', bins=30,range=(0,1.5),facecolor=\"b\",xlabel=\"z_obs\",\n",
    "                title=\"redshifts for RXJ 0054.0-2823 : long_gal = 278.66° , lat_gal = -88.60°\",ax=ax);\n",
    "\n",
    "\n",
    "#df.hist(\"zobs\",bins=30,range=(0,1.5),facecolor=\"b\")\n",
    "#plt.xlabel(\"Zobs\")"
   ]
  },
  {
   "cell_type": "markdown",
   "id": "4824409e-eed2-49c5-9a27-aaa452ebe463",
   "metadata": {},
   "source": [
    "## Check the colors"
   ]
  },
  {
   "cell_type": "code",
   "execution_count": null,
   "id": "3119c437-82b7-40d7-8f5c-869f8d8eadf3",
   "metadata": {},
   "outputs": [],
   "source": [
    "bwr_map = plt.get_cmap('bwr')\n",
    "reversed_map = bwr_map.reversed() \n",
    "cNorm = colors.Normalize(0., vmax=1.)\n",
    "scalarMap = cmx.ScalarMappable(norm=cNorm, cmap=bwr_map)\n",
    "all_colors = scalarMap.to_rgba(df[\"zobs\"].values, alpha=1)"
   ]
  },
  {
   "cell_type": "code",
   "execution_count": null,
   "id": "c16c4d63-ef1b-47c0-93a5-b5ce155281d8",
   "metadata": {},
   "outputs": [],
   "source": [
    "bwr_map"
   ]
  },
  {
   "cell_type": "code",
   "execution_count": null,
   "id": "a24e2d0d-4af1-46e4-8282-9db731086871",
   "metadata": {},
   "outputs": [],
   "source": [
    "reversed_map"
   ]
  },
  {
   "cell_type": "code",
   "execution_count": null,
   "id": "2ddbac31-d159-44c0-8790-7f582a6abadc",
   "metadata": {},
   "outputs": [],
   "source": [
    "color_z0 = scalarMap.to_rgba(0., alpha=1)"
   ]
  },
  {
   "cell_type": "code",
   "execution_count": null,
   "id": "216642dc-7bf1-4226-9537-a21024a6e6c8",
   "metadata": {},
   "outputs": [],
   "source": [
    "color_z1 = scalarMap.to_rgba(1., alpha=1)"
   ]
  },
  {
   "cell_type": "code",
   "execution_count": null,
   "id": "3eed9062-1428-4326-a10a-a37cfd36d032",
   "metadata": {},
   "outputs": [],
   "source": [
    "plt.figure(figsize=(10,1))\n",
    "plt.axvline(0.,color=color_z0,label=\"z=0\")\n",
    "plt.axvline(1.,color=color_z1,label=\"z=1\")\n",
    "plt.ylim(0.,1.)\n",
    "plt.xlim(-0.1,1.5)\n",
    "plt.legend()"
   ]
  },
  {
   "cell_type": "markdown",
   "id": "8c3efb08-d16e-4c36-9ab7-1c1dd3bed9f2",
   "metadata": {},
   "source": [
    "## Decode fitted parameters and plot spectra"
   ]
  },
  {
   "cell_type": "code",
   "execution_count": null,
   "id": "315719ab-d660-488b-9c70-b493f0499589",
   "metadata": {},
   "outputs": [],
   "source": [
    "names_fitparams = list(df.columns[8:])"
   ]
  },
  {
   "cell_type": "markdown",
   "id": "8e10726c-27fa-42c4-8ae6-bf1013843be6",
   "metadata": {},
   "source": [
    "for idx in range(N):\n"
   ]
  },
  {
   "cell_type": "code",
   "execution_count": null,
   "id": "2b3d14ee-5dd3-48c2-a516-91bb3813c205",
   "metadata": {},
   "outputs": [],
   "source": [
    "all_x = []\n",
    "all_y_nodust = []\n",
    "all_y_dust = []\n",
    "the_ymax= 1e-12\n",
    "\n",
    "for idx in range(N):\n",
    "    row = df.iloc[idx]\n",
    "    z_obs = row[\"zobs\"]\n",
    "    list_params = row[names_fitparams].values\n",
    "    dict_params = paramslist_to_dict(list_params,names_fitparams)\n",
    "    x,y_nodust,y_dust = ssp_spectrum_fromparam(dict_params,z_obs)\n",
    "\n",
    "    ymax = y_nodust.max()\n",
    "    the_ymax = max(the_ymax,ymax)\n",
    "    \n",
    "    all_x.append(x)\n",
    "    all_y_nodust.append(y_nodust) \n",
    "    all_y_dust.append(y_dust) \n",
    "\n",
    "ylim_max = the_ymax*2.\n",
    "ylim_min = ylim_max/1e10"
   ]
  },
  {
   "cell_type": "code",
   "execution_count": null,
   "id": "d65757c2-7119-472d-a180-5cfaabd0de36",
   "metadata": {},
   "outputs": [],
   "source": [
    "_, ax = plt.subplots(1, 1)\n",
    "__= ax.set_yscale('log') \n",
    "__= ax.set_xscale('log') \n",
    "\n",
    "for idx in range(N):\n",
    "    ax.plot(all_x[idx],all_y_nodust[idx],color=all_colors[idx])\n",
    "__= ax.set_xlim(100.,1e5)\n",
    "__= ax.set_ylim(ylim_min ,ylim_max )\n",
    "\n",
    "ax.set_xlabel(\"$\\lambda (\\\\AA)$\")\n",
    "ax.set_ylabel(\"$L_\\\\nu(\\lambda)$ (AB units - maggies)\")\n",
    "ax.set_title(\"$f_\\\\nu(\\lambda)$ fitted spectra\")\n",
    "ax.grid()\n"
   ]
  },
  {
   "cell_type": "code",
   "execution_count": null,
   "id": "a900080a-fd2f-4563-a33b-61ea1fb1265a",
   "metadata": {},
   "outputs": [],
   "source": [
    "_, ax = plt.subplots(1, 1)\n",
    "__= ax.set_yscale('log') \n",
    "__= ax.set_xscale('log') \n",
    "\n",
    "for idx in range(N):\n",
    "    ax.plot(all_x[idx],all_y_nodust[idx]/all_x[idx]**2,color=all_colors[idx])\n",
    "__= ax.set_xlim(100.,1e5)\n",
    "__= ax.set_ylim(1e-19 ,1e-10 )\n",
    "\n",
    "ax.set_xlabel(\"$\\lambda (\\\\AA)$\")\n",
    "ax.set_ylabel(\"$L_\\\\lambda(\\lambda)$ (AB units - maggies)\")\n",
    "ax.set_title(\"$f_\\\\lambda(\\lambda)$ fitted spectra\")\n",
    "ax.grid()"
   ]
  },
  {
   "cell_type": "markdown",
   "id": "5682307e-9739-4076-bba9-8d099d4d67ef",
   "metadata": {},
   "source": [
    "## Plot normalized spectra"
   ]
  },
  {
   "cell_type": "code",
   "execution_count": null,
   "id": "1b398c71-3896-4d0d-a2cc-308c8821cd79",
   "metadata": {},
   "outputs": [],
   "source": [
    "all_x = []\n",
    "all_y_nodust = []\n",
    "all_y_dust = []\n",
    "the_ymax= 1e-12\n",
    "all_t = []\n",
    "all_sfh = []\n",
    "\n",
    "for idx in range(N):\n",
    "    row = df.iloc[idx]\n",
    "    z_obs = row[\"zobs\"]\n",
    "    list_params = row[names_fitparams].values\n",
    "    dict_params = paramslist_to_dict(list_params,names_fitparams)\n",
    "    x,y_nodust,y_dust = ssp_spectrum_fromparam(dict_params,z_obs)\n",
    "    tarr,sfh_gal = mean_sfr(dict_params,z_obs)\n",
    "\n",
    "    all_t.append(tarr)\n",
    "    all_sfh.append(sfh_gal )\n",
    "\n",
    "    norm_y_nodust = flux_norm(x,y_nodust,wlcenter=wl0)\n",
    "    norm_y_dust = flux_norm(x,y_dust,wlcenter=wl0)\n",
    "\n",
    "    y_nodust /=  norm_y_nodust\n",
    "    y_dust /=  norm_y_dust\n",
    "\n",
    "     \n",
    "    all_x.append(x)\n",
    "    all_y_nodust.append(y_nodust) \n",
    "    all_y_dust.append(y_dust) \n",
    "\n",
    "ylim_max = the_ymax*2.\n",
    "ylim_min = ylim_max/1e10"
   ]
  },
  {
   "cell_type": "code",
   "execution_count": null,
   "id": "4b0c6755-29a4-40c7-9278-712189b2e9a7",
   "metadata": {},
   "outputs": [],
   "source": [
    "fig, ax = plt.subplots(1, 1)\n",
    "__= ax.set_yscale('log') \n",
    "__= ax.set_xscale('log') \n",
    "\n",
    "for idx in range(N):\n",
    "\n",
    "    norm_y_nodust = flux_norm(all_x[idx],all_y_nodust[idx],wlcenter=wl0)\n",
    "   \n",
    "    ax.plot(all_x[idx],all_y_nodust[idx]/norm_y_nodust,color=all_colors[idx])\n",
    "__= ax.set_xlim(100.,1e5)\n",
    "#__= ax.set_ylim(ylim_min ,ylim_max )\n",
    "\n",
    "cbar=fig.colorbar(scalarMap , ax=ax)\n",
    "cbar.ax.set_ylabel('redshift')\n",
    "\n",
    "ax.set_xlabel(\"$\\lambda (\\\\AA)$\")\n",
    "ax.set_ylabel(\"$L_\\\\nu(\\lambda)$ (relative flux)\")\n",
    "ax.set_title(\"$f_\\\\nu(\\lambda)$ fitted spectra\")\n",
    "#ax.grid()\n",
    "plot_hydrogen_lines(ax)\n",
    "\n",
    "\n",
    "left, bottom, width, height = [0.45, 0.2, 0.25, 0.25]\n",
    "ax2 = fig.add_axes([left, bottom, width, height])\n",
    "df[\"zobs\"].plot(kind='hist', bins=30,range=(0,1.5),facecolor=\"b\",xlabel=\"z_obs\",\n",
    "                title=\"redshifts for RXJ 0054.0-2823\",ax=ax2);\n",
    "\n"
   ]
  },
  {
   "cell_type": "markdown",
   "id": "470c779b-4e57-4061-a4a2-5c999c1bbf24",
   "metadata": {},
   "source": [
    "## Plot Filters of LSST"
   ]
  },
  {
   "cell_type": "code",
   "execution_count": null,
   "id": "60de47c8-44b8-4717-ae22-45326e64da20",
   "metadata": {},
   "outputs": [],
   "source": [
    "ps = FilterInfo()\n",
    "ps.dump()"
   ]
  },
  {
   "cell_type": "code",
   "execution_count": null,
   "id": "819dec1c-ba88-43f7-a307-13a14f9f8044",
   "metadata": {},
   "outputs": [],
   "source": [
    "#fig, axs = plt.subplots(4, 1,figsize=(12,12),sharex=True)\n",
    "\n",
    "fig = plt.figure(constrained_layout=True,figsize=(12,12))\n",
    "\n",
    "gs = gridspec.GridSpec(nrows=4, ncols=1, height_ratios=[3,1,1,1],hspace=0.02)\n",
    "#fig.subplots_adjust(left=0.05, bottom=0.06, right=0.95, top=0.94, wspace=0.2)         \n",
    "\n",
    "ax = fig.add_subplot(gs[0])\n",
    "\n",
    "for idx in range(N):\n",
    "\n",
    "    norm_y_nodust = flux_norm(all_x[idx],all_y_nodust[idx],wlcenter=wl0)\n",
    "   \n",
    "    ax.plot(all_x[idx],all_y_nodust[idx]/norm_y_nodust,color=all_colors[idx])\n",
    "__= ax.set_xlim(100.,2.5e4)\n",
    "#__= ax.set_ylim(ylim_min ,ylim_max )\n",
    "\n",
    "\n",
    "#cbar=fig.colorbar(scalarMap , ax=ax)\n",
    "#cbar.ax.set_ylabel('redshift')\n",
    "\n",
    "__= ax.set_yscale('log') \n",
    "__= ax.set_xscale('log') \n",
    "\n",
    "ax.set_xlabel(\"$\\lambda (\\\\AA)$\")\n",
    "ax.set_ylabel(\"$L_\\\\nu(\\lambda)$ (relative flux)\")\n",
    "ax.set_title(\"$f_\\\\nu(\\lambda)$ fitted spectra\")\n",
    "\n",
    "plot_hydrogen_lines(ax)\n",
    "\n",
    "\n",
    "inset_ax = inset_axes(ax,\n",
    "                    width=\"30%\", # width = 30% of parent_bbox\n",
    "                    height=\"30%\", # height : 1 inch\n",
    "                    loc=2)\n",
    "df[\"zobs\"].plot(kind='hist', bins=30,range=(0,1.5),facecolor=\"b\",xlabel=\"z_obs\",ylabel=\"\",\n",
    "                title=\"redshifts for RXJ 0054.0-2823\",ax=inset_ax);\n",
    "#left, bottom, width, height = [0.45, 0.2, 0.25, 0.25]\n",
    "#ax2 = fig.add_axes([left, bottom, width, height])\n",
    "#df[\"zobs\"].plot(kind='hist', bins=30,range=(0,1.5),facecolor=\"b\",xlabel=\"z_obs\",\n",
    "#                title=\"redshifts for RXJ 0054.0-2823\",ax=ax2);\n",
    "\n",
    "# loop on redshift\n",
    "for idx,redshift in enumerate([0.,1.,2.]):\n",
    "\n",
    "    textstr = f\"z = {redshift:.1f}\"\n",
    "    props = dict(boxstyle='round', facecolor='wheat', alpha=0.5)\n",
    "    \n",
    "    ax3 = fig.add_subplot(gs[1+idx], sharex=ax)\n",
    "    plt.setp(ax3.get_yticklabels(), visible=False)\n",
    "    ax3.text(0.05, 0.95, textstr, transform=ax3.transAxes, fontsize=14,verticalalignment='top', bbox=props)\n",
    "\n",
    "    \n",
    "    \n",
    "    # loop on filters\n",
    "    for index in ps.filters_indexlist:\n",
    "        the_name = ps.filters_namelist[index]\n",
    "        the_filt = ps.filters_transmissionlist[index]\n",
    "        the_norm = ps.filters_transmissionnormlist[index]\n",
    "        the_wlmean = the_filt.wave_mean\n",
    "        the_color = ps.filters_colorlist[index]\n",
    "        the_transmission =the_filt.transmission/the_norm\n",
    "        ax3.plot(the_filt.wavelength/(1+redshift),the_transmission,color=the_color)\n",
    "\n",
    "        if index%2 ==0:\n",
    "            ax3.text(the_wlmean/(1+redshift), 0.7, the_name,horizontalalignment='center',verticalalignment='center',color=the_color,fontweight=\"bold\")\n",
    "        else:\n",
    "            ax3.text(the_wlmean/(1+redshift), 0.85, the_name,horizontalalignment='center',verticalalignment='center',color=the_color,fontweight=\"bold\")\n",
    "   \n",
    "    __=ax3.set_ylim(0.,1.)\n",
    "\n",
    "plt.tight_layout()"
   ]
  },
  {
   "cell_type": "markdown",
   "id": "27d90e33-8fbc-439c-a807-103a1fc545ec",
   "metadata": {},
   "source": [
    "## Plot SFR"
   ]
  },
  {
   "cell_type": "code",
   "execution_count": null,
   "id": "714a8068-4d85-4093-ab5a-cb862cd7c62b",
   "metadata": {},
   "outputs": [],
   "source": [
    "fig, ax = plt.subplots(1, 1)\n",
    "\n",
    "for idx in range(N): \n",
    "    ax.plot(all_t[idx],all_sfh[idx],color=all_colors[idx])\n",
    "\n",
    "\n",
    "cbar=fig.colorbar(scalarMap , ax=ax)\n",
    "cbar.ax.set_ylabel('redshift')\n",
    "\n",
    "ax.set_title(\"Star Formation History\",fontsize=20)\n",
    "ax.set_xlabel(r'${\\rm cosmic\\ time\\ [Gyr]}$',fontsize=14)\n",
    "ax.set_ylabel(r'${\\rm SFR\\ [M_{\\odot}/yr]}$',fontsize=14)\n",
    "\n",
    "\n",
    "\n",
    "left, bottom, width, height = [0.45, 0.5, 0.25, 0.25]\n",
    "ax2 = fig.add_axes([left, bottom, width, height])\n",
    "df[\"zobs\"].plot(kind='hist', bins=30,range=(0,1.5),facecolor=\"b\",xlabel=\"z_obs\",\n",
    "                title=\"redshifts for RXJ 0054.0-2823\",ax=ax2);\n",
    "\n"
   ]
  },
  {
   "cell_type": "code",
   "execution_count": null,
   "id": "5ef5dafe-1cbd-4d2b-99ed-aa522f0cd518",
   "metadata": {},
   "outputs": [],
   "source": []
  }
 ],
 "metadata": {
  "kernelspec": {
   "display_name": "conda_jaxcpu_dsps_py310",
   "language": "python",
   "name": "conda_jaxcpu_dsps_py310"
  },
  "language_info": {
   "codemirror_mode": {
    "name": "ipython",
    "version": 3
   },
   "file_extension": ".py",
   "mimetype": "text/x-python",
   "name": "python",
   "nbconvert_exporter": "python",
   "pygments_lexer": "ipython3",
   "version": "3.10.13"
  }
 },
 "nbformat": 4,
 "nbformat_minor": 5
}
