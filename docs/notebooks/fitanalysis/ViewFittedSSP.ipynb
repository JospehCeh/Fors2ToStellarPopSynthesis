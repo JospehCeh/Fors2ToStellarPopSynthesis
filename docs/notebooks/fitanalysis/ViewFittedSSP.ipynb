{
 "cells": [
  {
   "cell_type": "markdown",
   "id": "c8aade51-a22a-4778-9157-c94081d7d67f",
   "metadata": {},
   "source": [
    "# View fitted spectra"
   ]
  },
  {
   "cell_type": "markdown",
   "id": "6262461e-89cd-4623-88d6-6ef6cb50e0a1",
   "metadata": {},
   "source": [
    "- Author Sylvie Dagoret-Campagne\n",
    "- Afflilation : IJCLab/IN2P3/CNRS\n",
    "- Organisation : LSST-DESC\n",
    "- creation date : 2023-11-27\n",
    "- last update : 2023-11-27"
   ]
  },
  {
   "cell_type": "code",
   "execution_count": null,
   "id": "0549676e-2603-4376-8b68-92b7298af9d7",
   "metadata": {},
   "outputs": [],
   "source": [
    "import h5py\n",
    "import pandas as pd\n",
    "import numpy as np\n",
    "import os\n",
    "import re\n",
    "import pickle \n",
    "import matplotlib as mpl\n",
    "import matplotlib.pyplot as plt\n",
    "%matplotlib inline\n",
    "import matplotlib.colors as colors\n",
    "import matplotlib.cm as cmx\n",
    "import collections\n",
    "from collections import OrderedDict\n",
    "import re\n",
    "import matplotlib.gridspec as gridspec"
   ]
  },
  {
   "cell_type": "code",
   "execution_count": null,
   "id": "b6a415d2-0295-4ac2-9027-90ba99ff42c8",
   "metadata": {},
   "outputs": [],
   "source": [
    "plt.rcParams[\"figure.figsize\"] = (12,6)\n",
    "plt.rcParams[\"axes.labelsize\"] = 'xx-large'\n",
    "plt.rcParams['axes.titlesize'] = 'xx-large'\n",
    "plt.rcParams['xtick.labelsize']= 'xx-large'\n",
    "plt.rcParams['ytick.labelsize']= 'xx-large'\n",
    "plt.rcParams['legend.fontsize']=  16"
   ]
  },
  {
   "cell_type": "markdown",
   "id": "24c6c350-d3b3-421d-bab9-aa2a57e3caac",
   "metadata": {},
   "source": [
    "## imports"
   ]
  },
  {
   "cell_type": "markdown",
   "id": "af213937-9d0e-47dc-a11c-664beb36fb1a",
   "metadata": {},
   "source": [
    "### fitter jaxopt"
   ]
  },
  {
   "cell_type": "code",
   "execution_count": null,
   "id": "b2e6c192-0821-47df-996b-3b4d7088d89b",
   "metadata": {},
   "outputs": [],
   "source": [
    "from fors2tostellarpopsynthesis.fitters.fitter_jaxopt import (SSP_DATA,mean_spectrum,mean_mags,mean_sfr,ssp_spectrum_fromparam)"
   ]
  },
  {
   "cell_type": "code",
   "execution_count": null,
   "id": "93da83cb-6e27-41c1-bb09-3a0a1f6f55b3",
   "metadata": {},
   "outputs": [],
   "source": [
    "from dsps.cosmology import DEFAULT_COSMOLOGY, age_at_z"
   ]
  },
  {
   "cell_type": "markdown",
   "id": "0f63b79d-0541-4fef-a430-43aea4e436ec",
   "metadata": {},
   "source": [
    "### parameters"
   ]
  },
  {
   "cell_type": "code",
   "execution_count": null,
   "id": "d98be78c-8d94-4b76-ab52-405c64e1a991",
   "metadata": {},
   "outputs": [],
   "source": [
    "from fors2tostellarpopsynthesis.parameters import SSPParametersFit,paramslist_to_dict"
   ]
  },
  {
   "cell_type": "markdown",
   "id": "9ece6107-dcc5-4f42-a80f-0476ad0ef7d5",
   "metadata": {},
   "source": [
    "## Configuration\n",
    "\n",
    "### fitted params"
   ]
  },
  {
   "cell_type": "code",
   "execution_count": null,
   "id": "c7675917-f608-4d82-9f73-6a3467c3c94d",
   "metadata": {},
   "outputs": [],
   "source": [
    "input_path = \"fitssp_results\"\n",
    "input_file = \"fitssp_results.h5\""
   ]
  },
  {
   "cell_type": "code",
   "execution_count": null,
   "id": "0c85c38a-c9dc-430a-9634-6bf533b587d9",
   "metadata": {},
   "outputs": [],
   "source": [
    "fullname_input = os.path.join(input_path ,input_file) "
   ]
  },
  {
   "cell_type": "markdown",
   "id": "4d81d428-6a35-43bf-b692-2bd88b84171d",
   "metadata": {},
   "source": [
    "## Read Dataframe "
   ]
  },
  {
   "cell_type": "code",
   "execution_count": null,
   "id": "7aa6dd0c-0391-48df-8e55-ecb18a520f4e",
   "metadata": {},
   "outputs": [],
   "source": [
    "df = pd.read_hdf(fullname_input)"
   ]
  },
  {
   "cell_type": "code",
   "execution_count": null,
   "id": "a6adb1fa-d2fb-4055-bb02-ed7c7d53e09e",
   "metadata": {},
   "outputs": [],
   "source": [
    "df"
   ]
  },
  {
   "cell_type": "code",
   "execution_count": null,
   "id": "28d1369f-d9b2-45c4-9a9f-d555953eeca9",
   "metadata": {},
   "outputs": [],
   "source": [
    "N = len(df)"
   ]
  },
  {
   "cell_type": "code",
   "execution_count": null,
   "id": "7d6f8d5b-128d-4aec-bb0d-d443605bd9b8",
   "metadata": {},
   "outputs": [],
   "source": [
    "df.hist(\"zobs\",bins=30)"
   ]
  },
  {
   "cell_type": "code",
   "execution_count": null,
   "id": "3119c437-82b7-40d7-8f5c-869f8d8eadf3",
   "metadata": {},
   "outputs": [],
   "source": [
    "bwr_map = plt.get_cmap('bwr')\n",
    "reversed_map = bwr_map.reversed() \n",
    "cNorm = colors.Normalize(0., vmax=1.)\n",
    "scalarMap = cmx.ScalarMappable(norm=cNorm, cmap=bwr_map)\n",
    "all_colors = scalarMap.to_rgba(df[\"zobs\"].values, alpha=1)"
   ]
  },
  {
   "cell_type": "code",
   "execution_count": null,
   "id": "c16c4d63-ef1b-47c0-93a5-b5ce155281d8",
   "metadata": {},
   "outputs": [],
   "source": [
    "bwr_map"
   ]
  },
  {
   "cell_type": "code",
   "execution_count": null,
   "id": "a24e2d0d-4af1-46e4-8282-9db731086871",
   "metadata": {},
   "outputs": [],
   "source": [
    "reversed_map"
   ]
  },
  {
   "cell_type": "code",
   "execution_count": null,
   "id": "2ddbac31-d159-44c0-8790-7f582a6abadc",
   "metadata": {},
   "outputs": [],
   "source": [
    "color_z0 = scalarMap.to_rgba(0., alpha=1)"
   ]
  },
  {
   "cell_type": "code",
   "execution_count": null,
   "id": "216642dc-7bf1-4226-9537-a21024a6e6c8",
   "metadata": {},
   "outputs": [],
   "source": [
    "color_z1 = scalarMap.to_rgba(1., alpha=1)"
   ]
  },
  {
   "cell_type": "code",
   "execution_count": null,
   "id": "3eed9062-1428-4326-a10a-a37cfd36d032",
   "metadata": {},
   "outputs": [],
   "source": [
    "plt.figure(figsize=(10,2))\n",
    "plt.axvline(0.,color=color_z0,label=\"z=0\")\n",
    "plt.axvline(1.,color=color_z1,label=\"z=1\")\n",
    "plt.ylim(0.,1.)\n",
    "plt.xlim(-0.5,1.5)\n",
    "plt.legend()"
   ]
  },
  {
   "cell_type": "markdown",
   "id": "8c3efb08-d16e-4c36-9ab7-1c1dd3bed9f2",
   "metadata": {},
   "source": [
    "## Decode fitted parameters and plot spectra"
   ]
  },
  {
   "cell_type": "code",
   "execution_count": null,
   "id": "315719ab-d660-488b-9c70-b493f0499589",
   "metadata": {},
   "outputs": [],
   "source": [
    "names_fitparams = list(df.columns[8:])"
   ]
  },
  {
   "cell_type": "markdown",
   "id": "8e10726c-27fa-42c4-8ae6-bf1013843be6",
   "metadata": {},
   "source": [
    "for idx in range(N):\n"
   ]
  },
  {
   "cell_type": "code",
   "execution_count": null,
   "id": "2b3d14ee-5dd3-48c2-a516-91bb3813c205",
   "metadata": {},
   "outputs": [],
   "source": [
    "all_x = []\n",
    "all_y_nodust = []\n",
    "all_y_dust = []\n",
    "the_ymax= 1e-12\n",
    "\n",
    "for idx in range(N):\n",
    "    row = df.iloc[idx]\n",
    "    z_obs = row[\"zobs\"]\n",
    "    list_params = row[names_fitparams].values\n",
    "    dict_params = paramslist_to_dict(list_params,names_fitparams)\n",
    "    x,y_nodust,y_dust = ssp_spectrum_fromparam(dict_params,z_obs)\n",
    "\n",
    "    ymax = y_nodust.max()\n",
    "    the_ymax = max(the_ymax,ymax)\n",
    "    \n",
    "    all_x.append(x)\n",
    "    all_y_nodust.append(y_nodust) \n",
    "    all_y_dust.append(y_dust) \n",
    "\n",
    "ylim_max = the_ymax*2.\n",
    "ylim_min = ylim_max/1e10"
   ]
  },
  {
   "cell_type": "code",
   "execution_count": null,
   "id": "d65757c2-7119-472d-a180-5cfaabd0de36",
   "metadata": {},
   "outputs": [],
   "source": [
    "_, ax = plt.subplots(1, 1)\n",
    "__= ax.set_yscale('log') \n",
    "__= ax.set_xscale('log') \n",
    "\n",
    "for idx in range(N):\n",
    "    ax.plot(all_x[idx],all_y_nodust[idx],color=all_colors[idx])\n",
    "__= ax.set_xlim(100.,1e5)\n",
    "__= ax.set_ylim(ylim_min ,ylim_max )\n",
    "\n",
    "ax.set_xlabel(\"$\\lambda (\\\\AA)$\")\n",
    "ax.set_ylabel(\"$L_\\\\nu(\\lambda)$ (AB units - maggies\")\n",
    "ax.set_title(\"$f_\\\\nu(\\lambda)$ fitted spectra\")\n",
    "ax.grid()\n"
   ]
  },
  {
   "cell_type": "code",
   "execution_count": null,
   "id": "a900080a-fd2f-4563-a33b-61ea1fb1265a",
   "metadata": {},
   "outputs": [],
   "source": [
    "_, ax = plt.subplots(1, 1)\n",
    "__= ax.set_yscale('log') \n",
    "__= ax.set_xscale('log') \n",
    "\n",
    "for idx in range(N):\n",
    "    ax.plot(all_x[idx],all_y_nodust[idx]/all_x[idx]**2,color=all_colors[idx])\n",
    "__= ax.set_xlim(100.,1e5)\n",
    "__= ax.set_ylim(1e-19 ,1e-10 )\n",
    "\n",
    "ax.set_xlabel(\"$\\lambda (\\\\AA)$\")\n",
    "ax.set_ylabel(\"$L_\\\\lambda(\\lambda)$ (AB units - maggies\")\n",
    "ax.set_title(\"$f_\\\\lambda(\\lambda)$ fitted spectra\")\n",
    "ax.grid()"
   ]
  },
  {
   "cell_type": "code",
   "execution_count": null,
   "id": "fb942bb9-a9f6-46d4-b9c1-70b39217f88c",
   "metadata": {},
   "outputs": [],
   "source": []
  }
 ],
 "metadata": {
  "kernelspec": {
   "display_name": "conda_jaxcpu_dsps_py310",
   "language": "python",
   "name": "conda_jaxcpu_dsps_py310"
  },
  "language_info": {
   "codemirror_mode": {
    "name": "ipython",
    "version": 3
   },
   "file_extension": ".py",
   "mimetype": "text/x-python",
   "name": "python",
   "nbconvert_exporter": "python",
   "pygments_lexer": "ipython3",
   "version": "3.10.13"
  }
 },
 "nbformat": 4,
 "nbformat_minor": 5
}
