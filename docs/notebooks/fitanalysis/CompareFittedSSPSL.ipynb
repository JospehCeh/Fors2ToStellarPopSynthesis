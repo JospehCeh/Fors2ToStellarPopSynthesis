{
 "cells": [
  {
   "cell_type": "markdown",
   "id": "c8aade51-a22a-4778-9157-c94081d7d67f",
   "metadata": {},
   "source": [
    "# Compare fitted spectra with StarLight"
   ]
  },
  {
   "cell_type": "markdown",
   "id": "6262461e-89cd-4623-88d6-6ef6cb50e0a1",
   "metadata": {},
   "source": [
    "- Author Sylvie Dagoret-Campagne\n",
    "- Afflilation : IJCLab/IN2P3/CNRS\n",
    "- Organisation : LSST-DESC\n",
    "- creation date : 2023-11-27\n",
    "- last update : 2023-11-27"
   ]
  },
  {
   "cell_type": "code",
   "execution_count": null,
   "id": "0549676e-2603-4376-8b68-92b7298af9d7",
   "metadata": {},
   "outputs": [],
   "source": [
    "import h5py\n",
    "import pandas as pd\n",
    "import numpy as np\n",
    "import os\n",
    "import re\n",
    "import pickle \n",
    "import matplotlib as mpl\n",
    "import matplotlib.pyplot as plt\n",
    "%matplotlib inline\n",
    "import matplotlib.colors as colors\n",
    "import matplotlib.cm as cmx\n",
    "import collections\n",
    "from collections import OrderedDict\n",
    "import re\n",
    "import matplotlib.gridspec as gridspec"
   ]
  },
  {
   "cell_type": "code",
   "execution_count": null,
   "id": "b6a415d2-0295-4ac2-9027-90ba99ff42c8",
   "metadata": {},
   "outputs": [],
   "source": [
    "plt.rcParams[\"figure.figsize\"] = (12,6)\n",
    "plt.rcParams[\"axes.labelsize\"] = 'xx-large'\n",
    "plt.rcParams['axes.titlesize'] = 'xx-large'\n",
    "plt.rcParams['xtick.labelsize']= 'xx-large'\n",
    "plt.rcParams['ytick.labelsize']= 'xx-large'\n",
    "plt.rcParams['legend.fontsize']=  16"
   ]
  },
  {
   "cell_type": "markdown",
   "id": "24c6c350-d3b3-421d-bab9-aa2a57e3caac",
   "metadata": {},
   "source": [
    "## imports"
   ]
  },
  {
   "cell_type": "markdown",
   "id": "af213937-9d0e-47dc-a11c-664beb36fb1a",
   "metadata": {},
   "source": [
    "### fitter jaxopt"
   ]
  },
  {
   "cell_type": "code",
   "execution_count": null,
   "id": "b2e6c192-0821-47df-996b-3b4d7088d89b",
   "metadata": {},
   "outputs": [],
   "source": [
    "from fors2tostellarpopsynthesis.fitters.fitter_jaxopt import (SSP_DATA,mean_spectrum,mean_mags,mean_sfr,ssp_spectrum_fromparam)"
   ]
  },
  {
   "cell_type": "code",
   "execution_count": null,
   "id": "93da83cb-6e27-41c1-bb09-3a0a1f6f55b3",
   "metadata": {},
   "outputs": [],
   "source": [
    "from dsps.cosmology import DEFAULT_COSMOLOGY, age_at_z"
   ]
  },
  {
   "cell_type": "markdown",
   "id": "0f63b79d-0541-4fef-a430-43aea4e436ec",
   "metadata": {},
   "source": [
    "### parameters"
   ]
  },
  {
   "cell_type": "code",
   "execution_count": null,
   "id": "d98be78c-8d94-4b76-ab52-405c64e1a991",
   "metadata": {},
   "outputs": [],
   "source": [
    "from fors2tostellarpopsynthesis.parameters import SSPParametersFit,paramslist_to_dict"
   ]
  },
  {
   "cell_type": "markdown",
   "id": "67a576f4-203a-4aa0-8487-e128690505e4",
   "metadata": {},
   "source": [
    "### StarLight"
   ]
  },
  {
   "cell_type": "code",
   "execution_count": null,
   "id": "79a91fd0-4ad8-43fb-8327-5dbc0f919a97",
   "metadata": {},
   "outputs": [],
   "source": [
    "from fors2tostellarpopsynthesis.fors2starlightio import SLDataAcess, flux_norm"
   ]
  },
  {
   "cell_type": "markdown",
   "id": "9ece6107-dcc5-4f42-a80f-0476ad0ef7d5",
   "metadata": {},
   "source": [
    "## Configuration\n",
    "\n",
    "### fitted params"
   ]
  },
  {
   "cell_type": "code",
   "execution_count": null,
   "id": "c7675917-f608-4d82-9f73-6a3467c3c94d",
   "metadata": {},
   "outputs": [],
   "source": [
    "input_path = \"fitssp_results\"\n",
    "input_file = \"fitssp_results.h5\""
   ]
  },
  {
   "cell_type": "code",
   "execution_count": null,
   "id": "0c85c38a-c9dc-430a-9634-6bf533b587d9",
   "metadata": {},
   "outputs": [],
   "source": [
    "fullname_input = os.path.join(input_path ,input_file) "
   ]
  },
  {
   "cell_type": "markdown",
   "id": "0dba1f7a-a60a-40c2-a04a-5b006504eb8b",
   "metadata": {},
   "source": [
    "## Read StarLight"
   ]
  },
  {
   "cell_type": "code",
   "execution_count": null,
   "id": "4ea90db8-6f76-48eb-ace4-6f71ac4c1120",
   "metadata": {},
   "outputs": [],
   "source": [
    "sl = SLDataAcess()"
   ]
  },
  {
   "cell_type": "markdown",
   "id": "4d81d428-6a35-43bf-b692-2bd88b84171d",
   "metadata": {},
   "source": [
    "## Read Dataframe "
   ]
  },
  {
   "cell_type": "code",
   "execution_count": null,
   "id": "7aa6dd0c-0391-48df-8e55-ecb18a520f4e",
   "metadata": {},
   "outputs": [],
   "source": [
    "df = pd.read_hdf(fullname_input)"
   ]
  },
  {
   "cell_type": "code",
   "execution_count": null,
   "id": "a6adb1fa-d2fb-4055-bb02-ed7c7d53e09e",
   "metadata": {},
   "outputs": [],
   "source": [
    "df"
   ]
  },
  {
   "cell_type": "code",
   "execution_count": null,
   "id": "28d1369f-d9b2-45c4-9a9f-d555953eeca9",
   "metadata": {},
   "outputs": [],
   "source": [
    "N = len(df)"
   ]
  },
  {
   "cell_type": "code",
   "execution_count": null,
   "id": "d16979d7-7c6f-4026-a7b4-f4f9949a66f9",
   "metadata": {},
   "outputs": [],
   "source": [
    "df"
   ]
  },
  {
   "cell_type": "markdown",
   "id": "8c3efb08-d16e-4c36-9ab7-1c1dd3bed9f2",
   "metadata": {},
   "source": [
    "## Decode fitted parameters and plot spectra"
   ]
  },
  {
   "cell_type": "code",
   "execution_count": null,
   "id": "315719ab-d660-488b-9c70-b493f0499589",
   "metadata": {},
   "outputs": [],
   "source": [
    "names_fitparams = list(df.columns[8:])"
   ]
  },
  {
   "cell_type": "code",
   "execution_count": null,
   "id": "2b3d14ee-5dd3-48c2-a516-91bb3813c205",
   "metadata": {},
   "outputs": [],
   "source": [
    "all_x = []\n",
    "all_y_nodust = []\n",
    "all_y_dust = []\n",
    "the_ymax= 1e-12\n",
    "\n",
    "all_x_sl = []\n",
    "all_y_sl = []\n",
    "\n",
    "for idx in range(N):\n",
    "    row = df.iloc[idx]\n",
    "    z_obs = row[\"zobs\"]\n",
    "    specname = row[\"fors2name\"]\n",
    "    list_params = row[names_fitparams].values\n",
    "    dict_params = paramslist_to_dict(list_params,names_fitparams)\n",
    "    x,y_nodust,y_dust = ssp_spectrum_fromparam(dict_params,z_obs)\n",
    "\n",
    "    norm_y_nodust = flux_norm(x,y_nodust)\n",
    "    norm_y_dust = flux_norm(x,y_dust)\n",
    "\n",
    "    y_nodust /=  norm_y_nodust\n",
    "    y_dust /=  norm_y_dust\n",
    "    \n",
    "    dict_sl = sl.getspectrum_fromgroup(specname)\n",
    "    x_sl,y_sl = dict_sl[\"wl\"],dict_sl[\"fnu\"]\n",
    "\n",
    "    norm_sl = flux_norm(x_sl,y_sl)\n",
    "    y_sl /= norm_sl\n",
    "\n",
    "    \n",
    "    all_x_sl.append(x_sl)\n",
    "    all_y_sl.append(y_sl)\n",
    "\n",
    "    ymax = y_nodust.max()\n",
    "    the_ymax = max(the_ymax,ymax)\n",
    "    \n",
    "    all_x.append(x)\n",
    "    all_y_nodust.append(y_nodust) \n",
    "    all_y_dust.append(y_dust) \n",
    "\n",
    "ylim_max = the_ymax*2.\n",
    "ylim_min = ylim_max/1e7"
   ]
  },
  {
   "cell_type": "code",
   "execution_count": null,
   "id": "304c019b-516b-4d20-aded-541b0826d241",
   "metadata": {},
   "outputs": [],
   "source": []
  },
  {
   "cell_type": "code",
   "execution_count": null,
   "id": "d65757c2-7119-472d-a180-5cfaabd0de36",
   "metadata": {},
   "outputs": [],
   "source": [
    "_, (ax1,ax2) = plt.subplots(2, 1,figsize=(10,8))\n",
    "\n",
    "\n",
    "__= ax1.set_yscale('log') \n",
    "__= ax1.set_xscale('log') \n",
    "\n",
    "for idx in range(N):\n",
    "    ax1.plot(all_x[idx],all_y_nodust[idx],'-')\n",
    "\n",
    "    #ax.plot(all_x_sl[idx],all_y_sl[idx])\n",
    "\n",
    "__= ax1.set_xlim(100.,1e6)\n",
    "__= ax1.set_ylim(ylim_min ,ylim_max )\n",
    "\n",
    "ax1.set_xlabel(\"$\\lambda (\\\\AA)$\")\n",
    "ax1.set_ylabel(\"$L_\\\\nu(\\lambda)$ relative flux\")\n",
    "ax1.set_title(\"$f_\\\\nu(\\lambda)$ fitted spectra\")\n",
    "ax1.grid()\n",
    "\n",
    "\n",
    "__= ax2.set_yscale('log') \n",
    "__= ax2.set_xscale('log') \n",
    "\n",
    "for idx in range(N):\n",
    "    ax2.plot(all_x_sl[idx],all_y_sl[idx],':')\n",
    "__= ax2.set_xlim(100.,1e6)\n",
    "__= ax2.set_ylim(ylim_min ,ylim_max )\n",
    "ax2.grid()\n",
    "ax1.set_xlabel(\"$\\lambda (\\\\AA)$\")\n",
    "ax1.set_ylabel(\"$L_\\\\nu(\\lambda)$ relative flux\")\n",
    "ax1.set_title(\"$f_\\\\nu(\\lambda)$ Starlight spectra\")\n",
    "\n",
    "\n",
    "plt.tight_layout()"
   ]
  },
  {
   "cell_type": "code",
   "execution_count": null,
   "id": "a900080a-fd2f-4563-a33b-61ea1fb1265a",
   "metadata": {},
   "outputs": [],
   "source": [
    "_, ax = plt.subplots(1, 1)\n",
    "__= ax.set_yscale('log') \n",
    "__= ax.set_xscale('log') \n",
    "\n",
    "for idx in range(N):\n",
    "    ax.plot(all_x[idx],all_y_nodust[idx]/all_x[idx]**2)\n",
    "__= ax.set_xlim(100.,1e5)\n",
    "__= ax.set_ylim(1e-12 ,1e-6 )\n",
    "\n",
    "ax.set_xlabel(\"$\\lambda (\\\\AA)$\")\n",
    "ax.set_ylabel(\"$L_\\\\lambda(\\lambda)$ (AB units - maggies\")\n",
    "ax.set_title(\"$f_\\\\lambda(\\lambda)$ fitted spectra\")\n",
    "ax.grid()"
   ]
  },
  {
   "cell_type": "code",
   "execution_count": null,
   "id": "fb942bb9-a9f6-46d4-b9c1-70b39217f88c",
   "metadata": {},
   "outputs": [],
   "source": []
  }
 ],
 "metadata": {
  "kernelspec": {
   "display_name": "conda_jaxcpu_dsps_py310",
   "language": "python",
   "name": "conda_jaxcpu_dsps_py310"
  },
  "language_info": {
   "codemirror_mode": {
    "name": "ipython",
    "version": 3
   },
   "file_extension": ".py",
   "mimetype": "text/x-python",
   "name": "python",
   "nbconvert_exporter": "python",
   "pygments_lexer": "ipython3",
   "version": "3.10.13"
  }
 },
 "nbformat": 4,
 "nbformat_minor": 5
}
