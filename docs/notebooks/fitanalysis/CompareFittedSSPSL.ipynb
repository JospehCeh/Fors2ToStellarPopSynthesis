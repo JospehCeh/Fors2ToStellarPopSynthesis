{
 "cells": [
  {
   "cell_type": "markdown",
   "id": "c8aade51-a22a-4778-9157-c94081d7d67f",
   "metadata": {},
   "source": [
    "# Compare fitted spectra with StarLight"
   ]
  },
  {
   "cell_type": "markdown",
   "id": "6262461e-89cd-4623-88d6-6ef6cb50e0a1",
   "metadata": {},
   "source": [
    "- Author Sylvie Dagoret-Campagne\n",
    "- Afflilation : IJCLab/IN2P3/CNRS\n",
    "- Organisation : LSST-DESC\n",
    "- creation date : 2023-11-27\n",
    "- last update : 2023-12-10"
   ]
  },
  {
   "cell_type": "code",
   "execution_count": null,
   "id": "0549676e-2603-4376-8b68-92b7298af9d7",
   "metadata": {},
   "outputs": [],
   "source": [
    "import h5py\n",
    "import pandas as pd\n",
    "import numpy as np\n",
    "import os\n",
    "import re\n",
    "import pickle \n",
    "import matplotlib as mpl\n",
    "import matplotlib.pyplot as plt\n",
    "%matplotlib inline\n",
    "import matplotlib.colors as colors\n",
    "import matplotlib.cm as cmx\n",
    "from mpl_toolkits.axes_grid1.inset_locator import inset_axes\n",
    "import collections\n",
    "from collections import OrderedDict\n",
    "import re\n",
    "import matplotlib.gridspec as gridspec"
   ]
  },
  {
   "cell_type": "code",
   "execution_count": null,
   "id": "b6a415d2-0295-4ac2-9027-90ba99ff42c8",
   "metadata": {},
   "outputs": [],
   "source": [
    "plt.rcParams[\"figure.figsize\"] = (12,6)\n",
    "plt.rcParams[\"axes.labelsize\"] = 'xx-large'\n",
    "plt.rcParams['axes.titlesize'] = 'xx-large'\n",
    "plt.rcParams['xtick.labelsize']= 'xx-large'\n",
    "plt.rcParams['ytick.labelsize']= 'xx-large'\n",
    "plt.rcParams['legend.fontsize']=  16"
   ]
  },
  {
   "cell_type": "markdown",
   "id": "24c6c350-d3b3-421d-bab9-aa2a57e3caac",
   "metadata": {},
   "source": [
    "## imports"
   ]
  },
  {
   "cell_type": "markdown",
   "id": "af213937-9d0e-47dc-a11c-664beb36fb1a",
   "metadata": {},
   "source": [
    "### fitter jaxopt"
   ]
  },
  {
   "cell_type": "code",
   "execution_count": null,
   "id": "b2e6c192-0821-47df-996b-3b4d7088d89b",
   "metadata": {},
   "outputs": [],
   "source": [
    "from fors2tostellarpopsynthesis.fitters.fitter_jaxopt import (SSP_DATA,mean_spectrum,mean_mags,mean_sfr,ssp_spectrum_fromparam)"
   ]
  },
  {
   "cell_type": "code",
   "execution_count": null,
   "id": "93da83cb-6e27-41c1-bb09-3a0a1f6f55b3",
   "metadata": {},
   "outputs": [],
   "source": [
    "from dsps.cosmology import DEFAULT_COSMOLOGY, age_at_z"
   ]
  },
  {
   "cell_type": "code",
   "execution_count": null,
   "id": "a96fef65-79e9-4073-b35c-3bca72fb40df",
   "metadata": {},
   "outputs": [],
   "source": [
    "from fors2tostellarpopsynthesis.fitters.fitter_util import plot_params_kde,calc_ratio"
   ]
  },
  {
   "cell_type": "markdown",
   "id": "0f63b79d-0541-4fef-a430-43aea4e436ec",
   "metadata": {},
   "source": [
    "### parameters"
   ]
  },
  {
   "cell_type": "code",
   "execution_count": null,
   "id": "d98be78c-8d94-4b76-ab52-405c64e1a991",
   "metadata": {},
   "outputs": [],
   "source": [
    "from fors2tostellarpopsynthesis.parameters import SSPParametersFit,paramslist_to_dict"
   ]
  },
  {
   "cell_type": "markdown",
   "id": "67a576f4-203a-4aa0-8487-e128690505e4",
   "metadata": {},
   "source": [
    "### StarLight"
   ]
  },
  {
   "cell_type": "code",
   "execution_count": null,
   "id": "79a91fd0-4ad8-43fb-8327-5dbc0f919a97",
   "metadata": {},
   "outputs": [],
   "source": [
    "from fors2tostellarpopsynthesis.fors2starlightio import SLDataAcess, flux_norm"
   ]
  },
  {
   "cell_type": "code",
   "execution_count": null,
   "id": "0de6651e-9660-4593-89bc-b21779cef36f",
   "metadata": {},
   "outputs": [],
   "source": [
    "flux_norm"
   ]
  },
  {
   "cell_type": "markdown",
   "id": "9ece6107-dcc5-4f42-a80f-0476ad0ef7d5",
   "metadata": {},
   "source": [
    "## Configuration"
   ]
  },
  {
   "cell_type": "markdown",
   "id": "36f72d4d-1cc8-4d78-8de3-34e934c17442",
   "metadata": {},
   "source": [
    "### Constants"
   ]
  },
  {
   "cell_type": "code",
   "execution_count": null,
   "id": "ba858f4f-f5bb-4fc1-a7da-8a6b038f7664",
   "metadata": {},
   "outputs": [],
   "source": [
    "Lyman_lines = [1220., 1030. ,973.,950., 938., 930.]\n",
    "Balmer_lines = [6562.791,4861.351,4340.4721,4101.740,3970.072,3889.0641,3835.3971]\n",
    "Paschen_lines = [8750., 12820., 10938.0,10050., 9546.2, 9229.7,9015.3, 8862.89,8750.46,8665.02]\n",
    "Brackett_lines = [40522.79, 26258.71, 21661.178, 19440., 18179.21]\n",
    "Pfund_lines = [ 74599.0, 46537.8, 37405.76 , 32969.8, 30400.]\n",
    "all_Hydrogen_lines = [ Lyman_lines, Balmer_lines, Paschen_lines, Brackett_lines, Pfund_lines]\n",
    "Color_lines = [\"purple\", \"blue\", \"green\", \"red\",\"grey\"]\n",
    "Balmer_thres = 3645.6\n",
    "Lyman_thres = 911.267\n",
    "Paschen_thres = 8200.\n",
    "Brackett_thres = 14580.\n",
    "Pfund_lines = 22800.\n",
    "all_Hydrogen_thres = [Lyman_thres , Balmer_thres, Paschen_thres, Brackett_thres, Pfund_lines]"
   ]
  },
  {
   "cell_type": "code",
   "execution_count": null,
   "id": "7eded101-ce0f-479d-9edb-4be0bb4ad0db",
   "metadata": {},
   "outputs": [],
   "source": [
    "wl0 = 3645.6"
   ]
  },
  {
   "cell_type": "code",
   "execution_count": null,
   "id": "bb629534-af39-4852-9869-5de06efd8f40",
   "metadata": {},
   "outputs": [],
   "source": [
    "D4000_red = [4050.,4250] \n",
    "D4000_blue = [3750.,3950.]\n",
    "W_BALMER = [Balmer_thres, Balmer_lines[0]]\n",
    "W_LYMAN = [Lyman_thres, Lyman_lines[0]]"
   ]
  },
  {
   "cell_type": "code",
   "execution_count": null,
   "id": "39c014ab-1601-491f-b004-739731152903",
   "metadata": {},
   "outputs": [],
   "source": [
    "def plot_hydrogen_lines(ax):\n",
    "    nth = len(all_Hydrogen_thres)\n",
    "    for idx,group_lines in enumerate(all_Hydrogen_lines):\n",
    "        # select only Lyman and Balmer\n",
    "        if idx<2:\n",
    "            color = Color_lines[idx]\n",
    "            for wl_line in group_lines:\n",
    "                ax.axvline(wl_line,color=color,lw=0.5)\n",
    "            if idx< nth:\n",
    "                ax.axvline(all_Hydrogen_thres[idx],color=color,linestyle=\":\")\n",
    "    ax.axvspan(W_LYMAN[0],W_LYMAN[1],facecolor='green', alpha=0.5)\n",
    "    ax.axvspan(W_BALMER[0],W_BALMER[1],facecolor='yellow', alpha=0.5)"
   ]
  },
  {
   "cell_type": "markdown",
   "id": "7b785a80-86f2-4f4b-8ea4-0c7a8e02d95b",
   "metadata": {},
   "source": [
    "### fitted params"
   ]
  },
  {
   "cell_type": "code",
   "execution_count": null,
   "id": "c7675917-f608-4d82-9f73-6a3467c3c94d",
   "metadata": {},
   "outputs": [],
   "source": [
    "input_path = \"fitssp_results\"\n",
    "input_file = \"fitssp_results.h5\""
   ]
  },
  {
   "cell_type": "code",
   "execution_count": null,
   "id": "0c85c38a-c9dc-430a-9634-6bf533b587d9",
   "metadata": {},
   "outputs": [],
   "source": [
    "fullname_input = os.path.join(input_path ,input_file) "
   ]
  },
  {
   "cell_type": "markdown",
   "id": "92610cca-994f-4c31-b8f6-39fc890561aa",
   "metadata": {},
   "source": [
    "### Functions"
   ]
  },
  {
   "cell_type": "code",
   "execution_count": null,
   "id": "6e452975-de94-4ed1-9878-22f12577df52",
   "metadata": {},
   "outputs": [],
   "source": [
    "def bluefraction(x,y,wlcut=wl0):\n",
    "\n",
    "    indexes_blue = np.where(x<wlcut)[0]\n",
    "    indexes_red =np.where(x>wlcut)[0]\n",
    "\n",
    "    integ_blue = np.trapz(y[indexes_blue],x[indexes_blue])\n",
    "    integ_red = np.trapz(y[indexes_red],x[indexes_red])\n",
    "\n",
    "    fraction_blue = integ_blue /(integ_blue+integ_red)\n",
    "    fraction_red= integ_red /(integ_blue+integ_red)\n",
    "\n",
    "    return fraction_blue"
   ]
  },
  {
   "cell_type": "markdown",
   "id": "0dba1f7a-a60a-40c2-a04a-5b006504eb8b",
   "metadata": {},
   "source": [
    "## Read StarLight"
   ]
  },
  {
   "cell_type": "code",
   "execution_count": null,
   "id": "4ea90db8-6f76-48eb-ace4-6f71ac4c1120",
   "metadata": {},
   "outputs": [],
   "source": [
    "sl = SLDataAcess()"
   ]
  },
  {
   "cell_type": "code",
   "execution_count": null,
   "id": "85a214df-062b-458d-8277-b534126b1990",
   "metadata": {},
   "outputs": [],
   "source": [
    "#sl.get_list_subgroup_keys()"
   ]
  },
  {
   "cell_type": "code",
   "execution_count": null,
   "id": "5f5d71fe-e8c5-486b-a11a-4c5ff1ca79bb",
   "metadata": {},
   "outputs": [],
   "source": [
    "#sl.get_list_of_groupkeys()"
   ]
  },
  {
   "cell_type": "code",
   "execution_count": null,
   "id": "35786811-a204-4ad7-9cb0-013baf8ff818",
   "metadata": {},
   "outputs": [],
   "source": [
    "TAG = \"SPEC560\"\n",
    "sl.getattribdata_fromgroup(TAG)"
   ]
  },
  {
   "cell_type": "code",
   "execution_count": null,
   "id": "d811eb85-0b67-4191-b9c1-c9f9c45e3c29",
   "metadata": {},
   "outputs": [],
   "source": []
  },
  {
   "cell_type": "markdown",
   "id": "4d81d428-6a35-43bf-b692-2bd88b84171d",
   "metadata": {},
   "source": [
    "## Read Dataframe "
   ]
  },
  {
   "cell_type": "code",
   "execution_count": null,
   "id": "7aa6dd0c-0391-48df-8e55-ecb18a520f4e",
   "metadata": {},
   "outputs": [],
   "source": [
    "df = pd.read_hdf(fullname_input)"
   ]
  },
  {
   "cell_type": "code",
   "execution_count": null,
   "id": "a6adb1fa-d2fb-4055-bb02-ed7c7d53e09e",
   "metadata": {},
   "outputs": [],
   "source": [
    "df"
   ]
  },
  {
   "cell_type": "code",
   "execution_count": null,
   "id": "28d1369f-d9b2-45c4-9a9f-d555953eeca9",
   "metadata": {},
   "outputs": [],
   "source": [
    "N = len(df)"
   ]
  },
  {
   "cell_type": "code",
   "execution_count": null,
   "id": "d013edb7-9686-40e2-933f-c344b8a4b096",
   "metadata": {},
   "outputs": [],
   "source": [
    "fig, ax = plt.subplots(1, figsize=(6, 4))\n",
    "df[\"zobs\"].plot(kind='hist', bins=30,range=(0,1.5),facecolor=\"b\",xlabel=\"z_obs\",\n",
    "                title=\"redshifts for RXJ 0054.0-2823 : long_gal = 278.66° , lat_gal = -88.60°\",ax=ax);\n"
   ]
  },
  {
   "cell_type": "code",
   "execution_count": null,
   "id": "8135d05d-6c65-482e-aa3c-d2e7015e4833",
   "metadata": {},
   "outputs": [],
   "source": [
    "# create colormap\n",
    "#cm = plt.cm.bwr(np.linspace(0, 1, N))"
   ]
  },
  {
   "cell_type": "markdown",
   "id": "8c3efb08-d16e-4c36-9ab7-1c1dd3bed9f2",
   "metadata": {},
   "source": [
    "## Decode fitted DSPS parameters and plot spectra"
   ]
  },
  {
   "cell_type": "code",
   "execution_count": null,
   "id": "315719ab-d660-488b-9c70-b493f0499589",
   "metadata": {},
   "outputs": [],
   "source": [
    "names_fitparams = list(df.columns[8:])"
   ]
  },
  {
   "cell_type": "code",
   "execution_count": null,
   "id": "2ed1ee7c-863e-40af-9a3d-2c34ef21dfd4",
   "metadata": {},
   "outputs": [],
   "source": []
  },
  {
   "cell_type": "code",
   "execution_count": null,
   "id": "2b3d14ee-5dd3-48c2-a516-91bb3813c205",
   "metadata": {},
   "outputs": [],
   "source": [
    "all_x = []\n",
    "all_y_nodust = []\n",
    "all_y_dust = []\n",
    "the_ymax= 1e-12\n",
    "all_fractions_blue = []\n",
    "all_BL = []\n",
    "all_D4000 = []\n",
    "all_redshift = []\n",
    "\n",
    "all_x_sl = []\n",
    "all_y_sl = []\n",
    "all_fractions_blue_sl = []\n",
    "all_BL_sl = []\n",
    "all_D4000_sl = []\n",
    "all_redshift_sl = []\n",
    "\n",
    "# loop on fitted spectra\n",
    "for idx in range(N):\n",
    "\n",
    "    # SSP\n",
    "    row = df.iloc[idx]\n",
    "    z_obs = row[\"zobs\"]\n",
    "    all_redshift.append(z_obs)\n",
    "    \n",
    "    specname = row[\"fors2name\"]\n",
    "    list_params = row[names_fitparams].values\n",
    "    dict_params = paramslist_to_dict(list_params,names_fitparams)\n",
    "    x,y_nodust,y_dust = ssp_spectrum_fromparam(dict_params,z_obs)\n",
    "\n",
    "    norm_y_nodust = flux_norm(x,y_nodust,wlcenter=wl0)\n",
    "    norm_y_dust = flux_norm(x,y_dust,wlcenter=wl0)\n",
    "\n",
    "    y_nodust /=  norm_y_nodust\n",
    "    y_dust /=  norm_y_dust\n",
    "    \n",
    "    fract_blue = bluefraction(x,y_nodust)\n",
    "    D4000 = calc_ratio(x,y_nodust)\n",
    "    DBL = calc_ratio(x,y_nodust,W_LYMAN ,W_BALMER )\n",
    "    \n",
    "    \n",
    "    all_x.append(x)\n",
    "    all_y_nodust.append(y_nodust) \n",
    "    all_y_dust.append(y_dust) \n",
    "    all_fractions_blue.append(fract_blue)\n",
    "    all_BL.append(DBL)\n",
    "    all_D4000.append(D4000)\n",
    "\n",
    "    ymax = y_nodust.max()\n",
    "    the_ymax = max(the_ymax,ymax)\n",
    "    \n",
    "\n",
    "    # SL\n",
    "    \n",
    "    \n",
    "    dict_sl = sl.getspectrum_fromgroup(specname)\n",
    "    x_sl,y_sl = dict_sl[\"wl\"],dict_sl[\"fnu\"]\n",
    "    attr_dict_sl = sl.getattribdata_fromgroup(specname)\n",
    "    redshift_sl =  attr_dict_sl['redshift']\n",
    "    all_redshift_sl.append( redshift_sl)\n",
    "    \n",
    "\n",
    "    norm_sl = flux_norm(x_sl,y_sl,wlcenter=wl0)\n",
    "    y_sl /= norm_sl\n",
    "\n",
    "    fract_blue_sl = bluefraction(x_sl[:-1],y_sl[:-1])\n",
    "    D4000_sl = calc_ratio(x_sl[:-1],y_sl[:-1])\n",
    "    DBL_sl = calc_ratio(x_sl[:-1],y_sl[:-1],W_LYMAN ,W_BALMER )\n",
    "    \n",
    "\n",
    "    all_x_sl.append(x_sl)\n",
    "    all_y_sl.append(y_sl)\n",
    "    \n",
    "    all_fractions_blue_sl.append(fract_blue_sl)\n",
    "    all_BL_sl.append(DBL_sl)\n",
    "    all_D4000_sl.append(D4000_sl)\n",
    "\n",
    "\n",
    "ylim_max = the_ymax*2.\n",
    "ylim_min = ylim_max/1e7\n",
    "\n",
    "all_fractions_blue = np.array(all_fractions_blue)\n",
    "all_fractions_blue_sl = np.array(all_fractions_blue_sl)\n",
    "all_BL = np.array(all_BL)\n",
    "all_BL_sl = np.array(all_BL_sl)\n",
    "all_D4000 = np.array(all_D4000)\n",
    "all_D4000_sl = np.array(all_D4000_sl)"
   ]
  },
  {
   "cell_type": "markdown",
   "id": "85d5e762-86a0-4b33-b3ec-149b4d5e73e5",
   "metadata": {},
   "source": [
    "### Check redshift are OK"
   ]
  },
  {
   "cell_type": "code",
   "execution_count": null,
   "id": "86ac7d2f-c304-4f55-883a-509cc8ebe4fa",
   "metadata": {},
   "outputs": [],
   "source": [
    "# Check redshifts\n",
    "fig, ax = plt.subplots(1, 1,figsize=(2,2))\n",
    "ax.scatter(all_redshift_sl,all_redshift)"
   ]
  },
  {
   "cell_type": "markdown",
   "id": "7b2dd549-0231-4102-b8ce-bf0e05b22d79",
   "metadata": {},
   "source": [
    "### Check color index"
   ]
  },
  {
   "cell_type": "code",
   "execution_count": null,
   "id": "9a9e28c3-3399-40b2-a424-6d27ffcd2c0a",
   "metadata": {},
   "outputs": [],
   "source": [
    "bwr_map = plt.get_cmap('bwr')\n",
    "reversed_map = bwr_map.reversed() \n",
    "cNorm = colors.Normalize(0., vmax=1.)\n",
    "scalarMap = cmx.ScalarMappable(norm=cNorm, cmap=bwr_map)\n",
    "all_colors = scalarMap.to_rgba(df[\"zobs\"].values, alpha=1)\n",
    "\n",
    "fig, ax = plt.subplots(1, 1,figsize=(5,4))\n",
    "ax.scatter(all_D4000,all_D4000_sl,color=all_colors,alpha=0.5)\n",
    "ax.set_xlim(1.,2.5)\n",
    "ax.set_ylim(1.,2.5)\n",
    "cbar=fig.colorbar(scalarMap, ax=ax)\n",
    "cbar.ax.set_ylabel('redshift')"
   ]
  },
  {
   "cell_type": "code",
   "execution_count": null,
   "id": "0421e2fc-85ac-4ec1-9ac9-008e6efb7c80",
   "metadata": {},
   "outputs": [],
   "source": [
    "fig = plt.figure(figsize=(8,6))\n",
    "axs = fig.subplots(2,2)\n",
    "\n",
    "for idx, ax in enumerate(np.ravel(axs)):\n",
    "    if idx==0:\n",
    "        ax.hist(all_D4000,bins=50,density=True,facecolor=\"r\",label=\"DSPS\")\n",
    "        ax.hist(all_D4000_sl,bins=50,density=True,facecolor=\"b\",label=\"SL\")\n",
    "        ax.set_xlabel(\"D4000\")\n",
    "        ax.legend()\n",
    "    elif idx==1:\n",
    "        ax.hist(np.log10(all_BL),bins=50,density=True,facecolor=\"r\")\n",
    "        ax.hist(np.log10(all_BL_sl),bins=50,density=True,facecolor=\"b\")\n",
    "        ax.set_xlabel(\"log10(Balmer/Lyman)\")\n",
    "        ax.set_yscale('log')\n",
    "    elif idx==2:\n",
    "        ax.scatter(all_D4000,np.log10(all_BL),marker='o',alpha=0.3,facecolor=\"r\")\n",
    "        ax.scatter(all_D4000_sl,np.log10(all_BL_sl),marker='o',alpha=0.3,facecolor=\"b\")\n",
    "        ax.set_xlabel(\"D4000\")\n",
    "        ax.set_ylabel(\"log10(Balmer/Lyman)\")\n",
    "    elif idx==3:\n",
    "        ax.hist(np.log10(all_fractions_blue),density=True,facecolor=\"r\",alpha=0.8)\n",
    "        ax.hist(np.log10(all_fractions_blue_sl),density=True,facecolor=\"blue\",alpha=0.8)\n",
    "        ax.set_xlabel(\"Blue fraction\")\n",
    "#ax.set_title(\"D4000\")\n",
    "#ax.set_xlabel(\"D4000\")\n",
    "plt.tight_layout()"
   ]
  },
  {
   "cell_type": "code",
   "execution_count": null,
   "id": "b683cb0e-163d-431e-a91c-6300d0ad44bb",
   "metadata": {},
   "outputs": [],
   "source": [
    "D4000MIN = 1.0\n",
    "D4000MAX = 2.0\n",
    "BLMIN = 0.8\n",
    "BLMAX = 4."
   ]
  },
  {
   "cell_type": "code",
   "execution_count": null,
   "id": "b3353dda-c0dd-4598-b3b8-696f88733511",
   "metadata": {},
   "outputs": [],
   "source": [
    "bwr_map = plt.get_cmap('bwr')\n",
    "reversed_map = bwr_map.reversed() \n",
    "#cNorm = colors.Normalize(vmin=np.log10(all_fractions).min(), vmax=np.log10(all_fractions).max())\n",
    "#scalarMap = cmx.ScalarMappable(norm=cNorm, cmap=reversed_map)\n",
    "#all_colors = scalarMap.to_rgba(np.log10(all_fractions), alpha=1)\n",
    "cNorm = colors.Normalize(vmin=all_D4000.min(), vmax=all_D4000.max())\n",
    "scalarMap = cmx.ScalarMappable(norm=cNorm, cmap=bwr_map)\n",
    "all_colors = scalarMap.to_rgba(all_D4000, alpha=1)"
   ]
  },
  {
   "cell_type": "code",
   "execution_count": null,
   "id": "40be7211-508e-480c-9837-d195b6c7b534",
   "metadata": {},
   "outputs": [],
   "source": [
    "#cNorm = colors.Normalize(vmin=np.log10(all_fractions_sl).min(), vmax=np.log10(all_fractions_sl).max())\n",
    "#scalarMap = cmx.ScalarMappable(norm=cNorm, cmap=reversed_map)\n",
    "#all_colors_sl = scalarMap.to_rgba(np.log10(all_fractions_sl), alpha=1)\n",
    "cNorm = colors.Normalize(vmin=all_D4000_sl.min(), vmax=all_D4000_sl.max())\n",
    "scalarMap_sl = cmx.ScalarMappable(norm=cNorm, cmap=bwr_map)\n",
    "all_colors_sl = scalarMap_sl.to_rgba(all_D4000_sl, alpha=1)"
   ]
  },
  {
   "cell_type": "code",
   "execution_count": null,
   "id": "d65757c2-7119-472d-a180-5cfaabd0de36",
   "metadata": {},
   "outputs": [],
   "source": [
    "_, (ax1,ax2) = plt.subplots(2, 1,figsize=(10,10))\n",
    "\n",
    "\n",
    "__= ax1.set_yscale('log') \n",
    "__= ax1.set_xscale('log') \n",
    "\n",
    "for idx in range(N):\n",
    "    ax1.plot(all_x[idx],all_y_nodust[idx],'-',color=all_colors[idx])\n",
    "\n",
    "\n",
    "__= ax1.set_xlim(100.,1e6)\n",
    "__= ax1.set_ylim(ylim_min ,ylim_max )\n",
    "\n",
    "ax1.set_xlabel(\"$\\lambda (\\\\AA)$\")\n",
    "ax1.set_ylabel(\"$L_\\\\nu(\\lambda)$ relative flux\")\n",
    "ax1.set_title(\"$f_\\\\nu(\\lambda)$ Fitted spectra\")\n",
    "#ax1.grid()\n",
    "#ax1.axvline(wl0,color=\"k\")\n",
    "cbar=fig.colorbar(scalarMap , ax=ax1)\n",
    "cbar.ax.set_ylabel('D4000')\n",
    "plot_hydrogen_lines(ax1)\n",
    "\n",
    "\n",
    "\n",
    "inset_ax = inset_axes(ax1,\n",
    "                    width=\"30%\", # width = 30% of parent_bbox\n",
    "                    height=\"30%\", # height : 1 inch\n",
    "                    loc=4)\n",
    "inset_ax.hist(all_D4000,bins=20,range=(D4000MIN,D4000MAX),facecolor=\"g\",alpha=0.2)\n",
    "inset_ax.set_title(\"D4000\",fontsize=12)\n",
    "\n",
    "\n",
    "\n",
    "__= ax2.set_yscale('log') \n",
    "__= ax2.set_xscale('log') \n",
    "\n",
    "for idx in range(N):\n",
    "    ax2.plot(all_x_sl[idx][:-1],all_y_sl[idx][:-1],'-',color=all_colors_sl[idx])\n",
    "__= ax2.set_xlim(100.,1e6)\n",
    "__= ax2.set_ylim(ylim_min ,ylim_max )\n",
    "#ax2.grid()\n",
    "cbar=fig.colorbar(scalarMap_sl , ax=ax2)\n",
    "cbar.ax.set_ylabel('D4000')\n",
    "\n",
    "ax2.set_xlabel(\"$\\lambda (\\\\AA)$\")\n",
    "ax2.set_ylabel(\"$L_\\\\nu(\\lambda)$ relative flux\")\n",
    "ax2.set_title(\"$f_\\\\nu(\\lambda)$ Starlight spectra\")\n",
    "#ax2.axvline(wl0,color=\"k\")\n",
    "plot_hydrogen_lines(ax2)\n",
    "\n",
    "inset_ax = inset_axes(ax2,\n",
    "                    width=\"30%\", # width = 30% of parent_bbox\n",
    "                    height=\"30%\", # height : 1 inch\n",
    "                    loc=4)\n",
    "inset_ax.hist(all_D4000_sl,bins=20,range=(D4000MIN,D4000MAX),facecolor=\"g\",alpha=0.2)\n",
    "inset_ax.set_title(\"D4000\",fontsize=12)\n",
    "\n",
    "\n",
    "plt.tight_layout()"
   ]
  },
  {
   "cell_type": "code",
   "execution_count": null,
   "id": "a900080a-fd2f-4563-a33b-61ea1fb1265a",
   "metadata": {},
   "outputs": [],
   "source": [
    "_, (ax1,ax2) = plt.subplots(2, 1,figsize=(10,10))\n",
    "__= ax1.set_yscale('log') \n",
    "__= ax1.set_xscale('log') \n",
    "\n",
    "for idx in range(N):\n",
    "    ax1.plot(all_x[idx],all_y_nodust[idx]/(all_x[idx]/wl0)**2,color=all_colors[idx])\n",
    "__= ax1.set_xlim(100.,1e5)\n",
    "#__= ax1.set_ylim(1e-12 ,1e-4 )\n",
    "__= ax1.set_ylim(1e-3 ,1e2 )\n",
    "\n",
    "#ax1.axvline(wl0,color=\"k\")\n",
    "ax1.set_xlabel(\"$\\lambda (\\\\AA)$\")\n",
    "ax1.set_ylabel(\"$L_\\\\lambda(\\lambda)$ relative flux\")\n",
    "ax1.set_title(\"$f_\\\\lambda(\\lambda)$ Fitted spectra\")\n",
    "plot_hydrogen_lines(ax1)\n",
    "#ax1.grid()\n",
    "cbar=fig.colorbar(scalarMap , ax=ax1)\n",
    "cbar.ax.set_ylabel('D4000')\n",
    "plot_hydrogen_lines(ax1)\n",
    "\n",
    "\n",
    "__= ax2.set_yscale('log') \n",
    "__= ax2.set_xscale('log') \n",
    "\n",
    "for idx in range(N):\n",
    "    ax2.plot(all_x_sl[idx][:-1],all_y_sl[idx][:-1]/(all_x_sl[idx][:-1]/wl0)**2,'-',color=all_colors_sl[idx])\n",
    "__= ax2.set_xlim(100.,1e5)\n",
    "__= ax2.set_ylim(1e-3 ,1e2 )\n",
    "ax2.grid()\n",
    "ax2.set_xlabel(\"$\\lambda (\\\\AA)$\")\n",
    "ax2.set_ylabel(\"$L_\\\\lambda(\\lambda)$ relative flux\")\n",
    "ax2.set_title(\"$f_\\\\lambda(\\lambda)$ Starlight spectra\")\n",
    "#ax2.axvline(wl0,color=\"k\")\n",
    "cbar=fig.colorbar(scalarMap_sl , ax=ax2)\n",
    "cbar.ax.set_ylabel('D4000')\n",
    "plot_hydrogen_lines(ax2)\n",
    "\n",
    "plt.tight_layout()"
   ]
  },
  {
   "cell_type": "markdown",
   "id": "05df0dda-9151-4088-9bcc-d8348c17cd09",
   "metadata": {},
   "source": [
    "## Plot Normalised spectra with insets "
   ]
  },
  {
   "cell_type": "markdown",
   "id": "8598c475-c2cb-41c7-b3c3-95e31aa5495c",
   "metadata": {},
   "source": [
    "## Dependence with redshifts"
   ]
  },
  {
   "cell_type": "code",
   "execution_count": null,
   "id": "2d0e61d0-7f69-4251-9256-6bc44d674773",
   "metadata": {},
   "outputs": [],
   "source": [
    "bwr_map = plt.get_cmap('bwr')\n",
    "reversed_map = bwr_map.reversed() \n",
    "cNorm = colors.Normalize(0., vmax=1.)\n",
    "scalarMap = cmx.ScalarMappable(norm=cNorm, cmap=bwr_map)\n",
    "all_colors = scalarMap.to_rgba(df[\"zobs\"].values, alpha=1)"
   ]
  },
  {
   "cell_type": "code",
   "execution_count": null,
   "id": "43ac0bda-fbb1-45aa-8210-e0db23fa5148",
   "metadata": {},
   "outputs": [],
   "source": [
    "_, (ax1,ax2) = plt.subplots(2, 1,figsize=(10,10))\n",
    "\n",
    "\n",
    "__= ax1.set_yscale('log') \n",
    "__= ax1.set_xscale('log') \n",
    "\n",
    "for idx in range(N):\n",
    "    ax1.plot(all_x[idx],all_y_nodust[idx],'-',color=all_colors[idx])\n",
    "\n",
    "\n",
    "__= ax1.set_xlim(100.,1e6)\n",
    "__= ax1.set_ylim(ylim_min ,ylim_max )\n",
    "\n",
    "ax1.set_xlabel(\"$\\lambda (\\\\AA)$\")\n",
    "ax1.set_ylabel(\"$L_\\\\nu(\\lambda)$ relative flux\")\n",
    "ax1.set_title(\"$f_\\\\nu(\\lambda)$ Fitted spectra\")\n",
    "#ax1.grid()\n",
    "#ax1.axvline(wl0,color=\"k\")\n",
    "cbar=fig.colorbar(scalarMap , ax=ax1)\n",
    "cbar.ax.set_ylabel('redshift')\n",
    "plot_hydrogen_lines(ax1)\n",
    "\n",
    "#inset D4000\n",
    "#left, bottom, width, height = [0.16, 0.66, 0.15, 0.2]\n",
    "#ax3 = fig.add_axes([left, bottom, width, height])\n",
    "#ax3.hist(all_D4000,bins=20,range=(D4000MIN,D4000MAX),facecolor=\"g\",alpha=0.2)\n",
    "#ax3.set_xlabel(\"D4000\",fontsize=8)\n",
    "\n",
    "\n",
    "__= ax2.set_yscale('log') \n",
    "__= ax2.set_xscale('log') \n",
    "\n",
    "for idx in range(N):\n",
    "    ax2.plot(all_x_sl[idx][:-1],all_y_sl[idx][:-1],'-',color=all_colors[idx])\n",
    "__= ax2.set_xlim(100.,1e6)\n",
    "__= ax2.set_ylim(ylim_min ,ylim_max )\n",
    "#ax2.grid()\n",
    "cbar=fig.colorbar(scalarMap, ax=ax2)\n",
    "cbar.ax.set_ylabel('redshift')\n",
    "\n",
    "ax2.set_xlabel(\"$\\lambda (\\\\AA)$\")\n",
    "ax2.set_ylabel(\"$L_\\\\nu(\\lambda)$ relative flux\")\n",
    "ax2.set_title(\"$f_\\\\nu(\\lambda)$ Starlight spectra\")\n",
    "#ax2.axvline(wl0,color=\"k\")\n",
    "plot_hydrogen_lines(ax2)\n",
    "\n",
    "\n",
    "plt.tight_layout()"
   ]
  },
  {
   "cell_type": "code",
   "execution_count": null,
   "id": "e5c5de87-7cb9-4ece-8466-6a28dc106236",
   "metadata": {},
   "outputs": [],
   "source": []
  }
 ],
 "metadata": {
  "kernelspec": {
   "display_name": "conda_jaxcpu_dsps_py310",
   "language": "python",
   "name": "conda_jaxcpu_dsps_py310"
  },
  "language_info": {
   "codemirror_mode": {
    "name": "ipython",
    "version": 3
   },
   "file_extension": ".py",
   "mimetype": "text/x-python",
   "name": "python",
   "nbconvert_exporter": "python",
   "pygments_lexer": "ipython3",
   "version": "3.10.13"
  }
 },
 "nbformat": 4,
 "nbformat_minor": 5
}
