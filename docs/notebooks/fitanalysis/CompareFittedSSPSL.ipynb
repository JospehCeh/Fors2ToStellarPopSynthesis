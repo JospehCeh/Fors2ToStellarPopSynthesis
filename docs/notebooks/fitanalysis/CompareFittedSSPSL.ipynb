{
 "cells": [
  {
   "cell_type": "markdown",
   "id": "c8aade51-a22a-4778-9157-c94081d7d67f",
   "metadata": {},
   "source": [
    "# Compare fitted spectra with StarLight"
   ]
  },
  {
   "cell_type": "markdown",
   "id": "6262461e-89cd-4623-88d6-6ef6cb50e0a1",
   "metadata": {},
   "source": [
    "- Author Sylvie Dagoret-Campagne\n",
    "- Afflilation : IJCLab/IN2P3/CNRS\n",
    "- Organisation : LSST-DESC\n",
    "- creation date : 2023-11-27\n",
    "- last update : 2023-11-27"
   ]
  },
  {
   "cell_type": "code",
   "execution_count": null,
   "id": "0549676e-2603-4376-8b68-92b7298af9d7",
   "metadata": {},
   "outputs": [],
   "source": [
    "import h5py\n",
    "import pandas as pd\n",
    "import numpy as np\n",
    "import os\n",
    "import re\n",
    "import pickle \n",
    "import matplotlib as mpl\n",
    "import matplotlib.pyplot as plt\n",
    "%matplotlib inline\n",
    "import matplotlib.colors as colors\n",
    "import matplotlib.cm as cmx\n",
    "import collections\n",
    "from collections import OrderedDict\n",
    "import re\n",
    "import matplotlib.gridspec as gridspec\n",
    "\n"
   ]
  },
  {
   "cell_type": "code",
   "execution_count": null,
   "id": "b6a415d2-0295-4ac2-9027-90ba99ff42c8",
   "metadata": {},
   "outputs": [],
   "source": [
    "plt.rcParams[\"figure.figsize\"] = (12,6)\n",
    "plt.rcParams[\"axes.labelsize\"] = 'xx-large'\n",
    "plt.rcParams['axes.titlesize'] = 'xx-large'\n",
    "plt.rcParams['xtick.labelsize']= 'xx-large'\n",
    "plt.rcParams['ytick.labelsize']= 'xx-large'\n",
    "plt.rcParams['legend.fontsize']=  16"
   ]
  },
  {
   "cell_type": "markdown",
   "id": "24c6c350-d3b3-421d-bab9-aa2a57e3caac",
   "metadata": {},
   "source": [
    "## imports"
   ]
  },
  {
   "cell_type": "markdown",
   "id": "af213937-9d0e-47dc-a11c-664beb36fb1a",
   "metadata": {},
   "source": [
    "### fitter jaxopt"
   ]
  },
  {
   "cell_type": "code",
   "execution_count": null,
   "id": "b2e6c192-0821-47df-996b-3b4d7088d89b",
   "metadata": {},
   "outputs": [],
   "source": [
    "from fors2tostellarpopsynthesis.fitters.fitter_jaxopt import (SSP_DATA,mean_spectrum,mean_mags,mean_sfr,ssp_spectrum_fromparam)"
   ]
  },
  {
   "cell_type": "code",
   "execution_count": null,
   "id": "93da83cb-6e27-41c1-bb09-3a0a1f6f55b3",
   "metadata": {},
   "outputs": [],
   "source": [
    "from dsps.cosmology import DEFAULT_COSMOLOGY, age_at_z"
   ]
  },
  {
   "cell_type": "markdown",
   "id": "0f63b79d-0541-4fef-a430-43aea4e436ec",
   "metadata": {},
   "source": [
    "### parameters"
   ]
  },
  {
   "cell_type": "code",
   "execution_count": null,
   "id": "d98be78c-8d94-4b76-ab52-405c64e1a991",
   "metadata": {},
   "outputs": [],
   "source": [
    "from fors2tostellarpopsynthesis.parameters import SSPParametersFit,paramslist_to_dict"
   ]
  },
  {
   "cell_type": "markdown",
   "id": "67a576f4-203a-4aa0-8487-e128690505e4",
   "metadata": {},
   "source": [
    "### StarLight"
   ]
  },
  {
   "cell_type": "code",
   "execution_count": null,
   "id": "79a91fd0-4ad8-43fb-8327-5dbc0f919a97",
   "metadata": {},
   "outputs": [],
   "source": [
    "from fors2tostellarpopsynthesis.fors2starlightio import SLDataAcess, flux_norm"
   ]
  },
  {
   "cell_type": "markdown",
   "id": "9ece6107-dcc5-4f42-a80f-0476ad0ef7d5",
   "metadata": {},
   "source": [
    "## Configuration"
   ]
  },
  {
   "cell_type": "markdown",
   "id": "36f72d4d-1cc8-4d78-8de3-34e934c17442",
   "metadata": {},
   "source": [
    "### Constants"
   ]
  },
  {
   "cell_type": "code",
   "execution_count": null,
   "id": "7eded101-ce0f-479d-9edb-4be0bb4ad0db",
   "metadata": {},
   "outputs": [],
   "source": [
    "wl0 = 3646.6"
   ]
  },
  {
   "cell_type": "markdown",
   "id": "7b785a80-86f2-4f4b-8ea4-0c7a8e02d95b",
   "metadata": {},
   "source": [
    "### fitted params"
   ]
  },
  {
   "cell_type": "code",
   "execution_count": null,
   "id": "c7675917-f608-4d82-9f73-6a3467c3c94d",
   "metadata": {},
   "outputs": [],
   "source": [
    "input_path = \"fitssp_results\"\n",
    "input_file = \"fitssp_results.h5\""
   ]
  },
  {
   "cell_type": "code",
   "execution_count": null,
   "id": "0c85c38a-c9dc-430a-9634-6bf533b587d9",
   "metadata": {},
   "outputs": [],
   "source": [
    "fullname_input = os.path.join(input_path ,input_file) "
   ]
  },
  {
   "cell_type": "markdown",
   "id": "92610cca-994f-4c31-b8f6-39fc890561aa",
   "metadata": {},
   "source": [
    "### Functions"
   ]
  },
  {
   "cell_type": "code",
   "execution_count": null,
   "id": "6e452975-de94-4ed1-9878-22f12577df52",
   "metadata": {},
   "outputs": [],
   "source": [
    "def bluefraction(x,y,wlcut=wl0):\n",
    "\n",
    "    indexes_blue = np.where(x<wlcut)[0]\n",
    "    indexes_red =np.where(x>wlcut)[0]\n",
    "\n",
    "    integ_blue = np.trapz(y[indexes_blue],x[indexes_blue])\n",
    "    integ_red = np.trapz(y[indexes_red],x[indexes_red])\n",
    "\n",
    "    fraction_blue = integ_blue /(integ_blue+integ_red)\n",
    "    fraction_red= integ_red /(integ_blue+integ_red)\n",
    "\n",
    "    return fraction_blue"
   ]
  },
  {
   "cell_type": "markdown",
   "id": "0dba1f7a-a60a-40c2-a04a-5b006504eb8b",
   "metadata": {},
   "source": [
    "## Read StarLight"
   ]
  },
  {
   "cell_type": "code",
   "execution_count": null,
   "id": "4ea90db8-6f76-48eb-ace4-6f71ac4c1120",
   "metadata": {},
   "outputs": [],
   "source": [
    "sl = SLDataAcess()"
   ]
  },
  {
   "cell_type": "markdown",
   "id": "4d81d428-6a35-43bf-b692-2bd88b84171d",
   "metadata": {},
   "source": [
    "## Read Dataframe "
   ]
  },
  {
   "cell_type": "code",
   "execution_count": null,
   "id": "7aa6dd0c-0391-48df-8e55-ecb18a520f4e",
   "metadata": {},
   "outputs": [],
   "source": [
    "df = pd.read_hdf(fullname_input)"
   ]
  },
  {
   "cell_type": "code",
   "execution_count": null,
   "id": "a6adb1fa-d2fb-4055-bb02-ed7c7d53e09e",
   "metadata": {},
   "outputs": [],
   "source": [
    "df"
   ]
  },
  {
   "cell_type": "code",
   "execution_count": null,
   "id": "28d1369f-d9b2-45c4-9a9f-d555953eeca9",
   "metadata": {},
   "outputs": [],
   "source": [
    "N = len(df)"
   ]
  },
  {
   "cell_type": "code",
   "execution_count": null,
   "id": "d16979d7-7c6f-4026-a7b4-f4f9949a66f9",
   "metadata": {},
   "outputs": [],
   "source": [
    "df"
   ]
  },
  {
   "cell_type": "code",
   "execution_count": null,
   "id": "8135d05d-6c65-482e-aa3c-d2e7015e4833",
   "metadata": {},
   "outputs": [],
   "source": [
    "# create colormap\n",
    "#cm = plt.cm.bwr(np.linspace(0, 1, N))"
   ]
  },
  {
   "cell_type": "markdown",
   "id": "8c3efb08-d16e-4c36-9ab7-1c1dd3bed9f2",
   "metadata": {},
   "source": [
    "## Decode fitted parameters and plot spectra"
   ]
  },
  {
   "cell_type": "code",
   "execution_count": null,
   "id": "315719ab-d660-488b-9c70-b493f0499589",
   "metadata": {},
   "outputs": [],
   "source": [
    "names_fitparams = list(df.columns[8:])"
   ]
  },
  {
   "cell_type": "code",
   "execution_count": null,
   "id": "2b3d14ee-5dd3-48c2-a516-91bb3813c205",
   "metadata": {},
   "outputs": [],
   "source": [
    "all_x = []\n",
    "all_y_nodust = []\n",
    "all_y_dust = []\n",
    "the_ymax= 1e-12\n",
    "all_fractions = []\n",
    "\n",
    "all_x_sl = []\n",
    "all_y_sl = []\n",
    "all_fractions_sl = []\n",
    "\n",
    "for idx in range(N):\n",
    "\n",
    "    # SSP\n",
    "    row = df.iloc[idx]\n",
    "    z_obs = row[\"zobs\"]\n",
    "    specname = row[\"fors2name\"]\n",
    "    list_params = row[names_fitparams].values\n",
    "    dict_params = paramslist_to_dict(list_params,names_fitparams)\n",
    "    x,y_nodust,y_dust = ssp_spectrum_fromparam(dict_params,z_obs)\n",
    "\n",
    "    norm_y_nodust = flux_norm(x,y_nodust)\n",
    "    norm_y_dust = flux_norm(x,y_dust)\n",
    "\n",
    "    y_nodust /=  norm_y_nodust\n",
    "    y_dust /=  norm_y_dust\n",
    "    fract_blue = bluefraction(x,y_nodust)\n",
    "    all_x.append(x)\n",
    "    all_y_nodust.append(y_nodust) \n",
    "    all_y_dust.append(y_dust) \n",
    "    all_fractions.append(fract_blue)\n",
    "\n",
    "    ymax = y_nodust.max()\n",
    "    the_ymax = max(the_ymax,ymax)\n",
    "    \n",
    "\n",
    "    # SL\n",
    "    dict_sl = sl.getspectrum_fromgroup(specname)\n",
    "    x_sl,y_sl = dict_sl[\"wl\"],dict_sl[\"fnu\"]\n",
    "\n",
    "    norm_sl = flux_norm(x_sl,y_sl)\n",
    "    y_sl /= norm_sl\n",
    "\n",
    "    fract_blue_sl = bluefraction(x_sl[:-1],y_sl[:-1])\n",
    "\n",
    "    all_x_sl.append(x_sl)\n",
    "    all_y_sl.append(y_sl)\n",
    "    all_fractions_sl.append(fract_blue_sl)\n",
    "\n",
    "\n",
    "ylim_max = the_ymax*2.\n",
    "ylim_min = ylim_max/1e7\n",
    "\n",
    "all_fractions = np.array(all_fractions)\n",
    "all_fractions_sl = np.array(all_fractions_sl)"
   ]
  },
  {
   "cell_type": "code",
   "execution_count": null,
   "id": "0421e2fc-85ac-4ec1-9ac9-008e6efb7c80",
   "metadata": {},
   "outputs": [],
   "source": []
  },
  {
   "cell_type": "code",
   "execution_count": null,
   "id": "853de6d2-7887-495d-8d1a-942d4bb14392",
   "metadata": {},
   "outputs": [],
   "source": [
    "plt.hist(np.log10(all_fractions),density=True,facecolor=\"r\",alpha=0.5)\n",
    "plt.hist(np.log10(all_fractions_sl),density=True,facecolor=\"blue\",alpha=0.5)"
   ]
  },
  {
   "cell_type": "code",
   "execution_count": null,
   "id": "b3353dda-c0dd-4598-b3b8-696f88733511",
   "metadata": {},
   "outputs": [],
   "source": [
    "bwr_map = plt.get_cmap('bwr')\n",
    "reversed_map = bwr_map.reversed() \n",
    "cNorm = colors.Normalize(vmin=np.log10(all_fractions).min(), vmax=np.log10(all_fractions).max())\n",
    "scalarMap = cmx.ScalarMappable(norm=cNorm, cmap=reversed_map)\n",
    "all_colors = scalarMap.to_rgba(np.log10(all_fractions), alpha=1)"
   ]
  },
  {
   "cell_type": "code",
   "execution_count": null,
   "id": "40be7211-508e-480c-9837-d195b6c7b534",
   "metadata": {},
   "outputs": [],
   "source": [
    "cNorm = colors.Normalize(vmin=np.log10(all_fractions_sl).min(), vmax=np.log10(all_fractions_sl).max())\n",
    "scalarMap = cmx.ScalarMappable(norm=cNorm, cmap=reversed_map)\n",
    "all_colors_sl = scalarMap.to_rgba(np.log10(all_fractions_sl), alpha=1)"
   ]
  },
  {
   "cell_type": "code",
   "execution_count": null,
   "id": "d65757c2-7119-472d-a180-5cfaabd0de36",
   "metadata": {},
   "outputs": [],
   "source": [
    "_, (ax1,ax2) = plt.subplots(2, 1,figsize=(10,8))\n",
    "\n",
    "\n",
    "__= ax1.set_yscale('log') \n",
    "__= ax1.set_xscale('log') \n",
    "\n",
    "for idx in range(N):\n",
    "    ax1.plot(all_x[idx],all_y_nodust[idx],'-',color=all_colors[idx])\n",
    "\n",
    "    #ax.plot(all_x_sl[idx],all_y_sl[idx])\n",
    "\n",
    "__= ax1.set_xlim(100.,1e6)\n",
    "__= ax1.set_ylim(ylim_min ,ylim_max )\n",
    "\n",
    "ax1.set_xlabel(\"$\\lambda (\\\\AA)$\")\n",
    "ax1.set_ylabel(\"$L_\\\\nu(\\lambda)$ relative flux\")\n",
    "ax1.set_title(\"$f_\\\\nu(\\lambda)$ Fitted spectra\")\n",
    "ax1.grid()\n",
    "ax1.axvline(wl0,color=\"k\")\n",
    "\n",
    "\n",
    "__= ax2.set_yscale('log') \n",
    "__= ax2.set_xscale('log') \n",
    "\n",
    "for idx in range(N):\n",
    "    ax2.plot(all_x_sl[idx][:-1],all_y_sl[idx][:-1],'-',color=all_colors_sl[idx])\n",
    "__= ax2.set_xlim(100.,1e6)\n",
    "__= ax2.set_ylim(ylim_min ,ylim_max )\n",
    "ax2.grid()\n",
    "ax2.set_xlabel(\"$\\lambda (\\\\AA)$\")\n",
    "ax2.set_ylabel(\"$L_\\\\nu(\\lambda)$ relative flux\")\n",
    "ax2.set_title(\"$f_\\\\nu(\\lambda)$ Starlight spectra\")\n",
    "ax2.axvline(wl0,color=\"k\")\n",
    "\n",
    "plt.tight_layout()"
   ]
  },
  {
   "cell_type": "code",
   "execution_count": null,
   "id": "a900080a-fd2f-4563-a33b-61ea1fb1265a",
   "metadata": {},
   "outputs": [],
   "source": [
    "_, (ax1,ax2) = plt.subplots(2, 1,figsize=(10,8))\n",
    "__= ax1.set_yscale('log') \n",
    "__= ax1.set_xscale('log') \n",
    "\n",
    "for idx in range(N):\n",
    "    ax1.plot(all_x[idx],all_y_nodust[idx]/all_x[idx]**2,color=all_colors[idx])\n",
    "__= ax1.set_xlim(100.,1e5)\n",
    "__= ax1.set_ylim(1e-12 ,1e-4 )\n",
    "\n",
    "ax1.axvline(wl0,color=\"k\")\n",
    "ax1.set_xlabel(\"$\\lambda (\\\\AA)$\")\n",
    "ax1.set_ylabel(\"$L_\\\\lambda(\\lambda)$ relative flux\")\n",
    "ax1.set_title(\"$f_\\\\lambda(\\lambda)$ Fitted spectra\")\n",
    "ax1.grid()\n",
    "\n",
    "\n",
    "__= ax2.set_yscale('log') \n",
    "__= ax2.set_xscale('log') \n",
    "\n",
    "for idx in range(N):\n",
    "    ax2.plot(all_x_sl[idx][:-1],all_y_sl[idx][:-1]/all_x_sl[idx][:-1]**2,'-',color=all_colors_sl[idx])\n",
    "__= ax2.set_xlim(100.,1e5)\n",
    "__= ax2.set_ylim(1e-12 ,1e-4 )\n",
    "ax2.grid()\n",
    "ax2.set_xlabel(\"$\\lambda (\\\\AA)$\")\n",
    "ax2.set_ylabel(\"$L_\\\\lambda(\\lambda)$ relative flux\")\n",
    "ax2.set_title(\"$f_\\\\lambda(\\lambda)$ Starlight spectra\")\n",
    "ax2.axvline(wl0,color=\"k\")\n",
    "\n",
    "plt.tight_layout()"
   ]
  }
 ],
 "metadata": {
  "kernelspec": {
   "display_name": "conda_jaxcpu_dsps_py310",
   "language": "python",
   "name": "conda_jaxcpu_dsps_py310"
  },
  "language_info": {
   "codemirror_mode": {
    "name": "ipython",
    "version": 3
   },
   "file_extension": ".py",
   "mimetype": "text/x-python",
   "name": "python",
   "nbconvert_exporter": "python",
   "pygments_lexer": "ipython3",
   "version": "3.10.13"
  }
 },
 "nbformat": 4,
 "nbformat_minor": 5
}
