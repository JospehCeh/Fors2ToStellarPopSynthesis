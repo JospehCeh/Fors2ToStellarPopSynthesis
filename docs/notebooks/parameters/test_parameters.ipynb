{
 "cells": [
  {
   "cell_type": "markdown",
   "id": "661a0254-d1ce-452e-af01-3e5143dac398",
   "metadata": {},
   "source": [
    "# Parameters"
   ]
  },
  {
   "cell_type": "code",
   "execution_count": null,
   "id": "95a56ddf-f7d6-4f7e-80d4-01c3d131b0b3",
   "metadata": {},
   "outputs": [],
   "source": [
    "import pandas as pd\n",
    "import numpy as np\n",
    "import jax.numpy as jnp"
   ]
  },
  {
   "cell_type": "code",
   "execution_count": null,
   "id": "fe70e703-79e0-4cd6-8be4-067f072f7aab",
   "metadata": {},
   "outputs": [],
   "source": [
    "from fors2tostellarpopsynthesis.parameters  import SSPParametersFit"
   ]
  },
  {
   "cell_type": "code",
   "execution_count": null,
   "id": "25254687-4657-4810-9fd2-1f722c8135d2",
   "metadata": {},
   "outputs": [],
   "source": [
    "p = SSPParametersFit()"
   ]
  },
  {
   "cell_type": "code",
   "execution_count": null,
   "id": "81eaddde-2838-42c4-81d0-7c92993307de",
   "metadata": {},
   "outputs": [],
   "source": [
    "dir(p)"
   ]
  },
  {
   "cell_type": "code",
   "execution_count": null,
   "id": "21b64082-b083-46e6-af4d-d3cd496bad41",
   "metadata": {},
   "outputs": [],
   "source": [
    "p.DICT_PARAMS_true"
   ]
  },
  {
   "cell_type": "code",
   "execution_count": null,
   "id": "8aebd3f3-48bc-487c-800f-3a5ed246e51d",
   "metadata": {},
   "outputs": [],
   "source": [
    "p.INIT_PARAMS"
   ]
  },
  {
   "cell_type": "code",
   "execution_count": null,
   "id": "f0d70bb4-eebb-4c1a-a35c-c6bd10c9a84c",
   "metadata": {},
   "outputs": [],
   "source": [
    "print(p.PARAM_NAMES_FLAT)"
   ]
  },
  {
   "cell_type": "code",
   "execution_count": null,
   "id": "e9d68b9a-43b1-46f0-9c1a-a845fe3dda15",
   "metadata": {},
   "outputs": [],
   "source": [
    "PARAM_NAMES = np.array(p.PARAM_NAMES_FLAT)\n",
    "PARAM_VAL = p.INIT_PARAMS\n",
    "PARAM_MIN = p.PARAMS_MIN\n",
    "PARAM_MAX = p.PARAMS_MAX\n",
    "PARAM_SIGMA = jnp.sqrt(0.5*((PARAM_VAL-PARAM_MIN)**2 + (PARAM_VAL-PARAM_MAX)**2))"
   ]
  },
  {
   "cell_type": "code",
   "execution_count": null,
   "id": "663fa0f5-8026-4b3d-a5db-8e9994d7c889",
   "metadata": {},
   "outputs": [],
   "source": [
    "df_params = pd.DataFrame({\"name\":PARAM_NAMES,\"min\": PARAM_MIN,\"val\": PARAM_VAL,\"max\": PARAM_MAX,\"sig\":PARAM_SIGMA})"
   ]
  },
  {
   "cell_type": "code",
   "execution_count": null,
   "id": "1fa81504-8895-435a-af83-514fe6ca4b6f",
   "metadata": {},
   "outputs": [],
   "source": [
    "df_params  = df_params.round(decimals=2)\n",
    "df_params"
   ]
  },
  {
   "cell_type": "code",
   "execution_count": null,
   "id": "a1432dbd-385a-46ac-87bc-524a81ad5cbc",
   "metadata": {},
   "outputs": [],
   "source": []
  }
 ],
 "metadata": {
  "kernelspec": {
   "display_name": "conda_jaxcpu_dsps_py310",
   "language": "python",
   "name": "conda_jaxcpu_dsps_py310"
  },
  "language_info": {
   "codemirror_mode": {
    "name": "ipython",
    "version": 3
   },
   "file_extension": ".py",
   "mimetype": "text/x-python",
   "name": "python",
   "nbconvert_exporter": "python",
   "pygments_lexer": "ipython3",
   "version": "3.10.13"
  }
 },
 "nbformat": 4,
 "nbformat_minor": 5
}
