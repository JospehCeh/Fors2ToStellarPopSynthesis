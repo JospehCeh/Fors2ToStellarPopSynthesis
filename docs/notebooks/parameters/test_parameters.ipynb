{
 "cells": [
  {
   "cell_type": "markdown",
   "id": "661a0254-d1ce-452e-af01-3e5143dac398",
   "metadata": {},
   "source": [
    "# Parameters"
   ]
  },
  {
   "cell_type": "code",
   "execution_count": null,
   "id": "fe70e703-79e0-4cd6-8be4-067f072f7aab",
   "metadata": {},
   "outputs": [],
   "source": [
    "from fors2tostellarpopsynthesis.parameters  import SSPParametersFit"
   ]
  },
  {
   "cell_type": "code",
   "execution_count": null,
   "id": "25254687-4657-4810-9fd2-1f722c8135d2",
   "metadata": {},
   "outputs": [],
   "source": [
    "p = SSPParametersFit()"
   ]
  },
  {
   "cell_type": "code",
   "execution_count": null,
   "id": "81eaddde-2838-42c4-81d0-7c92993307de",
   "metadata": {},
   "outputs": [],
   "source": [
    "dir(p)"
   ]
  },
  {
   "cell_type": "code",
   "execution_count": null,
   "id": "21b64082-b083-46e6-af4d-d3cd496bad41",
   "metadata": {},
   "outputs": [],
   "source": [
    "p.DICT_PARAMS_true"
   ]
  },
  {
   "cell_type": "code",
   "execution_count": null,
   "id": "8aebd3f3-48bc-487c-800f-3a5ed246e51d",
   "metadata": {},
   "outputs": [],
   "source": [
    "p.INIT_PARAMS"
   ]
  },
  {
   "cell_type": "code",
   "execution_count": null,
   "id": "01d27771-0304-4c22-b615-ecf022837445",
   "metadata": {},
   "outputs": [],
   "source": []
  },
  {
   "cell_type": "code",
   "execution_count": null,
   "id": "f0d70bb4-eebb-4c1a-a35c-c6bd10c9a84c",
   "metadata": {},
   "outputs": [],
   "source": [
    "p.PARAM_NAMES_FLAT"
   ]
  },
  {
   "cell_type": "code",
   "execution_count": null,
   "id": "663fa0f5-8026-4b3d-a5db-8e9994d7c889",
   "metadata": {},
   "outputs": [],
   "source": []
  }
 ],
 "metadata": {
  "kernelspec": {
   "display_name": "conda_jaxcpu_dsps_py310",
   "language": "python",
   "name": "conda_jaxcpu_dsps_py310"
  },
  "language_info": {
   "codemirror_mode": {
    "name": "ipython",
    "version": 3
   },
   "file_extension": ".py",
   "mimetype": "text/x-python",
   "name": "python",
   "nbconvert_exporter": "python",
   "pygments_lexer": "ipython3",
   "version": "3.10.13"
  }
 },
 "nbformat": 4,
 "nbformat_minor": 5
}
