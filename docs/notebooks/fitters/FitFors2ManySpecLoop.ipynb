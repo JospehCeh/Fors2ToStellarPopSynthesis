{
 "cells": [
  {
   "cell_type": "markdown",
   "id": "a688fc59-ac88-4641-9129-6264f8679cc1",
   "metadata": {},
   "source": [
    "# Fit Many Fors2 Spectrum and Photometry with DSPS "
   ]
  },
  {
   "cell_type": "markdown",
   "id": "e49b0180-5793-49ae-87a0-e998bea32689",
   "metadata": {},
   "source": [
    "Implement this fit using this `fors2tostellarpopsynthesis`package\n",
    "\n",
    "- Author Sylvie Dagoret-Campagne\n",
    "- Afflilation : IJCLab/IN2P3/CNRS\n",
    "- Organisation : LSST-DESC\n",
    "- creation date : 2023-11-23\n",
    "- last update : 2023-11-24 : remove Galex\n",
    "- last update : 2023-11-25 : smooth spectrum errors\n",
    "- last update : 2023-12-13 : nice plots\n",
    "\n",
    "Most functions are inside the package."
   ]
  },
  {
   "cell_type": "markdown",
   "id": "e7373f4c-496c-4116-b1d4-bb0bec0f59c4",
   "metadata": {},
   "source": [
    "## Import"
   ]
  },
  {
   "cell_type": "code",
   "execution_count": null,
   "id": "3081db6d-2b62-4701-9879-d638bd5db85f",
   "metadata": {},
   "outputs": [],
   "source": [
    "import h5py\n",
    "import pandas as pd\n",
    "import numpy as np\n",
    "import os\n",
    "import re\n",
    "import pickle \n",
    "import matplotlib as mpl\n",
    "import matplotlib.pyplot as plt\n",
    "%matplotlib inline\n",
    "import matplotlib.colors as colors\n",
    "import matplotlib.cm as cmx\n",
    "import collections\n",
    "from collections import OrderedDict\n",
    "import re\n",
    "import matplotlib.gridspec as gridspec\n",
    "from sklearn.gaussian_process import GaussianProcessRegressor, kernels"
   ]
  },
  {
   "cell_type": "code",
   "execution_count": null,
   "id": "c20e98ab-b268-4fb0-86e4-2897fcc200d9",
   "metadata": {},
   "outputs": [],
   "source": [
    "import jax\n",
    "import jax.numpy as jnp\n",
    "from jax import vmap\n",
    "import jaxopt\n",
    "import optax\n",
    "jax.config.update(\"jax_enable_x64\", True)\n",
    "from interpax import interp1d"
   ]
  },
  {
   "cell_type": "code",
   "execution_count": null,
   "id": "e0a10a65-7027-48d4-8f38-5fd31c119dbe",
   "metadata": {},
   "outputs": [],
   "source": [
    "plt.rcParams[\"figure.figsize\"] = (12,6)\n",
    "plt.rcParams[\"axes.labelsize\"] = 'xx-large'\n",
    "plt.rcParams['axes.titlesize'] = 'xx-large'\n",
    "plt.rcParams['xtick.labelsize']= 'xx-large'\n",
    "plt.rcParams['ytick.labelsize']= 'xx-large'\n",
    "plt.rcParams['legend.fontsize']=  16"
   ]
  },
  {
   "cell_type": "code",
   "execution_count": null,
   "id": "6822d6e2-bbe9-47fa-b940-1cb929a4e237",
   "metadata": {},
   "outputs": [],
   "source": [
    "kernel = kernels.RBF(0.5, (8000, 20000.0))\n",
    "gpr = GaussianProcessRegressor(kernel=kernel ,random_state=0)"
   ]
  },
  {
   "cell_type": "markdown",
   "id": "68fd356d-2ec7-4c49-a27b-9442e331b754",
   "metadata": {},
   "source": [
    "### Filters"
   ]
  },
  {
   "cell_type": "code",
   "execution_count": null,
   "id": "2ab9bf3f-0e9d-4778-b3fa-748879da738c",
   "metadata": {},
   "outputs": [],
   "source": [
    "from fors2tostellarpopsynthesis.filters import FilterInfo"
   ]
  },
  {
   "cell_type": "code",
   "execution_count": null,
   "id": "257f0e4a-8925-4edf-9cb9-6160ee8d8a37",
   "metadata": {},
   "outputs": [],
   "source": [
    "FLAG_REMOVE_GALEX = True\n",
    "FLAG_REMOVE_GALEX_FUV = True"
   ]
  },
  {
   "cell_type": "markdown",
   "id": "2f51644e-9599-4646-9ed9-f7fafa2d7962",
   "metadata": {},
   "source": [
    "### Fors2 and Starlight"
   ]
  },
  {
   "cell_type": "code",
   "execution_count": null,
   "id": "be610061-e204-4210-82aa-38edc32e2f6c",
   "metadata": {},
   "outputs": [],
   "source": [
    "from fors2tostellarpopsynthesis.fors2starlightio import Fors2DataAcess, SLDataAcess,convert_flux_torestframe,gpr"
   ]
  },
  {
   "cell_type": "markdown",
   "id": "aae04981-ec66-4457-bd27-fef621b141dc",
   "metadata": {},
   "source": [
    "### fitter jaxopt"
   ]
  },
  {
   "cell_type": "code",
   "execution_count": null,
   "id": "f420cae3-8061-461e-97d8-4856a94508fa",
   "metadata": {},
   "outputs": [],
   "source": [
    "from fors2tostellarpopsynthesis.fitters.fitter_jaxopt import (lik_spec,lik_mag,lik_comb,\n",
    "get_infos_spec,get_infos_mag,get_infos_comb)\n",
    "\n",
    "from fors2tostellarpopsynthesis.fitters.fitter_jaxopt import (SSP_DATA,mean_spectrum,mean_mags,mean_sfr,ssp_spectrum_fromparam)"
   ]
  },
  {
   "cell_type": "code",
   "execution_count": null,
   "id": "8564640a-326b-4964-bff7-f1d0791ef53b",
   "metadata": {
    "tags": []
   },
   "outputs": [],
   "source": [
    "from fors2tostellarpopsynthesis.fitters.fitter_util import (plot_fit_ssp_photometry,\n",
    "                          plot_fit_ssp_spectrophotometry,\n",
    "                          plot_fit_ssp_spectrophotometry_sl,\n",
    "                          plot_fit_ssp_spectroscopy, plot_SFH,\n",
    "                          rescale_photometry, rescale_spectroscopy,\n",
    "                          rescale_starlight_inrangefors2)\n"
   ]
  },
  {
   "cell_type": "code",
   "execution_count": null,
   "id": "58ec8e3e-adce-4857-be10-3976c3a248ed",
   "metadata": {},
   "outputs": [],
   "source": [
    "#from dsps.cosmology import DEFAULT_COSMOLOGY, age_at_z"
   ]
  },
  {
   "cell_type": "markdown",
   "id": "3a049233-22bf-448f-88c0-474dfc67f452",
   "metadata": {},
   "source": [
    "## Check filters"
   ]
  },
  {
   "cell_type": "code",
   "execution_count": null,
   "id": "0d243f90-d914-438d-9423-168d2b63adc0",
   "metadata": {},
   "outputs": [],
   "source": [
    "ps = FilterInfo()\n",
    "ps.plot_transmissions()"
   ]
  },
  {
   "cell_type": "markdown",
   "id": "429f63a1-a8fe-425f-9c14-d6ab79384a4f",
   "metadata": {},
   "source": [
    "## Parameters fit"
   ]
  },
  {
   "cell_type": "code",
   "execution_count": null,
   "id": "c08ecd86-774c-436b-8b0c-79a4e40bbf3a",
   "metadata": {
    "tags": []
   },
   "outputs": [],
   "source": [
    "from fors2tostellarpopsynthesis.parameters import SSPParametersFit,paramslist_to_dict"
   ]
  },
  {
   "cell_type": "markdown",
   "id": "cc221d8f-cf90-42a9-b905-55392a399ca3",
   "metadata": {},
   "source": [
    "## Fors2 data"
   ]
  },
  {
   "cell_type": "code",
   "execution_count": null,
   "id": "6d608167-ed34-4581-aad5-1406a3f394b8",
   "metadata": {},
   "outputs": [],
   "source": [
    "fors2 = Fors2DataAcess()"
   ]
  },
  {
   "cell_type": "code",
   "execution_count": null,
   "id": "f09a6da3-9b62-425b-b193-e5a6a77a3dab",
   "metadata": {},
   "outputs": [],
   "source": [
    "fors2.plot_allspectra()"
   ]
  },
  {
   "cell_type": "code",
   "execution_count": null,
   "id": "21474d5c-2896-4226-87c7-5a152ebb7cbf",
   "metadata": {},
   "outputs": [],
   "source": [
    "fors2_tags = fors2.get_list_of_groupkeys()\n",
    "len(fors2_tags)"
   ]
  },
  {
   "cell_type": "code",
   "execution_count": null,
   "id": "c4d132c5-7aca-45e6-8b12-fe36b1cce598",
   "metadata": {},
   "outputs": [],
   "source": [
    "list_of_fors2_attributes = fors2.get_list_subgroup_keys()\n",
    "print(list_of_fors2_attributes)"
   ]
  },
  {
   "cell_type": "markdown",
   "id": "b474095b-531d-45b4-aa69-63f1e09df168",
   "metadata": {},
   "source": [
    "## StarLight data"
   ]
  },
  {
   "cell_type": "code",
   "execution_count": null,
   "id": "0912b601-9edf-47c8-9e64-38d779e76a11",
   "metadata": {},
   "outputs": [],
   "source": [
    "sl = SLDataAcess()"
   ]
  },
  {
   "cell_type": "code",
   "execution_count": null,
   "id": "eb7b1413-65da-47c4-9af7-eb7b37288640",
   "metadata": {},
   "outputs": [],
   "source": [
    "sl.plot_allspectra()"
   ]
  },
  {
   "cell_type": "code",
   "execution_count": null,
   "id": "7efa1b32-c871-4798-b1d2-03c0df467a28",
   "metadata": {},
   "outputs": [],
   "source": [
    "sl_tags = sl.get_list_of_groupkeys()\n",
    "len(sl_tags)"
   ]
  },
  {
   "cell_type": "markdown",
   "id": "547e1cab-c6d2-471d-8efb-c72ddf505863",
   "metadata": {},
   "source": [
    "## Select the range of Spectrum"
   ]
  },
  {
   "cell_type": "code",
   "execution_count": null,
   "id": "ba06389b-bac8-40c3-9845-e6cd194b8f1b",
   "metadata": {
    "tags": []
   },
   "outputs": [],
   "source": [
    "#fors2_nums = np.array([int(re.findall(\"^SPEC(.*)\", specname)[0]) for specname in fors2_tags]) "
   ]
  },
  {
   "cell_type": "code",
   "execution_count": null,
   "id": "6461351f-475a-487d-9ad2-6230082887a4",
   "metadata": {
    "tags": []
   },
   "outputs": [],
   "source": [
    "all_selected_spectrum_tags = fors2_tags[np.arange(105,107)]"
   ]
  },
  {
   "cell_type": "code",
   "execution_count": null,
   "id": "70697812-0173-407d-abea-6bcd0b958caa",
   "metadata": {},
   "outputs": [],
   "source": [
    "all_selected_spectrum_tags"
   ]
  },
  {
   "cell_type": "code",
   "execution_count": null,
   "id": "5fee1204-d414-418c-95fb-39173cb90bb8",
   "metadata": {
    "tags": []
   },
   "outputs": [],
   "source": [
    "for selected_spectrum_tag in all_selected_spectrum_tags:\n",
    "    selected_spectrum_number = int(re.findall(\"^SPEC(.*)\", selected_spectrum_tag)[0])\n",
    "    \n",
    "    \n",
    "    fors2_attr =fors2.getattribdata_fromgroup(selected_spectrum_tag)\n",
    "    z_obs = fors2_attr['redshift']\n",
    "    \n",
    "    title_spec = selected_spectrum_tag + f\" z= {z_obs:.2f}\"\n",
    "\n",
    "    \n",
    "    #retrieve magnitude data\n",
    "    data_mags, data_magserr = fors2.get_photmagnitudes(selected_spectrum_tag)\n",
    "    \n",
    "    # get the Fors2 spectrum\n",
    "    spec_obs = fors2.getspectrumcleanedemissionlines_fromgroup(selected_spectrum_tag)\n",
    "    \n",
    "    Xs = spec_obs['wl']\n",
    "    Ys = spec_obs['fnu']\n",
    "    EYs = spec_obs['bg']\n",
    "    EYs_med = spec_obs['bg_med']\n",
    "    \n",
    "    #convert to restframe\n",
    "    Xspec_data, Yspec_data = convert_flux_torestframe(Xs,Ys,z_obs)\n",
    "    EYspec_data = EYs*(1+z_obs)\n",
    "    EYspec_data_med = EYs_med*(1+z_obs) \n",
    "    # smooth the error over the spectrum\n",
    "    fit_res=gpr.fit(Xspec_data[:, None], EYspec_data )\n",
    "    EYspec_data_sm = gpr.predict(Xspec_data[:, None], return_std=False)\n",
    "    # need to increase error to decrease chi2 error\n",
    "    EYspec_data_sm *=2\n",
    "    \n",
    "    #plot the selected spectrum (IO)\n",
    "    #fors2.plot_spectro_photom_rescaling(selected_spectrum_tag)\n",
    "    \n",
    "    # parameters for fit\n",
    "    p = SSPParametersFit()\n",
    "    \n",
    "    init_params = p.INIT_PARAMS\n",
    "    params_min = p.PARAMS_MIN\n",
    "    params_max = p.PARAMS_MAX\n",
    "\n",
    "    # Choose filters with mags without Nan\n",
    "    NoNaN_mags = np.intersect1d(np.argwhere(~np.isnan(data_mags)).flatten(),np.argwhere(~np.isnan(data_magserr)).flatten())\n",
    "    # selected indexes for filters\n",
    "    index_selected_filters = NoNaN_mags\n",
    "\n",
    "    if FLAG_REMOVE_GALEX:\n",
    "        galex_indexes = np.array([0,1])\n",
    "        index_selected_filters = np.setdiff1d(index_selected_filters,galex_indexes)\n",
    "    elif FLAG_REMOVE_GALEX_FUV:\n",
    "        galex_indexes = np.array([0])\n",
    "        index_selected_filters = np.setdiff1d(index_selected_filters,galex_indexes)    \n",
    "        \n",
    "    \n",
    "    # Select filters\n",
    "    XF = ps.get_2lists()\n",
    "    NF = len(XF[0])\n",
    "    list_wls_f_sel = []\n",
    "    list_trans_f_sel = []\n",
    "\n",
    "    list_name_f_sel = []\n",
    "    list_wlmean_f_sel = []\n",
    "\n",
    "    for index in index_selected_filters:\n",
    "        list_wls_f_sel.append(XF[0][index])\n",
    "        list_trans_f_sel.append(XF[1][index])\n",
    "        the_filt = ps.filters_transmissionlist[index]\n",
    "        the_wlmean = the_filt.wave_mean\n",
    "        list_wlmean_f_sel.append(the_wlmean)\n",
    "        list_name_f_sel.append(ps.filters_namelist[index])\n",
    "    \n",
    "    list_wlmean_f_sel = jnp.array(list_wlmean_f_sel)\n",
    "    Xf_sel = (list_wls_f_sel,list_trans_f_sel)\n",
    "    \n",
    "    # get the magnitudes and magnitude errors\n",
    "    data_selected_mags =  jnp.array(data_mags[index_selected_filters])\n",
    "    data_selected_magserr = jnp.array(data_magserr[index_selected_filters])\n",
    "    \n",
    "    #fit with magnitudes only\n",
    "    lbfgsb = jaxopt.ScipyBoundedMinimize(fun=lik_mag, method=\"L-BFGS-B\")\n",
    "\n",
    "    res_m = lbfgsb.run(init_params, bounds=(params_min ,params_max ), xf = Xf_sel, mags_measured = data_selected_mags, sigma_mag_obs = data_selected_magserr,z_obs=z_obs)\n",
    "    params_m,fun_min_m,jacob_min_m,inv_hessian_min_m = get_infos_mag(res_m, lik_mag,  xf = Xf_sel, mgs = data_selected_mags, mgse = data_selected_magserr,z_obs=z_obs)\n",
    "    print(\"params:\",params_m,\"\\nfun@min:\",fun_min_m,\"\\njacob@min:\",jacob_min_m)\n",
    "    \n",
    "    \n",
    "    # Convert fitted parameters into a dictionnary\n",
    "    dict_params_m = paramslist_to_dict( params_m,p.PARAM_NAMES_FLAT) \n",
    "    \n",
    "    # rescale photometry datapoints\n",
    "    xphot_rest,yphot_rest,eyphot_rest,factor = rescale_photometry(dict_params_m,list_wlmean_f_sel,data_selected_mags,data_selected_magserr,z_obs)\n",
    "    \n",
    "    \n",
    "    # plot model with photometry\n",
    "    plot_fit_ssp_photometry(dict_params_m,list_wlmean_f_sel,data_selected_mags,data_selected_magserr,z_obs, subtit = title_spec ,ax=None)\n",
    "    \n",
    "    #rescale Fors2 spectroscopy\n",
    "    Xspec_data_rest,Yspec_data_rest,EYspec_data_rest,factor = rescale_spectroscopy(dict_params_m,Xspec_data,Yspec_data,EYspec_data,z_obs)\n",
    "    \n",
    "    # fit spectroscopy\n",
    "    lbfgsb = jaxopt.ScipyBoundedMinimize(fun=lik_spec, method=\"L-BFGS-B\")\n",
    "    res_s = lbfgsb.run(init_params, bounds=(params_min ,params_max ), wls=Xspec_data_rest, F=Yspec_data_rest, sigma_obs = EYspec_data_rest,z_obs=z_obs)\n",
    "    params_s,fun_min_s,jacob_min_s,inv_hessian_min_s = get_infos_spec(res_s, lik_spec, wls=Xspec_data, F=Yspec_data,eF=EYspec_data,z_obs=z_obs)\n",
    "    print(\"params:\",params_s,\"\\nfun@min:\",fun_min_s,\"\\njacob@min:\",jacob_min_s)\n",
    "  \n",
    "\n",
    "    # Convert fitted parameters with spectroscopy into a dictionnary\n",
    "    dict_params_s = paramslist_to_dict( params_s,p.PARAM_NAMES_FLAT) \n",
    "    \n",
    "    # plot fit for spectroscopy only\n",
    "    plot_fit_ssp_spectroscopy(dict_params_s,Xspec_data_rest,Yspec_data_rest,EYspec_data_rest,z_obs,subtit = title_spec)\n",
    "    \n",
    "    \n",
    "    # combining spectro and photometry\n",
    "    Xc = [Xspec_data_rest, Xf_sel]\n",
    "    Yc = [Yspec_data_rest,  data_selected_mags ]\n",
    "    EYc = [EYspec_data_rest, data_selected_magserr]\n",
    "    weight_spec = 0.5\n",
    "    Ns = len(Yspec_data_rest)\n",
    "    Nm = len(data_selected_mags)\n",
    "    Nc = Ns+Nm\n",
    "    \n",
    "    # do the combined fit\n",
    "    lbfgsb = jaxopt.ScipyBoundedMinimize(fun=lik_comb, method=\"L-BFGS-B\")\n",
    "    res_c = lbfgsb.run(init_params, bounds=(params_min ,params_max ), xc=Xc, datac=Yc,sigmac=EYc,z_obs=z_obs,weight=weight_spec)\n",
    "    params_c,fun_min_c,jacob_min_c,inv_hessian_min_c = get_infos_comb(res_c, lik_comb, xc=Xc, datac=Yc,sigmac=EYc,z_obs=z_obs,weight=weight_spec)\n",
    "    print(\"params_c:\",params_c,\"\\nfun@min:\",fun_min_c,\"\\njacob@min:\",jacob_min_c)\n",
    "    #      ,\"\\n invH@min:\",inv_hessian_min_c)\n",
    "    params_cm,fun_min_cm,jacob_min_cm,inv_hessian_min_cm  = get_infos_mag(res_c, lik_mag,  xf = Xf_sel, mgs = data_selected_mags, mgse = data_selected_magserr,z_obs=z_obs)\n",
    "    print(\"params_cm:\",params_cm,\"\\nfun@min:\",fun_min_cm,\"\\njacob@min:\",jacob_min_cm)\n",
    "    params_cs,fun_min_cs,jacob_min_cs,inv_hessian_min_cs = get_infos_spec(res_c, lik_spec, wls=Xspec_data_rest, F=Yspec_data_rest,eF=EYspec_data_rest,z_obs=z_obs)\n",
    "    print(\"params_cs:\",params_cs,\"\\nfun@min:\",fun_min_cs,\"\\njacob@min:\",jacob_min_cs)\n",
    "\n",
    "    #dict_to_save\n",
    "    dict_out = OrderedDict()\n",
    "    dict_out[\"fors2name\"] = selected_spectrum_tag\n",
    "    dict_out[\"zobs\"] = z_obs\n",
    "    dict_out[\"Nc\"]   = Nc\n",
    "    dict_out[\"Ns\"]   = Ns\n",
    "    dict_out[\"Nm\"]   = Nm\n",
    "    dict_out[\"funcmin_c\"] = fun_min_c\n",
    "    dict_out[\"funcmin_m\"] = fun_min_cm\n",
    "    dict_out[\"funcmin_s\"] = fun_min_cs\n",
    "       \n",
    "    # convert into a dictionnary\n",
    "    dict_params_c = paramslist_to_dict( params_c,p.PARAM_NAMES_FLAT) \n",
    "    \n",
    "    dict_out.update(dict_params_c)\n",
    "        \n",
    "    # plot the combined fit\n",
    "    plot_fit_ssp_spectrophotometry(dict_params_c ,Xspec_data_rest,Yspec_data_rest,EYspec_data_rest,xphot_rest,yphot_rest,eyphot_rest,z_obs=z_obs,subtit = title_spec )\n",
    "    \n",
    "    #load starlight spectrum\n",
    "    dict_sl = sl.getspectrum_fromgroup(selected_spectrum_tag)\n",
    "    # rescale starlight spectrum\n",
    "    w_sl ,fnu_sl , _ = rescale_starlight_inrangefors2(dict_sl[\"wl\"],dict_sl[\"fnu\"],Xspec_data_rest,Yspec_data_rest )\n",
    "    \n",
    "    # plot starlight\n",
    "    plot_fit_ssp_spectrophotometry_sl(dict_params_c ,Xspec_data_rest,Yspec_data_rest,EYspec_data_rest,xphot_rest,yphot_rest,eyphot_rest,w_sl,fnu_sl,z_obs=z_obs,subtit = title_spec)\n",
    "    \n",
    "    # plot SFR\n",
    "    plot_SFH(dict_params_c,z_obs,subtit = title_spec , ax=None)\n",
    "    \n",
    "    #save parameters\n",
    "    filename_params = f\"fitparams_{selected_spectrum_tag}.pickle\"\n",
    "    with open(filename_params, 'wb') as f:\n",
    "        print(dict_out)\n",
    "        pickle.dump(dict_out, f)\n",
    "    "
   ]
  },
  {
   "cell_type": "code",
   "execution_count": null,
   "id": "0d03bea3-cb31-4755-aa15-8f6633df845d",
   "metadata": {
    "tags": []
   },
   "outputs": [],
   "source": [
    "print(\"The End\")"
   ]
  }
 ],
 "metadata": {
  "kernelspec": {
   "display_name": "conda_jaxcpu_dsps_py310",
   "language": "python",
   "name": "conda_jaxcpu_dsps_py310"
  },
  "language_info": {
   "codemirror_mode": {
    "name": "ipython",
    "version": 3
   },
   "file_extension": ".py",
   "mimetype": "text/x-python",
   "name": "python",
   "nbconvert_exporter": "python",
   "pygments_lexer": "ipython3",
   "version": "3.10.13"
  }
 },
 "nbformat": 4,
 "nbformat_minor": 5
}
