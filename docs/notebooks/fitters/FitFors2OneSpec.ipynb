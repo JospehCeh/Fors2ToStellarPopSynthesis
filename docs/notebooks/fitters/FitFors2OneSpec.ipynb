{
 "cells": [
  {
   "cell_type": "markdown",
   "id": "a688fc59-ac88-4641-9129-6264f8679cc1",
   "metadata": {},
   "source": [
    "# Fit Single Fors2 Spectrum and Photometry with DSPS"
   ]
  },
  {
   "cell_type": "markdown",
   "id": "e49b0180-5793-49ae-87a0-e998bea32689",
   "metadata": {},
   "source": [
    "Implement this fit using this `fors2tostellarpopsynthesis`package\n",
    "\n",
    "- Author Sylvie Dagoret-Campagne\n",
    "- Afflilation : IJCLab/IN2P3/CNRS\n",
    "- Organisation : LSST-DESC\n",
    "- creation date : 2023-11-21\n",
    "- last update : 2023-11-22\n"
   ]
  },
  {
   "cell_type": "markdown",
   "id": "e7373f4c-496c-4116-b1d4-bb0bec0f59c4",
   "metadata": {},
   "source": [
    "## Import"
   ]
  },
  {
   "cell_type": "code",
   "execution_count": null,
   "id": "3081db6d-2b62-4701-9879-d638bd5db85f",
   "metadata": {},
   "outputs": [],
   "source": [
    "import h5py\n",
    "import pandas as pd\n",
    "import numpy as np\n",
    "import os\n",
    "import re\n",
    "import pickle \n",
    "import matplotlib as mpl\n",
    "import matplotlib.pyplot as plt\n",
    "%matplotlib inline\n",
    "import matplotlib.colors as colors\n",
    "import matplotlib.cm as cmx\n",
    "import collections\n",
    "from collections import OrderedDict\n",
    "import re\n",
    "import matplotlib.gridspec as gridspec\n",
    "from sklearn.gaussian_process import GaussianProcessRegressor, kernels"
   ]
  },
  {
   "cell_type": "code",
   "execution_count": null,
   "id": "c20e98ab-b268-4fb0-86e4-2897fcc200d9",
   "metadata": {},
   "outputs": [],
   "source": [
    "import jax\n",
    "import jax.numpy as jnp\n",
    "from jax import vmap\n",
    "import jaxopt\n",
    "import optax\n",
    "jax.config.update(\"jax_enable_x64\", True)\n",
    "from interpax import interp1d"
   ]
  },
  {
   "cell_type": "code",
   "execution_count": null,
   "id": "e0a10a65-7027-48d4-8f38-5fd31c119dbe",
   "metadata": {},
   "outputs": [],
   "source": [
    "plt.rcParams[\"figure.figsize\"] = (12,6)\n",
    "plt.rcParams[\"axes.labelsize\"] = 'xx-large'\n",
    "plt.rcParams['axes.titlesize'] = 'xx-large'\n",
    "plt.rcParams['xtick.labelsize']= 'xx-large'\n",
    "plt.rcParams['ytick.labelsize']= 'xx-large'\n",
    "plt.rcParams['legend.fontsize']=  16"
   ]
  },
  {
   "cell_type": "markdown",
   "id": "68fd356d-2ec7-4c49-a27b-9442e331b754",
   "metadata": {},
   "source": [
    "### Filters"
   ]
  },
  {
   "cell_type": "code",
   "execution_count": null,
   "id": "2ab9bf3f-0e9d-4778-b3fa-748879da738c",
   "metadata": {},
   "outputs": [],
   "source": [
    "from fors2tostellarpopsynthesis.filters import FilterInfo"
   ]
  },
  {
   "cell_type": "markdown",
   "id": "2f51644e-9599-4646-9ed9-f7fafa2d7962",
   "metadata": {},
   "source": [
    "### Fors2 and Starlight"
   ]
  },
  {
   "cell_type": "code",
   "execution_count": null,
   "id": "be610061-e204-4210-82aa-38edc32e2f6c",
   "metadata": {},
   "outputs": [],
   "source": [
    "from fors2tostellarpopsynthesis.fors2starlightio import Fors2DataAcess, SLDataAcess,convert_flux_torestframe,gpr"
   ]
  },
  {
   "cell_type": "markdown",
   "id": "aae04981-ec66-4457-bd27-fef621b141dc",
   "metadata": {},
   "source": [
    "### fitter jaxopt"
   ]
  },
  {
   "cell_type": "code",
   "execution_count": null,
   "id": "f420cae3-8061-461e-97d8-4856a94508fa",
   "metadata": {},
   "outputs": [],
   "source": [
    "from fors2tostellarpopsynthesis.fitters.fitter_jaxopt import (lik_spec,lik_mag,lik_comb,\n",
    "get_infos_spec,get_infos_mag,get_infos_comb)\n",
    "\n",
    "from fors2tostellarpopsynthesis.fitters.fitter_jaxopt import (SSP_DATA,mean_spectrum,mean_mags,mean_sfr,ssp_spectrum_fromparam)"
   ]
  },
  {
   "cell_type": "markdown",
   "id": "3a049233-22bf-448f-88c0-474dfc67f452",
   "metadata": {},
   "source": [
    "## Check filters"
   ]
  },
  {
   "cell_type": "code",
   "execution_count": null,
   "id": "0d243f90-d914-438d-9423-168d2b63adc0",
   "metadata": {},
   "outputs": [],
   "source": [
    "ps = FilterInfo()\n",
    "ps.plot_transmissions()"
   ]
  },
  {
   "cell_type": "markdown",
   "id": "cc221d8f-cf90-42a9-b905-55392a399ca3",
   "metadata": {},
   "source": [
    "## Fors2 data"
   ]
  },
  {
   "cell_type": "code",
   "execution_count": null,
   "id": "6d608167-ed34-4581-aad5-1406a3f394b8",
   "metadata": {},
   "outputs": [],
   "source": [
    "fors2 = Fors2DataAcess()"
   ]
  },
  {
   "cell_type": "code",
   "execution_count": null,
   "id": "f09a6da3-9b62-425b-b193-e5a6a77a3dab",
   "metadata": {},
   "outputs": [],
   "source": [
    "fors2.plot_allspectra()"
   ]
  },
  {
   "cell_type": "code",
   "execution_count": null,
   "id": "21474d5c-2896-4226-87c7-5a152ebb7cbf",
   "metadata": {},
   "outputs": [],
   "source": [
    "fors2_tags = fors2.get_list_of_groupkeys()\n",
    "len(fors2_tags)"
   ]
  },
  {
   "cell_type": "code",
   "execution_count": null,
   "id": "c4d132c5-7aca-45e6-8b12-fe36b1cce598",
   "metadata": {},
   "outputs": [],
   "source": [
    "list_of_fors2_attributes = fors2.get_list_subgroup_keys()\n",
    "print(list_of_fors2_attributes)"
   ]
  },
  {
   "cell_type": "markdown",
   "id": "b474095b-531d-45b4-aa69-63f1e09df168",
   "metadata": {},
   "source": [
    "## StarLight data"
   ]
  },
  {
   "cell_type": "code",
   "execution_count": null,
   "id": "0912b601-9edf-47c8-9e64-38d779e76a11",
   "metadata": {},
   "outputs": [],
   "source": [
    "sl = SLDataAcess()"
   ]
  },
  {
   "cell_type": "code",
   "execution_count": null,
   "id": "eb7b1413-65da-47c4-9af7-eb7b37288640",
   "metadata": {},
   "outputs": [],
   "source": [
    "sl.plot_allspectra()"
   ]
  },
  {
   "cell_type": "code",
   "execution_count": null,
   "id": "7efa1b32-c871-4798-b1d2-03c0df467a28",
   "metadata": {},
   "outputs": [],
   "source": [
    "sl_tags = sl.get_list_of_groupkeys()\n",
    "len(sl_tags)"
   ]
  },
  {
   "cell_type": "markdown",
   "id": "547e1cab-c6d2-471d-8efb-c72ddf505863",
   "metadata": {},
   "source": [
    "## Select Spectrum"
   ]
  },
  {
   "cell_type": "code",
   "execution_count": null,
   "id": "32e04edf-7dc2-4ff8-93da-0269269373bc",
   "metadata": {},
   "outputs": [],
   "source": [
    "#selected_spectrum_number = 411\n",
    "selected_spectrum_number = 560\n",
    "selected_spectrum_tag = f\"SPEC{selected_spectrum_number}\""
   ]
  },
  {
   "cell_type": "code",
   "execution_count": null,
   "id": "7545ec6c-c694-45fa-9959-581f3d9e1128",
   "metadata": {},
   "outputs": [],
   "source": [
    "fors2_attr =fors2.getattribdata_fromgroup(selected_spectrum_tag)\n",
    "z_obs = fors2_attr['redshift']"
   ]
  },
  {
   "cell_type": "markdown",
   "id": "97c7b2c9-f447-4574-9c91-d9dd803d72cd",
   "metadata": {},
   "source": [
    "### Get magnitude data"
   ]
  },
  {
   "cell_type": "code",
   "execution_count": null,
   "id": "5ee266c1-2a67-41d7-8d8c-bd488632edc7",
   "metadata": {},
   "outputs": [],
   "source": [
    "data_mags, data_magserr = fors2.get_photmagnitudes(selected_spectrum_tag)"
   ]
  },
  {
   "cell_type": "markdown",
   "id": "fefea630-9493-41ba-8519-d05825946e87",
   "metadata": {},
   "source": [
    "### Get Fors2 spectrum in rest-frame"
   ]
  },
  {
   "cell_type": "code",
   "execution_count": null,
   "id": "b25945e0-4d2c-4608-8eaf-bc69d478877e",
   "metadata": {},
   "outputs": [],
   "source": [
    "spec_obs = fors2.getspectrumcleanedemissionlines_fromgroup(selected_spectrum_tag)"
   ]
  },
  {
   "cell_type": "code",
   "execution_count": null,
   "id": "b038cad9-1b06-490c-9835-03dde5b9f2aa",
   "metadata": {},
   "outputs": [],
   "source": [
    "spec_obs"
   ]
  },
  {
   "cell_type": "code",
   "execution_count": null,
   "id": "96be52a9-73fe-4c42-942f-5fdf26c7c98b",
   "metadata": {},
   "outputs": [],
   "source": [
    "Xs = spec_obs['wl']\n",
    "Ys = spec_obs['fnu']\n",
    "EYs = spec_obs['bg']\n",
    "EYs_med = spec_obs['bg_med']\n",
    "flmin_obs = spec_obs['fnu']-spec_obs['bg']\n",
    "flmax_obs = spec_obs['fnu']+spec_obs['bg']"
   ]
  },
  {
   "cell_type": "markdown",
   "id": "ee5b06b8-9ebd-429e-a409-905bbaa95333",
   "metadata": {},
   "source": [
    "#### Convert to restframe"
   ]
  },
  {
   "cell_type": "code",
   "execution_count": null,
   "id": "8381555a-dbbe-485c-b1b2-6d9e14eeb29a",
   "metadata": {},
   "outputs": [],
   "source": [
    "Xspec_data, Yspec_data = convert_flux_torestframe(Xs,Ys,z_obs)\n",
    "EYspec_data = EYs*(1+z_obs)\n",
    "EYspec_data_med = EYs_med*(1+z_obs) "
   ]
  },
  {
   "cell_type": "code",
   "execution_count": null,
   "id": "bf3e360b-ed50-4e1c-800b-a870fcfbb1cc",
   "metadata": {},
   "outputs": [],
   "source": [
    "flmin_rest = Yspec_data - EYspec_data\n",
    "flmax_rest= Yspec_data + EYspec_data"
   ]
  },
  {
   "cell_type": "code",
   "execution_count": null,
   "id": "fe0ef068-87fb-474f-bac4-85eb24b299cf",
   "metadata": {},
   "outputs": [],
   "source": [
    "title_spec = selected_spectrum_tag + f\" z= {z_obs:.2f}\"\n",
    "_,axs = plt.subplots(2,1,figsize=(10,6))\n",
    "\n",
    "ax1=axs[0]\n",
    "ax1.plot(Xs,Ys,'-b',label=\"obs frame\")\n",
    "ax1.fill_between(Xs,flmin_obs,flmax_obs, facecolor='lightgrey', edgecolors=\"None\")\n",
    "\n",
    "ax1.plot(Xspec_data,Yspec_data ,'-r',label=\"rest frame\")\n",
    "ax1.fill_between(Xspec_data,flmin_rest,flmax_rest, facecolor='lightgrey', edgecolors=\"None\")\n",
    "ax1.legend()\n",
    "ax1.set_title(title_spec)\n",
    "ax1.set_xlabel(\"$\\lambda (\\\\AA)$\")\n",
    "ax1.grid()\n",
    "\n",
    "ax2=axs[1]\n",
    "\n",
    "ax2.plot(Xs,EYs,'-b',label=\"obs frame\")\n",
    "ax2.axhline(EYs_med,color=\"b\")\n",
    "ax2.plot(Xspec_data,EYspec_data ,'-r',label=\"rest frame\")\n",
    "ax2.axhline(EYspec_data_med,color=\"r\")\n",
    "ax2.set_xlabel(\"$\\lambda (\\\\AA)$\")\n",
    "ax2.grid()"
   ]
  },
  {
   "cell_type": "code",
   "execution_count": null,
   "id": "95b68547-4a0c-46c7-b598-3d1bf38b6861",
   "metadata": {},
   "outputs": [],
   "source": [
    "fors2.plot_spectro_photom_rescaling(selected_spectrum_tag)"
   ]
  },
  {
   "cell_type": "markdown",
   "id": "42ce87d7-3452-4b1d-9114-dd38a5adc316",
   "metadata": {},
   "source": [
    "## Parameters"
   ]
  },
  {
   "cell_type": "code",
   "execution_count": null,
   "id": "3c5e0f6f-b53b-46c9-b84d-24afc92c2393",
   "metadata": {},
   "outputs": [],
   "source": [
    "from fors2tostellarpopsynthesis.parameters import SSPParametersFit,paramslist_to_dict"
   ]
  },
  {
   "cell_type": "code",
   "execution_count": null,
   "id": "eb5893bd-645c-4b6a-b9a4-f0b0392b90b9",
   "metadata": {},
   "outputs": [],
   "source": [
    "p = SSPParametersFit()"
   ]
  },
  {
   "cell_type": "code",
   "execution_count": null,
   "id": "b9c17c25-2727-4084-8665-c92cc6fcf85f",
   "metadata": {},
   "outputs": [],
   "source": [
    "print(p)"
   ]
  },
  {
   "cell_type": "code",
   "execution_count": null,
   "id": "b19c9706-c1e5-41f8-aa67-18da113078fe",
   "metadata": {},
   "outputs": [],
   "source": [
    "p.DICT_PARAMS_true"
   ]
  },
  {
   "cell_type": "code",
   "execution_count": null,
   "id": "20125fd6-ad08-446c-ae1c-28bc576f0832",
   "metadata": {},
   "outputs": [],
   "source": [
    "init_params = p.INIT_PARAMS\n",
    "params_min = p.PARAMS_MIN\n",
    "params_max = p.PARAMS_MAX"
   ]
  },
  {
   "cell_type": "markdown",
   "id": "535eb28f-ec4f-46fd-bd5c-efd9805d9c1a",
   "metadata": {},
   "source": [
    "# Select filters"
   ]
  },
  {
   "cell_type": "code",
   "execution_count": null,
   "id": "aec2b6f4-5a65-4912-9478-30b30c858cf5",
   "metadata": {},
   "outputs": [],
   "source": [
    "print(ps.filters_indexlist) \n",
    "print(ps.filters_surveylist)\n",
    "print(ps.filters_namelist)"
   ]
  },
  {
   "cell_type": "markdown",
   "id": "31abdd5c-8003-481c-b34c-fbac6692c22b",
   "metadata": {},
   "source": [
    "### Choose the index of the filters"
   ]
  },
  {
   "cell_type": "code",
   "execution_count": null,
   "id": "4d647814-37c7-4b35-b4d5-4442445d704f",
   "metadata": {},
   "outputs": [],
   "source": [
    "#data_mags, data_magserr"
   ]
  },
  {
   "cell_type": "code",
   "execution_count": null,
   "id": "85d1ddf1-0901-4247-b170-d2351e636eaf",
   "metadata": {},
   "outputs": [],
   "source": [
    "index_selected_filters = np.arange(1,11)\n",
    "index_selected_filters"
   ]
  },
  {
   "cell_type": "code",
   "execution_count": null,
   "id": "35dffd59-862d-471c-8206-c4b7e388913d",
   "metadata": {},
   "outputs": [],
   "source": [
    "XF = ps.get_2lists()\n",
    "NF = len(XF[0])"
   ]
  },
  {
   "cell_type": "code",
   "execution_count": null,
   "id": "93549d4e-384e-42a9-b4cf-4bcf17e266d4",
   "metadata": {},
   "outputs": [],
   "source": [
    "list_wls_f_sel = []\n",
    "list_trans_f_sel = []\n",
    "\n",
    "list_name_f_sel = []\n",
    "list_wlmean_f_sel = []\n",
    "\n",
    "for index in index_selected_filters:\n",
    "    list_wls_f_sel.append(XF[0][index])\n",
    "    list_trans_f_sel.append(XF[1][index])\n",
    "    the_filt = ps.filters_transmissionlist[index]\n",
    "    the_wlmean = the_filt.wave_mean\n",
    "    list_wlmean_f_sel.append(the_wlmean)\n",
    "    list_name_f_sel.append(ps.filters_namelist[index])\n",
    "    \n",
    "list_wlmean_f_sel = jnp.array(list_wlmean_f_sel) "
   ]
  },
  {
   "cell_type": "code",
   "execution_count": null,
   "id": "ccc940ec-5147-4ca6-944b-8f757d1339ed",
   "metadata": {},
   "outputs": [],
   "source": [
    "Xf_sel = (list_wls_f_sel,list_trans_f_sel)"
   ]
  },
  {
   "cell_type": "code",
   "execution_count": null,
   "id": "42542dd8-0dc8-49d4-a8a8-6f161b9ac04e",
   "metadata": {},
   "outputs": [],
   "source": [
    "#mags_predictions = jax.tree_map(lambda x,y : calc_obs_mag(ssp_data.ssp_wave, sed_attenuated,x,y,z_obs, *DEFAULT_COSMOLOGY),list_wls_f_sel,list_trans_f_sel)"
   ]
  },
  {
   "cell_type": "code",
   "execution_count": null,
   "id": "7d7dd301-9c66-4e22-b67c-387dbceb9dfc",
   "metadata": {},
   "outputs": [],
   "source": [
    "data_selected_mags =  jnp.array(data_mags[index_selected_filters])\n",
    "data_selected_magserr = jnp.array(data_magserr[index_selected_filters])"
   ]
  },
  {
   "cell_type": "code",
   "execution_count": null,
   "id": "00fd0ebd-b063-424c-8a1c-d1df2d814a00",
   "metadata": {},
   "outputs": [],
   "source": [
    "data_selected_mags"
   ]
  },
  {
   "cell_type": "code",
   "execution_count": null,
   "id": "f279b6fc-5178-4df1-9e47-1d95b729411a",
   "metadata": {},
   "outputs": [],
   "source": [
    "data_selected_magserr"
   ]
  },
  {
   "cell_type": "markdown",
   "id": "70d71f68-181d-4e6d-aaa3-14e3d17b1f88",
   "metadata": {},
   "source": [
    "## Fits"
   ]
  },
  {
   "cell_type": "markdown",
   "id": "c2e03ba7-51f5-4026-857a-8dfdb0234f7b",
   "metadata": {},
   "source": [
    "### Fit with magnitudes only\n",
    "\n",
    "The magnitudes associated to the Fors2 spectrum allow to set the SED-Mass scale, thus the\n",
    "flux scale. The following code do the fit on photometry by calling the jaxopt optimisation. "
   ]
  },
  {
   "cell_type": "code",
   "execution_count": null,
   "id": "80b0d390-d232-4adc-ae47-ff2c1c9e27cc",
   "metadata": {},
   "outputs": [],
   "source": [
    "\n",
    "lbfgsb = jaxopt.ScipyBoundedMinimize(fun=lik_mag, method=\"L-BFGS-B\")\n",
    "\n",
    "res_m = lbfgsb.run(init_params, bounds=(params_min ,params_max ), xf = Xf_sel, mags_measured = data_selected_mags, sigma_mag_obs = data_selected_magserr,z_obs=z_obs)\n",
    "params_m,fun_min_m,jacob_min_m,inv_hessian_min_m = get_infos_mag(res_m, lik_mag,  xf = Xf_sel, mgs = data_selected_mags, mgse = data_selected_magserr,z_obs=z_obs)\n",
    "print(\"params:\",params_m,\"\\nfun@min:\",fun_min_m,\"\\njacob@min:\",jacob_min_m)\n",
    "#      ,\\n invH@min:\",inv_hessian_min_m)"
   ]
  },
  {
   "cell_type": "code",
   "execution_count": null,
   "id": "cb105e02-b04a-4a69-9f25-43be2e9bb7ab",
   "metadata": {},
   "outputs": [],
   "source": [
    "# Convert fitted parameters into a dictionnary\n",
    "dict_params_m = paramslist_to_dict( params_m,p.PARAM_NAMES_FLAT) "
   ]
  },
  {
   "cell_type": "code",
   "execution_count": null,
   "id": "924368a2-82b3-4559-96f0-eeed3c5b88c0",
   "metadata": {},
   "outputs": [],
   "source": [
    "#mfluxes = vmap(lambda x : jnp.power(10.,-0.4*x), in_axes=0)(data_selected_mags)\n",
    "#emfluxes = vmap(lambda x,y : jnp.power(10.,-0.4*x)*y)(data_selected_mags, data_selected_magserr)"
   ]
  },
  {
   "cell_type": "code",
   "execution_count": null,
   "id": "7f0bfdfc-21b3-4115-ac9f-4b94eb454c50",
   "metadata": {},
   "outputs": [],
   "source": [
    "def rescale_photometry(params,wls,mags,errmags,z_obs):\n",
    "    \"\"\"\n",
    "    Rescale photometric data points from observation frame onto SED fnu scale in restframe\n",
    "    for plotting on the same axis the phtometry and the SED\n",
    "    :param params: fitted parameters\n",
    "    :type params: dictionnary of parameters\n",
    "    :param wls: central wavelength of photometric observation filters\n",
    "    :type wls: jax array of floats\n",
    "    :param mags: selected magnitudes used for the fit (usually AB magnitudes)\n",
    "    :type mags: jax array of floats\n",
    "    :param errmags: errors on magnitudes (usually AB magnitudes)\n",
    "    :type errmags: jax array of floats\n",
    "    :param z_obs: redshift of observed galaxy object\n",
    "    :type z_obs: float\n",
    "    :return: wavelengths, rescaled fluxes and errors and scaling factor of phtometric data\n",
    "    :rtype: 3 jax arrays of floats and a float\n",
    "    \"\"\"\n",
    "    # transform magnitudes into fluxes\n",
    "    fluxes = vmap(lambda x : jnp.power(10.,-0.4*x), in_axes=0)(mags)\n",
    "    efluxes = vmap(lambda x,y : jnp.power(10.,-0.4*x)*y)(mags, errmags)\n",
    "\n",
    "    # transform from observation frame to restframe\n",
    "    wls_rest = wls/(1.+z_obs)\n",
    "    fluxes *= (1.+z_obs)\n",
    "    efluxes *= (1.+z_obs)\n",
    "\n",
    "    # calculate the SED model from the parameters\n",
    "    x,y_nodust,y_dust = ssp_spectrum_fromparam(params,z_obs)\n",
    "\n",
    "    # calculate the scaling factor for photometric points\n",
    "    flux_pred = interp1d(wls_rest,x,y_dust)\n",
    "    scaling_factor =  jnp.mean(flux_pred/fluxes)\n",
    "\n",
    "    return wls_rest,  fluxes*scaling_factor,  efluxes*scaling_factor, scaling_factor \n",
    "    "
   ]
  },
  {
   "cell_type": "code",
   "execution_count": null,
   "id": "fdf5a23b-214e-4ae8-bc34-8016a2dcf569",
   "metadata": {},
   "outputs": [],
   "source": [
    "xphot_rest,yphot_rest,eyphot_rest,factor = rescale_photometry(dict_params_m,list_wlmean_f_sel,data_selected_mags,data_selected_magserr,z_obs)"
   ]
  },
  {
   "cell_type": "code",
   "execution_count": null,
   "id": "3228d775-4760-43e7-b72b-9a610873d95a",
   "metadata": {},
   "outputs": [],
   "source": [
    "def plot_fit_ssp_photometry(params,wls,mags,errmags,z_obs,ax=None,subtit = title_spec):\n",
    "    \"\"\"\n",
    "    Plot SSP model fitted and photometric data points. Photometric data point are rescaled\n",
    "    from observation frame to rest-frame.\n",
    "\n",
    "    :param params:fitted parameters\n",
    "    :type params:dictionnary of parameters\n",
    "    :param wls:central wavelength of photometric observation filters\n",
    "    :type wls: jax array of floats\n",
    "    :param mags: selected magnitudes used for the fit (usually AB magnitudes)\n",
    "    :type mags: jax array of floats\n",
    "    :param errmags: errors on magnitudes (usually AB magnitudes)\n",
    "    :type errmags:jax array of floats\n",
    "    :param z_obs: redshift of observed galaxy object\n",
    "    :type z_obs: float\n",
    "    :param ax: matplotlib axis to plot the figure, default None\n",
    "    :type ax: matplotlib axis\n",
    "    :param subtit: info on the photometric data on the corresponding spectrum\n",
    "    :type subtitle: str\n",
    "    :return: plot the figure\n",
    "    :rtype: None\n",
    "    \"\"\"\n",
    "    # Compute the SED from the fitted model\n",
    "    x,y_nodust,y_dust = ssp_spectrum_fromparam(params,z_obs)\n",
    "\n",
    "    if ax is None:\n",
    "        _, ax = plt.subplots(1, 1)\n",
    "    __= ax.set_yscale('log') \n",
    "    __= ax.set_xscale('log') \n",
    "\n",
    "    # plot model with/without dust\n",
    "    ax.plot(x,y_dust,'-',color='green',lw=1,label=\"fitted DSPS model with dust\")\n",
    "    ax.plot(x,y_nodust,'-',color='red',lw=1,label=\"fitted DSPS model no dust\")\n",
    "\n",
    "    # rescale photometric data-points from observation frame to rest frame\n",
    "    xphot,yphot,eyphot,factor = rescale_photometry(params,wls,mags,errmags,z_obs)\n",
    "\n",
    "    # plot photometric data-points\n",
    "    label = \"Photometry for \" + subtit\n",
    "    ax.errorbar( xphot , yphot, yerr=eyphot, marker='o', color=\"black\",ecolor=\"black\",markersize=8,lw=2,label=label)\n",
    "\n",
    "    title = \"SED $L_\\\\nu$ with and without dust and rescaled photometry (rest frame)\"\n",
    "    ax.set_title(title)\n",
    "    ax.legend(loc=\"lower right\")\n",
    "    ax.set_xlabel(\"$\\lambda (\\\\AA)$\")\n",
    "    ax.set_ylabel(\"$L_\\\\nu(\\lambda)$ (AB units - maggies\")\n",
    "\n",
    "    ymax = y_nodust.max()\n",
    "    ylim_max = ymax*5.\n",
    "    ylim_min = ymax/0.5e4\n",
    "\n",
    "    __= ax.set_xlim(1e3,1e6)\n",
    "    __= ax.set_ylim(ylim_min ,ylim_max )\n",
    "    \n",
    "    ax.grid()"
   ]
  },
  {
   "cell_type": "code",
   "execution_count": null,
   "id": "abee054f-61af-44aa-ab3c-b132073812f0",
   "metadata": {},
   "outputs": [],
   "source": [
    "plot_fit_ssp_photometry(dict_params_m,list_wlmean_f_sel,data_selected_mags,data_selected_magserr,z_obs, ax=None)"
   ]
  },
  {
   "cell_type": "markdown",
   "id": "c9039959-ee13-4d3b-a388-edd8800479ee",
   "metadata": {},
   "source": [
    "### Fit with Spectrum only\n",
    "\n",
    "The Fors2 spectra aren't calibrated. Those have to be rescaled in amplitude\n",
    "on the SED model fitted first with photometry"
   ]
  },
  {
   "cell_type": "code",
   "execution_count": null,
   "id": "7dc5756d-496a-411d-b6d1-3ac0c214ecea",
   "metadata": {},
   "outputs": [],
   "source": [
    "def rescale_spectroscopy(params,wls,fluxes,efluxes,z_obs):\n",
    "    \"\"\"\n",
    "    Calculate the rescaling factor of fors2 spectroscopy on restframe SSP spectrum plot.\n",
    "    Comparison is done in restframe.\n",
    "\n",
    "    :param params:fitted parameters\n",
    "    :type params:dictionnary of parameters\n",
    "    :param wls: wavelength of spectroscopic Fors2  observations\n",
    "    :type wls: jax array of floats\n",
    "    :param fluxes: relative fluxes of Fors2\n",
    "    :type fluxes: jax array of floats\n",
    "    :param efluxes: errors on Fors2 fluxes\n",
    "    :type efluxes:jax array of floats\n",
    "    :param z_obs: redshift of observed galaxy object\n",
    "    :type z_obs: float\n",
    "    :return: wavelengths, rescaled fluxes and errors and scaling factor of spectroscopic data\n",
    "    :rtype: 3 jax arrays of floats and a float\n",
    "    \n",
    "    \"\"\"\n",
    "    # convert the spectrum in rest frame\n",
    "    wls_rest = wls/(1.+z_obs)\n",
    "    fluxes *= (1.+z_obs)\n",
    "    efluxes *= (1.+z_obs)\n",
    "\n",
    "    # compute the model from params (params from photometry)\n",
    "    x,y_nodust,y_dust = ssp_spectrum_fromparam(params,z_obs)\n",
    "\n",
    "    # calculate the scaling factor\n",
    "    flux_pred = interp1d(wls_rest,x,y_dust)\n",
    "    scaling_factor =  jnp.mean(flux_pred/fluxes)\n",
    "\n",
    "    # return rescaled fluxes in rest-frame\n",
    "    return wls_rest,  fluxes*scaling_factor,  efluxes*scaling_factor, scaling_factor \n",
    "    "
   ]
  },
  {
   "cell_type": "markdown",
   "id": "c33f0824-fc45-4585-8cf0-38c3396bbfad",
   "metadata": {},
   "source": [
    "#### rescale spectroscopic data"
   ]
  },
  {
   "cell_type": "code",
   "execution_count": null,
   "id": "14996821-fcc0-437f-ad67-c15998205245",
   "metadata": {},
   "outputs": [],
   "source": [
    "Xspec_data_rest,Yspec_data_rest,EYspec_data_rest,factor = rescale_spectroscopy(dict_params_m,Xspec_data,Yspec_data,EYspec_data,z_obs)"
   ]
  },
  {
   "cell_type": "markdown",
   "id": "890bb4fc-6ae2-4e24-b4be-3820231d68be",
   "metadata": {},
   "source": [
    "#### fit spectroscopic data alone"
   ]
  },
  {
   "cell_type": "code",
   "execution_count": null,
   "id": "04e08e8f-894c-4047-a4f2-b29c30db8182",
   "metadata": {},
   "outputs": [],
   "source": [
    "lbfgsb = jaxopt.ScipyBoundedMinimize(fun=lik_spec, method=\"L-BFGS-B\")\n",
    "res_s = lbfgsb.run(init_params, bounds=(params_min ,params_max ), wls=Xspec_data_rest, F=Yspec_data_rest, sigma_obs = EYspec_data_rest,z_obs=z_obs)\n",
    "params_s,fun_min_s,jacob_min_s,inv_hessian_min_s = get_infos_spec(res_s, lik_spec, wls=Xspec_data, F=Yspec_data,eF=EYspec_data,z_obs=z_obs)\n",
    "print(\"params:\",params_s,\"\\nfun@min:\",fun_min_s,\"\\njacob@min:\",jacob_min_s)\n",
    "#,     \"\\n invH@min:\",inv_hessian_min_s)\n"
   ]
  },
  {
   "cell_type": "code",
   "execution_count": null,
   "id": "4c3060c1-78f6-4dd4-bc54-921e275ad0b1",
   "metadata": {},
   "outputs": [],
   "source": [
    "def plot_fit_ssp_spectroscopy(params,Xspec_data_rest,Yspec_data_rest,EYspec_data_rest,z_obs,ax=None,subtit = title_spec):\n",
    "    \"\"\"\n",
    "    Plot SSP model fitted and Fors2 spectroscopic data points. Spectroscopic data points are rescaled\n",
    "    from observation frame to rest-frame.\n",
    "\n",
    "    :param params: fitted parameters on rescaled spectroscopic data\n",
    "    :type params: dictionnary of parameters\n",
    "    :param Xspec_data_rest: wavelength of spectroscopic observation in restframe\n",
    "    :type Xspec_data_rest: jax array of floats\n",
    "    :param Yspec_data_rest: rescaled fluxes of spectroscopic data\n",
    "    :type Yspec_data_rest: jax array of floats\n",
    "    :param EYspec_data_rest: errors on rescaled fluxes of spectroscopic data\n",
    "    :type EYspec_data_rest:jax array of floats\n",
    "    :param z_obs: redshift of observed galaxy object\n",
    "    :type z_obs: float\n",
    "    :param ax: matplotlib axis to plot the figure, default None\n",
    "    :type ax: matplotlib axis\n",
    "    :param subtit: info on the photometric data on the corresponding spectrum\n",
    "    :type subtitle: str\n",
    "    :return: plot the figure\n",
    "    :rtype: None\n",
    "    \n",
    "    \"\"\"\n",
    "\n",
    "    # calculate the SED\n",
    "    x,y_nodust,y_dust = ssp_spectrum_fromparam(params,z_obs)\n",
    "\n",
    "    \n",
    "    if ax is None:\n",
    "        _, ax = plt.subplots(1, 1)\n",
    "    __= ax.set_yscale('log') \n",
    "    __= ax.set_xscale('log') \n",
    "    \n",
    "    # plot the fitted model\n",
    "    ax.plot(x,y_dust,'-',color='green',lw=1,label=\"fitted DSPS model with dust\")\n",
    "    ax.plot(x,y_nodust,'-',color='red',lw=1,label=\"fitted DSPS model No dust\")\n",
    "\n",
    "    # plot spectroscopic data (rest-frame)    \n",
    "    xspec_r,yspec,eyspec = Xspec_data_rest,Yspec_data_rest*params[\"SCALEF\"],EYspec_data_rest*params[\"SCALEF\"]\n",
    "    label = \"Fors spectrum \" + subtit\n",
    "    ax.plot(xspec_r,yspec,'b-',lw=3,label = label )\n",
    "\n",
    "    title = \"SED $L_\\\\nu$ with and without dust and rescaled spectroscopy(rest frame)\"\n",
    "    ax.set_title(title)\n",
    "    ax.legend(loc=\"lower right\")\n",
    "\n",
    "    ax.set_xlabel(\"$\\lambda (\\\\AA)$\")\n",
    "    ax.set_ylabel(\"$L_\\\\nu(\\lambda)$ (AB units - maggies)\")\n",
    "\n",
    "    ymax = y_nodust.max()\n",
    "    ylim_max = ymax*5.\n",
    "    ylim_min = ymax/0.5e4\n",
    "    __= ax.set_xlim(1e3,1e6)\n",
    "    __= ax.set_ylim(ylim_min,ylim_max)\n",
    "    \n",
    "    ax.grid()"
   ]
  },
  {
   "cell_type": "markdown",
   "id": "a1bedf46-57c0-4fa1-95ad-407d8e53e1ec",
   "metadata": {},
   "source": [
    "#### convert the fitted parameters on spectroscopic data into a dictionnary"
   ]
  },
  {
   "cell_type": "code",
   "execution_count": null,
   "id": "ff306dc3-71a2-4268-b9e5-bccf3bf6777e",
   "metadata": {},
   "outputs": [],
   "source": [
    "# Convert fitted parameters into a dictionnary\n",
    "dict_params_s = paramslist_to_dict( params_s,p.PARAM_NAMES_FLAT) "
   ]
  },
  {
   "cell_type": "markdown",
   "id": "16f4831a-d938-4848-ae13-4dd65361deab",
   "metadata": {},
   "source": [
    "#### plot the SED models and the spectroscopic data"
   ]
  },
  {
   "cell_type": "code",
   "execution_count": null,
   "id": "a1c84b7f-e10f-40c7-80f7-410c36a5130a",
   "metadata": {},
   "outputs": [],
   "source": [
    "plot_fit_ssp_spectroscopy(dict_params_s,Xspec_data_rest,Yspec_data_rest,EYspec_data_rest,z_obs)"
   ]
  },
  {
   "cell_type": "markdown",
   "id": "4de33d3a-7221-4321-aaa9-0d517cdaade4",
   "metadata": {},
   "source": [
    "### Fit by combining Fors2 Spectrum and Photometry"
   ]
  },
  {
   "cell_type": "markdown",
   "id": "c13b7868-a6a5-40dc-983c-4efc199e6918",
   "metadata": {},
   "source": [
    "- Combine Fors2 data and Photometric data.\n",
    "- Both are properly rescaled and in rest frame"
   ]
  },
  {
   "cell_type": "code",
   "execution_count": null,
   "id": "f3d0886d-71a0-4e52-9abc-89aabf9e5186",
   "metadata": {},
   "outputs": [],
   "source": [
    "Xc = [Xspec_data_rest, Xf_sel]\n",
    "Yc = [Yspec_data_rest,  data_selected_mags ]\n",
    "EYc = [EYspec_data_rest, data_selected_magserr]\n",
    "weight_spec = 0.5"
   ]
  },
  {
   "cell_type": "markdown",
   "id": "09f9a4ae-45f4-4799-83bc-6a0936e26fdb",
   "metadata": {},
   "source": [
    "#### Do the combined fit"
   ]
  },
  {
   "cell_type": "code",
   "execution_count": null,
   "id": "db4ebdcc-286c-472e-8a28-e0575df34539",
   "metadata": {},
   "outputs": [],
   "source": [
    "lbfgsb = jaxopt.ScipyBoundedMinimize(fun=lik_comb, method=\"L-BFGS-B\")\n",
    "\n",
    "res_c = lbfgsb.run(init_params, bounds=(params_min ,params_max ), xc=Xc, datac=Yc,sigmac=EYc,z_obs=z_obs,weight=weight_spec)\n",
    "params_c,fun_min_c,jacob_min_c,inv_hessian_min_c = get_infos_comb(res_c, lik_comb, xc=Xc, datac=Yc,sigmac=EYc,z_obs=z_obs,weight=weight_spec)\n",
    "print(\"params:\",params_c,\"\\nfun@min:\",fun_min_c,\"\\njacob@min:\",jacob_min_c)\n",
    "#      ,\"\\n invH@min:\",inv_hessian_min_c)\n"
   ]
  },
  {
   "cell_type": "markdown",
   "id": "7b635190-42ee-4670-893e-d335af7e712f",
   "metadata": {},
   "source": [
    "##### check the value of the chi2 for the photometric part"
   ]
  },
  {
   "cell_type": "code",
   "execution_count": null,
   "id": "76971a57-a2b4-4e81-b0f5-64d5bd55c20a",
   "metadata": {},
   "outputs": [],
   "source": [
    "params_cm,fun_min_cm,jacob_min_cm,inv_hessian_min_cm  = get_infos_mag(res_c, lik_mag,  xf = Xf_sel, mgs = data_selected_mags, mgse = data_selected_magserr,z_obs=z_obs)\n",
    "print(\"params:\",params_cm,\"\\nfun@min:\",fun_min_cm,\"\\njacob@min:\",jacob_min_cm)"
   ]
  },
  {
   "cell_type": "markdown",
   "id": "ea8a6f6b-7d5d-4efa-98d9-9f2a6b1cbabf",
   "metadata": {},
   "source": [
    "##### check the value of the chi2 for the spectroscopic part"
   ]
  },
  {
   "cell_type": "code",
   "execution_count": null,
   "id": "d25f4ae2-764f-4092-b2f5-36f7edbffbea",
   "metadata": {},
   "outputs": [],
   "source": [
    "params_cs,fun_min_cs,jacob_min_cs,inv_hessian_min_cs = get_infos_spec(res_c, lik_spec, wls=Xspec_data_rest, F=Yspec_data_rest,eF=EYspec_data_rest,z_obs=z_obs)\n",
    "print(\"params:\",params_cs,\"\\nfun@min:\",fun_min_cs,\"\\njacob@min:\",jacob_min_cs)"
   ]
  },
  {
   "cell_type": "code",
   "execution_count": null,
   "id": "1a69dc31-8266-4985-81c8-505e439d0433",
   "metadata": {},
   "outputs": [],
   "source": [
    "def plot_fit_ssp_spectrophotometry(params,Xspec_data_rest,Yspec_data_rest,EYspec_data_rest,\n",
    "                                   Xphot_data_rest,Yphot_data_rest,EYphot_data_rest,\n",
    "                                   z_obs,ax=None,subtit = title_spec):\n",
    "    \"\"\"\n",
    "    Plot SSP model fitted with combined spectro and photometric data.\n",
    "    Both data are rescaled and set to rest-frame.\n",
    "\n",
    "    :param params: fitted parameters on rescaled spectroscopic data\n",
    "    :type params: dictionnary of parameters\n",
    "    :param Xspec_data_rest: wavelength of spectroscopic observation in restframe\n",
    "    :type Xspec_data_rest: jax array of floats\n",
    "    :param Yspec_data_rest: rescaled fluxes of spectroscopic data\n",
    "    :type Yspec_data_rest: jax array of floats\n",
    "    :param EYspec_data_rest: errors on rescaled fluxes of spectroscopic data\n",
    "    :type EYspec_data_rest:jax array of floats\n",
    "    :param Xphot_data_rest: filter central wavelenth in rest frame\n",
    "    :type Xphot_data_rest: jax array of floats\n",
    "    :param Yphot_data_rest: photometric flux in rest frame\n",
    "    :type Yphot_data_rest: jax array of floats\n",
    "    :param EYphot_data_rest: error on photometric flux in rest frame\n",
    "    :type EYphot_data_rest: jax array of floats\n",
    "    :param z_obs: redshift of observed galaxy object\n",
    "    :type z_obs: float\n",
    "    :param ax: matplotlib axis to plot the figure, default None\n",
    "    :type ax: matplotlib axis\n",
    "    :param subtit: info on the photometric data on the corresponding spectrum\n",
    "    :type subtitle: str\n",
    "    :return: plot the figure\n",
    "    :rtype: None\n",
    "    \n",
    "    \"\"\"\n",
    "    # calculate the SED model from fitted parameters\n",
    "    x,y_nodust,y_dust = ssp_spectrum_fromparam(params,z_obs)\n",
    "\n",
    "   \n",
    "    \n",
    "    if ax is None:\n",
    "        _, ax = plt.subplots(1, 1)\n",
    "    __= ax.set_yscale('log') \n",
    "    __= ax.set_xscale('log') \n",
    "    \n",
    "    # plot SED model   \n",
    "    ax.plot(x,y_dust,'-',color='green',lw=1,label=\"fitted DSPS model with dust\")\n",
    "    ax.plot(x,y_nodust,'-',color='red',lw=1,label=\"fitted DSPS model no dust\")\n",
    "\n",
    "    xspec_r,yspec,eyspec = Xspec_data_rest,Yspec_data_rest*params[\"SCALEF\"],EYspec_data_rest*params[\"SCALEF\"]\n",
    "\n",
    "    # plot Fors2 data\n",
    "    label = \"Fors spectrum \" + subtit\n",
    "    ax.plot(xspec_r,yspec,'b-',lw=3,label = label )\n",
    "\n",
    "    # plot photometric data\n",
    "    label = \"Photometry for \" + subtit\n",
    "    xphot , yphot, eyphot = Xphot_data_rest,Yphot_data_rest,EYphot_data_rest\n",
    "    ax.errorbar( xphot , yphot, yerr=eyphot, marker='o', color=\"black\",ecolor=\"black\",markersize=8,lw=2,label=label)\n",
    "\n",
    "    title = \"SED $L_\\\\nu$ with/wo dust spectroscopy and photometry combined (rest frame)\"\n",
    "    ax.set_title(title)\n",
    "    ax.legend(loc=\"lower right\")\n",
    "\n",
    "    ymax = y_nodust.max()\n",
    "    ylim_max = ymax*5.\n",
    "    ylim_min = ymax/0.5e4\n",
    "\n",
    "    ax.set_xlabel(\"$\\lambda (\\\\AA)$\")\n",
    "    ax.set_ylabel(\"$L_\\\\nu(\\lambda)$ (AB units - maggies)\")\n",
    "\n",
    "    __= ax.set_xlim(1e3,1e6)\n",
    "    __= ax.set_ylim(ylim_min,ylim_max)\n",
    "    \n",
    "    ax.grid()"
   ]
  },
  {
   "cell_type": "markdown",
   "id": "065666a3-6682-4102-b061-7ad00be44413",
   "metadata": {},
   "source": [
    "#### Convert fitted parameters into a dictionnary"
   ]
  },
  {
   "cell_type": "code",
   "execution_count": null,
   "id": "afed1d07-3cc2-4eb9-a7e4-61bef01a6a4a",
   "metadata": {},
   "outputs": [],
   "source": [
    "dict_params_c = paramslist_to_dict( params_c,p.PARAM_NAMES_FLAT) "
   ]
  },
  {
   "cell_type": "markdown",
   "id": "0b74a06e-fe37-4c28-af18-18a84f99c6f3",
   "metadata": {},
   "source": [
    "#### Plot combined fit"
   ]
  },
  {
   "cell_type": "code",
   "execution_count": null,
   "id": "d5c9c2f9-3862-47e9-996d-433a53959dc3",
   "metadata": {},
   "outputs": [],
   "source": [
    "plot_fit_ssp_spectrophotometry(dict_params_c ,Xspec_data_rest,Yspec_data_rest,EYspec_data_rest,xphot_rest,yphot_rest,eyphot_rest,z_obs=z_obs)"
   ]
  },
  {
   "cell_type": "markdown",
   "id": "bfb4bda9-5767-4891-8fe9-08a30dbd5585",
   "metadata": {},
   "source": [
    "## Add StarLight model for comparison"
   ]
  },
  {
   "cell_type": "code",
   "execution_count": null,
   "id": "95b492fb-532b-4361-9cb8-29c785da7897",
   "metadata": {},
   "outputs": [],
   "source": [
    "def plot_fit_ssp_spectrophotometry_sl(params,Xspec_data_rest,Yspec_data_rest,EYspec_data_rest,\n",
    "                                   Xphot_data_rest,Yphot_data_rest,EYphot_data_rest,w_sl , fnu_sl,  \n",
    "                                   z_obs,ax=None,subtit = title_spec):\n",
    "    \"\"\"\n",
    "    Plot SSP models DSPS + StarLight fitted with combined spectro and photometric data.\n",
    "    Both data are rescaled and set to rest-frame.\n",
    "\n",
    "    :param params: fitted parameters on rescaled spectroscopic data\n",
    "    :type params: dictionnary of parameters\n",
    "    :param Xspec_data_rest: wavelength of spectroscopic observation in restframe\n",
    "    :type Xspec_data_rest: jax array of floats\n",
    "    :param Yspec_data_rest: rescaled fluxes of spectroscopic data\n",
    "    :type Yspec_data_rest: jax array of floats\n",
    "    :param EYspec_data_rest: errors on rescaled fluxes of spectroscopic data\n",
    "    :type EYspec_data_rest:jax array of floats\n",
    "    :param Xphot_data_rest: filter central wavelenth in rest frame\n",
    "    :type Xphot_data_rest: jax array of floats\n",
    "    :param Yphot_data_rest: photometric flux in rest frame\n",
    "    :type Yphot_data_rest: jax array of floats\n",
    "    :param EYphot_data_rest: error on photometric flux in rest frame\n",
    "    :type EYphot_data_rest: jax array of floats\n",
    "    :param z_obs: redshift of observed galaxy object\n",
    "    :param w_sl: wavelength for StarLight model in restframe\n",
    "    :type w_sl: jax array of floats\n",
    "    :param fnu_sl: flux of Starlight model in restframe\n",
    "    :type fnu_sl: jax array of floats\n",
    "    :type z_obs: float\n",
    "    :param ax: matplotlib axis to plot the figure, default None\n",
    "    :type ax: matplotlib axis\n",
    "    :param subtit: info on the photometric data on the corresponding spectrum\n",
    "    :type subtitle: str\n",
    "    :return: plot the figure\n",
    "    :rtype: None\n",
    "    \n",
    "    \"\"\"\n",
    "    # compute the model from the parameters\n",
    "    x,y_nodust,y_dust = ssp_spectrum_fromparam(params,z_obs)\n",
    "\n",
    "    if ax is None:\n",
    "        _, ax = plt.subplots(1, 1)\n",
    "    __= ax.set_yscale('log') \n",
    "    __= ax.set_xscale('log') \n",
    "    \n",
    "    # plot models\n",
    "    ax.plot(x,y_dust,'-',color='green',lw=1,label=\"fitted DSPS model with dust\")\n",
    "    ax.plot(x,y_nodust,'-',color='red',lw=1,label=\"fitted DSPS model no dust\")\n",
    "    ax.plot(w_sl ,fnu_sl,'-',color=\"grey\",lw=2,label=\"StarLight model\")\n",
    "\n",
    "    # plot Fors2 spectrum in restframe\n",
    "    xspec_r,yspec,eyspec = Xspec_data_rest,Yspec_data_rest*params[\"SCALEF\"],EYspec_data_rest*params[\"SCALEF\"]\n",
    "    label = \"Fors spectrum \" + subtit\n",
    "    ax.plot(xspec_r,yspec,'b-',lw=3,label = label )\n",
    "\n",
    "    # plot Photometric data in restframe\n",
    "    label = \"Photometry for \" + subtit\n",
    "    xphot , yphot, eyphot = Xphot_data_rest,Yphot_data_rest,EYphot_data_rest \n",
    "    ax.errorbar( xphot , yphot, yerr=eyphot, marker='o', color=\"black\",ecolor=\"black\",markersize=8,lw=2,label=label)\n",
    "\n",
    "    title = \"SED $L_\\\\nu$ with/wo dust spectroscopy and photometry combined (rest frame)\"\n",
    "    ax.set_title(title)\n",
    "    ax.legend(loc=\"lower right\")\n",
    "\n",
    "    ymax = y_nodust.max()\n",
    "    ylim_max = ymax*5.\n",
    "    ylim_min = ymax/0.5e4\n",
    "    \n",
    "    __= ax.set_xlim(1e3,1e6)\n",
    "    __= ax.set_ylim(ylim_min,ylim_max)\n",
    "    ax.set_xlabel(\"$\\lambda (\\\\AA)$\")\n",
    "    ax.set_ylabel(\"$L_\\\\nu(\\lambda)$ - (AB unit - maggies)\")\n",
    "    \n",
    "    ax.grid()"
   ]
  },
  {
   "cell_type": "code",
   "execution_count": null,
   "id": "7d629761-a66b-47e7-92dd-a92b156f2693",
   "metadata": {},
   "outputs": [],
   "source": [
    "def rescale_starlight_inrangefors2(wls,fluxes,Xspec_data_rest,Yspec_data_rest):\n",
    "    \"\"\"\n",
    "    Rescale Starlight model (in rest frame) on rescaled Fors2 data (in rest frame).\n",
    "\n",
    "    :param wls: StarLight SED wavelength\n",
    "    :type wls: jax array of floats\n",
    "    :param fluxes: StarLight SED fluxes\n",
    "    :type fluxes: jax array of floats\n",
    "    :param Xspec_data_rest: Fors2 spectrum wavelength in rest-frame\n",
    "    :type Xspec_data_rest: jax array of floats\n",
    "    :param Yspec_data_rest: Fors2 spectrum fluxes in rest-frame\n",
    "    :type Yspec_data_rest: jax array of floats\n",
    "    :return: StarLight spectrum rescaled to rescaled Fors2 data\n",
    "    :rtype: jax array of floats and the scaling factor\n",
    "    \n",
    "    \"\"\"\n",
    "\n",
    "    # boundaries of the Fors2 spectrum in rest-frame\n",
    "    xmin = Xspec_data_rest.min()\n",
    "    xmax = Xspec_data_rest.max()\n",
    "    selected_indexes = jnp.where(jnp.logical_and(wls>xmin,wls<xmax))[0]\n",
    "\n",
    "    # select StarLight spectrum part match Fors2 wavelength range\n",
    "    xsl = wls[selected_indexes]\n",
    "    ysl = fluxes[selected_indexes]\n",
    "    \n",
    "    # calculate the scaling factor for StarLight\n",
    "    ysl_pred = interp1d(xsl,Xspec_data_rest,Yspec_data_rest)\n",
    "    scaling_factor =  jnp.mean(ysl_pred/ysl)\n",
    "\n",
    "    # return rescaled starlight spectrum\n",
    "    return wls,  fluxes*scaling_factor, scaling_factor \n",
    "    "
   ]
  },
  {
   "cell_type": "markdown",
   "id": "4f0b4ca7-5a43-4e5c-a85e-48f3b5b325d7",
   "metadata": {},
   "source": [
    "### Get StarLight spectrum"
   ]
  },
  {
   "cell_type": "code",
   "execution_count": null,
   "id": "d93a47b2-2321-4cb5-b520-b5b468becb50",
   "metadata": {},
   "outputs": [],
   "source": [
    "dict_sl = sl.getspectrum_fromgroup(selected_spectrum_tag)"
   ]
  },
  {
   "cell_type": "markdown",
   "id": "8cd81733-46aa-43af-97a0-a51f2357ec9e",
   "metadata": {},
   "source": [
    "### Rescale Starlight spectrum"
   ]
  },
  {
   "cell_type": "code",
   "execution_count": null,
   "id": "d26a5476-fdcf-4479-bcfd-095597cc8d59",
   "metadata": {},
   "outputs": [],
   "source": [
    "w_sl ,fnu_sl , _ = rescale_starlight_inrangefors2(dict_sl[\"wl\"],dict_sl[\"fnu\"],Xspec_data_rest,Yspec_data_rest )"
   ]
  },
  {
   "cell_type": "markdown",
   "id": "aa87ce33-f6a1-4a02-92f1-91b2d5f7b27a",
   "metadata": {},
   "source": [
    "### Plot all data and models"
   ]
  },
  {
   "cell_type": "code",
   "execution_count": null,
   "id": "8222471f-7226-4c33-8a35-9aec1ac96bf8",
   "metadata": {},
   "outputs": [],
   "source": [
    "plot_fit_ssp_spectrophotometry_sl(dict_params_c ,Xspec_data_rest,Yspec_data_rest,EYspec_data_rest,xphot_rest,yphot_rest,eyphot_rest,w_sl,fnu_sl,z_obs=z_obs)"
   ]
  },
  {
   "cell_type": "markdown",
   "id": "44b983ae-c9a5-4304-9f01-b0766639d843",
   "metadata": {},
   "source": [
    "## Plot the SFH model"
   ]
  },
  {
   "cell_type": "code",
   "execution_count": null,
   "id": "9b419245-db39-4ac8-a6ed-76f5295f8e77",
   "metadata": {},
   "outputs": [],
   "source": [
    "def plot_SFH(params,z_obs,ax=None,subtit = title_spec):\n",
    "    \"\"\"\n",
    "    Plot Star Formation History\n",
    "\n",
    "    :param params: fitted parameters on rescaled spectroscopic data\n",
    "    :type params: dictionnary of parameters\n",
    "    :type z_obs: float\n",
    "    :param ax: matplotlib axis to plot the figure, default None\n",
    "    :type ax: matplotlib axis\n",
    "    :param subtit: info on the photometric data on the corresponding spectrum\n",
    "    :type subtitle: str\n",
    "    :return: plot the figure\n",
    "    :rtype: None\n",
    "    \"\"\"\n",
    "    \n",
    "    tarr,sfh_gal = mean_sfr(dict_params_c,z_obs)\n",
    "\n",
    "    if ax is None:\n",
    "        _, ax = plt.subplots(1, 1)\n",
    "\n",
    "    ax.plot(tarr,sfh_gal,'-k',lw=2)\n",
    "\n",
    "    sfr_max = sfh_gal.max()*1.1\n",
    "    sfr_min = 0.\n",
    "    ylim = ax.set_ylim(sfr_min, sfr_max)\n",
    "   \n",
    "    ax.set_title(\"Fitted Star Formation History (SFH) for \" + title_spec)\n",
    "    xlabel = ax.set_xlabel(r'${\\rm cosmic\\ time\\ [Gyr]}$')\n",
    "    ylabel = ax.set_ylabel(r'${\\rm SFR\\ [M_{\\odot}/yr]}$')\n",
    "    ax.grid()\n",
    "    #ax.legend()\n"
   ]
  },
  {
   "cell_type": "code",
   "execution_count": null,
   "id": "e15f56a1-672f-4b18-ad17-0fea91f39d5a",
   "metadata": {},
   "outputs": [],
   "source": [
    "plot_SFH(dict_params_c,z_obs,ax=None)"
   ]
  },
  {
   "cell_type": "markdown",
   "id": "99eaee67-6135-4897-8ffc-c4f05f86c05c",
   "metadata": {},
   "source": [
    "## save fitted data"
   ]
  },
  {
   "cell_type": "code",
   "execution_count": null,
   "id": "86432888-a31b-4b18-92f7-f58dd766890b",
   "metadata": {},
   "outputs": [],
   "source": [
    "filename_params = f\"fitparams_{selected_spectrum_tag}.pickle\""
   ]
  },
  {
   "cell_type": "code",
   "execution_count": null,
   "id": "9971b111-6035-4946-842e-ee46b3bd0e0c",
   "metadata": {},
   "outputs": [],
   "source": [
    "with open(filename_params, 'wb') as f:\n",
    "    pickle.dump(dict_params_c, f)"
   ]
  },
  {
   "cell_type": "code",
   "execution_count": null,
   "id": "0a69f2ba-ba77-46f2-ad0a-9dfcd268e5ac",
   "metadata": {},
   "outputs": [],
   "source": [
    "#with open(filename_params, 'rb') as f:\n",
    "#    loaded_dict = pickle.load(f)"
   ]
  },
  {
   "cell_type": "code",
   "execution_count": null,
   "id": "0d03bea3-cb31-4755-aa15-8f6633df845d",
   "metadata": {},
   "outputs": [],
   "source": []
  }
 ],
 "metadata": {
  "kernelspec": {
   "display_name": "conda_jaxcpu_dsps_py310",
   "language": "python",
   "name": "conda_jaxcpu_dsps_py310"
  },
  "language_info": {
   "codemirror_mode": {
    "name": "ipython",
    "version": 3
   },
   "file_extension": ".py",
   "mimetype": "text/x-python",
   "name": "python",
   "nbconvert_exporter": "python",
   "pygments_lexer": "ipython3",
   "version": "3.10.13"
  }
 },
 "nbformat": 4,
 "nbformat_minor": 5
}
