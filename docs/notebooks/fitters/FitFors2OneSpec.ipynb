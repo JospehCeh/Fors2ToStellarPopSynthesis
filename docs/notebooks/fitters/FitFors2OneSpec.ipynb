{
 "cells": [
  {
   "cell_type": "markdown",
   "id": "a688fc59-ac88-4641-9129-6264f8679cc1",
   "metadata": {},
   "source": [
    "# Fit Single Fors2 Spectrum and Photometry with DSPS"
   ]
  },
  {
   "cell_type": "markdown",
   "id": "e49b0180-5793-49ae-87a0-e998bea32689",
   "metadata": {},
   "source": [
    "Implement this fit using this `fors2tostellarpopsynthesis`package\n",
    "\n",
    "- Author Sylvie Dagoret-Campagne\n",
    "- Afflilation : IJCLab/IN2P3/CNRS\n",
    "- Organisation : LSST-DESC\n",
    "- creation date : 2023-11-21\n",
    "- last update : 2023-11-21\n"
   ]
  },
  {
   "cell_type": "markdown",
   "id": "e7373f4c-496c-4116-b1d4-bb0bec0f59c4",
   "metadata": {},
   "source": [
    "## Import"
   ]
  },
  {
   "cell_type": "code",
   "execution_count": null,
   "id": "3081db6d-2b62-4701-9879-d638bd5db85f",
   "metadata": {},
   "outputs": [],
   "source": [
    "import h5py\n",
    "import pandas as pd\n",
    "import numpy as np\n",
    "import os\n",
    "import re\n",
    "from astropy.io import fits\n",
    "from astropy.table import Table\n",
    "import matplotlib as mpl\n",
    "import matplotlib.pyplot as plt\n",
    "%matplotlib inline\n",
    "import matplotlib.colors as colors\n",
    "import matplotlib.cm as cmx\n",
    "import collections\n",
    "from collections import OrderedDict\n",
    "import re\n",
    "import matplotlib.gridspec as gridspec\n",
    "from sklearn.gaussian_process import GaussianProcessRegressor, kernels"
   ]
  },
  {
   "cell_type": "code",
   "execution_count": null,
   "id": "c20e98ab-b268-4fb0-86e4-2897fcc200d9",
   "metadata": {},
   "outputs": [],
   "source": [
    "import jax\n",
    "import jax.numpy as jnp\n",
    "import jaxopt\n",
    "import optax\n",
    "jax.config.update(\"jax_enable_x64\", True)"
   ]
  },
  {
   "cell_type": "code",
   "execution_count": null,
   "id": "e0a10a65-7027-48d4-8f38-5fd31c119dbe",
   "metadata": {},
   "outputs": [],
   "source": [
    "plt.rcParams[\"figure.figsize\"] = (12,6)\n",
    "plt.rcParams[\"axes.labelsize\"] = 'xx-large'\n",
    "plt.rcParams['axes.titlesize'] = 'xx-large'\n",
    "plt.rcParams['xtick.labelsize']= 'xx-large'\n",
    "plt.rcParams['ytick.labelsize']= 'xx-large'\n",
    "plt.rcParams['legend.fontsize']=  20"
   ]
  },
  {
   "cell_type": "markdown",
   "id": "68fd356d-2ec7-4c49-a27b-9442e331b754",
   "metadata": {},
   "source": [
    "### Filters"
   ]
  },
  {
   "cell_type": "code",
   "execution_count": null,
   "id": "2ab9bf3f-0e9d-4778-b3fa-748879da738c",
   "metadata": {},
   "outputs": [],
   "source": [
    "from fors2tostellarpopsynthesis.filters import FilterInfo"
   ]
  },
  {
   "cell_type": "markdown",
   "id": "2f51644e-9599-4646-9ed9-f7fafa2d7962",
   "metadata": {},
   "source": [
    "### Fors2 and Starlight"
   ]
  },
  {
   "cell_type": "code",
   "execution_count": null,
   "id": "be610061-e204-4210-82aa-38edc32e2f6c",
   "metadata": {},
   "outputs": [],
   "source": [
    "from fors2tostellarpopsynthesis.fors2starlightio import Fors2DataAcess, SLDataAcess,convert_flux_torestframe,gpr"
   ]
  },
  {
   "cell_type": "markdown",
   "id": "aae04981-ec66-4457-bd27-fef621b141dc",
   "metadata": {},
   "source": [
    "### fitter jaxopt"
   ]
  },
  {
   "cell_type": "code",
   "execution_count": null,
   "id": "f420cae3-8061-461e-97d8-4856a94508fa",
   "metadata": {},
   "outputs": [],
   "source": [
    "from fors2tostellarpopsynthesis.fitters.fitter_jaxopt import (lik_spec,lik_mag,lik_comb,\n",
    "get_infos_spec,get_infos_mag,get_infos_comb)"
   ]
  },
  {
   "cell_type": "markdown",
   "id": "3a049233-22bf-448f-88c0-474dfc67f452",
   "metadata": {},
   "source": [
    "## Check filters"
   ]
  },
  {
   "cell_type": "code",
   "execution_count": null,
   "id": "0d243f90-d914-438d-9423-168d2b63adc0",
   "metadata": {},
   "outputs": [],
   "source": [
    "ps = FilterInfo()\n",
    "ps.plot_transmissions()"
   ]
  },
  {
   "cell_type": "markdown",
   "id": "cc221d8f-cf90-42a9-b905-55392a399ca3",
   "metadata": {},
   "source": [
    "## Fors2 data"
   ]
  },
  {
   "cell_type": "code",
   "execution_count": null,
   "id": "6d608167-ed34-4581-aad5-1406a3f394b8",
   "metadata": {},
   "outputs": [],
   "source": [
    "fors2 = Fors2DataAcess()"
   ]
  },
  {
   "cell_type": "code",
   "execution_count": null,
   "id": "f09a6da3-9b62-425b-b193-e5a6a77a3dab",
   "metadata": {},
   "outputs": [],
   "source": [
    "fors2.plot_allspectra()"
   ]
  },
  {
   "cell_type": "code",
   "execution_count": null,
   "id": "21474d5c-2896-4226-87c7-5a152ebb7cbf",
   "metadata": {},
   "outputs": [],
   "source": [
    "fors2_tags = fors2.get_list_of_groupkeys()\n",
    "len(fors2_tags)"
   ]
  },
  {
   "cell_type": "code",
   "execution_count": null,
   "id": "c4d132c5-7aca-45e6-8b12-fe36b1cce598",
   "metadata": {},
   "outputs": [],
   "source": [
    "list_of_fors2_attributes = fors2.get_list_subgroup_keys()\n",
    "print(list_of_fors2_attributes)"
   ]
  },
  {
   "cell_type": "markdown",
   "id": "b474095b-531d-45b4-aa69-63f1e09df168",
   "metadata": {},
   "source": [
    "## StarLight data"
   ]
  },
  {
   "cell_type": "code",
   "execution_count": null,
   "id": "0912b601-9edf-47c8-9e64-38d779e76a11",
   "metadata": {},
   "outputs": [],
   "source": [
    "sl = SLDataAcess()"
   ]
  },
  {
   "cell_type": "code",
   "execution_count": null,
   "id": "eb7b1413-65da-47c4-9af7-eb7b37288640",
   "metadata": {},
   "outputs": [],
   "source": [
    "sl.plot_allspectra()"
   ]
  },
  {
   "cell_type": "code",
   "execution_count": null,
   "id": "7efa1b32-c871-4798-b1d2-03c0df467a28",
   "metadata": {},
   "outputs": [],
   "source": [
    "sl_tags = sl.get_list_of_groupkeys()\n",
    "len(sl_tags)"
   ]
  },
  {
   "cell_type": "markdown",
   "id": "547e1cab-c6d2-471d-8efb-c72ddf505863",
   "metadata": {},
   "source": [
    "## Select Spectrum"
   ]
  },
  {
   "cell_type": "code",
   "execution_count": null,
   "id": "32e04edf-7dc2-4ff8-93da-0269269373bc",
   "metadata": {},
   "outputs": [],
   "source": [
    "#selected_spectrum_number = 411\n",
    "selected_spectrum_number = 560\n",
    "selected_spectrum_tag = f\"SPEC{selected_spectrum_number}\""
   ]
  },
  {
   "cell_type": "code",
   "execution_count": null,
   "id": "7545ec6c-c694-45fa-9959-581f3d9e1128",
   "metadata": {},
   "outputs": [],
   "source": [
    "fors2_attr =fors2.getattribdata_fromgroup(selected_spectrum_tag)\n",
    "z_obs = fors2_attr['redshift']"
   ]
  },
  {
   "cell_type": "markdown",
   "id": "97c7b2c9-f447-4574-9c91-d9dd803d72cd",
   "metadata": {},
   "source": [
    "### Get magnitude data"
   ]
  },
  {
   "cell_type": "code",
   "execution_count": null,
   "id": "5ee266c1-2a67-41d7-8d8c-bd488632edc7",
   "metadata": {},
   "outputs": [],
   "source": [
    "data_mags, data_magserr = fors2.get_photmagnitudes(selected_spectrum_tag)"
   ]
  },
  {
   "cell_type": "markdown",
   "id": "fefea630-9493-41ba-8519-d05825946e87",
   "metadata": {},
   "source": [
    "### Get Fors2 spectrum in rest-frame"
   ]
  },
  {
   "cell_type": "code",
   "execution_count": null,
   "id": "b25945e0-4d2c-4608-8eaf-bc69d478877e",
   "metadata": {},
   "outputs": [],
   "source": [
    "spec_obs = fors2.getspectrumcleanedemissionlines_fromgroup(selected_spectrum_tag)"
   ]
  },
  {
   "cell_type": "code",
   "execution_count": null,
   "id": "b038cad9-1b06-490c-9835-03dde5b9f2aa",
   "metadata": {},
   "outputs": [],
   "source": [
    "spec_obs"
   ]
  },
  {
   "cell_type": "code",
   "execution_count": null,
   "id": "96be52a9-73fe-4c42-942f-5fdf26c7c98b",
   "metadata": {},
   "outputs": [],
   "source": [
    "Xs = spec_obs['wl']\n",
    "Ys = spec_obs['fnu']\n",
    "EYs = spec_obs['bg']"
   ]
  },
  {
   "cell_type": "code",
   "execution_count": null,
   "id": "488d7d1e-f653-4592-a1ea-c2e9930fc540",
   "metadata": {},
   "outputs": [],
   "source": [
    "flmin = spec_obs['fnu']-spec_obs['bg']\n",
    "flmax = spec_obs['fnu']+spec_obs['bg']"
   ]
  },
  {
   "cell_type": "code",
   "execution_count": null,
   "id": "fe0ef068-87fb-474f-bac4-85eb24b299cf",
   "metadata": {},
   "outputs": [],
   "source": [
    "_,ax = plt.subplots(1,1,figsize=(6,4))\n",
    "ax.plot(spec_obs['wl'],spec_obs['fnu'],'-b')\n",
    "ax.fill_between(spec_obs['wl'],flmin,flmax, facecolor='lightgrey', edgecolors=\"None\")"
   ]
  },
  {
   "cell_type": "code",
   "execution_count": null,
   "id": "65ec590d-403b-4d16-b16f-04f8e3e00253",
   "metadata": {},
   "outputs": [],
   "source": [
    "Xspec_data, Yspec_data = convert_flux_torestframe(Xs,Ys,z_obs)\n",
    "EYspec_data = EYs*(1+z_obs)"
   ]
  },
  {
   "cell_type": "code",
   "execution_count": null,
   "id": "95b68547-4a0c-46c7-b598-3d1bf38b6861",
   "metadata": {},
   "outputs": [],
   "source": [
    "fors2.plot_spectro_photom_rescaling(selected_spectrum_tag)"
   ]
  },
  {
   "cell_type": "markdown",
   "id": "42ce87d7-3452-4b1d-9114-dd38a5adc316",
   "metadata": {},
   "source": [
    "## Parameters"
   ]
  },
  {
   "cell_type": "code",
   "execution_count": null,
   "id": "3c5e0f6f-b53b-46c9-b84d-24afc92c2393",
   "metadata": {},
   "outputs": [],
   "source": [
    "from fors2tostellarpopsynthesis.parameters import SSPParametersFit"
   ]
  },
  {
   "cell_type": "code",
   "execution_count": null,
   "id": "eb5893bd-645c-4b6a-b9a4-f0b0392b90b9",
   "metadata": {},
   "outputs": [],
   "source": [
    "p = SSPParametersFit()"
   ]
  },
  {
   "cell_type": "code",
   "execution_count": null,
   "id": "b9c17c25-2727-4084-8665-c92cc6fcf85f",
   "metadata": {},
   "outputs": [],
   "source": [
    "print(p)"
   ]
  },
  {
   "cell_type": "code",
   "execution_count": null,
   "id": "b19c9706-c1e5-41f8-aa67-18da113078fe",
   "metadata": {},
   "outputs": [],
   "source": [
    "p.DICT_PARAMS_true"
   ]
  },
  {
   "cell_type": "code",
   "execution_count": null,
   "id": "20125fd6-ad08-446c-ae1c-28bc576f0832",
   "metadata": {},
   "outputs": [],
   "source": [
    "init_params = p.INIT_PARAMS\n",
    "params_min = p.PARAMS_MIN\n",
    "params_max = p.PARAMS_MAX"
   ]
  },
  {
   "cell_type": "markdown",
   "id": "535eb28f-ec4f-46fd-bd5c-efd9805d9c1a",
   "metadata": {},
   "source": [
    "# Select filters"
   ]
  },
  {
   "cell_type": "code",
   "execution_count": null,
   "id": "aec2b6f4-5a65-4912-9478-30b30c858cf5",
   "metadata": {},
   "outputs": [],
   "source": [
    "print(ps.filters_indexlist) \n",
    "print(ps.filters_surveylist)\n",
    "print(ps.filters_namelist)"
   ]
  },
  {
   "cell_type": "markdown",
   "id": "31abdd5c-8003-481c-b34c-fbac6692c22b",
   "metadata": {},
   "source": [
    "### Choose the index of the filters"
   ]
  },
  {
   "cell_type": "code",
   "execution_count": null,
   "id": "85d1ddf1-0901-4247-b170-d2351e636eaf",
   "metadata": {},
   "outputs": [],
   "source": [
    "index_selected_filters = np.arange(1,11)\n",
    "index_selected_filters"
   ]
  },
  {
   "cell_type": "code",
   "execution_count": null,
   "id": "35dffd59-862d-471c-8206-c4b7e388913d",
   "metadata": {},
   "outputs": [],
   "source": [
    "XF = ps.get_2lists()\n",
    "NF = len(XF[0])"
   ]
  },
  {
   "cell_type": "code",
   "execution_count": null,
   "id": "93549d4e-384e-42a9-b4cf-4bcf17e266d4",
   "metadata": {},
   "outputs": [],
   "source": [
    "list_wls_f_sel = []\n",
    "list_trans_f_sel = []\n",
    "\n",
    "list_name_f_sel = []\n",
    "list_wlmean_f_sel = []\n",
    "\n",
    "for index in index_selected_filters:\n",
    "    list_wls_f_sel.append(XF[0][index])\n",
    "    list_trans_f_sel.append(XF[1][index])\n",
    "    the_filt = ps.filters_transmissionlist[index]\n",
    "    the_wlmean = the_filt.wave_mean\n",
    "    list_wlmean_f_sel.append(the_wlmean)\n",
    "    list_name_f_sel.append(ps.filters_namelist[index])\n",
    "    \n",
    "list_wlmean_f_sel = jnp.array(list_wlmean_f_sel) "
   ]
  },
  {
   "cell_type": "code",
   "execution_count": null,
   "id": "ccc940ec-5147-4ca6-944b-8f757d1339ed",
   "metadata": {},
   "outputs": [],
   "source": [
    "Xf_sel = (list_wls_f_sel,list_trans_f_sel)"
   ]
  },
  {
   "cell_type": "code",
   "execution_count": null,
   "id": "42542dd8-0dc8-49d4-a8a8-6f161b9ac04e",
   "metadata": {},
   "outputs": [],
   "source": [
    "#mags_predictions = jax.tree_map(lambda x,y : calc_obs_mag(ssp_data.ssp_wave, sed_attenuated,x,y,z_obs, *DEFAULT_COSMOLOGY),list_wls_f_sel,list_trans_f_sel)"
   ]
  },
  {
   "cell_type": "code",
   "execution_count": null,
   "id": "7d7dd301-9c66-4e22-b67c-387dbceb9dfc",
   "metadata": {},
   "outputs": [],
   "source": [
    "data_selected_mags =  jnp.array(data_mags[index_selected_filters])\n",
    "data_selected_magserr = jnp.array(data_magserr[index_selected_filters])"
   ]
  },
  {
   "cell_type": "code",
   "execution_count": null,
   "id": "00fd0ebd-b063-424c-8a1c-d1df2d814a00",
   "metadata": {},
   "outputs": [],
   "source": [
    "data_selected_mags"
   ]
  },
  {
   "cell_type": "markdown",
   "id": "70d71f68-181d-4e6d-aaa3-14e3d17b1f88",
   "metadata": {},
   "source": [
    "## Fits"
   ]
  },
  {
   "cell_type": "markdown",
   "id": "c2e03ba7-51f5-4026-857a-8dfdb0234f7b",
   "metadata": {},
   "source": [
    "## Fit with magnitudes only"
   ]
  },
  {
   "cell_type": "code",
   "execution_count": null,
   "id": "80b0d390-d232-4adc-ae47-ff2c1c9e27cc",
   "metadata": {},
   "outputs": [],
   "source": [
    "\n",
    "lbfgsb = jaxopt.ScipyBoundedMinimize(fun=lik_mag, method=\"L-BFGS-B\")\n",
    "\n",
    "res_m = lbfgsb.run(init_params, bounds=(params_min ,params_max ), xf = Xf_sel, mags_measured = data_selected_mags, sigma_mag_obs = data_selected_magserr,z_obs=z_obs)\n",
    "params_m,fun_min_m,jacob_min_m,inv_hessian_min_m = get_infos_mag(res_m, lik_mag,  xf = Xf_sel, mgs = data_selected_mags, mgse = data_selected_magserr,z_obs=z_obs)\n",
    "print(\"params:\",params_m,\"\\nfun@min:\",fun_min_m,\"\\njacob@min:\",jacob_min_m)\n",
    "#      ,\\n invH@min:\",inv_hessian_min_m)"
   ]
  },
  {
   "cell_type": "markdown",
   "id": "c9039959-ee13-4d3b-a388-edd8800479ee",
   "metadata": {},
   "source": [
    "## Fit with Spectrum only"
   ]
  },
  {
   "cell_type": "code",
   "execution_count": null,
   "id": "04e08e8f-894c-4047-a4f2-b29c30db8182",
   "metadata": {},
   "outputs": [],
   "source": [
    "lbfgsb = jaxopt.ScipyBoundedMinimize(fun=lik_spec, method=\"L-BFGS-B\")\n",
    "\n",
    "res_s = lbfgsb.run(init_params, bounds=(params_min ,params_max ), wls=Xspec_data, F=Yspec_data, sigma_obs = EYspec_data,z_obs=z_obs)\n",
    "params_s,fun_min_s,jacob_min_s,inv_hessian_min_s = get_infos_spec(res_s, lik_spec, wls=Xspec_data, F=Yspec_data,eF=EYspec_data,z_obs=z_obs)\n",
    "print(\"params:\",params_s,\"\\nfun@min:\",fun_min_s,\"\\njacob@min:\",jacob_min_s)\n",
    "#,     \"\\n invH@min:\",inv_hessian_min_s)\n"
   ]
  },
  {
   "cell_type": "code",
   "execution_count": null,
   "id": "4c3060c1-78f6-4dd4-bc54-921e275ad0b1",
   "metadata": {},
   "outputs": [],
   "source": []
  }
 ],
 "metadata": {
  "kernelspec": {
   "display_name": "conda_jaxcpu_dsps_py310",
   "language": "python",
   "name": "conda_jaxcpu_dsps_py310"
  },
  "language_info": {
   "codemirror_mode": {
    "name": "ipython",
    "version": 3
   },
   "file_extension": ".py",
   "mimetype": "text/x-python",
   "name": "python",
   "nbconvert_exporter": "python",
   "pygments_lexer": "ipython3",
   "version": "3.10.13"
  }
 },
 "nbformat": 4,
 "nbformat_minor": 5
}
