{
 "cells": [
  {
   "cell_type": "markdown",
   "id": "a688fc59-ac88-4641-9129-6264f8679cc1",
   "metadata": {},
   "source": [
    "# Fit Single Fors2 Spectrum and Photometry with DSPS - Shorst version"
   ]
  },
  {
   "cell_type": "markdown",
   "id": "e49b0180-5793-49ae-87a0-e998bea32689",
   "metadata": {},
   "source": [
    "Implement this fit using this `fors2tostellarpopsynthesis`package\n",
    "\n",
    "- Author Sylvie Dagoret-Campagne\n",
    "- Afflilation : IJCLab/IN2P3/CNRS\n",
    "- Organisation : LSST-DESC\n",
    "- creation date : 2023-11-23\n",
    "- last update : 2023-11-23\n",
    "\n",
    "\n",
    "\n",
    "Most functions are inside the package."
   ]
  },
  {
   "cell_type": "markdown",
   "id": "e7373f4c-496c-4116-b1d4-bb0bec0f59c4",
   "metadata": {},
   "source": [
    "## Import"
   ]
  },
  {
   "cell_type": "code",
   "execution_count": null,
   "id": "3081db6d-2b62-4701-9879-d638bd5db85f",
   "metadata": {},
   "outputs": [],
   "source": [
    "import h5py\n",
    "import pandas as pd\n",
    "import numpy as np\n",
    "import os\n",
    "import re\n",
    "import pickle \n",
    "import matplotlib as mpl\n",
    "import matplotlib.pyplot as plt\n",
    "%matplotlib inline\n",
    "import matplotlib.colors as colors\n",
    "import matplotlib.cm as cmx\n",
    "import collections\n",
    "from collections import OrderedDict\n",
    "import re\n",
    "import matplotlib.gridspec as gridspec\n",
    "from sklearn.gaussian_process import GaussianProcessRegressor, kernels"
   ]
  },
  {
   "cell_type": "code",
   "execution_count": null,
   "id": "c20e98ab-b268-4fb0-86e4-2897fcc200d9",
   "metadata": {},
   "outputs": [],
   "source": [
    "import jax\n",
    "import jax.numpy as jnp\n",
    "from jax import vmap\n",
    "import jaxopt\n",
    "import optax\n",
    "jax.config.update(\"jax_enable_x64\", True)\n",
    "from interpax import interp1d"
   ]
  },
  {
   "cell_type": "code",
   "execution_count": null,
   "id": "e0a10a65-7027-48d4-8f38-5fd31c119dbe",
   "metadata": {},
   "outputs": [],
   "source": [
    "plt.rcParams[\"figure.figsize\"] = (12,6)\n",
    "plt.rcParams[\"axes.labelsize\"] = 'xx-large'\n",
    "plt.rcParams['axes.titlesize'] = 'xx-large'\n",
    "plt.rcParams['xtick.labelsize']= 'xx-large'\n",
    "plt.rcParams['ytick.labelsize']= 'xx-large'\n",
    "plt.rcParams['legend.fontsize']=  16"
   ]
  },
  {
   "cell_type": "markdown",
   "id": "68fd356d-2ec7-4c49-a27b-9442e331b754",
   "metadata": {},
   "source": [
    "### Filters"
   ]
  },
  {
   "cell_type": "code",
   "execution_count": null,
   "id": "2ab9bf3f-0e9d-4778-b3fa-748879da738c",
   "metadata": {},
   "outputs": [],
   "source": [
    "from fors2tostellarpopsynthesis.filters import FilterInfo"
   ]
  },
  {
   "cell_type": "markdown",
   "id": "2f51644e-9599-4646-9ed9-f7fafa2d7962",
   "metadata": {},
   "source": [
    "### Fors2 and Starlight"
   ]
  },
  {
   "cell_type": "code",
   "execution_count": null,
   "id": "be610061-e204-4210-82aa-38edc32e2f6c",
   "metadata": {},
   "outputs": [],
   "source": [
    "from fors2tostellarpopsynthesis.fors2starlightio import Fors2DataAcess, SLDataAcess,convert_flux_torestframe,gpr"
   ]
  },
  {
   "cell_type": "markdown",
   "id": "aae04981-ec66-4457-bd27-fef621b141dc",
   "metadata": {},
   "source": [
    "### fitter jaxopt"
   ]
  },
  {
   "cell_type": "code",
   "execution_count": null,
   "id": "f420cae3-8061-461e-97d8-4856a94508fa",
   "metadata": {},
   "outputs": [],
   "source": [
    "from fors2tostellarpopsynthesis.fitters.fitter_jaxopt import (lik_spec,lik_mag,lik_comb,\n",
    "get_infos_spec,get_infos_mag,get_infos_comb)\n",
    "\n",
    "from fors2tostellarpopsynthesis.fitters.fitter_jaxopt import (SSP_DATA,mean_spectrum,mean_mags,mean_sfr,ssp_spectrum_fromparam)"
   ]
  },
  {
   "cell_type": "code",
   "execution_count": null,
   "id": "8564640a-326b-4964-bff7-f1d0791ef53b",
   "metadata": {
    "tags": []
   },
   "outputs": [],
   "source": [
    "from fors2tostellarpopsynthesis.fitters.fitter_util import (plot_fit_ssp_photometry,\n",
    "                          plot_fit_ssp_spectrophotometry,\n",
    "                          plot_fit_ssp_spectrophotometry_sl,\n",
    "                          plot_fit_ssp_spectroscopy, plot_SFH,\n",
    "                          rescale_photometry, rescale_spectroscopy,\n",
    "                          rescale_starlight_inrangefors2)\n"
   ]
  },
  {
   "cell_type": "code",
   "execution_count": null,
   "id": "58ec8e3e-adce-4857-be10-3976c3a248ed",
   "metadata": {},
   "outputs": [],
   "source": [
    "#from dsps.cosmology import DEFAULT_COSMOLOGY, age_at_z"
   ]
  },
  {
   "cell_type": "markdown",
   "id": "3a049233-22bf-448f-88c0-474dfc67f452",
   "metadata": {},
   "source": [
    "## Check filters"
   ]
  },
  {
   "cell_type": "code",
   "execution_count": null,
   "id": "0d243f90-d914-438d-9423-168d2b63adc0",
   "metadata": {},
   "outputs": [],
   "source": [
    "ps = FilterInfo()\n",
    "ps.plot_transmissions()"
   ]
  },
  {
   "cell_type": "markdown",
   "id": "cc221d8f-cf90-42a9-b905-55392a399ca3",
   "metadata": {},
   "source": [
    "## Fors2 data"
   ]
  },
  {
   "cell_type": "code",
   "execution_count": null,
   "id": "6d608167-ed34-4581-aad5-1406a3f394b8",
   "metadata": {},
   "outputs": [],
   "source": [
    "fors2 = Fors2DataAcess()"
   ]
  },
  {
   "cell_type": "code",
   "execution_count": null,
   "id": "f09a6da3-9b62-425b-b193-e5a6a77a3dab",
   "metadata": {},
   "outputs": [],
   "source": [
    "fors2.plot_allspectra()"
   ]
  },
  {
   "cell_type": "code",
   "execution_count": null,
   "id": "21474d5c-2896-4226-87c7-5a152ebb7cbf",
   "metadata": {},
   "outputs": [],
   "source": [
    "fors2_tags = fors2.get_list_of_groupkeys()\n",
    "len(fors2_tags)"
   ]
  },
  {
   "cell_type": "code",
   "execution_count": null,
   "id": "c4d132c5-7aca-45e6-8b12-fe36b1cce598",
   "metadata": {},
   "outputs": [],
   "source": [
    "list_of_fors2_attributes = fors2.get_list_subgroup_keys()\n",
    "print(list_of_fors2_attributes)"
   ]
  },
  {
   "cell_type": "markdown",
   "id": "b474095b-531d-45b4-aa69-63f1e09df168",
   "metadata": {},
   "source": [
    "## StarLight data"
   ]
  },
  {
   "cell_type": "code",
   "execution_count": null,
   "id": "0912b601-9edf-47c8-9e64-38d779e76a11",
   "metadata": {},
   "outputs": [],
   "source": [
    "sl = SLDataAcess()"
   ]
  },
  {
   "cell_type": "code",
   "execution_count": null,
   "id": "eb7b1413-65da-47c4-9af7-eb7b37288640",
   "metadata": {},
   "outputs": [],
   "source": [
    "sl.plot_allspectra()"
   ]
  },
  {
   "cell_type": "code",
   "execution_count": null,
   "id": "7efa1b32-c871-4798-b1d2-03c0df467a28",
   "metadata": {},
   "outputs": [],
   "source": [
    "sl_tags = sl.get_list_of_groupkeys()\n",
    "len(sl_tags)"
   ]
  },
  {
   "cell_type": "markdown",
   "id": "547e1cab-c6d2-471d-8efb-c72ddf505863",
   "metadata": {},
   "source": [
    "## Select Spectrum"
   ]
  },
  {
   "cell_type": "code",
   "execution_count": null,
   "id": "32e04edf-7dc2-4ff8-93da-0269269373bc",
   "metadata": {},
   "outputs": [],
   "source": [
    "selected_spectrum_number = 411\n",
    "#selected_spectrum_number = 560\n",
    "selected_spectrum_tag = f\"SPEC{selected_spectrum_number}\""
   ]
  },
  {
   "cell_type": "code",
   "execution_count": null,
   "id": "7545ec6c-c694-45fa-9959-581f3d9e1128",
   "metadata": {},
   "outputs": [],
   "source": [
    "fors2_attr =fors2.getattribdata_fromgroup(selected_spectrum_tag)\n",
    "z_obs = fors2_attr['redshift']"
   ]
  },
  {
   "cell_type": "markdown",
   "id": "97c7b2c9-f447-4574-9c91-d9dd803d72cd",
   "metadata": {},
   "source": [
    "### Get magnitude data"
   ]
  },
  {
   "cell_type": "code",
   "execution_count": null,
   "id": "5ee266c1-2a67-41d7-8d8c-bd488632edc7",
   "metadata": {},
   "outputs": [],
   "source": [
    "data_mags, data_magserr = fors2.get_photmagnitudes(selected_spectrum_tag)"
   ]
  },
  {
   "cell_type": "markdown",
   "id": "fefea630-9493-41ba-8519-d05825946e87",
   "metadata": {},
   "source": [
    "### Get Fors2 spectrum in rest-frame"
   ]
  },
  {
   "cell_type": "code",
   "execution_count": null,
   "id": "b25945e0-4d2c-4608-8eaf-bc69d478877e",
   "metadata": {},
   "outputs": [],
   "source": [
    "spec_obs = fors2.getspectrumcleanedemissionlines_fromgroup(selected_spectrum_tag)"
   ]
  },
  {
   "cell_type": "code",
   "execution_count": null,
   "id": "b038cad9-1b06-490c-9835-03dde5b9f2aa",
   "metadata": {},
   "outputs": [],
   "source": [
    "spec_obs"
   ]
  },
  {
   "cell_type": "code",
   "execution_count": null,
   "id": "96be52a9-73fe-4c42-942f-5fdf26c7c98b",
   "metadata": {},
   "outputs": [],
   "source": [
    "Xs = spec_obs['wl']\n",
    "Ys = spec_obs['fnu']\n",
    "EYs = spec_obs['bg']\n",
    "EYs_med = spec_obs['bg_med']\n",
    "flmin_obs = spec_obs['fnu']-spec_obs['bg']\n",
    "flmax_obs = spec_obs['fnu']+spec_obs['bg']"
   ]
  },
  {
   "cell_type": "markdown",
   "id": "ee5b06b8-9ebd-429e-a409-905bbaa95333",
   "metadata": {},
   "source": [
    "#### Convert to restframe"
   ]
  },
  {
   "cell_type": "code",
   "execution_count": null,
   "id": "8381555a-dbbe-485c-b1b2-6d9e14eeb29a",
   "metadata": {},
   "outputs": [],
   "source": [
    "Xspec_data, Yspec_data = convert_flux_torestframe(Xs,Ys,z_obs)\n",
    "EYspec_data = EYs*(1+z_obs)\n",
    "EYspec_data_med = EYs_med*(1+z_obs) "
   ]
  },
  {
   "cell_type": "code",
   "execution_count": null,
   "id": "bf3e360b-ed50-4e1c-800b-a870fcfbb1cc",
   "metadata": {},
   "outputs": [],
   "source": [
    "flmin_rest = Yspec_data - EYspec_data\n",
    "flmax_rest= Yspec_data + EYspec_data"
   ]
  },
  {
   "cell_type": "code",
   "execution_count": null,
   "id": "fe0ef068-87fb-474f-bac4-85eb24b299cf",
   "metadata": {},
   "outputs": [],
   "source": [
    "title_spec = selected_spectrum_tag + f\" z= {z_obs:.2f}\"\n",
    "_,axs = plt.subplots(2,1,figsize=(10,6))\n",
    "\n",
    "ax1=axs[0]\n",
    "ax1.plot(Xs,Ys,'-b',label=\"obs frame\")\n",
    "ax1.fill_between(Xs,flmin_obs,flmax_obs, facecolor='lightgrey', edgecolors=\"None\")\n",
    "\n",
    "ax1.plot(Xspec_data,Yspec_data ,'-r',label=\"rest frame\")\n",
    "ax1.fill_between(Xspec_data,flmin_rest,flmax_rest, facecolor='lightgrey', edgecolors=\"None\")\n",
    "ax1.legend()\n",
    "ax1.set_title(title_spec)\n",
    "ax1.set_xlabel(\"$\\lambda (\\\\AA)$\")\n",
    "ax1.grid()\n",
    "\n",
    "ax2=axs[1]\n",
    "\n",
    "ax2.plot(Xs,EYs,'-b',label=\"obs frame\")\n",
    "ax2.axhline(EYs_med,color=\"b\")\n",
    "ax2.plot(Xspec_data,EYspec_data ,'-r',label=\"rest frame\")\n",
    "ax2.axhline(EYspec_data_med,color=\"r\")\n",
    "ax2.set_xlabel(\"$\\lambda (\\\\AA)$\")\n",
    "ax2.grid()"
   ]
  },
  {
   "cell_type": "code",
   "execution_count": null,
   "id": "95b68547-4a0c-46c7-b598-3d1bf38b6861",
   "metadata": {},
   "outputs": [],
   "source": [
    "fors2.plot_spectro_photom_rescaling(selected_spectrum_tag)"
   ]
  },
  {
   "cell_type": "markdown",
   "id": "42ce87d7-3452-4b1d-9114-dd38a5adc316",
   "metadata": {},
   "source": [
    "## Parameters"
   ]
  },
  {
   "cell_type": "code",
   "execution_count": null,
   "id": "3c5e0f6f-b53b-46c9-b84d-24afc92c2393",
   "metadata": {},
   "outputs": [],
   "source": [
    "from fors2tostellarpopsynthesis.parameters import SSPParametersFit,paramslist_to_dict"
   ]
  },
  {
   "cell_type": "code",
   "execution_count": null,
   "id": "eb5893bd-645c-4b6a-b9a4-f0b0392b90b9",
   "metadata": {},
   "outputs": [],
   "source": [
    "p = SSPParametersFit()"
   ]
  },
  {
   "cell_type": "code",
   "execution_count": null,
   "id": "b9c17c25-2727-4084-8665-c92cc6fcf85f",
   "metadata": {},
   "outputs": [],
   "source": [
    "print(p)"
   ]
  },
  {
   "cell_type": "code",
   "execution_count": null,
   "id": "b19c9706-c1e5-41f8-aa67-18da113078fe",
   "metadata": {},
   "outputs": [],
   "source": [
    "p.DICT_PARAMS_true"
   ]
  },
  {
   "cell_type": "code",
   "execution_count": null,
   "id": "20125fd6-ad08-446c-ae1c-28bc576f0832",
   "metadata": {},
   "outputs": [],
   "source": [
    "init_params = p.INIT_PARAMS\n",
    "params_min = p.PARAMS_MIN\n",
    "params_max = p.PARAMS_MAX"
   ]
  },
  {
   "cell_type": "markdown",
   "id": "535eb28f-ec4f-46fd-bd5c-efd9805d9c1a",
   "metadata": {},
   "source": [
    "# Select filters"
   ]
  },
  {
   "cell_type": "code",
   "execution_count": null,
   "id": "aec2b6f4-5a65-4912-9478-30b30c858cf5",
   "metadata": {},
   "outputs": [],
   "source": [
    "print(ps.filters_indexlist) \n",
    "print(ps.filters_surveylist)\n",
    "print(ps.filters_namelist)"
   ]
  },
  {
   "cell_type": "markdown",
   "id": "31abdd5c-8003-481c-b34c-fbac6692c22b",
   "metadata": {},
   "source": [
    "### Choose the index of the filters"
   ]
  },
  {
   "cell_type": "code",
   "execution_count": null,
   "id": "4d647814-37c7-4b35-b4d5-4442445d704f",
   "metadata": {},
   "outputs": [],
   "source": [
    "#data_mags, data_magserr"
   ]
  },
  {
   "cell_type": "code",
   "execution_count": null,
   "id": "50321fc1-9a3f-4561-aa4f-894b63dcf8ba",
   "metadata": {
    "tags": []
   },
   "outputs": [],
   "source": [
    "np.argwhere(~np.isnan(data_mags)).flatten()"
   ]
  },
  {
   "cell_type": "code",
   "execution_count": null,
   "id": "c6e7105c-2c34-468c-9593-c9752b90f966",
   "metadata": {
    "tags": []
   },
   "outputs": [],
   "source": [
    "np.argwhere(~np.isnan(data_magserr)).flatten()"
   ]
  },
  {
   "cell_type": "code",
   "execution_count": null,
   "id": "f8ee1a81-e858-462d-8e1c-720ba07cae66",
   "metadata": {
    "tags": []
   },
   "outputs": [],
   "source": [
    "NoNaN_mags = np.intersect1d(np.argwhere(~np.isnan(data_mags)).flatten(),np.argwhere(~np.isnan(data_magserr)).flatten())\n",
    "NoNaN_mags"
   ]
  },
  {
   "cell_type": "code",
   "execution_count": null,
   "id": "85d1ddf1-0901-4247-b170-d2351e636eaf",
   "metadata": {},
   "outputs": [],
   "source": [
    "index_selected_filters = NoNaN_mags\n",
    "index_selected_filters"
   ]
  },
  {
   "cell_type": "code",
   "execution_count": null,
   "id": "35dffd59-862d-471c-8206-c4b7e388913d",
   "metadata": {},
   "outputs": [],
   "source": [
    "XF = ps.get_2lists()\n",
    "NF = len(XF[0])"
   ]
  },
  {
   "cell_type": "code",
   "execution_count": null,
   "id": "93549d4e-384e-42a9-b4cf-4bcf17e266d4",
   "metadata": {},
   "outputs": [],
   "source": [
    "list_wls_f_sel = []\n",
    "list_trans_f_sel = []\n",
    "\n",
    "list_name_f_sel = []\n",
    "list_wlmean_f_sel = []\n",
    "\n",
    "for index in index_selected_filters:\n",
    "    list_wls_f_sel.append(XF[0][index])\n",
    "    list_trans_f_sel.append(XF[1][index])\n",
    "    the_filt = ps.filters_transmissionlist[index]\n",
    "    the_wlmean = the_filt.wave_mean\n",
    "    list_wlmean_f_sel.append(the_wlmean)\n",
    "    list_name_f_sel.append(ps.filters_namelist[index])\n",
    "    \n",
    "list_wlmean_f_sel = jnp.array(list_wlmean_f_sel) "
   ]
  },
  {
   "cell_type": "code",
   "execution_count": null,
   "id": "ccc940ec-5147-4ca6-944b-8f757d1339ed",
   "metadata": {},
   "outputs": [],
   "source": [
    "Xf_sel = (list_wls_f_sel,list_trans_f_sel)"
   ]
  },
  {
   "cell_type": "code",
   "execution_count": null,
   "id": "42542dd8-0dc8-49d4-a8a8-6f161b9ac04e",
   "metadata": {},
   "outputs": [],
   "source": [
    "#mags_predictions = jax.tree_map(lambda x,y : calc_obs_mag(ssp_data.ssp_wave, sed_attenuated,x,y,z_obs, *DEFAULT_COSMOLOGY),list_wls_f_sel,list_trans_f_sel)"
   ]
  },
  {
   "cell_type": "code",
   "execution_count": null,
   "id": "7d7dd301-9c66-4e22-b67c-387dbceb9dfc",
   "metadata": {},
   "outputs": [],
   "source": [
    "data_selected_mags =  jnp.array(data_mags[index_selected_filters])\n",
    "data_selected_magserr = jnp.array(data_magserr[index_selected_filters])"
   ]
  },
  {
   "cell_type": "code",
   "execution_count": null,
   "id": "00fd0ebd-b063-424c-8a1c-d1df2d814a00",
   "metadata": {},
   "outputs": [],
   "source": [
    "data_selected_mags"
   ]
  },
  {
   "cell_type": "code",
   "execution_count": null,
   "id": "f279b6fc-5178-4df1-9e47-1d95b729411a",
   "metadata": {},
   "outputs": [],
   "source": [
    "data_selected_magserr"
   ]
  },
  {
   "cell_type": "markdown",
   "id": "70d71f68-181d-4e6d-aaa3-14e3d17b1f88",
   "metadata": {},
   "source": [
    "## Fits"
   ]
  },
  {
   "cell_type": "markdown",
   "id": "c2e03ba7-51f5-4026-857a-8dfdb0234f7b",
   "metadata": {},
   "source": [
    "### Fit with magnitudes only\n",
    "\n",
    "The magnitudes associated to the Fors2 spectrum allow to set the SED-Mass scale, thus the\n",
    "flux scale. The following code do the fit on photometry by calling the jaxopt optimisation. "
   ]
  },
  {
   "cell_type": "code",
   "execution_count": null,
   "id": "80b0d390-d232-4adc-ae47-ff2c1c9e27cc",
   "metadata": {},
   "outputs": [],
   "source": [
    "\n",
    "lbfgsb = jaxopt.ScipyBoundedMinimize(fun=lik_mag, method=\"L-BFGS-B\")\n",
    "\n",
    "res_m = lbfgsb.run(init_params, bounds=(params_min ,params_max ), xf = Xf_sel, mags_measured = data_selected_mags, sigma_mag_obs = data_selected_magserr,z_obs=z_obs)\n",
    "params_m,fun_min_m,jacob_min_m,inv_hessian_min_m = get_infos_mag(res_m, lik_mag,  xf = Xf_sel, mgs = data_selected_mags, mgse = data_selected_magserr,z_obs=z_obs)\n",
    "print(\"params:\",params_m,\"\\nfun@min:\",fun_min_m,\"\\njacob@min:\",jacob_min_m)\n",
    "#      ,\\n invH@min:\",inv_hessian_min_m)"
   ]
  },
  {
   "cell_type": "code",
   "execution_count": null,
   "id": "cb105e02-b04a-4a69-9f25-43be2e9bb7ab",
   "metadata": {},
   "outputs": [],
   "source": [
    "# Convert fitted parameters into a dictionnary\n",
    "dict_params_m = paramslist_to_dict( params_m,p.PARAM_NAMES_FLAT) "
   ]
  },
  {
   "cell_type": "code",
   "execution_count": null,
   "id": "924368a2-82b3-4559-96f0-eeed3c5b88c0",
   "metadata": {},
   "outputs": [],
   "source": [
    "#mfluxes = vmap(lambda x : jnp.power(10.,-0.4*x), in_axes=0)(data_selected_mags)\n",
    "#emfluxes = vmap(lambda x,y : jnp.power(10.,-0.4*x)*y)(data_selected_mags, data_selected_magserr)"
   ]
  },
  {
   "cell_type": "code",
   "execution_count": null,
   "id": "fdf5a23b-214e-4ae8-bc34-8016a2dcf569",
   "metadata": {},
   "outputs": [],
   "source": [
    "xphot_rest,yphot_rest,eyphot_rest,factor = rescale_photometry(dict_params_m,list_wlmean_f_sel,data_selected_mags,data_selected_magserr,z_obs)"
   ]
  },
  {
   "cell_type": "code",
   "execution_count": null,
   "id": "abee054f-61af-44aa-ab3c-b132073812f0",
   "metadata": {},
   "outputs": [],
   "source": [
    "plot_fit_ssp_photometry(dict_params_m,list_wlmean_f_sel,data_selected_mags,data_selected_magserr,z_obs, subtit = title_spec ,ax=None)"
   ]
  },
  {
   "cell_type": "markdown",
   "id": "c9039959-ee13-4d3b-a388-edd8800479ee",
   "metadata": {},
   "source": [
    "### Fit with Spectrum only\n",
    "\n",
    "The Fors2 spectra aren't calibrated. Those have to be rescaled in amplitude\n",
    "on the SED model fitted first with photometry"
   ]
  },
  {
   "cell_type": "markdown",
   "id": "c33f0824-fc45-4585-8cf0-38c3396bbfad",
   "metadata": {},
   "source": [
    "#### rescale spectroscopic data"
   ]
  },
  {
   "cell_type": "code",
   "execution_count": null,
   "id": "14996821-fcc0-437f-ad67-c15998205245",
   "metadata": {},
   "outputs": [],
   "source": [
    "Xspec_data_rest,Yspec_data_rest,EYspec_data_rest,factor = rescale_spectroscopy(dict_params_m,Xspec_data,Yspec_data,EYspec_data,z_obs)"
   ]
  },
  {
   "cell_type": "markdown",
   "id": "890bb4fc-6ae2-4e24-b4be-3820231d68be",
   "metadata": {},
   "source": [
    "#### fit spectroscopic data alone"
   ]
  },
  {
   "cell_type": "code",
   "execution_count": null,
   "id": "04e08e8f-894c-4047-a4f2-b29c30db8182",
   "metadata": {},
   "outputs": [],
   "source": [
    "lbfgsb = jaxopt.ScipyBoundedMinimize(fun=lik_spec, method=\"L-BFGS-B\")\n",
    "res_s = lbfgsb.run(init_params, bounds=(params_min ,params_max ), wls=Xspec_data_rest, F=Yspec_data_rest, sigma_obs = EYspec_data_rest,z_obs=z_obs)\n",
    "params_s,fun_min_s,jacob_min_s,inv_hessian_min_s = get_infos_spec(res_s, lik_spec, wls=Xspec_data, F=Yspec_data,eF=EYspec_data,z_obs=z_obs)\n",
    "print(\"params:\",params_s,\"\\nfun@min:\",fun_min_s,\"\\njacob@min:\",jacob_min_s)\n",
    "#,     \"\\n invH@min:\",inv_hessian_min_s)\n"
   ]
  },
  {
   "cell_type": "markdown",
   "id": "a1bedf46-57c0-4fa1-95ad-407d8e53e1ec",
   "metadata": {},
   "source": [
    "#### convert the fitted parameters on spectroscopic data into a dictionnary"
   ]
  },
  {
   "cell_type": "code",
   "execution_count": null,
   "id": "ff306dc3-71a2-4268-b9e5-bccf3bf6777e",
   "metadata": {},
   "outputs": [],
   "source": [
    "# Convert fitted parameters into a dictionnary\n",
    "dict_params_s = paramslist_to_dict( params_s,p.PARAM_NAMES_FLAT) "
   ]
  },
  {
   "cell_type": "markdown",
   "id": "16f4831a-d938-4848-ae13-4dd65361deab",
   "metadata": {},
   "source": [
    "#### plot the SED models and the spectroscopic data"
   ]
  },
  {
   "cell_type": "code",
   "execution_count": null,
   "id": "a1c84b7f-e10f-40c7-80f7-410c36a5130a",
   "metadata": {},
   "outputs": [],
   "source": [
    "plot_fit_ssp_spectroscopy(dict_params_s,Xspec_data_rest,Yspec_data_rest,EYspec_data_rest,z_obs,subtit = title_spec)"
   ]
  },
  {
   "cell_type": "markdown",
   "id": "4de33d3a-7221-4321-aaa9-0d517cdaade4",
   "metadata": {},
   "source": [
    "### Fit by combining Fors2 Spectrum and Photometry"
   ]
  },
  {
   "cell_type": "markdown",
   "id": "c13b7868-a6a5-40dc-983c-4efc199e6918",
   "metadata": {},
   "source": [
    "- Combine Fors2 data and Photometric data.\n",
    "- Both are properly rescaled and in rest frame"
   ]
  },
  {
   "cell_type": "code",
   "execution_count": null,
   "id": "f3d0886d-71a0-4e52-9abc-89aabf9e5186",
   "metadata": {},
   "outputs": [],
   "source": [
    "Xc = [Xspec_data_rest, Xf_sel]\n",
    "Yc = [Yspec_data_rest,  data_selected_mags ]\n",
    "EYc = [EYspec_data_rest, data_selected_magserr]\n",
    "weight_spec = 0.5"
   ]
  },
  {
   "cell_type": "markdown",
   "id": "09f9a4ae-45f4-4799-83bc-6a0936e26fdb",
   "metadata": {},
   "source": [
    "#### Do the combined fit"
   ]
  },
  {
   "cell_type": "code",
   "execution_count": null,
   "id": "db4ebdcc-286c-472e-8a28-e0575df34539",
   "metadata": {},
   "outputs": [],
   "source": [
    "lbfgsb = jaxopt.ScipyBoundedMinimize(fun=lik_comb, method=\"L-BFGS-B\")\n",
    "\n",
    "res_c = lbfgsb.run(init_params, bounds=(params_min ,params_max ), xc=Xc, datac=Yc,sigmac=EYc,z_obs=z_obs,weight=weight_spec)\n",
    "params_c,fun_min_c,jacob_min_c,inv_hessian_min_c = get_infos_comb(res_c, lik_comb, xc=Xc, datac=Yc,sigmac=EYc,z_obs=z_obs,weight=weight_spec)\n",
    "print(\"params:\",params_c,\"\\nfun@min:\",fun_min_c,\"\\njacob@min:\",jacob_min_c)\n",
    "#      ,\"\\n invH@min:\",inv_hessian_min_c)\n"
   ]
  },
  {
   "cell_type": "markdown",
   "id": "7b635190-42ee-4670-893e-d335af7e712f",
   "metadata": {},
   "source": [
    "##### check the value of the chi2 for the photometric part"
   ]
  },
  {
   "cell_type": "code",
   "execution_count": null,
   "id": "76971a57-a2b4-4e81-b0f5-64d5bd55c20a",
   "metadata": {},
   "outputs": [],
   "source": [
    "params_cm,fun_min_cm,jacob_min_cm,inv_hessian_min_cm  = get_infos_mag(res_c, lik_mag,  xf = Xf_sel, mgs = data_selected_mags, mgse = data_selected_magserr,z_obs=z_obs)\n",
    "print(\"params:\",params_cm,\"\\nfun@min:\",fun_min_cm,\"\\njacob@min:\",jacob_min_cm)"
   ]
  },
  {
   "cell_type": "markdown",
   "id": "ea8a6f6b-7d5d-4efa-98d9-9f2a6b1cbabf",
   "metadata": {},
   "source": [
    "##### check the value of the chi2 for the spectroscopic part"
   ]
  },
  {
   "cell_type": "code",
   "execution_count": null,
   "id": "d25f4ae2-764f-4092-b2f5-36f7edbffbea",
   "metadata": {},
   "outputs": [],
   "source": [
    "params_cs,fun_min_cs,jacob_min_cs,inv_hessian_min_cs = get_infos_spec(res_c, lik_spec, wls=Xspec_data_rest, F=Yspec_data_rest,eF=EYspec_data_rest,z_obs=z_obs)\n",
    "print(\"params:\",params_cs,\"\\nfun@min:\",fun_min_cs,\"\\njacob@min:\",jacob_min_cs)"
   ]
  },
  {
   "cell_type": "markdown",
   "id": "065666a3-6682-4102-b061-7ad00be44413",
   "metadata": {},
   "source": [
    "#### Convert fitted parameters into a dictionnary"
   ]
  },
  {
   "cell_type": "code",
   "execution_count": null,
   "id": "afed1d07-3cc2-4eb9-a7e4-61bef01a6a4a",
   "metadata": {},
   "outputs": [],
   "source": [
    "dict_params_c = paramslist_to_dict( params_c,p.PARAM_NAMES_FLAT) "
   ]
  },
  {
   "cell_type": "markdown",
   "id": "0b74a06e-fe37-4c28-af18-18a84f99c6f3",
   "metadata": {},
   "source": [
    "#### Plot combined fit"
   ]
  },
  {
   "cell_type": "code",
   "execution_count": null,
   "id": "d5c9c2f9-3862-47e9-996d-433a53959dc3",
   "metadata": {},
   "outputs": [],
   "source": [
    "plot_fit_ssp_spectrophotometry(dict_params_c ,Xspec_data_rest,Yspec_data_rest,EYspec_data_rest,xphot_rest,yphot_rest,eyphot_rest,z_obs=z_obs,subtit = title_spec )"
   ]
  },
  {
   "cell_type": "markdown",
   "id": "bfb4bda9-5767-4891-8fe9-08a30dbd5585",
   "metadata": {},
   "source": [
    "## Add StarLight model for comparison"
   ]
  },
  {
   "cell_type": "markdown",
   "id": "4f0b4ca7-5a43-4e5c-a85e-48f3b5b325d7",
   "metadata": {},
   "source": [
    "### Get StarLight spectrum"
   ]
  },
  {
   "cell_type": "code",
   "execution_count": null,
   "id": "d93a47b2-2321-4cb5-b520-b5b468becb50",
   "metadata": {},
   "outputs": [],
   "source": [
    "dict_sl = sl.getspectrum_fromgroup(selected_spectrum_tag)"
   ]
  },
  {
   "cell_type": "markdown",
   "id": "8cd81733-46aa-43af-97a0-a51f2357ec9e",
   "metadata": {},
   "source": [
    "### Rescale Starlight spectrum"
   ]
  },
  {
   "cell_type": "code",
   "execution_count": null,
   "id": "d26a5476-fdcf-4479-bcfd-095597cc8d59",
   "metadata": {},
   "outputs": [],
   "source": [
    "w_sl ,fnu_sl , _ = rescale_starlight_inrangefors2(dict_sl[\"wl\"],dict_sl[\"fnu\"],Xspec_data_rest,Yspec_data_rest )"
   ]
  },
  {
   "cell_type": "markdown",
   "id": "aa87ce33-f6a1-4a02-92f1-91b2d5f7b27a",
   "metadata": {},
   "source": [
    "### Plot all data and models"
   ]
  },
  {
   "cell_type": "code",
   "execution_count": null,
   "id": "8222471f-7226-4c33-8a35-9aec1ac96bf8",
   "metadata": {},
   "outputs": [],
   "source": [
    "plot_fit_ssp_spectrophotometry_sl(dict_params_c ,Xspec_data_rest,Yspec_data_rest,EYspec_data_rest,xphot_rest,yphot_rest,eyphot_rest,w_sl,fnu_sl,z_obs=z_obs,subtit = title_spec )"
   ]
  },
  {
   "cell_type": "markdown",
   "id": "44b983ae-c9a5-4304-9f01-b0766639d843",
   "metadata": {},
   "source": [
    "## Plot the SFH model"
   ]
  },
  {
   "cell_type": "code",
   "execution_count": null,
   "id": "e15f56a1-672f-4b18-ad17-0fea91f39d5a",
   "metadata": {},
   "outputs": [],
   "source": [
    "plot_SFH(dict_params_c,z_obs,subtit = title_spec , ax=None)"
   ]
  },
  {
   "cell_type": "markdown",
   "id": "99eaee67-6135-4897-8ffc-c4f05f86c05c",
   "metadata": {},
   "source": [
    "## save fitted data"
   ]
  },
  {
   "cell_type": "code",
   "execution_count": null,
   "id": "86432888-a31b-4b18-92f7-f58dd766890b",
   "metadata": {},
   "outputs": [],
   "source": [
    "filename_params = f\"fitparams_{selected_spectrum_tag}.pickle\""
   ]
  },
  {
   "cell_type": "code",
   "execution_count": null,
   "id": "9971b111-6035-4946-842e-ee46b3bd0e0c",
   "metadata": {},
   "outputs": [],
   "source": [
    "with open(filename_params, 'wb') as f:\n",
    "    pickle.dump(dict_params_c, f)"
   ]
  },
  {
   "cell_type": "code",
   "execution_count": null,
   "id": "0a69f2ba-ba77-46f2-ad0a-9dfcd268e5ac",
   "metadata": {},
   "outputs": [],
   "source": [
    "#with open(filename_params, 'rb') as f:\n",
    "#    loaded_dict = pickle.load(f)"
   ]
  },
  {
   "cell_type": "code",
   "execution_count": null,
   "id": "0d03bea3-cb31-4755-aa15-8f6633df845d",
   "metadata": {},
   "outputs": [],
   "source": []
  }
 ],
 "metadata": {
  "kernelspec": {
   "display_name": "conda_jaxcpu_dsps_py310",
   "language": "python",
   "name": "conda_jaxcpu_dsps_py310"
  },
  "language_info": {
   "codemirror_mode": {
    "name": "ipython",
    "version": 3
   },
   "file_extension": ".py",
   "mimetype": "text/x-python",
   "name": "python",
   "nbconvert_exporter": "python",
   "pygments_lexer": "ipython3",
   "version": "3.10.13"
  }
 },
 "nbformat": 4,
 "nbformat_minor": 5
}
