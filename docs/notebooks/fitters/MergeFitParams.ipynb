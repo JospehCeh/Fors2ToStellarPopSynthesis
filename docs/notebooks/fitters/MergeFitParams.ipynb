{
 "cells": [
  {
   "cell_type": "markdown",
   "id": "281bd3c4-8bf5-4154-8d6e-da14f875b359",
   "metadata": {},
   "source": [
    "# Merge results for fitted params in a single pandas file"
   ]
  },
  {
   "cell_type": "markdown",
   "id": "94d06c4b-3ef4-423a-baa1-bf2e939eb671",
   "metadata": {},
   "source": [
    "Gather all results on fitted params \n",
    "\n",
    "- Author Sylvie Dagoret-Campagne\n",
    "- Afflilation : IJCLab/IN2P3/CNRS\n",
    "- Organisation : LSST-DESC\n",
    "- creation date : 2023-11-26\n",
    "\n",
    "- conda environment on my laptop : ``conda_jaxcpu_dsps_py310``\n",
    "  \n",
    "- last update : 2023-11-27 : fit done by november 2023 (LSST France @ CCIN2P3)\n",
    "- last update : 2024-01-06 : fit done by Janyary 6th 2024 to increase parameter range\n",
    "- last update : 2024-01-28 : fit done by Janyary 28th 2024 include metallicity in fit parameters"
   ]
  },
  {
   "cell_type": "code",
   "execution_count": null,
   "id": "efef9afa-4b68-478c-b953-ae04143d6ec4",
   "metadata": {},
   "outputs": [],
   "source": [
    "import pandas as pd\n",
    "import h5py\n",
    "import pickle\n",
    "import os\n",
    "import glob\n",
    "import re\n",
    "import numpy as np\n",
    "import jax.numpy as jnp\n",
    "import itertools"
   ]
  },
  {
   "cell_type": "code",
   "execution_count": null,
   "id": "1600e97f-2e19-4810-9276-17d3eb209c41",
   "metadata": {},
   "outputs": [],
   "source": [
    "import jax\n",
    "jax.config.update(\"jax_enable_x64\", True)"
   ]
  },
  {
   "cell_type": "markdown",
   "id": "4377c414-fc1d-4ddd-9c6a-273e616bec3a",
   "metadata": {},
   "source": [
    "## Pickup all available files and sort them"
   ]
  },
  {
   "cell_type": "code",
   "execution_count": null,
   "id": "a072451b-98c5-4c7f-b46a-77fee6928c89",
   "metadata": {},
   "outputs": [],
   "source": [
    "#date = \"2024-01-06\"\n",
    "date = \"2024-01-28\"\n",
    "filenames_fitparams = f\"fitssp_results_{date}/*.pickle\"\n",
    "#regexp_pattern_numbers = \"^fitssp_results_2024-01-06/fitparams_SPEC(.*)[.]pickle$\"\n",
    "regexp_pattern_numbers = \"^fitssp_results_2024-01-28/fitparams_SPEC(.*)[.]pickle$\"\n",
    "filename_output_fittedresults_csv = f\"fitssp_results_{date}.csv\"\n",
    "filename_output_fittedresults_hdf = f\"fitssp_results_{date}.h5\""
   ]
  },
  {
   "cell_type": "code",
   "execution_count": null,
   "id": "90bb3753-2c40-49c6-a84a-3d94a1885706",
   "metadata": {},
   "outputs": [],
   "source": [
    "all_files = []\n",
    "for file in glob.glob(filenames_fitparams):\n",
    "    all_files.append(file)\n",
    "all_files = np.array(all_files)    \n",
    "N = len(all_files)"
   ]
  },
  {
   "cell_type": "code",
   "execution_count": null,
   "id": "b6645d13-810b-4668-b66b-db668bf78f2e",
   "metadata": {},
   "outputs": [],
   "source": [
    "fors2_nums = np.array([int(re.findall(regexp_pattern_numbers , filename)[0]) for filename in all_files])"
   ]
  },
  {
   "cell_type": "code",
   "execution_count": null,
   "id": "1ed21fe7-f610-4be0-87ab-25ea02bf8994",
   "metadata": {},
   "outputs": [],
   "source": [
    "sorted_indexes = np.argsort(fors2_nums)\n",
    "all_sorted_files = all_files[sorted_indexes]\n",
    "fors2_nums_sorted = fors2_nums[sorted_indexes] "
   ]
  },
  {
   "cell_type": "markdown",
   "id": "fc549107-f9ff-4c0c-9788-580ef13294d4",
   "metadata": {},
   "source": [
    "# Read all parameters"
   ]
  },
  {
   "cell_type": "code",
   "execution_count": null,
   "id": "01f3a055-4a07-4d9f-b999-798852c58c46",
   "metadata": {},
   "outputs": [],
   "source": [
    "all_params_dicts = []\n",
    "for filename_params in all_sorted_files:\n",
    "    with open(filename_params, 'rb') as f:\n",
    "        loaded_dict = pickle.load(f)\n",
    "        all_params_dicts.append(loaded_dict)"
   ]
  },
  {
   "cell_type": "code",
   "execution_count": null,
   "id": "a2395b6a-e939-4ac4-9fb2-c69cb97210df",
   "metadata": {},
   "outputs": [],
   "source": [
    "#all_params_dicts[0].keys()"
   ]
  },
  {
   "cell_type": "code",
   "execution_count": null,
   "id": "4c0adefc-f917-4461-850f-418ebf4688a7",
   "metadata": {},
   "outputs": [],
   "source": [
    "#list(all_params_dicts[0].values())"
   ]
  },
  {
   "cell_type": "markdown",
   "id": "45f00d04-9e29-4d54-bdf0-cf433bcc7ba2",
   "metadata": {},
   "source": [
    "## Write in pandas dataframe"
   ]
  },
  {
   "cell_type": "code",
   "execution_count": null,
   "id": "54d95c86-8df6-4613-a9db-568cdf0502c2",
   "metadata": {},
   "outputs": [],
   "source": [
    "df = pd.DataFrame(columns=list(all_params_dicts[0].keys()))"
   ]
  },
  {
   "cell_type": "code",
   "execution_count": null,
   "id": "5b033590-29f5-44b1-bd16-de44cef973bd",
   "metadata": {},
   "outputs": [],
   "source": [
    "NC = len(df.columns)"
   ]
  },
  {
   "cell_type": "code",
   "execution_count": null,
   "id": "db2cbcdc-cdf4-4582-bd3b-e8561c6603e0",
   "metadata": {},
   "outputs": [],
   "source": [
    "for idx in range(N):\n",
    "    row = list(all_params_dicts[idx].values())\n",
    "    len_row = len(row)\n",
    "    row_flatten_part1  = [row[i] for i in range(5) ]\n",
    "    # convert the number from a jax Array into a float value\n",
    "    row_flatten_part2 = [row[i].item() for i in range(5,len_row) ]\n",
    "    row_flatten =  row_flatten_part1 +  row_flatten_part2\n",
    "    if len(row_flatten) != NC:\n",
    "        print(\"bad size row skipped for \",row_flatten)\n",
    "        continue\n",
    "    df.loc[idx] =  row_flatten"
   ]
  },
  {
   "cell_type": "markdown",
   "id": "91678723-84b5-45f8-9b59-149783a8fbec",
   "metadata": {},
   "source": [
    "## Drop NAN"
   ]
  },
  {
   "cell_type": "code",
   "execution_count": null,
   "id": "28a14ea0-2a63-4130-810f-20c7cf02eca5",
   "metadata": {},
   "outputs": [],
   "source": [
    "df = df.dropna(axis=0, ignore_index=True)"
   ]
  },
  {
   "cell_type": "markdown",
   "id": "a2da07e5-ca25-4f5d-ae63-1ecac5709ede",
   "metadata": {},
   "source": [
    "## Write in pandas dataframe"
   ]
  },
  {
   "cell_type": "code",
   "execution_count": null,
   "id": "f9fac744-73a2-4ced-b7e4-9389f5db366a",
   "metadata": {},
   "outputs": [],
   "source": [
    "df.to_csv(filename_output_fittedresults_csv)\n",
    "df.to_hdf(filename_output_fittedresults_hdf,key='fitssp_results', mode='w',format='table',\n",
    "          data_columns=True,complevel=9)"
   ]
  }
 ],
 "metadata": {
  "kernelspec": {
   "display_name": "conda_jaxcpu_dsps_py310",
   "language": "python",
   "name": "conda_jaxcpu_dsps_py310"
  },
  "language_info": {
   "codemirror_mode": {
    "name": "ipython",
    "version": 3
   },
   "file_extension": ".py",
   "mimetype": "text/x-python",
   "name": "python",
   "nbconvert_exporter": "python",
   "pygments_lexer": "ipython3",
   "version": "3.10.13"
  }
 },
 "nbformat": 4,
 "nbformat_minor": 5
}
