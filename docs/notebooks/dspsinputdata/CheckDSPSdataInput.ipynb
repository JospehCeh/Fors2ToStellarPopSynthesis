{
 "cells": [
  {
   "cell_type": "markdown",
   "id": "a688fc59-ac88-4641-9129-6264f8679cc1",
   "metadata": {},
   "source": [
    "# Check DSPS input data"
   ]
  },
  {
   "cell_type": "markdown",
   "id": "e49b0180-5793-49ae-87a0-e998bea32689",
   "metadata": {},
   "source": [
    "- Author Sylvie Dagoret-Campagne\n",
    "- Afflilation : IJCLab/IN2P3/CNRS\n",
    "- Organisation : LSST-DESC\n",
    "- creation date : 2024-01-27\n",
    "\n",
    "- conda environmment : conda_jaxcpu_dsps_py310\n",
    "  \n"
   ]
  },
  {
   "cell_type": "markdown",
   "id": "e7373f4c-496c-4116-b1d4-bb0bec0f59c4",
   "metadata": {},
   "source": [
    "## Import"
   ]
  },
  {
   "cell_type": "code",
   "execution_count": null,
   "id": "3081db6d-2b62-4701-9879-d638bd5db85f",
   "metadata": {},
   "outputs": [],
   "source": [
    "import h5py\n",
    "import pandas as pd\n",
    "import numpy as np\n",
    "import os\n",
    "import re\n",
    "import pickle \n",
    "import matplotlib as mpl\n",
    "import matplotlib.pyplot as plt\n",
    "%matplotlib inline\n",
    "import matplotlib.colors as colors\n",
    "import matplotlib.cm as cmx\n",
    "import collections\n",
    "from collections import OrderedDict\n",
    "import re\n",
    "import matplotlib.gridspec as gridspec\n",
    "from sklearn.gaussian_process import GaussianProcessRegressor, kernels"
   ]
  },
  {
   "cell_type": "code",
   "execution_count": null,
   "id": "c20e98ab-b268-4fb0-86e4-2897fcc200d9",
   "metadata": {},
   "outputs": [],
   "source": [
    "import jax\n",
    "import jax.numpy as jnp\n",
    "from jax import vmap\n",
    "import jaxopt\n",
    "import optax\n",
    "jax.config.update(\"jax_enable_x64\", True)\n",
    "from interpax import interp1d"
   ]
  },
  {
   "cell_type": "code",
   "execution_count": null,
   "id": "e0a10a65-7027-48d4-8f38-5fd31c119dbe",
   "metadata": {},
   "outputs": [],
   "source": [
    "plt.rcParams[\"figure.figsize\"] = (12,6)\n",
    "plt.rcParams[\"axes.labelsize\"] = 'xx-large'\n",
    "plt.rcParams['axes.titlesize'] = 'xx-large'\n",
    "plt.rcParams['xtick.labelsize']= 'xx-large'\n",
    "plt.rcParams['ytick.labelsize']= 'xx-large'\n",
    "plt.rcParams['legend.fontsize']=  16"
   ]
  },
  {
   "cell_type": "code",
   "execution_count": null,
   "id": "2ab9bf3f-0e9d-4778-b3fa-748879da738c",
   "metadata": {},
   "outputs": [],
   "source": [
    "from fors2tostellarpopsynthesis.filters import FilterInfo"
   ]
  },
  {
   "cell_type": "markdown",
   "id": "aae04981-ec66-4457-bd27-fef621b141dc",
   "metadata": {},
   "source": [
    "### fitter jaxopt"
   ]
  },
  {
   "cell_type": "code",
   "execution_count": null,
   "id": "f420cae3-8061-461e-97d8-4856a94508fa",
   "metadata": {},
   "outputs": [],
   "source": [
    "from fors2tostellarpopsynthesis.fitters.fitter_jaxopt import (lik_spec,lik_mag,lik_comb,\n",
    "get_infos_spec,get_infos_mag,get_infos_comb)\n",
    "\n",
    "from fors2tostellarpopsynthesis.fitters.fitter_jaxopt import (SSP_DATA,mean_spectrum,mean_mags,mean_sfr,ssp_spectrum_fromparam)"
   ]
  },
  {
   "cell_type": "markdown",
   "id": "79501339-d8c7-49f2-8a8c-7b9e99b3fd67",
   "metadata": {},
   "source": [
    "# Study the structure of SSP_DATA"
   ]
  },
  {
   "cell_type": "markdown",
   "id": "dc5a30e3-7666-41d4-85cd-6cccce6d28b4",
   "metadata": {},
   "source": [
    "## The ssp_wave"
   ]
  },
  {
   "cell_type": "code",
   "execution_count": null,
   "id": "0382dafb-7084-46a3-836a-f74df41a3959",
   "metadata": {},
   "outputs": [],
   "source": [
    "fig,ax = plt.subplots(1,1,figsize=(10,6))\n",
    "ax.semilogy(SSP_DATA.ssp_wave,'.')\n",
    "ax.set_xlabel('index')\n",
    "ax.set_ylabel(\"ssp_wave (in $\\\\AA$)\")\n",
    "N = len(SSP_DATA.ssp_wave)\n",
    "title = f\"wavelength in {N} bins\"\n",
    "ax.set_title(title)"
   ]
  },
  {
   "cell_type": "code",
   "execution_count": null,
   "id": "51a50af0-2732-49f5-91af-d5eac19c5f83",
   "metadata": {},
   "outputs": [],
   "source": [
    "ssp_wave = SSP_DATA.ssp_wave"
   ]
  },
  {
   "cell_type": "markdown",
   "id": "cf256ae1-71d2-46ab-ac98-b6d728fe4397",
   "metadata": {},
   "source": [
    "## The ssp_lgmet"
   ]
  },
  {
   "cell_type": "code",
   "execution_count": null,
   "id": "9e486f25-9595-4003-8b42-d8800762c09f",
   "metadata": {},
   "outputs": [],
   "source": [
    "fig,ax = plt.subplots(1,1,figsize=(10,6))\n",
    "ax.plot(SSP_DATA.ssp_lgmet,'o')\n",
    "ax.set_xlabel('index')\n",
    "ax.set_ylabel(\"ssp_lgmet \")\n",
    "N = len(SSP_DATA.ssp_lgmet)\n",
    "title = f\"SSP Metallicity in {N} bins\"\n",
    "ax.set_title(title)"
   ]
  },
  {
   "cell_type": "code",
   "execution_count": null,
   "id": "0032c8c0-a0b6-4439-a622-3ba85fa65be4",
   "metadata": {},
   "outputs": [],
   "source": [
    "SSP_DATA.ssp_lgmet"
   ]
  },
  {
   "cell_type": "markdown",
   "id": "9d046396-2818-4b84-874a-1830c7b49813",
   "metadata": {},
   "source": [
    "## The ssp_lg_age_gyr"
   ]
  },
  {
   "cell_type": "code",
   "execution_count": null,
   "id": "cf8247c9-2e4e-4b16-8c89-faddc613e8ad",
   "metadata": {},
   "outputs": [],
   "source": [
    "age = np.power(10,SSP_DATA.ssp_lg_age_gyr)*1e9"
   ]
  },
  {
   "cell_type": "code",
   "execution_count": null,
   "id": "350b4725-38bf-48f6-8a46-a05683c6f92e",
   "metadata": {},
   "outputs": [],
   "source": [
    "fig,ax = plt.subplots(1,1,figsize=(10,6))\n",
    "ax.semilogy(age,'.')\n",
    "ax.set_xlabel('index')\n",
    "ax.set_ylabel(\"ssp_lg_age (in years)\")\n",
    "N = len(SSP_DATA.ssp_wave)\n",
    "title = f\"Age in {N} bins\"\n",
    "ax.set_title(title)"
   ]
  },
  {
   "cell_type": "markdown",
   "id": "13fe3039-4760-4aad-a36b-a096b814b357",
   "metadata": {},
   "source": [
    "# Spectra : ssp_flux"
   ]
  },
  {
   "cell_type": "code",
   "execution_count": null,
   "id": "4c1609b2-fd6a-45b7-b20a-7d92863f3557",
   "metadata": {},
   "outputs": [],
   "source": [
    "SSP_DATA.ssp_flux.shape"
   ]
  },
  {
   "cell_type": "code",
   "execution_count": null,
   "id": "cec3015a-30a6-465e-80ee-25e8eee30332",
   "metadata": {},
   "outputs": [],
   "source": [
    "low_met_flux = SSP_DATA.ssp_flux[0,:,:]\n",
    "high_met_flux = SSP_DATA.ssp_flux[-1,:,:]"
   ]
  },
  {
   "cell_type": "code",
   "execution_count": null,
   "id": "882b63c5-0133-48ca-9133-caac90a94236",
   "metadata": {},
   "outputs": [],
   "source": [
    "fig,(ax1,ax2) = plt.subplots(1,2,figsize=(16,4))\n",
    "\n",
    "ax1.plot(ssp_wave,low_met_flux[0,:],'r-',label=\"youngest\")\n",
    "ax1.plot(ssp_wave,low_met_flux[-1,:],'b-',label=\"oldest\") \n",
    "ax1.set_yscale('log')\n",
    "ax1.set_xscale('log')\n",
    "ax1.set_ylim(1e-30,1e-10)\n",
    "ax1.legend()\n",
    "ax1.set_title(\"DSPS smallest Metallicity\")\n",
    "ax1.grid()\n",
    "\n",
    "ax2.plot(ssp_wave,high_met_flux[0,:],'r-',label=\"youngest\")\n",
    "ax2.plot(ssp_wave,high_met_flux[-1,:],'b-',label=\"oldest\") \n",
    "ax2.set_yscale('log')\n",
    "ax2.set_xscale('log')\n",
    "ax2.set_ylim(1e-30,1e-10)\n",
    "ax2.legend()\n",
    "ax2.set_title(\"DSPS highest Metallicity\")\n",
    "ax2.grid()"
   ]
  },
  {
   "cell_type": "code",
   "execution_count": null,
   "id": "caa7ed88-af37-42b9-aef0-5d8216cdce76",
   "metadata": {},
   "outputs": [],
   "source": []
  }
 ],
 "metadata": {
  "kernelspec": {
   "display_name": "conda_jaxcpu_dsps_py310",
   "language": "python",
   "name": "conda_jaxcpu_dsps_py310"
  },
  "language_info": {
   "codemirror_mode": {
    "name": "ipython",
    "version": 3
   },
   "file_extension": ".py",
   "mimetype": "text/x-python",
   "name": "python",
   "nbconvert_exporter": "python",
   "pygments_lexer": "ipython3",
   "version": "3.10.13"
  }
 },
 "nbformat": 4,
 "nbformat_minor": 5
}
