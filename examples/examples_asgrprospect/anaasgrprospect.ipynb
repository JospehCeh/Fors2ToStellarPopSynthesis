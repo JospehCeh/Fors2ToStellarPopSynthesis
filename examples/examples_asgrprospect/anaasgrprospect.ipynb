{
 "cells": [
  {
   "cell_type": "markdown",
   "id": "509d1507-fc4b-49d8-9fe3-fe6716aa2d75",
   "metadata": {},
   "source": [
    "# analyse asgrprospect"
   ]
  },
  {
   "cell_type": "markdown",
   "id": "d79e01b2-8fdc-45b2-b533-aa8e778f0b3c",
   "metadata": {},
   "source": [
    "## Installation"
   ]
  },
  {
   "cell_type": "markdown",
   "id": "a5d89a1a-4ef9-4a13-8f14-5cd427c5c082",
   "metadata": {},
   "source": [
    "### Other packages"
   ]
  },
  {
   "cell_type": "code",
   "execution_count": null,
   "id": "13904ebd-81b6-450c-a7b8-1a54ca994cfa",
   "metadata": {},
   "outputs": [],
   "source": [
    "install.packages('remotes')\n",
    "install.packages('devtools')\n",
    "install.packages(c('celestial', 'NISTunits', 'pracma'))"
   ]
  },
  {
   "cell_type": "markdown",
   "id": "3b259841-14d8-462d-834b-36c26a1861ab",
   "metadata": {},
   "source": [
    "### asgrProSpect"
   ]
  },
  {
   "cell_type": "markdown",
   "id": "13b90311-ec4c-4e5c-a53e-bfa9a4dc0bc4",
   "metadata": {},
   "source": [
    "Error in utils::download.file(url, path, method = method, quiet = quiet,  : \n",
    "\n",
    "  download from 'https://api.github.com/repos/asgr/ProSpect/tarball/HEAD' failed"
   ]
  },
  {
   "cell_type": "code",
   "execution_count": null,
   "id": "b8963f7e-cfb8-428e-befa-03a44c9522ff",
   "metadata": {},
   "outputs": [],
   "source": [
    "remotes::install_github(\"asgr/ProSpect\")"
   ]
  },
  {
   "cell_type": "markdown",
   "id": "ee2d824a-d1c7-43a1-92ae-38919fcd9871",
   "metadata": {},
   "source": [
    "### load libraries"
   ]
  },
  {
   "cell_type": "code",
   "execution_count": null,
   "id": "7b4db913-91ce-4827-9c3a-6f22726ce3cb",
   "metadata": {},
   "outputs": [],
   "source": [
    "library(ProSpect)"
   ]
  },
  {
   "cell_type": "code",
   "execution_count": null,
   "id": "c63b1d5f-6485-47c0-8718-29557a4556b6",
   "metadata": {},
   "outputs": [],
   "source": [
    "library(repr)\n",
    "options(repr.plot.width=14, repr.plot.height=8)"
   ]
  },
  {
   "cell_type": "code",
   "execution_count": null,
   "id": "c13966ce-f0bf-46ea-9446-30493f1c9754",
   "metadata": {},
   "outputs": [],
   "source": [
    "#BC03lr "
   ]
  },
  {
   "cell_type": "code",
   "execution_count": null,
   "id": "d75f663d-8ce9-4b0c-be10-77d21ad6dda2",
   "metadata": {},
   "outputs": [],
   "source": [
    "?BC03"
   ]
  },
  {
   "cell_type": "code",
   "execution_count": null,
   "id": "7f560cf5-f2af-4af8-9e02-779a3ab26378",
   "metadata": {},
   "outputs": [],
   "source": [
    "?BPASS"
   ]
  },
  {
   "cell_type": "code",
   "execution_count": null,
   "id": "53f6ad61-c4be-4fdc-a09c-0b6c5d97d36b",
   "metadata": {},
   "outputs": [],
   "source": [
    "plot(BC03lr$Wave, BC03lr$Zspec[[5]][160,], log='xy', type='l', xlim=c(2e3,4e4),\n",
    "ylim=c(1e-8,1e-4), xlab=BC03lr$Labels$Wavelab, ylab=BC03lr$Labels$Lumlab,cex.lab = 4,col='blue',lwd=2)\n",
    "\n",
    "plot(BC03hr$Wave, BC03hr$Zspec[[5]][160,], log='xy', type='l', xlim=c(2e3,4e4),\n",
    "ylim=c(1e-8,1e-4), xlab=BC03lr$Labels$Wavelab, ylab=BC03lr$Labels$Lumlab,cex.lab = 4,col='green',lwd=2)"
   ]
  },
  {
   "cell_type": "code",
   "execution_count": null,
   "id": "21ea1a36-b6f0-414b-9839-468942b5b9ed",
   "metadata": {},
   "outputs": [],
   "source": [
    "EMILES"
   ]
  },
  {
   "cell_type": "code",
   "execution_count": null,
   "id": "24e88af3-fa61-4b31-ac31-b28ef9960d8e",
   "metadata": {},
   "outputs": [],
   "source": [
    "plot(EMILES$Wave, EMILES$Zspec[[9]][34,], log='xy', type='l', xlim=c(2e3,4e4),\n",
    "ylim=c(1e-8,1e-4), xlab=EMILES$Labels$Wavelab, ylab=EMILES$Labels$Lumlab,cex.lab = 2,col='red',lwd=3)"
   ]
  },
  {
   "cell_type": "code",
   "execution_count": null,
   "id": "0228cf4b-702c-44ce-b33a-7fe44217d3fb",
   "metadata": {},
   "outputs": [],
   "source": [
    "plot(BC03lr$Wave, BC03lr$Zspec[[5]][160,], log='xy', type='l', xlim=c(0.1e3,4e4),\n",
    "ylim=c(1e-8,1e-4), xlab=BC03lr$Labels$Wavelab, ylab=BC03lr$Labels$Lumlab,cex.lab = 2,col='blue',lwd=3)\n",
    "points(EMILES$Wave, EMILES$Zspec[[9]][34,], log='xy', type='l', xlim=c(0.1e3,4e4),\n",
    "ylim=c(1e-8,1e-4), xlab=EMILES$Labels$Wavelab, ylab=EMILES$Labels$Lumlab,cex.lab = 2,col='red',lwd=3)\n",
    "points(BPASS$Wave, BPASS$Zspec[[11]][38,], log='xy', type='l', xlim=c(2e3,4e4),\n",
    "ylim=c(1e-8,1e-4), xlab=BPASS$Labels$Wavelab, ylab=BPASS$Labels$Lumlab,cex.lab = 2,col='green',lwd=3)\n",
    "legend(\"topleft\", legend=c(\"BC03\", \"EMILES\",'BPASS'), col=c(\"blue\", \"red\",\"green\"), lty=1.2, cex=2)"
   ]
  },
  {
   "cell_type": "code",
   "execution_count": null,
   "id": "a3b4edaa-06e7-4c7f-85e4-0c3458265052",
   "metadata": {},
   "outputs": [],
   "source": []
  }
 ],
 "metadata": {
  "kernelspec": {
   "display_name": "R",
   "language": "R",
   "name": "ir"
  },
  "language_info": {
   "codemirror_mode": "r",
   "file_extension": ".r",
   "mimetype": "text/x-r-source",
   "name": "R",
   "pygments_lexer": "r",
   "version": "4.3.2"
  }
 },
 "nbformat": 4,
 "nbformat_minor": 5
}
