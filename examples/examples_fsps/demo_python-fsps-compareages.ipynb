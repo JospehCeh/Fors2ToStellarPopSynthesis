{
 "cells": [
  {
   "cell_type": "markdown",
   "id": "54b3266c-fd2c-4de7-82f9-c02829107690",
   "metadata": {},
   "source": [
    "# Compare spectra at different ages with python-fsps\n",
    "\n",
    "- adapted by SDC from https://dfm.io/python-fsps/current/stellarpop_api/#example\n",
    "-  CCIN2P3 CPU\n",
    "- conda environnment : conda_prospector_py310\n",
    "- and conda_jax0325_py310 on GPU\n",
    "- creation date : 2023/10/05\n",
    "- last update  : 2023/10/05\n"
   ]
  },
  {
   "cell_type": "markdown",
   "id": "a7e9bfcf-901a-4dcf-ba7f-77f369620910",
   "metadata": {},
   "source": [
    "Lets start by initializing a simple stellar population with solar metallicity and some dust with a Calzetti et al (2000) extinction curve:"
   ]
  },
  {
   "cell_type": "code",
   "execution_count": null,
   "id": "6486b4f9-b7b7-4970-9f6a-fac14dfd48c3",
   "metadata": {},
   "outputs": [],
   "source": [
    "import matplotlib.pyplot as plt\n",
    "%matplotlib inline\n",
    "import matplotlib.colors as colors\n",
    "import matplotlib.cm as cmx\n",
    "from matplotlib.backends.backend_pdf import PdfPages\n",
    "import copy"
   ]
  },
  {
   "cell_type": "code",
   "execution_count": null,
   "id": "a09914cc-090a-444c-ba9b-80d9c5ed51b6",
   "metadata": {},
   "outputs": [],
   "source": [
    "import numpy as np"
   ]
  },
  {
   "cell_type": "code",
   "execution_count": null,
   "id": "6651a19e-e27c-403a-9457-c30e307fb6f3",
   "metadata": {},
   "outputs": [],
   "source": [
    "from astropy.cosmology import FlatLambdaCDM"
   ]
  },
  {
   "cell_type": "code",
   "execution_count": null,
   "id": "0b803f5f-aa64-4e55-9c7b-ef63ad14a8aa",
   "metadata": {},
   "outputs": [],
   "source": [
    "cosmo = FlatLambdaCDM(H0=70, Om0=0.3)"
   ]
  },
  {
   "cell_type": "code",
   "execution_count": null,
   "id": "afe05233-ac28-4e4c-9f53-acc7366db200",
   "metadata": {},
   "outputs": [],
   "source": [
    "# two mutually exclusive flags to see if we can provide SFR for t> tobs\n",
    "# both flags can be True of False at the same time, but no selection on tobs will be done\n",
    "FLAG_CUT_BELOW_TOBS = True\n",
    "FLAG_CUT_AFTER_TOBS = False\n",
    "FLAG_SET_YLIM = True"
   ]
  },
  {
   "cell_type": "markdown",
   "id": "ccf84a8f-a923-4e8a-8f58-74380fd0778d",
   "metadata": {},
   "source": [
    "## Example"
   ]
  },
  {
   "cell_type": "code",
   "execution_count": null,
   "id": "844d6ecc-d590-4a95-bfdd-94fe5a6474e9",
   "metadata": {},
   "outputs": [],
   "source": [
    "import fsps\n",
    "\n",
    "sp = fsps.StellarPopulation(compute_vega_mags=False, zcontinuous=1,sfh=0, logzsol=0.0, dust_type=2, dust2=0.0)\n",
    "\n",
    "sp.libraries"
   ]
  },
  {
   "cell_type": "markdown",
   "id": "31edf3f6-9828-40c0-9ffe-448a6c73eb4b",
   "metadata": {},
   "source": [
    "The last line indicates that we are using the MIST isochrones and MILES spectral library. These can be changed only by reinstalling python-FSPS with appropriate flags.\n",
    "\n",
    "Let’s get the AB magnitudes in SDSS bands, for a simple stellar population (SSP) that is 13.7 Gyr old:"
   ]
  },
  {
   "cell_type": "markdown",
   "id": "5ff15671-fa91-4f45-bd8f-ce1e17ebb34d",
   "metadata": {},
   "source": [
    "Now we can change a parameter (say, lower the metallicity) and get a new set of magnitudes:"
   ]
  },
  {
   "cell_type": "code",
   "execution_count": null,
   "id": "d06d7d91-858d-41a9-8d33-eb9680f1d87e",
   "metadata": {},
   "outputs": [],
   "source": [
    "sp.params['logzsol'] = -1"
   ]
  },
  {
   "cell_type": "markdown",
   "id": "8c4685fc-17de-42be-92c4-ee781270bd7b",
   "metadata": {},
   "source": [
    "We can also get the spectrum, here in units of $L_{\\odot}/Hz$ , as well as the total stellar mass formed by 13.7 Gyr and the surviving stellar mass at 13.7 Gyr (both in units of ):"
   ]
  },
  {
   "cell_type": "code",
   "execution_count": null,
   "id": "6d0de766-f0dd-4d33-a15f-fa1b02ef71c1",
   "metadata": {},
   "outputs": [],
   "source": [
    "gal_t_table = np.linspace(0.05, 13.8, 50) # age of the universe in Gyr\n",
    "gal_lgmet = sp.params['logzsol']\n",
    "# must put a true SFR using package diffstar\n",
    "gal_sfr_table = np.zeros(len(gal_t_table)) # SFR in Msun/yr"
   ]
  },
  {
   "cell_type": "code",
   "execution_count": null,
   "id": "30765a1b-9e72-4367-8637-e925804c2e12",
   "metadata": {},
   "outputs": [],
   "source": [
    "NBSPECTRA = len(gal_t_table)\n",
    "# wavelength bin colors\n",
    "jet = plt.get_cmap('jet')\n",
    "cNorm = colors.Normalize(vmin=0, vmax=NBSPECTRA)\n",
    "scalarMap = cmx.ScalarMappable(norm=cNorm, cmap=jet)\n",
    "all_colors = scalarMap.to_rgba(np.arange(NBSPECTRA), alpha=1)"
   ]
  },
  {
   "cell_type": "code",
   "execution_count": null,
   "id": "6e4706d7-bd1e-4d85-95d2-7c2096d22397",
   "metadata": {},
   "outputs": [],
   "source": [
    "# defining the list of redshits/tobs\n",
    "all_redshifts = np.array([0., 0.1, 0.5, 1.0, 3., 5.])\n",
    "all_ages = cosmo.age(all_redshifts)"
   ]
  },
  {
   "cell_type": "code",
   "execution_count": null,
   "id": "c4f126c9-ee94-43d0-ab56-dc4c9379c47b",
   "metadata": {},
   "outputs": [],
   "source": [
    "all_ages"
   ]
  },
  {
   "cell_type": "code",
   "execution_count": null,
   "id": "419837a7-dd8e-469f-82d1-3616fad59b6d",
   "metadata": {},
   "outputs": [],
   "source": [
    "# empty containers to start\n",
    "all_sed_for_allredshifts = []\n",
    "all_wl_forallredshifts = []\n",
    "all_sedtitles_for_allredshifts = []\n",
    "all_sedtobs = []\n",
    "\n",
    "\n",
    "for index,redshift in enumerate(all_redshifts):\n",
    "    \n",
    "    # info\n",
    "    # =====\n",
    "    z_obs = redshift\n",
    "    t_obs = all_ages[index].value # age of the universe in Gyr at z_obs\n",
    "    \n",
    "    if FLAG_CUT_BELOW_TOBS:\n",
    "        the_title = f\"z_obs = {z_obs:.2f}, t_obs = {t_obs:.2f} Gyr, log(Z) = {gal_lgmet}, SFR before tobs\"\n",
    "    elif FLAG_CUT_AFTER_TOBS:\n",
    "        the_title = f\"z_obs = {z_obs:.2f}, t_obs = {t_obs:.2f} Gyr, log(Z) = {gal_lgmet}, SFR after tobs\"\n",
    "    elif FLAG_CUT_AFTER_TOBS ==  FLAG_CUT_BELOW_TOBS:\n",
    "        the_title = f\"z_obs = {z_obs:.2f}, t_obs = {t_obs:.2f} Gyr, log(Z) = {gal_lgmet}, SFR before and after tobs\"\n",
    "    \n",
    "    # save title and tobs for that redshift\n",
    "    all_sedtitles_for_allredshifts.append(the_title)\n",
    "    all_sedtobs.append(t_obs)\n",
    "    \n",
    "    # Compute spectra\n",
    "    # ==============\n",
    "    all_sed  = []\n",
    "    all_wl = []\n",
    "    all_sfr = []\n",
    "\n",
    "    # loop on ages\n",
    "    for idx,time in enumerate(gal_t_table):\n",
    "        \n",
    "        gal_sfr_table[idx] = 1.0\n",
    "        all_sfr.append(copy.deepcopy(gal_sfr_table))\n",
    "              \n",
    "        wave, spec = sp.get_spectrum(tage=13.8-time)\n",
    "       \n",
    "        all_sed.append(spec)\n",
    "        all_wl.append(wave)\n",
    "    \n",
    "        gal_sfr_table[idx] = 0.0\n",
    "    \n",
    "    # Save all SED infos for that redshift\n",
    "    all_sed_for_allredshifts.append(copy.deepcopy(all_sed))\n",
    "    all_wl_forallredshifts.append(all_wl)\n",
    "    \n",
    "    # Plot\n",
    "    #=====\n",
    "    fig, axs = plt.subplots(1, 2,figsize=(18,5))\n",
    "\n",
    "    ax1=axs[0]\n",
    "    for idx,time in enumerate(gal_t_table):\n",
    "        ax1.plot(gal_t_table, all_sfr[idx],\"-\",color=all_colors[idx])\n",
    "    ax1.set_xlabel(\"age of the universe in Gyr\")\n",
    "    ax1.set_ylabel(\"SFR\")\n",
    "    ax1.axvline(t_obs,color=\"k\",lw=3)\n",
    "\n",
    "    ax2=axs[1]\n",
    "    __=ax2.loglog()\n",
    "    \n",
    "    all_sedinrestframe = []\n",
    "    for idx,time in enumerate(gal_t_table):\n",
    "        if FLAG_CUT_BELOW_TOBS and time < t_obs:\n",
    "            ax2.plot(all_wl[idx], all_sed[idx],\"-\",color=all_colors[idx],lw=0.5)\n",
    "           \n",
    "        elif FLAG_CUT_AFTER_TOBS and time > t_obs:\n",
    "            ax2.plot(all_wl[idx], all_sed[idx],\"-\",color=all_colors[idx],lw=0.5)\n",
    "           \n",
    "        elif FLAG_CUT_BELOW_TOBS == FLAG_CUT_AFTER_TOBS:\n",
    "            ax2.plot(all_wl[idx], all_sed[idx],\"-\",color=all_colors[idx],lw=0.5)\n",
    "\n",
    "            \n",
    "\n",
    "    if FLAG_SET_YLIM:\n",
    "        ax2.set_ylim(1e-22,1e-13)\n",
    "    ax2.grid()\n",
    "    ax2.set_xlabel(\"$\\lambda (\\\\AA)$\")\n",
    "    ax2.set_ylabel(\"$L_\\\\nu(\\lambda)$\")\n",
    "    \n",
    "    \n",
    "    plt.tight_layout()\n",
    "    plt.suptitle(the_title,y=1.05,fontsize=16)\n",
    "    "
   ]
  },
  {
   "cell_type": "markdown",
   "id": "b7f7ee15-c669-4e91-870a-e50f17ec8465",
   "metadata": {},
   "source": [
    "It is highly recommended that only one instance of fsps.StellarPopulation be used in a given program."
   ]
  },
  {
   "cell_type": "markdown",
   "id": "e792c7ba-e0e0-4a24-aa1b-7fee553d4856",
   "metadata": {},
   "source": [
    "## Example using nebular emission"
   ]
  },
  {
   "cell_type": "markdown",
   "id": "6af08473-c0f0-4911-8662-9df28cc3cb9e",
   "metadata": {},
   "source": [
    "We initialize a simple stellar population and set the flag to include nebular emission:"
   ]
  },
  {
   "cell_type": "code",
   "execution_count": null,
   "id": "60b7811c-7365-4208-9fe0-69c5b2519b20",
   "metadata": {},
   "outputs": [],
   "source": [
    "sp = fsps.StellarPopulation(zcontinuous=1,add_neb_emission=1)"
   ]
  },
  {
   "cell_type": "markdown",
   "id": "fc0da9d2-10a3-4c3c-8d8b-08942a14f3ee",
   "metadata": {},
   "source": [
    "We can change the stellar metallicity, the gas phase metallicity, the gas ionization parameter, and then return the total spectrum at 1 Myr:"
   ]
  },
  {
   "cell_type": "code",
   "execution_count": null,
   "id": "dc8aa0fd-3ad6-41b7-991d-e82b470502df",
   "metadata": {},
   "outputs": [],
   "source": [
    "sp.params['logzsol'] = -1.0\n",
    "sp.params['gas_logz'] = -1.0\n",
    "sp.params['gas_logu'] = -2.5"
   ]
  },
  {
   "cell_type": "code",
   "execution_count": null,
   "id": "2c3fc920-2146-4b43-9349-73427609f346",
   "metadata": {},
   "outputs": [],
   "source": [
    "# empty containers to start\n",
    "all_sed_for_allredshifts = []\n",
    "all_wl_forallredshifts = []\n",
    "all_sedtitles_for_allredshifts = []\n",
    "all_sedtobs = []\n",
    "\n",
    "\n",
    "for index,redshift in enumerate(all_redshifts):\n",
    "    \n",
    "    # info\n",
    "    # =====\n",
    "    z_obs = redshift\n",
    "    t_obs = all_ages[index].value # age of the universe in Gyr at z_obs\n",
    "    \n",
    "    if FLAG_CUT_BELOW_TOBS:\n",
    "        the_title = f\"z_obs = {z_obs:.2f}, t_obs = {t_obs:.2f} Gyr, log(Z) = {gal_lgmet}, SFR before tobs\"\n",
    "    elif FLAG_CUT_AFTER_TOBS:\n",
    "        the_title = f\"z_obs = {z_obs:.2f}, t_obs = {t_obs:.2f} Gyr, log(Z) = {gal_lgmet}, SFR after tobs\"\n",
    "    elif FLAG_CUT_AFTER_TOBS ==  FLAG_CUT_BELOW_TOBS:\n",
    "        the_title = f\"z_obs = {z_obs:.2f}, t_obs = {t_obs:.2f} Gyr, log(Z) = {gal_lgmet}, SFR before and after tobs\"\n",
    "    \n",
    "    # save title and tobs for that redshift\n",
    "    all_sedtitles_for_allredshifts.append(the_title)\n",
    "    all_sedtobs.append(t_obs)\n",
    "    \n",
    "    # Compute spectra\n",
    "    # ==============\n",
    "    all_sed  = []\n",
    "    all_wl = []\n",
    "    all_sfr = []\n",
    "\n",
    "    # loop on ages\n",
    "    for idx,time in enumerate(gal_t_table):\n",
    "        \n",
    "        gal_sfr_table[idx] = 1.0\n",
    "        all_sfr.append(copy.deepcopy(gal_sfr_table))\n",
    "              \n",
    "        wave, spec = sp.get_spectrum(tage=13.8-time)\n",
    "       \n",
    "        all_sed.append(spec)\n",
    "        all_wl.append(wave)\n",
    "    \n",
    "        gal_sfr_table[idx] = 0.0\n",
    "    \n",
    "    # Save all SED infos for that redshift\n",
    "    all_sed_for_allredshifts.append(copy.deepcopy(all_sed))\n",
    "    all_wl_forallredshifts.append(all_wl)\n",
    "    \n",
    "    # Plot\n",
    "    #=====\n",
    "    fig, axs = plt.subplots(1, 2,figsize=(18,5))\n",
    "\n",
    "    ax1=axs[0]\n",
    "    for idx,time in enumerate(gal_t_table):\n",
    "        ax1.plot(gal_t_table, all_sfr[idx],\"-\",color=all_colors[idx])\n",
    "    ax1.set_xlabel(\"age of the universe in Gyr\")\n",
    "    ax1.set_ylabel(\"SFR\")\n",
    "    ax1.axvline(t_obs,color=\"k\",lw=3)\n",
    "\n",
    "    ax2=axs[1]\n",
    "    __=ax2.loglog()\n",
    "    \n",
    "    all_sedinrestframe = []\n",
    "    for idx,time in enumerate(gal_t_table):\n",
    "        if FLAG_CUT_BELOW_TOBS and time < t_obs:\n",
    "            ax2.plot(all_wl[idx], all_sed[idx],\"-\",color=all_colors[idx],lw=0.5)\n",
    "           \n",
    "        elif FLAG_CUT_AFTER_TOBS and time > t_obs:\n",
    "            ax2.plot(all_wl[idx], all_sed[idx],\"-\",color=all_colors[idx],lw=0.5)\n",
    "           \n",
    "        elif FLAG_CUT_BELOW_TOBS == FLAG_CUT_AFTER_TOBS:\n",
    "            ax2.plot(all_wl[idx], all_sed[idx],\"-\",color=all_colors[idx],lw=0.5)\n",
    "\n",
    "            \n",
    "\n",
    "    if FLAG_SET_YLIM:\n",
    "        ax2.set_ylim(1e-22,1e-13)\n",
    "    ax2.grid()\n",
    "    ax2.set_xlabel(\"$\\lambda (\\\\AA)$\")\n",
    "    ax2.set_ylabel(\"$L_\\\\nu(\\lambda)$\")\n",
    "    \n",
    "    \n",
    "    plt.tight_layout()\n",
    "    plt.suptitle(the_title,y=1.05,fontsize=16)\n",
    "    "
   ]
  },
  {
   "cell_type": "markdown",
   "id": "8a1a7a42-2102-48c3-91a6-beed48e2b00d",
   "metadata": {},
   "source": [
    "Note: for the nebular model to be fully self-consistent, the gas phase metallicity and the stellar metallicity should be set to the same value. This effectively adds the emission spectrum to the same stellar spectrum that was used as the ionizing spectrum in Cloudy. If users choose to vary the gas phase metallicity at constant stellar metallicity, expect non-hydrogenic emission lines to be accurate within 1-15%.\n",
    "\n",
    "Emission line wavelengths and line luminosities can be accessed through the stellar population object:"
   ]
  },
  {
   "cell_type": "code",
   "execution_count": null,
   "id": "a4f00410-c551-4bcd-ad35-eb0271bd38ce",
   "metadata": {},
   "outputs": [],
   "source": [
    "all_tage = [0.001,0.01,0.1,1.,10]\n",
    "NBSPECTRA = len(all_tage)\n",
    "# wavelength bin colors\n",
    "jet = plt.get_cmap('jet')\n",
    "cNorm = colors.Normalize(vmin=0, vmax=NBSPECTRA)\n",
    "scalarMap = cmx.ScalarMappable(norm=cNorm, cmap=jet)\n",
    "all_colors = scalarMap.to_rgba(np.arange(NBSPECTRA), alpha=1)"
   ]
  },
  {
   "cell_type": "code",
   "execution_count": null,
   "id": "0d7a32b6-7bd6-4cd9-9727-4988cae5fb8d",
   "metadata": {},
   "outputs": [],
   "source": []
  },
  {
   "cell_type": "code",
   "execution_count": null,
   "id": "81c76713-ae33-4e5d-87af-c3b8ee8baabd",
   "metadata": {},
   "outputs": [],
   "source": [
    "fig, ax = plt.subplots(figsize=(8,5))\n",
    "__=ax.loglog()\n",
    "\n",
    "for idx,tage in enumerate(all_tage):\n",
    "    wave, spec = sp.get_spectrum(tage=tage)\n",
    "    label = f\"star population age = {tage} Gy\"\n",
    "    ax.plot(wave,spec,'-',lw=0.5,color=all_colors[idx],label=label)\n",
    "if FLAG_SET_YLIM:\n",
    "    ax.set_ylim(1e-18,1e-11)\n",
    "ax.set_xlabel(\"$\\lambda (\\\\AA)$\")\n",
    "ax.set_ylabel(\"$L_\\\\nu(\\lambda)$\")\n",
    "    \n",
    "ax.set_title(\"Early spectrum phases\")\n",
    "ax.legend()"
   ]
  },
  {
   "cell_type": "code",
   "execution_count": null,
   "id": "9554bd1c-8d03-47e1-9502-bff959fa8cc8",
   "metadata": {},
   "outputs": [],
   "source": [
    "#print(sp.emline_wavelengths)\n",
    "#print(sp.emline_luminosity)\n",
    "\n",
    "fig, ax = plt.subplots()\n",
    "ax.loglog(sp.emline_wavelengths,sp.emline_luminosity,'b-')\n",
    "#ax.set_ylim(1e-15,1e-11)\n",
    "ax.set_xlabel(\"$\\lambda (\\\\AA)$\")\n",
    "ax.set_title(\"Emission lines\")"
   ]
  },
  {
   "cell_type": "code",
   "execution_count": null,
   "id": "45939e3a-0ec7-4150-973b-7016250affa8",
   "metadata": {},
   "outputs": [],
   "source": []
  }
 ],
 "metadata": {
  "kernelspec": {
   "display_name": "Python 3 (ipykernel)",
   "language": "python",
   "name": "python3"
  },
  "language_info": {
   "codemirror_mode": {
    "name": "ipython",
    "version": 3
   },
   "file_extension": ".py",
   "mimetype": "text/x-python",
   "name": "python",
   "nbconvert_exporter": "python",
   "pygments_lexer": "ipython3",
   "version": "3.10.13"
  }
 },
 "nbformat": 4,
 "nbformat_minor": 5
}
