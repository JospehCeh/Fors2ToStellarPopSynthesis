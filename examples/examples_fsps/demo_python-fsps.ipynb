{
 "cells": [
  {
   "cell_type": "markdown",
   "id": "54b3266c-fd2c-4de7-82f9-c02829107690",
   "metadata": {},
   "source": [
    "# Test python-fsps\n",
    "\n",
    "- adapted by SDC from https://dfm.io/python-fsps/current/stellarpop_api/#example\n",
    "-  CCIN2P3 CPU\n",
    "- conda environnment : conda_prospector_py310\n",
    "- and conda_jax0325_py310 on GPU\n",
    "- creation date : 2023/10/05\n",
    "- last update  : 2024/01/31\n"
   ]
  },
  {
   "cell_type": "markdown",
   "id": "a7e9bfcf-901a-4dcf-ba7f-77f369620910",
   "metadata": {},
   "source": [
    "Lets start by initializing a simple stellar population with solar metallicity and some dust with a Calzetti et al (2000) extinction curve:"
   ]
  },
  {
   "cell_type": "code",
   "execution_count": null,
   "id": "6486b4f9-b7b7-4970-9f6a-fac14dfd48c3",
   "metadata": {},
   "outputs": [],
   "source": [
    "import matplotlib.pyplot as plt\n",
    "%matplotlib inline"
   ]
  },
  {
   "cell_type": "markdown",
   "id": "ccf84a8f-a923-4e8a-8f58-74380fd0778d",
   "metadata": {},
   "source": [
    "## Example"
   ]
  },
  {
   "cell_type": "code",
   "execution_count": null,
   "id": "844d6ecc-d590-4a95-bfdd-94fe5a6474e9",
   "metadata": {},
   "outputs": [],
   "source": [
    "import fsps\n",
    "\n",
    "sp = fsps.StellarPopulation(compute_vega_mags=False, zcontinuous=1,sfh=0, logzsol=0.0,dust_type=2, dust1=0.0,dust2=0.0)\n",
    "\n",
    "print(sp.libraries)"
   ]
  },
  {
   "cell_type": "code",
   "execution_count": null,
   "id": "a6a52116-5462-4e91-92da-42d628e2aad4",
   "metadata": {},
   "outputs": [],
   "source": [
    "props = dict(boxstyle='round', facecolor='wheat', alpha=0.5)\n",
    "textstr = '\\n'.join((str(sp.libraries[0]),str(sp.libraries[1]),str(sp.libraries[2])))\n",
    "textstr"
   ]
  },
  {
   "cell_type": "code",
   "execution_count": null,
   "id": "ce7ee78c-76ba-4ce6-baab-890b27e4ff26",
   "metadata": {},
   "outputs": [],
   "source": [
    "fsps.StellarPopulation?"
   ]
  },
  {
   "cell_type": "code",
   "execution_count": null,
   "id": "3a983cb2-01fd-49d8-a2a3-47417ff35b6d",
   "metadata": {},
   "outputs": [],
   "source": [
    "from fsps import StellarPopulation"
   ]
  },
  {
   "cell_type": "markdown",
   "id": "31edf3f6-9828-40c0-9ffe-448a6c73eb4b",
   "metadata": {},
   "source": [
    "The last line indicates that we are using the MIST isochrones and MILES spectral library. These can be changed only by reinstalling python-FSPS with appropriate flags.\n",
    "\n",
    "Let’s get the AB magnitudes in SDSS bands, for a simple stellar population (SSP) that is 13.7 Gyr old:"
   ]
  },
  {
   "cell_type": "code",
   "execution_count": null,
   "id": "65e06950-e752-4b45-b4dc-eea662bf4599",
   "metadata": {},
   "outputs": [],
   "source": [
    "sdss_bands = fsps.find_filter('sdss')\n",
    "print(sdss_bands)\n",
    "sp.get_mags(tage=13.7, bands=sdss_bands)"
   ]
  },
  {
   "cell_type": "code",
   "execution_count": null,
   "id": "8a2d785c-fe04-48d4-aeb0-6341ca28d9bb",
   "metadata": {},
   "outputs": [],
   "source": [
    "lsst_bands = fsps.find_filter('lsst')"
   ]
  },
  {
   "cell_type": "code",
   "execution_count": null,
   "id": "3203ccb1-e4df-4313-9695-4f8e66a51050",
   "metadata": {},
   "outputs": [],
   "source": [
    "print(lsst_bands)\n",
    "sp.get_mags(tage=13.7, bands=lsst_bands)"
   ]
  },
  {
   "cell_type": "markdown",
   "id": "5ff15671-fa91-4f45-bd8f-ce1e17ebb34d",
   "metadata": {},
   "source": [
    "Now we can change a parameter (say, lower the metallicity) and get a new set of magnitudes:"
   ]
  },
  {
   "cell_type": "code",
   "execution_count": null,
   "id": "d06d7d91-858d-41a9-8d33-eb9680f1d87e",
   "metadata": {},
   "outputs": [],
   "source": [
    "Zmet = -1.\n",
    "sp.params['logzsol'] = Zmet\n",
    "sp.get_mags(tage=13.7, bands=sdss_bands)"
   ]
  },
  {
   "cell_type": "markdown",
   "id": "8c4685fc-17de-42be-92c4-ee781270bd7b",
   "metadata": {},
   "source": [
    "We can also get the spectrum, here in units of $L_{\\odot}/Hz$ , as well as the total stellar mass formed by 13.7 Gyr and the surviving stellar mass at 13.7 Gyr (both in units of ):"
   ]
  },
  {
   "cell_type": "code",
   "execution_count": null,
   "id": "3da4fa90-b119-4772-ad0e-1ec4db72ad79",
   "metadata": {},
   "outputs": [],
   "source": [
    "tage = 13.7\n",
    "wave1, spec1 = sp.get_spectrum(tage=tage)\n",
    "label1 = f\" tage = {tage} Gy, Z = {Zmet}\"\n",
    "print(sp.formed_mass)\n",
    "print(sp.stellar_mass)"
   ]
  },
  {
   "cell_type": "code",
   "execution_count": null,
   "id": "ccb8036b-d715-4b1e-b4b3-e1a7ad9a177f",
   "metadata": {},
   "outputs": [],
   "source": [
    "tage = 0.5\n",
    "wave2, spec2 = sp.get_spectrum(tage=tage)\n",
    "label2 = f\" tage = {tage} Gy, Z = {Zmet}\"\n",
    "print(sp.formed_mass)\n",
    "print(sp.stellar_mass)"
   ]
  },
  {
   "cell_type": "code",
   "execution_count": null,
   "id": "8547a39f-d971-46ce-b326-fc377275bd34",
   "metadata": {},
   "outputs": [],
   "source": [
    "Zmet = 0.\n",
    "sp.params['logzsol'] = Zmet\n",
    "tage = 13.7\n",
    "wave3, spec3 = sp.get_spectrum(tage=tage)\n",
    "label3 = f\" tage = {tage} Gy, Z = {Zmet}\"\n",
    "tage = 0.5\n",
    "wave4, spec4 = sp.get_spectrum(tage=tage)\n",
    "label4 = f\" tage = {tage} Gy, Z = {Zmet}\""
   ]
  },
  {
   "cell_type": "markdown",
   "id": "b7f7ee15-c669-4e91-870a-e50f17ec8465",
   "metadata": {},
   "source": [
    "It is highly recommended that only one instance of fsps.StellarPopulation be used in a given program."
   ]
  },
  {
   "cell_type": "code",
   "execution_count": null,
   "id": "398fa04f-acc0-418f-9b19-9a68ae7ae9df",
   "metadata": {},
   "outputs": [],
   "source": [
    "fig, ((ax1, ax2), (ax3, ax4)) = plt.subplots(2,2,figsize=(14,10))\n",
    "\n",
    "ax1.loglog(wave1,spec1,'r-',label=label1)\n",
    "ax1.loglog(wave2,spec2,'b-',label=label2)\n",
    "\n",
    "ax1.loglog(wave3,spec3,'r:',label=label3)\n",
    "ax1.loglog(wave4,spec4,'b:',label=label4)\n",
    "\n",
    "ax1.set_ylim(1e-20,1e-13)\n",
    "ax1.set_xlim(1e2,1e5)\n",
    "ax1.set_xlabel(\"$\\lambda (\\\\AA)$\")\n",
    "ax1.set_title(\"Spectrum : $L_\\\\nu$ at different ages\")\n",
    "ax1.set_ylabel(\"$L_\\\\nu  (L_\\odot/Hz)$\")\n",
    "ax1.legend()\n",
    "ax1.grid()\n",
    "ax1.text(0.05, 0.95, textstr, transform=ax1.transAxes, fontsize=14,verticalalignment='top', bbox=props)\n",
    "\n",
    "ax2.loglog(wave1,spec1*3e8/(wave1*1e-10),'r-',label=label1)\n",
    "ax2.loglog(wave2,spec2*3e8/(wave2*1e-10),'b-',label=label2)\n",
    "ax2.loglog(wave3,spec3*3e8/(wave3*1e-10),'r:',label=label3)\n",
    "ax2.loglog(wave4,spec4*3e8/(wave4*1e-10),'b:',label=label4)\n",
    "\n",
    "ax2.set_ylim(1e-7,10.)\n",
    "ax2.set_xlim(1e2,1e5)\n",
    "ax2.set_xlabel(\"$\\lambda (\\\\AA)$\")\n",
    "ax2.set_title(\"Spectrum : $\\\\nu\\cdot L_\\\\nu = \\lambda \\cdot L_\\\\lambda$\")\n",
    "ax2.set_ylabel(\"$\\\\nu L_\\\\nu  (L_\\odot)$\")\n",
    "ax2.legend()\n",
    "ax2.grid()\n",
    "ax2.text(0.05, 0.95, textstr, transform=ax2.transAxes, fontsize=14,verticalalignment='top', bbox=props)\n",
    "\n",
    "ax3.loglog(wave1,spec1*3e8/(wave1*1e-10)**2,'r-',label=label1)\n",
    "ax3.loglog(wave2,spec2*3e8/(wave2*1e-10)**2,'b-',label=label2)\n",
    "ax3.loglog(wave3,spec3*3e8/(wave3*1e-10)**2,'r:',label=label3)\n",
    "ax3.loglog(wave4,spec4*3e8/(wave4*1e-10)**2,'b:',label=label4)\n",
    "ax3.set_ylim(1e1,1e8)\n",
    "ax3.set_xlim(1e2,1e5)\n",
    "ax3.set_xlabel(\"$\\lambda (\\\\AA)$\")\n",
    "ax3.set_title(\"Spectrum : $L_\\\\lambda$ at different ages\")\n",
    "ax3.set_ylabel(\"$L_\\\\lambda  (L_\\odot/\\lambda)$\")\n",
    "ax3.legend()\n",
    "ax3.grid()\n",
    "ax3.text(0.05, 0.95, textstr, transform=ax3.transAxes, fontsize=14,verticalalignment='top', bbox=props)\n",
    "title= \"FSPS\" \n",
    "plt.suptitle(title)\n",
    "plt.tight_layout()"
   ]
  },
  {
   "cell_type": "markdown",
   "id": "e792c7ba-e0e0-4a24-aa1b-7fee553d4856",
   "metadata": {},
   "source": [
    "## Example using nebular emission"
   ]
  },
  {
   "cell_type": "markdown",
   "id": "6af08473-c0f0-4911-8662-9df28cc3cb9e",
   "metadata": {},
   "source": [
    "We initialize a simple stellar population and set the flag to include nebular emission:"
   ]
  },
  {
   "cell_type": "code",
   "execution_count": null,
   "id": "60b7811c-7365-4208-9fe0-69c5b2519b20",
   "metadata": {},
   "outputs": [],
   "source": [
    "sp = fsps.StellarPopulation(zcontinuous=1,add_neb_emission=1)"
   ]
  },
  {
   "cell_type": "markdown",
   "id": "fc0da9d2-10a3-4c3c-8d8b-08942a14f3ee",
   "metadata": {},
   "source": [
    "We can change the stellar metallicity, the gas phase metallicity, the gas ionization parameter, and then return the total spectrum at 1 Myr:"
   ]
  },
  {
   "cell_type": "code",
   "execution_count": null,
   "id": "dc8aa0fd-3ad6-41b7-991d-e82b470502df",
   "metadata": {},
   "outputs": [],
   "source": [
    "Zmet = -1.\n",
    "sp.params['logzsol'] = Zmet\n",
    "sp.params['gas_logz'] = -1.0\n",
    "sp.params['gas_logu'] = -2.5\n",
    "wave1, spec1 = sp.get_spectrum(tage=0.001)\n",
    "wave2, spec2 = sp.get_spectrum(tage=0.01)\n",
    "wave3, spec3 = sp.get_spectrum(tage=0.1)\n",
    "label1 = f\"tage = 1 My , Z = {Zmet}\"\n",
    "label2 = f\"tage = 10 My , Z = {Zmet}\"\n",
    "label3 = f\"tage = 100 My , Z = {Zmet}\""
   ]
  },
  {
   "cell_type": "code",
   "execution_count": null,
   "id": "7c7d5255-0518-4f9e-a362-62e007474f17",
   "metadata": {},
   "outputs": [],
   "source": [
    "Zmet = 0\n",
    "sp.params['logzsol'] = Zmet\n",
    "sp.params['gas_logz'] = -1.0\n",
    "sp.params['gas_logu'] = -2.5\n",
    "wave4, spec4 = sp.get_spectrum(tage=0.001)\n",
    "wave5, spec5 = sp.get_spectrum(tage=0.01)\n",
    "wave6, spec6 = sp.get_spectrum(tage=0.1)\n",
    "label4 = f\"tage = 1 My , Z = {Zmet}\"\n",
    "label5 = f\"tage = 10 My , Z = {Zmet}\"\n",
    "label6 = f\"tage = 100 My , Z = {Zmet}\""
   ]
  },
  {
   "cell_type": "code",
   "execution_count": null,
   "id": "46b6e61b-57a5-47a1-91be-773eb2a407dc",
   "metadata": {},
   "outputs": [],
   "source": [
    "fig, ax = plt.subplots(figsize=(10,6))\n",
    "ax.loglog(wave1,spec1,'b-',label=label1)\n",
    "ax.loglog(wave2,spec2,'r-',label=label2)\n",
    "ax.loglog(wave3,spec3,'g-',label=label3)\n",
    "\n",
    "ax.loglog(wave4,spec4,'b:',label=label4)\n",
    "ax.loglog(wave5,spec5,'r:',label=label5)\n",
    "ax.loglog(wave6,spec6,'g:',label=label6)\n",
    "\n",
    "ax.set_ylim(1e-15,1e-10)\n",
    "ax.set_xlim(1e2,1e5)\n",
    "ax.legend()          \n",
    "ax.set_xlabel(\"$\\lambda (\\\\AA)$\")\n",
    "title = \"FSPS Spectrum $L_\\\\nu$\" \n",
    "ax.set_title(title)\n",
    "ax.text(0.1, 0.80, textstr, transform=ax.transAxes, fontsize=14,verticalalignment='top', bbox=props)\n",
    "ax.grid()"
   ]
  },
  {
   "cell_type": "markdown",
   "id": "8a1a7a42-2102-48c3-91a6-beed48e2b00d",
   "metadata": {},
   "source": [
    "Note: for the nebular model to be fully self-consistent, the gas phase metallicity and the stellar metallicity should be set to the same value. This effectively adds the emission spectrum to the same stellar spectrum that was used as the ionizing spectrum in Cloudy. If users choose to vary the gas phase metallicity at constant stellar metallicity, expect non-hydrogenic emission lines to be accurate within 1-15%.\n",
    "\n",
    "Emission line wavelengths and line luminosities can be accessed through the stellar population object:"
   ]
  },
  {
   "cell_type": "code",
   "execution_count": null,
   "id": "9554bd1c-8d03-47e1-9502-bff959fa8cc8",
   "metadata": {},
   "outputs": [],
   "source": [
    "#print(sp.emline_wavelengths)\n",
    "#print(sp.emline_luminosity)\n",
    "\n",
    "fig, ax = plt.subplots()\n",
    "ax.loglog(sp.emline_wavelengths,sp.emline_luminosity,'b.')\n",
    "#ax.set_ylim(1e-15,1e-11)\n",
    "ax.set_xlabel(\"$\\lambda (\\\\AA)$\")\n",
    "ax.set_title(\"Emission lines\")"
   ]
  },
  {
   "cell_type": "code",
   "execution_count": null,
   "id": "45939e3a-0ec7-4150-973b-7016250affa8",
   "metadata": {},
   "outputs": [],
   "source": []
  }
 ],
 "metadata": {
  "kernelspec": {
   "display_name": "Python 3 (ipykernel)",
   "language": "python",
   "name": "python3"
  },
  "language_info": {
   "codemirror_mode": {
    "name": "ipython",
    "version": 3
   },
   "file_extension": ".py",
   "mimetype": "text/x-python",
   "name": "python",
   "nbconvert_exporter": "python",
   "pygments_lexer": "ipython3",
   "version": "3.10.13"
  }
 },
 "nbformat": 4,
 "nbformat_minor": 5
}
