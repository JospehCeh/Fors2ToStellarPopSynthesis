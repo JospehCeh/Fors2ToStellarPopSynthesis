{
 "cells": [
  {
   "cell_type": "code",
   "execution_count": null,
   "id": "435301f9-536a-487e-8b64-0e5fe2a42209",
   "metadata": {},
   "outputs": [],
   "source": []
  },
  {
   "cell_type": "code",
   "execution_count": 13,
   "id": "ab475e75-e220-43d2-a17d-10d6dbf34d8c",
   "metadata": {},
   "outputs": [],
   "source": [
    "from dsps.cosmology import age_at_z, DEFAULT_COSMOLOGY, age_at_z0"
   ]
  },
  {
   "cell_type": "code",
   "execution_count": 12,
   "id": "b0ecaad1-447d-411c-8366-7c10126cf50b",
   "metadata": {},
   "outputs": [
    {
     "ename": "ImportError",
     "evalue": "cannot import name 't0' from 'dsps.cosmology' (/pbs/throng/lsst/users/dagoret/desc/JAX2023/miniconda3/envs/conda_jax0325_py310/lib/python3.10/site-packages/dsps/cosmology/__init__.py)",
     "output_type": "error",
     "traceback": [
      "\u001b[0;31m---------------------------------------------------------------------------\u001b[0m",
      "\u001b[0;31mImportError\u001b[0m                               Traceback (most recent call last)",
      "Cell \u001b[0;32mIn[12], line 1\u001b[0m\n\u001b[0;32m----> 1\u001b[0m \u001b[38;5;28;01mfrom\u001b[39;00m \u001b[38;5;21;01mdsps\u001b[39;00m\u001b[38;5;21;01m.\u001b[39;00m\u001b[38;5;21;01mcosmology\u001b[39;00m \u001b[38;5;28;01mimport\u001b[39;00m t0 \n",
      "\u001b[0;31mImportError\u001b[0m: cannot import name 't0' from 'dsps.cosmology' (/pbs/throng/lsst/users/dagoret/desc/JAX2023/miniconda3/envs/conda_jax0325_py310/lib/python3.10/site-packages/dsps/cosmology/__init__.py)"
     ]
    }
   ],
   "source": [
    "from dsps.cosmology import t0 "
   ]
  },
  {
   "cell_type": "code",
   "execution_count": 2,
   "id": "7489b6bd-4a31-41f2-8c6a-301289fb81af",
   "metadata": {},
   "outputs": [
    {
     "name": "stdout",
     "output_type": "stream",
     "text": [
      "CosmoParams(Om0=0.3075, w0=-1.0, wa=0.0, h=0.6774)\n"
     ]
    }
   ],
   "source": [
    "print(DEFAULT_COSMOLOGY)"
   ]
  },
  {
   "cell_type": "code",
   "execution_count": 19,
   "id": "8e6d8096-9190-46fa-9652-38764159c27a",
   "metadata": {},
   "outputs": [],
   "source": [
    "cosmo =DEFAULT_COSMOLOGY"
   ]
  },
  {
   "cell_type": "code",
   "execution_count": 21,
   "id": "800839d4-3535-448e-a168-53bc5578b741",
   "metadata": {},
   "outputs": [],
   "source": [
    "t0 = age_at_z0(cosmo.Om0,cosmo.w0,cosmo.wa,cosmo.h)"
   ]
  },
  {
   "cell_type": "code",
   "execution_count": null,
   "id": "8f5248bb-a554-41c6-98cc-4b57a505112c",
   "metadata": {},
   "outputs": [],
   "source": []
  }
 ],
 "metadata": {
  "kernelspec": {
   "display_name": "conda_jax0325_py310",
   "language": "python",
   "name": "conda_jax0325_py310"
  },
  "language_info": {
   "codemirror_mode": {
    "name": "ipython",
    "version": 3
   },
   "file_extension": ".py",
   "mimetype": "text/x-python",
   "name": "python",
   "nbconvert_exporter": "python",
   "pygments_lexer": "ipython3",
   "version": "3.10.12"
  }
 },
 "nbformat": 4,
 "nbformat_minor": 5
}
