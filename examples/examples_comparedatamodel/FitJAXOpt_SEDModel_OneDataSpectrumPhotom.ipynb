{
 "cells": [
  {
   "cell_type": "markdown",
   "id": "a55f2f1d-dd9d-4543-8920-42e396589620",
   "metadata": {},
   "source": [
    "# Fit DSPS SED models with Fors2 Spectra with JAXOPT and Photometry\n",
    "\n",
    "\n",
    "- author Sylvie Dagoret-Campagne\n",
    "- affiliation : IJCLab/IN2P3/CNRS\n",
    "- CC: kernel conda_jax0235_py310\n",
    "- creation date : 2023-11-13\n",
    "- update : 2023-11-14 : add interpax interpolation and fitted sfr, and filter object and pytree\n",
    "\n",
    "\n",
    "| computer | processor | kernel              |    date     |\n",
    "| --- | --- | --- | --- |\n",
    "| CC       | CPU       | conda_jax0325_py310 | 2023-11-10  |\n",
    "| macbookpro | CPU | conda_jaxcpu_dsps_py310 | 2023-11-10  | \n",
    "\n",
    "\n",
    "libraries \n",
    "=========\n",
    "\n",
    "jax\n",
    "---\n",
    "\n",
    "- jaxlib-0.3.25+cuda11.cudnn82\n",
    "- jaxopt\n",
    "- optax\n",
    "- corner\n",
    "- arviz\n",
    "- numpyro\n",
    "- interpax\n",
    "\n",
    "sps\n",
    "---\n",
    "\n",
    "- fsps\n",
    "- prospect\n",
    "- dsps\n",
    "- diffstar\n",
    "- diffmah\n",
    "- sedpy or astro-sedpy\n",
    "\n",
    "plot\n",
    "----\n",
    "\n",
    "- matplotlib\n",
    "- seaborn\n",
    "\n",
    "(conda_jax0325_py310) \n",
    "`/pbs/throng/lsst/users/dagoret/desc/StellarPopulationSynthesis>pip list | grep` \n",
    "\n",
    "| lib | version |\n",
    "|--- | --- | \n",
    "|jax  |                         0.4.20 |\n",
    "|jaxlib |                       0.4.20 |\n",
    "|jaxopt  |                      0.8.2 |\n",
    "\n"
   ]
  },
  {
   "cell_type": "markdown",
   "id": "8a4eff6e-13ba-4ec4-ab5a-d8d8e8220ef0",
   "metadata": {},
   "source": [
    "https://github.com/sylvielsstfr/Fors2ToStellarPopSynthesis/blob/main/examples/examples_jaxtutos/jaxtuto_jec2022/JAX-Optim-regression-piecewise.ipynb"
   ]
  },
  {
   "cell_type": "code",
   "execution_count": 1,
   "id": "9af29008-484c-433b-82d5-3aa4aee991d4",
   "metadata": {},
   "outputs": [
    {
     "data": {
      "text/plain": [
       "[CpuDevice(id=0)]"
      ]
     },
     "execution_count": 1,
     "metadata": {},
     "output_type": "execute_result"
    }
   ],
   "source": [
    "import jax\n",
    "import jax.numpy as jnp\n",
    "jax.devices()"
   ]
  },
  {
   "cell_type": "code",
   "execution_count": 2,
   "id": "6481079b-1c6c-483e-ad24-305f6c9c3b40",
   "metadata": {},
   "outputs": [],
   "source": [
    "from sedpy import observate"
   ]
  },
  {
   "cell_type": "code",
   "execution_count": 3,
   "id": "dad2ce09-dd38-4f21-9e92-2ab5d0af6918",
   "metadata": {},
   "outputs": [],
   "source": [
    "\n",
    "import numpy as np\n",
    "import scipy as sc\n",
    "\n",
    "import jax\n",
    "import jax.numpy as jnp\n",
    "import jax.scipy as jsc\n",
    "\n",
    "from jax import grad, jit, vmap\n",
    "from jax import jacfwd, jacrev, hessian\n",
    "\n",
    "import jaxopt\n",
    "import optax\n",
    "\n",
    "jax.config.update(\"jax_enable_x64\", True)\n",
    "import corner\n",
    "import arviz as az\n",
    "\n",
    "import copy\n",
    "from interpax import interp1d"
   ]
  },
  {
   "cell_type": "code",
   "execution_count": 4,
   "id": "513528db-b077-4f13-a231-f708e7bdb8da",
   "metadata": {
    "tags": []
   },
   "outputs": [],
   "source": [
    "import itertools"
   ]
  },
  {
   "cell_type": "code",
   "execution_count": 5,
   "id": "86d8579e-d431-4726-a93c-ed11b06d21b3",
   "metadata": {},
   "outputs": [],
   "source": [
    "import h5py\n",
    "import pandas as pd\n",
    "import numpy as np\n",
    "import os\n",
    "from astropy.io import fits\n",
    "from astropy.table import Table\n",
    "import matplotlib as mpl\n",
    "import matplotlib.pyplot as plt\n",
    "%matplotlib inline\n",
    "import matplotlib.colors as colors\n",
    "import matplotlib.cm as cmx\n",
    "from collections import OrderedDict\n",
    "import re\n",
    "import matplotlib.gridspec as gridspec\n",
    "from sklearn.gaussian_process import GaussianProcessRegressor, kernels"
   ]
  },
  {
   "cell_type": "code",
   "execution_count": 6,
   "id": "d1402804-55b9-4754-b370-14a08cbdbdaa",
   "metadata": {},
   "outputs": [],
   "source": [
    "plt.rcParams[\"figure.figsize\"] = (12,6)\n",
    "plt.rcParams[\"axes.labelsize\"] = 'xx-large'\n",
    "plt.rcParams['axes.titlesize'] = 'xx-large'\n",
    "plt.rcParams['xtick.labelsize']= 'xx-large'\n",
    "plt.rcParams['ytick.labelsize']= 'xx-large'"
   ]
  },
  {
   "cell_type": "code",
   "execution_count": 7,
   "id": "8dfdd1bf-e077-480c-8681-5255f0b0b893",
   "metadata": {},
   "outputs": [],
   "source": [
    "from diffstar.defaults import DEFAULT_MAH_PARAMS\n",
    "from diffstar.defaults import DEFAULT_MS_PARAMS\n",
    "from diffstar.defaults import DEFAULT_Q_PARAMS"
   ]
  },
  {
   "cell_type": "code",
   "execution_count": 8,
   "id": "53a36504-e9a3-4c9a-bf9f-55e100ea1041",
   "metadata": {},
   "outputs": [],
   "source": [
    "from diffstar import sfh_singlegal\n",
    "from dsps.cosmology import age_at_z, DEFAULT_COSMOLOGY"
   ]
  },
  {
   "cell_type": "code",
   "execution_count": 9,
   "id": "6e0a3523-ed72-443c-9f8f-bbdf9bc4de46",
   "metadata": {},
   "outputs": [],
   "source": [
    "from dsps import load_ssp_templates"
   ]
  },
  {
   "cell_type": "code",
   "execution_count": 10,
   "id": "c773ff45-a638-4dfa-89b3-77ca54614a48",
   "metadata": {},
   "outputs": [],
   "source": [
    "from dsps import calc_rest_sed_sfh_table_lognormal_mdf\n",
    "from dsps import calc_rest_sed_sfh_table_met_table"
   ]
  },
  {
   "cell_type": "code",
   "execution_count": 11,
   "id": "b548b7a4-c82d-405c-bb00-78425079bc0b",
   "metadata": {},
   "outputs": [],
   "source": [
    "from dsps import calc_rest_mag, calc_obs_mag"
   ]
  },
  {
   "cell_type": "code",
   "execution_count": 12,
   "id": "d163e538-8268-4363-ba96-3bee227ba4c3",
   "metadata": {},
   "outputs": [],
   "source": [
    "from dsps.dust.att_curves import  sbl18_k_lambda, RV_C00,_frac_transmission_from_k_lambda"
   ]
  },
  {
   "cell_type": "markdown",
   "id": "642ff242-6c1f-4077-804a-38cccd6e39c0",
   "metadata": {},
   "source": [
    "### Very important add the lib to load the data"
   ]
  },
  {
   "cell_type": "code",
   "execution_count": 13,
   "id": "e3d49aa5-6753-40ce-ae39-2d6fad6a5969",
   "metadata": {},
   "outputs": [],
   "source": [
    "import sys\n",
    "sys.path.append(\"../../lib\")"
   ]
  },
  {
   "cell_type": "code",
   "execution_count": 14,
   "id": "6c18b4ee-d4d4-423c-90d5-802b814e3f5b",
   "metadata": {},
   "outputs": [],
   "source": [
    "from fit_params_fors2 import U_FNU,U_FL,ConvertFlambda_to_Fnu,flux_norm,ordered_keys,Fors2DataAcess"
   ]
  },
  {
   "cell_type": "code",
   "execution_count": 15,
   "id": "93f63c24-542d-420e-8673-e41c9c67553c",
   "metadata": {},
   "outputs": [],
   "source": [
    "lambda_red = 6231\n",
    "lambda_width = 50\n",
    "lambda_sel_min = lambda_red-lambda_width /2.\n",
    "lambda_sel_max = lambda_red+lambda_width /2."
   ]
  },
  {
   "cell_type": "markdown",
   "id": "640b089d-b1f8-40d4-9068-b09e7a6fc0ed",
   "metadata": {},
   "source": [
    "# Filters"
   ]
  },
  {
   "cell_type": "markdown",
   "id": "041d98b6-1e42-4e08-96bb-360d95236a1b",
   "metadata": {},
   "source": [
    "### Build Tables for filters"
   ]
  },
  {
   "cell_type": "code",
   "execution_count": 16,
   "id": "d2dd3abf-87b4-4a2a-9622-c54eb9e8bfaa",
   "metadata": {},
   "outputs": [],
   "source": [
    "class FilterInfo():\n",
    "    def __init__(self):\n",
    "        self.filters_galex = np.array([\"galex_FUV\",\"galex_NUV\"])\n",
    "        self.filters_sdss = np.array([\"sdss_u0\",\"sdss_g0\",\"sdss_r0\",\"sdss_i0\"])\n",
    "        self.filters_vircam = np.array([\"vista_vircam_Z\",\"vista_vircam_Y\",\"vista_vircam_J\",\"vista_vircam_H\",\"vista_vircam_Ks\"])\n",
    "\n",
    "        # Galex filters\n",
    "        self.all_filt_galex = []\n",
    "        for filtname in self.filters_galex:\n",
    "            filt = observate.Filter(filtname)\n",
    "            self.all_filt_galex.append(filt)   \n",
    "        self.N_galex = len(self.all_filt_galex)\n",
    "        # colors for Galex\n",
    "        cmap = mpl.cm.PuBu\n",
    "        cNorm = colors.Normalize(vmin=0, vmax=self.N_galex)\n",
    "        scalarMap = cmx.ScalarMappable(norm=cNorm, cmap=cmap)\n",
    "        self.all_colors_galex = scalarMap.to_rgba(np.arange(self.N_galex+1), alpha=1)\n",
    "\n",
    "        # SDSS filters (for KIDS survey)\n",
    "        self.all_filt_sdss = []\n",
    "        for filtname in self.filters_sdss:\n",
    "            filt = observate.Filter(filtname)\n",
    "            self.all_filt_sdss.append(filt)  \n",
    "        self.N_sdss = len(self.all_filt_sdss)\n",
    "        # colors for SDSS\n",
    "        cmap = mpl.cm.Reds\n",
    "        cNorm = colors.Normalize(vmin=0, vmax=self.N_sdss)\n",
    "        scalarMap = cmx.ScalarMappable(norm=cNorm, cmap=cmap)\n",
    "        self.all_colors_sdss = scalarMap.to_rgba(np.arange(self.N_sdss+1), alpha=1)\n",
    "\n",
    "        # VIRCAM\n",
    "        self.all_filt_vircam = []\n",
    "        for filtname in self.filters_vircam:\n",
    "            filt = observate.Filter(filtname)\n",
    "            self.all_filt_vircam.append(filt) \n",
    "        self.N_vircam = len(self.all_filt_vircam)\n",
    "        # colors for Vircam\n",
    "        cmap = mpl.cm.Wistia\n",
    "        cNorm = colors.Normalize(vmin=0, vmax=self.N_vircam)\n",
    "        scalarMap = cmx.ScalarMappable(norm=cNorm, cmap=cmap)\n",
    "        self.all_colors_vircam = scalarMap.to_rgba(np.arange(self.N_vircam+1), alpha=1)\n",
    "        \n",
    "\n",
    "\n",
    "        self.filters_indexlist = []\n",
    "        self.filters_surveylist = []\n",
    "        self.filters_namelist = []\n",
    "        self.filters_transmissionlist = []\n",
    "        self.filters_transmissionnormlist = []\n",
    "        self.filters_colorlist = []\n",
    "        \n",
    "        filter_count = 0\n",
    "        \n",
    "        for index in range(self.N_galex):\n",
    "            self.filters_indexlist.append(filter_count)\n",
    "            self.filters_surveylist.append(\"galex\") \n",
    "            self.filters_namelist.append(self.filters_galex[index])\n",
    "            self.filters_transmissionlist.append(self.all_filt_galex[index])\n",
    "            self.filters_transmissionnormlist.append(100.0)\n",
    "            self.filters_colorlist.append(self.all_colors_galex[index+1])\n",
    "            filter_count+= 1\n",
    "            \n",
    "        for index in range(self.N_sdss):\n",
    "            self.filters_indexlist.append(filter_count)\n",
    "            self.filters_surveylist.append(\"sdss\") \n",
    "            self.filters_namelist.append(self.filters_sdss[index])\n",
    "            self.filters_transmissionlist.append(self.all_filt_sdss[index])\n",
    "            self.filters_transmissionnormlist.append(1.0)\n",
    "            self.filters_colorlist.append(self.all_colors_sdss[index+1])\n",
    "            filter_count+= 1\n",
    "            \n",
    "        for index in range(self.N_vircam):\n",
    "            self.filters_indexlist.append(filter_count)\n",
    "            self.filters_surveylist.append(\"vircam\") \n",
    "            self.filters_namelist.append(self.filters_vircam[index])\n",
    "            self.filters_transmissionlist.append(self.all_filt_vircam[index])\n",
    "            if index==0:\n",
    "                self.filters_transmissionnormlist.append(100.0)\n",
    "            else:\n",
    "                self.filters_transmissionnormlist.append(1.0)\n",
    "            self.filters_colorlist.append(self.all_colors_vircam[index+1])\n",
    "            filter_count+= 1\n",
    "\n",
    "    def get_pytree(self):\n",
    "        \"\"\"\n",
    "        return a dict of a tuple of a dict\n",
    "        \"\"\"\n",
    "        the_dict = {}\n",
    "        \n",
    "        for index in self.filters_indexlist:\n",
    "            the_subdict = {}\n",
    "            the_filt = self.filters_transmissionlist[index]\n",
    "            the_norm = self.filters_transmissionnormlist[index]\n",
    "\n",
    "            the_name = self.filters_namelist[index]\n",
    "            the_wlmean = the_filt.wave_mean\n",
    "            the_wls = the_filt.wavelength\n",
    "            the_transm =the_filt.transmission/the_norm\n",
    "            \n",
    "            #the_subdict[\"name\"] = the_name \n",
    "            #the_subdict[\"wlmean\"] = the_wlmean\n",
    "            the_subdict[\"wls\"] = jnp.array(the_wls)\n",
    "            the_subdict[\"transm\"] = jnp.array(the_transm)\n",
    "            the_dict[index] = the_subdict\n",
    "            \n",
    "        return the_dict\n",
    "            \n",
    "        \n",
    "\n",
    "    def plot_transmissions(self,ax = None):\n",
    "\n",
    "        if ax == None:\n",
    "            fig,ax = plt.subplots(1,1,figsize=(12,6))\n",
    "        \n",
    "        for index in self.filters_indexlist:\n",
    "            the_name = self.filters_namelist[index]\n",
    "            the_filt = self.filters_transmissionlist[index]\n",
    "            the_norm = self.filters_transmissionnormlist[index]\n",
    "            the_wlmean = the_filt.wave_mean\n",
    "            the_color = self.filters_colorlist[index]\n",
    "            the_transmission =the_filt.transmission/the_norm\n",
    "            ax.plot(the_filt.wavelength,the_transmission,color=the_color)   \n",
    "\n",
    "            if index%2 ==0:\n",
    "                ax.text(the_wlmean, 0.7, the_name,horizontalalignment='center',verticalalignment='center',color=the_color,fontweight=\"bold\") \n",
    "            else:\n",
    "                ax.text(the_wlmean, 0.75, the_name,horizontalalignment='center',verticalalignment='center',color=the_color,fontweight=\"bold\") \n",
    "        \n",
    "\n",
    "        ax.grid()\n",
    "        ax.set_title(\"Transmission\")\n",
    "        ax.set_xlabel(\"$\\lambda (\\AA)$\")\n",
    "        ax.set_xlim(0.,25000.)\n",
    "\n",
    "    def dump(self):\n",
    "        print(\"filters_indexlist   : \\t \", self.filters_indexlist)\n",
    "        print(\"filters_surveylist  : \\t \", self.filters_surveylist)\n",
    "        print(\"filters__namelist   : \\t \", self.filters_namelist)\n",
    "                "
   ]
  },
  {
   "cell_type": "code",
   "execution_count": 17,
   "id": "e5be176d-ccc7-4bcc-91c2-8517f8a12713",
   "metadata": {},
   "outputs": [],
   "source": [
    "photometric_surveys = FilterInfo()"
   ]
  },
  {
   "cell_type": "code",
   "execution_count": 18,
   "id": "de5471fc-e366-427d-acb4-0c3514b59e83",
   "metadata": {},
   "outputs": [
    {
     "name": "stdout",
     "output_type": "stream",
     "text": [
      "filters_indexlist   : \t  [0, 1, 2, 3, 4, 5, 6, 7, 8, 9, 10]\n",
      "filters_surveylist  : \t  ['galex', 'galex', 'sdss', 'sdss', 'sdss', 'sdss', 'vircam', 'vircam', 'vircam', 'vircam', 'vircam']\n",
      "filters__namelist   : \t  ['galex_FUV', 'galex_NUV', 'sdss_u0', 'sdss_g0', 'sdss_r0', 'sdss_i0', 'vista_vircam_Z', 'vista_vircam_Y', 'vista_vircam_J', 'vista_vircam_H', 'vista_vircam_Ks']\n"
     ]
    },
    {
     "data": {
      "image/png": "[encoded data removed]",
      "text/plain": [
       "<Figure size 1200x600 with 1 Axes>"
      ]
     },
     "metadata": {},
     "output_type": "display_data"
    }
   ],
   "source": [
    "photometric_surveys.plot_transmissions()\n",
    "photometric_surveys.dump()"
   ]
  },
  {
   "cell_type": "markdown",
   "id": "6156bcf1-15ce-4069-9bb5-3ff0c0644b94",
   "metadata": {},
   "source": [
    "# transform the FilterInfo object into a pytree"
   ]
  },
  {
   "cell_type": "code",
   "execution_count": 19,
   "id": "318fd8e3-347c-4481-8740-96ad177f7f9d",
   "metadata": {},
   "outputs": [],
   "source": [
    "ps = photometric_surveys"
   ]
  },
  {
   "cell_type": "code",
   "execution_count": 20,
   "id": "d4da678e-1ec2-4ed6-9a03-ed63bd47d693",
   "metadata": {},
   "outputs": [],
   "source": [
    "pt_filters = ps.get_pytree()"
   ]
  },
  {
   "cell_type": "code",
   "execution_count": 21,
   "id": "66b73a1b-7308-4053-9d54-272cdbb5c069",
   "metadata": {},
   "outputs": [
    {
     "name": "stderr",
     "output_type": "stream",
     "text": [
      "/var/folders/79/hrybm_4s0zjd4jsb7lp_trhh0000gp/T/ipykernel_83774/4036315153.py:1: DeprecationWarning: jax.tree_leaves is deprecated: use jax.tree_util.tree_leaves.\n",
      "  leaves = jax.tree_leaves(pt_filters)\n"
     ]
    }
   ],
   "source": [
    "leaves = jax.tree_leaves(pt_filters)"
   ]
  },
  {
   "cell_type": "code",
   "execution_count": 24,
   "id": "81af0847-dc16-453d-8bd7-c64615773862",
   "metadata": {},
   "outputs": [],
   "source": [
    "#leaves"
   ]
  },
  {
   "cell_type": "markdown",
   "id": "3eb43406-736f-4056-8cde-5dc8ea29207c",
   "metadata": {},
   "source": [
    "# Read Fors2 / Galex and Kids"
   ]
  },
  {
   "cell_type": "code",
   "execution_count": null,
   "id": "ed720355-38fc-40fb-a312-f75684eb0502",
   "metadata": {},
   "outputs": [],
   "source": [
    "input_file_h5  = '../../data/fors2sl/FORS2spectraGalexKidsPhotom.hdf5'"
   ]
  },
  {
   "cell_type": "code",
   "execution_count": null,
   "id": "ab2bed50-b906-4bb7-879f-64d1a29f526f",
   "metadata": {},
   "outputs": [],
   "source": [
    "fors2 = Fors2DataAcess(input_file_h5)"
   ]
  },
  {
   "cell_type": "code",
   "execution_count": null,
   "id": "d3b610fc-ace0-428c-aabe-ec635ada1822",
   "metadata": {},
   "outputs": [],
   "source": [
    "list_of_keys = fors2.get_list_of_groupkeys()\n",
    "list_of_attributes = fors2.get_list_subgroup_keys()"
   ]
  },
  {
   "cell_type": "markdown",
   "id": "9f1d7fc2-5685-41a8-8d87-6c331b5620a8",
   "metadata": {},
   "source": [
    "## Must sort spectra name"
   ]
  },
  {
   "cell_type": "code",
   "execution_count": null,
   "id": "07acb65d-d275-4072-bf73-ec172045b422",
   "metadata": {},
   "outputs": [],
   "source": [
    "list_of_keys = np.array(list_of_keys)"
   ]
  },
  {
   "cell_type": "code",
   "execution_count": null,
   "id": "f2466361-89ac-48d4-a407-3b99351f9e1b",
   "metadata": {},
   "outputs": [],
   "source": [
    "list_of_keysnum = [ int(re.findall(\"SPEC(.*)\",specname)[0]) for specname in  list_of_keys ]"
   ]
  },
  {
   "cell_type": "code",
   "execution_count": null,
   "id": "dc1440a9-0749-415f-9eba-9e06a67d9b0c",
   "metadata": {},
   "outputs": [],
   "source": [
    "sorted_indexes = np.argsort(list_of_keysnum)"
   ]
  },
  {
   "cell_type": "code",
   "execution_count": null,
   "id": "86501f91-e552-495b-884b-b8e6226d9369",
   "metadata": {},
   "outputs": [],
   "source": [
    "list_of_keys = list_of_keys[sorted_indexes]"
   ]
  },
  {
   "cell_type": "code",
   "execution_count": null,
   "id": "0f68ac0e-cda1-4e26-a9b2-a790e85f6b24",
   "metadata": {},
   "outputs": [],
   "source": [
    "df_info = pd.DataFrame(columns=list_of_attributes)\n",
    "all_df = []"
   ]
  },
  {
   "cell_type": "markdown",
   "id": "f7ea0731-dfb3-413b-a87e-78b80500461e",
   "metadata": {},
   "source": [
    "### Read each spectrum Fors2 as (wl,fnu)"
   ]
  },
  {
   "cell_type": "code",
   "execution_count": null,
   "id": "0c308a6e-e2e8-4098-a0ea-ff749ba78ff1",
   "metadata": {},
   "outputs": [],
   "source": [
    "for idx,key in enumerate(list_of_keys):\n",
    "    attrs = fors2.getattribdata_fromgroup(key)\n",
    "    spectr = fors2.getspectrum_fromgroup(key)\n",
    "    df_info.loc[idx] = [*attrs.values()] # hope the order of attributes is kept\n",
    "    df = pd.DataFrame({\"wl\":spectr[\"wl\"],\"fnu\":spectr[\"fnu\"]})\n",
    "    all_df.append(df)\n",
    "    "
   ]
  },
  {
   "cell_type": "code",
   "execution_count": null,
   "id": "9ab3ac7a-d3eb-4b28-bcfa-3c614a01c64a",
   "metadata": {},
   "outputs": [],
   "source": [
    "df_info.reset_index(drop=True, inplace=True) "
   ]
  },
  {
   "cell_type": "code",
   "execution_count": null,
   "id": "8396f46f-ec2e-4864-b0b8-b23f6a1726de",
   "metadata": {},
   "outputs": [],
   "source": [
    "df_info = df_info[ordered_keys]"
   ]
  },
  {
   "cell_type": "code",
   "execution_count": null,
   "id": "e8614f73-9250-45cf-a1ed-eda1e8945d6e",
   "metadata": {},
   "outputs": [],
   "source": [
    "df_info"
   ]
  },
  {
   "cell_type": "markdown",
   "id": "d991a27b-ac2e-4aed-a1cb-e8fea950b665",
   "metadata": {},
   "source": [
    "# Select good match with galex"
   ]
  },
  {
   "cell_type": "code",
   "execution_count": null,
   "id": "e07cac2d-dcde-4966-9f23-87d2ec65c9d7",
   "metadata": {},
   "outputs": [],
   "source": [
    "df_info.hist(\"asep_galex\",bins=100,color=\"b\")\n",
    "plt.axvline(5,c=\"k\")"
   ]
  },
  {
   "cell_type": "code",
   "execution_count": null,
   "id": "25aa5d63-2834-4408-b7ae-b92e4040fe01",
   "metadata": {},
   "outputs": [],
   "source": [
    "df_info.hist(\"asep_kids\",bins=100,color='b')"
   ]
  },
  {
   "cell_type": "markdown",
   "id": "5a74a09b-60ff-410b-85c9-d86119453f15",
   "metadata": {},
   "source": [
    "## Select  Those spectra having GALEX"
   ]
  },
  {
   "cell_type": "code",
   "execution_count": null,
   "id": "9b5a0a04-ee75-4767-80e5-184441d77cb0",
   "metadata": {},
   "outputs": [],
   "source": [
    "df = df_info[df_info[\"asep_galex\"] <= 5]"
   ]
  },
  {
   "cell_type": "code",
   "execution_count": null,
   "id": "ff36b1a1-043d-4b89-b8c1-0f5faf3bcdd4",
   "metadata": {},
   "outputs": [],
   "source": [
    "df.index"
   ]
  },
  {
   "cell_type": "markdown",
   "id": "edfba9aa-e171-4960-838f-7de362fdf329",
   "metadata": {},
   "source": [
    "## Remove NaN\n",
    "\n",
    "- remove those row with no FUV"
   ]
  },
  {
   "cell_type": "code",
   "execution_count": null,
   "id": "fa83d828-b7ce-4b6f-807a-3a01bc544bc4",
   "metadata": {},
   "outputs": [],
   "source": [
    "#df = df.dropna()"
   ]
  },
  {
   "cell_type": "markdown",
   "id": "62c5526b-1aeb-42fd-83e7-82f7f46977ba",
   "metadata": {},
   "source": [
    "## Remove rows with Rmag = 0"
   ]
  },
  {
   "cell_type": "code",
   "execution_count": null,
   "id": "6cc699d7-2109-4efd-b1f3-ac1e41d02d38",
   "metadata": {},
   "outputs": [],
   "source": [
    "#df = df[df[\"Rmag\"] > 0]"
   ]
  },
  {
   "cell_type": "markdown",
   "id": "ec49bc25-c7fc-42d3-b758-9872342cebde",
   "metadata": {},
   "source": [
    "# Plot Spectra\n",
    "\n",
    "https://en.wikipedia.org/wiki/Photometric_system"
   ]
  },
  {
   "cell_type": "code",
   "execution_count": null,
   "id": "2a03ba47-aadb-4df8-bb89-1b71e58c173e",
   "metadata": {},
   "outputs": [],
   "source": [
    "lambda_FUV = 1528.\n",
    "lambda_NUV = 2271.\n",
    "lambda_U = 3650.\n",
    "lambda_B = 4450.\n",
    "lambda_G = 4640.\n",
    "lambda_R = 5580.\n",
    "lambda_I = 8060.\n",
    "lambda_Z = 9000.\n",
    "lambda_Y = 10200.\n",
    "lambda_J = 12200.\n",
    "lambda_H = 16300.\n",
    "lambda_K = 21900.\n",
    "lambda_L = 34500.\n",
    "\n",
    "WL = [lambda_FUV, lambda_NUV, lambda_B, lambda_G, lambda_R ,lambda_I, lambda_Z, lambda_Y, lambda_J, lambda_H, lambda_K ]\n",
    "FilterTag = ['FUV','NUV','B','G','R','I','Z','Y','J','H','Ks']"
   ]
  },
  {
   "cell_type": "code",
   "execution_count": null,
   "id": "f72f53f9-fa6c-496a-b891-e980534a2416",
   "metadata": {},
   "outputs": [],
   "source": [
    "def PlotFilterTag(ax,fluxlist):\n",
    "    goodfl = fluxlist[np.isfinite(fluxlist)]\n",
    "    ymin = np.mean(goodfl)\n",
    "    dy=ymin/5\n",
    "   \n",
    "    for idx,flux in enumerate(fluxlist):\n",
    "        if np.isfinite(flux):\n",
    "            #ax.text(WL[idx],flux, FilterTag[idx],fontsize=10,ha='center', va='bottom')\n",
    "                     \n",
    "            fl = flux - dy\n",
    "            if fl <0:\n",
    "                fl += 2*dy\n",
    "            ax.text(WL[idx],fl, FilterTag[idx],fontsize=12,color=\"g\",weight='bold',ha='center', va='bottom')\n",
    "            "
   ]
  },
  {
   "cell_type": "code",
   "execution_count": null,
   "id": "f301a2bb-36b6-4b63-9e10-d1ccaa93330d",
   "metadata": {},
   "outputs": [],
   "source": [
    "df"
   ]
  },
  {
   "cell_type": "code",
   "execution_count": null,
   "id": "2d22fcd3-9541-46c4-a52d-acbd4de3ffdf",
   "metadata": {},
   "outputs": [],
   "source": [
    "df['index0'] = df.index\n",
    "df = df.reset_index()"
   ]
  },
  {
   "cell_type": "code",
   "execution_count": null,
   "id": "fca3c767-a56d-4ec8-8140-58e567787638",
   "metadata": {},
   "outputs": [],
   "source": [
    "df['index0']"
   ]
  },
  {
   "cell_type": "code",
   "execution_count": null,
   "id": "fbe6dcf6-3199-4adf-a0f7-ccc43150e8f3",
   "metadata": {},
   "outputs": [],
   "source": [
    "df.columns"
   ]
  },
  {
   "cell_type": "markdown",
   "id": "f77583d8-77a7-4563-b6c6-8b4558d634fe",
   "metadata": {},
   "source": [
    "# Plots"
   ]
  },
  {
   "cell_type": "markdown",
   "id": "72d5472f-c623-4b7c-9cd3-3cc8725010f8",
   "metadata": {},
   "source": [
    "## Fit Gaussian process to remove abs lines"
   ]
  },
  {
   "cell_type": "code",
   "execution_count": null,
   "id": "45269e95-a195-4ce3-a312-8bcdb69e4239",
   "metadata": {},
   "outputs": [],
   "source": [
    "kernel = kernels.RBF(0.5, (8000, 10000.0))\n",
    "gp = GaussianProcessRegressor(kernel=kernel ,random_state=0)"
   ]
  },
  {
   "cell_type": "markdown",
   "id": "551df074-5437-4548-8d39-f0171f277021",
   "metadata": {},
   "source": [
    "### Select Spectrum"
   ]
  },
  {
   "cell_type": "code",
   "execution_count": null,
   "id": "cd4e74b9-13f5-4a0d-badc-43ae1383bf58",
   "metadata": {},
   "outputs": [],
   "source": [
    "#selected_spectrum_number = 411\n",
    "selected_spectrum_number = 560\n",
    "\n",
    "dict_normalisation_factor = {}\n",
    "dict_normalisation_factor[411] = 160.\n",
    "dict_normalisation_factor[560] = 12."
   ]
  },
  {
   "cell_type": "code",
   "execution_count": null,
   "id": "9b9dcba0-92f1-40ce-b6ee-7f1b209865f4",
   "metadata": {},
   "outputs": [],
   "source": [
    "# loop on rows\n",
    "props = dict(boxstyle='round', facecolor='wheat', alpha=0.5)\n",
    "for idx,row in df.iterrows():\n",
    "    \n",
    "    print(idx,\" == \",row[\"name\"],row[\"num\"],row[\"index0\"])\n",
    "    idx0 = row[\"index0\"] # index for the spectrum\n",
    "    specname  = row[\"name\"]\n",
    "    specnum = row[\"num\"]\n",
    "    if specnum < selected_spectrum_number:\n",
    "        continue\n",
    "    if specnum > selected_spectrum_number:\n",
    "        break\n",
    "    \n",
    "    \n",
    "    mags = np.array([ row[\"fuv_mag\"], row[\"nuv_mag\"], row['MAG_GAAP_u'], row['MAG_GAAP_g'], row['MAG_GAAP_r'], row['MAG_GAAP_i'], row['MAG_GAAP_Z'], row['MAG_GAAP_Y'], \n",
    "            row['MAG_GAAP_J'], row['MAG_GAAP_H'],row['MAG_GAAP_Ks'] ])\n",
    "    \n",
    "    magserr = np.array([ row[\"fuv_magerr\"], row[\"nuv_magerr\"], row['MAGERR_GAAP_u'], row['MAGERR_GAAP_g'], row['MAGERR_GAAP_r'], row['MAGERR_GAAP_i'], row['MAGERR_GAAP_Z'], row['MAGERR_GAAP_Y'], \n",
    "            row['MAGERR_GAAP_J'], row['MAGERR_GAAP_H'],row['MAGERR_GAAP_Ks'] ])\n",
    "    \n",
    "    mfluxes = [ 10**(-0.4*m) for m in mags ]\n",
    "    mfluxeserr = []\n",
    "    \n",
    "    for f,em in zip(mfluxes,magserr):\n",
    "        ferr = 0.4*np.log(10)*em*f\n",
    "        mfluxeserr.append(ferr)\n",
    "        \n",
    "    mfluxes = np.array(mfluxes)\n",
    "    mfluxeserr = np.array(mfluxeserr)\n",
    "    \n",
    "    fluxes =  [ row[\"fuv_flux\"], row[\"nuv_flux\"], row['FLUX_GAAP_u'], row['FLUX_GAAP_g'], row['FLUX_GAAP_r'], row['FLUX_GAAP_i'], row['FLUX_GAAP_Z'], row['FLUX_GAAP_Y'], \n",
    "            row['FLUX_GAAP_J'], row['FLUX_GAAP_H'],row['FLUX_GAAP_Ks'] ]\n",
    "    \n",
    "    fluxeserr =  [ row[\"fuv_fluxerr\"], row[\"nuv_fluxerr\"], row['FLUXERR_GAAP_u'], row['FLUXERR_GAAP_g'], row['FLUXERR_GAAP_r'], row['FLUXERR_GAAP_i'], row['FLUXERR_GAAP_Z'], row['FLUX_GAAP_Y'], \n",
    "            row['FLUXERR_GAAP_J'], row['FLUXERR_GAAP_H'],row['FLUXERR_GAAP_Ks'] ]\n",
    "    \n",
    "    ##############################################################\n",
    "    # The top image\n",
    "    ######################################\n",
    "    fig = plt.figure(figsize=(10,14),tight_layout=True)\n",
    "    gs = gridspec.GridSpec(3, 1,height_ratios=[3, 1, 3])\n",
    "    \n",
    "    \n",
    "    #top image : original flux\n",
    "    ax= fig.add_subplot(gs[0, 0])\n",
    "    \n",
    "    z = row[\"redshift\"]\n",
    "    asep_fg = row['asep_galex']\n",
    "    rmag = row[\"Rmag\"]\n",
    "    asep_fk = row['asep_kids']\n",
    "    \n",
    "  \n",
    "    the_lines = row['lines']\n",
    "    print(\"the_lines = \",the_lines)\n",
    "    all_elements  = the_lines.decode().split(\",\")\n",
    "    \n",
    "    \n",
    "    the_label_data = f\" FORS2 : z = {z:.3f} , Rmag = {rmag:.1f} mag,  angular sep (arcsec) f-g : {asep_fg:.3f}, f-k : {asep_fk:.3f}\" \n",
    "    the_wl = all_df[idx0][\"wl\"].values\n",
    "    the_fnu = all_df[idx0][\"fnu\"].values*10**(-0.4*mags[4])    \n",
    "    ax.plot(the_wl,the_fnu,'b-',label=the_label_data)\n",
    "     \n",
    "    X = the_wl\n",
    "    Y = the_fnu\n",
    "    gp.fit(X[:, None], Y)\n",
    "    xfit = np.linspace(X.min(),X.max())\n",
    "    yfit, yfit_err = gp.predict(xfit[:, None], return_std=True)\n",
    "    ax.plot(xfit, yfit, '-', color='cyan')\n",
    "    ax.fill_between(xfit, yfit -  yfit_err, yfit +  yfit_err, color='gray', alpha=0.3)\n",
    "     \n",
    "    ax2 = ax.twinx()\n",
    "    ax2.errorbar(WL,mfluxes,yerr=mfluxeserr,fmt='o',color=\"r\",ecolor=\"r\",ms=5,label='Galex (UV) + Kids (optics) +Viking (IR)')\n",
    "    PlotFilterTag(ax2,mfluxes)\n",
    "    #ax2.errorbar(WL, fluxes, yerr=fluxes, xerr=None, fmt='o', color=\"g\",ecolor=\"g\")\n",
    "    ax2.legend(loc=\"lower right\")\n",
    "    \n",
    "    ax.set_xlabel(\"$\\lambda  (\\AA)$ \")\n",
    "    title_data = f\"FORS2 : {idx}): {idx0} name = {specname}\"\n",
    "    ax.set_title(title_data)\n",
    "    ax.set_ylabel(\"flux (maggies)\")\n",
    "    ax.legend(loc=\"upper right\")\n",
    "    ax.grid()\n",
    "    \n",
    "    the_max1 = np.max(the_fnu)\n",
    "    goodmags = mfluxes[np.isfinite(mfluxes)]\n",
    "    the_max2 = np.max(goodmags)\n",
    "    the_max = 1.1*max(the_max1,the_max2)\n",
    "\n",
    "    ax.set_ylim(0,the_max)\n",
    "    ax2.set_ylim(0,the_max)\n",
    "\n",
    "    ax.set_xlim(1000.,25000.)\n",
    "    ##################\n",
    "    # Middle image : Fit a gaussian process and compute the residuals\n",
    "    ##################\n",
    "    ax3 = fig.add_subplot(gs[1, 0])\n",
    "    DeltaY,DeltaEY = Y - gp.predict(X[:, None], return_std=True)\n",
    "    ax3.plot(X,DeltaY,'b')\n",
    "    ax3.set_xlim(1000.,25000.)\n",
    "    ax3.grid()\n",
    "    ax3.set_xlabel(\"$\\lambda  (\\AA)$ \")\n",
    "    \n",
    "    background = np.sqrt(np.median(DeltaY**2))\n",
    "    indexes_toremove = np.where(np.abs(DeltaY)> 8 * background)[0]\n",
    "    \n",
    "    for index in indexes_toremove:\n",
    "        ax3.axvline(X[index],color='k')\n",
    "    \n",
    "    #########################    \n",
    "    # Bottom image : resuting image after removing emission lines\n",
    "    #########################\n",
    "    \n",
    "    ax4 = fig.add_subplot(gs[2, 0])\n",
    "    \n",
    "    Xclean = np.delete(X,indexes_toremove)\n",
    "    Yclean  = np.delete(Y,indexes_toremove)\n",
    "    \n",
    "    ax4.plot(Xclean, Yclean,'b-',label=the_label_data)\n",
    "    ax4.set_ylim(0,the_max)\n",
    "    ax4.set_xlim(1000.,25000.)\n",
    "    ax4.grid()\n",
    "    ax4.set_xlabel(\"$\\lambda  (\\AA)$ \")\n",
    "    \n",
    "    ax5 = ax4.twinx()\n",
    "    ax5.errorbar(WL,mfluxes,yerr=mfluxeserr,fmt='o',color=\"r\",ecolor=\"r\",ms=5,label='Galex (UV) + Kids (optics) +Viking (IR)')\n",
    "    ax5.legend(loc=\"lower right\")\n",
    "    ax5.set_ylim(0,the_max)\n",
    "    PlotFilterTag(ax5,mfluxes)\n",
    "    \n",
    "    ax4.set_ylabel(\"flux (maggies)\")\n",
    "    ax4.legend(loc=\"upper right\")\n",
    "    \n",
    "    spectr = fors2.getspectrumcleanedemissionlines_fromgroup(specname,gp)\n",
    "\n",
    "    the_wl = all_df[idx0][\"wl\"].values\n",
    "    the_fnu = all_df[idx0][\"fnu\"].values*10**(-0.4*mags[4])\n",
    "    \n",
    "    ax5.plot(the_wl,the_fnu,color=\"grey\",lw=0.25,label=\"original\")\n",
    "\n",
    "    \n",
    "    plt.show()"
   ]
  },
  {
   "cell_type": "code",
   "execution_count": null,
   "id": "1f6ee766-e43d-46b1-9724-a1b7c3b48b9a",
   "metadata": {},
   "outputs": [],
   "source": [
    "mags"
   ]
  },
  {
   "cell_type": "code",
   "execution_count": null,
   "id": "9d1fbb8a-0aea-498b-a165-ec324d0ed1da",
   "metadata": {},
   "outputs": [],
   "source": [
    "magserr "
   ]
  },
  {
   "cell_type": "code",
   "execution_count": null,
   "id": "687f3085-0ef6-4cf9-82ed-91fe873de000",
   "metadata": {
    "tags": []
   },
   "outputs": [],
   "source": [
    "background "
   ]
  },
  {
   "cell_type": "code",
   "execution_count": null,
   "id": "56908331-32ca-42f0-a30d-a8102978f87a",
   "metadata": {},
   "outputs": [],
   "source": [
    "z"
   ]
  },
  {
   "cell_type": "markdown",
   "id": "179e5cd8-71e3-4d67-bfbc-2a2b03e2df35",
   "metadata": {},
   "source": [
    "# Model of a galaxy"
   ]
  },
  {
   "cell_type": "markdown",
   "id": "479ed57f-c157-4227-9572-0b52c86b58b6",
   "metadata": {},
   "source": [
    "### Load SED templates"
   ]
  },
  {
   "cell_type": "code",
   "execution_count": null,
   "id": "ed134980-b365-47c8-8468-d7671ccd8277",
   "metadata": {},
   "outputs": [],
   "source": [
    "\n",
    "#ssp_data = load_ssp_templates(fn='tempdata_v2.h5')\n",
    "ssp_data = load_ssp_templates(fn='../examples_dsps_diffstar_diffmah/tempdata.h5')\n",
    "\n",
    "print(ssp_data._fields)\n",
    "\n",
    "print('ssp_data : ssp_lgmet.shape = {}'.format(ssp_data.ssp_lgmet.shape))\n",
    "print('ssp_data : ssp_lg_age_gyr.shape = {}'.format(ssp_data.ssp_lg_age_gyr.shape))\n",
    "print('ssp_data : ssp_wave.shape = {}'.format(ssp_data.ssp_wave.shape))\n",
    "print('ssp_data :ssp_flux.shape = {}'.format(ssp_data.ssp_flux.shape))"
   ]
  },
  {
   "cell_type": "markdown",
   "id": "d5a79f21-0c89-4ee9-bc8e-31c08f01cae1",
   "metadata": {},
   "source": [
    "### calculate age distribution"
   ]
  },
  {
   "cell_type": "code",
   "execution_count": null,
   "id": "1e083b33-c5a5-41a9-9663-f0a14e32d5c1",
   "metadata": {},
   "outputs": [],
   "source": [
    "today_gyr = 13.8 \n",
    "tarr = np.linspace(0.1, today_gyr, 100)"
   ]
  },
  {
   "cell_type": "code",
   "execution_count": null,
   "id": "224b3e8b-e63c-4639-86f1-be7761f7880d",
   "metadata": {},
   "outputs": [],
   "source": [
    "sfh_gal = sfh_singlegal(tarr, DEFAULT_MAH_PARAMS, DEFAULT_MS_PARAMS, DEFAULT_Q_PARAMS)"
   ]
  },
  {
   "cell_type": "code",
   "execution_count": null,
   "id": "1fce3790-c683-4206-8736-a417daef02d1",
   "metadata": {},
   "outputs": [],
   "source": [
    "fig, ax = plt.subplots(1, 1)\n",
    "ylim = ax.set_ylim(1e-3, 50)\n",
    "yscale = ax.set_yscale('log')\n",
    "\n",
    "__=ax.plot(tarr, sfh_gal, '--', color='k',label='sfh_gal')\n",
    "ax.set_title(\"Simulated Star Formation History (SFH)\")\n",
    "xlabel = ax.set_xlabel(r'${\\rm cosmic\\ time\\ [Gyr]}$')\n",
    "ylabel = ax.set_ylabel(r'${\\rm SFR\\ [M_{\\odot}/yr]}$')\n",
    "ax.grid()"
   ]
  },
  {
   "cell_type": "code",
   "execution_count": null,
   "id": "22b9c53e-b59d-4bc4-ad88-4152757abdf8",
   "metadata": {},
   "outputs": [],
   "source": [
    "fig, ax = plt.subplots(1, 1)\n",
    "ylim = ax.set_ylim(0, 1)\n",
    "#yscale = ax.set_yscale('log')\n",
    "\n",
    "__=ax.plot(tarr, sfh_gal, '--', color='k',label='sfh_gal')\n",
    "ax.set_title(\"Simulated Star Formation History (SFH)\")\n",
    "xlabel = ax.set_xlabel(r'${\\rm cosmic\\ time\\ [Gyr]}$')\n",
    "ylabel = ax.set_ylabel(r'${\\rm SFR\\ [M_{\\odot}/yr]}$')\n",
    "ax.grid()"
   ]
  },
  {
   "cell_type": "code",
   "execution_count": null,
   "id": "6d60f56c-27d6-4110-ab6e-35b1cfc9c10d",
   "metadata": {},
   "outputs": [],
   "source": [
    "gal_t_table = tarr"
   ]
  },
  {
   "cell_type": "code",
   "execution_count": null,
   "id": "dc23f9b4-a9f0-46cc-be0e-d2ce8898a08c",
   "metadata": {},
   "outputs": [],
   "source": [
    "z_obs = z\n",
    "t_obs = age_at_z(z_obs, *DEFAULT_COSMOLOGY) # age of the universe in Gyr at z_obs\n",
    "t_obs = t_obs[0] # age_at_z function returns an array, but SED functions accept a float for this argument"
   ]
  },
  {
   "cell_type": "code",
   "execution_count": null,
   "id": "ff8eed09-f017-48f0-8584-81312ccabf56",
   "metadata": {},
   "outputs": [],
   "source": [
    "sfh_gal = jnp.where(tarr<t_obs, sfh_gal, 0)"
   ]
  },
  {
   "cell_type": "code",
   "execution_count": null,
   "id": "875c2bd1-2fef-48d0-a33f-a2b35eb8155e",
   "metadata": {},
   "outputs": [],
   "source": [
    "fig, ax = plt.subplots(1, 1)\n",
    "ylim = ax.set_ylim(0, 1)\n",
    "#yscale = ax.set_yscale('log')\n",
    "\n",
    "__=ax.plot(tarr, sfh_gal, '--', color='k',label='sfh_gal')\n",
    "ax.set_title(\"Simulated Star Formation History (SFH)\")\n",
    "xlabel = ax.set_xlabel(r'${\\rm cosmic\\ time\\ [Gyr]}$')\n",
    "ylabel = ax.set_ylabel(r'${\\rm SFR\\ [M_{\\odot}/yr]}$')\n",
    "ax.grid()"
   ]
  },
  {
   "cell_type": "code",
   "execution_count": null,
   "id": "e3a9b0a2-6af6-4bc0-b271-d524b8904437",
   "metadata": {},
   "outputs": [],
   "source": [
    "gal_sfr_table = sfh_gal\n",
    "# metallicity\n",
    "gal_lgmet = -2.0 # log10(Z)\n",
    "gal_lgmet_scatter = 0.2 # lognormal scatter in the metallicity distribution function\n"
   ]
  },
  {
   "cell_type": "code",
   "execution_count": null,
   "id": "8c406436-c191-44c7-a807-dbed5dc45c13",
   "metadata": {},
   "outputs": [],
   "source": [
    "# calculate first SED with only one metallicity\n",
    "print(\"gal_lgmet = \", gal_lgmet)\n",
    "\n",
    "sed_info = calc_rest_sed_sfh_table_lognormal_mdf(\n",
    "    gal_t_table, gal_sfr_table, gal_lgmet, gal_lgmet_scatter,\n",
    "    ssp_data.ssp_lgmet, ssp_data.ssp_lg_age_gyr, ssp_data.ssp_flux, t_obs)"
   ]
  },
  {
   "cell_type": "code",
   "execution_count": null,
   "id": "2d554a10-4e40-48b6-8b68-88b8b397193f",
   "metadata": {},
   "outputs": [],
   "source": [
    "Av= 1.0\n",
    "uv_bump_ampl = 3.0\n",
    "plaw_slope = -0.25\n",
    "wave_spec_micron = ssp_data.ssp_wave/10_000"
   ]
  },
  {
   "cell_type": "code",
   "execution_count": null,
   "id": "db3cf600-7986-491f-8d1a-61dd39587852",
   "metadata": {},
   "outputs": [],
   "source": [
    "k = sbl18_k_lambda(wave_spec_micron,uv_bump_ampl,plaw_slope)\n",
    "dsps_flux_ratio = _frac_transmission_from_k_lambda(k,Av)"
   ]
  },
  {
   "cell_type": "code",
   "execution_count": null,
   "id": "bb4c2088-92af-4f54-8077-5e7441c56f8c",
   "metadata": {},
   "outputs": [],
   "source": [
    "fig, ax = plt.subplots(1, 1, figsize=(12, 5))\n",
    "# fig.tight_layout(pad=3.0)\n",
    "\n",
    "label_dust = f\" Av = {Av}, $\\delta$ = {plaw_slope}, uv-bump = {uv_bump_ampl}\"\n",
    "ax.plot(ssp_data.ssp_wave ,dsps_flux_ratio,'b-',label=label_dust)\n",
    "\n",
    "xlim = ax.set_xlim(900, 1e4)\n",
    "ylim = ax.set_ylim(1e-4, 2)\n",
    "__=ax.loglog()\n",
    "\n",
    "title = ax.set_title(r'${\\rm attenuation\\ curve\\ validation}$')\n",
    "xlabel = ax.set_xlabel(r'$\\lambda\\ [\\AA]$')\n",
    "ylabel= ax.set_ylabel(r'$D(\\lambda)\\equiv F_{\\rm dust}/F_{\\rm no-dust}$')\n",
    "ax.legend()\n",
    "ax.grid()"
   ]
  },
  {
   "cell_type": "code",
   "execution_count": null,
   "id": "274bceaf-f8ad-4ecb-86da-7a8a44fa3ddc",
   "metadata": {},
   "outputs": [],
   "source": [
    "sed_attenuated = dsps_flux_ratio * sed_info.rest_sed"
   ]
  },
  {
   "cell_type": "code",
   "execution_count": null,
   "id": "e83b8dce-4b45-463a-942c-651f73776de8",
   "metadata": {},
   "outputs": [],
   "source": [
    "FLAG_RESCALE_FORPLOT = False"
   ]
  },
  {
   "cell_type": "code",
   "execution_count": null,
   "id": "7e661aa8-0ce0-443d-afc2-cad15f506342",
   "metadata": {},
   "outputs": [],
   "source": [
    "fig, ax = plt.subplots(1, 1)\n",
    "__=ax.loglog()\n",
    "__=ax.plot(ssp_data.ssp_wave, sed_info.rest_sed,'b:',lw=1,label=\"no dust\")\n",
    "__=ax.plot(ssp_data.ssp_wave, sed_attenuated,'r-',lw=1,label=\"with dust\")\n",
    "__=ax.set_ylim(1e-8,1e-5)\n",
    "ax.set_xlabel(\"$\\lambda (\\\\AA)$\")\n",
    "ax.set_ylabel(\"$L_\\\\nu(\\lambda)$\")\n",
    "\n",
    "if FLAG_RESCALE_FORPLOT : \n",
    "    X = the_wl/(1+z_obs)\n",
    "    Y = the_fnu*(1+z)*dict_normalisation_factor[selected_spectrum_number]\n",
    "else:\n",
    "    X = the_wl/(1+z_obs)\n",
    "    Y = the_fnu*(1+z)\n",
    " \n",
    "ax.plot(X,Y,'k-',lw=1,label=the_label_data)\n",
    "ax.legend()\n",
    "\n",
    "title = \"Comparison of SED $L_\\\\nu$ with SFH and dust with \" + title_data\n",
    "ax.set_title(title)\n",
    "ax.grid()"
   ]
  },
  {
   "cell_type": "code",
   "execution_count": null,
   "id": "62799b2d-4cb8-4325-a33e-8c3ee78bed83",
   "metadata": {},
   "outputs": [],
   "source": [
    "# shortcut for photometric survey object\n",
    "ps = photometric_surveys"
   ]
  },
  {
   "cell_type": "code",
   "execution_count": null,
   "id": "157a85a2-3447-4407-9de2-401cf47e153b",
   "metadata": {},
   "outputs": [],
   "source": [
    "for index,filtname in enumerate(ps.filters_galex):\n",
    "    the_filt = ps.all_filt_galex[index]\n",
    "    obs_mag = calc_obs_mag(ssp_data.ssp_wave, sed_attenuated, the_filt.wavelength, the_filt.transmission,\n",
    "                      z_obs, *DEFAULT_COSMOLOGY)\n",
    "    print(ps.filters_galex[index],\" : \" ,f\"{obs_mag:.2f} mag\")\n",
    "    \n",
    "for index,filtname in enumerate(ps.filters_sdss):\n",
    "    the_filt = ps.all_filt_sdss[index]\n",
    "    obs_mag = calc_obs_mag(ssp_data.ssp_wave, sed_attenuated, the_filt.wavelength, the_filt.transmission,\n",
    "                      z_obs, *DEFAULT_COSMOLOGY)\n",
    "    print(ps.filters_sdss[index],\" : \" ,f\"{obs_mag:.2f} mag\")      \n",
    "\n",
    "for index,filtname in enumerate(ps.filters_vircam):\n",
    "    the_filt = ps.all_filt_vircam[index]\n",
    "    obs_mag = calc_obs_mag(ssp_data.ssp_wave, sed_attenuated, the_filt.wavelength, the_filt.transmission,\n",
    "                      z_obs, *DEFAULT_COSMOLOGY)\n",
    "    print(ps.filters_vircam[index],\" : \" ,f\"{obs_mag:.2f} mag\")      "
   ]
  },
  {
   "cell_type": "code",
   "execution_count": null,
   "id": "cabba9e5-c5bb-4f25-9361-23fe18044995",
   "metadata": {},
   "outputs": [],
   "source": [
    "#X = the_wl/(1+z_obs)\n",
    "#Y = the_fnu*(1+z)"
   ]
  },
  {
   "cell_type": "markdown",
   "id": "1cfb4e33-5066-4a65-9d42-ad23e287562c",
   "metadata": {
    "tags": []
   },
   "source": [
    "# Start Optimisation"
   ]
  },
  {
   "cell_type": "markdown",
   "id": "aee23aef-a756-4c35-9203-21ddc05b1160",
   "metadata": {},
   "source": [
    "### Parameters"
   ]
  },
  {
   "cell_type": "code",
   "execution_count": null,
   "id": "c5020ee4-536e-46ea-a534-d4fb3205b12c",
   "metadata": {
    "tags": []
   },
   "outputs": [],
   "source": [
    "def paramslist_to_dict(params_list,param_names):\n",
    "    \"\"\"\n",
    "    Convert the list of parameters into a dictionnary\n",
    "    :param params_list: list of params values\n",
    "    :type params_list: float in an array\n",
    "\n",
    "    :param param_names: list of parameter names\n",
    "    :type params_names: strings in an array\n",
    "\n",
    "    :return: dictionnary of parameters\n",
    "    :rtype: dictionnary\n",
    "    \"\"\"\n",
    "    \n",
    "    Nparams = len(params_list)\n",
    "    list_of_tuples = list(zip(param_names,params_list))\n",
    "    print(list_of_tuples)\n",
    "    dict_params = OrderedDict(list_of_tuples )\n",
    "    return dict_params\n",
    "            "
   ]
  },
  {
   "cell_type": "markdown",
   "id": "d807cdc5-cabf-408b-b47a-bc105e92fcbc",
   "metadata": {},
   "source": [
    "#### MAH parameters\n",
    "model for the mass assembly history of individual and populations of dark matter halos"
   ]
  },
  {
   "cell_type": "code",
   "execution_count": null,
   "id": "f6cb2fc1-a4d9-4011-a42f-c38c37ff7b74",
   "metadata": {
    "tags": []
   },
   "outputs": [],
   "source": [
    "DEFAULT_MAH_PARAMS"
   ]
  },
  {
   "cell_type": "code",
   "execution_count": null,
   "id": "b3b4045b-de69-4c15-bd8a-1cb715f530cd",
   "metadata": {
    "tags": []
   },
   "outputs": [],
   "source": [
    "DEFAULT_MAH_PARAMS_MIN = DEFAULT_MAH_PARAMS + np.array([-3., -0.01, -1.5,-0.5])\n",
    "DEFAULT_MAH_PARAMS_MAX = DEFAULT_MAH_PARAMS + np.array([2., +0.01, +1.5,+0.5])"
   ]
  },
  {
   "cell_type": "code",
   "execution_count": null,
   "id": "7d834454-a399-4521-a003-fc8cf3960479",
   "metadata": {
    "tags": []
   },
   "outputs": [],
   "source": [
    "mah_paramnames = [\"MAH_lgmO\",\"MAH_logtc\",\"MAH_early_index\",\"MAH_late_index\"]"
   ]
  },
  {
   "cell_type": "markdown",
   "id": "11cad177-2aff-4c6d-bf32-3def546f6b8a",
   "metadata": {},
   "source": [
    "#### MS parameters"
   ]
  },
  {
   "cell_type": "code",
   "execution_count": null,
   "id": "0f6c8205-02ad-43b9-bed2-9e519a96fba6",
   "metadata": {
    "tags": []
   },
   "outputs": [],
   "source": [
    "DEFAULT_MS_PARAMS"
   ]
  },
  {
   "cell_type": "code",
   "execution_count": null,
   "id": "00a1ce7c-d836-493f-832b-aed41a2e992d",
   "metadata": {
    "tags": []
   },
   "outputs": [],
   "source": [
    "DEFAULT_MS_PARAMS_MIN = DEFAULT_MS_PARAMS - 0.25*np.ones((5)) \n",
    "DEFAULT_MS_PARAMS_MAX = DEFAULT_MS_PARAMS + 0.25*np.ones((5)) "
   ]
  },
  {
   "cell_type": "code",
   "execution_count": null,
   "id": "68cefad6-5f3d-4697-acec-ef678b1c97d4",
   "metadata": {
    "tags": []
   },
   "outputs": [],
   "source": [
    "ms_paramnames = [\"MS_lgmcrit\", \"MS_lgy_at_mcrit\", \"MS_indx_lo\", \"MS_indx_hi\", \"MS_tau_dep\"]"
   ]
  },
  {
   "cell_type": "markdown",
   "id": "18ccbe4e-c93a-470d-bd88-6e9fc0657fbb",
   "metadata": {
    "tags": []
   },
   "source": [
    "#### Q parameters\n",
    "Quenching parameters"
   ]
  },
  {
   "cell_type": "code",
   "execution_count": null,
   "id": "3121ed71-80f9-4473-abff-f6f40b5589a8",
   "metadata": {
    "tags": []
   },
   "outputs": [],
   "source": [
    "DEFAULT_Q_PARAMS"
   ]
  },
  {
   "cell_type": "code",
   "execution_count": null,
   "id": "c3104407-1c11-4309-b575-61282689ddbf",
   "metadata": {
    "tags": []
   },
   "outputs": [],
   "source": [
    "DEFAULT_Q_PARAMS_MIN = DEFAULT_Q_PARAMS - 0.1*np.ones((4,))\n",
    "DEFAULT_Q_PARAMS_MAX = DEFAULT_Q_PARAMS + 0.1*np.ones((4,))"
   ]
  },
  {
   "cell_type": "code",
   "execution_count": null,
   "id": "80ec2d35-4143-460b-a05e-f77f538d0dd6",
   "metadata": {
    "tags": []
   },
   "outputs": [],
   "source": [
    "q_paramnames = [\"Q_lg_qt\", \"Q_qlglgdt\", \"Q_lg_drop\", \"Q_lg_rejuv\"]"
   ]
  },
  {
   "cell_type": "markdown",
   "id": "1bb714e5-e75c-4f0f-b519-bedd25122c91",
   "metadata": {},
   "source": [
    "#### Dust parameters"
   ]
  },
  {
   "cell_type": "code",
   "execution_count": null,
   "id": "5f3025fd-d128-42ad-94e9-baf5ea1ce1aa",
   "metadata": {
    "tags": []
   },
   "outputs": [],
   "source": [
    "Av= 1\n",
    "uv_bump_ampl = 2.0\n",
    "plaw_slope = -0.25"
   ]
  },
  {
   "cell_type": "code",
   "execution_count": null,
   "id": "042bf576-0422-4faf-9d68-3395f5a4baba",
   "metadata": {
    "tags": []
   },
   "outputs": [],
   "source": [
    "DEFAULT_DUST_PARAMS = [Av, uv_bump_ampl, plaw_slope]"
   ]
  },
  {
   "cell_type": "code",
   "execution_count": null,
   "id": "9755a5f9-d913-4601-9d3f-848a5444dc3d",
   "metadata": {
    "tags": []
   },
   "outputs": [],
   "source": [
    "DEFAULT_DUST_PARAMS_MIN = DEFAULT_DUST_PARAMS + np.array([-1.,-1.,-0.1])\n",
    "DEFAULT_DUST_PARAMS_MAX = DEFAULT_DUST_PARAMS + np.array([2.,1.,0.25])"
   ]
  },
  {
   "cell_type": "code",
   "execution_count": null,
   "id": "8683311c-fbe4-4c41-819d-9f013b79040a",
   "metadata": {
    "tags": []
   },
   "outputs": [],
   "source": [
    "dust_paramnames = [\"Av\", \"uv_bump\", \"plaw_slope\"]"
   ]
  },
  {
   "cell_type": "markdown",
   "id": "44cd7bf5-72e9-4ffc-8f09-2dac8c7c767a",
   "metadata": {},
   "source": [
    "#### Scaling parameter"
   ]
  },
  {
   "cell_type": "code",
   "execution_count": null,
   "id": "645b9abb-f6e7-4d32-bc25-fd20fc40e738",
   "metadata": {},
   "outputs": [],
   "source": [
    "scaleF = 1.0"
   ]
  },
  {
   "cell_type": "code",
   "execution_count": null,
   "id": "508942c6-6f21-401b-87ab-8102bf773ae3",
   "metadata": {},
   "outputs": [],
   "source": [
    "DEFAULT_SCALEF_PARAMS = np.array([scaleF])\n",
    "DEFAULT_SCALEF_PARAMS_MIN = DEFAULT_SCALEF_PARAMS + np.array([0.001])\n",
    "DEFAULT_SCALEF_PARAMS_MAX = DEFAULT_SCALEF_PARAMS + np.array([1000.])"
   ]
  },
  {
   "cell_type": "code",
   "execution_count": null,
   "id": "e3ccff76-b9eb-41f2-a0e9-cd219bb02063",
   "metadata": {},
   "outputs": [],
   "source": [
    "scale_paramnames = [\"scaleF\"]"
   ]
  },
  {
   "cell_type": "markdown",
   "id": "2ec60e41-fc50-4eb5-9e72-e5e38e6a487a",
   "metadata": {},
   "source": [
    "#### Combine parameters"
   ]
  },
  {
   "cell_type": "code",
   "execution_count": null,
   "id": "85041413-cbad-429b-bf2d-e5d774a5bd55",
   "metadata": {
    "tags": []
   },
   "outputs": [],
   "source": [
    "defaults_params = [DEFAULT_MAH_PARAMS,DEFAULT_MS_PARAMS,DEFAULT_Q_PARAMS,DEFAULT_DUST_PARAMS, DEFAULT_SCALEF_PARAMS ]\n",
    "\n",
    "params_min = np.concatenate(([DEFAULT_MAH_PARAMS_MIN,DEFAULT_MS_PARAMS_MIN,DEFAULT_Q_PARAMS_MIN,DEFAULT_DUST_PARAMS_MIN,DEFAULT_SCALEF_PARAMS_MIN]))\n",
    "params_max = np.concatenate(([DEFAULT_MAH_PARAMS_MAX,DEFAULT_MS_PARAMS_MAX,DEFAULT_Q_PARAMS_MAX,DEFAULT_DUST_PARAMS_MAX,DEFAULT_SCALEF_PARAMS_MAX]))\n",
    "init_params = np.concatenate(defaults_params)\n",
    "init_params = jnp.array(init_params)\n",
    "\n",
    "param_names = [mah_paramnames,ms_paramnames,q_paramnames,dust_paramnames,scale_paramnames]\n",
    "param_scales = [3, 0.25,0.1,2.]"
   ]
  },
  {
   "cell_type": "code",
   "execution_count": null,
   "id": "678dd798-727d-4009-b15e-d7cbb6fc6e87",
   "metadata": {
    "tags": []
   },
   "outputs": [],
   "source": [
    "dict_param_mah_true = OrderedDict([(mah_paramnames[0],DEFAULT_MAH_PARAMS[0]),\n",
    "                                         (mah_paramnames[1],DEFAULT_MAH_PARAMS[1]),\n",
    "                                         (mah_paramnames[2],DEFAULT_MAH_PARAMS[2]),\n",
    "                                         (mah_paramnames[3],DEFAULT_MAH_PARAMS[3])\n",
    "                                         ])\n",
    "dict_param_mah_true_selected = OrderedDict([(mah_paramnames[0],DEFAULT_MAH_PARAMS[0]),\n",
    "                                         ])\n",
    "dict_param_ms_true = OrderedDict([(ms_paramnames[0],DEFAULT_MS_PARAMS[0]),\n",
    "                                         (ms_paramnames[1],DEFAULT_MS_PARAMS[1]),\n",
    "                                         (ms_paramnames[2],DEFAULT_MS_PARAMS[2]),\n",
    "                                         (ms_paramnames[3],DEFAULT_MS_PARAMS[3]),\n",
    "                                         (ms_paramnames[4],DEFAULT_MS_PARAMS[4])])\n",
    "dict_param_q_true = OrderedDict([(q_paramnames[0],DEFAULT_Q_PARAMS[0]),\n",
    "                                         (q_paramnames[1],DEFAULT_Q_PARAMS[1]),\n",
    "                                         (q_paramnames[2],DEFAULT_Q_PARAMS[2]),\n",
    "                                         (q_paramnames[3],DEFAULT_Q_PARAMS[3])])\n",
    "\n",
    "dict_param_dust_true = OrderedDict([(dust_paramnames[0],DEFAULT_DUST_PARAMS[0]),\n",
    "                                         (dust_paramnames[1],DEFAULT_DUST_PARAMS[1]),\n",
    "                                         (dust_paramnames[2],DEFAULT_DUST_PARAMS[2])])\n",
    "dict_param_dust_true_selected = OrderedDict([(dust_paramnames[0],DEFAULT_DUST_PARAMS[0])])\n",
    "\n",
    "dict_param_scalef_true = OrderedDict([(scale_paramnames[0],DEFAULT_SCALEF_PARAMS[0]) ])"
   ]
  },
  {
   "cell_type": "code",
   "execution_count": null,
   "id": "ea767f92-e53a-4535-9c20-39aa3b063e96",
   "metadata": {
    "tags": []
   },
   "outputs": [],
   "source": [
    "dict_param_dust_true"
   ]
  },
  {
   "cell_type": "code",
   "execution_count": null,
   "id": "4ffab7e4-8755-4bd6-9daa-456c25cbbf18",
   "metadata": {
    "tags": []
   },
   "outputs": [],
   "source": [
    "params_true = dict_param_mah_true\n",
    "params_true.update(dict_param_ms_true)\n",
    "params_true.update(dict_param_q_true)\n",
    "params_true.update(dict_param_dust_true)\n",
    "params_true.update(dict_param_scalef_true)"
   ]
  },
  {
   "cell_type": "code",
   "execution_count": null,
   "id": "5ba95f13-5336-4ac2-9e60-dd44952e3ac4",
   "metadata": {
    "tags": []
   },
   "outputs": [],
   "source": [
    "params_true"
   ]
  },
  {
   "cell_type": "code",
   "execution_count": null,
   "id": "ae5f2ae6-e832-40a5-adaa-50406bbb9198",
   "metadata": {
    "tags": []
   },
   "outputs": [],
   "source": [
    "param_names"
   ]
  },
  {
   "cell_type": "code",
   "execution_count": null,
   "id": "dfa98adf-cb94-4e0f-9561-4823d487ebcc",
   "metadata": {
    "tags": []
   },
   "outputs": [],
   "source": [
    "param_names_flat = list(itertools.chain(*param_names))\n",
    "param_names_flat"
   ]
  },
  {
   "cell_type": "code",
   "execution_count": null,
   "id": "1dadb639-e5d9-4ee6-baa7-40677daf80b4",
   "metadata": {},
   "outputs": [],
   "source": [
    "def mean_spectrum(wls, params):\n",
    "    \"\"\" Model of spectrum \n",
    "    \n",
    "    :param wls: wavelengths of the spectrum in rest frame\n",
    "    :type wls: float\n",
    "    \n",
    "    :return: the spectrum\n",
    "    :rtype: float\n",
    "    \n",
    "    \"\"\"\n",
    "    \n",
    "    # decode the parameters\n",
    "    MAH_lgmO = params[\"MAH_lgmO\"]\n",
    "    MAH_logtc = params[\"MAH_logtc\"]\n",
    "    MAH_early_index = params[\"MAH_early_index\"]\n",
    "    MAH_late_index = params[\"MAH_late_index\"]\n",
    "    list_param_mah = [MAH_lgmO,MAH_logtc,MAH_early_index,MAH_late_index]\n",
    "    \n",
    "    MS_lgmcrit = params[\"MS_lgmcrit\"]\n",
    "    MS_lgy_at_mcrit = params[\"MS_lgy_at_mcrit\"]\n",
    "    MS_indx_lo = params[\"MS_indx_lo\"]\n",
    "    MS_indx_hi = params[\"MS_indx_hi\"]\n",
    "    MS_tau_dep = params[\"MS_tau_dep\"]\n",
    "    list_param_ms = [MS_lgmcrit,MS_lgy_at_mcrit,MS_indx_lo,MS_indx_hi,MS_tau_dep]\n",
    "    \n",
    "    Q_lg_qt = params[\"Q_lg_qt\"]\n",
    "    Q_qlglgdt = params[\"Q_qlglgdt\"]\n",
    "    Q_lg_drop = params[\"Q_lg_drop\"]\n",
    "    Q_lg_rejuv = params[\"Q_lg_rejuv\"]\n",
    "    list_param_q = [Q_lg_qt, Q_qlglgdt,Q_lg_drop,Q_lg_rejuv]\n",
    "    \n",
    "    Av = params[\"Av\"]\n",
    "    uv_bump = params[\"uv_bump\"]\n",
    "    plaw_slope = params[\"plaw_slope\"]\n",
    "    list_param_dust = [Av,uv_bump,plaw_slope]\n",
    "    \n",
    "    # compute SFR\n",
    "    tarr = np.linspace(0.1, today_gyr, 100)\n",
    "    sfh_gal = sfh_singlegal(\n",
    "    tarr, list_param_mah , list_param_ms, list_param_q)\n",
    "    \n",
    "    # metallicity\n",
    "    gal_lgmet = -2.0 # log10(Z)\n",
    "    gal_lgmet_scatter = 0.2 # lognormal scatter in the metallicity distribution function\n",
    "\n",
    "    # need age of universe when the light was emitted \n",
    "    t_obs = age_at_z(z_obs, *DEFAULT_COSMOLOGY) # age of the universe in Gyr at z_obs\n",
    "    t_obs = t_obs[0] # age_at_z function returns an array, but SED functions accept a float for this argument\n",
    "    \n",
    "    # clear sfh in future\n",
    "    sfh_gal = jnp.where(tarr<t_obs, sfh_gal, 0)\n",
    "    \n",
    "    # compute SED\n",
    "    gal_t_table = tarr\n",
    "    gal_sfr_table = sfh_gal\n",
    "    sed_info = calc_rest_sed_sfh_table_lognormal_mdf(\n",
    "    gal_t_table, gal_sfr_table, gal_lgmet, gal_lgmet_scatter,\n",
    "    ssp_data.ssp_lgmet, ssp_data.ssp_lg_age_gyr, ssp_data.ssp_flux, t_obs)\n",
    "    \n",
    "    # compute dust attenuation\n",
    "    wave_spec_micron = ssp_data.ssp_wave/10_000\n",
    "    k = sbl18_k_lambda(wave_spec_micron,uv_bump_ampl,plaw_slope)\n",
    "    dsps_flux_ratio = _frac_transmission_from_k_lambda(k,Av)\n",
    "    \n",
    "    sed_attenuated = dsps_flux_ratio * sed_info.rest_sed\n",
    "\n",
    "    # interpolate with interpax which is differentiable\n",
    "    #Fobs = jnp.interp(wls, ssp_data.ssp_wave, sed_attenuated)\n",
    "    Fobs = interp1d(wls, ssp_data.ssp_wave, sed_attenuated,method='cubic')\n",
    "   \n",
    "    return Fobs\n",
    "    "
   ]
  },
  {
   "cell_type": "code",
   "execution_count": null,
   "id": "60fcb370-f9f3-4c44-8c29-b472afaf6ca3",
   "metadata": {},
   "outputs": [],
   "source": [
    "def mean_mags(filter_index, params, ptf):\n",
    "    \"\"\" Model of photometry\n",
    "    \n",
    "    :param filter_index: Index of Filters to be used (Galex, sdss, vircam)\n",
    "    :type filter_index: Integer\n",
    "\n",
    "    :param params: model parameters\n",
    "    :type params: Dictionnary of parameters\n",
    "\n",
    "    :param ptf: pytree on filters\n",
    "    :type pft: pytree as dict of dicts\n",
    "    \n",
    "    :return: the magnitude for the spectrum\n",
    "    :rtype: float\n",
    "    \n",
    "    \"\"\"\n",
    "    \n",
    "    # decode the parameters\n",
    "    MAH_lgmO = params[\"MAH_lgmO\"]\n",
    "    MAH_logtc = params[\"MAH_logtc\"]\n",
    "    MAH_early_index = params[\"MAH_early_index\"]\n",
    "    MAH_late_index = params[\"MAH_late_index\"]\n",
    "    list_param_mah = [MAH_lgmO,MAH_logtc,MAH_early_index,MAH_late_index]\n",
    "    \n",
    "    MS_lgmcrit = params[\"MS_lgmcrit\"]\n",
    "    MS_lgy_at_mcrit = params[\"MS_lgy_at_mcrit\"]\n",
    "    MS_indx_lo = params[\"MS_indx_lo\"]\n",
    "    MS_indx_hi = params[\"MS_indx_hi\"]\n",
    "    MS_tau_dep = params[\"MS_tau_dep\"]\n",
    "    list_param_ms = [MS_lgmcrit,MS_lgy_at_mcrit,MS_indx_lo,MS_indx_hi,MS_tau_dep]\n",
    "    \n",
    "    Q_lg_qt = params[\"Q_lg_qt\"]\n",
    "    Q_qlglgdt = params[\"Q_qlglgdt\"]\n",
    "    Q_lg_drop = params[\"Q_lg_drop\"]\n",
    "    Q_lg_rejuv = params[\"Q_lg_rejuv\"]\n",
    "    list_param_q = [Q_lg_qt, Q_qlglgdt,Q_lg_drop,Q_lg_rejuv]\n",
    "    \n",
    "    Av = params[\"Av\"]\n",
    "    uv_bump = params[\"uv_bump\"]\n",
    "    plaw_slope = params[\"plaw_slope\"]\n",
    "    list_param_dust = [Av,uv_bump,plaw_slope]\n",
    "    \n",
    "    # compute SFR\n",
    "    tarr = np.linspace(0.1, today_gyr, 100)\n",
    "    sfh_gal = sfh_singlegal(\n",
    "    tarr, list_param_mah , list_param_ms, list_param_q)\n",
    "    \n",
    "    # metallicity\n",
    "    gal_lgmet = -2.0 # log10(Z)\n",
    "    gal_lgmet_scatter = 0.2 # lognormal scatter in the metallicity distribution function\n",
    "\n",
    "    # need age of universe when the light was emitted \n",
    "    t_obs = age_at_z(z_obs, *DEFAULT_COSMOLOGY) # age of the universe in Gyr at z_obs\n",
    "    t_obs = t_obs[0] # age_at_z function returns an array, but SED functions accept a float for this argument\n",
    "    \n",
    "    # clear sfh in future\n",
    "    sfh_gal = jnp.where(tarr<t_obs, sfh_gal, 0)\n",
    "    \n",
    "    # compute SED\n",
    "    gal_t_table = tarr\n",
    "    gal_sfr_table = sfh_gal\n",
    "    sed_info = calc_rest_sed_sfh_table_lognormal_mdf(\n",
    "    gal_t_table, gal_sfr_table, gal_lgmet, gal_lgmet_scatter,\n",
    "    ssp_data.ssp_lgmet, ssp_data.ssp_lg_age_gyr, ssp_data.ssp_flux, t_obs)\n",
    "    \n",
    "    # compute dust attenuation\n",
    "    wave_spec_micron = ssp_data.ssp_wave/10_000\n",
    "    k = sbl18_k_lambda(wave_spec_micron,uv_bump_ampl,plaw_slope)\n",
    "    dsps_flux_ratio = _frac_transmission_from_k_lambda(k,Av)\n",
    "    \n",
    "    sed_attenuated = dsps_flux_ratio * sed_info.rest_sed\n",
    "\n",
    "    # calculate magnitudes in observation frame    \n",
    "    mags_predictions = []\n",
    "\n",
    "    \n",
    "    \n",
    "    for index in filter_index:   \n",
    "        #filtname = ptf[index][\"name\"]\n",
    "        #filtwlmean = ptf[index][\"wlmean\"]\n",
    "        filt_wl = ptf[index][\"wls\"]\n",
    "        filt_tr = ptf[index][\"transm\"]\n",
    "        \n",
    "        obs_mag = calc_obs_mag(ssp_data.ssp_wave, sed_attenuated,filt_wl,filt_tr,z_obs, *DEFAULT_COSMOLOGY)\n",
    "        print(index,obs_mag)   \n",
    "        mags_predictions.append(float(obs_mag))\n",
    "    mags_predictions = jnp.array(mags_predictions)\n",
    "         \n",
    "    return mags_predictions\n",
    "    "
   ]
  },
  {
   "cell_type": "code",
   "execution_count": null,
   "id": "b9df8666-b570-4325-9bd2-e021486972a6",
   "metadata": {},
   "outputs": [],
   "source": []
  },
  {
   "cell_type": "code",
   "execution_count": null,
   "id": "4df8c187-44d5-4c6d-970a-4c403f57dbd4",
   "metadata": {},
   "outputs": [],
   "source": []
  },
  {
   "cell_type": "markdown",
   "id": "ea70476f-ce57-412d-ac63-0a1137e61918",
   "metadata": {},
   "source": [
    "### Select the observed magnitudes thus the filters"
   ]
  },
  {
   "cell_type": "code",
   "execution_count": null,
   "id": "4dc069df-b522-4a06-9862-a4286c4bb09f",
   "metadata": {},
   "outputs": [],
   "source": [
    "index_selected_filters = np.arange(2,11)\n",
    "index_selected_filters"
   ]
  },
  {
   "cell_type": "code",
   "execution_count": null,
   "id": "43192137-6dc9-41d3-8665-a5cbc28d59e4",
   "metadata": {},
   "outputs": [],
   "source": [
    "predicted_mags = mean_mags(index_selected_filters,params_true,pt_filters)\n",
    "predicted_mags "
   ]
  },
  {
   "cell_type": "code",
   "execution_count": null,
   "id": "119f65fc-851c-4157-a84d-0ff047e8bcdd",
   "metadata": {},
   "outputs": [],
   "source": [
    "data_selected_mags = mags[index_selected_filters]\n",
    "data_selected_mags"
   ]
  },
  {
   "cell_type": "code",
   "execution_count": null,
   "id": "0c30831b-83cb-4e6a-8cb1-29e8943bf842",
   "metadata": {},
   "outputs": [],
   "source": [
    "data_selected_magserr = magserr[index_selected_filters]\n",
    "data_selected_magserr"
   ]
  },
  {
   "cell_type": "code",
   "execution_count": null,
   "id": "93027d00-d2ca-4fa9-9f85-448f5a119725",
   "metadata": {},
   "outputs": [],
   "source": [
    "def mean_sfr(params):\n",
    "    \"\"\" Model of the SFR\n",
    "    \n",
    "    :param params: Fitted parameter dictionnary\n",
    "    :type params: float as a dictionnary\n",
    "    \n",
    "    :return: array of the star formation rate\n",
    "    :rtype: float\n",
    "    \n",
    "    \"\"\"\n",
    "    \n",
    "    # decode the parameters\n",
    "    MAH_lgmO = params[\"MAH_lgmO\"]\n",
    "    MAH_logtc = params[\"MAH_logtc\"]\n",
    "    MAH_early_index = params[\"MAH_early_index\"]\n",
    "    MAH_late_index = params[\"MAH_late_index\"]\n",
    "    list_param_mah = [MAH_lgmO,MAH_logtc,MAH_early_index,MAH_late_index]\n",
    "    \n",
    "    MS_lgmcrit = params[\"MS_lgmcrit\"]\n",
    "    MS_lgy_at_mcrit = params[\"MS_lgy_at_mcrit\"]\n",
    "    MS_indx_lo = params[\"MS_indx_lo\"]\n",
    "    MS_indx_hi = params[\"MS_indx_hi\"]\n",
    "    MS_tau_dep = params[\"MS_tau_dep\"]\n",
    "    list_param_ms = [MS_lgmcrit,MS_lgy_at_mcrit,MS_indx_lo,MS_indx_hi,MS_tau_dep]\n",
    "    \n",
    "    Q_lg_qt = params[\"Q_lg_qt\"]\n",
    "    Q_qlglgdt = params[\"Q_qlglgdt\"]\n",
    "    Q_lg_drop = params[\"Q_lg_drop\"]\n",
    "    Q_lg_rejuv = params[\"Q_lg_rejuv\"]\n",
    "    list_param_q = [Q_lg_qt, Q_qlglgdt,Q_lg_drop,Q_lg_rejuv]\n",
    "    \n",
    "    Av = params[\"Av\"]\n",
    "    uv_bump = params[\"uv_bump\"]\n",
    "    plaw_slope = params[\"plaw_slope\"]\n",
    "    list_param_dust = [Av,uv_bump,plaw_slope]\n",
    "    \n",
    "    \n",
    "    # compute SFR\n",
    "    tarr = np.linspace(0.1, today_gyr, 100)\n",
    "    sfh_gal = sfh_singlegal(\n",
    "    tarr, list_param_mah , list_param_ms, list_param_q)\n",
    "    \n",
    "    # metallicity\n",
    "    gal_lgmet = -2.0 # log10(Z)\n",
    "    gal_lgmet_scatter = 0.2 # lognormal scatter in the metallicity distribution function\n",
    "\n",
    "    # need age of universe when the light was emitted \n",
    "    t_obs = age_at_z(z_obs, *DEFAULT_COSMOLOGY) # age of the universe in Gyr at z_obs\n",
    "    t_obs = t_obs[0] # age_at_z function returns an array, but SED functions accept a float for this argument\n",
    "    \n",
    "    # clear sfh in future\n",
    "    sfh_gal = jnp.where(tarr<t_obs, sfh_gal, 0)\n",
    "    \n",
    "    \n",
    "    return tarr,sfh_gal\n",
    "    "
   ]
  },
  {
   "cell_type": "code",
   "execution_count": null,
   "id": "051d679f-2705-448c-bfe0-00ffd3cb897a",
   "metadata": {},
   "outputs": [],
   "source": [
    "def lik_spec(p,wls,F, sigma_obs = background ):\n",
    "    \"\"\"\n",
    "    neg loglikelihood(parameters,x,y,sigmas) for the spectrum\n",
    "    \"\"\"\n",
    "    \n",
    "    params = {\"MAH_lgmO\":p[0], \n",
    "              \"MAH_logtc\":p[1], \n",
    "              \"MAH_early_index\":p[2], \n",
    "              \"MAH_late_index\": p[3],\n",
    "              \n",
    "              \"MS_lgmcrit\":p[4],\n",
    "              \"MS_lgy_at_mcrit\":p[5],\n",
    "              \"MS_indx_lo\":p[6],\n",
    "              \"MS_indx_hi\":p[7],\n",
    "              \"MS_tau_dep\":p[8],\n",
    "              \n",
    "              \"Q_lg_qt\":p[9],\n",
    "              \"Q_qlglgdt\":p[10],\n",
    "              \"Q_lg_drop\":p[11],\n",
    "              \"Q_lg_rejuv\":p[12],\n",
    "              \n",
    "              \"Av\":p[13],\n",
    "              \"uv_bump\":p[14],\n",
    "              \"plaw_slope\":p[15],\n",
    "              \"scaleF\":p[16]   \n",
    "             }\n",
    "    scaleF =  params[\"scaleF\"]\n",
    "    # residuals\n",
    "    resid = mean_spectrum(wls, params) - F*scaleF\n",
    "    \n",
    "    return 0.5*jnp.sum((resid/sigma_obs*jnp.sqrt(scaleF)) ** 2) \n"
   ]
  },
  {
   "cell_type": "code",
   "execution_count": null,
   "id": "8eea1a07-d446-46bf-98f6-df875a18e321",
   "metadata": {},
   "outputs": [],
   "source": [
    "def lik_mag(p,mag_indexes,mags_measured, sigma_mag_obs, ptf ):\n",
    "    \"\"\"\n",
    "    neg loglikelihood(parameters,x,y,sigmas) for the photometry\n",
    "    \"\"\"\n",
    "\n",
    "    params = {\"MAH_lgmO\":p[0], \n",
    "              \"MAH_logtc\":p[1], \n",
    "              \"MAH_early_index\":p[2], \n",
    "              \"MAH_late_index\": p[3],\n",
    "              \n",
    "              \"MS_lgmcrit\":p[4],\n",
    "              \"MS_lgy_at_mcrit\":p[5],\n",
    "              \"MS_indx_lo\":p[6],\n",
    "              \"MS_indx_hi\":p[7],\n",
    "              \"MS_tau_dep\":p[8],\n",
    "              \n",
    "              \"Q_lg_qt\":p[9],\n",
    "              \"Q_qlglgdt\":p[10],\n",
    "              \"Q_lg_drop\":p[11],\n",
    "              \"Q_lg_rejuv\":p[12],\n",
    "              \n",
    "              \"Av\":p[13],\n",
    "              \"uv_bump\":p[14],\n",
    "              \"plaw_slope\":p[15],\n",
    "              \"scaleF\":p[16]   \n",
    "             }\n",
    "    scaleF =  params[\"scaleF\"]\n",
    "\n",
    "    all_mags_redictions = mean_mags(mag_indexes, params, ptf)\n",
    "    resid = mags_measured - all_mags_redictions\n",
    "    \n",
    "    return 0.5*jnp.sum((resid/sigma_mag_obs) ** 2) \n"
   ]
  },
  {
   "cell_type": "code",
   "execution_count": null,
   "id": "c9af3060-28fa-4515-bfc1-fa4fb8df57eb",
   "metadata": {
    "tags": []
   },
   "outputs": [],
   "source": [
    "def get_infos_spec(res, model, wls,F):\n",
    "    params    = res.params\n",
    "    fun_min   = model(params,wls,F)\n",
    "    jacob_min =jax.jacfwd(model)(params, wls,F)\n",
    "    #covariance matrix of parameters\n",
    "    inv_hessian_min =jax.scipy.linalg.inv(jax.hessian(model)(params, wls,F))\n",
    "    return params,fun_min,jacob_min,inv_hessian_min\n"
   ]
  },
  {
   "cell_type": "code",
   "execution_count": null,
   "id": "489879a3-4b32-4fc6-bace-4899143a5c8c",
   "metadata": {},
   "outputs": [],
   "source": [
    "def get_infos_mag(res, model, idx, mgs, mgse,ptf):\n",
    "    params    = res.params\n",
    "    fun_min   = model(params,idx,mgs,mgse,ptf)\n",
    "    jacob_min =jax.jacfwd(model)(params, idx, mgs, mgse,ptf)\n",
    "    #covariance matrix of parameters\n",
    "    inv_hessian_min =jax.scipy.linalg.inv(jax.hessian(model)(params, idx, mgs , mgse,ptf))\n",
    "    return params,fun_min,jacob_min,inv_hessian_min\n"
   ]
  },
  {
   "cell_type": "code",
   "execution_count": null,
   "id": "8a95c61e-f45f-49c1-addd-ec81d02b2cd0",
   "metadata": {},
   "outputs": [],
   "source": [
    "init_params"
   ]
  },
  {
   "cell_type": "code",
   "execution_count": null,
   "id": "44fb1179-6e24-4945-990d-3e801d302680",
   "metadata": {},
   "outputs": [],
   "source": []
  },
  {
   "cell_type": "code",
   "execution_count": null,
   "id": "4c2c2d64-25fe-499b-a7c8-e3ef9b5ae665",
   "metadata": {},
   "outputs": [],
   "source": [
    "#lik_mag(p,mag_indexes,mags_measured, sigma_mag_obs = 0.01 \n",
    "\n",
    "lbfgsb = jaxopt.ScipyBoundedMinimize(fun=lik_mag, method=\"L-BFGS-B\")\n",
    "\n",
    "res = lbfgsb.run(init_params, bounds=(params_min ,params_max ), mag_indexes = index_selected_filters, mags_measured = data_selected_mags, sigma_mag_obs = data_selected_magserr,ptf = pt_filters )\n",
    "params,fun_min,jacob_min,inv_hessian_min = get_infos_mags(res, lik_mag, mag_indexes = index_selected_filters, mags_measured = data_selected_mags,sigma_mag_obs = data_selected_magserr ,ptf= pt_filters )\n",
    "print(\"params:\",params,\"\\nfun@min:\",fun_min,\"\\njacob@min:\",jacob_min,\n",
    "     \"\\n invH@min:\",inv_hessian_min)\n"
   ]
  },
  {
   "cell_type": "code",
   "execution_count": null,
   "id": "97684ea9-e6c4-4e9d-ae22-236528be2de8",
   "metadata": {
    "tags": []
   },
   "outputs": [],
   "source": [
    "lbfgsb = jaxopt.ScipyBoundedMinimize(fun=lik_spec, method=\"L-BFGS-B\")\n",
    "\n",
    "res = lbfgsb.run(init_params, bounds=(params_min ,params_max ), wls=X, F=Y)\n",
    "params,fun_min,jacob_min,inv_hessian_min = get_infos_spec(res, lik_spec, wls=X, F=Y)\n",
    "print(\"params:\",params,\"\\nfun@min:\",fun_min,\"\\njacob@min:\",jacob_min,\n",
    "     \"\\n invH@min:\",inv_hessian_min)\n"
   ]
  },
  {
   "cell_type": "code",
   "execution_count": null,
   "id": "de6eaf4f-a638-4c91-ad36-8a16bb3f8a1d",
   "metadata": {
    "tags": []
   },
   "outputs": [],
   "source": []
  },
  {
   "cell_type": "code",
   "execution_count": null,
   "id": "9dde4fda-9795-4f76-8f70-f6dfd2c53f2d",
   "metadata": {
    "tags": []
   },
   "outputs": [],
   "source": []
  },
  {
   "cell_type": "code",
   "execution_count": null,
   "id": "087737b9-9170-4e50-aad7-0f39a9e5f617",
   "metadata": {
    "tags": []
   },
   "outputs": [],
   "source": [
    "len(params)"
   ]
  },
  {
   "cell_type": "code",
   "execution_count": null,
   "id": "3ff5fcb1-bf89-4254-948c-12ff926ca235",
   "metadata": {
    "tags": []
   },
   "outputs": [],
   "source": [
    "dict_params_fitted = paramslist_to_dict(params,param_names_flat)"
   ]
  },
  {
   "cell_type": "code",
   "execution_count": null,
   "id": "99d9f368-7433-4671-ae2d-37f4ac9e561f",
   "metadata": {
    "tags": []
   },
   "outputs": [],
   "source": [
    "dict_params_fitted"
   ]
  },
  {
   "cell_type": "code",
   "execution_count": null,
   "id": "e25f908d-dd41-450e-8637-31f851da3a49",
   "metadata": {
    "tags": []
   },
   "outputs": [],
   "source": [
    "dict_params_fitted_nodust = copy.deepcopy(dict_params_fitted)"
   ]
  },
  {
   "cell_type": "code",
   "execution_count": null,
   "id": "094d00ca-dec0-4bda-a90c-56230133ed4d",
   "metadata": {
    "tags": []
   },
   "outputs": [],
   "source": [
    "dict_params_fitted_nodust[\"Av\"] = 0"
   ]
  },
  {
   "cell_type": "code",
   "execution_count": null,
   "id": "c503785c-b393-46a2-96f1-520a0b0d5fb3",
   "metadata": {
    "tags": []
   },
   "outputs": [],
   "source": [
    "Y_fit = mean_spectrum(ssp_data.ssp_wave, dict_params_fitted)\n",
    "Y_fit_nodust = mean_spectrum(ssp_data.ssp_wave, dict_params_fitted_nodust)"
   ]
  },
  {
   "cell_type": "markdown",
   "id": "c32a5355-4e94-4875-b296-acb0a76c55ff",
   "metadata": {
    "tags": []
   },
   "source": [
    "### $L_\\nu$"
   ]
  },
  {
   "cell_type": "code",
   "execution_count": null,
   "id": "53d647f3-cf14-4af1-9890-b3f3e763ac85",
   "metadata": {},
   "outputs": [],
   "source": [
    "fig, ax = plt.subplots(1, 1)\n",
    "__=ax.loglog()\n",
    "__=ax.set_xlim(1e3,1e6)\n",
    "__=ax.set_ylim(1e-10,1e-6)\n",
    "ax.set_xlabel(\"$\\lambda (\\\\AA)$\")\n",
    "ax.set_ylabel(\"$L_\\\\nu(\\lambda)$\")\n",
    "\n",
    "ax.plot(ssp_data.ssp_wave,Y_fit,'-',color='green',lw=1,label=\"fitted model with dust\")\n",
    "ax.plot(ssp_data.ssp_wave,Y_fit_nodust,'-',color='red',lw=1,label=\"model No dust\")\n",
    "ax.plot(X,Y,'b-',lw=3,label=the_label_data)\n",
    "\n",
    "\n",
    "title = \"Comparison of SED $L_\\\\nu$ with SFH and dust with \" + title_data\n",
    "ax.set_title(title)\n",
    "ax.legend()\n",
    "ax.grid()"
   ]
  },
  {
   "cell_type": "markdown",
   "id": "b33b806f-cef9-4f46-8383-dd87c4273e14",
   "metadata": {},
   "source": [
    "### $L_\\lambda$"
   ]
  },
  {
   "cell_type": "code",
   "execution_count": null,
   "id": "c1d9b8ca-277b-45ee-984c-4f3fc1c864c5",
   "metadata": {
    "tags": []
   },
   "outputs": [],
   "source": [
    "YL_fit = Y_fit*3e18/(ssp_data.ssp_wave)**2\n",
    "YL_fit_nodust = Y_fit_nodust*3e18/(ssp_data.ssp_wave)**2\n",
    "YL = Y*3e18/X**2"
   ]
  },
  {
   "cell_type": "code",
   "execution_count": null,
   "id": "3df6a910-5a78-4037-803c-63f35f16814d",
   "metadata": {
    "tags": []
   },
   "outputs": [],
   "source": [
    "fig, ax = plt.subplots(1, 1)\n",
    "__=ax.loglog()\n",
    "__=ax.set_xlim(1e3,1e6)\n",
    "__=ax.set_ylim(1e0,1e5)\n",
    "ax.set_xlabel(\"$\\lambda (\\\\AA)$\")\n",
    "ax.set_ylabel(\"$L_\\lambda(\\lambda)$\")\n",
    "\n",
    "ax.plot(ssp_data.ssp_wave,YL_fit_nodust,'-',color='green',lw=1,label=\"fitted model with dust\")\n",
    "ax.plot(ssp_data.ssp_wave,YL_fit,'-',color='red',lw=1,label=\"model No dust\")\n",
    "ax.plot(X,YL,'b-',lw=3,label=the_label_data)\n",
    "\n",
    "\n",
    "title = \"Comparison of SED $L_\\\\lambda$ with SFH and dust with \" + title_data\n",
    "ax.set_title(title)\n",
    "ax.legend()\n",
    "ax.grid()"
   ]
  },
  {
   "cell_type": "code",
   "execution_count": null,
   "id": "717002d7-1a00-4835-af23-50b4c94eb599",
   "metadata": {
    "tags": []
   },
   "outputs": [],
   "source": [
    "fig, ax = plt.subplots(1, 1)\n",
    "__=ax.loglog()\n",
    "__=ax.set_xlim(1e3,1e5)\n",
    "__=ax.set_ylim(1e1,1e5)\n",
    "ax.set_xlabel(\"$\\lambda (\\\\AA)$\")\n",
    "ax.set_ylabel(\"$L_\\lambda(\\lambda)$\")\n",
    "\n",
    "ax.plot(ssp_data.ssp_wave,YL_fit_nodust,'-',color='green',lw=1,label=\"fitted model with dust\")\n",
    "ax.plot(ssp_data.ssp_wave,YL_fit,'-',color='red',lw=1,label=\"model No dust\")\n",
    "ax.plot(X,YL,'b-',lw=3,label=the_label_data)\n",
    "\n",
    "\n",
    "title = \"Comparison of SED $L_\\\\lambda$ with SFH and dust with \" + title_data\n",
    "ax.set_title(title)\n",
    "ax.legend()\n",
    "ax.grid()"
   ]
  },
  {
   "cell_type": "markdown",
   "id": "2d698689-a31f-4bda-aedf-49c1b9432844",
   "metadata": {},
   "source": [
    "### Check the SFH\n"
   ]
  },
  {
   "cell_type": "code",
   "execution_count": null,
   "id": "43e92778-34ac-4ebe-8cae-ed408bcd5d1a",
   "metadata": {},
   "outputs": [],
   "source": [
    "tarr_fit,sfr_fit = mean_sfr(dict_params_fitted)"
   ]
  },
  {
   "cell_type": "code",
   "execution_count": null,
   "id": "990a2259-6955-4d6a-a6ed-971ba35ee35c",
   "metadata": {},
   "outputs": [],
   "source": [
    "sfr_max = sfr_fit.max()*10.\n",
    "sfr_min = sfr_max/1e4\n",
    "fig, ax = plt.subplots(1, 1)\n",
    "ylim = ax.set_ylim(1e-5, sfr_max)\n",
    "yscale = ax.set_yscale('log')\n",
    "\n",
    "__=ax.plot(tarr_fit, sfr_fit, '--', color='k',label='sfh_gal')\n",
    "ax.set_title(\"Fitted Star Formation History (SFH) \" + title_data)\n",
    "xlabel = ax.set_xlabel(r'${\\rm cosmic\\ time\\ [Gyr]}$')\n",
    "ylabel = ax.set_ylabel(r'${\\rm SFR\\ [M_{\\odot}/yr]}$')\n",
    "ax.grid()"
   ]
  },
  {
   "cell_type": "code",
   "execution_count": null,
   "id": "902f0a35-e640-445c-87d7-e4841a09b192",
   "metadata": {},
   "outputs": [],
   "source": [
    "sfr_max = sfr_fit.max()*1.2\n",
    "fig, ax = plt.subplots(1, 1)\n",
    "ylim = ax.set_ylim(0, sfr_max)\n",
    "#yscale = ax.set_yscale('log')\n",
    "\n",
    "__=ax.plot(tarr_fit, sfr_fit, '--', color='k',label='sfh_gal')\n",
    "ax.set_title(\"Fitted Star Formation History (SFH) \" + title_data)\n",
    "xlabel = ax.set_xlabel(r'${\\rm cosmic\\ time\\ [Gyr]}$')\n",
    "ylabel = ax.set_ylabel(r'${\\rm SFR\\ [M_{\\odot}/yr]}$')\n",
    "ax.grid()"
   ]
  },
  {
   "cell_type": "code",
   "execution_count": null,
   "id": "9d3a064e-3351-47a7-a8a3-707e3a8cf2d5",
   "metadata": {},
   "outputs": [],
   "source": []
  },
  {
   "cell_type": "code",
   "execution_count": null,
   "id": "0d49c509-5c47-4a0c-9a40-f04c1b472cc2",
   "metadata": {},
   "outputs": [],
   "source": []
  }
 ],
 "metadata": {
  "kernelspec": {
   "display_name": "conda_jaxcpu_dsps_py310",
   "language": "python",
   "name": "conda_jaxcpu_dsps_py310"
  },
  "language_info": {
   "codemirror_mode": {
    "name": "ipython",
    "version": 3
   },
   "file_extension": ".py",
   "mimetype": "text/x-python",
   "name": "python",
   "nbconvert_exporter": "python",
   "pygments_lexer": "ipython3",
   "version": "3.10.13"
  }
 },
 "nbformat": 4,
 "nbformat_minor": 5
}
