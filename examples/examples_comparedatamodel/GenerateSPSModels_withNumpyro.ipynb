{
 "cells": [
  {
   "cell_type": "markdown",
   "id": "e780d6b1-f983-4149-a0e5-0a0ededb8cc6",
   "metadata": {},
   "source": [
    "# Generate models with numpyro\n",
    "\n",
    "- my previous model fits\n",
    "https://github.com/sylvielsstfr/FitDiffAtmo/blob/main/docs/notebooks/fitdiffatmo/test_numpyro_orderedict_diffatmemul_5params_P_pwv_oz_tau_beta.ipynb\n",
    "\n",
    "- dsps tuto https://dsps.readthedocs.io/en/latest/dsps_quickstart.html"
   ]
  },
  {
   "cell_type": "markdown",
   "id": "fc77c7b5-5167-4e3d-bf0f-c2a6308db4d3",
   "metadata": {},
   "source": [
    "- author Sylvie Dagoret-Campagne\n",
    "- affiliation : IJCLab/IN2P3/CNRS\n",
    "- CC: kernel conda_jax0235_py310\n",
    "- creation date : 2023-11-10\n",
    "- update : 2023-11-10\n",
    "\n",
    "\n",
    "| computer | processor | kernel              |    date     |\n",
    "| --- | --- | --- | --- |\n",
    "| CC       | CPU       | conda_jax0325_py310 | 2023-11-10  |\n",
    "| macbookpro | CPU | conda_jaxcpu_dsps_py310 | 2023-11-10  | \n",
    "\n",
    "\n",
    "libraries \n",
    "=========\n",
    "\n",
    "jax\n",
    "---\n",
    "\n",
    "- jaxlib-0.3.25+cuda11.cudnn82\n",
    "- jaxopt\n",
    "- optax\n",
    "- corner\n",
    "- arviz\n",
    "- numpyro\n",
    "\n",
    "sps\n",
    "---\n",
    "\n",
    "- fsps\n",
    "- prospect\n",
    "- dsps\n",
    "- diffstar\n",
    "- diffmah\n",
    "\n",
    "\n",
    "\n",
    "(conda_jax0325_py310) \n",
    "`/pbs/throng/lsst/users/dagoret/desc/StellarPopulationSynthesis>pip list | grep` \n",
    "\n",
    "| lib | version |\n",
    "|--- | --- | \n",
    "|jax  |                         0.4.20 |\n",
    "|jaxlib |                       0.4.20 |\n",
    "|jaxopt  |                      0.8.2 |\n",
    "\n"
   ]
  },
  {
   "cell_type": "code",
   "execution_count": 1,
   "id": "1b8c9933-8207-4325-a2bb-5ea626d0b751",
   "metadata": {},
   "outputs": [
    {
     "name": "stderr",
     "output_type": "stream",
     "text": [
      "/pbs/throng/lsst/users/dagoret/desc/JAX2023/miniconda3/envs/conda_jax0325_py310/lib/python3.10/site-packages/tqdm/auto.py:21: TqdmWarning: IProgress not found. Please update jupyter and ipywidgets. See https://ipywidgets.readthedocs.io/en/stable/user_install.html\n",
      "  from .autonotebook import tqdm as notebook_tqdm\n"
     ]
    }
   ],
   "source": [
    "import numpy as np\n",
    "import jax\n",
    "import jax.numpy as jnp\n",
    "from jax.scipy.special import logsumexp\n",
    "jax.config.update(\"jax_enable_x64\", True)\n",
    "\n",
    "import numpyro\n",
    "from numpyro import optim\n",
    "from numpyro.diagnostics import print_summary\n",
    "import numpyro.distributions as dist\n",
    "from numpyro.distributions import constraints\n",
    "from numpyro.infer import MCMC, HMC, NUTS, SVI, Trace_ELBO\n",
    "from numpyro.infer.autoguide import AutoBNAFNormal, AutoMultivariateNormal\n",
    "from numpyro.infer.reparam import NeuTraReparam\n",
    "from numpyro.handlers import seed, trace, condition\n",
    "\n",
    "import matplotlib as mpl\n",
    "from matplotlib import pyplot as plt\n",
    "\n",
    "import corner\n",
    "import arviz as az\n",
    "mpl.rcParams['font.size'] = 15\n",
    "mpl.rcParams[\"figure.figsize\"] = [8, 8]\n",
    "\n",
    "import os\n",
    "import jax\n",
    "import jax.numpy as jnp"
   ]
  },
  {
   "cell_type": "code",
   "execution_count": 2,
   "id": "ec84a2c2-067d-4f0c-a0f2-af96d39b6ca4",
   "metadata": {},
   "outputs": [],
   "source": [
    "import h5py\n",
    "import pandas as pd\n",
    "import numpy as np\n",
    "import os\n",
    "from astropy.io import fits\n",
    "from astropy.table import Table\n",
    "import matplotlib.pyplot as plt\n",
    "%matplotlib inline\n",
    "from collections import OrderedDict\n",
    "import re\n",
    "import matplotlib.gridspec as gridspec\n",
    "from sklearn.gaussian_process import GaussianProcessRegressor, kernels"
   ]
  },
  {
   "cell_type": "code",
   "execution_count": 3,
   "id": "74942c82-03bf-4c02-98af-7f0d749bc848",
   "metadata": {},
   "outputs": [],
   "source": [
    "plt.rcParams[\"figure.figsize\"] = (12,6)\n",
    "plt.rcParams[\"axes.labelsize\"] = 'xx-large'\n",
    "plt.rcParams['axes.titlesize'] = 'xx-large'\n",
    "plt.rcParams['xtick.labelsize']= 'xx-large'\n",
    "plt.rcParams['ytick.labelsize']= 'xx-large'"
   ]
  },
  {
   "cell_type": "code",
   "execution_count": 5,
   "id": "16acbce8-cce5-4572-821e-b408563884ac",
   "metadata": {},
   "outputs": [],
   "source": [
    "from diffstar import sfh_singlegal\n",
    "from dsps.cosmology import age_at_z, DEFAULT_COSMOLOGY"
   ]
  },
  {
   "cell_type": "code",
   "execution_count": 6,
   "id": "a0544fce-331f-43e0-91f9-e56153a34561",
   "metadata": {},
   "outputs": [],
   "source": [
    "from dsps import load_ssp_templates"
   ]
  },
  {
   "cell_type": "code",
   "execution_count": 8,
   "id": "dcf87402-ef39-40fd-8447-a783e7e588f4",
   "metadata": {},
   "outputs": [],
   "source": [
    "from dsps import calc_rest_sed_sfh_table_lognormal_mdf\n",
    "from dsps import calc_rest_sed_sfh_table_met_table"
   ]
  },
  {
   "cell_type": "code",
   "execution_count": 9,
   "id": "f25971e5-411e-4b77-b938-fa6e2283810b",
   "metadata": {},
   "outputs": [],
   "source": [
    "from dsps.dust.att_curves import  sbl18_k_lambda, RV_C00,_frac_transmission_from_k_lambda"
   ]
  },
  {
   "cell_type": "markdown",
   "id": "df7c47db-a216-44a7-8854-04e0790158ae",
   "metadata": {},
   "source": [
    "### Very important add the lib to load the data"
   ]
  },
  {
   "cell_type": "code",
   "execution_count": 10,
   "id": "ead34204-296e-4721-a3f8-55d743f77299",
   "metadata": {},
   "outputs": [],
   "source": [
    "import sys\n",
    "sys.path.append(\"../../lib\")"
   ]
  },
  {
   "cell_type": "code",
   "execution_count": 11,
   "id": "12743318-4fb4-4f74-9d53-cd688e4d6639",
   "metadata": {},
   "outputs": [],
   "source": [
    "from fit_params_fors2 import U_FNU,U_FL,ConvertFlambda_to_Fnu,flux_norm,ordered_keys,Fors2DataAcess"
   ]
  },
  {
   "cell_type": "code",
   "execution_count": 12,
   "id": "deb81f4a-57cd-4b90-9235-7ea868228f1c",
   "metadata": {},
   "outputs": [],
   "source": [
    "lambda_red = 6231\n",
    "lambda_width = 50\n",
    "lambda_sel_min = lambda_red-lambda_width /2.\n",
    "lambda_sel_max = lambda_red+lambda_width /2."
   ]
  },
  {
   "cell_type": "code",
   "execution_count": null,
   "id": "dc52484f-a477-4c25-8427-fbee63bc57c1",
   "metadata": {},
   "outputs": [],
   "source": []
  }
 ],
 "metadata": {
  "kernelspec": {
   "display_name": "conda_jax0325_py310",
   "language": "python",
   "name": "conda_jax0325_py310"
  },
  "language_info": {
   "codemirror_mode": {
    "name": "ipython",
    "version": 3
   },
   "file_extension": ".py",
   "mimetype": "text/x-python",
   "name": "python",
   "nbconvert_exporter": "python",
   "pygments_lexer": "ipython3",
   "version": "3.10.12"
  }
 },
 "nbformat": 4,
 "nbformat_minor": 5
}
