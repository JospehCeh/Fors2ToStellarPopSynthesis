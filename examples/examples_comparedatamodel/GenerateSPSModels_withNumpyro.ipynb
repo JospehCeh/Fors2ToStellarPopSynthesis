{
 "cells": [
  {
   "cell_type": "markdown",
   "id": "e780d6b1-f983-4149-a0e5-0a0ededb8cc6",
   "metadata": {},
   "source": [
    "# Generate models with numpyro\n",
    "\n",
    "- my previous model fits\n",
    "https://github.com/sylvielsstfr/FitDiffAtmo/blob/main/docs/notebooks/fitdiffatmo/test_numpyro_orderedict_diffatmemul_5params_P_pwv_oz_tau_beta.ipynb\n",
    "\n",
    "- dsps tuto https://dsps.readthedocs.io/en/latest/dsps_quickstart.html"
   ]
  },
  {
   "cell_type": "markdown",
   "id": "fc77c7b5-5167-4e3d-bf0f-c2a6308db4d3",
   "metadata": {},
   "source": [
    "- author Sylvie Dagoret-Campagne\n",
    "- affiliation : IJCLab/IN2P3/CNRS\n",
    "- CC: kernel conda_jax0235_py310\n",
    "- creation date : 2023-11-10\n",
    "- update : 2023-11-10\n",
    "\n",
    "\n",
    "| computer | processor | kernel              |    date     |\n",
    "| --- | --- | --- | --- |\n",
    "| CC       | CPU       | conda_jax0325_py310 | 2023-11-10  |\n",
    "| macbookpro | CPU | conda_jaxcpu_dsps_py310 | 2023-11-10  | \n",
    "\n",
    "\n",
    "libraries \n",
    "=========\n",
    "\n",
    "jax\n",
    "---\n",
    "\n",
    "- jaxlib-0.3.25+cuda11.cudnn82\n",
    "- jaxopt\n",
    "- optax\n",
    "- corner\n",
    "- arviz\n",
    "- numpyro\n",
    "- graphviz\n",
    "\n",
    "sps\n",
    "---\n",
    "\n",
    "- fsps\n",
    "- prospect\n",
    "- dsps\n",
    "- diffstar\n",
    "- diffmah\n",
    "\n",
    "\n",
    "\n",
    "(conda_jax0325_py310) \n",
    "`/pbs/throng/lsst/users/dagoret/desc/StellarPopulationSynthesis>pip list | grep` \n",
    "\n",
    "| lib | version |\n",
    "|--- | --- | \n",
    "|jax  |                         0.4.20 |\n",
    "|jaxlib |                       0.4.20 |\n",
    "|jaxopt  |                      0.8.2 |\n",
    "\n"
   ]
  },
  {
   "cell_type": "markdown",
   "id": "60cab39b-61cc-4520-8d44-6c7630ae0720",
   "metadata": {},
   "source": [
    "- see example https://github.com/sylvielsstfr/FitDiffAtmo/blob/main/docs/notebooks/fitdiffatmo/test_numpyro_orderedict_diffatmemul_5params_P_pwv_oz_tau_beta.ipynb"
   ]
  },
  {
   "cell_type": "code",
   "execution_count": null,
   "id": "1b8c9933-8207-4325-a2bb-5ea626d0b751",
   "metadata": {},
   "outputs": [],
   "source": [
    "import numpy as np\n",
    "import jax\n",
    "import jax.numpy as jnp\n",
    "from jax.scipy.special import logsumexp\n",
    "jax.config.update(\"jax_enable_x64\", True)\n",
    "\n",
    "import numpyro\n",
    "from numpyro import optim\n",
    "from numpyro.diagnostics import print_summary\n",
    "import numpyro.distributions as dist\n",
    "from numpyro.distributions import constraints\n",
    "from numpyro.infer import MCMC, HMC, NUTS, SVI, Trace_ELBO\n",
    "from numpyro.infer.autoguide import AutoBNAFNormal, AutoMultivariateNormal\n",
    "from numpyro.infer.reparam import NeuTraReparam\n",
    "from numpyro.handlers import seed, trace, condition\n",
    "\n",
    "import matplotlib as mpl\n",
    "from matplotlib import pyplot as plt\n",
    "\n",
    "import corner\n",
    "import arviz as az\n",
    "mpl.rcParams['font.size'] = 15\n",
    "mpl.rcParams[\"figure.figsize\"] = [8, 8]\n",
    "\n",
    "import os\n",
    "import jax\n",
    "import jax.numpy as jnp"
   ]
  },
  {
   "cell_type": "code",
   "execution_count": null,
   "id": "ec84a2c2-067d-4f0c-a0f2-af96d39b6ca4",
   "metadata": {},
   "outputs": [],
   "source": [
    "import h5py\n",
    "import pandas as pd\n",
    "import numpy as np\n",
    "import os\n",
    "from astropy.io import fits\n",
    "from astropy.table import Table\n",
    "import matplotlib.pyplot as plt\n",
    "%matplotlib inline\n",
    "from collections import OrderedDict\n",
    "import re\n",
    "import matplotlib.gridspec as gridspec\n",
    "from sklearn.gaussian_process import GaussianProcessRegressor, kernels"
   ]
  },
  {
   "cell_type": "code",
   "execution_count": null,
   "id": "74942c82-03bf-4c02-98af-7f0d749bc848",
   "metadata": {},
   "outputs": [],
   "source": [
    "plt.rcParams[\"figure.figsize\"] = (12,6)\n",
    "plt.rcParams[\"axes.labelsize\"] = 'xx-large'\n",
    "plt.rcParams['axes.titlesize'] = 'xx-large'\n",
    "plt.rcParams['xtick.labelsize']= 'xx-large'\n",
    "plt.rcParams['ytick.labelsize']= 'xx-large'"
   ]
  },
  {
   "cell_type": "code",
   "execution_count": null,
   "id": "16acbce8-cce5-4572-821e-b408563884ac",
   "metadata": {},
   "outputs": [],
   "source": [
    "from diffstar import sfh_singlegal\n",
    "from dsps.cosmology import age_at_z, DEFAULT_COSMOLOGY"
   ]
  },
  {
   "cell_type": "code",
   "execution_count": null,
   "id": "a0544fce-331f-43e0-91f9-e56153a34561",
   "metadata": {},
   "outputs": [],
   "source": [
    "from dsps import load_ssp_templates"
   ]
  },
  {
   "cell_type": "code",
   "execution_count": null,
   "id": "39e0cac7-713a-4630-8cca-6829c80affd1",
   "metadata": {
    "tags": []
   },
   "outputs": [],
   "source": [
    "from diffstar.defaults import DEFAULT_MAH_PARAMS\n",
    "from diffstar.defaults import DEFAULT_MS_PARAMS\n",
    "from diffstar.defaults import DEFAULT_Q_PARAMS"
   ]
  },
  {
   "cell_type": "code",
   "execution_count": null,
   "id": "dcf87402-ef39-40fd-8447-a783e7e588f4",
   "metadata": {},
   "outputs": [],
   "source": [
    "from dsps import calc_rest_sed_sfh_table_lognormal_mdf\n",
    "from dsps import calc_rest_sed_sfh_table_met_table"
   ]
  },
  {
   "cell_type": "code",
   "execution_count": null,
   "id": "f25971e5-411e-4b77-b938-fa6e2283810b",
   "metadata": {},
   "outputs": [],
   "source": [
    "from dsps.dust.att_curves import  sbl18_k_lambda, RV_C00,_frac_transmission_from_k_lambda"
   ]
  },
  {
   "cell_type": "markdown",
   "id": "df7c47db-a216-44a7-8854-04e0790158ae",
   "metadata": {},
   "source": [
    "### Very important add the lib to load the data"
   ]
  },
  {
   "cell_type": "code",
   "execution_count": null,
   "id": "ead34204-296e-4721-a3f8-55d743f77299",
   "metadata": {},
   "outputs": [],
   "source": [
    "import sys\n",
    "sys.path.append(\"../../lib\")"
   ]
  },
  {
   "cell_type": "code",
   "execution_count": null,
   "id": "12743318-4fb4-4f74-9d53-cd688e4d6639",
   "metadata": {},
   "outputs": [],
   "source": [
    "from fit_params_fors2 import U_FNU,U_FL,ConvertFlambda_to_Fnu,flux_norm,ordered_keys,Fors2DataAcess"
   ]
  },
  {
   "cell_type": "code",
   "execution_count": null,
   "id": "deb81f4a-57cd-4b90-9235-7ea868228f1c",
   "metadata": {},
   "outputs": [],
   "source": [
    "lambda_red = 6231\n",
    "lambda_width = 50\n",
    "lambda_sel_min = lambda_red-lambda_width /2.\n",
    "lambda_sel_max = lambda_red+lambda_width /2."
   ]
  },
  {
   "cell_type": "markdown",
   "id": "42568804-6d4c-44c7-89a4-41d6939571b0",
   "metadata": {},
   "source": [
    "## Load fors2 spectra"
   ]
  },
  {
   "cell_type": "code",
   "execution_count": null,
   "id": "67f0920c-ecfe-4b31-8c01-736e8415ce4b",
   "metadata": {
    "tags": []
   },
   "outputs": [],
   "source": [
    "input_file_h5  = '../../data/fors2sl/FORS2spectraGalexKidsPhotom.hdf5'\n",
    "fors2 = Fors2DataAcess(input_file_h5)\n",
    "list_of_keys = fors2.get_list_of_groupkeys()\n",
    "list_of_attributes = fors2.get_list_subgroup_keys()"
   ]
  },
  {
   "cell_type": "markdown",
   "id": "6b495be0-ce3e-494a-afa5-b70e52cbc37f",
   "metadata": {},
   "source": [
    "### sort keys"
   ]
  },
  {
   "cell_type": "code",
   "execution_count": null,
   "id": "093f7ecf-4f84-454a-b22c-59583200c948",
   "metadata": {},
   "outputs": [],
   "source": [
    "list_of_keys = np.array(list_of_keys)\n",
    "list_of_keysnum = [ int(re.findall(\"SPEC(.*)\",specname)[0]) for specname in  list_of_keys ]\n",
    "sorted_indexes = np.argsort(list_of_keysnum)\n",
    "list_of_keys = list_of_keys[sorted_indexes]\n",
    "df_info = pd.DataFrame(columns=list_of_attributes)\n",
    "all_df = []"
   ]
  },
  {
   "cell_type": "markdown",
   "id": "28ff867f-089f-4e48-9f1e-c7961a138404",
   "metadata": {},
   "source": [
    "### Retrieve Fors2 spectra in order "
   ]
  },
  {
   "cell_type": "code",
   "execution_count": null,
   "id": "b05d3027-c24d-4f30-a56d-a6360c2a6920",
   "metadata": {},
   "outputs": [],
   "source": [
    "for idx,key in enumerate(list_of_keys):\n",
    "    attrs = fors2.getattribdata_fromgroup(key)\n",
    "    spectr = fors2.getspectrum_fromgroup(key)\n",
    "    df_info.loc[idx] = [*attrs.values()] # hope the order of attributes is kept\n",
    "    df = pd.DataFrame({\"wl\":spectr[\"wl\"],\"fnu\":spectr[\"fnu\"]})\n",
    "    all_df.append(df)\n",
    "    "
   ]
  },
  {
   "cell_type": "code",
   "execution_count": null,
   "id": "da0288e6-8e72-44a5-9e7a-4b1e161de46b",
   "metadata": {
    "tags": []
   },
   "outputs": [],
   "source": [
    "df_info.reset_index(drop=True, inplace=True) \n",
    "df_info = df_info[ordered_keys]\n",
    "df_info"
   ]
  },
  {
   "cell_type": "markdown",
   "id": "ac38d509-ea1f-481e-814d-95c3678432e3",
   "metadata": {},
   "source": [
    "### Select those spectra having a good match with Galex"
   ]
  },
  {
   "cell_type": "code",
   "execution_count": null,
   "id": "a3f522c2-f04a-4bb6-8cf6-8a4801b8d609",
   "metadata": {
    "tags": []
   },
   "outputs": [],
   "source": [
    "df_info.hist(\"asep_galex\",bins=100,color=\"b\")\n",
    "plt.axvline(5,c=\"k\")\n",
    "df_info.hist(\"asep_kids\",bins=100,color='b')"
   ]
  },
  {
   "cell_type": "markdown",
   "id": "32b81699-79c4-472c-917c-1abe3c600704",
   "metadata": {},
   "source": [
    "### Select those spectra that have angular correlation with Galex"
   ]
  },
  {
   "cell_type": "code",
   "execution_count": null,
   "id": "48382c9a-2447-4f2a-9eee-ebb343d3bc0c",
   "metadata": {
    "tags": []
   },
   "outputs": [],
   "source": [
    "df = df_info[df_info[\"asep_galex\"] <= 5]"
   ]
  },
  {
   "cell_type": "markdown",
   "id": "5ea671da-b302-4d6f-9279-8e24cdec7e22",
   "metadata": {},
   "source": [
    "## Plot Spectra"
   ]
  },
  {
   "cell_type": "code",
   "execution_count": null,
   "id": "acbc7187-c965-4335-afd7-a7c8e43a570c",
   "metadata": {
    "tags": []
   },
   "outputs": [],
   "source": [
    "lambda_FUV = 1528.\n",
    "lambda_NUV = 2271.\n",
    "lambda_U = 3650.\n",
    "lambda_B = 4450.\n",
    "lambda_G = 4640.\n",
    "lambda_R = 5580.\n",
    "lambda_I = 8060.\n",
    "lambda_Z = 9000.\n",
    "lambda_Y = 10200.\n",
    "lambda_J = 12200.\n",
    "lambda_H = 16300.\n",
    "lambda_K = 21900.\n",
    "lambda_L = 34500.\n",
    "\n",
    "WL = [lambda_FUV, lambda_NUV, lambda_B, lambda_G, lambda_R ,lambda_I, lambda_Z, lambda_Y, lambda_J, lambda_H, lambda_K ]\n",
    "FilterTag = ['FUV','NUV','B','G','R','I','Z','Y','J','H','Ks']"
   ]
  },
  {
   "cell_type": "code",
   "execution_count": null,
   "id": "6ab53974-f942-4f55-bbe5-eba1e1a948ef",
   "metadata": {},
   "outputs": [],
   "source": [
    "def PlotFilterTag(ax,fluxlist):\n",
    "    goodfl = fluxlist[np.isfinite(fluxlist)]\n",
    "    ymin = np.mean(goodfl)\n",
    "    dy=ymin/5\n",
    "   \n",
    "    for idx,flux in enumerate(fluxlist):\n",
    "        if np.isfinite(flux):\n",
    "            #ax.text(WL[idx],flux, FilterTag[idx],fontsize=10,ha='center', va='bottom')\n",
    "                     \n",
    "            fl = flux - dy\n",
    "            if fl <0:\n",
    "                fl += 2*dy\n",
    "            ax.text(WL[idx],fl, FilterTag[idx],fontsize=12,color=\"g\",weight='bold',ha='center', va='bottom')\n",
    "            "
   ]
  },
  {
   "cell_type": "code",
   "execution_count": null,
   "id": "cfb6ada8-69e9-4263-9d35-4bcc40a77b7c",
   "metadata": {
    "tags": []
   },
   "outputs": [],
   "source": [
    "df['index0'] = df.index\n",
    "df = df.reset_index()"
   ]
  },
  {
   "cell_type": "markdown",
   "id": "8c21bf17-6634-4509-91cc-d7d36317550a",
   "metadata": {},
   "source": [
    "## Fit Gaussian process to remove abs line"
   ]
  },
  {
   "cell_type": "code",
   "execution_count": null,
   "id": "e16e25fa-0c82-471a-b4d2-9dd08a28a3fb",
   "metadata": {
    "tags": []
   },
   "outputs": [],
   "source": [
    "kernel = kernels.RBF(0.5, (8000, 10000.0))\n",
    "gp = GaussianProcessRegressor(kernel=kernel ,random_state=0)"
   ]
  },
  {
   "cell_type": "markdown",
   "id": "7c4d3f8e-d8b5-4701-956c-c48fac421fe5",
   "metadata": {},
   "source": [
    "#### Select the spectrum"
   ]
  },
  {
   "cell_type": "code",
   "execution_count": null,
   "id": "7064d989-cf39-46a1-8500-fe1ff84a05b4",
   "metadata": {
    "tags": []
   },
   "outputs": [],
   "source": [
    "#selected_spectrum_number = 411\n",
    "selected_spectrum_number = 560\n",
    "\n",
    "dict_normalisation_factor = {}\n",
    "dict_normalisation_factor[411] = 160.\n",
    "dict_normalisation_factor[560] = 12."
   ]
  },
  {
   "cell_type": "code",
   "execution_count": null,
   "id": "78a58f2e-2f2c-459a-b373-f9da839f6430",
   "metadata": {
    "tags": []
   },
   "outputs": [],
   "source": [
    "# loop on rows to select the spectrum selected above\n",
    "props = dict(boxstyle='round', facecolor='wheat', alpha=0.5)\n",
    "for idx,row in df.iterrows():\n",
    "    \n",
    "    print(idx,\" == \",row[\"name\"],row[\"num\"],row[\"index0\"])\n",
    "    idx0 = row[\"index0\"] # index for the spectrum\n",
    "    specname  = row[\"name\"]\n",
    "    specnum = row[\"num\"]\n",
    "    if specnum < selected_spectrum_number:\n",
    "        continue\n",
    "    if specnum > selected_spectrum_number:\n",
    "        break\n",
    "    \n",
    "    \n",
    "    mags = [ row[\"fuv_mag\"], row[\"nuv_mag\"], row['MAG_GAAP_u'], row['MAG_GAAP_g'], row['MAG_GAAP_r'], row['MAG_GAAP_i'], row['MAG_GAAP_Z'], row['MAG_GAAP_Y'], \n",
    "            row['MAG_GAAP_J'], row['MAG_GAAP_H'],row['MAG_GAAP_Ks'] ]\n",
    "    \n",
    "    magserr = [ row[\"fuv_magerr\"], row[\"nuv_magerr\"], row['MAGERR_GAAP_u'], row['MAGERR_GAAP_g'], row['MAGERR_GAAP_r'], row['MAGERR_GAAP_i'], row['MAGERR_GAAP_Z'], row['MAGERR_GAAP_Y'], \n",
    "            row['MAGERR_GAAP_J'], row['MAGERR_GAAP_H'],row['MAGERR_GAAP_Ks'] ]\n",
    "    \n",
    "    mfluxes = [ 10**(-0.4*m) for m in mags ]\n",
    "    mfluxeserr = []\n",
    "    \n",
    "    for f,em in zip(mfluxes,magserr):\n",
    "        ferr = 0.4*np.log(10)*em*f\n",
    "        mfluxeserr.append(ferr)\n",
    "        \n",
    "    mfluxes = np.array(mfluxes)\n",
    "    mfluxeserr = np.array(mfluxeserr)\n",
    "    \n",
    "    fluxes =  [ row[\"fuv_flux\"], row[\"nuv_flux\"], row['FLUX_GAAP_u'], row['FLUX_GAAP_g'], row['FLUX_GAAP_r'], row['FLUX_GAAP_i'], row['FLUX_GAAP_Z'], row['FLUX_GAAP_Y'], \n",
    "            row['FLUX_GAAP_J'], row['FLUX_GAAP_H'],row['FLUX_GAAP_Ks'] ]\n",
    "    \n",
    "    fluxeserr =  [ row[\"fuv_fluxerr\"], row[\"nuv_fluxerr\"], row['FLUXERR_GAAP_u'], row['FLUXERR_GAAP_g'], row['FLUXERR_GAAP_r'], row['FLUXERR_GAAP_i'], row['FLUXERR_GAAP_Z'], row['FLUX_GAAP_Y'], \n",
    "            row['FLUXERR_GAAP_J'], row['FLUXERR_GAAP_H'],row['FLUXERR_GAAP_Ks'] ]\n",
    "    \n",
    "    ##############################################################\n",
    "    # The top image\n",
    "    ######################################\n",
    "    fig = plt.figure(figsize=(10,14),tight_layout=True)\n",
    "    gs = gridspec.GridSpec(3, 1,height_ratios=[3, 1, 3])\n",
    "    \n",
    "    \n",
    "    #top image : original flux\n",
    "    ax= fig.add_subplot(gs[0, 0])\n",
    "    \n",
    "    z = row[\"redshift\"]\n",
    "    zobs = z\n",
    "    asep_fg = row['asep_galex']\n",
    "    rmag = row[\"Rmag\"]\n",
    "    asep_fk = row['asep_kids']\n",
    "    \n",
    "  \n",
    "    the_lines = row['lines']\n",
    "    print(\"the_lines = \",the_lines)\n",
    "    all_elements  = the_lines.decode().split(\",\")\n",
    "    \n",
    "    \n",
    "    the_label_data = f\" FORS2 : z = {z:.3f} , Rmag = {rmag:.1f} mag,  angular sep (arcsec) f-g : {asep_fg:.3f}, f-k : {asep_fk:.3f}\" \n",
    "    the_wl = all_df[idx0][\"wl\"].values\n",
    "    the_fnu = all_df[idx0][\"fnu\"].values*10**(-0.4*mags[4])    \n",
    "    ax.plot(the_wl,the_fnu,'b-',label=the_label_data)\n",
    "     \n",
    "    X = the_wl\n",
    "    Y = the_fnu\n",
    "    \n",
    "    gp.fit(X[:, None], Y)\n",
    "    xfit = np.linspace(X.min(),X.max())\n",
    "    yfit, yfit_err = gp.predict(xfit[:, None], return_std=True)\n",
    "    ax.plot(xfit, yfit, '-', color='cyan')\n",
    "    ax.fill_between(xfit, yfit -  yfit_err, yfit +  yfit_err, color='gray', alpha=0.3)\n",
    "     \n",
    "    ax2 = ax.twinx()\n",
    "    ax2.errorbar(WL,mfluxes,yerr=mfluxeserr,fmt='o',color=\"r\",ecolor=\"r\",ms=5,label='Galex (UV) + Kids (optics) +Viking (IR)')\n",
    "    PlotFilterTag(ax2,mfluxes)\n",
    "    #ax2.errorbar(WL, fluxes, yerr=fluxes, xerr=None, fmt='o', color=\"g\",ecolor=\"g\")\n",
    "    ax2.legend(loc=\"lower right\")\n",
    "    \n",
    "    ax.set_xlabel(\"$\\lambda  (\\AA)$ \")\n",
    "    title_data = f\"FORS2 : {idx}): {idx0} name = {specname}\"\n",
    "    ax.set_title(title_data)\n",
    "    ax.set_ylabel(\"flux (maggies)\")\n",
    "    ax.legend(loc=\"upper right\")\n",
    "    ax.grid()\n",
    "    \n",
    "    the_max1 = np.max(the_fnu)\n",
    "    goodmags = mfluxes[np.isfinite(mfluxes)]\n",
    "    the_max2 = np.max(goodmags)\n",
    "    the_max = 1.1*max(the_max1,the_max2)\n",
    "\n",
    "    ax.set_ylim(0,the_max)\n",
    "    ax2.set_ylim(0,the_max)\n",
    "\n",
    "    ax.set_xlim(1000.,25000.)\n",
    "    ##################\n",
    "    # Middle image : Fit a gaussian process and compute the residuals\n",
    "    ##################\n",
    "    ax3 = fig.add_subplot(gs[1, 0])\n",
    "    DeltaY,DeltaEY = Y - gp.predict(X[:, None], return_std=True)\n",
    "    ax3.plot(X,DeltaY,'b')\n",
    "    ax3.set_xlim(1000.,25000.)\n",
    "    ax3.grid()\n",
    "    ax3.set_xlabel(\"$\\lambda  (\\AA)$ \")\n",
    "    \n",
    "    background = np.sqrt(np.median(DeltaY**2))\n",
    "    indexes_toremove = np.where(np.abs(DeltaY)> 8 * background)[0]\n",
    "    \n",
    "    for index in indexes_toremove:\n",
    "        ax3.axvline(X[index],color='k')\n",
    "    \n",
    "    #########################    \n",
    "    # Bottom image : resuting image after removing emission lines\n",
    "    #########################\n",
    "    \n",
    "    ax4 = fig.add_subplot(gs[2, 0])\n",
    "    \n",
    "    Xclean = np.delete(X,indexes_toremove)\n",
    "    Yclean  = np.delete(Y,indexes_toremove)\n",
    "    \n",
    "    ax4.plot(Xclean, Yclean,'b-',label=the_label_data)\n",
    "    ax4.set_ylim(0,the_max)\n",
    "    ax4.set_xlim(1000.,25000.)\n",
    "    ax4.grid()\n",
    "    ax4.set_xlabel(\"$\\lambda  (\\AA)$ \")\n",
    "    \n",
    "    ax5 = ax4.twinx()\n",
    "    ax5.errorbar(WL,mfluxes,yerr=mfluxeserr,fmt='o',color=\"r\",ecolor=\"r\",ms=5,label='Galex (UV) + Kids (optics) +Viking (IR)')\n",
    "    ax5.legend(loc=\"lower right\")\n",
    "    ax5.set_ylim(0,the_max)\n",
    "    PlotFilterTag(ax5,mfluxes)\n",
    "    \n",
    "    ax4.set_ylabel(\"flux (maggies)\")\n",
    "    ax4.legend(loc=\"upper right\")\n",
    "    \n",
    "    spectr = fors2.getspectrumcleanedemissionlines_fromgroup(specname,gp)\n",
    "\n",
    "    the_wl = all_df[idx0][\"wl\"].values\n",
    "    the_fnu = all_df[idx0][\"fnu\"].values*10**(-0.4*mags[4])\n",
    "    \n",
    "    ax5.plot(the_wl,the_fnu,color=\"grey\",lw=0.25,label=\"original\")\n",
    "\n",
    "    \n",
    "    plt.show()"
   ]
  },
  {
   "cell_type": "markdown",
   "id": "6eca9cf6-9393-4b55-ab9e-3c5ea18aba62",
   "metadata": {},
   "source": [
    "# Model of a Galaxy"
   ]
  },
  {
   "cell_type": "markdown",
   "id": "e03b5d80-00b6-49f6-b276-e81ab8c16adb",
   "metadata": {},
   "source": [
    "## Load SED templates from DSPS "
   ]
  },
  {
   "cell_type": "code",
   "execution_count": null,
   "id": "7d06dd83-e04b-4753-8bb4-e4427568afb6",
   "metadata": {
    "tags": []
   },
   "outputs": [],
   "source": [
    "\n",
    "#ssp_data = load_ssp_templates(fn='tempdata_v2.h5')\n",
    "ssp_data = load_ssp_templates(fn='../examples_dsps_diffstar_diffmah/tempdata.h5')\n",
    "\n",
    "print(ssp_data._fields)\n",
    "\n",
    "print('ssp_data : ssp_lgmet.shape = {}'.format(ssp_data.ssp_lgmet.shape))\n",
    "print('ssp_data : ssp_lg_age_gyr.shape = {}'.format(ssp_data.ssp_lg_age_gyr.shape))\n",
    "print('ssp_data : ssp_wave.shape = {}'.format(ssp_data.ssp_wave.shape))\n",
    "print('ssp_data :ssp_flux.shape = {}'.format(ssp_data.ssp_flux.shape))"
   ]
  },
  {
   "cell_type": "markdown",
   "id": "84e1cf28-c495-4821-8c55-82f2cf1beb3a",
   "metadata": {},
   "source": [
    "## Parameters of the Galaxy spectrum model"
   ]
  },
  {
   "cell_type": "code",
   "execution_count": null,
   "id": "162da665-bb8c-489b-8efa-c573370c370e",
   "metadata": {
    "tags": []
   },
   "outputs": [],
   "source": [
    "print(\"SFR : 13 parameters\")"
   ]
  },
  {
   "cell_type": "code",
   "execution_count": null,
   "id": "dd5d3409-6f88-4521-b0c5-e06faf5d96b7",
   "metadata": {
    "tags": []
   },
   "outputs": [],
   "source": [
    "#mah_params = (lgm0, logtc, early_index, late_index)\n",
    "print('MAH 4 params (lgm0, logtc, early_index, late_index) : ',DEFAULT_MAH_PARAMS)"
   ]
  },
  {
   "cell_type": "code",
   "execution_count": null,
   "id": "34c78cfd-65ea-4095-98f2-8b01193bdf42",
   "metadata": {
    "tags": []
   },
   "outputs": [],
   "source": [
    "#ms_params = (lgmcrit, lgy_at_mcrit, indx_lo, indx_hi, tau_dep)\n",
    "print('MS 5 params (lgmcrit, lgy_at_mcrit, indx_lo, indx_hi, tau_dep) : ' ,DEFAULT_MS_PARAMS)"
   ]
  },
  {
   "cell_type": "code",
   "execution_count": null,
   "id": "d3f18373-cbe9-4f19-ab9f-1e9790631740",
   "metadata": {
    "tags": []
   },
   "outputs": [],
   "source": [
    "# q_params (lg_qt, qlglgdt, lg_drop, lg_rejuv)\n",
    "print('Q 4 params (lg_qt, qlglgdt, lg_drop, lg_rejuv) : ',DEFAULT_Q_PARAMS)"
   ]
  },
  {
   "cell_type": "code",
   "execution_count": null,
   "id": "341310ba-e149-4afc-9ea0-0ece2082c205",
   "metadata": {
    "tags": []
   },
   "outputs": [],
   "source": [
    "#sfh_singlegal?"
   ]
  },
  {
   "cell_type": "markdown",
   "id": "5b0785ea-d40d-4803-9ed9-5ecdc643ade6",
   "metadata": {},
   "source": [
    "### Calculate age distribution"
   ]
  },
  {
   "cell_type": "code",
   "execution_count": null,
   "id": "3209997a-21ee-45d6-ae3a-5c96201d5371",
   "metadata": {
    "tags": []
   },
   "outputs": [],
   "source": [
    "today_gyr = 13.8 \n",
    "tarr = np.linspace(0.1, today_gyr, 100)"
   ]
  },
  {
   "cell_type": "code",
   "execution_count": null,
   "id": "0c2e0529-f1d9-4974-90b4-7349cf82541e",
   "metadata": {
    "tags": []
   },
   "outputs": [],
   "source": [
    "sfh_gal = sfh_singlegal(tarr, DEFAULT_MAH_PARAMS, DEFAULT_MS_PARAMS, DEFAULT_Q_PARAMS)"
   ]
  },
  {
   "cell_type": "code",
   "execution_count": null,
   "id": "4690f18f-96ce-4540-a30a-6257cee20395",
   "metadata": {
    "tags": []
   },
   "outputs": [],
   "source": [
    "fig, ax = plt.subplots(1, 1)\n",
    "ylim = ax.set_ylim(1e-3, 50)\n",
    "yscale = ax.set_yscale('log')\n",
    "\n",
    "__=ax.plot(tarr, sfh_gal, '--', color='k',label='sfh_gal')\n",
    "ax.set_title(\"Simulated Star Formation History (SFH) (log scale)\")\n",
    "xlabel = ax.set_xlabel(r'${\\rm cosmic\\ time\\ [Gyr]}$')\n",
    "ylabel = ax.set_ylabel(r'${\\rm SFR\\ [M_{\\odot}/yr]}$')\n",
    "ax.grid()"
   ]
  },
  {
   "cell_type": "code",
   "execution_count": null,
   "id": "e00af31d-ba9f-490f-8eac-9f7d9fa0dab3",
   "metadata": {
    "tags": []
   },
   "outputs": [],
   "source": [
    "fig, ax = plt.subplots(1, 1)\n",
    "ylim = ax.set_ylim(0, 1)\n",
    "#yscale = ax.set_yscale('log')\n",
    "\n",
    "__=ax.plot(tarr, sfh_gal, '--', color='k',label='sfh_gal')\n",
    "ax.set_title(\"Simulated Star Formation History (SFH) (lin scale)\")\n",
    "xlabel = ax.set_xlabel(r'${\\rm cosmic\\ time\\ [Gyr]}$')\n",
    "ylabel = ax.set_ylabel(r'${\\rm SFR\\ [M_{\\odot}/yr]}$')\n",
    "ax.grid()"
   ]
  },
  {
   "cell_type": "markdown",
   "id": "4f70a36e-5f99-4cf7-a953-e8c3a05cb0b4",
   "metadata": {},
   "source": [
    "## Must clear SFR after "
   ]
  },
  {
   "cell_type": "code",
   "execution_count": null,
   "id": "29fa54c0-d385-48a1-9b73-30cd02efda24",
   "metadata": {
    "tags": []
   },
   "outputs": [],
   "source": [
    "t_obs = age_at_z(zobs, *DEFAULT_COSMOLOGY) # age of the universe in Gyr at z_obs\n",
    "t_obs = t_obs[0] # age_at_z function returns an array, but SED functions accept a float for this argument"
   ]
  },
  {
   "cell_type": "code",
   "execution_count": null,
   "id": "b968161a-11a7-4231-9e08-fe0ca7e7f1c9",
   "metadata": {
    "tags": []
   },
   "outputs": [],
   "source": [
    "t_obs"
   ]
  },
  {
   "cell_type": "code",
   "execution_count": null,
   "id": "8ab42b53-1364-4cc7-96d9-6d641c3aed60",
   "metadata": {
    "tags": []
   },
   "outputs": [],
   "source": [
    "sfh_gal = jnp.where(tarr<t_obs, sfh_gal, 0)"
   ]
  },
  {
   "cell_type": "code",
   "execution_count": null,
   "id": "a21e68a1-b01c-4dcb-8583-ad1f62008218",
   "metadata": {
    "tags": []
   },
   "outputs": [],
   "source": [
    "fig, ax = plt.subplots(1, 1)\n",
    "ylim = ax.set_ylim(0, 1)\n",
    "#yscale = ax.set_yscale('log')\n",
    "\n",
    "__=ax.plot(tarr, sfh_gal, '--', color='k',label='sfh_gal')\n",
    "ax.set_title(\"Simulated Star Formation History (SFH) (lin scale)\")\n",
    "xlabel = ax.set_xlabel(r'${\\rm cosmic\\ time\\ [Gyr]}$')\n",
    "ylabel = ax.set_ylabel(r'${\\rm SFR\\ [M_{\\odot}/yr]}$')\n",
    "ax.grid()"
   ]
  },
  {
   "cell_type": "markdown",
   "id": "8c116fc3-d507-4a83-845a-bf71cf9367ee",
   "metadata": {},
   "source": [
    "# Draw galaxy parameters"
   ]
  },
  {
   "cell_type": "code",
   "execution_count": null,
   "id": "c8acadb0-144c-454a-8136-5077b22bfb35",
   "metadata": {
    "tags": []
   },
   "outputs": [],
   "source": [
    "#mah_params_galpop = np.tile(DEFAULT_MAH_PARAMS, n_gals)\n",
    "#mah_params_galpop = mah_params_galpop.reshape((n_gals, -1))\n",
    "\n",
    "#ms_params_galpop = np.tile(DEFAULT_MS_PARAMS, n_gals)\n",
    "#ms_params_galpop = ms_params_galpop.reshape((n_gals, -1))\n",
    "\n",
    "#q_params_galpop = np.tile(DEFAULT_Q_PARAMS, n_gals)\n",
    "#q_params_galpop = q_params_galpop.reshape((n_gals, -1))\n",
    "\n",
    "#ms_noise = np.random.normal(\n",
    "#    loc=0, scale=0.25, size=(n_gals, DEFAULT_MS_PARAMS.size))\n",
    "\n",
    "#ms_params_galpop = ms_params_galpop + ms_noise\n",
    "\n",
    "#q_noise = np.random.normal(\n",
    "#    loc=0, scale=0.1, size=(n_gals, DEFAULT_Q_PARAMS.size))\n",
    "\n",
    "#q_params_galpop = q_params_galpop + q_noise"
   ]
  },
  {
   "cell_type": "markdown",
   "id": "eb84555b-59f9-4a28-ba7d-2e1cdb68835b",
   "metadata": {},
   "source": [
    "### MAH parameters"
   ]
  },
  {
   "cell_type": "code",
   "execution_count": null,
   "id": "231848d2-908e-49fd-972b-4b5321aea27d",
   "metadata": {
    "tags": []
   },
   "outputs": [],
   "source": [
    "#mah_params = (lgm0, logtc, early_index, late_index)\n",
    "DEFAULT_MAH_PARAMS"
   ]
  },
  {
   "cell_type": "code",
   "execution_count": null,
   "id": "c44be262-e0ae-40d5-a342-2a9afadd232d",
   "metadata": {
    "tags": []
   },
   "outputs": [],
   "source": [
    "mah_paramnames = [\"MAH_lgmO\",\"MAH_logtc\",\"MAH_early_index\",\"MAH_late_index\"]"
   ]
  },
  {
   "cell_type": "markdown",
   "id": "8d8cd4c0-f603-48b4-9d5e-b1f6a58828ab",
   "metadata": {},
   "source": [
    "### MS parameters"
   ]
  },
  {
   "cell_type": "code",
   "execution_count": null,
   "id": "ef244370-7e0b-49ff-93d1-b519811d470a",
   "metadata": {
    "tags": []
   },
   "outputs": [],
   "source": [
    "#ms_params = (lgmcrit, lgy_at_mcrit, indx_lo, indx_hi, tau_dep)\n",
    "DEFAULT_MS_PARAMS"
   ]
  },
  {
   "cell_type": "code",
   "execution_count": null,
   "id": "820dd556-c428-47c3-aad2-7fea9372e1af",
   "metadata": {
    "tags": []
   },
   "outputs": [],
   "source": [
    "ms_paramnames = [\"MS_lgmcrit\", \"MS_lgy_at_mcrit\", \"MS_indx_lo\", \"MS_indx_hi\", \"MS_tau_dep\"]"
   ]
  },
  {
   "cell_type": "markdown",
   "id": "aee37fd9-0134-46b3-b11a-a16c29f172ac",
   "metadata": {},
   "source": [
    "### Q parameters"
   ]
  },
  {
   "cell_type": "code",
   "execution_count": null,
   "id": "3dc57f9c-af57-443a-a75c-d691b51ba9fe",
   "metadata": {
    "tags": []
   },
   "outputs": [],
   "source": [
    "# q_params (lg_qt, qlglgdt, lg_drop, lg_rejuv)\n",
    "DEFAULT_Q_PARAMS"
   ]
  },
  {
   "cell_type": "code",
   "execution_count": null,
   "id": "6fd217c6-981b-4559-b019-5ba44164d025",
   "metadata": {
    "tags": []
   },
   "outputs": [],
   "source": [
    "q_paramnames = [\"Q_lg_qt\", \"Q_qlglgdt\", \"Q_lg_drop\", \"Q_lg_rejuv\"]"
   ]
  },
  {
   "cell_type": "markdown",
   "id": "4558005c-b4cc-4235-aff1-610dbdf545e7",
   "metadata": {},
   "source": [
    "### Dust parameters"
   ]
  },
  {
   "cell_type": "code",
   "execution_count": null,
   "id": "31516f21-efd6-40e1-9f15-cadd855b66bc",
   "metadata": {
    "tags": []
   },
   "outputs": [],
   "source": [
    "Av= 1\n",
    "uv_bump_ampl = 3.0\n",
    "plaw_slope = -0.25"
   ]
  },
  {
   "cell_type": "code",
   "execution_count": null,
   "id": "0dba5e5a-6b27-4df1-9014-3d93b9855cdc",
   "metadata": {
    "tags": []
   },
   "outputs": [],
   "source": [
    "DEFAULT_DUST_PARAMS = [Av, uv_bump_ampl, plaw_slope]\n",
    "dust_paramnames = [\"Av\", \"uv_bump\", \"plaw_slope\"]"
   ]
  },
  {
   "cell_type": "markdown",
   "id": "7c3de6f0-39f1-4c09-ab04-a7b1f72cdb5c",
   "metadata": {},
   "source": [
    "## Combine parameters"
   ]
  },
  {
   "cell_type": "code",
   "execution_count": null,
   "id": "0015adc5-4f88-4039-ace7-50a589bce0ea",
   "metadata": {
    "tags": []
   },
   "outputs": [],
   "source": [
    "rng_key = jax.random.PRNGKey(1)\n",
    "rng_key, rng_key0, rng_key1, rng_key2 = jax.random.split(rng_key, 4)"
   ]
  },
  {
   "cell_type": "code",
   "execution_count": null,
   "id": "195a76d3-9d4d-460d-acc9-a7159e3f71fa",
   "metadata": {
    "tags": []
   },
   "outputs": [],
   "source": [
    "defaults_params = [DEFAULT_MAH_PARAMS,DEFAULT_MS_PARAMS,DEFAULT_Q_PARAMS,DEFAULT_DUST_PARAMS]\n",
    "param_names = [mah_paramnames,ms_paramnames,q_paramnames,dust_paramnames]\n",
    "param_scales = [3, 0.25,0.1,2.]"
   ]
  },
  {
   "cell_type": "code",
   "execution_count": null,
   "id": "7e63359c-ab8e-4ec1-ba12-1076a1cc3c32",
   "metadata": {
    "tags": []
   },
   "outputs": [],
   "source": [
    "dict_param_mah_true = OrderedDict([(mah_paramnames[0],DEFAULT_MAH_PARAMS[0]),\n",
    "                                         (mah_paramnames[1],DEFAULT_MAH_PARAMS[1]),\n",
    "                                         (mah_paramnames[2],DEFAULT_MAH_PARAMS[2]),\n",
    "                                         (mah_paramnames[3],DEFAULT_MAH_PARAMS[3])\n",
    "                                         ])\n",
    "dict_param_mah_true_selected = OrderedDict([(mah_paramnames[0],DEFAULT_MAH_PARAMS[0]),\n",
    "                                         ])"
   ]
  },
  {
   "cell_type": "code",
   "execution_count": null,
   "id": "3b53b829-4ff6-45ff-99e5-030800c699a1",
   "metadata": {
    "tags": []
   },
   "outputs": [],
   "source": [
    "d = dist.Uniform(DEFAULT_MAH_PARAMS[0]-param_scales[0],DEFAULT_MAH_PARAMS[0]+param_scales[3])\n",
    "data = d.sample(rng_key0,sample_shape=(500,))"
   ]
  },
  {
   "cell_type": "code",
   "execution_count": null,
   "id": "44f32b2d-b548-441e-b589-a80770a873a0",
   "metadata": {
    "tags": []
   },
   "outputs": [],
   "source": [
    "fig, ax = plt.subplots(1, 1,figsize=(3,2))\n",
    "ax.hist(data,bins=50);\n",
    "ax.set_title(mah_paramnames[0])"
   ]
  },
  {
   "cell_type": "code",
   "execution_count": null,
   "id": "f3bf5686-ae34-4ecd-8cd1-065b4b3dd354",
   "metadata": {
    "tags": []
   },
   "outputs": [],
   "source": [
    "dict_param_ms_true = OrderedDict([(ms_paramnames[0],DEFAULT_MS_PARAMS[0]),\n",
    "                                         (ms_paramnames[1],DEFAULT_MS_PARAMS[1]),\n",
    "                                         (ms_paramnames[2],DEFAULT_MS_PARAMS[2]),\n",
    "                                         (ms_paramnames[3],DEFAULT_MS_PARAMS[3]),\n",
    "                                         (ms_paramnames[4],DEFAULT_MS_PARAMS[4])])"
   ]
  },
  {
   "cell_type": "code",
   "execution_count": null,
   "id": "e2aecece-79f1-40de-a57f-70dfa8ce8967",
   "metadata": {
    "tags": []
   },
   "outputs": [],
   "source": [
    "fig, axes = plt.subplots(2, 3,figsize=(15,6))\n",
    "list_of_keys = list(dict_param_ms_true.keys())\n",
    "scale = param_scales[1]\n",
    "for idx, ax in enumerate(axes.flat):\n",
    "    if idx>= len(list_of_keys):\n",
    "        break\n",
    "    d = dist.Normal(0,scale)\n",
    "    data = DEFAULT_MS_PARAMS[idx] + d.sample(rng_key1,sample_shape=(500,))\n",
    "    ax.hist(data,bins=50);\n",
    "    ax.set_title(ms_paramnames[idx])\n",
    "                    \n",
    "    \n",
    "\n",
    "plt.tight_layout()    "
   ]
  },
  {
   "cell_type": "code",
   "execution_count": null,
   "id": "b06b0dfc-3b89-4413-9408-aa020b4f457e",
   "metadata": {
    "tags": []
   },
   "outputs": [],
   "source": [
    "param_scales[1]"
   ]
  },
  {
   "cell_type": "code",
   "execution_count": null,
   "id": "248726f6-938e-4d8c-b3a5-7069f179627a",
   "metadata": {
    "tags": []
   },
   "outputs": [],
   "source": [
    "dict_param_q_true = OrderedDict([(q_paramnames[0],DEFAULT_Q_PARAMS[0]),\n",
    "                                         (q_paramnames[1],DEFAULT_Q_PARAMS[1]),\n",
    "                                         (q_paramnames[2],DEFAULT_Q_PARAMS[2]),\n",
    "                                         (q_paramnames[3],DEFAULT_Q_PARAMS[3])])"
   ]
  },
  {
   "cell_type": "code",
   "execution_count": null,
   "id": "641d49df-4107-42f1-b6bf-be3e054b4a5a",
   "metadata": {
    "tags": []
   },
   "outputs": [],
   "source": [
    "dict_param_dust_true = OrderedDict([(dust_paramnames[0],DEFAULT_DUST_PARAMS[0]),\n",
    "                                         (dust_paramnames[1],DEFAULT_DUST_PARAMS[1]),\n",
    "                                         (dust_paramnames[2],DEFAULT_DUST_PARAMS[2])])\n",
    "dict_param_dust_true_selected = OrderedDict([(dust_paramnames[0],DEFAULT_DUST_PARAMS[0])])"
   ]
  },
  {
   "cell_type": "markdown",
   "id": "b73c84b8-486c-4430-8ed4-8bd7b7cee840",
   "metadata": {},
   "source": [
    "### Group all parameters"
   ]
  },
  {
   "cell_type": "code",
   "execution_count": null,
   "id": "48e750e1-0bd6-40a3-8e5f-92cf12efeff3",
   "metadata": {
    "tags": []
   },
   "outputs": [],
   "source": [
    "params_true = dict_param_mah_true_selected\n",
    "params_true.update(dict_param_ms_true)\n",
    "params_true.update(dict_param_q_true)\n",
    "params_true.update(dict_param_dust_true_selected)"
   ]
  },
  {
   "cell_type": "code",
   "execution_count": null,
   "id": "be85df5c-7810-43ae-8c0b-e9d548139b58",
   "metadata": {
    "tags": []
   },
   "outputs": [],
   "source": [
    "params_true"
   ]
  },
  {
   "cell_type": "markdown",
   "id": "f2dfc2a6-0abd-4e6b-817e-4d3290aac053",
   "metadata": {},
   "source": [
    "## Bayesian modelling"
   ]
  },
  {
   "cell_type": "code",
   "execution_count": null,
   "id": "1af8a5bb-fafa-4e82-9382-6583b0f74658",
   "metadata": {
    "tags": []
   },
   "outputs": [],
   "source": [
    "def galaxymodel(wls,Fobs=None,defaultsparamval = defaults_params,\n",
    "                param_names = param_names,\n",
    "                param_scales = param_scales,\n",
    "                z_obs = zobs,\n",
    "                sigma= 1.0):\n",
    "    \"\"\"\n",
    "    Models of Galaxy spectrum at rest\n",
    "    \n",
    "    :param wls: array of input spectrum wavelength \n",
    "    :type wls: float in Angstrom\n",
    "    \n",
    "    mah_params parameters\n",
    "    mah_params = (lgm0, logtc, early_index, late_index)\n",
    "    \n",
    "    ms_params : ndarray, shape (5, )\n",
    "    By default the input ms_params will be interpreted as standard diffstar params:\n",
    "        ms_params = (lgmcrit, lgy_at_mcrit, indx_lo, indx_hi, tau_dep)\n",
    "        \n",
    "    q_params : ndarray, shape (4, )\n",
    "    By default the input q_params will be interpreted as standard diffstar params:\n",
    "        (lg_qt, qlglgdt, lg_drop, lg_rejuv)\n",
    "   \n",
    "    z_obs :  redshift of observation\n",
    "    \n",
    "    \"\"\"\n",
    "    NgrpParams = len(defaultsparamval)\n",
    "    \n",
    "    # loop on the group of parameters\n",
    "    for igrp in range(NgrpParams):\n",
    "        scale =  param_scales[igrp]\n",
    "        val0 = defaultsparamval[igrp]\n",
    "        names = param_names[igrp]\n",
    "        \n",
    "        if igrp==0:\n",
    "            lgm0 = numpyro.sample(names[0],dist.Uniform(val0[0]-scale,val0[0]+scale))\n",
    "            dict_param_mah = OrderedDict([(names[0],lgm0)])\n",
    "            list_param_mah = [lgm0, val0[1],val0[2],val0[3] ]\n",
    "                                         \n",
    "        # defines the parameters\n",
    "        if igrp == 1:\n",
    "            lgmcrit = numpyro.sample(names[0],dist.Normal(val0[0], scale))\n",
    "            lgy_at_mcrit = numpyro.sample(names[1],dist.Normal(val0[1], scale))\n",
    "            indx_lo = numpyro.sample(names[2],dist.Normal(val0[2], scale))\n",
    "            indx_hi = numpyro.sample(names[3],dist.Normal(val0[3], scale))\n",
    "            tau_dep = numpyro.sample(names[4],dist.Normal(val0[4], scale))\n",
    "            \n",
    "        \n",
    "            dict_param_ms = OrderedDict([(names[0],lgmcrit),\n",
    "                                         (names[1],lgy_at_mcrit),\n",
    "                                         (names[2],indx_lo),\n",
    "                                         (names[3],indx_hi),\n",
    "                                         (names[4],tau_dep)])\n",
    "            list_param_ms = [lgmcrit,lgy_at_mcrit,indx_lo,indx_hi,tau_dep]\n",
    "            \n",
    "        if igrp == 2:\n",
    "            \n",
    "            lg_qt =  numpyro.sample(names[0],dist.Normal(val0[0], scale))\n",
    "            qlglgdt = numpyro.sample(names[1],dist.Normal(val0[1], scale))\n",
    "            lg_drop = numpyro.sample(names[2],dist.Normal(val0[2], scale))\n",
    "            lg_rejuv = numpyro.sample(names[3],dist.Normal(val0[3], scale))\n",
    "            \n",
    "            dict_param_q = OrderedDict([(names[0],lg_qt),\n",
    "                                         (names[1], qlglgdt),\n",
    "                                         (names[2],lg_drop ),\n",
    "                                         (names[3],lg_rejuv)])\n",
    "            list_param_q = [lg_qt, qlglgdt,lg_drop,lg_rejuv]\n",
    "            \n",
    "        if igrp == 3:\n",
    "            Av = numpyro.sample(names[0],dist.Uniform(0.,2.))\n",
    "            uv_bump_ampl = val0[1]\n",
    "            plaw_slope = val0[2]\n",
    "            \n",
    "            dict_param_dust = OrderedDict([(names[0],Av)])\n",
    "            list_param_dust = [Av]\n",
    "            \n",
    "            \n",
    "    params = dict_param_mah\n",
    "    params.update(dict_param_ms)\n",
    "    params.update(dict_param_q)\n",
    "    params.update(dict_param_dust)\n",
    "    \n",
    "    # compute SFR\n",
    "    tarr = np.linspace(0.1, today_gyr, 100)\n",
    "    sfh_gal = sfh_singlegal(\n",
    "    tarr, list_param_mah, list_param_ms, list_param_q)\n",
    "    \n",
    "    # metallicity\n",
    "    gal_lgmet = -2.0 # log10(Z)\n",
    "    gal_lgmet_scatter = 0.2 # lognormal scatter in the metallicity distribution function\n",
    "\n",
    "    # need age of universe when the light was emitted \n",
    "    t_obs = age_at_z(z_obs, *DEFAULT_COSMOLOGY) # age of the universe in Gyr at z_obs\n",
    "    t_obs = t_obs[0] # age_at_z function returns an array, but SED functions accept a float for this argument\n",
    "    \n",
    "    # clear sfh in future\n",
    "    sfh_gal = jnp.where(tarr<t_obs, sfh_gal, 0)\n",
    "    \n",
    "    # compute SED\n",
    "    gal_t_table = tarr\n",
    "    gal_sfr_table = sfh_gal\n",
    "    sed_info = calc_rest_sed_sfh_table_lognormal_mdf(\n",
    "    gal_t_table, gal_sfr_table, gal_lgmet, gal_lgmet_scatter,\n",
    "    ssp_data.ssp_lgmet, ssp_data.ssp_lg_age_gyr, ssp_data.ssp_flux, t_obs)\n",
    "    \n",
    "    # compute dust attenuation\n",
    "    wave_spec_micron = ssp_data.ssp_wave/10_000\n",
    "    k = sbl18_k_lambda(wave_spec_micron,uv_bump_ampl,plaw_slope)\n",
    "    dsps_flux_ratio = _frac_transmission_from_k_lambda(k,Av)\n",
    "    \n",
    "    sed_attenuated = dsps_flux_ratio * sed_info.rest_sed\n",
    "    \n",
    "    # interpolate measured\n",
    "    Fobs = jnp.interp(wls, ssp_data.ssp_wave, sed_attenuated)\n",
    "    \n",
    "    with numpyro.plate(\"obs\", wls.shape[0]):  # les observables sont indépendantes\n",
    "        numpyro.sample('F', dist.Normal(Fobs, sigma), obs=Fobs)\n"
   ]
  },
  {
   "cell_type": "code",
   "execution_count": null,
   "id": "ac44b28b-d402-42ef-bd2b-cc5f340b1b1c",
   "metadata": {
    "tags": []
   },
   "outputs": [],
   "source": [
    "numpyro.render_model(galaxymodel, model_args=(jnp.array([0.]),jnp.array([1.])),render_distributions=True)"
   ]
  },
  {
   "cell_type": "markdown",
   "id": "b4666a2b-191e-4ae3-a2c5-d65f64399873",
   "metadata": {},
   "source": [
    "# Comvert the observed flux in a flux in rest-frame"
   ]
  },
  {
   "cell_type": "code",
   "execution_count": null,
   "id": "2881bdf1-36c3-4ab6-a739-56c314c93782",
   "metadata": {
    "tags": []
   },
   "outputs": [],
   "source": [
    "X = the_wl/(1+zobs)\n",
    "Y = the_fnu*(1+zobs)\n",
    "sigma_obs = 1e-6"
   ]
  },
  {
   "cell_type": "code",
   "execution_count": null,
   "id": "d7aa6f98-66dc-41d2-801f-2895397f562b",
   "metadata": {
    "tags": []
   },
   "outputs": [],
   "source": [
    "from numpyro.handlers import seed, trace, condition\n",
    "# So, let's generate the data at the fiducial parameters\n",
    "fiducial_model = condition(galaxymodel, params_true)\n",
    "# Run the conditionned model (if not conditionned the priors are executed)\n",
    "trace_data = trace(seed(fiducial_model, jax.random.PRNGKey(42))).get_trace(X, sigma=sigma_obs)"
   ]
  },
  {
   "cell_type": "code",
   "execution_count": null,
   "id": "3e8718e0-665c-4b8c-a46a-f3f76d8adcbb",
   "metadata": {
    "tags": []
   },
   "outputs": [],
   "source": [
    "#trace_data"
   ]
  },
  {
   "cell_type": "code",
   "execution_count": null,
   "id": "c7304ad2-1111-4349-a8f3-05bfb6db330c",
   "metadata": {
    "tags": []
   },
   "outputs": [],
   "source": [
    "FMes_bis = trace_data['F'][\"value\"]"
   ]
  },
  {
   "cell_type": "code",
   "execution_count": null,
   "id": "ad07eba1-2a91-4bf5-8cf9-5173bd3c81ab",
   "metadata": {
    "tags": []
   },
   "outputs": [],
   "source": [
    "FMes_bis"
   ]
  },
  {
   "cell_type": "code",
   "execution_count": null,
   "id": "193679da-4383-426a-9598-a84650b749c9",
   "metadata": {
    "tags": []
   },
   "outputs": [],
   "source": [
    "fig, ax = plt.subplots(1, 1)\n",
    "ax.plot(X,FMes_bis,'r-',label=\"model (DSPS) + Dust attenuation\")\n",
    "ax.plot(X,Y,'b',label=\"data (Fors2)\")\n",
    "ax.legend()\n",
    "ax.set_yscale('log')\n",
    "ax.grid()\n",
    "ax.set_title(\"Comparison of Fors2 Spectrum and DSPS Spectrum\")"
   ]
  },
  {
   "cell_type": "markdown",
   "id": "dd394cfd-4466-447d-95fe-01812481f102",
   "metadata": {},
   "source": [
    "# MCMC"
   ]
  },
  {
   "cell_type": "code",
   "execution_count": null,
   "id": "983b4e67-6be3-4dfa-96b3-3efc1b4a33a4",
   "metadata": {
    "tags": []
   },
   "outputs": [],
   "source": [
    "rng_key = jax.random.PRNGKey(42)\n",
    "rng_key, rng_key0, rng_key1, rng_key2 = jax.random.split(rng_key, 4)"
   ]
  },
  {
   "cell_type": "code",
   "execution_count": null,
   "id": "6fbdfe20-0058-4c48-b6e3-399f9fdc9f02",
   "metadata": {
    "tags": []
   },
   "outputs": [],
   "source": [
    "# Run NUTS.\n",
    "kernel = NUTS(galaxymodel, dense_mass=True, target_accept_prob=0.9,\n",
    "              init_strategy=numpyro.infer.init_to_median())\n",
    "num_samples = 5_000\n",
    "n_chains = 4\n",
    "mcmc = MCMC(kernel, num_warmup=1_000, num_samples=num_samples,  \n",
    "            num_chains=n_chains,\n",
    "            chain_method='vectorized',\n",
    "            progress_bar=False)\n",
    "mcmc.run(rng_key, wls=X, Fobs=Y,sigma=sigma_obs,extra_fields=('potential_energy',))\n",
    "mcmc.print_summary()\n",
    "samples_nuts = mcmc.get_samples()"
   ]
  },
  {
   "cell_type": "code",
   "execution_count": null,
   "id": "47b852ea-e736-4b86-8626-f7ba5d7b2581",
   "metadata": {
    "tags": []
   },
   "outputs": [],
   "source": [
    "az.ess(samples_nuts, relative=True)  # efficacité relative\n"
   ]
  },
  {
   "cell_type": "code",
   "execution_count": null,
   "id": "1b313a14-a3dd-4701-8483-30206f090fad",
   "metadata": {},
   "outputs": [],
   "source": []
  }
 ],
 "metadata": {
  "kernelspec": {
   "display_name": "conda_jaxcpu_dsps_py310",
   "language": "python",
   "name": "conda_jaxcpu_dsps_py310"
  },
  "language_info": {
   "codemirror_mode": {
    "name": "ipython",
    "version": 3
   },
   "file_extension": ".py",
   "mimetype": "text/x-python",
   "name": "python",
   "nbconvert_exporter": "python",
   "pygments_lexer": "ipython3",
   "version": "3.10.13"
  }
 },
 "nbformat": 4,
 "nbformat_minor": 5
}
