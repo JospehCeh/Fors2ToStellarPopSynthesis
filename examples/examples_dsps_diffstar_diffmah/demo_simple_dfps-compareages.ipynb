{
 "cells": [
  {
   "cell_type": "markdown",
   "id": "da1a9f5e-9bc3-4ca1-b70b-d8bc8d40273b",
   "metadata": {},
   "source": [
    "# Compare SED for different ages at different t_obs or redshifts but not in future\n",
    "\n",
    "- author : Sylvie Dagoret-Campagne\n",
    "- creation date : 2023/10/05\n",
    "- last update : 2023/12/07\n",
    "\n",
    "\n",
    "\n",
    "| computer | processor | kernel              |    date     |\n",
    "| --- | --- | --- | --- |\n",
    "| CC       | CPU       | conda_jax0325_py310 | 2023-11-10  |\n",
    "| macbookpro | CPU | conda_jaxcpu_dsps_py310 | 2023-11-10  | \n",
    "\n",
    "\n",
    "libraries \n",
    "=========\n",
    "\n",
    "jax\n",
    "---\n",
    "\n",
    "- jaxlib-0.3.25+cuda11.cudnn82\n",
    "- jaxopt\n",
    "- optax\n",
    "- corner\n",
    "- arviz\n",
    "- numpyro\n",
    "\n",
    "sps\n",
    "---\n",
    "\n",
    "- fsps\n",
    "- prospect\n",
    "- dsps\n",
    "- diffstar\n",
    "- diffmah\n",
    "\n",
    "\n",
    "\n",
    "(conda_jax0325_py310) \n",
    "`/pbs/throng/lsst/users/dagoret/desc/StellarPopulationSynthesis>pip list | grep` \n",
    "\n",
    "| lib | version |\n",
    "|--- | --- | \n",
    "|jax  |                         0.4.20 |\n",
    "|jaxlib |                       0.4.20 |\n",
    "|jaxopt  |                      0.8.2 |\n",
    "\n",
    "\n",
    "    \n",
    " "
   ]
  },
  {
   "cell_type": "markdown",
   "id": "d6e1f04f-aa82-4686-806d-950fbb01eaee",
   "metadata": {},
   "source": [
    "https://dsps.readthedocs.io/en/latest/dsps_quickstart.html"
   ]
  },
  {
   "cell_type": "markdown",
   "id": "6e889775-c972-4168-a893-27d1afc22dcd",
   "metadata": {},
   "source": [
    "This demo notebook begins by downloading the DSPS default option for the SSP spectral library. These data are stored at this URL in a flat hdf5 file with column names as expected by the dsps.load_ssp_templates function, which we will demonstrate below.\n",
    "\n",
    "When downloading and storing SSP libraries, you can optionally use the DSPS_DRN environment variable to specify the default location where DSPS will look for SSP libraries. But here we’ll just save the downloaded data to tempdata.h5, directly pass the filename to the data loader. The load_ssp_templates that we’ll use to load these SSPs is just a convenience function - all of the DSPS functions that we’ll demonstrate in this notebook accept plain arrays and floats as inputs, and so you can store your SSP data on disk in whatever format you like."
   ]
  },
  {
   "cell_type": "code",
   "execution_count": null,
   "id": "359cd771-7055-4a5d-b09a-5fbc68daf626",
   "metadata": {},
   "outputs": [],
   "source": [
    "import matplotlib.pyplot as plt\n",
    "import matplotlib as mpl\n",
    "%matplotlib inline\n",
    "import matplotlib.colors as colors\n",
    "import matplotlib.cm as cmx\n",
    "from matplotlib.backends.backend_pdf import PdfPages\n",
    "import copy"
   ]
  },
  {
   "cell_type": "code",
   "execution_count": null,
   "id": "5ad1915a-8cfb-43f7-82f1-1a68c2a7073f",
   "metadata": {
    "tags": []
   },
   "outputs": [],
   "source": [
    "plt.rcParams[\"figure.figsize\"] = (12,6)\n",
    "plt.rcParams[\"axes.labelsize\"] = 'xx-large'\n",
    "plt.rcParams['axes.titlesize'] = 'xx-large'\n",
    "plt.rcParams['xtick.labelsize']= 'xx-large'\n",
    "plt.rcParams['ytick.labelsize']= 'xx-large'\n",
    "plt.rcParams['legend.fontsize']=  12\n",
    "plt.rcParams['font.size'] = 12"
   ]
  },
  {
   "cell_type": "code",
   "execution_count": null,
   "id": "ef4d81c5-f65a-4de5-b932-25fa42589973",
   "metadata": {},
   "outputs": [],
   "source": [
    "import numpy as np"
   ]
  },
  {
   "cell_type": "markdown",
   "id": "302abf18-f53e-4319-85ff-3650757789a7",
   "metadata": {},
   "source": [
    "## Inspect the SSP data¶"
   ]
  },
  {
   "cell_type": "code",
   "execution_count": null,
   "id": "8378385d-6482-4ede-a417-00b157a45941",
   "metadata": {},
   "outputs": [],
   "source": [
    "#! curl https://portal.nersc.gov/project/hacc/aphearin/DSPS_data/ssp_data_fsps_v3.2_lgmet_age.h5 > tempdata.h5\n",
    "#! curl https://portal.nersc.gov/project/hacc/aphearin/DSPS_data/ssp_data_continuum_fsps_v3.2_lgmet_age.h5 > tempdata_v2.h5"
   ]
  },
  {
   "cell_type": "code",
   "execution_count": null,
   "id": "feb5de0e-809c-4b13-ad2c-293b143adbc0",
   "metadata": {},
   "outputs": [],
   "source": [
    "from dsps import load_ssp_templates\n",
    "#ssp_data = load_ssp_templates(fn='tempdata_v2.h5')\n",
    "ssp_data = load_ssp_templates(fn='tempdata.h5')\n",
    "\n",
    "print(ssp_data._fields)\n",
    "\n",
    "print('\\nssp_lgmet.shape = {}'.format(ssp_data.ssp_lgmet.shape))\n",
    "print('ssp_lg_age_gyr.shape = {}'.format(ssp_data.ssp_lg_age_gyr.shape))\n",
    "print('ssp_wave.shape = {}'.format(ssp_data.ssp_wave.shape))\n",
    "print('ssp_flux.shape = {}'.format(ssp_data.ssp_flux.shape))"
   ]
  },
  {
   "cell_type": "code",
   "execution_count": null,
   "id": "645f6898-f1c7-4d95-8879-9051c5fa4437",
   "metadata": {},
   "outputs": [],
   "source": [
    "from dsps import calc_rest_sed_sfh_table_lognormal_mdf\n",
    "from dsps import calc_rest_sed_sfh_table_met_table\n",
    "from dsps.cosmology import age_at_z, DEFAULT_COSMOLOGY"
   ]
  },
  {
   "cell_type": "code",
   "execution_count": null,
   "id": "0f86d062-f390-4e1e-bd54-3f67844061e7",
   "metadata": {},
   "outputs": [],
   "source": [
    "ssp_data.ssp_lgmet"
   ]
  },
  {
   "cell_type": "code",
   "execution_count": null,
   "id": "7cd62f6a-69ad-4c2d-9d7c-00065991f882",
   "metadata": {},
   "outputs": [],
   "source": [
    "ssp_data.ssp_lg_age_gyr"
   ]
  },
  {
   "cell_type": "markdown",
   "id": "b3b783c3-4f7a-4eb5-af44-6b8a9c636953",
   "metadata": {},
   "source": [
    "The returned ssp_data is a namedtuple storing 4 ndarrays for the age-metallicity grid of the SSP spectra. Galaxy SEDs are calculated via probability-weighted sums of these spectral templates. For a galaxy observed at some, we’ll calculate the restframe SED of two different models in the cells below:\n",
    "\n",
    "    a galaxy with a tabulated star formation history (SFH), and metallicity Z distributed as a lognormal about some median Z, using the calc_rest_sed_sfh_table_lognormal_mdf function.\n",
    "\n",
    "    a galaxy with SFH table and also tabulated history of metallicity (ZH), using the calc_rest_sed_sfh_table_met_table function.\n",
    "\n",
    "In the cells below, we’ll randomly generate an SFH and ZH for a galaxy, and then plot the results."
   ]
  },
  {
   "cell_type": "markdown",
   "id": "4a8d3e85-9254-4e5e-af6f-e6a5f0554671",
   "metadata": {},
   "source": [
    "## Explore L_SPS"
   ]
  },
  {
   "cell_type": "code",
   "execution_count": null,
   "id": "c30a95c0-735d-4a92-a093-d4edb6810c1f",
   "metadata": {},
   "outputs": [],
   "source": [
    "# two mutually exclusive flags to see if we can provide SFR for t> tobs\n",
    "# both flags can be True of False at the same time, but no selection on tobs will be done\n",
    "FLAG_CUT_BELOW_TOBS = True\n",
    "FLAG_CUT_AFTER_TOBS = False\n",
    "FLAG_SET_YLIM = True"
   ]
  },
  {
   "cell_type": "code",
   "execution_count": null,
   "id": "f7a328f7-53a9-45b7-86d4-cfe62ee3823f",
   "metadata": {},
   "outputs": [],
   "source": [
    "import numpy as np\n",
    "# table of ages in 100 bins in linear scale from 50 millions to 13.8 billions years\n",
    "gal_t_table = np.linspace(0.05, 13.8, 100) # age of the universe in Gyr\n",
    "\n",
    "# must put a true SFR using package diffstar\n",
    "gal_sfr_table = np.zeros(len(gal_t_table)) # SFR in Msun/yr\n",
    "\n",
    "# metallicity\n",
    "gal_lgmet = -1.0 # log10(Z)\n",
    "gal_lgmet_scatter = 0.2 # lognormal scatter in the metallicity distribution function\n",
    "\n",
    "gal_lgmet_table = np.zeros(len(gal_t_table)) + gal_lgmet"
   ]
  },
  {
   "cell_type": "code",
   "execution_count": null,
   "id": "e2184fe1-109a-468c-8fd2-7bf5a267bf04",
   "metadata": {},
   "outputs": [],
   "source": [
    "NBSPECTRA = len(gal_t_table)\n",
    "# wavelength bin colors\n",
    "jet = plt.get_cmap('jet')\n",
    "cmap_reversed = jet.reversed()\n",
    "cNorm = colors.Normalize(vmin=0, vmax=NBSPECTRA)\n",
    "scalarMap = cmx.ScalarMappable(norm=cNorm, cmap=cmap_reversed)\n",
    "all_colors = scalarMap.to_rgba(np.arange(NBSPECTRA), alpha=1)"
   ]
  },
  {
   "cell_type": "markdown",
   "id": "de2f0abd-5c14-4ab0-9e80-dfa85df9854e",
   "metadata": {},
   "source": [
    "The SED calculating functions require you specify the time of the observation, t_obs, rather than the redshift, z_obs. We’ll use the age_at_z function in dsps.cosmology to calculate the relationship between these two quantities, assuming the default redshift of DSPS. You could also use this same function to compute gal_t_table in case your input SFH is tabulated as a function of redshift."
   ]
  },
  {
   "cell_type": "code",
   "execution_count": null,
   "id": "1ec4ee0a-d4da-4287-8a01-b6c60795fcf9",
   "metadata": {},
   "outputs": [],
   "source": [
    "# defining the list of redshits/tobs\n",
    "#all_redshifts = [0., 0.1, 0.5, 1.0, 3., 5.]\n",
    "all_redshifts = [0., 1.0]"
   ]
  },
  {
   "cell_type": "code",
   "execution_count": null,
   "id": "3d4f50a4-7501-4645-8bfb-aa9069530cc7",
   "metadata": {},
   "outputs": [],
   "source": [
    "# empty containers to start\n",
    "all_sedinfos_for_allredshifts = []\n",
    "all_sedinrestframe_for_allredshifts = []\n",
    "all_sedtitles_for_allredshifts = []\n",
    "all_sedtobs = []\n",
    "\n",
    "\n",
    "for redshift in all_redshifts:\n",
    "    \n",
    "    # info\n",
    "    # =====\n",
    "    z_obs = redshift\n",
    "    t_obs = age_at_z(z_obs, *DEFAULT_COSMOLOGY) # age of the universe in Gyr at z_obs, we cant see for t> t_obs\n",
    "    t_obs = t_obs[0] # age_at_z function returns an array, but SED functions accept a float for this argument\n",
    "    \n",
    "    if FLAG_CUT_BELOW_TOBS:\n",
    "        the_title = f\"z_obs = {z_obs:.2f}, t_obs = {t_obs:.2f} Gyr, log(Z) = {gal_lgmet}, SFR before tobs\"\n",
    "    elif FLAG_CUT_AFTER_TOBS:\n",
    "        the_title = f\"z_obs = {z_obs:.2f}, t_obs = {t_obs:.2f} Gyr, log(Z) = {gal_lgmet}, SFR after tobs\"\n",
    "    elif FLAG_CUT_AFTER_TOBS ==  FLAG_CUT_BELOW_TOBS:\n",
    "        the_title = f\"z_obs = {z_obs:.2f}, t_obs = {t_obs:.2f} Gyr, log(Z) = {gal_lgmet}, SFR before and after tobs\"\n",
    "    \n",
    "    # save title and tobs for that redshift\n",
    "    all_sedtitles_for_allredshifts.append(the_title)\n",
    "    all_sedtobs.append(t_obs)\n",
    "    \n",
    "    # Compute spectra\n",
    "    # ==============\n",
    "    all_sed_infos  = []\n",
    "    all_sfr = []\n",
    "\n",
    "    # loop on all ages stored in the gal_t_table (some age are above the current age of the universe\n",
    "    for idx,time in enumerate(gal_t_table):\n",
    "              \n",
    "            \n",
    "        #gal_sfr_table = np.zeros(len(gal_t_table)) # SFR in Msun/yr\n",
    "        # validate one dirac peak in the SFR table to have the spectrum of the star population born at that time and have this age (indec,time)\n",
    "        gal_sfr_table[idx] = 1.0\n",
    "    \n",
    "        all_sfr.append(copy.deepcopy(gal_sfr_table))\n",
    "    \n",
    "        # get the SED for that star population at that age\n",
    "        sed_info = calc_rest_sed_sfh_table_lognormal_mdf(\n",
    "        gal_t_table, gal_sfr_table, gal_lgmet, gal_lgmet_scatter,\n",
    "        ssp_data.ssp_lgmet, ssp_data.ssp_lg_age_gyr, ssp_data.ssp_flux, t_obs)\n",
    "        all_sed_infos.append(sed_info) \n",
    "    \n",
    "        sed_info2 = calc_rest_sed_sfh_table_met_table(\n",
    "        gal_t_table, gal_sfr_table, gal_lgmet_table, gal_lgmet_scatter,\n",
    "        ssp_data.ssp_lgmet, ssp_data.ssp_lg_age_gyr, ssp_data.ssp_flux, t_obs)\n",
    "    \n",
    "        # reset all population at this age (index,time)\n",
    "        gal_sfr_table[idx] = 0.0\n",
    "    \n",
    "    # Save all SED infos for that redshift\n",
    "    # Only take the first calculation in sed_info, not that one calculated in sed_info2\n",
    "    all_sedinfos_for_allredshifts.append(copy.deepcopy(all_sed_infos))\n",
    "    \n",
    "    # Plot\n",
    "    #=====\n",
    "    fig, axs = plt.subplots(1, 2,figsize=(18,5))\n",
    "\n",
    "    ax1=axs[0]\n",
    "    for idx,time in enumerate(gal_t_table):\n",
    "        ax1.plot(gal_t_table, all_sfr[idx],\"-\",color=all_colors[idx])\n",
    "    ax1.set_xlabel(\"age of the universe in Gyr\")\n",
    "    ax1.set_ylabel(\"SFR\")\n",
    "    ax1.axvline(t_obs,color=\"k\",lw=3)\n",
    "    ax1.axvspan(t_obs,13.8,color=\"grey\",alpha=0.5)\n",
    "\n",
    "    ax2=axs[1]\n",
    "    __=ax2.loglog()\n",
    "    \n",
    "    all_sedinrestframe = []\n",
    "    for idx,time in enumerate(gal_t_table):\n",
    "        if FLAG_CUT_BELOW_TOBS and time < t_obs:\n",
    "            ax2.plot(ssp_data.ssp_wave, all_sed_infos[idx].rest_sed,\"-\",color=all_colors[idx],lw=0.5)\n",
    "            all_sedinrestframe.append(copy.deepcopy(all_sed_infos[idx].rest_sed))\n",
    "        elif FLAG_CUT_AFTER_TOBS and time > t_obs:\n",
    "            ax2.plot(ssp_data.ssp_wave, all_sed_infos[idx].rest_sed,\"-\",color=all_colors[idx],lw=0.5)\n",
    "            all_sedinrestframe.append(copy.deepcopy(all_sed_infos[idx].rest_sed))\n",
    "        elif FLAG_CUT_BELOW_TOBS == FLAG_CUT_AFTER_TOBS:\n",
    "            ax2.plot(ssp_data.ssp_wave, all_sed_infos[idx].rest_sed,\"-\",color=all_colors[idx],lw=0.5)\n",
    "            all_sedinrestframe.append(copy.deepcopy(all_sed_infos[idx].rest_sed))\n",
    "    \n",
    "    # save all SEDs at all tobs for that redshift\n",
    "    all_sedinrestframe_for_allredshifts.append(all_sedinrestframe)\n",
    "    \n",
    "    if FLAG_SET_YLIM:\n",
    "        ax2.set_ylim(1e-12,1e-5)\n",
    "    ax2.grid()\n",
    "    ax2.set_xlabel(\"$\\lambda (\\\\AA)$\")\n",
    "    ax2.set_ylabel(\"$L_\\\\nu(\\lambda)$\")\n",
    "    \n",
    "    \n",
    "    plt.tight_layout()\n",
    "    plt.suptitle(the_title,y=1.05,fontsize=20,fontweight=\"bold\")\n",
    "    "
   ]
  },
  {
   "cell_type": "code",
   "execution_count": null,
   "id": "4e7da17c-a514-4a4b-ae78-c0a229df3067",
   "metadata": {},
   "outputs": [],
   "source": [
    "\n",
    "def SaveFigSpectraInPdf(nbspecperpage=6):\n",
    "    \n",
    "    Nspec= len(all_redshifts) # also all_sedinfos_for_allredshifts\n",
    "    \n",
    "    Nbpages = np.ceil(Nspec/nbspecperpage)\n",
    "    idx_inpage = nbspecperpage\n",
    "    idx_pagenum = 0\n",
    "    idx = 0\n",
    "    \n",
    "    all_composed_figs = []\n",
    "    \n",
    "    # loop on redshifts\n",
    "    for index in range(Nspec): \n",
    "        \n",
    "        idx = index\n",
    "        t_obs = all_sedtobs[idx]\n",
    "        \n",
    "        # get index on spectrum\n",
    "        textstr = all_sedtitles_for_allredshifts[idx]\n",
    "        #all_sed_inrestframe = all_sedinrestframe_for_allredshifts[idx]\n",
    "        all_sedinfos = all_sedinfos_for_allredshifts[idx]\n",
    "   \n",
    "        # if we need to start a new page\n",
    "        if idx_inpage == nbspecperpage:\n",
    "            idx_inpage = 1  # start at the first row in the page from 1 to nbspecperpage\n",
    "            idx_pagenum += 1  # increase page counter\n",
    "            \n",
    "            # this trigger the saving of the whole figure (including all spectra of the page)\n",
    "            if idx_pagenum > 1:\n",
    "                plt.show()\n",
    "                all_composed_figs.append(fig)\n",
    "            \n",
    "            # this create a new page of figure \n",
    "            fig=plt.figure(figsize=(18,20))\n",
    "            \n",
    "        \n",
    "            \n",
    "        # this is not a new page, need to increase the row number inside this page from 1 to nbspecperpage    \n",
    "        else:\n",
    "            idx_inpage += 1   \n",
    "        \n",
    "        # index of the figure in the page\n",
    "        idx_fig = 2*(idx_inpage-1)+1\n",
    "        \n",
    "        print(f\"\\t \\t  SaveFigSpectraInPdf >>>>>>>>  spec num = {index}, pagenum = {idx_pagenum}/{Nbpages}, idx_inpage = {idx_inpage}, idx_fig = {idx_fig}\")        \n",
    "       \n",
    "    \n",
    "       \n",
    "        \n",
    "        # left image, two columns\n",
    "        ax1 = fig.add_subplot(nbspecperpage, 2, idx_fig)\n",
    "        # loop on all ages\n",
    "        for idx1,time in enumerate(gal_t_table):\n",
    "            ax1.plot(gal_t_table, all_sfr[idx1],\"-\",color=all_colors[idx1])\n",
    "        ax1.set_xlabel(\"age of the universe in Gyr\")\n",
    "        ax1.set_ylabel(\"SFR\")\n",
    "        ax1.axvline(all_sedtobs[index],color=\"k\",lw=3)\n",
    "        ax1.axvspan(t_obs,13.8,color=\"grey\",alpha=0.5)\n",
    "\n",
    "    \n",
    "        #right image, to columns\n",
    "        \n",
    "        # Get the spectrum info for that redshift         \n",
    "        #all_sedinfos = all_sedinfos_for_allredshifts[index]\n",
    "        label =  all_sedtitles_for_allredshifts[index]\n",
    "        \n",
    "        \n",
    "        \n",
    "        \n",
    "        ax2 = fig.add_subplot(nbspecperpage, 2, idx_fig+1)\n",
    "        \n",
    "        __=ax2.loglog()\n",
    "    \n",
    "        # loop on ages\n",
    "        for idx1,time in enumerate(gal_t_table):\n",
    "                \n",
    "            if FLAG_CUT_BELOW_TOBS and time < t_obs:\n",
    "                ax2.plot(ssp_data.ssp_wave, all_sedinfos[idx1].rest_sed,\"-\",color=all_colors[idx1],lw=0.5)\n",
    "            elif FLAG_CUT_AFTER_TOBS and time > t_obs:\n",
    "                ax2.plot(ssp_data.ssp_wave, all_sedinfos[idx1].rest_sed,\"-\",color=all_colors[idx1],lw=0.5)\n",
    "            elif FLAG_CUT_BELOW_TOBS  == FLAG_CUT_AFTER_TOBS:\n",
    "                ax2.plot(ssp_data.ssp_wave, all_sedinfos[idx1].rest_sed,\"-\",color=all_colors[idx1],lw=0.5)\n",
    "            \n",
    "        if FLAG_SET_YLIM:\n",
    "            ax2.set_ylim(1e-12,1e-5)\n",
    "        \n",
    "        ax2.grid()\n",
    "        ax2.set_xlabel(\"$\\lambda (\\\\AA)$\")\n",
    "        ax2.set_ylabel(\"$L_\\\\nu(\\lambda)$\")\n",
    "        ax2.set_title(label)\n",
    "        \n",
    "             \n",
    "    all_composed_figs.append(fig)                       \n",
    "    return  all_composed_figs\n",
    "    "
   ]
  },
  {
   "cell_type": "code",
   "execution_count": null,
   "id": "0508af1e-e7dd-4167-898d-28178b6922b9",
   "metadata": {},
   "outputs": [],
   "source": [
    "all_figs = SaveFigSpectraInPdf(nbspecperpage=6)"
   ]
  },
  {
   "cell_type": "code",
   "execution_count": null,
   "id": "805a3ccf-569a-42f6-bea2-83a6ad90320b",
   "metadata": {},
   "outputs": [],
   "source": [
    "if FLAG_CUT_BELOW_TOBS and not FLAG_CUT_AFTER_TOBS:\n",
    "    multipage_pdf_file = f'multipage_pdf_galaxyspectra_sfrbeforetobs.pdf'\n",
    "elif FLAG_CUT_AFTER_TOBS and not FLAG_CUT_BELOW_TOBS:\n",
    "    multipage_pdf_file = f'multipage_pdf_galaxyspectra_sfraftertobs.pdf'\n",
    "elif FLAG_CUT_BELOW_TOBS == FLAG_CUT_AFTER_TOBS:\n",
    "    multipage_pdf_file = f'multipage_pdf_galaxyspectra_sfrbeforeandaftertobs.pdf'\n"
   ]
  },
  {
   "cell_type": "code",
   "execution_count": null,
   "id": "234b4029-5e09-42ca-a4f4-b666e781c169",
   "metadata": {},
   "outputs": [],
   "source": [
    "# gerate a multipage pdf:\n",
    "with PdfPages(multipage_pdf_file) as pdf:\n",
    "    for fig in all_figs:\n",
    "        pdf.savefig(fig)\n",
    "        plt.close()"
   ]
  },
  {
   "cell_type": "code",
   "execution_count": null,
   "id": "fa7ed478-bab3-4d00-93ff-009fe2a52040",
   "metadata": {
    "tags": []
   },
   "outputs": [],
   "source": [
    "all_figs"
   ]
  }
 ],
 "metadata": {
  "kernelspec": {
   "display_name": "conda_jaxcpu_dsps_py310",
   "language": "python",
   "name": "conda_jaxcpu_dsps_py310"
  },
  "language_info": {
   "codemirror_mode": {
    "name": "ipython",
    "version": 3
   },
   "file_extension": ".py",
   "mimetype": "text/x-python",
   "name": "python",
   "nbconvert_exporter": "python",
   "pygments_lexer": "ipython3",
   "version": "3.10.13"
  }
 },
 "nbformat": 4,
 "nbformat_minor": 5
}
