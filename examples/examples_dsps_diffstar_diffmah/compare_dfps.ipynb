{
 "cells": [
  {
   "cell_type": "markdown",
   "id": "da1a9f5e-9bc3-4ca1-b70b-d8bc8d40273b",
   "metadata": {},
   "source": [
    "# Quickstart Guide to DSPS¶\n",
    "\n",
    "- adapted by SDC from https://github.com/ArgonneCPAC/dsps/blob/main/docs/source/dsps_quickstart.ipynb\n",
    "-  CCIN2P3 on K80 GPU\n",
    "- conda environnment : conda_jax0325\n",
    "- creation date : 2023/09/26\n",
    "- last update  : 2023/11/10\n",
    "\n",
    "    pip install --upgrade  \"jax[cuda11_cudnn82]\"=='0.3.25' \"jaxlib\"=='0.3.25' -f https://storage.googleapis.com/jax-releases/jax_cuda_releases.html\n",
    "    python -m pip install \"jax[cuda11_cudnn82]\"  \"jaxlib[cuda11_cudnn82]\"\n",
    "    \n",
    "    \n",
    "    \n",
    "| computer | processor | kernel              |    date     |\n",
    "| --- | --- | --- | --- |\n",
    "| CC       | CPU       | conda_jax0325_py310 | 2023-11-10  |\n",
    "| macbookpro | CPU | conda_jaxcpu_py310 | 2023-11-10 |\n",
    "\n",
    "\n",
    "\n",
    "libraries @CC\n",
    "=============\n",
    "\n",
    "- jaxlib-0.3.25+cuda11.cudnn82\n",
    "- jaxopt\n",
    "- optax\n",
    "- corner\n",
    "- arviz\n",
    "- numpyro\n",
    "\n",
    "\n",
    "\n",
    "\n",
    "(conda_jax0325_py310) \n",
    "`/pbs/throng/lsst/users/dagoret/desc/StellarPopulationSynthesis>pip list | grep` \n",
    "\n",
    "| lib | version |\n",
    "|--- | --- | \n",
    "|jax  |                         0.4.20 |\n",
    "|jaxlib |                       0.4.20 |\n",
    "|jaxopt  |                      0.8.2 |    \n",
    "\n",
    "\n",
    "Libraries\n"
   ]
  },
  {
   "cell_type": "markdown",
   "id": "d6e1f04f-aa82-4686-806d-950fbb01eaee",
   "metadata": {},
   "source": [
    "https://dsps.readthedocs.io/en/latest/dsps_quickstart.html"
   ]
  },
  {
   "cell_type": "markdown",
   "id": "6e889775-c972-4168-a893-27d1afc22dcd",
   "metadata": {},
   "source": [
    "This demo notebook begins by downloading the DSPS default option for the SSP spectral library. These data are stored at this URL in a flat hdf5 file with column names as expected by the dsps.load_ssp_templates function, which we will demonstrate below.\n",
    "\n",
    "When downloading and storing SSP libraries, you can optionally use the DSPS_DRN environment variable to specify the default location where DSPS will look for SSP libraries. But here we’ll just save the downloaded data to tempdata.h5, directly pass the filename to the data loader. The load_ssp_templates that we’ll use to load these SSPs is just a convenience function - all of the DSPS functions that we’ll demonstrate in this notebook accept plain arrays and floats as inputs, and so you can store your SSP data on disk in whatever format you like."
   ]
  },
  {
   "cell_type": "code",
   "execution_count": 1,
   "id": "620de337-681c-4419-930e-5cc943a7b035",
   "metadata": {},
   "outputs": [
    {
     "data": {
      "text/plain": [
       "[CpuDevice(id=0)]"
      ]
     },
     "execution_count": 1,
     "metadata": {},
     "output_type": "execute_result"
    }
   ],
   "source": [
    "import jax\n",
    "jax.devices()"
   ]
  },
  {
   "cell_type": "markdown",
   "id": "302abf18-f53e-4319-85ff-3650757789a7",
   "metadata": {},
   "source": [
    "## Inspect the SSP data¶"
   ]
  },
  {
   "cell_type": "code",
   "execution_count": 2,
   "id": "8378385d-6482-4ede-a417-00b157a45941",
   "metadata": {},
   "outputs": [],
   "source": [
    "#! curl https://portal.nersc.gov/project/hacc/aphearin/DSPS_data/ssp_data_fsps_v3.2_lgmet_age.h5 > tempdata.h5\n",
    "#! curl https://portal.nersc.gov/project/hacc/aphearin/DSPS_data/ssp_data_continuum_fsps_v3.2_lgmet_age.h5 > tempdata_v2.h5"
   ]
  },
  {
   "cell_type": "code",
   "execution_count": 3,
   "id": "feb5de0e-809c-4b13-ad2c-293b143adbc0",
   "metadata": {},
   "outputs": [
    {
     "name": "stdout",
     "output_type": "stream",
     "text": [
      "('ssp_lgmet', 'ssp_lg_age_gyr', 'ssp_wave', 'ssp_flux')\n",
      "\n",
      "ssp_lgmet.shape = (12,)\n",
      "ssp_lg_age_gyr.shape = (107,)\n",
      "ssp_wave.shape = (5994,)\n",
      "ssp_flux.shape = (12, 107, 5994)\n"
     ]
    }
   ],
   "source": [
    "from dsps import load_ssp_templates\n",
    "ssp_data_b = load_ssp_templates(fn='tempdata_v2.h5')\n",
    "ssp_data = load_ssp_templates(fn='tempdata.h5')\n",
    "\n",
    "print(ssp_data._fields)\n",
    "\n",
    "print('\\nssp_lgmet.shape = {}'.format(ssp_data.ssp_lgmet.shape))\n",
    "print('ssp_lg_age_gyr.shape = {}'.format(ssp_data.ssp_lg_age_gyr.shape))\n",
    "print('ssp_wave.shape = {}'.format(ssp_data.ssp_wave.shape))\n",
    "print('ssp_flux.shape = {}'.format(ssp_data.ssp_flux.shape))"
   ]
  },
  {
   "cell_type": "code",
   "execution_count": 4,
   "id": "0f86d062-f390-4e1e-bd54-3f67844061e7",
   "metadata": {},
   "outputs": [
    {
     "data": {
      "text/plain": [
       "array([-4.34771165, -3.84771165, -3.59771165, -3.34771165, -3.09771165,\n",
       "       -2.84771165, -2.59771165, -2.34771165, -2.09771165, -1.84771165,\n",
       "       -1.59771165, -1.34771165])"
      ]
     },
     "execution_count": 4,
     "metadata": {},
     "output_type": "execute_result"
    }
   ],
   "source": [
    "ssp_data.ssp_lgmet"
   ]
  },
  {
   "cell_type": "code",
   "execution_count": 5,
   "id": "7cd62f6a-69ad-4c2d-9d7c-00065991f882",
   "metadata": {},
   "outputs": [
    {
     "data": {
      "text/plain": [
       "array([-4.  , -3.95, -3.9 , -3.85, -3.8 , -3.75, -3.7 , -3.65, -3.6 ,\n",
       "       -3.55, -3.5 , -3.45, -3.4 , -3.35, -3.3 , -3.25, -3.2 , -3.15,\n",
       "       -3.1 , -3.05, -3.  , -2.95, -2.9 , -2.85, -2.8 , -2.75, -2.7 ,\n",
       "       -2.65, -2.6 , -2.55, -2.5 , -2.45, -2.4 , -2.35, -2.3 , -2.25,\n",
       "       -2.2 , -2.15, -2.1 , -2.05, -2.  , -1.95, -1.9 , -1.85, -1.8 ,\n",
       "       -1.75, -1.7 , -1.65, -1.6 , -1.55, -1.5 , -1.45, -1.4 , -1.35,\n",
       "       -1.3 , -1.25, -1.2 , -1.15, -1.1 , -1.05, -1.  , -0.95, -0.9 ,\n",
       "       -0.85, -0.8 , -0.75, -0.7 , -0.65, -0.6 , -0.55, -0.5 , -0.45,\n",
       "       -0.4 , -0.35, -0.3 , -0.25, -0.2 , -0.15, -0.1 , -0.05,  0.  ,\n",
       "        0.05,  0.1 ,  0.15,  0.2 ,  0.25,  0.3 ,  0.35,  0.4 ,  0.45,\n",
       "        0.5 ,  0.55,  0.6 ,  0.65,  0.7 ,  0.75,  0.8 ,  0.85,  0.9 ,\n",
       "        0.95,  1.  ,  1.05,  1.1 ,  1.15,  1.2 ,  1.25,  1.3 ])"
      ]
     },
     "execution_count": 5,
     "metadata": {},
     "output_type": "execute_result"
    }
   ],
   "source": [
    "ssp_data.ssp_lg_age_gyr"
   ]
  },
  {
   "cell_type": "markdown",
   "id": "b3b783c3-4f7a-4eb5-af44-6b8a9c636953",
   "metadata": {},
   "source": [
    "The returned ssp_data is a namedtuple storing 4 ndarrays for the age-metallicity grid of the SSP spectra. Galaxy SEDs are calculated via probability-weighted sums of these spectral templates. For a galaxy observed at some, we’ll calculate the restframe SED of two different models in the cells below:\n",
    "\n",
    "    a galaxy with a tabulated star formation history (SFH), and metallicity Z distributed as a lognormal about some median Z, using the calc_rest_sed_sfh_table_lognormal_mdf function.\n",
    "\n",
    "    a galaxy with SFH table and also tabulated history of metallicity (ZH), using the calc_rest_sed_sfh_table_met_table function.\n",
    "\n",
    "In the cells below, we’ll randomly generate an SFH and ZH for a galaxy, and then plot the results."
   ]
  },
  {
   "cell_type": "code",
   "execution_count": 6,
   "id": "f7a328f7-53a9-45b7-86d4-cfe62ee3823f",
   "metadata": {},
   "outputs": [],
   "source": [
    "import numpy as np\n",
    "\n",
    "gal_t_table = np.linspace(0.05, 13.8, 100) # age of the universe in Gyr\n",
    "gal_sfr_table = np.random.uniform(0, 10, gal_t_table.size) # SFR in Msun/yr\n",
    "\n",
    "gal_lgmet = -2.0 # log10(Z)\n",
    "gal_lgmet_scatter = 0.2 # lognormal scatter in the metallicity distribution function\n"
   ]
  },
  {
   "cell_type": "markdown",
   "id": "de2f0abd-5c14-4ab0-9e80-dfa85df9854e",
   "metadata": {},
   "source": [
    "The SED calculating functions require you specify the time of the observation, t_obs, rather than the redshift, z_obs. We’ll use the age_at_z function in dsps.cosmology to calculate the relationship between these two quantities, assuming the default redshift of DSPS. You could also use this same function to compute gal_t_table in case your input SFH is tabulated as a function of redshift."
   ]
  },
  {
   "cell_type": "code",
   "execution_count": 7,
   "id": "8f9fe110-8f83-426f-9b23-2ef0300baee6",
   "metadata": {},
   "outputs": [
    {
     "name": "stdout",
     "output_type": "stream",
     "text": [
      "CosmoParams(Om0=0.3075, w0=-1.0, wa=0.0, h=0.6774)\n"
     ]
    }
   ],
   "source": [
    "from dsps.cosmology import age_at_z, DEFAULT_COSMOLOGY\n",
    "\n",
    "print(DEFAULT_COSMOLOGY)\n",
    "\n",
    "z_obs = 0.5\n",
    "t_obs = age_at_z(z_obs, *DEFAULT_COSMOLOGY) # age of the universe in Gyr at z_obs\n",
    "t_obs = t_obs[0] # age_at_z function returns an array, but SED functions accept a float for this argument"
   ]
  },
  {
   "cell_type": "code",
   "execution_count": 8,
   "id": "022b5b40-192a-4b42-a940-807c782ec9c8",
   "metadata": {},
   "outputs": [],
   "source": [
    "from dsps import calc_rest_sed_sfh_table_lognormal_mdf\n",
    "from dsps import calc_rest_sed_sfh_table_met_table\n",
    "\n",
    "sed_info = calc_rest_sed_sfh_table_lognormal_mdf(\n",
    "    gal_t_table, gal_sfr_table, gal_lgmet, gal_lgmet_scatter,\n",
    "    ssp_data.ssp_lgmet, ssp_data.ssp_lg_age_gyr, ssp_data.ssp_flux, t_obs)\n",
    "\n",
    "\n",
    "gal_lgmet_table = np.linspace(-3, -2, gal_t_table.size)\n",
    "\n",
    "sed_info2 = calc_rest_sed_sfh_table_met_table(\n",
    "    gal_t_table, gal_sfr_table, gal_lgmet_table, gal_lgmet_scatter,\n",
    "    ssp_data.ssp_lgmet, ssp_data.ssp_lg_age_gyr, ssp_data.ssp_flux, t_obs)"
   ]
  },
  {
   "cell_type": "code",
   "execution_count": 9,
   "id": "cc7709d0-7bb4-4394-8a55-4a5d8b08eb9f",
   "metadata": {},
   "outputs": [],
   "source": [
    "sed_info3 = calc_rest_sed_sfh_table_lognormal_mdf(\n",
    "    gal_t_table, gal_sfr_table, gal_lgmet, gal_lgmet_scatter,\n",
    "    ssp_data_b.ssp_lgmet, ssp_data_b.ssp_lg_age_gyr, ssp_data_b.ssp_flux, t_obs)\n",
    "\n",
    "\n",
    "gal_lgmet_table_b = np.linspace(-3, -2, gal_t_table.size)\n",
    "\n",
    "sed_info4 = calc_rest_sed_sfh_table_met_table(\n",
    "    gal_t_table, gal_sfr_table, gal_lgmet_table, gal_lgmet_scatter,\n",
    "    ssp_data_b.ssp_lgmet, ssp_data_b.ssp_lg_age_gyr, ssp_data_b.ssp_flux, t_obs)"
   ]
  },
  {
   "cell_type": "code",
   "execution_count": 10,
   "id": "d5dc0a9c-efcd-4db7-8945-1484b6fdb482",
   "metadata": {},
   "outputs": [],
   "source": [
    "# calc_rest_sed_sfh_table_lognormal_mdf?"
   ]
  },
  {
   "cell_type": "code",
   "execution_count": 11,
   "id": "f872a8e2-4eb6-4a2f-ad46-bc90310f42cb",
   "metadata": {},
   "outputs": [
    {
     "data": {
      "text/plain": [
       "Text(0.5, 0, '$\\\\lambda  (\\\\AA)$')"
      ]
     },
     "execution_count": 11,
     "metadata": {},
     "output_type": "execute_result"
    },
    {
     "data": {
      "image/png": "[encoded data removed]",
      "text/plain": [
       "<Figure size 640x480 with 1 Axes>"
      ]
     },
     "metadata": {},
     "output_type": "display_data"
    }
   ],
   "source": [
    "from matplotlib import pyplot as plt\n",
    "\n",
    "fig, ax = plt.subplots(1, 1)\n",
    "__=ax.loglog()\n",
    "__=ax.plot(ssp_data.ssp_wave, sed_info.rest_sed,'b-',label=\"emission lines\")\n",
    "__=ax.plot(ssp_data.ssp_wave, sed_info2.rest_sed,'b:')\n",
    "\n",
    "__=ax.plot(ssp_data_b.ssp_wave, sed_info3.rest_sed,'r-',label='continuum')\n",
    "__=ax.plot(ssp_data_b.ssp_wave, sed_info4.rest_sed,'r:')\n",
    "\n",
    "ax.legend()\n",
    "ax.set_title(\"SED with different metallicities histories\")\n",
    "ax.set_xlabel(\"$\\lambda  (\\\\AA)$\")"
   ]
  },
  {
   "cell_type": "markdown",
   "id": "25e8cf76-4685-4265-93c3-f06b65df83cb",
   "metadata": {},
   "source": [
    "## Calculating photometry"
   ]
  },
  {
   "cell_type": "markdown",
   "id": "3664b730-07c2-4577-a046-f4158cb4baf3",
   "metadata": {},
   "source": [
    "Now we’ll use dsps.photometry to calculate the apparent and absolute magnitudes of an SED observed through a broadband filter. One additional ingredient we need for this calculation is the transmission curve of some filter. For this, we’ll download one from the same public URL where we previously downloaded the SSP spectra, and just write the result to a temporary file. But the load_transmission_curve function also supports the use of the DSPS_DRN environment variable in case you want DSPS to remember your default data location. The only difference is that you should store your transmission curves in the filters subdirectory of DSPS_DRN. And as above, you can also ignore this data-loading convenience function and store your transmission curves wherever you like and in whatever format you prefer."
   ]
  },
  {
   "cell_type": "code",
   "execution_count": 12,
   "id": "92a24188-f8ce-4b4e-80ec-1a9ffe3a72ba",
   "metadata": {},
   "outputs": [],
   "source": [
    "#! curl https://portal.nersc.gov/project/hacc/aphearin/DSPS_data/filters/lsst_g_transmission.h5 > tempfilter.h5"
   ]
  },
  {
   "cell_type": "code",
   "execution_count": 13,
   "id": "75871826-216d-4e02-8b3f-aa9a1877f6b5",
   "metadata": {},
   "outputs": [
    {
     "name": "stdout",
     "output_type": "stream",
     "text": [
      "('wave', 'transmission')\n",
      "\n",
      "lsst_g.wave.shape = (1806,)\n",
      "lsst_g.transmission.shape = (1806,)\n"
     ]
    }
   ],
   "source": [
    "from dsps import load_transmission_curve\n",
    "lsst_g = load_transmission_curve(fn=\"tempfilter.h5\")\n",
    "\n",
    "print(lsst_g._fields)\n",
    "\n",
    "print('\\nlsst_g.wave.shape = {}'.format(lsst_g.wave.shape))\n",
    "print('lsst_g.transmission.shape = {}'.format(lsst_g.transmission.shape))"
   ]
  },
  {
   "cell_type": "code",
   "execution_count": 14,
   "id": "59b0c85b-d4e2-41b6-8825-9145ccc36e8d",
   "metadata": {},
   "outputs": [
    {
     "data": {
      "text/plain": [
       "[<matplotlib.lines.Line2D at 0x17d620250>]"
      ]
     },
     "execution_count": 14,
     "metadata": {},
     "output_type": "execute_result"
    },
    {
     "data": {
      "image/png": "[encoded data removed]",
      "text/plain": [
       "<Figure size 640x480 with 1 Axes>"
      ]
     },
     "metadata": {},
     "output_type": "display_data"
    }
   ],
   "source": [
    "plt.plot(lsst_g.wave,lsst_g.transmission)"
   ]
  },
  {
   "cell_type": "markdown",
   "id": "79200bc2-33f3-478a-b31e-b6d0f7ff906f",
   "metadata": {},
   "source": [
    "## Calculating absolute magnitude"
   ]
  },
  {
   "cell_type": "markdown",
   "id": "6be53b06-c543-4bed-8d1e-ed07423d36f8",
   "metadata": {},
   "source": [
    "Since we have already calculated above the restframe SED at the time the galaxy is observed, then we can directly integrate the SED against the filter transmission curve to compute the absolute magnitude of the galaxy."
   ]
  },
  {
   "cell_type": "code",
   "execution_count": 15,
   "id": "0d88959e-49b8-40a7-87d9-e6d7247114ad",
   "metadata": {},
   "outputs": [],
   "source": [
    "from dsps import calc_rest_mag\n",
    "rest_mag = calc_rest_mag(ssp_data.ssp_wave, sed_info.rest_sed, lsst_g.wave, lsst_g.transmission)"
   ]
  },
  {
   "cell_type": "markdown",
   "id": "10ebecba-f4e4-4f88-a347-4104d50a0df1",
   "metadata": {},
   "source": [
    "## Calculating apparent magnitude"
   ]
  },
  {
   "cell_type": "markdown",
   "id": "d6b9751e-1f70-4d28-842f-8cf270037adc",
   "metadata": {},
   "source": [
    "To calculate the apparent magnitude, we need to redshift the SED and also apply the appropriate cosmological dimming factor to the restframe flux. These calculations are done under-the-hood with the flat_wcdm.py module in dsps.cosmology, and so we just need to pass in the same cosmological parameters used above to calculate t_obs from z_obs."
   ]
  },
  {
   "cell_type": "code",
   "execution_count": 16,
   "id": "7509d1db-ae54-42c8-91f5-b0a9df8330f6",
   "metadata": {},
   "outputs": [],
   "source": [
    "from dsps import calc_obs_mag\n",
    "\n",
    "obs_mag = calc_obs_mag(ssp_data.ssp_wave, sed_info.rest_sed, lsst_g.wave, lsst_g.transmission,\n",
    "                      z_obs, *DEFAULT_COSMOLOGY)"
   ]
  },
  {
   "cell_type": "code",
   "execution_count": 17,
   "id": "7ead7ce3-3df9-400a-8900-39923fe54a90",
   "metadata": {},
   "outputs": [
    {
     "data": {
      "text/plain": [
       "Array(22.384605, dtype=float32)"
      ]
     },
     "execution_count": 17,
     "metadata": {},
     "output_type": "execute_result"
    }
   ],
   "source": [
    "obs_mag"
   ]
  },
  {
   "cell_type": "code",
   "execution_count": 18,
   "id": "319df69d-5623-4a16-8b77-e21817126b02",
   "metadata": {},
   "outputs": [
    {
     "data": {
      "text/plain": [
       "\u001b[0;31mSignature:\u001b[0m     \n",
       "\u001b[0mcalc_obs_mag\u001b[0m\u001b[0;34m(\u001b[0m\u001b[0;34m\u001b[0m\n",
       "\u001b[0;34m\u001b[0m    \u001b[0mwave_spec_rest\u001b[0m\u001b[0;34m,\u001b[0m\u001b[0;34m\u001b[0m\n",
       "\u001b[0;34m\u001b[0m    \u001b[0mlum_spec\u001b[0m\u001b[0;34m,\u001b[0m\u001b[0;34m\u001b[0m\n",
       "\u001b[0;34m\u001b[0m    \u001b[0mwave_filter\u001b[0m\u001b[0;34m,\u001b[0m\u001b[0;34m\u001b[0m\n",
       "\u001b[0;34m\u001b[0m    \u001b[0mtrans_filter\u001b[0m\u001b[0;34m,\u001b[0m\u001b[0;34m\u001b[0m\n",
       "\u001b[0;34m\u001b[0m    \u001b[0mredshift\u001b[0m\u001b[0;34m,\u001b[0m\u001b[0;34m\u001b[0m\n",
       "\u001b[0;34m\u001b[0m    \u001b[0mOm0\u001b[0m\u001b[0;34m,\u001b[0m\u001b[0;34m\u001b[0m\n",
       "\u001b[0;34m\u001b[0m    \u001b[0mw0\u001b[0m\u001b[0;34m,\u001b[0m\u001b[0;34m\u001b[0m\n",
       "\u001b[0;34m\u001b[0m    \u001b[0mwa\u001b[0m\u001b[0;34m,\u001b[0m\u001b[0;34m\u001b[0m\n",
       "\u001b[0;34m\u001b[0m    \u001b[0mh\u001b[0m\u001b[0;34m,\u001b[0m\u001b[0;34m\u001b[0m\n",
       "\u001b[0;34m\u001b[0m\u001b[0;34m)\u001b[0m\u001b[0;34m\u001b[0m\u001b[0;34m\u001b[0m\u001b[0m\n",
       "\u001b[0;31mCall signature:\u001b[0m \u001b[0mcalc_obs_mag\u001b[0m\u001b[0;34m(\u001b[0m\u001b[0;34m*\u001b[0m\u001b[0margs\u001b[0m\u001b[0;34m,\u001b[0m \u001b[0;34m**\u001b[0m\u001b[0mkwargs\u001b[0m\u001b[0;34m)\u001b[0m\u001b[0;34m\u001b[0m\u001b[0;34m\u001b[0m\u001b[0m\n",
       "\u001b[0;31mType:\u001b[0m           PjitFunction\n",
       "\u001b[0;31mString form:\u001b[0m    <PjitFunction of <function calc_obs_mag at 0x14eaa3c70>>\n",
       "\u001b[0;31mFile:\u001b[0m           ~/anaconda3/envs/conda_jaxcpu_dsps_py310/lib/python3.10/site-packages/dsps/photometry/photometry_kernels.py\n",
       "\u001b[0;31mDocstring:\u001b[0m     \n",
       "Calculate the apparent magnitude of an SED observed through a filter\n",
       "\n",
       "Parameters\n",
       "----------\n",
       "wave_spec_rest : ndarray of shape (n_wave, )\n",
       "\n",
       "lum_spec : ndarray of shape (n_wave, )\n",
       "\n",
       "wave_filter : ndarray of shape (n_filter_wave, )\n",
       "\n",
       "trans_filter : ndarray of shape (n_filter_wave, )\n",
       "\n",
       "redshift : float\n",
       "\n",
       "Om0 : float\n",
       "\n",
       "w0 : float\n",
       "\n",
       "wa : float\n",
       "\n",
       "h : float\n",
       "\n",
       "Returns\n",
       "-------\n",
       "obs_mag : float"
      ]
     },
     "metadata": {},
     "output_type": "display_data"
    }
   ],
   "source": [
    "calc_obs_mag?"
   ]
  },
  {
   "cell_type": "code",
   "execution_count": null,
   "id": "4e7da17c-a514-4a4b-ae78-c0a229df3067",
   "metadata": {},
   "outputs": [],
   "source": []
  }
 ],
 "metadata": {
  "kernelspec": {
   "display_name": "conda_jaxcpu_dsps_py310",
   "language": "python",
   "name": "conda_jaxcpu_dsps_py310"
  },
  "language_info": {
   "codemirror_mode": {
    "name": "ipython",
    "version": 3
   },
   "file_extension": ".py",
   "mimetype": "text/x-python",
   "name": "python",
   "nbconvert_exporter": "python",
   "pygments_lexer": "ipython3",
   "version": "3.10.13"
  }
 },
 "nbformat": 4,
 "nbformat_minor": 5
}
