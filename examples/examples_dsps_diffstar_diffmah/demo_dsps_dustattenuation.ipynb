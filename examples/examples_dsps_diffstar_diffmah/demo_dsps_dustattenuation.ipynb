{
 "cells": [
  {
   "cell_type": "markdown",
   "id": "671acef3-6c4d-4f69-9ab6-f2018d7075f8",
   "metadata": {},
   "source": [
    "# Dust attenuation in  DSPS\n",
    "\n",
    "- adapted by SDC from \n",
    "-  CCIN2P3 on K80 GPU\n",
    "- conda environnment : conda_jax0325_py310\n",
    "- creation date : 2023/09/27\n",
    "- last update  : 2023/09/27\n",
    "\n",
    "    pip install --upgrade  \"jax[cuda11_cudnn82]\"=='0.3.25' \"jaxlib\"=='0.3.25' -f https://storage.googleapis.com/jax-releases/jax_cuda_releases.html\n",
    "    \n",
    "    python -m pip install \"jax[cuda11_cudnn82]\"  \"jaxlib[cuda11_cudnn82]\""
   ]
  },
  {
   "cell_type": "code",
   "execution_count": 1,
   "id": "6f060bac-c913-428f-84b4-646bb2bfab8a",
   "metadata": {},
   "outputs": [],
   "source": [
    "import matplotlib.pyplot as plt\n",
    "%matplotlib inline\n",
    "\n",
    "plt.rcParams[\"figure.figsize\"] = (14,6)\n",
    "plt.rcParams[\"axes.labelsize\"] = 'xx-large'\n",
    "plt.rcParams['axes.titlesize'] = 'xx-large'\n",
    "plt.rcParams['xtick.labelsize']= 'xx-large'\n",
    "plt.rcParams['ytick.labelsize']= 'xx-large'\n",
    "\n",
    "import numpy as np"
   ]
  },
  {
   "cell_type": "markdown",
   "id": "7b9f47ea-5f09-4b11-80bd-24215f7ec326",
   "metadata": {},
   "source": [
    "# SED with DSPS using previous SFR"
   ]
  },
  {
   "cell_type": "code",
   "execution_count": 2,
   "id": "e44523b9-95b6-44e2-9560-7174b535aa9a",
   "metadata": {},
   "outputs": [
    {
     "name": "stderr",
     "output_type": "stream",
     "text": [
      "2023-09-28 11:06:12.159673: W external/org_tensorflow/tensorflow/compiler/xla/service/gpu/nvptx_compiler.cc:497] The NVIDIA driver's CUDA version is 11.3 which is older than the ptxas CUDA version (11.4.152). Because the driver is older than the ptxas version, XLA is disabling parallel compilation, which may slow down compilation. You should update your NVIDIA driver or use the NVIDIA-provided CUDA forward compatibility packages.\n"
     ]
    }
   ],
   "source": [
    "from dsps.dust.att_curves import _frac_transmission_from_k_lambda,_l02_below_c00_above,power_law_vband_norm\n",
    "from dsps.dust.att_curves import noll09_k_att_curve,noll09_k_lambda,sbl18_k_att_curve,sbl18_k_lambda\n",
    "from dsps.dust.att_curves import calzetti00_att_curve,leitherer02_att_curve,calzetti00_k_lambda\n",
    "from dsps.dust.att_curves import leitherer02_k_lambda,triweight_k_lambda,_att_curve_from_k_lambda\n",
    "from dsps.dust.att_curves import _drude_bump,_get_eb_from_delta"
   ]
  },
  {
   "cell_type": "code",
   "execution_count": null,
   "id": "01acec3e-9c18-4006-9e6f-2db393d3e8a3",
   "metadata": {},
   "outputs": [],
   "source": []
  },
  {
   "cell_type": "code",
   "execution_count": null,
   "id": "97ef5453-fb9b-4ba4-a7c7-4b95ab044649",
   "metadata": {},
   "outputs": [],
   "source": []
  }
 ],
 "metadata": {
  "kernelspec": {
   "display_name": "conda_jax0325_py310",
   "language": "python",
   "name": "conda_jax0325_py310"
  },
  "language_info": {
   "codemirror_mode": {
    "name": "ipython",
    "version": 3
   },
   "file_extension": ".py",
   "mimetype": "text/x-python",
   "name": "python",
   "nbconvert_exporter": "python",
   "pygments_lexer": "ipython3",
   "version": "3.10.12"
  }
 },
 "nbformat": 4,
 "nbformat_minor": 5
}
