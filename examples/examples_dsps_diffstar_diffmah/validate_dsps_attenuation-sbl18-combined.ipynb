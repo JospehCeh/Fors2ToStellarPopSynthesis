{
 "cells": [
  {
   "cell_type": "markdown",
   "id": "575dc032-b19f-428a-af17-cc5257e0a2c6",
   "metadata": {
    "tags": []
   },
   "source": [
    "# Validate DSPS attenuation curves from Salim\n",
    "\n",
    "- adapted by SDC from https://github.com/ArgonneCPAC/dsps/blob/main/notebooks/validate_dsps_attenuation.ipynb\n",
    "-  CCIN2P3 on K80 GPU\n",
    "- conda environnment : conda_jax0325_py310\n",
    "- creation date : 2023/09/29\n",
    "- last update  : 2023/11/10\n",
    "\n",
    "    pip install --upgrade  \"jax[cuda11_cudnn82]\"=='0.3.25' \"jaxlib\"=='0.3.25' -f https://storage.googleapis.com/jax-releases/jax_cuda_releases.html\n",
    "    \n",
    "    python -m pip install \"jax[cuda11_cudnn82]\"  \"jaxlib[cuda11_cudnn82]\"\n",
    "    \n",
    "   \n",
    "    \n",
    "| computer | processor | kernel              |    date     |\n",
    "| --- | --- | --- | --- |\n",
    "| CC       | CPU       | conda_jax0325_py310 | 2023-11-10  |\n",
    "\n",
    "\n",
    "\n",
    "libraries at CC\n",
    "===============\n",
    "\n",
    "- jaxlib-0.3.25+cuda11.cudnn82\n",
    "- jaxopt\n",
    "- optax\n",
    "- corner\n",
    "- arviz\n",
    "- numpyro\n",
    "\n",
    "\n",
    "\n",
    "\n",
    "(conda_jax0325_py310) \n",
    "`/pbs/throng/lsst/users/dagoret/desc/StellarPopulationSynthesis>pip list | grep` \n",
    "\n",
    "| lib | version |\n",
    "|--- | --- | \n",
    "|jax  |                         0.4.20 |\n",
    "|jaxlib |                       0.4.20 |\n",
    "ïjaxopt  |                      0.8.2 |    "
   ]
  },
  {
   "cell_type": "code",
   "execution_count": 1,
   "id": "7585e879",
   "metadata": {},
   "outputs": [],
   "source": [
    "import matplotlib.pyplot as plt\n",
    "import matplotlib.cm as cm\n",
    "from matplotlib import lines as mlines\n",
    "import numpy as np\n",
    "%matplotlib inline"
   ]
  },
  {
   "cell_type": "code",
   "execution_count": 2,
   "id": "8182a502",
   "metadata": {},
   "outputs": [],
   "source": [
    "import fsps\n",
    "\n",
    "LSST_BANDS = fsps.filters.find_filter('lsst')\n",
    "filter_wave_collector = [fsps.filters.get_filter(band).transmission[0] for band in LSST_BANDS]\n",
    "filter_trans_collector = [fsps.filters.get_filter(band).transmission[1] for band in LSST_BANDS]\n",
    "\n",
    "#def get_mags_and_spec(Av, zmet_indx=20):\n",
    "def get_mags_and_spec(Av, zmet_indx=10):\n",
    "    _sp = fsps.StellarPopulation(zcontinuous=0, zmet=zmet_indx, dust_type=2, dust2=Av, add_dust_emission=False)\n",
    "    _wave, _fluxes = _sp.get_spectrum(peraa=True)\n",
    "    _mags = _sp.get_mags(bands=LSST_BANDS)\n",
    "    return _wave, _fluxes, _mags\n"
   ]
  },
  {
   "cell_type": "code",
   "execution_count": null,
   "id": "30e13467",
   "metadata": {},
   "outputs": [],
   "source": [
    "avray = [0, 0.1, 0.25, 0.5, 1, 2, 4, 10]\n",
    "results = [get_mags_and_spec(av) for av in avray]\n",
    "spec_results = np.array([results[i][1] for i, av in enumerate(avray)])\n",
    "mag_results = np.array([results[i][2] for i, av in enumerate(avray)])\n",
    "\n",
    "wave_spec = results[0][0]"
   ]
  },
  {
   "cell_type": "code",
   "execution_count": null,
   "id": "d12eaacf",
   "metadata": {},
   "outputs": [],
   "source": [
    "#from dsps.attenuation_kernels import _flux_ratio, calzetti00_k_lambda, RV_C00\n",
    "#from dsps.dust.att_curves import _flux_ratio, calzetti00_k_lambda, RV_C00\n",
    "from dsps.dust.att_curves import  sbl18_k_lambda, RV_C00,_frac_transmission_from_k_lambda"
   ]
  },
  {
   "cell_type": "code",
   "execution_count": null,
   "id": "ed1693f3-a7c8-4f89-b3fb-468df4c991bd",
   "metadata": {},
   "outputs": [],
   "source": [
    "sbl18_k_lambda?"
   ]
  },
  {
   "cell_type": "code",
   "execution_count": null,
   "id": "b4602925-b12a-4ff7-8986-cbb187908dd0",
   "metadata": {},
   "outputs": [],
   "source": [
    "_frac_transmission_from_k_lambda?"
   ]
  },
  {
   "cell_type": "code",
   "execution_count": null,
   "id": "5e39af7f-941b-42ae-a78b-37b4d180f093",
   "metadata": {},
   "outputs": [],
   "source": [
    "uv_bump_ampl = 3\n",
    "plaw_slope = -0.5"
   ]
  },
  {
   "cell_type": "code",
   "execution_count": null,
   "id": "515acf9d",
   "metadata": {},
   "outputs": [],
   "source": [
    "colors=cm.coolwarm(np.linspace(0, 1, len(avray))) # red first\n",
    "\n",
    "mred = colors[-1]\n",
    "mblue = colors[-0]\n",
    "\n",
    "label_pat = \"Av = {0:.2f}\"\n",
    "\n",
    "fig, (ax0, ax1) = plt.subplots(2, 1, figsize=(6, 8), sharex=True)\n",
    "# fig.tight_layout(pad=3.0)\n",
    "fig.subplots_adjust(hspace=0)\n",
    "xlim = ax0.set_xlim(900, 5e4)\n",
    "#xlim = ax0.set_xlim(100, 5e4)\n",
    "ylim = ax0.set_ylim(1e-3, 2)\n",
    "ylim = ax1.set_ylim(-.25, 0.25)\n",
    "__=ax0.loglog()\n",
    "dsps_attenuation_collector = []\n",
    "\n",
    "for iav, av in enumerate(avray):\n",
    "    iage = 80\n",
    "    fsps_flux_ratio = spec_results[iav, iage, :] / spec_results[0, iage, :]\n",
    "    __=ax0.plot(wave_spec, fsps_flux_ratio, color=colors[iav])\n",
    "    \n",
    "    \n",
    "    wave_spec_micron = wave_spec/10_000\n",
    "    \n",
    "    #k = calzetti00_k_lambda(wave_spec_micron, RV_C00)\n",
    "    #k = calzetti00_k_lambda(wave_spec_micron)\n",
    "    k = sbl18_k_lambda(wave_spec_micron,uv_bump_ampl,plaw_slope)\n",
    "    \n",
    "    #dsps_flux_ratio = _flux_ratio(k, RV_C00, av)\n",
    "    dsps_flux_ratio = _frac_transmission_from_k_lambda(k,av)\n",
    "    __=ax0.plot(wave_spec, dsps_flux_ratio, '--', color=colors[iav])\n",
    "    dsps_attenuation_collector.append(dsps_flux_ratio)\n",
    "\n",
    "    __=ax1.plot(wave_spec, (dsps_flux_ratio - fsps_flux_ratio), color=colors[iav])\n",
    "    \n",
    "title = ax0.set_title(r'${\\rm attenuation\\ curve\\ validation}$')\n",
    "title = ax0.set_ylabel(r'$D(\\lambda)\\equiv F_{\\rm dust}/F_{\\rm no-dust}$')\n",
    "xlabel = ax1.set_xlabel(r'$\\lambda\\ [\\AA]$')\n",
    "xlabel = ax1.set_ylabel(r'$D_{\\rm DSPS}(\\lambda)-D_{\\rm FSPS}(\\lambda)$')\n",
    "\n",
    "\n",
    "red_line=mlines.Line2D([],[],ls='-',c=mred,label=r'$A_{\\rm V}=10$')\n",
    "blue_line=mlines.Line2D([],[],ls='-',c=mblue,label=r'$A_{\\rm V}=0$')\n",
    "solid_line=mlines.Line2D([],[],ls='-',c='k',label=r'${\\rm FSPS}$')\n",
    "dashed_line=mlines.Line2D([],[],ls='--',c='k',label=r'${\\rm DSPS}$')\n",
    "first_legend=ax0.legend(handles=[blue_line, red_line, dashed_line, solid_line])\n",
    "fig.savefig('dsps_attenuation_validation.png', bbox_extra_artists=[xlabel], bbox_inches='tight', dpi=200)"
   ]
  },
  {
   "cell_type": "code",
   "execution_count": null,
   "id": "1cdc96f8-fb39-41eb-9f44-c2aad73d6984",
   "metadata": {},
   "outputs": [],
   "source": []
  }
 ],
 "metadata": {
  "kernelspec": {
   "display_name": "conda_jax0325_py310",
   "language": "python",
   "name": "conda_jax0325_py310"
  },
  "language_info": {
   "codemirror_mode": {
    "name": "ipython",
    "version": 3
   },
   "file_extension": ".py",
   "mimetype": "text/x-python",
   "name": "python",
   "nbconvert_exporter": "python",
   "pygments_lexer": "ipython3",
   "version": "3.10.12"
  }
 },
 "nbformat": 4,
 "nbformat_minor": 5
}
