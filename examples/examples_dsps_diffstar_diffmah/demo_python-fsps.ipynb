{
 "cells": [
  {
   "cell_type": "markdown",
   "id": "54b3266c-fd2c-4de7-82f9-c02829107690",
   "metadata": {},
   "source": [
    "# Test python-fsps\n",
    "\n",
    "- adapted by SDC from https://dfm.io/python-fsps/current/stellarpop_api/#example\n",
    "-  CCIN2P3 CPU\n",
    "- conda environnment : conda_prospector_py310\n",
    "- and conda_jax0325_py310 on GPU\n",
    "- creation date : 2023/09/27\n",
    "- last update  : 2023/09/28\n"
   ]
  },
  {
   "cell_type": "markdown",
   "id": "a7e9bfcf-901a-4dcf-ba7f-77f369620910",
   "metadata": {},
   "source": [
    "Lets start by initializing a simple stellar population with solar metallicity and some dust with a Calzetti et al (2000) extinction curve:"
   ]
  },
  {
   "cell_type": "code",
   "execution_count": 1,
   "id": "6486b4f9-b7b7-4970-9f6a-fac14dfd48c3",
   "metadata": {},
   "outputs": [],
   "source": [
    "import matplotlib.pyplot as plt\n",
    "%matplotlib inline"
   ]
  },
  {
   "cell_type": "markdown",
   "id": "ccf84a8f-a923-4e8a-8f58-74380fd0778d",
   "metadata": {},
   "source": [
    "## Example"
   ]
  },
  {
   "cell_type": "code",
   "execution_count": 2,
   "id": "844d6ecc-d590-4a95-bfdd-94fe5a6474e9",
   "metadata": {},
   "outputs": [
    {
     "data": {
      "text/plain": [
       "(b'mist', b'miles', b'DL07  ')"
      ]
     },
     "execution_count": 2,
     "metadata": {},
     "output_type": "execute_result"
    }
   ],
   "source": [
    "import fsps\n",
    "\n",
    "sp = fsps.StellarPopulation(compute_vega_mags=False, zcontinuous=1,\n",
    "                                sfh=0, logzsol=0.0, dust_type=2, dust2=0.2)\n",
    "\n",
    "sp.libraries"
   ]
  },
  {
   "cell_type": "markdown",
   "id": "31edf3f6-9828-40c0-9ffe-448a6c73eb4b",
   "metadata": {},
   "source": [
    "The last line indicates that we are using the MIST isochrones and MILES spectral library. These can be changed only by reinstalling python-FSPS with appropriate flags.\n",
    "\n",
    "Let’s get the AB magnitudes in SDSS bands, for a simple stellar population (SSP) that is 13.7 Gyr old:"
   ]
  },
  {
   "cell_type": "code",
   "execution_count": 3,
   "id": "65e06950-e752-4b45-b4dc-eea662bf4599",
   "metadata": {},
   "outputs": [
    {
     "name": "stdout",
     "output_type": "stream",
     "text": [
      "['sdss_u', 'sdss_g', 'sdss_r', 'sdss_i', 'sdss_z']\n"
     ]
    },
    {
     "data": {
      "text/plain": [
       "array([9.86230134, 7.84737574, 6.96316166, 6.51453906, 6.09398344])"
      ]
     },
     "execution_count": 3,
     "metadata": {},
     "output_type": "execute_result"
    }
   ],
   "source": [
    "sdss_bands = fsps.find_filter('sdss')\n",
    "print(sdss_bands)\n",
    "sp.get_mags(tage=13.7, bands=sdss_bands)"
   ]
  },
  {
   "cell_type": "code",
   "execution_count": 4,
   "id": "8a2d785c-fe04-48d4-aeb0-6341ca28d9bb",
   "metadata": {},
   "outputs": [],
   "source": [
    "lsst_bands = fsps.find_filter('lsst')"
   ]
  },
  {
   "cell_type": "code",
   "execution_count": 5,
   "id": "3203ccb1-e4df-4313-9695-4f8e66a51050",
   "metadata": {},
   "outputs": [
    {
     "name": "stdout",
     "output_type": "stream",
     "text": [
      "['lsst_u', 'lsst_g', 'lsst_r', 'lsst_i', 'lsst_z', 'lsst_y']\n"
     ]
    },
    {
     "data": {
      "text/plain": [
       "array([9.68050862, 7.7744183 , 6.95326386, 6.49883844, 6.14877161,\n",
       "       5.93024905])"
      ]
     },
     "execution_count": 5,
     "metadata": {},
     "output_type": "execute_result"
    }
   ],
   "source": [
    "print(lsst_bands)\n",
    "sp.get_mags(tage=13.7, bands=lsst_bands)"
   ]
  },
  {
   "cell_type": "markdown",
   "id": "5ff15671-fa91-4f45-bd8f-ce1e17ebb34d",
   "metadata": {},
   "source": [
    "Now we can change a parameter (say, lower the metallicity) and get a new set of magnitudes:"
   ]
  },
  {
   "cell_type": "code",
   "execution_count": 6,
   "id": "d06d7d91-858d-41a9-8d33-eb9680f1d87e",
   "metadata": {},
   "outputs": [
    {
     "data": {
      "text/plain": [
       "array([8.5389731 , 7.07106274, 6.3978709 , 6.07857615, 5.87608107])"
      ]
     },
     "execution_count": 6,
     "metadata": {},
     "output_type": "execute_result"
    }
   ],
   "source": [
    "sp.params['logzsol'] = -1\n",
    "sp.get_mags(tage=13.7, bands=sdss_bands)"
   ]
  },
  {
   "cell_type": "markdown",
   "id": "8c4685fc-17de-42be-92c4-ee781270bd7b",
   "metadata": {},
   "source": [
    "We can also get the spectrum, here in units of $L_{\\odot}/Hz$ , as well as the total stellar mass formed by 13.7 Gyr and the surviving stellar mass at 13.7 Gyr (both in units of ):"
   ]
  },
  {
   "cell_type": "code",
   "execution_count": 7,
   "id": "3da4fa90-b119-4772-ad0e-1ec4db72ad79",
   "metadata": {},
   "outputs": [
    {
     "name": "stdout",
     "output_type": "stream",
     "text": [
      "1.0\n",
      "0.576965333567041\n"
     ]
    }
   ],
   "source": [
    "wave, spec = sp.get_spectrum(tage=13.7)\n",
    "\n",
    "print(sp.formed_mass)\n",
    "print(sp.stellar_mass)\n"
   ]
  },
  {
   "cell_type": "markdown",
   "id": "b7f7ee15-c669-4e91-870a-e50f17ec8465",
   "metadata": {},
   "source": [
    "It is highly recommended that only one instance of fsps.StellarPopulation be used in a given program."
   ]
  },
  {
   "cell_type": "code",
   "execution_count": 8,
   "id": "398fa04f-acc0-418f-9b19-9a68ae7ae9df",
   "metadata": {},
   "outputs": [
    {
     "data": {
      "text/plain": [
       "Text(0.5, 1.0, 'Spectrum at tage=13.7 Gy')"
      ]
     },
     "execution_count": 8,
     "metadata": {},
     "output_type": "execute_result"
    },
    {
     "data": {
      "image/png": "[encoded data removed]",
      "text/plain": [
       "<Figure size 640x480 with 1 Axes>"
      ]
     },
     "metadata": {},
     "output_type": "display_data"
    }
   ],
   "source": [
    "fig, ax = plt.subplots()\n",
    "ax.loglog(wave,spec,'b-')\n",
    "ax.set_ylim(1e-20,1e-13)\n",
    "ax.set_xlabel(\"$\\lambda (\\\\AA)$\")\n",
    "ax.set_title(\"Spectrum at tage=13.7 Gy\")"
   ]
  },
  {
   "cell_type": "markdown",
   "id": "e792c7ba-e0e0-4a24-aa1b-7fee553d4856",
   "metadata": {},
   "source": [
    "## Example using nebular emission"
   ]
  },
  {
   "cell_type": "markdown",
   "id": "6af08473-c0f0-4911-8662-9df28cc3cb9e",
   "metadata": {},
   "source": [
    "We initialize a simple stellar population and set the flag to include nebular emission:"
   ]
  },
  {
   "cell_type": "code",
   "execution_count": null,
   "id": "60b7811c-7365-4208-9fe0-69c5b2519b20",
   "metadata": {},
   "outputs": [],
   "source": [
    "sp = fsps.StellarPopulation(zcontinuous=1,add_neb_emission=1)"
   ]
  },
  {
   "cell_type": "markdown",
   "id": "fc0da9d2-10a3-4c3c-8d8b-08942a14f3ee",
   "metadata": {},
   "source": [
    "We can change the stellar metallicity, the gas phase metallicity, the gas ionization parameter, and then return the total spectrum at 1 Myr:"
   ]
  },
  {
   "cell_type": "code",
   "execution_count": null,
   "id": "dc8aa0fd-3ad6-41b7-991d-e82b470502df",
   "metadata": {},
   "outputs": [],
   "source": [
    "sp.params['logzsol'] = -1.0\n",
    "sp.params['gas_logz'] = -1.0\n",
    "sp.params['gas_logu'] = -2.5\n",
    "wave, spec = sp.get_spectrum(tage=0.001)"
   ]
  },
  {
   "cell_type": "code",
   "execution_count": null,
   "id": "46b6e61b-57a5-47a1-91be-773eb2a407dc",
   "metadata": {},
   "outputs": [],
   "source": [
    "fig, ax = plt.subplots()\n",
    "ax.loglog(wave,spec,'b-')\n",
    "#ax.set_ylim(1e-15,1e-11)\n",
    "ax.set_xlabel(\"$\\lambda (\\\\AA)$\")\n",
    "ax.set_title(\"Spectrum at tage=1 My\")"
   ]
  },
  {
   "cell_type": "markdown",
   "id": "8a1a7a42-2102-48c3-91a6-beed48e2b00d",
   "metadata": {},
   "source": [
    "Note: for the nebular model to be fully self-consistent, the gas phase metallicity and the stellar metallicity should be set to the same value. This effectively adds the emission spectrum to the same stellar spectrum that was used as the ionizing spectrum in Cloudy. If users choose to vary the gas phase metallicity at constant stellar metallicity, expect non-hydrogenic emission lines to be accurate within 1-15%.\n",
    "\n",
    "Emission line wavelengths and line luminosities can be accessed through the stellar population object:"
   ]
  },
  {
   "cell_type": "code",
   "execution_count": null,
   "id": "9554bd1c-8d03-47e1-9502-bff959fa8cc8",
   "metadata": {},
   "outputs": [],
   "source": [
    "#print(sp.emline_wavelengths)\n",
    "#print(sp.emline_luminosity)\n",
    "\n",
    "fig, ax = plt.subplots()\n",
    "ax.loglog(sp.emline_wavelengths,sp.emline_luminosity,'b.')\n",
    "#ax.set_ylim(1e-15,1e-11)\n",
    "ax.set_xlabel(\"$\\lambda (\\\\AA)$\")\n",
    "ax.set_title(\"Emission lines\")"
   ]
  },
  {
   "cell_type": "code",
   "execution_count": null,
   "id": "45939e3a-0ec7-4150-973b-7016250affa8",
   "metadata": {},
   "outputs": [],
   "source": []
  }
 ],
 "metadata": {
  "kernelspec": {
   "display_name": "conda_jax0325_py310",
   "language": "python",
   "name": "conda_jax0325_py310"
  },
  "language_info": {
   "codemirror_mode": {
    "name": "ipython",
    "version": 3
   },
   "file_extension": ".py",
   "mimetype": "text/x-python",
   "name": "python",
   "nbconvert_exporter": "python",
   "pygments_lexer": "ipython3",
   "version": "3.10.12"
  }
 },
 "nbformat": 4,
 "nbformat_minor": 5
}
