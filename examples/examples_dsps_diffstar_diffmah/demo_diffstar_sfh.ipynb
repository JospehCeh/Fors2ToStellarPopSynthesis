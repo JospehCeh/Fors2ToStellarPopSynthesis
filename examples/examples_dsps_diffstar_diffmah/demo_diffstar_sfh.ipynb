{
 "cells": [
  {
   "cell_type": "markdown",
   "id": "c56264ce-ce2a-4273-9d21-cac41d359caa",
   "metadata": {},
   "source": [
    "# Calculating SFH with Diffstar\n",
    "\n",
    "\n",
    "- adapted by SDC from https://github.com/ArgonneCPAC/diffstar/blob/main/docs/source/demo_diffstar_sfh.ipynb\n",
    "- CCIN2P3 on K80 GPU\n",
    "- conda environnment : conda_jax0325\n",
    "- creation date : 2023/09/26\n",
    "- last update  : 2023/11/10\n",
    "\n",
    "   pip install --upgrade  \"jax[cuda11_cudnn82]\"=='0.3.25' \"jaxlib\"=='0.3.25' -f https://storage.googleapis.com/jax-releases/jax_cuda_releases.html\n",
    "   python -m pip install \"jax[cuda11_cudnn82]\"  \"jaxlib[cuda11_cudnn82]\"\n",
    "   \n",
    "   \n",
    "   \n",
    "      pip install --upgrade  \"jax[cuda11_cudnn82]\"=='0.3.25' \"jaxlib\"=='0.3.25' -f https://storage.googleapis.com/jax-releases/jax_cuda_releases.html\n",
    "    python -m pip install \"jax[cuda11_cudnn82]\"  \"jaxlib[cuda11_cudnn82]\"\n",
    "    \n",
    "    \n",
    "    \n",
    "| computer | processor | kernel              |    date     |\n",
    "| --- | --- | --- | --- |\n",
    "| CC       | CPU       | conda_jax0325_py310 | 2023-11-10  |\n",
    "\n",
    "\n",
    "\n",
    "libraries \n",
    "=========\n",
    "\n",
    "- jaxlib-0.3.25+cuda11.cudnn82\n",
    "- jaxopt\n",
    "- optax\n",
    "- corner\n",
    "- arviz\n",
    "- numpyro\n",
    "\n",
    "\n",
    "\n",
    "\n",
    "(conda_jax0325_py310) \n",
    "`/pbs/throng/lsst/users/dagoret/desc/StellarPopulationSynthesis>pip list | grep` \n",
    "\n",
    "| lib | version |\n",
    "|--- | --- | \n",
    "|jax  |                         0.4.20 |\n",
    "|jaxlib |                       0.4.20 |\n",
    "ïjaxopt  |                      0.8.2 |    "
   ]
  },
  {
   "cell_type": "markdown",
   "id": "6ba6f015-c85d-4fbe-86dd-88bfd785a9fb",
   "metadata": {},
   "source": [
    "This notebook gives two basic illustrations of how to use diffstar to model the SFHs of individual and populations of galaxies.\n",
    "\n",
    "### SFH of an individual diffstar galaxy\n",
    "\n",
    "In the cell below, we'll grab the default diffmah and diffstar parameters, then we'l use the `sfh_singlegal` function to calculate the SFH."
   ]
  },
  {
   "cell_type": "code",
   "execution_count": null,
   "id": "762e2180",
   "metadata": {},
   "outputs": [],
   "source": [
    "import numpy as np\n",
    "from diffstar.defaults import DEFAULT_MAH_PARAMS\n",
    "from diffstar.defaults import DEFAULT_MS_PARAMS\n",
    "from diffstar.defaults import DEFAULT_Q_PARAMS\n",
    "\n",
    "today_gyr = 13.8 \n",
    "tarr = np.linspace(0.1, today_gyr, 100)"
   ]
  },
  {
   "cell_type": "code",
   "execution_count": null,
   "id": "050588d7-440f-4627-8b60-c088aa54c3a8",
   "metadata": {},
   "outputs": [],
   "source": [
    "print(\"SFR : 13 parameters\")"
   ]
  },
  {
   "cell_type": "code",
   "execution_count": null,
   "id": "439bd76b-eaae-4248-a12d-9a3bc6a547a8",
   "metadata": {},
   "outputs": [],
   "source": [
    "#mah_params = (lgm0, logtc, early_index, late_index)\n",
    "print('MAH 4 params (lgm0, logtc, early_index, late_index) : ',DEFAULT_MAH_PARAMS)"
   ]
  },
  {
   "cell_type": "code",
   "execution_count": null,
   "id": "2985f5a1-ca14-4a9b-bd1a-5e42332a622a",
   "metadata": {},
   "outputs": [],
   "source": [
    "#ms_params = (lgmcrit, lgy_at_mcrit, indx_lo, indx_hi, tau_dep)\n",
    "print('MS 5 params (lgmcrit, lgy_at_mcrit, indx_lo, indx_hi, tau_dep) : ' ,DEFAULT_MS_PARAMS)"
   ]
  },
  {
   "cell_type": "code",
   "execution_count": null,
   "id": "f7da1945-a32d-4161-aa21-31b6580a43c9",
   "metadata": {},
   "outputs": [],
   "source": [
    "# q_params (lg_qt, qlglgdt, lg_drop, lg_rejuv)\n",
    "print('Q 4 params (lg_qt, qlglgdt, lg_drop, lg_rejuv) : ',DEFAULT_Q_PARAMS)"
   ]
  },
  {
   "cell_type": "markdown",
   "id": "14be134a-a993-49ec-8f9e-fd1ee2bf7135",
   "metadata": {},
   "source": [
    "#### sfh_singlegal"
   ]
  },
  {
   "cell_type": "code",
   "execution_count": null,
   "id": "3d793eb0",
   "metadata": {},
   "outputs": [],
   "source": [
    "from diffstar import sfh_singlegal\n",
    "\n",
    "sfh_gal = sfh_singlegal(\n",
    "    tarr, DEFAULT_MAH_PARAMS, DEFAULT_MS_PARAMS, DEFAULT_Q_PARAMS)"
   ]
  },
  {
   "cell_type": "code",
   "execution_count": null,
   "id": "a7aa8397-8cce-4226-a55a-fdb005e22fba",
   "metadata": {},
   "outputs": [],
   "source": [
    "sfh_singlegal?"
   ]
  },
  {
   "cell_type": "markdown",
   "id": "ee664cae",
   "metadata": {},
   "source": [
    "### SFHs of a population of diffstar galaxies\n",
    "\n",
    "For purposes of this toy demonstration, we'll first create a small diffstar population by randomly adding noise to the default diffstar parameters."
   ]
  },
  {
   "cell_type": "code",
   "execution_count": null,
   "id": "de3e0c80",
   "metadata": {},
   "outputs": [],
   "source": [
    "n_gals = 10\n",
    "\n",
    "mah_params_galpop = np.tile(DEFAULT_MAH_PARAMS, n_gals)\n",
    "mah_params_galpop = mah_params_galpop.reshape((n_gals, -1))\n",
    "\n",
    "ms_params_galpop = np.tile(DEFAULT_MS_PARAMS, n_gals)\n",
    "ms_params_galpop = ms_params_galpop.reshape((n_gals, -1))\n",
    "\n",
    "q_params_galpop = np.tile(DEFAULT_Q_PARAMS, n_gals)\n",
    "q_params_galpop = q_params_galpop.reshape((n_gals, -1))\n",
    "\n",
    "ms_noise = np.random.normal(\n",
    "    loc=0, scale=0.25, size=(n_gals, DEFAULT_MS_PARAMS.size))\n",
    "\n",
    "ms_params_galpop = ms_params_galpop + ms_noise\n",
    "\n",
    "q_noise = np.random.normal(\n",
    "    loc=0, scale=0.1, size=(n_gals, DEFAULT_Q_PARAMS.size))\n",
    "\n",
    "q_params_galpop = q_params_galpop + q_noise"
   ]
  },
  {
   "cell_type": "code",
   "execution_count": null,
   "id": "4757e943-8456-473c-b9b0-45164d04b812",
   "metadata": {},
   "outputs": [],
   "source": [
    "print('MAH params (lgm0, logtc, early_index, late_index) : ')\n",
    "print(mah_params_galpop)"
   ]
  },
  {
   "cell_type": "code",
   "execution_count": null,
   "id": "a436997a-d6c2-4912-8b6f-fa544f81b754",
   "metadata": {},
   "outputs": [],
   "source": [
    "print('MS params (lgmcrit, lgy_at_mcrit, indx_lo, indx_hi, tau_dep) : ')\n",
    "print(ms_params_galpop)"
   ]
  },
  {
   "cell_type": "code",
   "execution_count": null,
   "id": "fca7c105-ec66-4542-a4cb-33960062cbcc",
   "metadata": {},
   "outputs": [],
   "source": [
    "print('Q params (lg_qt, qlglgdt, lg_drop, lg_rejuv) : ')\n",
    "print(q_params_galpop)"
   ]
  },
  {
   "cell_type": "markdown",
   "id": "4fb836f8-7e01-4585-bff2-748e0d597fbe",
   "metadata": {},
   "source": [
    "#### sfh_galpop"
   ]
  },
  {
   "cell_type": "markdown",
   "id": "4f1edbf7",
   "metadata": {},
   "source": [
    "The `sfh_galpop` calculates the SFH of an entire population at once. This calculation is vectorized with `jax.vmap` and so will be more efficient than a loop over successive calls to `sfh_singlegal`."
   ]
  },
  {
   "cell_type": "code",
   "execution_count": null,
   "id": "1025d1a5",
   "metadata": {},
   "outputs": [],
   "source": [
    "from diffstar import sfh_galpop\n",
    "\n",
    "sfh_pop = sfh_galpop(\n",
    "    tarr, mah_params_galpop, ms_params_galpop, q_params_galpop)"
   ]
  },
  {
   "cell_type": "code",
   "execution_count": null,
   "id": "0c4340dd-0e1d-48f2-8d7b-abfc024e93cd",
   "metadata": {},
   "outputs": [],
   "source": [
    "sfh_pop.shape"
   ]
  },
  {
   "cell_type": "code",
   "execution_count": null,
   "id": "c1671701",
   "metadata": {},
   "outputs": [],
   "source": [
    "from matplotlib import pyplot as plt\n",
    "\n",
    "fig, ax = plt.subplots(1, 1)\n",
    "ylim = ax.set_ylim(1e-3, 50)\n",
    "yscale = ax.set_yscale('log')\n",
    "\n",
    "__=ax.plot(tarr, sfh_gal, '--', color='k',label='sfh_gal')\n",
    "\n",
    "for igal in range(n_gals):\n",
    "    __=ax.plot(tarr, sfh_pop[igal, :])\n",
    "\n",
    "\n",
    "xlabel = ax.set_xlabel(r'${\\rm cosmic\\ time\\ [Gyr]}$')\n",
    "ylabel = ax.set_ylabel(r'${\\rm SFR\\ [M_{\\odot}/yr]}$')\n",
    "ax.legend()"
   ]
  },
  {
   "cell_type": "code",
   "execution_count": null,
   "id": "1b780056",
   "metadata": {},
   "outputs": [],
   "source": [
    "from matplotlib import pyplot as plt\n",
    "\n",
    "fig, ax = plt.subplots(1, 1)\n",
    "ylim = ax.set_ylim(1e-3, 50)\n",
    "#yscale = ax.set_yscale('log')\n",
    "\n",
    "__=ax.plot(tarr, sfh_gal, '--', color='k',label='sfh_gal',lw=2)\n",
    "\n",
    "for igal in range(n_gals):\n",
    "    __=ax.plot(tarr, sfh_pop[igal, :])\n",
    "\n",
    "\n",
    "xlabel = ax.set_xlabel(r'${\\rm cosmic\\ time\\ [Gyr]}$')\n",
    "ylabel = ax.set_ylabel(r'${\\rm SFR\\ [M_{\\odot}/yr]}$')\n",
    "ax.legend()\n",
    "ax.set_ylim(0,1.5)"
   ]
  },
  {
   "cell_type": "code",
   "execution_count": null,
   "id": "a4a87d22-eab5-435b-b6e9-70ea5d8cf3fb",
   "metadata": {},
   "outputs": [],
   "source": []
  }
 ],
 "metadata": {
  "kernelspec": {
   "display_name": "conda_jaxcpu_dsps_py310",
   "language": "python",
   "name": "conda_jaxcpu_dsps_py310"
  },
  "language_info": {
   "codemirror_mode": {
    "name": "ipython",
    "version": 3
   },
   "file_extension": ".py",
   "mimetype": "text/x-python",
   "name": "python",
   "nbconvert_exporter": "python",
   "pygments_lexer": "ipython3",
   "version": "3.10.13"
  }
 },
 "nbformat": 4,
 "nbformat_minor": 5
}
